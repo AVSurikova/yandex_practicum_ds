{
 "cells": [
  {
   "cell_type": "markdown",
   "metadata": {},
   "source": [
    "# Защита персональных данных клиентов"
   ]
  },
  {
   "cell_type": "markdown",
   "metadata": {},
   "source": [
    "Вам нужно защитить данные клиентов страховой компании «Хоть потоп». Разработайте такой метод преобразования данных, чтобы по ним было сложно восстановить персональную информацию. Обоснуйте корректность его работы.\n",
    "\n",
    "Нужно защитить данные, чтобы при преобразовании качество моделей машинного обучения не ухудшилось. Подбирать наилучшую модель не требуется.\n",
    "\n",
    "### Структура проекта\n",
    "\n",
    "1. Загрузка данных\n",
    "2. Умножение матриц\n",
    "3. Алгоритм преобразования\n",
    "4. Проверка алгоритма\n",
    "5. Итоговый вывод"
   ]
  },
  {
   "cell_type": "markdown",
   "metadata": {},
   "source": [
    "## 1. Загрузка данных"
   ]
  },
  {
   "cell_type": "code",
   "execution_count": 1,
   "metadata": {},
   "outputs": [],
   "source": [
    "import pandas as pd\n",
    "import numpy as np\n",
    "\n",
    "from sklearn.model_selection import train_test_split\n",
    "from sklearn.linear_model import LinearRegression\n",
    "from sklearn.metrics import r2_score"
   ]
  },
  {
   "cell_type": "code",
   "execution_count": 2,
   "metadata": {},
   "outputs": [],
   "source": [
    "# загружаем данные\n",
    "df = pd.read_csv('/datasets/insurance.csv')"
   ]
  },
  {
   "cell_type": "code",
   "execution_count": 3,
   "metadata": {
    "scrolled": false
   },
   "outputs": [
    {
     "name": "stdout",
     "output_type": "stream",
     "text": [
      "<class 'pandas.core.frame.DataFrame'>\n",
      "RangeIndex: 5000 entries, 0 to 4999\n",
      "Data columns (total 5 columns):\n",
      " #   Column             Non-Null Count  Dtype  \n",
      "---  ------             --------------  -----  \n",
      " 0   Пол                5000 non-null   int64  \n",
      " 1   Возраст            5000 non-null   float64\n",
      " 2   Зарплата           5000 non-null   float64\n",
      " 3   Члены семьи        5000 non-null   int64  \n",
      " 4   Страховые выплаты  5000 non-null   int64  \n",
      "dtypes: float64(2), int64(3)\n",
      "memory usage: 195.4 KB\n"
     ]
    },
    {
     "data": {
      "text/html": [
       "<div>\n",
       "<style scoped>\n",
       "    .dataframe tbody tr th:only-of-type {\n",
       "        vertical-align: middle;\n",
       "    }\n",
       "\n",
       "    .dataframe tbody tr th {\n",
       "        vertical-align: top;\n",
       "    }\n",
       "\n",
       "    .dataframe thead th {\n",
       "        text-align: right;\n",
       "    }\n",
       "</style>\n",
       "<table border=\"1\" class=\"dataframe\">\n",
       "  <thead>\n",
       "    <tr style=\"text-align: right;\">\n",
       "      <th></th>\n",
       "      <th>Пол</th>\n",
       "      <th>Возраст</th>\n",
       "      <th>Зарплата</th>\n",
       "      <th>Члены семьи</th>\n",
       "      <th>Страховые выплаты</th>\n",
       "    </tr>\n",
       "  </thead>\n",
       "  <tbody>\n",
       "    <tr>\n",
       "      <th>0</th>\n",
       "      <td>1</td>\n",
       "      <td>41.0</td>\n",
       "      <td>49600.0</td>\n",
       "      <td>1</td>\n",
       "      <td>0</td>\n",
       "    </tr>\n",
       "    <tr>\n",
       "      <th>1</th>\n",
       "      <td>0</td>\n",
       "      <td>46.0</td>\n",
       "      <td>38000.0</td>\n",
       "      <td>1</td>\n",
       "      <td>1</td>\n",
       "    </tr>\n",
       "    <tr>\n",
       "      <th>2</th>\n",
       "      <td>0</td>\n",
       "      <td>29.0</td>\n",
       "      <td>21000.0</td>\n",
       "      <td>0</td>\n",
       "      <td>0</td>\n",
       "    </tr>\n",
       "    <tr>\n",
       "      <th>3</th>\n",
       "      <td>0</td>\n",
       "      <td>21.0</td>\n",
       "      <td>41700.0</td>\n",
       "      <td>2</td>\n",
       "      <td>0</td>\n",
       "    </tr>\n",
       "    <tr>\n",
       "      <th>4</th>\n",
       "      <td>1</td>\n",
       "      <td>28.0</td>\n",
       "      <td>26100.0</td>\n",
       "      <td>0</td>\n",
       "      <td>0</td>\n",
       "    </tr>\n",
       "  </tbody>\n",
       "</table>\n",
       "</div>"
      ],
      "text/plain": [
       "   Пол  Возраст  Зарплата  Члены семьи  Страховые выплаты\n",
       "0    1     41.0   49600.0            1                  0\n",
       "1    0     46.0   38000.0            1                  1\n",
       "2    0     29.0   21000.0            0                  0\n",
       "3    0     21.0   41700.0            2                  0\n",
       "4    1     28.0   26100.0            0                  0"
      ]
     },
     "metadata": {},
     "output_type": "display_data"
    }
   ],
   "source": [
    "# выводим общую информацию по таблце и первые 5 строк\n",
    "df.info()\n",
    "display(df.head())"
   ]
  },
  {
   "cell_type": "markdown",
   "metadata": {},
   "source": [
    "* В таблице 5000 строк и 5 столбцов:\n",
    "    * 4 столбца - признаки;\n",
    "    * 1 столбец `'Страховые выплаты'` - целевой.\n",
    "* Пропущенные значения отсутствуют. Типы данных соответствуют хранящейся информации.\n",
    "* Проверим наличие дубликатов."
   ]
  },
  {
   "cell_type": "code",
   "execution_count": 4,
   "metadata": {},
   "outputs": [
    {
     "name": "stdout",
     "output_type": "stream",
     "text": [
      "Количество дубликатов: 153\n"
     ]
    }
   ],
   "source": [
    "print(f'Количество дубликатов: {df.duplicated().sum()}')"
   ]
  },
  {
   "cell_type": "markdown",
   "metadata": {},
   "source": [
    "Обнаружено 153 дублирующие строки, удалим их."
   ]
  },
  {
   "cell_type": "code",
   "execution_count": 5,
   "metadata": {},
   "outputs": [
    {
     "name": "stdout",
     "output_type": "stream",
     "text": [
      "Осталось строк: 4847\n"
     ]
    }
   ],
   "source": [
    "df.drop_duplicates(inplace=True)\n",
    "df.reset_index(drop=True, inplace=True)\n",
    "print(f'Осталось строк: {df.shape[0]}')"
   ]
  },
  {
   "cell_type": "markdown",
   "metadata": {},
   "source": [
    "## 2. Умножение матриц"
   ]
  },
  {
   "cell_type": "markdown",
   "metadata": {},
   "source": [
    "В этом задании вы можете записывать формулы в *Jupyter Notebook.*\n",
    "\n",
    "Чтобы записать формулу внутри текста, окружите её символами доллара \\\\$; если снаружи —  двойными символами \\\\$\\\\$. Эти формулы записываются на языке вёрстки *LaTeX.* \n",
    "\n",
    "Для примера мы записали формулы линейной регрессии. Можете их скопировать и отредактировать, чтобы решить задачу.\n",
    "\n",
    "Работать в *LaTeX* необязательно."
   ]
  },
  {
   "cell_type": "markdown",
   "metadata": {},
   "source": [
    "Обозначения:\n",
    "\n",
    "- $X$ — матрица признаков (нулевой столбец состоит из единиц)\n",
    "\n",
    "- $y$ — вектор целевого признака\n",
    "\n",
    "- $P$ — матрица, на которую умножаются признаки\n",
    "\n",
    "- $w$ — вектор весов линейной регрессии (нулевой элемент равен сдвигу)"
   ]
  },
  {
   "cell_type": "markdown",
   "metadata": {},
   "source": [
    "Предсказания:\n",
    "\n",
    "$$\n",
    "a = Xw\n",
    "$$\n",
    "\n",
    "Задача обучения:\n",
    "\n",
    "$$\n",
    "w = \\arg\\min_w MSE(Xw, y)\n",
    "$$\n",
    "\n",
    "Формула обучения:\n",
    "\n",
    "$$\n",
    "w = (X^T X)^{-1} X^T y\n",
    "$$"
   ]
  },
  {
   "cell_type": "markdown",
   "metadata": {},
   "source": [
    "**Вопрос:** Признаки умножают на обратимую матрицу. Изменится ли качество линейной регрессии?"
   ]
  },
  {
   "cell_type": "markdown",
   "metadata": {},
   "source": [
    "**Ответ:** не изменится.\n",
    "\n",
    "**Обоснование:**\n",
    "\n",
    "Допустим, \n",
    "\n",
    "$$\n",
    "X_1 = X P\n",
    "$$\n",
    "\n",
    "Вычислим, чему будет равено предсказание и вектор весов.\n",
    "\n",
    "$$\n",
    "w_1 = ((X_1)^T X_1)^{-1}(X_1)^T y = ((XP)^T XP)^{-1}(XP)^T y\n",
    "$$\n",
    "\n",
    "Используем свойство транспорнированной матрицы и раскроем внутренние скобки:\n",
    "\n",
    "$$\n",
    "w_1= (P^T X^T XP)^{-1} P^T X^T y\n",
    "$$\n",
    "\n",
    "Используем свойсво обратной матрицы и вынесем за скобки $P$ и $P^T$:\n",
    "\n",
    "$$\n",
    "w_1= P^{-1}(X^T X)^{-1} (P^T)^{-1} P^T X^T y\n",
    "$$\n",
    "\n",
    "Подставим получившееся выражение вектора $w_1$ в формулу предсказания $a_1 = XP w_1$.\n",
    "\n",
    "$$\n",
    "a_1 = XP P^{-1}(X^T X)^{-1} (P^T)^{-1} P^T X^T y\n",
    "$$\n",
    "\n",
    "\n",
    "Умножение приведет к $P P^{-1} = E$ и $(P^T)^{-1} P^T = E$. Умножение на единичную матрицу ничего не меняет. Тогда,\n",
    "\n",
    "$$\n",
    "a_1 = X(X^T X)^{-1} X^T y = X w = a\n",
    "$$\n",
    "\n",
    "\n",
    "Как видно, значение предсказания $a$ не меняется, если умножать матрицу признаков на обратимую матрицу."
   ]
  },
  {
   "cell_type": "markdown",
   "metadata": {},
   "source": [
    "## 3. Алгоритм преобразования"
   ]
  },
  {
   "cell_type": "markdown",
   "metadata": {},
   "source": [
    "**Алгоритм**\n",
    "\n",
    "Создадим случайную обратимую матрицу $P$, затем умножим матрицу с признаками $X$ на матрицу $P$.\n",
    "\n",
    "$$\n",
    "X * P = Z\n",
    "$$\n",
    "\n",
    "Для возврата к исходной матрице $X$, умножим новую матрицу $Z$ на обратную матрицу $P^{-1}$.\n",
    "\n",
    "$$\n",
    "Z * P^{-1} = X\n",
    "$$"
   ]
  },
  {
   "cell_type": "markdown",
   "metadata": {},
   "source": [
    "**Обоснование**\n",
    "\n",
    "Как было доказано в шаге 2, качество линейной регрессии не изменится при умножении матрицы признаков на любую обратимую матрицу P. Поэтому можно следовать описанному выше алгоритму без опасения получить другой результат линейной регрессии."
   ]
  },
  {
   "cell_type": "markdown",
   "metadata": {},
   "source": [
    "## 4. Проверка алгоритма"
   ]
  },
  {
   "cell_type": "markdown",
   "metadata": {},
   "source": [
    "* Обучим модель линейной регрессии на исходных данных и высчитаем метрику R2.\n",
    "* Создадим случайную матрицу нужного размера с помощью инструмента `random.normal` библиотеки `numpy` и преобразуем данные по вышеопределенному алгоритму.\n",
    "* Обучим модель линейной регрессии на преобразованных данных и высчитаем метрику R2.\n",
    "* Сравним метрики для двух моделей."
   ]
  },
  {
   "cell_type": "code",
   "execution_count": 6,
   "metadata": {},
   "outputs": [],
   "source": [
    "# делим выборку на целевой и остальные признаки\n",
    "features = df.drop('Страховые выплаты', axis=1)\n",
    "target = df['Страховые выплаты']"
   ]
  },
  {
   "cell_type": "code",
   "execution_count": 7,
   "metadata": {},
   "outputs": [],
   "source": [
    "# делим датасет на обучающую и тестовую выборки\n",
    "X, X_test, y, y_test = train_test_split(features, target, test_size=0.25, random_state=1505)"
   ]
  },
  {
   "cell_type": "code",
   "execution_count": 8,
   "metadata": {},
   "outputs": [
    {
     "name": "stdout",
     "output_type": "stream",
     "text": [
      "Значение метрики R2 на исходных данных: 0.44480062344521076\n"
     ]
    }
   ],
   "source": [
    "# инициируем модель линейной регрессии\n",
    "model = LinearRegression()\n",
    "model.fit(X, y)\n",
    "r2_origin_data = r2_score(y_test, model.predict(X_test))\n",
    "print(f'Значение метрики R2 на исходных данных: {r2_origin_data}')"
   ]
  },
  {
   "cell_type": "code",
   "execution_count": 9,
   "metadata": {
    "scrolled": true
   },
   "outputs": [
    {
     "data": {
      "text/plain": [
       "array([[ 0.57319379, -0.81825878,  0.66521545,  0.31481766],\n",
       "       [-0.28533325,  0.18761085, -0.94809787, -0.04025196],\n",
       "       [-1.45305087,  0.51873984, -0.10725015,  0.63848398],\n",
       "       [ 1.38141764, -0.6838156 ,  0.55524771,  0.56307345]])"
      ]
     },
     "execution_count": 9,
     "metadata": {},
     "output_type": "execute_result"
    }
   ],
   "source": [
    "# генерируем случайную матрицу необходимого размера (в соответствии с количеством признаков 4)\n",
    "P = np.random.normal(size=(4, 4))\n",
    "# проверяем матрицу на обратимость, при использовании необратимой матрицы дальнейшая работа по описанному алгоритму невозможна\n",
    "# если матрица необратима, код выдаст ошибку\n",
    "np.linalg.inv(P)"
   ]
  },
  {
   "cell_type": "code",
   "execution_count": 10,
   "metadata": {},
   "outputs": [],
   "source": [
    "# преобразовываем исходные данные по алгоритму\n",
    "features_new = features.values @ P\n",
    "\n",
    "# делим полученные данные на обучающую и тестовую выборки\n",
    "X_new, X_new_test = train_test_split(features_new, test_size=0.25, random_state=1505)"
   ]
  },
  {
   "cell_type": "code",
   "execution_count": 11,
   "metadata": {},
   "outputs": [
    {
     "name": "stdout",
     "output_type": "stream",
     "text": [
      "Значение метрики R2 на преобразованных данных: 0.44480062344521054\n"
     ]
    }
   ],
   "source": [
    "# инициируем модель линейной регрессии\n",
    "model = LinearRegression()\n",
    "model.fit(X_new, y)\n",
    "r2_new_data = r2_score(y_test, model.predict(X_new_test))\n",
    "print(f'Значение метрики R2 на преобразованных данных: {r2_new_data}')"
   ]
  },
  {
   "cell_type": "markdown",
   "metadata": {},
   "source": [
    "Сравним показатели качества моделей."
   ]
  },
  {
   "cell_type": "code",
   "execution_count": 12,
   "metadata": {
    "scrolled": true
   },
   "outputs": [
    {
     "data": {
      "text/html": [
       "<div>\n",
       "<style scoped>\n",
       "    .dataframe tbody tr th:only-of-type {\n",
       "        vertical-align: middle;\n",
       "    }\n",
       "\n",
       "    .dataframe tbody tr th {\n",
       "        vertical-align: top;\n",
       "    }\n",
       "\n",
       "    .dataframe thead th {\n",
       "        text-align: right;\n",
       "    }\n",
       "</style>\n",
       "<table border=\"1\" class=\"dataframe\">\n",
       "  <thead>\n",
       "    <tr style=\"text-align: right;\">\n",
       "      <th></th>\n",
       "      <th>R2</th>\n",
       "    </tr>\n",
       "  </thead>\n",
       "  <tbody>\n",
       "    <tr>\n",
       "      <th>Линейная регрессия на исходных данных</th>\n",
       "      <td>0.444801</td>\n",
       "    </tr>\n",
       "    <tr>\n",
       "      <th>Линейная регрессия на преобразованных признаках</th>\n",
       "      <td>0.444801</td>\n",
       "    </tr>\n",
       "  </tbody>\n",
       "</table>\n",
       "</div>"
      ],
      "text/plain": [
       "                                                       R2\n",
       "Линейная регрессия на исходных данных            0.444801\n",
       "Линейная регрессия на преобразованных признаках  0.444801"
      ]
     },
     "execution_count": 12,
     "metadata": {},
     "output_type": "execute_result"
    }
   ],
   "source": [
    "result = pd.DataFrame(data= [r2_origin_data,\n",
    "                      r2_new_data], \n",
    "                     columns=['R2'], \n",
    "                     index=['Линейная регрессия на исходных данных',\n",
    "                            'Линейная регрессия на преобразованных признаках',])\n",
    "result"
   ]
  },
  {
   "cell_type": "markdown",
   "metadata": {},
   "source": [
    "## Итоговый вывод\n",
    "\n",
    "1. Данные были загружены и изучены. Пропуски отсутствуют, типы данных соответствуют хранимой информации. Найдены и устранены дубликаты.\n",
    "2. Теоретически доказано, что качество линейной регресии не меняется от использования исходной матрицы, умноженной на обратимую.\n",
    "3. Создан алгоритм преобразования данных.\n",
    "4. Исследован алгоритм преобразования данных и проверена метрика R2 для данных без преобразования и с ним:\n",
    "    * Метрика `R2` для Линейной регрессии на исходных данных **0.444801**\n",
    "    * Метрика `R2` для Линейной регрессии на преобразованных признаках **0.444801**"
   ]
  }
 ],
 "metadata": {
  "ExecuteTimeLog": [
   {
    "duration": 429,
    "start_time": "2022-06-23T13:01:26.387Z"
   },
   {
    "duration": 97,
    "start_time": "2022-06-23T13:01:47.143Z"
   },
   {
    "duration": 11,
    "start_time": "2022-06-23T13:01:50.807Z"
   },
   {
    "duration": 18,
    "start_time": "2022-06-23T13:01:56.868Z"
   },
   {
    "duration": 21,
    "start_time": "2022-06-23T13:03:43.526Z"
   },
   {
    "duration": 6,
    "start_time": "2022-06-23T13:11:08.799Z"
   },
   {
    "duration": 85,
    "start_time": "2022-06-23T13:13:39.929Z"
   },
   {
    "duration": 5,
    "start_time": "2022-06-23T13:13:48.996Z"
   },
   {
    "duration": 6,
    "start_time": "2022-06-23T13:15:32.565Z"
   },
   {
    "duration": 6,
    "start_time": "2022-06-23T13:16:14.415Z"
   },
   {
    "duration": 3,
    "start_time": "2022-06-23T13:20:36.892Z"
   },
   {
    "duration": 4,
    "start_time": "2022-06-23T13:21:46.792Z"
   },
   {
    "duration": 12,
    "start_time": "2022-06-23T13:21:50.900Z"
   },
   {
    "duration": 5,
    "start_time": "2022-06-23T13:21:55.628Z"
   },
   {
    "duration": 11,
    "start_time": "2022-06-23T13:22:03.509Z"
   },
   {
    "duration": 66,
    "start_time": "2022-06-23T13:22:25.296Z"
   },
   {
    "duration": 9,
    "start_time": "2022-06-23T13:22:57.993Z"
   },
   {
    "duration": 6,
    "start_time": "2022-06-23T13:23:17.048Z"
   },
   {
    "duration": 3,
    "start_time": "2022-06-23T13:23:21.512Z"
   },
   {
    "duration": 11,
    "start_time": "2022-06-23T13:23:22.108Z"
   },
   {
    "duration": 5,
    "start_time": "2022-06-23T13:23:27.420Z"
   },
   {
    "duration": 145,
    "start_time": "2022-06-23T13:24:02.064Z"
   },
   {
    "duration": 5,
    "start_time": "2022-06-23T13:24:15.567Z"
   },
   {
    "duration": 3,
    "start_time": "2022-06-23T13:35:10.225Z"
   },
   {
    "duration": 6,
    "start_time": "2022-06-23T13:35:16.910Z"
   },
   {
    "duration": 4,
    "start_time": "2022-06-23T13:35:18.853Z"
   },
   {
    "duration": 475,
    "start_time": "2022-06-23T14:41:30.644Z"
   },
   {
    "duration": 3,
    "start_time": "2022-06-23T14:41:36.204Z"
   },
   {
    "duration": 4,
    "start_time": "2022-06-23T14:41:46.988Z"
   },
   {
    "duration": 4,
    "start_time": "2022-06-23T14:44:54.318Z"
   },
   {
    "duration": 6,
    "start_time": "2022-06-23T14:45:23.839Z"
   },
   {
    "duration": 5,
    "start_time": "2022-06-23T14:45:26.268Z"
   },
   {
    "duration": 1131,
    "start_time": "2022-06-23T14:50:01.673Z"
   },
   {
    "duration": 6,
    "start_time": "2022-06-23T14:50:06.613Z"
   },
   {
    "duration": 6,
    "start_time": "2022-06-23T14:51:46.044Z"
   },
   {
    "duration": 5,
    "start_time": "2022-06-23T14:52:11.933Z"
   },
   {
    "duration": 7,
    "start_time": "2022-06-23T14:52:13.678Z"
   },
   {
    "duration": 5,
    "start_time": "2022-06-23T14:58:01.865Z"
   },
   {
    "duration": 6,
    "start_time": "2022-06-23T14:58:59.650Z"
   },
   {
    "duration": 43,
    "start_time": "2022-06-23T15:01:12.546Z"
   },
   {
    "duration": 8,
    "start_time": "2022-06-23T15:01:20.039Z"
   },
   {
    "duration": 8,
    "start_time": "2022-06-23T15:02:12.710Z"
   },
   {
    "duration": 5,
    "start_time": "2022-06-23T15:03:23.695Z"
   },
   {
    "duration": 122,
    "start_time": "2022-06-23T15:04:04.065Z"
   },
   {
    "duration": 3,
    "start_time": "2022-06-23T15:04:29.431Z"
   },
   {
    "duration": 4,
    "start_time": "2022-06-23T15:04:33.326Z"
   },
   {
    "duration": 3,
    "start_time": "2022-06-23T15:07:20.482Z"
   },
   {
    "duration": 4,
    "start_time": "2022-06-23T15:09:18.520Z"
   },
   {
    "duration": 95,
    "start_time": "2022-06-23T15:10:12.415Z"
   },
   {
    "duration": 5,
    "start_time": "2022-06-23T15:10:17.735Z"
   },
   {
    "duration": 6,
    "start_time": "2022-06-23T15:10:49.534Z"
   },
   {
    "duration": 5,
    "start_time": "2022-06-23T15:11:04.647Z"
   },
   {
    "duration": 965,
    "start_time": "2022-06-23T15:11:12.066Z"
   },
   {
    "duration": 29,
    "start_time": "2022-06-23T15:11:13.033Z"
   },
   {
    "duration": 22,
    "start_time": "2022-06-23T15:11:13.063Z"
   },
   {
    "duration": 5,
    "start_time": "2022-06-23T15:11:13.086Z"
   },
   {
    "duration": 6,
    "start_time": "2022-06-23T15:11:13.093Z"
   },
   {
    "duration": 4,
    "start_time": "2022-06-23T15:11:13.101Z"
   },
   {
    "duration": 9,
    "start_time": "2022-06-23T15:11:13.106Z"
   },
   {
    "duration": 9,
    "start_time": "2022-06-23T15:11:13.116Z"
   },
   {
    "duration": 8,
    "start_time": "2022-06-23T15:11:13.126Z"
   },
   {
    "duration": 16,
    "start_time": "2022-06-23T15:11:13.135Z"
   },
   {
    "duration": 83,
    "start_time": "2022-06-23T15:11:13.152Z"
   },
   {
    "duration": 7,
    "start_time": "2022-06-23T15:13:10.020Z"
   },
   {
    "duration": 1337,
    "start_time": "2022-06-24T08:40:15.483Z"
   },
   {
    "duration": 27,
    "start_time": "2022-06-24T08:40:16.822Z"
   },
   {
    "duration": 33,
    "start_time": "2022-06-24T08:40:16.851Z"
   },
   {
    "duration": 5,
    "start_time": "2022-06-24T08:40:16.886Z"
   },
   {
    "duration": 14,
    "start_time": "2022-06-24T08:40:16.893Z"
   },
   {
    "duration": 7,
    "start_time": "2022-06-24T08:40:16.909Z"
   },
   {
    "duration": 22,
    "start_time": "2022-06-24T08:40:16.918Z"
   },
   {
    "duration": 45,
    "start_time": "2022-06-24T08:40:16.942Z"
   },
   {
    "duration": 8,
    "start_time": "2022-06-24T08:40:16.989Z"
   },
   {
    "duration": 60,
    "start_time": "2022-06-24T08:40:16.998Z"
   },
   {
    "duration": 98,
    "start_time": "2022-06-24T08:40:17.059Z"
   },
   {
    "duration": 31,
    "start_time": "2022-06-24T08:40:17.161Z"
   },
   {
    "duration": 59,
    "start_time": "2022-06-25T10:30:39.917Z"
   }
  ],
  "kernelspec": {
   "display_name": "Python 3.10.5 64-bit",
   "language": "python",
   "name": "python3"
  },
  "language_info": {
   "codemirror_mode": {
    "name": "ipython",
    "version": 3
   },
   "file_extension": ".py",
   "mimetype": "text/x-python",
   "name": "python",
   "nbconvert_exporter": "python",
   "pygments_lexer": "ipython3",
   "version": "3.10.5"
  },
  "toc": {
   "base_numbering": 1,
   "nav_menu": {},
   "number_sections": true,
   "sideBar": true,
   "skip_h1_title": true,
   "title_cell": "Содержание",
   "title_sidebar": "Contents",
   "toc_cell": true,
   "toc_position": {
    "height": "calc(100% - 180px)",
    "left": "10px",
    "top": "150px",
    "width": "242.188px"
   },
   "toc_section_display": true,
   "toc_window_display": true
  },
  "vscode": {
   "interpreter": {
    "hash": "62108d3bcabba50a5551c94be0c58944c48365daffc285bf9efbbaced917d542"
   }
  }
 },
 "nbformat": 4,
 "nbformat_minor": 2
}
