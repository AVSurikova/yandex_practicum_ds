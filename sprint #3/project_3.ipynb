{
 "cells": [
  {
   "cell_type": "markdown",
   "id": "7dc36cef",
   "metadata": {},
   "source": [
    "# Яндекс Недвижимость"
   ]
  },
  {
   "cell_type": "markdown",
   "id": "323c3b03",
   "metadata": {},
   "source": [
    "### Описание проекта\n",
    "\n",
    "**Цель проекта:**\n",
    "\n",
    "Обработать и исследовать исходные данные, чтобы установить параметры необходимые для определения цены.\n",
    "\n",
    "**Исходные данные:**\n",
    "\n",
    "Архив объявлений о продаже квартир в Санкт-Петербурге и соседних населённых пунктах за несколько лет. По каждой квартире на продажу доступны два вида данных. Первые вписаны пользователем, вторые — получены автоматически на основе картографических \n",
    "данных.\n",
    "\n",
    "**Описание данных:**\n",
    "\n",
    "* `airports_nearest` — расстояние до ближайшего аэропорта в метрах (м);\n",
    "* `balcony` — число балконов;\n",
    "* `ceiling_height` — высота потолков (м);\n",
    "* `cityCenters_nearest` — расстояние до центра города (м);\n",
    "* `days_exposition` — сколько дней было размещено объявление (от публикации до снятия);\n",
    "* `first_day_exposition` — дата публикации;\n",
    "* `floor` — этаж;\n",
    "* `floors_total` — всего этажей в доме;\n",
    "* `is_apartment` — апартаменты (булев тип);\n",
    "* `kitchen_area` — площадь кухни в квадратных метрах (м²);\n",
    "* `last_price` — цена на момент снятия с публикации;\n",
    "* `living_area` — жилая площадь в квадратных метрах (м²);\n",
    "* `locality_name` — название населённого пункта;\n",
    "* `open_plan` — свободная планировка (булев тип);\n",
    "* `parks_around3000` — число парков в радиусе 3 км;\n",
    "* `parks_nearest` — расстояние до ближайшего парка (м);\n",
    "* `ponds_around3000` — число водоёмов в радиусе 3 км;\n",
    "* `ponds_nearest` — расстояние до ближайшего водоёма (м);\n",
    "* `rooms` — число комнат;\n",
    "* `studio` — квартира-студия (булев тип);\n",
    "* `total_area` — площадь квартиры в квадратных метрах (м²);\n",
    "* `total_images` — число фотографий квартиры в объявлении.\n",
    "\n",
    "### Структура проекта\n",
    "\n",
    "* 1. Загрузка и изучение общей информации датасета\n",
    "* 2. Предобработка данных\n",
    "    \n",
    "    * 2.1 Пропуски значений\n",
    "    * 2.2 Дубликаты\n",
    "    * 2.3 Изменение типов данных\n",
    "* 3. Добавление дополнительных данных в таблицу\n",
    "* 4. Исследовательский анализ данных\n",
    "    * 4.1 Изучение параметров: площадь, цена, число комнат, высота потолков\n",
    "    * 4.2 Изучение времени продажи квартиры\n",
    "    * 4.3 Поиск редких и выбивающихся значений\n",
    "    * 4.4 Поиск факторов влияющих на стоимость квартиры\n",
    "    * 4.5 Исследование стоимости квадратного метра в различных районах\n",
    "    * 4.6 Определение границы центрального района в Санкт-Петербурге\n",
    "    * 4.7 Исследование квартир в центральном районе Санкт-Петербурга\n",
    "* 5. Общий вывод"
   ]
  },
  {
   "cell_type": "markdown",
   "id": "4e859bed",
   "metadata": {},
   "source": [
    "## 1. Загрузка и изучение общей информации датасета"
   ]
  },
  {
   "cell_type": "code",
   "execution_count": 1,
   "id": "8fb77910",
   "metadata": {},
   "outputs": [],
   "source": [
    "# импортируем необходимые библиотеки\n",
    "import pandas as pd\n",
    "import matplotlib.pyplot as plt\n",
    "import os"
   ]
  },
  {
   "cell_type": "code",
   "execution_count": 2,
   "id": "2667ee0e",
   "metadata": {},
   "outputs": [],
   "source": [
    "# открываем файл с данными\n",
    "\n",
    "pth1 = 'C:\\\\Users\\\\Anna\\\\Desktop\\\\Python\\\\Yandex Praktikum\\\\Datasets\\\\project_3\\\\real_estate_data.csv'\n",
    "pth2 = '/datasets/real_estate_data.csv'\n",
    "\n",
    "if os.path.exists(pth1):\n",
    "    realty = pd.read_csv(pth1, sep='\\t')\n",
    "elif os.path.exists(pth2):\n",
    "    realty = pd.read_csv(pth2, sep='\\t')\n",
    "else:\n",
    "    print('Something is wrong')"
   ]
  },
  {
   "cell_type": "code",
   "execution_count": 3,
   "id": "013a6698",
   "metadata": {},
   "outputs": [
    {
     "data": {
      "text/html": [
       "<div>\n",
       "<style scoped>\n",
       "    .dataframe tbody tr th:only-of-type {\n",
       "        vertical-align: middle;\n",
       "    }\n",
       "\n",
       "    .dataframe tbody tr th {\n",
       "        vertical-align: top;\n",
       "    }\n",
       "\n",
       "    .dataframe thead th {\n",
       "        text-align: right;\n",
       "    }\n",
       "</style>\n",
       "<table border=\"1\" class=\"dataframe\">\n",
       "  <thead>\n",
       "    <tr style=\"text-align: right;\">\n",
       "      <th></th>\n",
       "      <th>total_images</th>\n",
       "      <th>last_price</th>\n",
       "      <th>total_area</th>\n",
       "      <th>first_day_exposition</th>\n",
       "      <th>rooms</th>\n",
       "      <th>ceiling_height</th>\n",
       "      <th>floors_total</th>\n",
       "      <th>living_area</th>\n",
       "      <th>floor</th>\n",
       "      <th>is_apartment</th>\n",
       "      <th>...</th>\n",
       "      <th>kitchen_area</th>\n",
       "      <th>balcony</th>\n",
       "      <th>locality_name</th>\n",
       "      <th>airports_nearest</th>\n",
       "      <th>cityCenters_nearest</th>\n",
       "      <th>parks_around3000</th>\n",
       "      <th>parks_nearest</th>\n",
       "      <th>ponds_around3000</th>\n",
       "      <th>ponds_nearest</th>\n",
       "      <th>days_exposition</th>\n",
       "    </tr>\n",
       "  </thead>\n",
       "  <tbody>\n",
       "    <tr>\n",
       "      <th>0</th>\n",
       "      <td>20</td>\n",
       "      <td>13000000.0</td>\n",
       "      <td>108.00</td>\n",
       "      <td>2019-03-07T00:00:00</td>\n",
       "      <td>3</td>\n",
       "      <td>2.70</td>\n",
       "      <td>16.0</td>\n",
       "      <td>51.00</td>\n",
       "      <td>8</td>\n",
       "      <td>NaN</td>\n",
       "      <td>...</td>\n",
       "      <td>25.00</td>\n",
       "      <td>NaN</td>\n",
       "      <td>Санкт-Петербург</td>\n",
       "      <td>18863.0</td>\n",
       "      <td>16028.0</td>\n",
       "      <td>1.0</td>\n",
       "      <td>482.0</td>\n",
       "      <td>2.0</td>\n",
       "      <td>755.0</td>\n",
       "      <td>NaN</td>\n",
       "    </tr>\n",
       "    <tr>\n",
       "      <th>1</th>\n",
       "      <td>7</td>\n",
       "      <td>3350000.0</td>\n",
       "      <td>40.40</td>\n",
       "      <td>2018-12-04T00:00:00</td>\n",
       "      <td>1</td>\n",
       "      <td>NaN</td>\n",
       "      <td>11.0</td>\n",
       "      <td>18.60</td>\n",
       "      <td>1</td>\n",
       "      <td>NaN</td>\n",
       "      <td>...</td>\n",
       "      <td>11.00</td>\n",
       "      <td>2.0</td>\n",
       "      <td>посёлок Шушары</td>\n",
       "      <td>12817.0</td>\n",
       "      <td>18603.0</td>\n",
       "      <td>0.0</td>\n",
       "      <td>NaN</td>\n",
       "      <td>0.0</td>\n",
       "      <td>NaN</td>\n",
       "      <td>81.0</td>\n",
       "    </tr>\n",
       "    <tr>\n",
       "      <th>2</th>\n",
       "      <td>10</td>\n",
       "      <td>5196000.0</td>\n",
       "      <td>56.00</td>\n",
       "      <td>2015-08-20T00:00:00</td>\n",
       "      <td>2</td>\n",
       "      <td>NaN</td>\n",
       "      <td>5.0</td>\n",
       "      <td>34.30</td>\n",
       "      <td>4</td>\n",
       "      <td>NaN</td>\n",
       "      <td>...</td>\n",
       "      <td>8.30</td>\n",
       "      <td>0.0</td>\n",
       "      <td>Санкт-Петербург</td>\n",
       "      <td>21741.0</td>\n",
       "      <td>13933.0</td>\n",
       "      <td>1.0</td>\n",
       "      <td>90.0</td>\n",
       "      <td>2.0</td>\n",
       "      <td>574.0</td>\n",
       "      <td>558.0</td>\n",
       "    </tr>\n",
       "    <tr>\n",
       "      <th>3</th>\n",
       "      <td>0</td>\n",
       "      <td>64900000.0</td>\n",
       "      <td>159.00</td>\n",
       "      <td>2015-07-24T00:00:00</td>\n",
       "      <td>3</td>\n",
       "      <td>NaN</td>\n",
       "      <td>14.0</td>\n",
       "      <td>NaN</td>\n",
       "      <td>9</td>\n",
       "      <td>NaN</td>\n",
       "      <td>...</td>\n",
       "      <td>NaN</td>\n",
       "      <td>0.0</td>\n",
       "      <td>Санкт-Петербург</td>\n",
       "      <td>28098.0</td>\n",
       "      <td>6800.0</td>\n",
       "      <td>2.0</td>\n",
       "      <td>84.0</td>\n",
       "      <td>3.0</td>\n",
       "      <td>234.0</td>\n",
       "      <td>424.0</td>\n",
       "    </tr>\n",
       "    <tr>\n",
       "      <th>4</th>\n",
       "      <td>2</td>\n",
       "      <td>10000000.0</td>\n",
       "      <td>100.00</td>\n",
       "      <td>2018-06-19T00:00:00</td>\n",
       "      <td>2</td>\n",
       "      <td>3.03</td>\n",
       "      <td>14.0</td>\n",
       "      <td>32.00</td>\n",
       "      <td>13</td>\n",
       "      <td>NaN</td>\n",
       "      <td>...</td>\n",
       "      <td>41.00</td>\n",
       "      <td>NaN</td>\n",
       "      <td>Санкт-Петербург</td>\n",
       "      <td>31856.0</td>\n",
       "      <td>8098.0</td>\n",
       "      <td>2.0</td>\n",
       "      <td>112.0</td>\n",
       "      <td>1.0</td>\n",
       "      <td>48.0</td>\n",
       "      <td>121.0</td>\n",
       "    </tr>\n",
       "    <tr>\n",
       "      <th>5</th>\n",
       "      <td>10</td>\n",
       "      <td>2890000.0</td>\n",
       "      <td>30.40</td>\n",
       "      <td>2018-09-10T00:00:00</td>\n",
       "      <td>1</td>\n",
       "      <td>NaN</td>\n",
       "      <td>12.0</td>\n",
       "      <td>14.40</td>\n",
       "      <td>5</td>\n",
       "      <td>NaN</td>\n",
       "      <td>...</td>\n",
       "      <td>9.10</td>\n",
       "      <td>NaN</td>\n",
       "      <td>городской посёлок Янино-1</td>\n",
       "      <td>NaN</td>\n",
       "      <td>NaN</td>\n",
       "      <td>NaN</td>\n",
       "      <td>NaN</td>\n",
       "      <td>NaN</td>\n",
       "      <td>NaN</td>\n",
       "      <td>55.0</td>\n",
       "    </tr>\n",
       "    <tr>\n",
       "      <th>6</th>\n",
       "      <td>6</td>\n",
       "      <td>3700000.0</td>\n",
       "      <td>37.30</td>\n",
       "      <td>2017-11-02T00:00:00</td>\n",
       "      <td>1</td>\n",
       "      <td>NaN</td>\n",
       "      <td>26.0</td>\n",
       "      <td>10.60</td>\n",
       "      <td>6</td>\n",
       "      <td>NaN</td>\n",
       "      <td>...</td>\n",
       "      <td>14.40</td>\n",
       "      <td>1.0</td>\n",
       "      <td>посёлок Парголово</td>\n",
       "      <td>52996.0</td>\n",
       "      <td>19143.0</td>\n",
       "      <td>0.0</td>\n",
       "      <td>NaN</td>\n",
       "      <td>0.0</td>\n",
       "      <td>NaN</td>\n",
       "      <td>155.0</td>\n",
       "    </tr>\n",
       "    <tr>\n",
       "      <th>7</th>\n",
       "      <td>5</td>\n",
       "      <td>7915000.0</td>\n",
       "      <td>71.60</td>\n",
       "      <td>2019-04-18T00:00:00</td>\n",
       "      <td>2</td>\n",
       "      <td>NaN</td>\n",
       "      <td>24.0</td>\n",
       "      <td>NaN</td>\n",
       "      <td>22</td>\n",
       "      <td>NaN</td>\n",
       "      <td>...</td>\n",
       "      <td>18.90</td>\n",
       "      <td>2.0</td>\n",
       "      <td>Санкт-Петербург</td>\n",
       "      <td>23982.0</td>\n",
       "      <td>11634.0</td>\n",
       "      <td>0.0</td>\n",
       "      <td>NaN</td>\n",
       "      <td>0.0</td>\n",
       "      <td>NaN</td>\n",
       "      <td>NaN</td>\n",
       "    </tr>\n",
       "    <tr>\n",
       "      <th>8</th>\n",
       "      <td>20</td>\n",
       "      <td>2900000.0</td>\n",
       "      <td>33.16</td>\n",
       "      <td>2018-05-23T00:00:00</td>\n",
       "      <td>1</td>\n",
       "      <td>NaN</td>\n",
       "      <td>27.0</td>\n",
       "      <td>15.43</td>\n",
       "      <td>26</td>\n",
       "      <td>NaN</td>\n",
       "      <td>...</td>\n",
       "      <td>8.81</td>\n",
       "      <td>NaN</td>\n",
       "      <td>посёлок Мурино</td>\n",
       "      <td>NaN</td>\n",
       "      <td>NaN</td>\n",
       "      <td>NaN</td>\n",
       "      <td>NaN</td>\n",
       "      <td>NaN</td>\n",
       "      <td>NaN</td>\n",
       "      <td>189.0</td>\n",
       "    </tr>\n",
       "    <tr>\n",
       "      <th>9</th>\n",
       "      <td>18</td>\n",
       "      <td>5400000.0</td>\n",
       "      <td>61.00</td>\n",
       "      <td>2017-02-26T00:00:00</td>\n",
       "      <td>3</td>\n",
       "      <td>2.50</td>\n",
       "      <td>9.0</td>\n",
       "      <td>43.60</td>\n",
       "      <td>7</td>\n",
       "      <td>NaN</td>\n",
       "      <td>...</td>\n",
       "      <td>6.50</td>\n",
       "      <td>2.0</td>\n",
       "      <td>Санкт-Петербург</td>\n",
       "      <td>50898.0</td>\n",
       "      <td>15008.0</td>\n",
       "      <td>0.0</td>\n",
       "      <td>NaN</td>\n",
       "      <td>0.0</td>\n",
       "      <td>NaN</td>\n",
       "      <td>289.0</td>\n",
       "    </tr>\n",
       "  </tbody>\n",
       "</table>\n",
       "<p>10 rows × 22 columns</p>\n",
       "</div>"
      ],
      "text/plain": [
       "   total_images  last_price  total_area first_day_exposition  rooms  \\\n",
       "0            20  13000000.0      108.00  2019-03-07T00:00:00      3   \n",
       "1             7   3350000.0       40.40  2018-12-04T00:00:00      1   \n",
       "2            10   5196000.0       56.00  2015-08-20T00:00:00      2   \n",
       "3             0  64900000.0      159.00  2015-07-24T00:00:00      3   \n",
       "4             2  10000000.0      100.00  2018-06-19T00:00:00      2   \n",
       "5            10   2890000.0       30.40  2018-09-10T00:00:00      1   \n",
       "6             6   3700000.0       37.30  2017-11-02T00:00:00      1   \n",
       "7             5   7915000.0       71.60  2019-04-18T00:00:00      2   \n",
       "8            20   2900000.0       33.16  2018-05-23T00:00:00      1   \n",
       "9            18   5400000.0       61.00  2017-02-26T00:00:00      3   \n",
       "\n",
       "   ceiling_height  floors_total  living_area  floor is_apartment  ...  \\\n",
       "0            2.70          16.0        51.00      8          NaN  ...   \n",
       "1             NaN          11.0        18.60      1          NaN  ...   \n",
       "2             NaN           5.0        34.30      4          NaN  ...   \n",
       "3             NaN          14.0          NaN      9          NaN  ...   \n",
       "4            3.03          14.0        32.00     13          NaN  ...   \n",
       "5             NaN          12.0        14.40      5          NaN  ...   \n",
       "6             NaN          26.0        10.60      6          NaN  ...   \n",
       "7             NaN          24.0          NaN     22          NaN  ...   \n",
       "8             NaN          27.0        15.43     26          NaN  ...   \n",
       "9            2.50           9.0        43.60      7          NaN  ...   \n",
       "\n",
       "   kitchen_area  balcony              locality_name  airports_nearest  \\\n",
       "0         25.00      NaN            Санкт-Петербург           18863.0   \n",
       "1         11.00      2.0             посёлок Шушары           12817.0   \n",
       "2          8.30      0.0            Санкт-Петербург           21741.0   \n",
       "3           NaN      0.0            Санкт-Петербург           28098.0   \n",
       "4         41.00      NaN            Санкт-Петербург           31856.0   \n",
       "5          9.10      NaN  городской посёлок Янино-1               NaN   \n",
       "6         14.40      1.0          посёлок Парголово           52996.0   \n",
       "7         18.90      2.0            Санкт-Петербург           23982.0   \n",
       "8          8.81      NaN             посёлок Мурино               NaN   \n",
       "9          6.50      2.0            Санкт-Петербург           50898.0   \n",
       "\n",
       "  cityCenters_nearest  parks_around3000  parks_nearest  ponds_around3000  \\\n",
       "0             16028.0               1.0          482.0               2.0   \n",
       "1             18603.0               0.0            NaN               0.0   \n",
       "2             13933.0               1.0           90.0               2.0   \n",
       "3              6800.0               2.0           84.0               3.0   \n",
       "4              8098.0               2.0          112.0               1.0   \n",
       "5                 NaN               NaN            NaN               NaN   \n",
       "6             19143.0               0.0            NaN               0.0   \n",
       "7             11634.0               0.0            NaN               0.0   \n",
       "8                 NaN               NaN            NaN               NaN   \n",
       "9             15008.0               0.0            NaN               0.0   \n",
       "\n",
       "   ponds_nearest  days_exposition  \n",
       "0          755.0              NaN  \n",
       "1            NaN             81.0  \n",
       "2          574.0            558.0  \n",
       "3          234.0            424.0  \n",
       "4           48.0            121.0  \n",
       "5            NaN             55.0  \n",
       "6            NaN            155.0  \n",
       "7            NaN              NaN  \n",
       "8            NaN            189.0  \n",
       "9            NaN            289.0  \n",
       "\n",
       "[10 rows x 22 columns]"
      ]
     },
     "metadata": {},
     "output_type": "display_data"
    },
    {
     "name": "stdout",
     "output_type": "stream",
     "text": [
      "<class 'pandas.core.frame.DataFrame'>\n",
      "RangeIndex: 23699 entries, 0 to 23698\n",
      "Data columns (total 22 columns):\n",
      " #   Column                Non-Null Count  Dtype  \n",
      "---  ------                --------------  -----  \n",
      " 0   total_images          23699 non-null  int64  \n",
      " 1   last_price            23699 non-null  float64\n",
      " 2   total_area            23699 non-null  float64\n",
      " 3   first_day_exposition  23699 non-null  object \n",
      " 4   rooms                 23699 non-null  int64  \n",
      " 5   ceiling_height        14504 non-null  float64\n",
      " 6   floors_total          23613 non-null  float64\n",
      " 7   living_area           21796 non-null  float64\n",
      " 8   floor                 23699 non-null  int64  \n",
      " 9   is_apartment          2775 non-null   object \n",
      " 10  studio                23699 non-null  bool   \n",
      " 11  open_plan             23699 non-null  bool   \n",
      " 12  kitchen_area          21421 non-null  float64\n",
      " 13  balcony               12180 non-null  float64\n",
      " 14  locality_name         23650 non-null  object \n",
      " 15  airports_nearest      18157 non-null  float64\n",
      " 16  cityCenters_nearest   18180 non-null  float64\n",
      " 17  parks_around3000      18181 non-null  float64\n",
      " 18  parks_nearest         8079 non-null   float64\n",
      " 19  ponds_around3000      18181 non-null  float64\n",
      " 20  ponds_nearest         9110 non-null   float64\n",
      " 21  days_exposition       20518 non-null  float64\n",
      "dtypes: bool(2), float64(14), int64(3), object(3)\n",
      "memory usage: 3.7+ MB\n"
     ]
    }
   ],
   "source": [
    "# выводим первые 10 строк таблицы и сводную информацию о ней\n",
    "display(realty.head(10))\n",
    "realty.info()"
   ]
  },
  {
   "cell_type": "code",
   "execution_count": 4,
   "id": "47c1184c",
   "metadata": {},
   "outputs": [
    {
     "data": {
      "text/html": [
       "<div>\n",
       "<style scoped>\n",
       "    .dataframe tbody tr th:only-of-type {\n",
       "        vertical-align: middle;\n",
       "    }\n",
       "\n",
       "    .dataframe tbody tr th {\n",
       "        vertical-align: top;\n",
       "    }\n",
       "\n",
       "    .dataframe thead th {\n",
       "        text-align: right;\n",
       "    }\n",
       "</style>\n",
       "<table border=\"1\" class=\"dataframe\">\n",
       "  <thead>\n",
       "    <tr style=\"text-align: right;\">\n",
       "      <th></th>\n",
       "      <th>last_price</th>\n",
       "      <th>total_area</th>\n",
       "      <th>rooms</th>\n",
       "      <th>ceiling_height</th>\n",
       "      <th>floors_total</th>\n",
       "      <th>living_area</th>\n",
       "      <th>floor</th>\n",
       "      <th>kitchen_area</th>\n",
       "    </tr>\n",
       "  </thead>\n",
       "  <tbody>\n",
       "    <tr>\n",
       "      <th>count</th>\n",
       "      <td>2.369900e+04</td>\n",
       "      <td>23699.000000</td>\n",
       "      <td>23699.000000</td>\n",
       "      <td>14504.000000</td>\n",
       "      <td>23613.000000</td>\n",
       "      <td>21796.000000</td>\n",
       "      <td>23699.000000</td>\n",
       "      <td>21421.000000</td>\n",
       "    </tr>\n",
       "    <tr>\n",
       "      <th>mean</th>\n",
       "      <td>6.541549e+06</td>\n",
       "      <td>60.348651</td>\n",
       "      <td>2.070636</td>\n",
       "      <td>2.771499</td>\n",
       "      <td>10.673824</td>\n",
       "      <td>34.457852</td>\n",
       "      <td>5.892358</td>\n",
       "      <td>10.569807</td>\n",
       "    </tr>\n",
       "    <tr>\n",
       "      <th>std</th>\n",
       "      <td>1.088701e+07</td>\n",
       "      <td>35.654083</td>\n",
       "      <td>1.078405</td>\n",
       "      <td>1.261056</td>\n",
       "      <td>6.597173</td>\n",
       "      <td>22.030445</td>\n",
       "      <td>4.885249</td>\n",
       "      <td>5.905438</td>\n",
       "    </tr>\n",
       "    <tr>\n",
       "      <th>min</th>\n",
       "      <td>1.219000e+04</td>\n",
       "      <td>12.000000</td>\n",
       "      <td>0.000000</td>\n",
       "      <td>1.000000</td>\n",
       "      <td>1.000000</td>\n",
       "      <td>2.000000</td>\n",
       "      <td>1.000000</td>\n",
       "      <td>1.300000</td>\n",
       "    </tr>\n",
       "    <tr>\n",
       "      <th>25%</th>\n",
       "      <td>3.400000e+06</td>\n",
       "      <td>40.000000</td>\n",
       "      <td>1.000000</td>\n",
       "      <td>2.520000</td>\n",
       "      <td>5.000000</td>\n",
       "      <td>18.600000</td>\n",
       "      <td>2.000000</td>\n",
       "      <td>7.000000</td>\n",
       "    </tr>\n",
       "    <tr>\n",
       "      <th>50%</th>\n",
       "      <td>4.650000e+06</td>\n",
       "      <td>52.000000</td>\n",
       "      <td>2.000000</td>\n",
       "      <td>2.650000</td>\n",
       "      <td>9.000000</td>\n",
       "      <td>30.000000</td>\n",
       "      <td>4.000000</td>\n",
       "      <td>9.100000</td>\n",
       "    </tr>\n",
       "    <tr>\n",
       "      <th>75%</th>\n",
       "      <td>6.800000e+06</td>\n",
       "      <td>69.900000</td>\n",
       "      <td>3.000000</td>\n",
       "      <td>2.800000</td>\n",
       "      <td>16.000000</td>\n",
       "      <td>42.300000</td>\n",
       "      <td>8.000000</td>\n",
       "      <td>12.000000</td>\n",
       "    </tr>\n",
       "    <tr>\n",
       "      <th>max</th>\n",
       "      <td>7.630000e+08</td>\n",
       "      <td>900.000000</td>\n",
       "      <td>19.000000</td>\n",
       "      <td>100.000000</td>\n",
       "      <td>60.000000</td>\n",
       "      <td>409.700000</td>\n",
       "      <td>33.000000</td>\n",
       "      <td>112.000000</td>\n",
       "    </tr>\n",
       "  </tbody>\n",
       "</table>\n",
       "</div>"
      ],
      "text/plain": [
       "         last_price    total_area         rooms  ceiling_height  floors_total  \\\n",
       "count  2.369900e+04  23699.000000  23699.000000    14504.000000  23613.000000   \n",
       "mean   6.541549e+06     60.348651      2.070636        2.771499     10.673824   \n",
       "std    1.088701e+07     35.654083      1.078405        1.261056      6.597173   \n",
       "min    1.219000e+04     12.000000      0.000000        1.000000      1.000000   \n",
       "25%    3.400000e+06     40.000000      1.000000        2.520000      5.000000   \n",
       "50%    4.650000e+06     52.000000      2.000000        2.650000      9.000000   \n",
       "75%    6.800000e+06     69.900000      3.000000        2.800000     16.000000   \n",
       "max    7.630000e+08    900.000000     19.000000      100.000000     60.000000   \n",
       "\n",
       "        living_area         floor  kitchen_area  \n",
       "count  21796.000000  23699.000000  21421.000000  \n",
       "mean      34.457852      5.892358     10.569807  \n",
       "std       22.030445      4.885249      5.905438  \n",
       "min        2.000000      1.000000      1.300000  \n",
       "25%       18.600000      2.000000      7.000000  \n",
       "50%       30.000000      4.000000      9.100000  \n",
       "75%       42.300000      8.000000     12.000000  \n",
       "max      409.700000     33.000000    112.000000  "
      ]
     },
     "execution_count": 4,
     "metadata": {},
     "output_type": "execute_result"
    }
   ],
   "source": [
    "# выводим статистику по числовым столбцам\n",
    "realty[['last_price','total_area','rooms','ceiling_height','floors_total','living_area','floor','kitchen_area']].describe()"
   ]
  },
  {
   "cell_type": "markdown",
   "id": "b6dd3f8d",
   "metadata": {},
   "source": [
    "**Выводы**\n",
    "\n",
    "- В предоставленных данных 22 колонки, содержащие 4 типа `int64`, `float64`, `bool` и `object`. \n",
    "- Только в 8-ми колонках информация заполнена полностью, в остальных есть отсутствующая информация в разных объемах. Например, в колонке `'is_apartment'` заполнены лишь 2775 строк из 23699.\n",
    "- Выявлены аномальные значения, требующие проверки:\n",
    "    \n",
    "    * Стоимость квартиры 12 тысяч рублей.\n",
    "    * Количество комнат 0.\n",
    "    * Площадь в 900 квадратных метров.\n",
    "    * Высота потолков в 1 и 100 метров.\n",
    "    * Зданий с высотой 60 этажей нет в СПБ.\n",
    "\n",
    "- Имеются столбцы, где необходимо исправить типы данных для дальшейнего использования в нашем анализе.\n",
    "- Столбец `'locality_name'` следует изучить на повторяющиеся по смыслу названия, чтобы исключить повторения."
   ]
  },
  {
   "cell_type": "markdown",
   "id": "67ceb8a8",
   "metadata": {},
   "source": [
    "## 2. Предобработка данных\n",
    "\n",
    "### 2.1 Пропуски значений\n",
    "\n",
    "Сначала посчитаем сколько в таблице пропущенных значений."
   ]
  },
  {
   "cell_type": "code",
   "execution_count": 5,
   "id": "6d9a4fe6",
   "metadata": {},
   "outputs": [
    {
     "data": {
      "text/plain": [
       "total_images                0\n",
       "last_price                  0\n",
       "total_area                  0\n",
       "first_day_exposition        0\n",
       "rooms                       0\n",
       "ceiling_height           9195\n",
       "floors_total               86\n",
       "living_area              1903\n",
       "floor                       0\n",
       "is_apartment            20924\n",
       "studio                      0\n",
       "open_plan                   0\n",
       "kitchen_area             2278\n",
       "balcony                 11519\n",
       "locality_name              49\n",
       "airports_nearest         5542\n",
       "cityCenters_nearest      5519\n",
       "parks_around3000         5518\n",
       "parks_nearest           15620\n",
       "ponds_around3000         5518\n",
       "ponds_nearest           14589\n",
       "days_exposition          3181\n",
       "dtype: int64"
      ]
     },
     "execution_count": 5,
     "metadata": {},
     "output_type": "execute_result"
    }
   ],
   "source": [
    "# подсчет пропущенных значений\n",
    "realty.isna().sum()"
   ]
  },
  {
   "cell_type": "markdown",
   "id": "e86a8218",
   "metadata": {},
   "source": [
    "* Рассмотрим высоту потолков в столбце `'ceiling_height'`."
   ]
  },
  {
   "cell_type": "code",
   "execution_count": 6,
   "id": "b023cd56",
   "metadata": {
    "scrolled": true
   },
   "outputs": [
    {
     "name": "stdout",
     "output_type": "stream",
     "text": [
      "Количество пропущенных значений: 9195\n",
      "Доля пропущенных значений: 38.80%\n"
     ]
    }
   ],
   "source": [
    "print(f\"Количество пропущенных значений: {realty['ceiling_height'].isna().sum()}\")\n",
    "print(f\"Доля пропущенных значений: {realty['ceiling_height'].isna().mean():.2%}\")"
   ]
  },
  {
   "cell_type": "markdown",
   "id": "b9c9e2df",
   "metadata": {},
   "source": [
    "Пропущено много данных (почти 39%), удалить их нельзя. Составители заявлений могли не внести эти данные, или информация утеряна в результатее сбоя системы при загрузке / выгрузке базы данных.\n",
    "\n",
    "Пропуски можно было бы заменить на значения из других объявлений в тех же домах, но информации об адресах квартир в нет.\n",
    "Замена значений на средние или медианные может внести искажения в распределение данных. При возможности, необходимо восстановить данные по адресам домов или обратиться к владельцам данных.\n",
    "\n",
    "На данном этапе оставим значения пустыми."
   ]
  },
  {
   "cell_type": "markdown",
   "id": "37a80ee0",
   "metadata": {},
   "source": [
    "---\n",
    "\n",
    "* Рассмотрим количество этажей в доме в столбце `'floors_total'`."
   ]
  },
  {
   "cell_type": "code",
   "execution_count": 7,
   "id": "4a5d32b4",
   "metadata": {
    "scrolled": false
   },
   "outputs": [
    {
     "name": "stdout",
     "output_type": "stream",
     "text": [
      "Количество пропущенных значений: 86\n",
      "Доля пропущенных значений: 0.36288450989493226\n"
     ]
    },
    {
     "data": {
      "text/html": [
       "<div>\n",
       "<style scoped>\n",
       "    .dataframe tbody tr th:only-of-type {\n",
       "        vertical-align: middle;\n",
       "    }\n",
       "\n",
       "    .dataframe tbody tr th {\n",
       "        vertical-align: top;\n",
       "    }\n",
       "\n",
       "    .dataframe thead th {\n",
       "        text-align: right;\n",
       "    }\n",
       "</style>\n",
       "<table border=\"1\" class=\"dataframe\">\n",
       "  <thead>\n",
       "    <tr style=\"text-align: right;\">\n",
       "      <th></th>\n",
       "      <th>total_images</th>\n",
       "      <th>last_price</th>\n",
       "      <th>total_area</th>\n",
       "      <th>first_day_exposition</th>\n",
       "      <th>rooms</th>\n",
       "      <th>ceiling_height</th>\n",
       "      <th>floors_total</th>\n",
       "      <th>living_area</th>\n",
       "      <th>floor</th>\n",
       "      <th>is_apartment</th>\n",
       "      <th>...</th>\n",
       "      <th>kitchen_area</th>\n",
       "      <th>balcony</th>\n",
       "      <th>locality_name</th>\n",
       "      <th>airports_nearest</th>\n",
       "      <th>cityCenters_nearest</th>\n",
       "      <th>parks_around3000</th>\n",
       "      <th>parks_nearest</th>\n",
       "      <th>ponds_around3000</th>\n",
       "      <th>ponds_nearest</th>\n",
       "      <th>days_exposition</th>\n",
       "    </tr>\n",
       "  </thead>\n",
       "  <tbody>\n",
       "    <tr>\n",
       "      <th>186</th>\n",
       "      <td>12</td>\n",
       "      <td>11640000.0</td>\n",
       "      <td>65.20</td>\n",
       "      <td>2018-10-02T00:00:00</td>\n",
       "      <td>2</td>\n",
       "      <td>NaN</td>\n",
       "      <td>NaN</td>\n",
       "      <td>30.80</td>\n",
       "      <td>4</td>\n",
       "      <td>NaN</td>\n",
       "      <td>...</td>\n",
       "      <td>12.00</td>\n",
       "      <td>NaN</td>\n",
       "      <td>Санкт-Петербург</td>\n",
       "      <td>39197.0</td>\n",
       "      <td>12373.0</td>\n",
       "      <td>1.0</td>\n",
       "      <td>123.0</td>\n",
       "      <td>0.0</td>\n",
       "      <td>NaN</td>\n",
       "      <td>49.0</td>\n",
       "    </tr>\n",
       "    <tr>\n",
       "      <th>237</th>\n",
       "      <td>4</td>\n",
       "      <td>2438033.0</td>\n",
       "      <td>28.10</td>\n",
       "      <td>2016-11-23T00:00:00</td>\n",
       "      <td>1</td>\n",
       "      <td>NaN</td>\n",
       "      <td>NaN</td>\n",
       "      <td>20.75</td>\n",
       "      <td>1</td>\n",
       "      <td>NaN</td>\n",
       "      <td>...</td>\n",
       "      <td>NaN</td>\n",
       "      <td>0.0</td>\n",
       "      <td>Санкт-Петербург</td>\n",
       "      <td>22041.0</td>\n",
       "      <td>17369.0</td>\n",
       "      <td>0.0</td>\n",
       "      <td>NaN</td>\n",
       "      <td>1.0</td>\n",
       "      <td>374.0</td>\n",
       "      <td>251.0</td>\n",
       "    </tr>\n",
       "    <tr>\n",
       "      <th>457</th>\n",
       "      <td>4</td>\n",
       "      <td>9788348.0</td>\n",
       "      <td>70.80</td>\n",
       "      <td>2015-08-01T00:00:00</td>\n",
       "      <td>2</td>\n",
       "      <td>NaN</td>\n",
       "      <td>NaN</td>\n",
       "      <td>38.40</td>\n",
       "      <td>12</td>\n",
       "      <td>NaN</td>\n",
       "      <td>...</td>\n",
       "      <td>10.63</td>\n",
       "      <td>0.0</td>\n",
       "      <td>Санкт-Петербург</td>\n",
       "      <td>37364.0</td>\n",
       "      <td>8322.0</td>\n",
       "      <td>2.0</td>\n",
       "      <td>309.0</td>\n",
       "      <td>2.0</td>\n",
       "      <td>706.0</td>\n",
       "      <td>727.0</td>\n",
       "    </tr>\n",
       "    <tr>\n",
       "      <th>671</th>\n",
       "      <td>4</td>\n",
       "      <td>6051191.0</td>\n",
       "      <td>93.60</td>\n",
       "      <td>2017-04-06T00:00:00</td>\n",
       "      <td>3</td>\n",
       "      <td>NaN</td>\n",
       "      <td>NaN</td>\n",
       "      <td>47.10</td>\n",
       "      <td>8</td>\n",
       "      <td>NaN</td>\n",
       "      <td>...</td>\n",
       "      <td>16.80</td>\n",
       "      <td>0.0</td>\n",
       "      <td>Санкт-Петербург</td>\n",
       "      <td>22041.0</td>\n",
       "      <td>17369.0</td>\n",
       "      <td>0.0</td>\n",
       "      <td>NaN</td>\n",
       "      <td>1.0</td>\n",
       "      <td>374.0</td>\n",
       "      <td>123.0</td>\n",
       "    </tr>\n",
       "    <tr>\n",
       "      <th>1757</th>\n",
       "      <td>5</td>\n",
       "      <td>3600000.0</td>\n",
       "      <td>39.00</td>\n",
       "      <td>2017-04-22T00:00:00</td>\n",
       "      <td>1</td>\n",
       "      <td>NaN</td>\n",
       "      <td>NaN</td>\n",
       "      <td>NaN</td>\n",
       "      <td>9</td>\n",
       "      <td>NaN</td>\n",
       "      <td>...</td>\n",
       "      <td>NaN</td>\n",
       "      <td>0.0</td>\n",
       "      <td>Санкт-Петербург</td>\n",
       "      <td>22735.0</td>\n",
       "      <td>11618.0</td>\n",
       "      <td>1.0</td>\n",
       "      <td>835.0</td>\n",
       "      <td>1.0</td>\n",
       "      <td>652.0</td>\n",
       "      <td>77.0</td>\n",
       "    </tr>\n",
       "    <tr>\n",
       "      <th>1930</th>\n",
       "      <td>1</td>\n",
       "      <td>9750000.0</td>\n",
       "      <td>66.77</td>\n",
       "      <td>2016-05-13T00:00:00</td>\n",
       "      <td>2</td>\n",
       "      <td>NaN</td>\n",
       "      <td>NaN</td>\n",
       "      <td>NaN</td>\n",
       "      <td>4</td>\n",
       "      <td>NaN</td>\n",
       "      <td>...</td>\n",
       "      <td>NaN</td>\n",
       "      <td>0.0</td>\n",
       "      <td>Санкт-Петербург</td>\n",
       "      <td>39886.0</td>\n",
       "      <td>10660.0</td>\n",
       "      <td>1.0</td>\n",
       "      <td>2276.0</td>\n",
       "      <td>3.0</td>\n",
       "      <td>244.0</td>\n",
       "      <td>90.0</td>\n",
       "    </tr>\n",
       "    <tr>\n",
       "      <th>2392</th>\n",
       "      <td>7</td>\n",
       "      <td>5395770.0</td>\n",
       "      <td>53.00</td>\n",
       "      <td>2017-06-29T00:00:00</td>\n",
       "      <td>2</td>\n",
       "      <td>NaN</td>\n",
       "      <td>NaN</td>\n",
       "      <td>29.00</td>\n",
       "      <td>22</td>\n",
       "      <td>NaN</td>\n",
       "      <td>...</td>\n",
       "      <td>9.00</td>\n",
       "      <td>0.0</td>\n",
       "      <td>Санкт-Петербург</td>\n",
       "      <td>43074.0</td>\n",
       "      <td>10820.0</td>\n",
       "      <td>0.0</td>\n",
       "      <td>NaN</td>\n",
       "      <td>0.0</td>\n",
       "      <td>NaN</td>\n",
       "      <td>48.0</td>\n",
       "    </tr>\n",
       "    <tr>\n",
       "      <th>2846</th>\n",
       "      <td>4</td>\n",
       "      <td>2325000.0</td>\n",
       "      <td>27.80</td>\n",
       "      <td>2016-09-21T00:00:00</td>\n",
       "      <td>1</td>\n",
       "      <td>NaN</td>\n",
       "      <td>NaN</td>\n",
       "      <td>19.40</td>\n",
       "      <td>15</td>\n",
       "      <td>NaN</td>\n",
       "      <td>...</td>\n",
       "      <td>NaN</td>\n",
       "      <td>0.0</td>\n",
       "      <td>Санкт-Петербург</td>\n",
       "      <td>22041.0</td>\n",
       "      <td>17369.0</td>\n",
       "      <td>0.0</td>\n",
       "      <td>NaN</td>\n",
       "      <td>1.0</td>\n",
       "      <td>374.0</td>\n",
       "      <td>307.0</td>\n",
       "    </tr>\n",
       "    <tr>\n",
       "      <th>2952</th>\n",
       "      <td>10</td>\n",
       "      <td>6500000.0</td>\n",
       "      <td>54.30</td>\n",
       "      <td>2019-04-23T00:00:00</td>\n",
       "      <td>1</td>\n",
       "      <td>NaN</td>\n",
       "      <td>NaN</td>\n",
       "      <td>22.20</td>\n",
       "      <td>6</td>\n",
       "      <td>NaN</td>\n",
       "      <td>...</td>\n",
       "      <td>12.30</td>\n",
       "      <td>NaN</td>\n",
       "      <td>Санкт-Петербург</td>\n",
       "      <td>23606.0</td>\n",
       "      <td>3148.0</td>\n",
       "      <td>0.0</td>\n",
       "      <td>NaN</td>\n",
       "      <td>0.0</td>\n",
       "      <td>NaN</td>\n",
       "      <td>NaN</td>\n",
       "    </tr>\n",
       "    <tr>\n",
       "      <th>3031</th>\n",
       "      <td>9</td>\n",
       "      <td>6400000.0</td>\n",
       "      <td>56.70</td>\n",
       "      <td>2018-03-27T00:00:00</td>\n",
       "      <td>2</td>\n",
       "      <td>NaN</td>\n",
       "      <td>NaN</td>\n",
       "      <td>32.00</td>\n",
       "      <td>12</td>\n",
       "      <td>NaN</td>\n",
       "      <td>...</td>\n",
       "      <td>12.00</td>\n",
       "      <td>NaN</td>\n",
       "      <td>Кудрово</td>\n",
       "      <td>NaN</td>\n",
       "      <td>NaN</td>\n",
       "      <td>NaN</td>\n",
       "      <td>NaN</td>\n",
       "      <td>NaN</td>\n",
       "      <td>NaN</td>\n",
       "      <td>231.0</td>\n",
       "    </tr>\n",
       "  </tbody>\n",
       "</table>\n",
       "<p>10 rows × 22 columns</p>\n",
       "</div>"
      ],
      "text/plain": [
       "      total_images  last_price  total_area first_day_exposition  rooms  \\\n",
       "186             12  11640000.0       65.20  2018-10-02T00:00:00      2   \n",
       "237              4   2438033.0       28.10  2016-11-23T00:00:00      1   \n",
       "457              4   9788348.0       70.80  2015-08-01T00:00:00      2   \n",
       "671              4   6051191.0       93.60  2017-04-06T00:00:00      3   \n",
       "1757             5   3600000.0       39.00  2017-04-22T00:00:00      1   \n",
       "1930             1   9750000.0       66.77  2016-05-13T00:00:00      2   \n",
       "2392             7   5395770.0       53.00  2017-06-29T00:00:00      2   \n",
       "2846             4   2325000.0       27.80  2016-09-21T00:00:00      1   \n",
       "2952            10   6500000.0       54.30  2019-04-23T00:00:00      1   \n",
       "3031             9   6400000.0       56.70  2018-03-27T00:00:00      2   \n",
       "\n",
       "      ceiling_height  floors_total  living_area  floor is_apartment  ...  \\\n",
       "186              NaN           NaN        30.80      4          NaN  ...   \n",
       "237              NaN           NaN        20.75      1          NaN  ...   \n",
       "457              NaN           NaN        38.40     12          NaN  ...   \n",
       "671              NaN           NaN        47.10      8          NaN  ...   \n",
       "1757             NaN           NaN          NaN      9          NaN  ...   \n",
       "1930             NaN           NaN          NaN      4          NaN  ...   \n",
       "2392             NaN           NaN        29.00     22          NaN  ...   \n",
       "2846             NaN           NaN        19.40     15          NaN  ...   \n",
       "2952             NaN           NaN        22.20      6          NaN  ...   \n",
       "3031             NaN           NaN        32.00     12          NaN  ...   \n",
       "\n",
       "      kitchen_area  balcony    locality_name  airports_nearest  \\\n",
       "186          12.00      NaN  Санкт-Петербург           39197.0   \n",
       "237            NaN      0.0  Санкт-Петербург           22041.0   \n",
       "457          10.63      0.0  Санкт-Петербург           37364.0   \n",
       "671          16.80      0.0  Санкт-Петербург           22041.0   \n",
       "1757           NaN      0.0  Санкт-Петербург           22735.0   \n",
       "1930           NaN      0.0  Санкт-Петербург           39886.0   \n",
       "2392          9.00      0.0  Санкт-Петербург           43074.0   \n",
       "2846           NaN      0.0  Санкт-Петербург           22041.0   \n",
       "2952         12.30      NaN  Санкт-Петербург           23606.0   \n",
       "3031         12.00      NaN          Кудрово               NaN   \n",
       "\n",
       "     cityCenters_nearest  parks_around3000  parks_nearest  ponds_around3000  \\\n",
       "186              12373.0               1.0          123.0               0.0   \n",
       "237              17369.0               0.0            NaN               1.0   \n",
       "457               8322.0               2.0          309.0               2.0   \n",
       "671              17369.0               0.0            NaN               1.0   \n",
       "1757             11618.0               1.0          835.0               1.0   \n",
       "1930             10660.0               1.0         2276.0               3.0   \n",
       "2392             10820.0               0.0            NaN               0.0   \n",
       "2846             17369.0               0.0            NaN               1.0   \n",
       "2952              3148.0               0.0            NaN               0.0   \n",
       "3031                 NaN               NaN            NaN               NaN   \n",
       "\n",
       "      ponds_nearest  days_exposition  \n",
       "186             NaN             49.0  \n",
       "237           374.0            251.0  \n",
       "457           706.0            727.0  \n",
       "671           374.0            123.0  \n",
       "1757          652.0             77.0  \n",
       "1930          244.0             90.0  \n",
       "2392            NaN             48.0  \n",
       "2846          374.0            307.0  \n",
       "2952            NaN              NaN  \n",
       "3031            NaN            231.0  \n",
       "\n",
       "[10 rows x 22 columns]"
      ]
     },
     "metadata": {},
     "output_type": "display_data"
    }
   ],
   "source": [
    "print(f\"Количество пропущенных значений: {realty['floors_total'].isna().sum()}\")\n",
    "print(f\"Доля пропущенных значений: {realty['floors_total'].isna().sum() / realty.shape[0] * 100}\")\n",
    "display(realty.loc[realty['floors_total'].isna()].head(10))"
   ]
  },
  {
   "cell_type": "markdown",
   "id": "9ae2c15a",
   "metadata": {},
   "source": [
    "Пропусков немного. Строки с пропущенными значениями нельзя отнести к одной конкретной категории (разные даты заявлений, разные цены и расположения квартир и тд).\n",
    "\n",
    "Данные также могли не внести составители заявления или значения могли быть утеряны в результате сбоя при загрузке данных в базу. Информацию можно восстановить при наличии адреса дома, или при обращении к владельцам данных.\n",
    "Замена небольшого колличества пропусков средним или медианным значением не внесёт сильного искажения в распределение данных. Но такие замены могут внести искажения во влияние расположения квартир на их стоимость (последний этаж - стоимость). \n",
    "\n",
    "На данном этапе удалим строки с пропусками."
   ]
  },
  {
   "cell_type": "code",
   "execution_count": 8,
   "id": "1ce3dcda",
   "metadata": {
    "scrolled": true
   },
   "outputs": [
    {
     "name": "stdout",
     "output_type": "stream",
     "text": [
      "Колличество оставшихся записей: 23613\n"
     ]
    }
   ],
   "source": [
    "realty = realty.loc[~(realty['floors_total'].isna())]\n",
    "print('Колличество оставшихся записей:', realty.shape[0])"
   ]
  },
  {
   "cell_type": "markdown",
   "id": "e868eee9",
   "metadata": {},
   "source": [
    "---\n",
    "\n",
    "* Рассмотрим жилую площадь в столбце `'living_area'`."
   ]
  },
  {
   "cell_type": "code",
   "execution_count": 9,
   "id": "15d558ee",
   "metadata": {},
   "outputs": [
    {
     "name": "stdout",
     "output_type": "stream",
     "text": [
      "Количество пропущенных значений: 1870\n",
      "Доля пропущенных значений: 7.919366450683945\n"
     ]
    }
   ],
   "source": [
    "print(f\"Количество пропущенных значений: {realty['living_area'].isna().sum()}\")\n",
    "print(f\"Доля пропущенных значений: {realty['living_area'].isna().sum() / realty.shape[0] * 100}\")"
   ]
  },
  {
   "cell_type": "markdown",
   "id": "5f54b90d",
   "metadata": {},
   "source": [
    "Пропусков в данном столбце достаточно много (около 8% от общего числа данных). Данные могли не внести составители заявления или значения могли быть утеряны в результате сбоя при загрузке данных в базу.\n",
    "\n",
    "Найдем коэффициент жилой площади от всей площади и через него запоненим пропуски."
   ]
  },
  {
   "cell_type": "code",
   "execution_count": 10,
   "id": "b1c5ccd0",
   "metadata": {},
   "outputs": [
    {
     "name": "stdout",
     "output_type": "stream",
     "text": [
      "Пропуски по столбцу 'living_area': 0\n"
     ]
    }
   ],
   "source": [
    "# коэффициент жилой площади\n",
    "living_ratio = realty['living_area'].mean() / realty['total_area'].mean()\n",
    "realty['living_area'].fillna(realty['total_area'] * living_ratio, inplace=True)\n",
    "print(f\"Пропуски по столбцу 'living_area': {realty['living_area'].isna().sum()}\")"
   ]
  },
  {
   "cell_type": "markdown",
   "id": "b3d45bdb",
   "metadata": {},
   "source": [
    "То же самое проделаем для кухонной площади по столбцу `'kitchen_area'`."
   ]
  },
  {
   "cell_type": "code",
   "execution_count": 11,
   "id": "f2130110",
   "metadata": {},
   "outputs": [
    {
     "name": "stdout",
     "output_type": "stream",
     "text": [
      "Пропуски по столбцу 'kitchen_area': 0\n"
     ]
    }
   ],
   "source": [
    "# коэффициент кухонной площади\n",
    "kitchen_ratio = realty['kitchen_area'].mean() / realty['total_area'].mean()\n",
    "realty['kitchen_area'].fillna(realty['total_area'] * kitchen_ratio, inplace=True)\n",
    "print(f\"Пропуски по столбцу 'kitchen_area': {realty['kitchen_area'].isna().sum()}\")"
   ]
  },
  {
   "cell_type": "markdown",
   "id": "423a23ed",
   "metadata": {},
   "source": [
    "---\n",
    "\n",
    "* Рассмотрим принадлежность к аппартаментам в столбце `'is_apartment'`."
   ]
  },
  {
   "cell_type": "code",
   "execution_count": 12,
   "id": "29e4528d",
   "metadata": {},
   "outputs": [
    {
     "name": "stdout",
     "output_type": "stream",
     "text": [
      "Количество пропущенных значений: 20838\n",
      "Доля пропущенных значений: 88.24799898361071\n"
     ]
    }
   ],
   "source": [
    "print(f\"Количество пропущенных значений: {realty['is_apartment'].isna().sum()}\")\n",
    "print(f\"Доля пропущенных значений: {realty['is_apartment'].isna().sum() / realty.shape[0] * 100}\")"
   ]
  },
  {
   "cell_type": "markdown",
   "id": "4f25e832",
   "metadata": {},
   "source": [
    "Предположим, что пропуск значения в `'is_apartment'` означает, что помещение не принадлежит к аппартаментам, просто заявитель не стал указывать значение \"False\". Тогда все пропуски заменим на булево значение False."
   ]
  },
  {
   "cell_type": "code",
   "execution_count": 13,
   "id": "548ab99d",
   "metadata": {},
   "outputs": [
    {
     "name": "stdout",
     "output_type": "stream",
     "text": [
      "Пропуски по столбцу 'is_apartment': 0\n"
     ]
    }
   ],
   "source": [
    "# замена пропусков в 'is_apartment' на False\n",
    "realty['is_apartment'].fillna(False, inplace=True)\n",
    "print(f\"Пропуски по столбцу 'is_apartment': {realty['is_apartment'].isna().sum()}\")"
   ]
  },
  {
   "cell_type": "markdown",
   "id": "57e87716",
   "metadata": {},
   "source": [
    "---\n",
    "\n",
    "* Рассмотрим количество балконов в столбце `'balcony'`."
   ]
  },
  {
   "cell_type": "code",
   "execution_count": 14,
   "id": "f0d94a14",
   "metadata": {},
   "outputs": [
    {
     "name": "stdout",
     "output_type": "stream",
     "text": [
      "Количество пропущенных значений: 11480\n",
      "Доля пропущенных значений: 48.61728708762122\n"
     ]
    }
   ],
   "source": [
    "print(f\"Количество пропущенных значений: {realty['balcony'].isna().sum()}\")\n",
    "print(f\"Доля пропущенных значений: {realty['balcony'].isna().sum() / realty.shape[0] * 100}\")"
   ]
  },
  {
   "cell_type": "markdown",
   "id": "fdf0d141",
   "metadata": {},
   "source": [
    "Предположим, что пропуск значения в `'balcony'` означает, что в помещении нет балконов, просто заявитель не стал указывать 0 и просто пропустил данное поле. То есть все пропуски заменим на значение 0."
   ]
  },
  {
   "cell_type": "code",
   "execution_count": 15,
   "id": "6d256721",
   "metadata": {},
   "outputs": [
    {
     "name": "stdout",
     "output_type": "stream",
     "text": [
      "Пропуски по столбцу 'balcony': 0\n"
     ]
    }
   ],
   "source": [
    "# замена пропусков  в 'balcony' на 0\n",
    "realty['balcony'].fillna(0, inplace=True)\n",
    "print(f\"Пропуски по столбцу 'balcony': {realty['balcony'].isna().sum()}\")"
   ]
  },
  {
   "cell_type": "markdown",
   "id": "a3d31619",
   "metadata": {},
   "source": [
    "---\n",
    "\n",
    "* Рассмотрим местоположение квартиры в столбце `'locality_name'`."
   ]
  },
  {
   "cell_type": "code",
   "execution_count": 16,
   "id": "aba2df3b",
   "metadata": {},
   "outputs": [
    {
     "name": "stdout",
     "output_type": "stream",
     "text": [
      "Количество пропущенных значений: 48\n",
      "Доля пропущенных значений: 0.2032778554186253\n"
     ]
    }
   ],
   "source": [
    "print(f\"Количество пропущенных значений: {realty['locality_name'].isna().sum()}\")\n",
    "print(f\"Доля пропущенных значений: {realty['locality_name'].isna().sum() / realty.shape[0] * 100}\")"
   ]
  },
  {
   "cell_type": "markdown",
   "id": "a3191ee3",
   "metadata": {},
   "source": [
    "Пропусков немного. Данные также могли не внести составители заявления или значения могли быть утеряны в результате сбоя при загрузке данных в базу. \n",
    "\n",
    "Эти данные важны, так как имет место влияние месторасположения квартир на их стоимость. Отфильтруем квартиры, расположенные в Санкт-Петербурге и возьмем разброс удаленности от центра. Все квартиры, попадающие в этот разброс, также расположены в Санкт-Петербурге. Построим гистаграмму распределения `'cityCenters_nearest'` при `'locality_name'` = \"Санкт-Петербург\"."
   ]
  },
  {
   "cell_type": "code",
   "execution_count": 17,
   "id": "6dfc7905",
   "metadata": {
    "scrolled": false
   },
   "outputs": [
    {
     "data": {
      "text/plain": [
       "array([[<AxesSubplot:title={'center':'cityCenters_nearest'}>]],\n",
       "      dtype=object)"
      ]
     },
     "execution_count": 17,
     "metadata": {},
     "output_type": "execute_result"
    },
    {
     "data": {
      "image/png": "[encoded data removed]",
      "text/plain": [
       "<Figure size 432x288 with 1 Axes>"
      ]
     },
     "metadata": {
      "needs_background": "light"
     },
     "output_type": "display_data"
    }
   ],
   "source": [
    "# гистограмма распределения удаленности от центра, квартир, расположенных в Санкт-Петербурге\n",
    "realty.query('locality_name == \"Санкт-Петербург\"').hist('cityCenters_nearest', bins=30)"
   ]
  },
  {
   "cell_type": "markdown",
   "id": "23d31561",
   "metadata": {},
   "source": [
    "Так как город имеет границы неправильной формы, значания удаленности в 25 и 30 км могут выходить за пределы города, в зависимости от того, в какую сторону мерить. Основная масса квартир удалена от центра в пределах 20 км. Заменим значение `'locality_name'` в таких объявлениях на \"Санкт-Петербург\". Остальные строки удалим."
   ]
  },
  {
   "cell_type": "code",
   "execution_count": 18,
   "id": "5ae7b0d1",
   "metadata": {
    "scrolled": true
   },
   "outputs": [],
   "source": [
    "# функция замены пустого наименования месторасположения квартиры на \"Санкт-Петербург\", \n",
    "# при условии, что удаленность от центра <= 20 000 м (20 км).\n",
    "def locality_name_fillna(row):\n",
    "    max_cityCenters_nearest = 20000\n",
    "    if pd.isnull(row['locality_name']):\n",
    "        if row['cityCenters_nearest'] <= max_cityCenters_nearest:\n",
    "            return 'Санкт-Петербург'\n",
    "    return row['locality_name']\n",
    "\n",
    "realty['locality_name'] = realty.apply(locality_name_fillna, axis=1)"
   ]
  },
  {
   "cell_type": "code",
   "execution_count": 19,
   "id": "20cbd8bf",
   "metadata": {
    "scrolled": true
   },
   "outputs": [
    {
     "name": "stdout",
     "output_type": "stream",
     "text": [
      "Колличество оставшихся записей: 23602\n"
     ]
    }
   ],
   "source": [
    "# удаление оставшихся пустых значений\n",
    "realty = realty.loc[~(realty['locality_name'].isna())]\n",
    "realty.reset_index(drop=True, inplace=True)\n",
    "print('Колличество оставшихся записей:', realty.shape[0])"
   ]
  },
  {
   "cell_type": "markdown",
   "id": "a181b488",
   "metadata": {},
   "source": [
    "---\n",
    "\n",
    "* Рассмотрим расстояние до ближайшего парка и водоема по столбцам `'parks_around3000'`, `'parks_nearest'`, `'ponds_around3000'`, `'ponds_nearest'`.\n",
    "\n",
    "Данные по расстоянию до ближайшего парка и по расстоянию до ближайшего водоёма получены автоматически на основе картографических данных, поэтому предположим, что пропуски получены из-за невозможности посчитать расстояние по какой-либо причине (например, радиус поиска меньше, чем расстояние до ближайшего парка/водоёма).\n",
    "\n",
    "Заменим в таком случае пропуски на 0, но только при условии, что в столбцах число парков/водоёмов в радиусе 3км тоже пропуск или 0."
   ]
  },
  {
   "cell_type": "code",
   "execution_count": 20,
   "id": "eec46730",
   "metadata": {},
   "outputs": [],
   "source": [
    "# объединяем данные, где в parks_nearest стоит пропуск и в parks_around3000 пустые значения, либо < 1.\n",
    "park_condition = (realty['parks_nearest'].isna() & (realty['parks_around3000'].isna() | (realty['parks_around3000'] < 1.0)))\n",
    "# в объединенных данных заполняем пропуски 0\n",
    "realty.loc[park_condition, ['parks_nearest', 'parks_around3000']] = realty.loc[park_condition, ['parks_nearest', 'parks_around3000']].fillna(0)"
   ]
  },
  {
   "cell_type": "code",
   "execution_count": 21,
   "id": "66d99e92",
   "metadata": {},
   "outputs": [],
   "source": [
    "# объединяем данные, где в ponds_nearest стоит пропуск и в ponds_around3000 пустые значения, либо < 1.\n",
    "pond_condition = (realty['ponds_nearest'].isna() & (realty['ponds_around3000'].isna() | (realty['ponds_around3000'] < 1.0)))\n",
    "# в объединенных данных заполняем пропуски 0\n",
    "realty.loc[pond_condition, ['ponds_nearest', 'ponds_around3000']] = realty.loc[pond_condition, ['ponds_nearest', 'ponds_around3000']].fillna(0)"
   ]
  },
  {
   "cell_type": "code",
   "execution_count": 22,
   "id": "6d0fcba2",
   "metadata": {
    "scrolled": true
   },
   "outputs": [
    {
     "name": "stdout",
     "output_type": "stream",
     "text": [
      "Осталось пропущенных значений:\n"
     ]
    },
    {
     "data": {
      "text/plain": [
       "parks_nearest       0\n",
       "parks_around3000    0\n",
       "ponds_nearest       0\n",
       "ponds_around3000    0\n",
       "dtype: int64"
      ]
     },
     "execution_count": 22,
     "metadata": {},
     "output_type": "execute_result"
    }
   ],
   "source": [
    "# проверка пропущенных значений\n",
    "print('Осталось пропущенных значений:')\n",
    "realty[['parks_nearest', 'parks_around3000', 'ponds_nearest', 'ponds_around3000']].isna().sum()"
   ]
  },
  {
   "cell_type": "markdown",
   "id": "b63dc019",
   "metadata": {},
   "source": [
    "---\n",
    "\n",
    "* Рассмотрим расстояние до центра и аэропорта в столбцах `'cityCenters_nearest'`и `'airports_nearest'`."
   ]
  },
  {
   "cell_type": "code",
   "execution_count": 23,
   "id": "65a2ac7a",
   "metadata": {},
   "outputs": [
    {
     "name": "stdout",
     "output_type": "stream",
     "text": [
      "Количество пропущенных значений по столбцу 'cityCenters_nearest': 5501\n",
      "Доля пропущенных значений: 23.30734683501398\n"
     ]
    }
   ],
   "source": [
    "print(f\"Количество пропущенных значений по столбцу 'cityCenters_nearest': {realty['cityCenters_nearest'].isna().sum()}\")\n",
    "print(f\"Доля пропущенных значений: {realty['cityCenters_nearest'].isna().sum() / realty.shape[0] * 100}\")"
   ]
  },
  {
   "cell_type": "code",
   "execution_count": 24,
   "id": "3a39ac5a",
   "metadata": {},
   "outputs": [
    {
     "name": "stdout",
     "output_type": "stream",
     "text": [
      "Количество пропущенных значений по столбцу 'airports_nearest': 5524\n",
      "Доля пропущенных значений: 23.404796203711552\n"
     ]
    }
   ],
   "source": [
    "print(f\"Количество пропущенных значений по столбцу 'airports_nearest': {realty['airports_nearest'].isna().sum()}\")\n",
    "print(f\"Доля пропущенных значений: {realty['airports_nearest'].isna().sum() / realty.shape[0] * 100}\")"
   ]
  },
  {
   "cell_type": "markdown",
   "id": "19506cc3",
   "metadata": {},
   "source": [
    "Пропусков в данных столбцах достаточно много (порядка 23% от общего числа данных). Строки с пропущенными значениями нельзя отнести к одной конкретной категории (разные даты заявлений, разные цены и расположения квартир и тд).\n",
    "\n",
    "Данные по расстоянию до ближайшего парка и по расстоянию до ближайшего водоёма получены автоматически на основе картографических данных, поэтому предположим, что пропуски получены из-за невозможности посчитать расстояние по какой-либо причине или значения могли быть утеряны в результате сбоя при загрузке данных в базу.\n",
    "\n",
    "Данные невозможно восстановить на основе имеющейся информации. На данном этапе оставим пропуски как есть."
   ]
  },
  {
   "cell_type": "markdown",
   "id": "2c098938",
   "metadata": {},
   "source": [
    "---\n",
    "\n",
    "* Рассмотрим колличество дней, которое объявление было размещено. Столбец `'days_exposition'`."
   ]
  },
  {
   "cell_type": "code",
   "execution_count": 25,
   "id": "15a80b5e",
   "metadata": {},
   "outputs": [
    {
     "name": "stdout",
     "output_type": "stream",
     "text": [
      "Количество пропущенных значений: 3171\n",
      "Доля пропущенных значений: 13.435302093042962\n"
     ]
    }
   ],
   "source": [
    "print(f\"Количество пропущенных значений: {realty['days_exposition'].isna().sum()}\")\n",
    "print(f\"Доля пропущенных значений: {realty['days_exposition'].isna().sum() / realty.shape[0] * 100}\")"
   ]
  },
  {
   "cell_type": "markdown",
   "id": "416241bc",
   "metadata": {},
   "source": [
    "Пропусков в данном столбце достаточно много (порядка 13% от общего числа данных). Строки с пропущенными значениями нельзя отнести к одной конкретной категории (разные даты заявлений, разные цены и расположения квартир и тд.).\n",
    "\n",
    "Данные могли быть утеряны в результате сбоя системы при выгрузке базы.\n",
    "Также возможно информация не была внесена системой, так как объявление не было снято в момент выгрузки данных.\n",
    "Информацию можно восстановить при обращении к владельцам данных.\n",
    "\n",
    "На данном этапе предположим, что объявления с пропусками не были сняты, заполним пропуски 0."
   ]
  },
  {
   "cell_type": "code",
   "execution_count": 26,
   "id": "e2a0c3e2",
   "metadata": {},
   "outputs": [],
   "source": [
    "realty['days_exposition'].fillna(0, inplace=True)"
   ]
  },
  {
   "cell_type": "markdown",
   "id": "ead645fa",
   "metadata": {},
   "source": [
    "Отобразим конечный результат работы с пропусками."
   ]
  },
  {
   "cell_type": "code",
   "execution_count": 27,
   "id": "459e7c55",
   "metadata": {},
   "outputs": [
    {
     "data": {
      "text/plain": [
       "total_images               0\n",
       "last_price                 0\n",
       "total_area                 0\n",
       "first_day_exposition       0\n",
       "rooms                      0\n",
       "ceiling_height          9110\n",
       "floors_total               0\n",
       "living_area                0\n",
       "floor                      0\n",
       "is_apartment               0\n",
       "studio                     0\n",
       "open_plan                  0\n",
       "kitchen_area               0\n",
       "balcony                    0\n",
       "locality_name              0\n",
       "airports_nearest        5524\n",
       "cityCenters_nearest     5501\n",
       "parks_around3000           0\n",
       "parks_nearest              0\n",
       "ponds_around3000           0\n",
       "ponds_nearest              0\n",
       "days_exposition            0\n",
       "dtype: int64"
      ]
     },
     "execution_count": 27,
     "metadata": {},
     "output_type": "execute_result"
    }
   ],
   "source": [
    "realty.isna().sum()"
   ]
  },
  {
   "cell_type": "markdown",
   "id": "c89758eb",
   "metadata": {},
   "source": [
    "Мы заменили пропуски во всех столбцах, кроме:\n",
    "\n",
    "* `'ceiling_height'`: исказит результаты дальнейшего анализа, значения этого параметра квартиры рассматриваются далее подробнее\n",
    "* `'airports_nearest'`: предположим, что пропуски вызваны тем, что поблизости нет аэропорта, оставим пропуски\n",
    "* `'cityCenters_nearest'`: предположим, что пропуски вызваны тем, что квартира слишком далеко от центра, оставим пропуски"
   ]
  },
  {
   "cell_type": "markdown",
   "id": "f1053a2a",
   "metadata": {},
   "source": [
    "### 2.2 Дубликаты\n",
    "Проверим наличие явных дубликатов."
   ]
  },
  {
   "cell_type": "code",
   "execution_count": 28,
   "id": "16b17f64",
   "metadata": {
    "scrolled": true
   },
   "outputs": [
    {
     "data": {
      "text/plain": [
       "0"
      ]
     },
     "execution_count": 28,
     "metadata": {},
     "output_type": "execute_result"
    }
   ],
   "source": [
    "realty.duplicated().sum()"
   ]
  },
  {
   "cell_type": "markdown",
   "id": "44a78fc3",
   "metadata": {},
   "source": [
    "Явных дубликатов не обнаруежено. Исследуем столбец `'locality_name'` на предмет неявных дубликатов."
   ]
  },
  {
   "cell_type": "code",
   "execution_count": 29,
   "id": "4b6e7c97",
   "metadata": {
    "scrolled": true
   },
   "outputs": [
    {
     "data": {
      "text/plain": [
       "array(['Санкт-Петербург', 'посёлок Шушары', 'городской посёлок Янино-1',\n",
       "       'посёлок Парголово', 'посёлок Мурино', 'Ломоносов', 'Сертолово',\n",
       "       'Петергоф', 'Пушкин', 'деревня Кудрово', 'Коммунар', 'Колпино',\n",
       "       'поселок городского типа Красный Бор', 'Гатчина', 'поселок Мурино',\n",
       "       'деревня Фёдоровское', 'Выборг', 'Кронштадт', 'Кировск',\n",
       "       'деревня Новое Девяткино', 'посёлок Металлострой',\n",
       "       'посёлок городского типа Лебяжье',\n",
       "       'посёлок городского типа Сиверский', 'поселок Молодцово',\n",
       "       'поселок городского типа Кузьмоловский',\n",
       "       'садовое товарищество Новая Ропша', 'Павловск',\n",
       "       'деревня Пикколово', 'Всеволожск', 'Волхов', 'Кингисепп',\n",
       "       'Приозерск', 'Сестрорецк', 'деревня Куттузи', 'посёлок Аннино',\n",
       "       'поселок городского типа Ефимовский', 'посёлок Плодовое',\n",
       "       'деревня Заклинье', 'поселок Торковичи', 'поселок Первомайское',\n",
       "       'Красное Село', 'посёлок Понтонный', 'Сясьстрой', 'деревня Старая',\n",
       "       'деревня Лесколово', 'посёлок Новый Свет', 'Сланцы',\n",
       "       'село Путилово', 'Ивангород', 'Мурино', 'Шлиссельбург',\n",
       "       'Никольское', 'Зеленогорск', 'Сосновый Бор', 'поселок Новый Свет',\n",
       "       'деревня Оржицы', 'деревня Кальтино', 'Кудрово',\n",
       "       'поселок Романовка', 'посёлок Бугры', 'поселок Бугры',\n",
       "       'поселок городского типа Рощино', 'Кириши', 'Луга', 'Волосово',\n",
       "       'Отрадное', 'село Павлово', 'поселок Оредеж', 'село Копорье',\n",
       "       'посёлок городского типа Красный Бор', 'посёлок Молодёжное',\n",
       "       'Тихвин', 'посёлок Победа', 'деревня Нурма',\n",
       "       'поселок городского типа Синявино', 'Тосно',\n",
       "       'посёлок городского типа Кузьмоловский', 'посёлок Стрельна',\n",
       "       'Бокситогорск', 'посёлок Александровская', 'деревня Лопухинка',\n",
       "       'Пикалёво', 'поселок Терволово',\n",
       "       'поселок городского типа Советский', 'Подпорожье',\n",
       "       'посёлок Петровское', 'посёлок городского типа Токсово',\n",
       "       'поселок Сельцо', 'посёлок городского типа Вырица',\n",
       "       'деревня Кипень', 'деревня Келози', 'деревня Вартемяги',\n",
       "       'посёлок Тельмана', 'поселок Севастьяново',\n",
       "       'городской поселок Большая Ижора', 'городской посёлок Павлово',\n",
       "       'деревня Агалатово', 'посёлок Новогорелово',\n",
       "       'городской посёлок Лесогорский', 'деревня Лаголово',\n",
       "       'поселок Цвелодубово', 'поселок городского типа Рахья',\n",
       "       'поселок городского типа Вырица', 'деревня Белогорка',\n",
       "       'поселок Заводской', 'городской посёлок Новоселье',\n",
       "       'деревня Большие Колпаны', 'деревня Горбунки', 'деревня Батово',\n",
       "       'деревня Заневка', 'деревня Иссад', 'Приморск',\n",
       "       'городской посёлок Фёдоровское', 'деревня Мистолово',\n",
       "       'Новая Ладога', 'поселок Зимитицы', 'поселок Барышево',\n",
       "       'деревня Разметелево', 'поселок городского типа имени Свердлова',\n",
       "       'деревня Пеники', 'поселок Рябово', 'деревня Пудомяги',\n",
       "       'поселок станции Корнево', 'деревня Низино', 'деревня Бегуницы',\n",
       "       'посёлок Поляны', 'городской посёлок Мга', 'поселок Елизаветино',\n",
       "       'посёлок городского типа Кузнечное', 'деревня Колтуши',\n",
       "       'поселок Запорожское', 'посёлок городского типа Рощино',\n",
       "       'деревня Гостилицы', 'деревня Малое Карлино',\n",
       "       'посёлок Мичуринское', 'посёлок городского типа имени Морозова',\n",
       "       'посёлок Песочный', 'посёлок Сосново', 'деревня Аро',\n",
       "       'поселок Ильичёво', 'посёлок городского типа Тайцы',\n",
       "       'деревня Малое Верево', 'деревня Извара', 'поселок станции Вещево',\n",
       "       'село Паша', 'деревня Калитино',\n",
       "       'посёлок городского типа Ульяновка', 'деревня Чудской Бор',\n",
       "       'поселок городского типа Дубровка', 'деревня Мины',\n",
       "       'поселок Войсковицы', 'посёлок городского типа имени Свердлова',\n",
       "       'деревня Коркино', 'посёлок Ропша',\n",
       "       'поселок городского типа Приладожский', 'посёлок Щеглово',\n",
       "       'посёлок Гаврилово', 'Лодейное Поле', 'деревня Рабитицы',\n",
       "       'поселок городского типа Никольский', 'деревня Кузьмолово',\n",
       "       'деревня Малые Колпаны', 'поселок Тельмана',\n",
       "       'посёлок Петро-Славянка', 'городской посёлок Назия',\n",
       "       'посёлок Репино', 'посёлок Ильичёво', 'поселок Углово',\n",
       "       'поселок Старая Малукса', 'садовое товарищество Рахья',\n",
       "       'поселок Аннино', 'поселок Победа', 'деревня Меньково',\n",
       "       'деревня Старые Бегуницы', 'посёлок Сапёрный', 'поселок Семрино',\n",
       "       'поселок Гаврилово', 'поселок Глажево', 'поселок Кобринское',\n",
       "       'деревня Гарболово', 'деревня Юкки',\n",
       "       'поселок станции Приветнинское', 'деревня Мануйлово',\n",
       "       'деревня Пчева', 'поселок Поляны', 'поселок Цвылёво',\n",
       "       'поселок Мельниково', 'посёлок Пудость', 'посёлок Усть-Луга',\n",
       "       'Светогорск', 'Любань', 'поселок Селезнёво',\n",
       "       'поселок городского типа Рябово', 'Каменногорск', 'деревня Кривко',\n",
       "       'поселок Глебычево', 'деревня Парицы', 'поселок Жилпосёлок',\n",
       "       'посёлок городского типа Мга', 'городской поселок Янино-1',\n",
       "       'посёлок Войскорово', 'село Никольское', 'посёлок Терволово',\n",
       "       'поселок Стеклянный', 'посёлок городского типа Важины',\n",
       "       'посёлок Мыза-Ивановка', 'село Русско-Высоцкое',\n",
       "       'поселок городского типа Лебяжье',\n",
       "       'поселок городского типа Форносово', 'село Старая Ладога',\n",
       "       'поселок Житково', 'городской посёлок Виллози', 'деревня Лампово',\n",
       "       'деревня Шпаньково', 'деревня Лаврики', 'посёлок Сумино',\n",
       "       'посёлок Возрождение', 'деревня Старосиверская',\n",
       "       'посёлок Кикерино', 'поселок Возрождение',\n",
       "       'деревня Старое Хинколово', 'посёлок Пригородный',\n",
       "       'посёлок Торфяное', 'городской посёлок Будогощь',\n",
       "       'поселок Суходолье', 'поселок Красная Долина', 'деревня Хапо-Ое',\n",
       "       'поселок городского типа Дружная Горка', 'поселок Лисий Нос',\n",
       "       'деревня Яльгелево', 'посёлок Стеклянный', 'село Рождествено',\n",
       "       'деревня Старополье', 'посёлок Левашово', 'деревня Сяськелево',\n",
       "       'деревня Камышовка',\n",
       "       'садоводческое некоммерческое товарищество Лесная Поляна',\n",
       "       'деревня Хязельки', 'поселок Жилгородок',\n",
       "       'посёлок городского типа Павлово', 'деревня Ялгино',\n",
       "       'поселок Новый Учхоз', 'городской посёлок Рощино',\n",
       "       'поселок Гончарово', 'поселок Почап', 'посёлок Сапёрное',\n",
       "       'посёлок Платформа 69-й километр', 'поселок Каложицы',\n",
       "       'деревня Фалилеево', 'деревня Пельгора',\n",
       "       'поселок городского типа Лесогорский', 'деревня Торошковичи',\n",
       "       'посёлок Белоостров', 'посёлок Алексеевка', 'поселок Серебрянский',\n",
       "       'поселок Лукаши', 'поселок Петровское', 'деревня Щеглово',\n",
       "       'поселок Мичуринское', 'деревня Тарасово', 'поселок Кингисеппский',\n",
       "       'посёлок при железнодорожной станции Вещево', 'поселок Ушаки',\n",
       "       'деревня Котлы', 'деревня Сижно', 'деревня Торосово',\n",
       "       'посёлок Форт Красная Горка', 'деревня Новолисино',\n",
       "       'посёлок станции Громово', 'деревня Глинка', 'посёлок Мельниково',\n",
       "       'поселок городского типа Назия', 'деревня Старая Пустошь',\n",
       "       'поселок Коммунары', 'поселок Починок',\n",
       "       'посёлок городского типа Вознесенье', 'деревня Разбегаево',\n",
       "       'посёлок городского типа Рябово', 'поселок Гладкое',\n",
       "       'посёлок при железнодорожной станции Приветнинское',\n",
       "       'поселок Тёсово-4', 'посёлок Жилгородок', 'деревня Бор',\n",
       "       'посёлок Коробицыно', 'деревня Большая Вруда', 'деревня Курковицы',\n",
       "       'посёлок Лисий Нос', 'городской посёлок Советский',\n",
       "       'посёлок Кобралово', 'деревня Суоранда', 'поселок Кобралово',\n",
       "       'поселок городского типа Кондратьево',\n",
       "       'коттеджный поселок Счастье', 'поселок Любань', 'деревня Реброво',\n",
       "       'деревня Зимитицы', 'деревня Тойворово', 'поселок Семиозерье',\n",
       "       'поселок Лесное', 'поселок Совхозный', 'поселок Усть-Луга',\n",
       "       'посёлок Ленинское', 'посёлок Суйда',\n",
       "       'посёлок городского типа Форносово', 'деревня Нижние Осельки',\n",
       "       'посёлок станции Свирь', 'поселок Перово', 'Высоцк',\n",
       "       'поселок Гарболово', 'село Шум', 'поселок Котельский',\n",
       "       'поселок станции Лужайка', 'деревня Большая Пустомержа',\n",
       "       'поселок Красносельское', 'деревня Вахнова Кара', 'деревня Пижма',\n",
       "       'коттеджный поселок Кивеннапа Север', 'поселок Коробицыно',\n",
       "       'поселок Ромашки', 'посёлок Перово', 'деревня Каськово',\n",
       "       'деревня Куровицы', 'посёлок Плоское', 'поселок Сумино',\n",
       "       'поселок городского типа Большая Ижора', 'поселок Кирпичное',\n",
       "       'деревня Ям-Тесово', 'деревня Раздолье', 'деревня Терпилицы',\n",
       "       'поселок городского типа Токсово', 'посёлок Шугозеро',\n",
       "       'деревня Ваганово', 'поселок Пушное', 'садовое товарищество Садко',\n",
       "       'посёлок Усть-Ижора', 'деревня Выскатка',\n",
       "       'городской посёлок Свирьстрой', 'поселок Громово',\n",
       "       'деревня Кисельня', 'посёлок Старая Малукса',\n",
       "       'деревня Трубников Бор', 'поселок Калитино',\n",
       "       'посёлок Высокоключевой', 'садовое товарищество Приладожский',\n",
       "       'посёлок Пансионат Зелёный Бор', 'деревня Ненимяки',\n",
       "       'поселок Пансионат Зелёный Бор', 'деревня Снегирёвка',\n",
       "       'деревня Рапполово', 'деревня Пустынка', 'поселок Рабитицы',\n",
       "       'деревня Большой Сабск', 'деревня Русско', 'деревня Лупполово',\n",
       "       'деревня Большое Рейзино', 'деревня Малая Романовка',\n",
       "       'поселок Дружноселье', 'поселок Пчевжа', 'поселок Володарское',\n",
       "       'деревня Нижняя', 'коттеджный посёлок Лесное', 'деревня Тихковицы',\n",
       "       'деревня Борисова Грива', 'посёлок Дзержинского'], dtype=object)"
      ]
     },
     "execution_count": 29,
     "metadata": {},
     "output_type": "execute_result"
    }
   ],
   "source": [
    "realty['locality_name'].unique()"
   ]
  },
  {
   "cell_type": "markdown",
   "id": "d37f2f0f",
   "metadata": {},
   "source": [
    "В колонке с названием населенных пунктов, есть двоякое написание \"поселка\" через \"е\" и через \"ё\". Для исключения всех дубликатов приведем наименования к именам нарицательным."
   ]
  },
  {
   "cell_type": "code",
   "execution_count": 30,
   "id": "e179522f",
   "metadata": {},
   "outputs": [],
   "source": [
    "# функция приведения наименований населенных пунктов к именам нарицательным\n",
    "def replace_bad_locality_name(locality_name):\n",
    "    bad_list = [\n",
    "    'городской поселок',\n",
    "    'городской посёлок',\n",
    "    'коттеджный поселок',\n",
    "    'коттеджный посёлок',\n",
    "    'поселок городского типа',\n",
    "    'посёлок городского типа',\n",
    "    'поселок станции',\n",
    "    'посёлок при железнодорожной станции',\n",
    "    'посёлок станции',\n",
    "    'садоводческое некоммерческое товарищество',\n",
    "    'деревня',\n",
    "    'поселок',\n",
    "    'посёлок',\n",
    "    'село'\n",
    "    ]\n",
    "    for i in bad_list:\n",
    "        if i in locality_name:\n",
    "            return locality_name.split()[-1]\n",
    "    return locality_name\n",
    " \n",
    "realty['locality_name'] = realty['locality_name'].apply(replace_bad_locality_name)"
   ]
  },
  {
   "cell_type": "code",
   "execution_count": 31,
   "id": "920c8059",
   "metadata": {
    "scrolled": true
   },
   "outputs": [
    {
     "data": {
      "text/plain": [
       "array(['Санкт-Петербург', 'Шушары', 'Янино-1', 'Парголово', 'Мурино',\n",
       "       'Ломоносов', 'Сертолово', 'Петергоф', 'Пушкин', 'Кудрово',\n",
       "       'Коммунар', 'Колпино', 'Бор', 'Гатчина', 'Фёдоровское', 'Выборг',\n",
       "       'Кронштадт', 'Кировск', 'Девяткино', 'Металлострой', 'Лебяжье',\n",
       "       'Сиверский', 'Молодцово', 'Кузьмоловский',\n",
       "       'садовое товарищество Новая Ропша', 'Павловск', 'Пикколово',\n",
       "       'Всеволожск', 'Волхов', 'Кингисепп', 'Приозерск', 'Сестрорецк',\n",
       "       'Куттузи', 'Аннино', 'Ефимовский', 'Плодовое', 'Заклинье',\n",
       "       'Торковичи', 'Первомайское', 'Красное Село', 'Понтонный',\n",
       "       'Сясьстрой', 'Старая', 'Лесколово', 'Свет', 'Сланцы', 'Путилово',\n",
       "       'Ивангород', 'Шлиссельбург', 'Никольское', 'Зеленогорск',\n",
       "       'Сосновый Бор', 'Оржицы', 'Кальтино', 'Романовка', 'Бугры',\n",
       "       'Рощино', 'Кириши', 'Луга', 'Волосово', 'Отрадное', 'Павлово',\n",
       "       'Оредеж', 'Копорье', 'Молодёжное', 'Тихвин', 'Победа', 'Нурма',\n",
       "       'Синявино', 'Тосно', 'Стрельна', 'Бокситогорск', 'Александровская',\n",
       "       'Лопухинка', 'Пикалёво', 'Терволово', 'Советский', 'Подпорожье',\n",
       "       'Петровское', 'Токсово', 'Сельцо', 'Вырица', 'Кипень', 'Келози',\n",
       "       'Вартемяги', 'Тельмана', 'Севастьяново', 'Ижора', 'Агалатово',\n",
       "       'Новогорелово', 'Лесогорский', 'Лаголово', 'Цвелодубово', 'Рахья',\n",
       "       'Белогорка', 'Заводской', 'Новоселье', 'Колпаны', 'Горбунки',\n",
       "       'Батово', 'Заневка', 'Иссад', 'Приморск', 'Мистолово',\n",
       "       'Новая Ладога', 'Зимитицы', 'Барышево', 'Разметелево', 'Свердлова',\n",
       "       'Пеники', 'Рябово', 'Пудомяги', 'Корнево', 'Низино', 'Бегуницы',\n",
       "       'Поляны', 'Мга', 'Елизаветино', 'Кузнечное', 'Колтуши',\n",
       "       'Запорожское', 'Гостилицы', 'Карлино', 'Мичуринское', 'Морозова',\n",
       "       'Песочный', 'Сосново', 'Аро', 'Ильичёво', 'Тайцы', 'Верево',\n",
       "       'Извара', 'Вещево', 'Паша', 'Калитино', 'Ульяновка', 'Дубровка',\n",
       "       'Мины', 'Войсковицы', 'Коркино', 'Ропша', 'Приладожский',\n",
       "       'Щеглово', 'Гаврилово', 'Лодейное Поле', 'Рабитицы', 'Никольский',\n",
       "       'Кузьмолово', 'Петро-Славянка', 'Назия', 'Репино', 'Углово',\n",
       "       'Малукса', 'садовое товарищество Рахья', 'Меньково', 'Сапёрный',\n",
       "       'Семрино', 'Глажево', 'Кобринское', 'Гарболово', 'Юкки',\n",
       "       'Приветнинское', 'Мануйлово', 'Пчева', 'Цвылёво', 'Мельниково',\n",
       "       'Пудость', 'Усть-Луга', 'Светогорск', 'Любань', 'Селезнёво',\n",
       "       'Каменногорск', 'Кривко', 'Глебычево', 'Парицы', 'Жилпосёлок',\n",
       "       'Войскорово', 'Стеклянный', 'Важины', 'Мыза-Ивановка',\n",
       "       'Русско-Высоцкое', 'Форносово', 'Ладога', 'Житково', 'Виллози',\n",
       "       'Лампово', 'Шпаньково', 'Лаврики', 'Сумино', 'Возрождение',\n",
       "       'Старосиверская', 'Кикерино', 'Хинколово', 'Пригородный',\n",
       "       'Торфяное', 'Будогощь', 'Суходолье', 'Долина', 'Хапо-Ое', 'Горка',\n",
       "       'Нос', 'Яльгелево', 'Рождествено', 'Старополье', 'Левашово',\n",
       "       'Сяськелево', 'Камышовка', 'Поляна', 'Хязельки', 'Жилгородок',\n",
       "       'Ялгино', 'Учхоз', 'Гончарово', 'Почап', 'Сапёрное', 'километр',\n",
       "       'Каложицы', 'Фалилеево', 'Пельгора', 'Торошковичи', 'Белоостров',\n",
       "       'Алексеевка', 'Серебрянский', 'Лукаши', 'Тарасово',\n",
       "       'Кингисеппский', 'Ушаки', 'Котлы', 'Сижно', 'Торосово',\n",
       "       'Новолисино', 'Громово', 'Глинка', 'Пустошь', 'Коммунары',\n",
       "       'Починок', 'Вознесенье', 'Разбегаево', 'Гладкое', 'Тёсово-4',\n",
       "       'Коробицыно', 'Вруда', 'Курковицы', 'Кобралово', 'Суоранда',\n",
       "       'Кондратьево', 'Счастье', 'Реброво', 'Тойворово', 'Семиозерье',\n",
       "       'Лесное', 'Совхозный', 'Ленинское', 'Суйда', 'Осельки', 'Свирь',\n",
       "       'Перово', 'Высоцк', 'Шум', 'Котельский', 'Лужайка', 'Пустомержа',\n",
       "       'Красносельское', 'Кара', 'Пижма', 'Север', 'Ромашки', 'Каськово',\n",
       "       'Куровицы', 'Плоское', 'Кирпичное', 'Ям-Тесово', 'Раздолье',\n",
       "       'Терпилицы', 'Шугозеро', 'Ваганово', 'Пушное',\n",
       "       'садовое товарищество Садко', 'Усть-Ижора', 'Выскатка',\n",
       "       'Свирьстрой', 'Кисельня', 'Высокоключевой',\n",
       "       'садовое товарищество Приладожский', 'Ненимяки', 'Снегирёвка',\n",
       "       'Рапполово', 'Пустынка', 'Сабск', 'Русско', 'Лупполово', 'Рейзино',\n",
       "       'Дружноселье', 'Пчевжа', 'Володарское', 'Нижняя', 'Тихковицы',\n",
       "       'Грива', 'Дзержинского'], dtype=object)"
      ]
     },
     "execution_count": 31,
     "metadata": {},
     "output_type": "execute_result"
    }
   ],
   "source": [
    "# проверка значений после применения функции\n",
    "realty['locality_name'].unique()"
   ]
  },
  {
   "cell_type": "markdown",
   "id": "96da032a",
   "metadata": {},
   "source": [
    "Неявные дубликаты удалены, можно приступать к следующему этапу обработки."
   ]
  },
  {
   "cell_type": "markdown",
   "id": "a5c112c4",
   "metadata": {},
   "source": [
    "### 2.3 Изменение типов данных\n",
    "\n",
    "Изменим тип данных у цены и общей площади, большая точность нам не нужна, а целые числа читать легче. \n",
    "А также приведем дату в корректный формат."
   ]
  },
  {
   "cell_type": "code",
   "execution_count": 32,
   "id": "12d92c37",
   "metadata": {},
   "outputs": [],
   "source": [
    "realty['last_price'] = realty['last_price'].astype('int')\n",
    "realty['total_area'] = realty['total_area'].astype('int')\n",
    "realty['first_day_exposition'] = pd.to_datetime(realty['first_day_exposition'], format = '%Y-%m-%d')"
   ]
  },
  {
   "cell_type": "markdown",
   "id": "810cb7a9",
   "metadata": {},
   "source": [
    "Заменим тип данных описывающих количество:\n",
    "\n",
    "* этажей в доме\n",
    "* балконов в доме\n",
    "* парков в радиусе 3 км \n",
    "* водоёмов в радиусе 3 км\n",
    "* дней экспозиции\n",
    "\n",
    "на тип данных целого числа."
   ]
  },
  {
   "cell_type": "code",
   "execution_count": 33,
   "id": "2041b628",
   "metadata": {},
   "outputs": [],
   "source": [
    "realty['floors_total'] = realty['floors_total'].astype('int')\n",
    "realty['balcony'] = realty['balcony'].astype('int')\n",
    "realty['parks_around3000'] = realty['parks_around3000'].astype('int')\n",
    "realty['ponds_around3000'] = realty['ponds_around3000'].astype('int')\n",
    "realty['days_exposition'] = realty['days_exposition'].astype('int')"
   ]
  },
  {
   "cell_type": "markdown",
   "id": "1c712928",
   "metadata": {},
   "source": [
    "Заменим поле `is_apartment` на булев тип."
   ]
  },
  {
   "cell_type": "code",
   "execution_count": 34,
   "id": "63dffe15",
   "metadata": {},
   "outputs": [],
   "source": [
    "realty['is_apartment'] = realty['is_apartment']==True"
   ]
  },
  {
   "cell_type": "markdown",
   "id": "0cee6340",
   "metadata": {},
   "source": [
    "Отобразим конечный результат после предобработки."
   ]
  },
  {
   "cell_type": "code",
   "execution_count": 35,
   "id": "10b04e7a",
   "metadata": {},
   "outputs": [
    {
     "name": "stdout",
     "output_type": "stream",
     "text": [
      "<class 'pandas.core.frame.DataFrame'>\n",
      "RangeIndex: 23602 entries, 0 to 23601\n",
      "Data columns (total 22 columns):\n",
      " #   Column                Non-Null Count  Dtype         \n",
      "---  ------                --------------  -----         \n",
      " 0   total_images          23602 non-null  int64         \n",
      " 1   last_price            23602 non-null  int64         \n",
      " 2   total_area            23602 non-null  int64         \n",
      " 3   first_day_exposition  23602 non-null  datetime64[ns]\n",
      " 4   rooms                 23602 non-null  int64         \n",
      " 5   ceiling_height        14492 non-null  float64       \n",
      " 6   floors_total          23602 non-null  int64         \n",
      " 7   living_area           23602 non-null  float64       \n",
      " 8   floor                 23602 non-null  int64         \n",
      " 9   is_apartment          23602 non-null  bool          \n",
      " 10  studio                23602 non-null  bool          \n",
      " 11  open_plan             23602 non-null  bool          \n",
      " 12  kitchen_area          23602 non-null  float64       \n",
      " 13  balcony               23602 non-null  int64         \n",
      " 14  locality_name         23602 non-null  object        \n",
      " 15  airports_nearest      18078 non-null  float64       \n",
      " 16  cityCenters_nearest   18101 non-null  float64       \n",
      " 17  parks_around3000      23602 non-null  int64         \n",
      " 18  parks_nearest         23602 non-null  float64       \n",
      " 19  ponds_around3000      23602 non-null  int64         \n",
      " 20  ponds_nearest         23602 non-null  float64       \n",
      " 21  days_exposition       23602 non-null  int64         \n",
      "dtypes: bool(3), datetime64[ns](1), float64(7), int64(10), object(1)\n",
      "memory usage: 3.5+ MB\n"
     ]
    }
   ],
   "source": [
    "realty.info()"
   ]
  },
  {
   "cell_type": "markdown",
   "id": "801b7afc",
   "metadata": {},
   "source": [
    "**Выводы**\n",
    "\n",
    "* Данные в таблице содержат больщое колличество пропусков.\n",
    "* Пропуски были проанализированы и по возможности заполнены (например пропущенные значения в колличестве балконов заменены на 0).\n",
    "* Возможные причины пропусков приведены для каждой переменной. Основными причинами являются отсутствие информации при заполнении объявления и сбои в работе системы при загрузке/выгрузке базы данных.\n",
    "* Типы данных были преобразованы в соответствии с описанием таблицы и смыслом хранимой информации."
   ]
  },
  {
   "cell_type": "markdown",
   "id": "d71a49b1",
   "metadata": {},
   "source": [
    "## 3. Добавление дополнительных данных в таблицу"
   ]
  },
  {
   "cell_type": "markdown",
   "id": "250dcda1",
   "metadata": {},
   "source": [
    "* Посчитаем цену квадратного метра квартиры.\n",
    "\n",
    "Для этого разделим цену квартиры `'last_price'` на общую площадь квартиры `'total_area'`. Округлим полученное значение до одного знака после запятой. Результат запишем в столбец `'meter_price'`."
   ]
  },
  {
   "cell_type": "code",
   "execution_count": 36,
   "id": "200141cc",
   "metadata": {},
   "outputs": [],
   "source": [
    "# округление произведём с помощью метода round()\n",
    "realty['meter_price'] = round(realty['last_price'] / realty['total_area'], 1)"
   ]
  },
  {
   "cell_type": "markdown",
   "id": "490e0cdd",
   "metadata": {},
   "source": [
    "---\n",
    "\n",
    "* Посчитаем день недели, месяц и год публикации объявления.\n",
    "\n",
    "Для этого воспользуемся методами `dt.weekday`, `dt.month` и `dt.year` соответственно.\n",
    "Дату публикации возьмём из столбца `'first_day_exposition'`.\n",
    "Полученные данные сохраним в столбцах `'publish_weekday'`, `'publish_month'`, `'publish_year'`."
   ]
  },
  {
   "cell_type": "code",
   "execution_count": 37,
   "id": "80699944",
   "metadata": {},
   "outputs": [],
   "source": [
    "realty['publish_weekday'] = realty['first_day_exposition'].dt.weekday\n",
    "realty['publish_month'] = realty['first_day_exposition'].dt.month\n",
    "realty['publish_year'] = realty['first_day_exposition'].dt.year"
   ]
  },
  {
   "cell_type": "markdown",
   "id": "8463ee6e",
   "metadata": {},
   "source": [
    "---\n",
    "\n",
    "* Создадим категорию для этажа квартиры.\n",
    "\n",
    "Данные возьмём из столбцов `'floor'` для этажа квартиры и `'floors_total'` колличества этажей в доме.\n",
    "Результат сохраним в столбце `'floor_category'`.\n",
    "\n",
    "Для определения категории создадим функцию `floor_category()`. На вход функции поступает строка с данными, внутри сравнивается этаж квартиры с колличеством этажей в доме, и на выход поступает название категории. Далее с помощью метода `apply'` применяем созданную функцию ко всем строкам таблицы."
   ]
  },
  {
   "cell_type": "code",
   "execution_count": 38,
   "id": "705ddbfb",
   "metadata": {},
   "outputs": [],
   "source": [
    "#  создадим функцию `floor_category(row)` для нахождения категории этажа квартиры\n",
    "def floor_category(row):\n",
    "    floor = row['floor']\n",
    "    floors_total = row['floors_total']\n",
    "    if floor == 1:\n",
    "        return 'первый'\n",
    "    elif floor == floors_total:\n",
    "        return 'последний'\n",
    "    else:\n",
    "        return 'другой'\n",
    "\n",
    "# с помощью метода apply применяем функцию floor_category ко всем строкам таблицы 'realty'\n",
    "realty['floor_category'] = realty.apply(floor_category, axis=1)"
   ]
  },
  {
   "cell_type": "markdown",
   "id": "206f2679",
   "metadata": {},
   "source": [
    "---\n",
    "\n",
    "* Определим соотношение жилой и общей площади квартиры, а также отношение площади кухни к общей.\n",
    "\n",
    "Данные возьмём из столбцов `'living_area'`, `'total_area'` и `'kitchen_area'`.\n",
    "Результаты вычислений сохраним в столбцах `'living_area_ratio'` и `'kitchen_area_ratio'` соответственно.\n",
    "Результаты округлим до 2 знаков после запятой."
   ]
  },
  {
   "cell_type": "code",
   "execution_count": 39,
   "id": "687a4d61",
   "metadata": {},
   "outputs": [],
   "source": [
    "realty['living_area_ratio'] = round(realty['living_area'] / realty['total_area'], 2)\n",
    "realty['kitchen_area_ratio'] = round(realty['kitchen_area'] / realty['total_area'], 2)"
   ]
  },
  {
   "cell_type": "code",
   "execution_count": 40,
   "id": "f701b4f2",
   "metadata": {
    "scrolled": false
   },
   "outputs": [
    {
     "data": {
      "text/html": [
       "<div>\n",
       "<style scoped>\n",
       "    .dataframe tbody tr th:only-of-type {\n",
       "        vertical-align: middle;\n",
       "    }\n",
       "\n",
       "    .dataframe tbody tr th {\n",
       "        vertical-align: top;\n",
       "    }\n",
       "\n",
       "    .dataframe thead th {\n",
       "        text-align: right;\n",
       "    }\n",
       "</style>\n",
       "<table border=\"1\" class=\"dataframe\">\n",
       "  <thead>\n",
       "    <tr style=\"text-align: right;\">\n",
       "      <th></th>\n",
       "      <th>total_images</th>\n",
       "      <th>last_price</th>\n",
       "      <th>total_area</th>\n",
       "      <th>first_day_exposition</th>\n",
       "      <th>rooms</th>\n",
       "      <th>ceiling_height</th>\n",
       "      <th>floors_total</th>\n",
       "      <th>living_area</th>\n",
       "      <th>floor</th>\n",
       "      <th>is_apartment</th>\n",
       "      <th>...</th>\n",
       "      <th>ponds_around3000</th>\n",
       "      <th>ponds_nearest</th>\n",
       "      <th>days_exposition</th>\n",
       "      <th>meter_price</th>\n",
       "      <th>publish_weekday</th>\n",
       "      <th>publish_month</th>\n",
       "      <th>publish_year</th>\n",
       "      <th>floor_category</th>\n",
       "      <th>living_area_ratio</th>\n",
       "      <th>kitchen_area_ratio</th>\n",
       "    </tr>\n",
       "  </thead>\n",
       "  <tbody>\n",
       "    <tr>\n",
       "      <th>0</th>\n",
       "      <td>20</td>\n",
       "      <td>13000000</td>\n",
       "      <td>108</td>\n",
       "      <td>2019-03-07</td>\n",
       "      <td>3</td>\n",
       "      <td>2.70</td>\n",
       "      <td>16</td>\n",
       "      <td>51.000000</td>\n",
       "      <td>8</td>\n",
       "      <td>False</td>\n",
       "      <td>...</td>\n",
       "      <td>2</td>\n",
       "      <td>755.0</td>\n",
       "      <td>0</td>\n",
       "      <td>120370.4</td>\n",
       "      <td>3</td>\n",
       "      <td>3</td>\n",
       "      <td>2019</td>\n",
       "      <td>другой</td>\n",
       "      <td>0.47</td>\n",
       "      <td>0.23</td>\n",
       "    </tr>\n",
       "    <tr>\n",
       "      <th>1</th>\n",
       "      <td>7</td>\n",
       "      <td>3350000</td>\n",
       "      <td>40</td>\n",
       "      <td>2018-12-04</td>\n",
       "      <td>1</td>\n",
       "      <td>NaN</td>\n",
       "      <td>11</td>\n",
       "      <td>18.600000</td>\n",
       "      <td>1</td>\n",
       "      <td>False</td>\n",
       "      <td>...</td>\n",
       "      <td>0</td>\n",
       "      <td>0.0</td>\n",
       "      <td>81</td>\n",
       "      <td>83750.0</td>\n",
       "      <td>1</td>\n",
       "      <td>12</td>\n",
       "      <td>2018</td>\n",
       "      <td>первый</td>\n",
       "      <td>0.46</td>\n",
       "      <td>0.28</td>\n",
       "    </tr>\n",
       "    <tr>\n",
       "      <th>2</th>\n",
       "      <td>10</td>\n",
       "      <td>5196000</td>\n",
       "      <td>56</td>\n",
       "      <td>2015-08-20</td>\n",
       "      <td>2</td>\n",
       "      <td>NaN</td>\n",
       "      <td>5</td>\n",
       "      <td>34.300000</td>\n",
       "      <td>4</td>\n",
       "      <td>False</td>\n",
       "      <td>...</td>\n",
       "      <td>2</td>\n",
       "      <td>574.0</td>\n",
       "      <td>558</td>\n",
       "      <td>92785.7</td>\n",
       "      <td>3</td>\n",
       "      <td>8</td>\n",
       "      <td>2015</td>\n",
       "      <td>другой</td>\n",
       "      <td>0.61</td>\n",
       "      <td>0.15</td>\n",
       "    </tr>\n",
       "    <tr>\n",
       "      <th>3</th>\n",
       "      <td>0</td>\n",
       "      <td>64900000</td>\n",
       "      <td>159</td>\n",
       "      <td>2015-07-24</td>\n",
       "      <td>3</td>\n",
       "      <td>NaN</td>\n",
       "      <td>14</td>\n",
       "      <td>90.810749</td>\n",
       "      <td>9</td>\n",
       "      <td>False</td>\n",
       "      <td>...</td>\n",
       "      <td>3</td>\n",
       "      <td>234.0</td>\n",
       "      <td>424</td>\n",
       "      <td>408176.1</td>\n",
       "      <td>4</td>\n",
       "      <td>7</td>\n",
       "      <td>2015</td>\n",
       "      <td>другой</td>\n",
       "      <td>0.57</td>\n",
       "      <td>0.18</td>\n",
       "    </tr>\n",
       "    <tr>\n",
       "      <th>4</th>\n",
       "      <td>2</td>\n",
       "      <td>10000000</td>\n",
       "      <td>100</td>\n",
       "      <td>2018-06-19</td>\n",
       "      <td>2</td>\n",
       "      <td>3.03</td>\n",
       "      <td>14</td>\n",
       "      <td>32.000000</td>\n",
       "      <td>13</td>\n",
       "      <td>False</td>\n",
       "      <td>...</td>\n",
       "      <td>1</td>\n",
       "      <td>48.0</td>\n",
       "      <td>121</td>\n",
       "      <td>100000.0</td>\n",
       "      <td>1</td>\n",
       "      <td>6</td>\n",
       "      <td>2018</td>\n",
       "      <td>другой</td>\n",
       "      <td>0.32</td>\n",
       "      <td>0.41</td>\n",
       "    </tr>\n",
       "    <tr>\n",
       "      <th>5</th>\n",
       "      <td>10</td>\n",
       "      <td>2890000</td>\n",
       "      <td>30</td>\n",
       "      <td>2018-09-10</td>\n",
       "      <td>1</td>\n",
       "      <td>NaN</td>\n",
       "      <td>12</td>\n",
       "      <td>14.400000</td>\n",
       "      <td>5</td>\n",
       "      <td>False</td>\n",
       "      <td>...</td>\n",
       "      <td>0</td>\n",
       "      <td>0.0</td>\n",
       "      <td>55</td>\n",
       "      <td>96333.3</td>\n",
       "      <td>0</td>\n",
       "      <td>9</td>\n",
       "      <td>2018</td>\n",
       "      <td>другой</td>\n",
       "      <td>0.48</td>\n",
       "      <td>0.30</td>\n",
       "    </tr>\n",
       "    <tr>\n",
       "      <th>6</th>\n",
       "      <td>6</td>\n",
       "      <td>3700000</td>\n",
       "      <td>37</td>\n",
       "      <td>2017-11-02</td>\n",
       "      <td>1</td>\n",
       "      <td>NaN</td>\n",
       "      <td>26</td>\n",
       "      <td>10.600000</td>\n",
       "      <td>6</td>\n",
       "      <td>False</td>\n",
       "      <td>...</td>\n",
       "      <td>0</td>\n",
       "      <td>0.0</td>\n",
       "      <td>155</td>\n",
       "      <td>100000.0</td>\n",
       "      <td>3</td>\n",
       "      <td>11</td>\n",
       "      <td>2017</td>\n",
       "      <td>другой</td>\n",
       "      <td>0.29</td>\n",
       "      <td>0.39</td>\n",
       "    </tr>\n",
       "    <tr>\n",
       "      <th>7</th>\n",
       "      <td>5</td>\n",
       "      <td>7915000</td>\n",
       "      <td>71</td>\n",
       "      <td>2019-04-18</td>\n",
       "      <td>2</td>\n",
       "      <td>NaN</td>\n",
       "      <td>24</td>\n",
       "      <td>40.893394</td>\n",
       "      <td>22</td>\n",
       "      <td>False</td>\n",
       "      <td>...</td>\n",
       "      <td>0</td>\n",
       "      <td>0.0</td>\n",
       "      <td>0</td>\n",
       "      <td>111478.9</td>\n",
       "      <td>3</td>\n",
       "      <td>4</td>\n",
       "      <td>2019</td>\n",
       "      <td>другой</td>\n",
       "      <td>0.58</td>\n",
       "      <td>0.27</td>\n",
       "    </tr>\n",
       "    <tr>\n",
       "      <th>8</th>\n",
       "      <td>20</td>\n",
       "      <td>2900000</td>\n",
       "      <td>33</td>\n",
       "      <td>2018-05-23</td>\n",
       "      <td>1</td>\n",
       "      <td>NaN</td>\n",
       "      <td>27</td>\n",
       "      <td>15.430000</td>\n",
       "      <td>26</td>\n",
       "      <td>False</td>\n",
       "      <td>...</td>\n",
       "      <td>0</td>\n",
       "      <td>0.0</td>\n",
       "      <td>189</td>\n",
       "      <td>87878.8</td>\n",
       "      <td>2</td>\n",
       "      <td>5</td>\n",
       "      <td>2018</td>\n",
       "      <td>другой</td>\n",
       "      <td>0.47</td>\n",
       "      <td>0.27</td>\n",
       "    </tr>\n",
       "    <tr>\n",
       "      <th>9</th>\n",
       "      <td>18</td>\n",
       "      <td>5400000</td>\n",
       "      <td>61</td>\n",
       "      <td>2017-02-26</td>\n",
       "      <td>3</td>\n",
       "      <td>2.50</td>\n",
       "      <td>9</td>\n",
       "      <td>43.600000</td>\n",
       "      <td>7</td>\n",
       "      <td>False</td>\n",
       "      <td>...</td>\n",
       "      <td>0</td>\n",
       "      <td>0.0</td>\n",
       "      <td>289</td>\n",
       "      <td>88524.6</td>\n",
       "      <td>6</td>\n",
       "      <td>2</td>\n",
       "      <td>2017</td>\n",
       "      <td>другой</td>\n",
       "      <td>0.71</td>\n",
       "      <td>0.11</td>\n",
       "    </tr>\n",
       "  </tbody>\n",
       "</table>\n",
       "<p>10 rows × 29 columns</p>\n",
       "</div>"
      ],
      "text/plain": [
       "   total_images  last_price  total_area first_day_exposition  rooms  \\\n",
       "0            20    13000000         108           2019-03-07      3   \n",
       "1             7     3350000          40           2018-12-04      1   \n",
       "2            10     5196000          56           2015-08-20      2   \n",
       "3             0    64900000         159           2015-07-24      3   \n",
       "4             2    10000000         100           2018-06-19      2   \n",
       "5            10     2890000          30           2018-09-10      1   \n",
       "6             6     3700000          37           2017-11-02      1   \n",
       "7             5     7915000          71           2019-04-18      2   \n",
       "8            20     2900000          33           2018-05-23      1   \n",
       "9            18     5400000          61           2017-02-26      3   \n",
       "\n",
       "   ceiling_height  floors_total  living_area  floor  is_apartment  ...  \\\n",
       "0            2.70            16    51.000000      8         False  ...   \n",
       "1             NaN            11    18.600000      1         False  ...   \n",
       "2             NaN             5    34.300000      4         False  ...   \n",
       "3             NaN            14    90.810749      9         False  ...   \n",
       "4            3.03            14    32.000000     13         False  ...   \n",
       "5             NaN            12    14.400000      5         False  ...   \n",
       "6             NaN            26    10.600000      6         False  ...   \n",
       "7             NaN            24    40.893394     22         False  ...   \n",
       "8             NaN            27    15.430000     26         False  ...   \n",
       "9            2.50             9    43.600000      7         False  ...   \n",
       "\n",
       "   ponds_around3000  ponds_nearest  days_exposition  meter_price  \\\n",
       "0                 2          755.0                0     120370.4   \n",
       "1                 0            0.0               81      83750.0   \n",
       "2                 2          574.0              558      92785.7   \n",
       "3                 3          234.0              424     408176.1   \n",
       "4                 1           48.0              121     100000.0   \n",
       "5                 0            0.0               55      96333.3   \n",
       "6                 0            0.0              155     100000.0   \n",
       "7                 0            0.0                0     111478.9   \n",
       "8                 0            0.0              189      87878.8   \n",
       "9                 0            0.0              289      88524.6   \n",
       "\n",
       "  publish_weekday  publish_month  publish_year  floor_category  \\\n",
       "0               3              3          2019          другой   \n",
       "1               1             12          2018          первый   \n",
       "2               3              8          2015          другой   \n",
       "3               4              7          2015          другой   \n",
       "4               1              6          2018          другой   \n",
       "5               0              9          2018          другой   \n",
       "6               3             11          2017          другой   \n",
       "7               3              4          2019          другой   \n",
       "8               2              5          2018          другой   \n",
       "9               6              2          2017          другой   \n",
       "\n",
       "   living_area_ratio  kitchen_area_ratio  \n",
       "0               0.47                0.23  \n",
       "1               0.46                0.28  \n",
       "2               0.61                0.15  \n",
       "3               0.57                0.18  \n",
       "4               0.32                0.41  \n",
       "5               0.48                0.30  \n",
       "6               0.29                0.39  \n",
       "7               0.58                0.27  \n",
       "8               0.47                0.27  \n",
       "9               0.71                0.11  \n",
       "\n",
       "[10 rows x 29 columns]"
      ]
     },
     "execution_count": 40,
     "metadata": {},
     "output_type": "execute_result"
    }
   ],
   "source": [
    "# Конечный вид таблицы:\n",
    "realty.head(10)"
   ]
  },
  {
   "cell_type": "markdown",
   "id": "9fcedc80",
   "metadata": {},
   "source": [
    "**Выводы**\n",
    "\n",
    "* Метрики были успешно посчитаны, исходя из условия задания, и добавлены в основную таблицу.\n",
    "* Названия для новых столбцов выбраны, исходя из информации, которая в них хранится."
   ]
  },
  {
   "cell_type": "markdown",
   "id": "632eb1f2",
   "metadata": {},
   "source": [
    "## 4. Исследовательский анализ данных\n",
    "\n",
    "### 4.1 Изучение параметров: площадь, цена, число комнат, высота потолков\n",
    "\n",
    "* Рассмотрим площадь квартир в столбце `'total_area'`. Построим гистограмму для данного параметра."
   ]
  },
  {
   "cell_type": "code",
   "execution_count": 41,
   "id": "47e40a19",
   "metadata": {},
   "outputs": [
    {
     "data": {
      "text/plain": [
       "count    23602.000000\n",
       "mean        60.105923\n",
       "std         35.659026\n",
       "min         12.000000\n",
       "25%         40.000000\n",
       "50%         52.000000\n",
       "75%         69.000000\n",
       "max        900.000000\n",
       "Name: total_area, dtype: float64"
      ]
     },
     "metadata": {},
     "output_type": "display_data"
    },
    {
     "name": "stdout",
     "output_type": "stream",
     "text": [
      "99-й перцентиль значений total_area: 197.0\n"
     ]
    }
   ],
   "source": [
    "# выведем информацию о распределении значений в параметре total_area методом describe()\n",
    "display(realty['total_area'].describe())\n",
    "# найдём 99-й квантиль значений total_area с помощью метода .quantile(0.99)\n",
    "print('99-й перцентиль значений total_area:', round(realty['total_area'].quantile(0.99), 1))"
   ]
  },
  {
   "cell_type": "code",
   "execution_count": 42,
   "id": "4a759a9d",
   "metadata": {},
   "outputs": [
    {
     "data": {
      "image/png": "[encoded data removed]",
      "text/plain": [
       "<Figure size 432x288 with 1 Axes>"
      ]
     },
     "metadata": {
      "needs_background": "light"
     },
     "output_type": "display_data"
    }
   ],
   "source": [
    "# построим гистаграмму распределения 'total_area' методом hist().\n",
    "# разделим гистограмму на 20 участков (параметр bins=20), ограничимся значением 'total_area' < 200 (м²) \n",
    "realty.hist('total_area', bins=20, range = (0, 200))\n",
    "plt.show()"
   ]
  },
  {
   "cell_type": "markdown",
   "id": "12af07f1",
   "metadata": {},
   "source": [
    "* Распределение значений параметра `'total_area'` близко к распределению Пуассона, без аномальных пиков.\n",
    "* Минимальная площадь 12 м², вполне правдоподобное значение, возможно продаётся комната.\n",
    "* Максимальное значение - 900 м². Достаточно высокое, но также правдоподобно.\n",
    "* 99% значений укладывается в отрезке 12 - 200 м². Остальные случаи можно считать выбросами.\n",
    "* Медианное значение (52.0) меньше среднего (60.1), следовательно, данные немного смещены влево. Это нормально: колличество небольших квартир больше, но очень большие по площади вносят вклад в смещение данных."
   ]
  },
  {
   "cell_type": "markdown",
   "id": "9e082b37",
   "metadata": {},
   "source": [
    "---\n",
    "\n",
    "* Рассмотрим цену квартир в столбце `'last_price'`. Построим гистограмму для данного параметра. Для удобства чтения уберем 6 знаков от показателя цены, т.е. данные будут представлены в млн. руб."
   ]
  },
  {
   "cell_type": "code",
   "execution_count": 43,
   "id": "f9de7609",
   "metadata": {},
   "outputs": [
    {
     "data": {
      "text/plain": [
       "count    23602.000000\n",
       "mean         6.541096\n",
       "std         10.903900\n",
       "min          0.012190\n",
       "25%          3.400000\n",
       "50%          4.650000\n",
       "75%          6.799000\n",
       "max        763.000000\n",
       "Name: last_price, dtype: float64"
      ]
     },
     "metadata": {},
     "output_type": "display_data"
    },
    {
     "name": "stdout",
     "output_type": "stream",
     "text": [
      "99-й перцентиль значений last_price: 36.0\n"
     ]
    }
   ],
   "source": [
    "# выведем информацию о распределении значений в параметре last_price методом describe()\n",
    "display((realty['last_price'] / 1000000).describe())\n",
    "# найдём 99-й квантиль значений last_price с помощью метода .quantile(0.99)\n",
    "print('99-й перцентиль значений last_price:', round((realty['last_price'] / 1000000).quantile(0.99), 1))"
   ]
  },
  {
   "cell_type": "code",
   "execution_count": 44,
   "id": "b31e4496",
   "metadata": {},
   "outputs": [
    {
     "data": {
      "image/png": "[encoded data removed]",
      "text/plain": [
       "<Figure size 432x288 with 1 Axes>"
      ]
     },
     "metadata": {
      "needs_background": "light"
     },
     "output_type": "display_data"
    }
   ],
   "source": [
    "# построим гистаграмму распределения 'last_price' методом hist().\n",
    "# разделим гистограмму на 30 участков (параметр bins=30), ограничим значения 0.5 < 'last_price' < 36 (.99-й квантиль)\n",
    "(realty['last_price'] / 1000000).hist(bins=30, range = (0.5, 36))\n",
    "plt.show()"
   ]
  },
  {
   "cell_type": "markdown",
   "id": "b847f905",
   "metadata": {},
   "source": [
    "* Распределение значений параметра `'last_price'` близко к распределению Пуассона, без аномальных пиков.\n",
    "* Минимальная цена 12 190 руб. - слишком маленькое значение, поэтому мы ограничили диапазон цен снизу значением в 500 тыс. руб.\n",
    "* Максимальное значение - 763 млн. руб. Достаточно высокое, но правдоподобное значение.\n",
    "* 99% значений меньше 36 млн. руб. Остальные случаи можно считать выбросами.\n",
    "* Медианное значение 4.65 млн. руб. меньше среднего 6.54 млн. руб., следовательно, данные смещены влево. Это нормально: колличество дешёвых квартир больше, но очень дорогая недвижимость вносит вклад в смещение данных."
   ]
  },
  {
   "cell_type": "markdown",
   "id": "af6eae45",
   "metadata": {},
   "source": [
    "---\n",
    "\n",
    "* Рассмотрим число комнат в столбце `'rooms'`. Построим гистограмму для данного параметра."
   ]
  },
  {
   "cell_type": "code",
   "execution_count": 45,
   "id": "a4a0cad2",
   "metadata": {},
   "outputs": [
    {
     "data": {
      "text/plain": [
       "count    23602.000000\n",
       "mean         2.071138\n",
       "std          1.078495\n",
       "min          0.000000\n",
       "25%          1.000000\n",
       "50%          2.000000\n",
       "75%          3.000000\n",
       "max         19.000000\n",
       "Name: rooms, dtype: float64"
      ]
     },
     "metadata": {},
     "output_type": "display_data"
    },
    {
     "name": "stdout",
     "output_type": "stream",
     "text": [
      "99-й перцентиль значений rooms: 5.0\n"
     ]
    }
   ],
   "source": [
    "# выведем информацию о распределении значений в параметре rooms методом describe()\n",
    "display(realty['rooms'].describe())\n",
    "# найдём 99-й квантиль значений rooms с помощью метода .quantile(0.99)\n",
    "print('99-й перцентиль значений rooms:', round(realty['rooms'].quantile(0.99), 1))"
   ]
  },
  {
   "cell_type": "code",
   "execution_count": 46,
   "id": "3aed9c25",
   "metadata": {
    "scrolled": true
   },
   "outputs": [
    {
     "data": {
      "image/png": "[encoded data removed]",
      "text/plain": [
       "<Figure size 432x288 with 1 Axes>"
      ]
     },
     "metadata": {
      "needs_background": "light"
     },
     "output_type": "display_data"
    }
   ],
   "source": [
    "# построим гистаграмму распределения 'rooms' методом hist().\n",
    "# разделим гистограмму на 22 участка (параметр bins=22)\n",
    "realty.hist('rooms', bins=20, rwidth=0.8)\n",
    "plt.show()"
   ]
  },
  {
   "cell_type": "markdown",
   "id": "412964f2",
   "metadata": {},
   "source": [
    "* Распределение значений параметра rooms близко к распределению Пуассона, без аномальных пиков.\n",
    "* Аномальные нулевые значения могут быть связаны с открытой планировкой квартиры. Количество значений не критичное, они не внесут большого отклонения в распределение.\n",
    "* Максимальное значение - 19. Достаточно высокое, но правдоподобно.\n",
    "* 99% значений меньше 5. Остальные случаи можно считать выбросами.\n",
    "* Медианное и среднее значения равны 2, данные практически не смещены, так как абсолютное большинство квартир имеют 1, 2 или 3 комнаты. Разброс значений очень мал."
   ]
  },
  {
   "cell_type": "markdown",
   "id": "60322882",
   "metadata": {},
   "source": [
    "---\n",
    "\n",
    "* Рассмотрим высоту потолков в столбце `'ceiling_height'`. Построим гистограмму для данного параметра."
   ]
  },
  {
   "cell_type": "code",
   "execution_count": 47,
   "id": "44eaf17e",
   "metadata": {},
   "outputs": [
    {
     "data": {
      "text/plain": [
       "count    14492.000000\n",
       "mean         2.771513\n",
       "std          1.261574\n",
       "min          1.000000\n",
       "25%          2.520000\n",
       "50%          2.650000\n",
       "75%          2.800000\n",
       "max        100.000000\n",
       "Name: ceiling_height, dtype: float64"
      ]
     },
     "metadata": {},
     "output_type": "display_data"
    },
    {
     "name": "stdout",
     "output_type": "stream",
     "text": [
      "99.5-й перцентиль значений ceiling_height: 3.8\n"
     ]
    }
   ],
   "source": [
    "# выведем информацию о распределении значений в параметре ceiling_height методом describe()\n",
    "display(realty['ceiling_height'].describe())\n",
    "# найдём 99-й квантиль значений ceiling_height с помощью метода .quantile(.99)\n",
    "print('99.5-й перцентиль значений ceiling_height:', round(realty['ceiling_height'].quantile(0.99), 1))"
   ]
  },
  {
   "cell_type": "code",
   "execution_count": 48,
   "id": "561afcfc",
   "metadata": {},
   "outputs": [
    {
     "data": {
      "image/png": "[encoded data removed]",
      "text/plain": [
       "<Figure size 432x288 with 1 Axes>"
      ]
     },
     "metadata": {
      "needs_background": "light"
     },
     "output_type": "display_data"
    }
   ],
   "source": [
    "# построим гистаграмму распределения 'ceiling_height' методом hist().\n",
    "# разделим гистограмму на 18 участков (параметр bins=18), \n",
    "# ограничим значения 'ceiling_height' < 3.8 (0.99-й квантиль)\n",
    "realty.hist('ceiling_height', bins=18, range = (0, 3.8))\n",
    "plt.show()"
   ]
  },
  {
   "cell_type": "markdown",
   "id": "daf1c85a",
   "metadata": {},
   "source": [
    "На гистограмме видно влияние выбросов с минимальными значениями, отбросим их. Для этого посчитаем 0.5-й и 99.5-й квантили."
   ]
  },
  {
   "cell_type": "code",
   "execution_count": 49,
   "id": "1d9f9a38",
   "metadata": {},
   "outputs": [
    {
     "name": "stdout",
     "output_type": "stream",
     "text": [
      "99.5-й перцентиль значений ceiling_height: 4.1\n",
      "0.5-й перцентиль значений ceiling_height: 2.5\n"
     ]
    }
   ],
   "source": [
    "# найдём 99.5-й квантиль значений ceiling_height с помощью метода .quantile(0.995)\n",
    "print('99.5-й перцентиль значений ceiling_height:', round(realty['ceiling_height'].quantile(0.995), 1))\n",
    "# найдём 0.5-й квантиль значений ceiling_height с помощью метода .quantile(0.05)\n",
    "print('0.5-й перцентиль значений ceiling_height:', round(realty['ceiling_height'].quantile(0.005), 1))"
   ]
  },
  {
   "cell_type": "code",
   "execution_count": 50,
   "id": "0127062b",
   "metadata": {},
   "outputs": [
    {
     "data": {
      "image/png": "[encoded data removed]",
      "text/plain": [
       "<Figure size 432x288 with 1 Axes>"
      ]
     },
     "metadata": {
      "needs_background": "light"
     },
     "output_type": "display_data"
    }
   ],
   "source": [
    "# построим гистаграмму распределения 'ceiling_height' методом hist().\n",
    "# разделим гистограмму на 18 участков (параметр bins=18), \n",
    "# ограничим значения 'ceiling_height' (2.5, 4.1), отбросим 1% аномально высоких и низких значений\n",
    "realty.hist('ceiling_height', bins=18, range = (2.5, 4.1))\n",
    "plt.show()"
   ]
  },
  {
   "cell_type": "markdown",
   "id": "e814f221",
   "metadata": {},
   "source": [
    "* Распределение значений параметра `ceiling_height` близко к распределению Пуассона. Есть небольшое аномальное поведение значении 3 м. Это может быть объяснено особенностью заполнения данных (округляли высоту до 3 м, когда реальная высота 2.9 или 3.1 м).\n",
    "* Максимальное значение - 100 м, ошибочное, но таких значений мало: 99% значений меньше 4 м. Остальные случаи можно считать выбросами, они не внесут отклонение в распределение.\n",
    "* Минимальное значение - 1 м, скорее всего ошибочное, но таких значений мало: 99% значений больше 2.5 м. Остальные случаи можно считать выбросами, они не внесут большое отклонение в распределение.\n",
    "* Медианное и среднее значения равны 2.65 и 2.77 соответственно. Данные практически не смещены, так как абсолютное большинство квартир имеют высоту потолков 2.5 - 3.5 м. Разброс значений небольшой. Отсюда могут быть и небольшие аномалии в распределении Пуассона."
   ]
  },
  {
   "cell_type": "markdown",
   "id": "94582ff0",
   "metadata": {},
   "source": [
    "### 4.2 Изучение времени продажи квартиры"
   ]
  },
  {
   "cell_type": "markdown",
   "id": "f763ba1a",
   "metadata": {},
   "source": [
    "Время продажи квартиры находится в параметре `days_exposition`.\n",
    "\n",
    "Для начала определим 1-й и 99-й перцентили распределения, чтобы не включать редкие значения в гистограмму. При этом исключим данные равные 0, так как мы предположили, что это еще не проданные квартиры и мы не можем использовать их в исследовании этого вопроса."
   ]
  },
  {
   "cell_type": "code",
   "execution_count": 51,
   "id": "534f890a",
   "metadata": {},
   "outputs": [
    {
     "name": "stdout",
     "output_type": "stream",
     "text": [
      "99-й перцентиль значений days_exposition: 1067.0\n",
      "1-й перцентиль значений days_exposition: 4.0\n"
     ]
    }
   ],
   "source": [
    "# найдём 99-й квантиль значений days_exposition с помощью метода .quantile(0.99)\n",
    "print('99-й перцентиль значений days_exposition:', round(realty.query('days_exposition != 0')['days_exposition'].quantile(0.99), 1))\n",
    "# найдём 1-й квантиль значений days_exposition с помощью метода .quantile(0.01)\n",
    "print('1-й перцентиль значений days_exposition:', round(realty.query('days_exposition != 0')['days_exposition'].quantile(0.01), 1))"
   ]
  },
  {
   "cell_type": "code",
   "execution_count": 52,
   "id": "ad19f382",
   "metadata": {},
   "outputs": [
    {
     "data": {
      "image/png": "[encoded data removed]",
      "text/plain": [
       "<Figure size 432x288 with 1 Axes>"
      ]
     },
     "metadata": {
      "needs_background": "light"
     },
     "output_type": "display_data"
    }
   ],
   "source": [
    "# построим гистаграмму распределения 'days_exposition' методом hist().\n",
    "# разделим гистограмму на 40 участков (параметр bins=40),\n",
    "# ограничим гистограмму значениями 0 - 1067\n",
    "realty.query('days_exposition != 0').hist('days_exposition', bins=40, range=(0,1067))\n",
    "plt.show()"
   ]
  },
  {
   "cell_type": "markdown",
   "id": "742d3aaa",
   "metadata": {},
   "source": [
    "Теперь рассчитаем среднее, медианное значения, а также посмотрим на распределение значений с помощью метода describe()"
   ]
  },
  {
   "cell_type": "code",
   "execution_count": 53,
   "id": "ad28fb74",
   "metadata": {},
   "outputs": [
    {
     "name": "stdout",
     "output_type": "stream",
     "text": [
      "Среднее значение времени продажи: 181.0\n",
      "Медианное значение времени продажи: 95.0\n"
     ]
    },
    {
     "data": {
      "text/plain": [
       "count    20431.000000\n",
       "mean       180.927267\n",
       "std        219.725798\n",
       "min          1.000000\n",
       "25%         45.000000\n",
       "50%         95.000000\n",
       "75%        232.000000\n",
       "max       1580.000000\n",
       "Name: days_exposition, dtype: float64"
      ]
     },
     "execution_count": 53,
     "metadata": {},
     "output_type": "execute_result"
    }
   ],
   "source": [
    "print('Среднее значение времени продажи:', round(realty.query('days_exposition != 0')['days_exposition'].mean(),0))\n",
    "print('Медианное значение времени продажи:', round(realty.query('days_exposition != 0')['days_exposition'].median(),0))\n",
    "realty.query('days_exposition != 0')['days_exposition'].describe()"
   ]
  },
  {
   "cell_type": "markdown",
   "id": "56769389",
   "metadata": {},
   "source": [
    "* Среднее значение в 2 раза больше медианного. Данные сильно смещены влево.\n",
    "* Это означает, что большинство квартир проданы за сравнительно небольшой срок (45 - 232 дней), но есть очень долгие объявления, вносящие смещение в данные.\n",
    "* 1% объявлений были сняты за 4 и меньше дней. Можно считать, что это необычно короткий срок.\n",
    "Теперь определим, какие сроки можно считать очень долгими. Для начала построим ящик с усами boxplot()."
   ]
  },
  {
   "cell_type": "code",
   "execution_count": 54,
   "id": "1350ce92",
   "metadata": {},
   "outputs": [
    {
     "data": {
      "text/plain": [
       "<AxesSubplot:>"
      ]
     },
     "execution_count": 54,
     "metadata": {},
     "output_type": "execute_result"
    },
    {
     "data": {
      "image/png": "[encoded data removed]",
      "text/plain": [
       "<Figure size 432x288 with 1 Axes>"
      ]
     },
     "metadata": {
      "needs_background": "light"
     },
     "output_type": "display_data"
    }
   ],
   "source": [
    "realty.boxplot('days_exposition')"
   ]
  },
  {
   "cell_type": "markdown",
   "id": "7234967d",
   "metadata": {},
   "source": [
    "* Можно оценить, что верхняя граница, после которой данные можно считать выбросами, находится в районе 500 дней.\n",
    "* Время продажи квартиры больше 500 дней можно считать необычно долгим."
   ]
  },
  {
   "cell_type": "markdown",
   "id": "125d331b",
   "metadata": {},
   "source": [
    "### 4.3 Поиск редких и выбивающихся значений\n",
    "\n",
    "В пунктах 4.1 и 4.2 мы изучили такие параметры как: площадь, цена, число комнат, высота потолков и время продажи квартиры. Среди них мы обнаружили выбивающиеся значения. Исключим данные в которых:\n",
    "* площадь квартиры более 200 м;\n",
    "* высота потолков менее 2.5 м и более 4.1 м;\n",
    "* количество комнат более 5;\n",
    "* стоимость квартиры менее 500 тыс. руб. и более 36 млн. руб.;\n",
    "* время продажи более 500 дней."
   ]
  },
  {
   "cell_type": "code",
   "execution_count": 55,
   "id": "d13f186a",
   "metadata": {},
   "outputs": [],
   "source": [
    "min_extreme_ceiling_height = realty.query('ceiling_height < 2.5')\n",
    "max_extreme_ceiling_height = realty.query('ceiling_height > 4.1')\n",
    "\n",
    "good_realty = realty.query(\n",
    "    'total_area <= 200 and '\n",
    "    'ceiling_height not in @min_extreme_ceiling_height[\"ceiling_height\"] and '\n",
    "    'ceiling_height not in @max_extreme_ceiling_height[\"ceiling_height\"] and '\n",
    "    'rooms <= 5 and '\n",
    "    'last_price <= 36000000 and last_price >= 500000 and '\n",
    "    'days_exposition <= 500'\n",
    ")"
   ]
  },
  {
   "cell_type": "markdown",
   "id": "deaf52dd",
   "metadata": {},
   "source": [
    "Обновим индексы в таблице после удаления строк методом reset_index()"
   ]
  },
  {
   "cell_type": "code",
   "execution_count": 56,
   "id": "4ce90f06",
   "metadata": {},
   "outputs": [],
   "source": [
    "good_realty = good_realty.reset_index(drop=True)"
   ]
  },
  {
   "cell_type": "code",
   "execution_count": 57,
   "id": "03926bd8",
   "metadata": {
    "scrolled": true
   },
   "outputs": [
    {
     "name": "stdout",
     "output_type": "stream",
     "text": [
      "После очистки осталось 21356 объявлений\n"
     ]
    }
   ],
   "source": [
    "print('После очистки осталось {} объявлений'.format(good_realty.shape[0]))"
   ]
  },
  {
   "cell_type": "code",
   "execution_count": 58,
   "id": "0ffa1296",
   "metadata": {},
   "outputs": [
    {
     "data": {
      "text/plain": [
       "0.904838573002288"
      ]
     },
     "execution_count": 58,
     "metadata": {},
     "output_type": "execute_result"
    }
   ],
   "source": [
    "# Код ревьюера\n",
    "len(good_realty)/len(realty)"
   ]
  },
  {
   "cell_type": "markdown",
   "id": "8dc506a7",
   "metadata": {},
   "source": [
    "### 4.4 Поиск факторов влияющих на стоимость квартиры\n",
    "\n",
    "* Рассмотрим влияние на стоимость `last_price`: площади квартиры `total_area`, числа комнат `rooms`, удалённости от центра `cityCenters_nearest`, этажа квартиры `floor_cat`, даты размещения: дня недели, месяца и года (параметры `publish_weekday`, `publish_month` и `publish_year` соответственно).\n",
    "* Построим графики зависимостей данных параметров (scatterplot), с помощью метода plot()\n",
    "* Также определим коэффициент корреляции Пирсона для каждой пары параметров.\n",
    "\n",
    "\n",
    "Создадим вспомогательную функцию для построения графиков scatterplot."
   ]
  },
  {
   "cell_type": "code",
   "execution_count": 59,
   "id": "3ab617ea",
   "metadata": {},
   "outputs": [],
   "source": [
    "def last_price_scatter(column, need_median=False):\n",
    "    \"\"\"\n",
    "    input: column (str) - название столбца для оси X графика\n",
    "           xrange (tuple) - пределы значений в столбце column для построения графика\n",
    "           need_median (bool) - флаг для построения кривой медиан (для каегориальных данных по оси X)\n",
    "    output: None\n",
    "    Функция строит scatteplot зависимости цены за квартиру 'last_price' от параметра column. \n",
    "    Дополнительно при need_median=True функция считает медианное значение 'last_price' для каждого значения column\n",
    "    и строит кривую median в тех же осях координат.\n",
    "    \"\"\"\n",
    "    ax = good_realty.plot(x = column,\n",
    "                          y = 'last_price',\n",
    "                          kind = 'scatter',         # тип графика\n",
    "                          style = 'o',              # отображение данных точками\n",
    "                          alpha = 0.3,              # прозрачность (для визуализации плотности данных)\n",
    "                          figsize = (8, 4),         # размер графика\n",
    "                          grid = True               # отобразить сетку\n",
    "                         )\n",
    "    if need_median:\n",
    "        # сгруппируем объявления по column и найдём медианные значения стоимости квартир для каждой группы\n",
    "        (good_realty\n",
    "         .groupby(column)['last_price']\n",
    "         .agg(['median'])\n",
    "         # отобразим медианы стоимости квартир для разных групп\n",
    "         .plot(ax = ax,\n",
    "               y = 'median',\n",
    "               style = '-or',\n",
    "               legend = True,          # отобразить подпись графика\n",
    "               label = 'median',    # название кривой\n",
    "               grid = True              # отобразить сетку\n",
    "              )\n",
    "        )      \n",
    "        \n",
    "    plt.show()"
   ]
  },
  {
   "cell_type": "markdown",
   "id": "dd932356",
   "metadata": {},
   "source": [
    "#### Зависимость цены от площади квартиры"
   ]
  },
  {
   "cell_type": "code",
   "execution_count": 60,
   "id": "44ad26cf",
   "metadata": {},
   "outputs": [
    {
     "data": {
      "image/png": "[encoded data removed]",
      "text/plain": [
       "<Figure size 576x288 with 1 Axes>"
      ]
     },
     "metadata": {
      "needs_background": "light"
     },
     "output_type": "display_data"
    },
    {
     "name": "stdout",
     "output_type": "stream",
     "text": [
      "Коэффициент корреляции Пирсона между last_price и total_area: 0.774\n"
     ]
    }
   ],
   "source": [
    "# построим график функцией last_price_scatter()\n",
    "last_price_scatter('total_area')\n",
    "\n",
    "# Определим коэффициент корреляции Пирсона методом corr()\n",
    "print('Коэффициент корреляции Пирсона между last_price и total_area:', \\\n",
    "      round(good_realty['last_price'].corr(good_realty['total_area']), 3))\n"
   ]
  },
  {
   "cell_type": "markdown",
   "id": "4ae46732",
   "metadata": {},
   "source": [
    "* По графику видно, что в среднем стоимость квартиры растёт с увеличением общей площади.\n",
    "* Коэффициент корреляции Пирсона 0.774 также подтверждает положительную зависимость. Значение коэффициента говорит об умеренной зависимости."
   ]
  },
  {
   "cell_type": "markdown",
   "id": "164081ab",
   "metadata": {},
   "source": [
    "#### Зависимость цены от числа комнат"
   ]
  },
  {
   "cell_type": "code",
   "execution_count": 61,
   "id": "f9175706",
   "metadata": {},
   "outputs": [
    {
     "data": {
      "image/png": "[encoded data removed]",
      "text/plain": [
       "<Figure size 576x288 with 1 Axes>"
      ]
     },
     "metadata": {
      "needs_background": "light"
     },
     "output_type": "display_data"
    },
    {
     "name": "stdout",
     "output_type": "stream",
     "text": [
      "Коэффициент корреляции Пирсона между last_price и rooms: 0.468\n"
     ]
    }
   ],
   "source": [
    "# построим график функцией last_price_scatter()\n",
    "last_price_scatter('rooms', need_median=True)\n",
    "\n",
    "# Определим коэффициент корреляции Пирсона методом corr()\n",
    "print('Коэффициент корреляции Пирсона между last_price и rooms:', \\\n",
    "      round(good_realty['last_price'].corr(good_realty['rooms']), 3))"
   ]
  },
  {
   "cell_type": "markdown",
   "id": "73763d22",
   "metadata": {},
   "source": [
    "* По графику видно, что в среднем стоимость квартиры растёт с увеличением колличества комнат.\n",
    "* Коэффициент корреляции Пирсона 0.468 также подтверждает положительную зависимость. Значение коэффициента низкое, зависимость между параметрами достаточно слабая."
   ]
  },
  {
   "cell_type": "markdown",
   "id": "de99167a",
   "metadata": {},
   "source": [
    "#### Зависимость цены от удалённости от центра"
   ]
  },
  {
   "cell_type": "code",
   "execution_count": 62,
   "id": "cfb13627",
   "metadata": {},
   "outputs": [
    {
     "data": {
      "image/png": "[encoded data removed]",
      "text/plain": [
       "<Figure size 576x288 with 1 Axes>"
      ]
     },
     "metadata": {
      "needs_background": "light"
     },
     "output_type": "display_data"
    },
    {
     "name": "stdout",
     "output_type": "stream",
     "text": [
      "Коэффициент корреляции Пирсона между last_price и cityCenters_nearest: -0.332\n"
     ]
    }
   ],
   "source": [
    "# построим график функцией last_price_scatter()\n",
    "last_price_scatter('cityCenters_nearest')\n",
    "\n",
    "# Определим коэффициент корреляции Пирсона методом corr()\n",
    "print('Коэффициент корреляции Пирсона между last_price и cityCenters_nearest:', \\\n",
    "      round(good_realty['last_price'].corr(good_realty['cityCenters_nearest']), 3))"
   ]
  },
  {
   "cell_type": "markdown",
   "id": "8fa59e2d",
   "metadata": {},
   "source": [
    "* По графику видно, что в среднем стоимость квартиры падает с увеличением расстояния до центра.\n",
    "* Коэффициент корреляции Пирсона -0.332 также подтверждает отрицательную зависимость. Значение коэффициента низкое, зависимость между параметрами достаточно слабая."
   ]
  },
  {
   "cell_type": "markdown",
   "id": "dda37760",
   "metadata": {},
   "source": [
    "#### Зависимость цены от этажа"
   ]
  },
  {
   "cell_type": "code",
   "execution_count": 63,
   "id": "a077d34d",
   "metadata": {
    "scrolled": false
   },
   "outputs": [
    {
     "data": {
      "text/plain": [
       "<AxesSubplot:xlabel='floor_category'>"
      ]
     },
     "execution_count": 63,
     "metadata": {},
     "output_type": "execute_result"
    },
    {
     "data": {
      "image/png": "[encoded data removed]",
      "text/plain": [
       "<Figure size 720x432 with 1 Axes>"
      ]
     },
     "metadata": {
      "needs_background": "light"
     },
     "output_type": "display_data"
    }
   ],
   "source": [
    "#Построим график методом plot\n",
    "(good_realty\n",
    "    .pivot_table(index='floor_category', values='last_price', aggfunc='mean')\n",
    "    .plot(kind='bar', y='last_price', figsize=(10,6))\n",
    ")"
   ]
  },
  {
   "cell_type": "markdown",
   "id": "60530691",
   "metadata": {},
   "source": [
    "* По графику видно, что квартиры расположенные последних этажах стоят дешевле, чем квартиры расположенные на других этажах, а на первом этаже самые дешевые квартиры."
   ]
  },
  {
   "cell_type": "markdown",
   "id": "c78f851d",
   "metadata": {},
   "source": [
    "#### Зависимость цены от даты размещения\n",
    "\n",
    "1) Зависимость `last_price` от `publish_weekday`."
   ]
  },
  {
   "cell_type": "code",
   "execution_count": 64,
   "id": "a5f03581",
   "metadata": {},
   "outputs": [
    {
     "data": {
      "image/png": "[encoded data removed]",
      "text/plain": [
       "<Figure size 576x288 with 1 Axes>"
      ]
     },
     "metadata": {
      "needs_background": "light"
     },
     "output_type": "display_data"
    }
   ],
   "source": [
    "# построим график функцией last_price_scatter()\n",
    "last_price_scatter('publish_weekday', need_median=True)"
   ]
  },
  {
   "cell_type": "markdown",
   "id": "1ba99257",
   "metadata": {},
   "source": [
    "* По графику видно, что в среднем стоимость квартиры никак не зависит от дня недели размещения объявления."
   ]
  },
  {
   "cell_type": "markdown",
   "id": "2bc0050d",
   "metadata": {},
   "source": [
    "---\n",
    "\n",
    "2) Зависимость `last_price` от `publish_month`."
   ]
  },
  {
   "cell_type": "code",
   "execution_count": 65,
   "id": "d4355aa3",
   "metadata": {},
   "outputs": [
    {
     "data": {
      "image/png": "[encoded data removed]",
      "text/plain": [
       "<Figure size 576x288 with 1 Axes>"
      ]
     },
     "metadata": {
      "needs_background": "light"
     },
     "output_type": "display_data"
    }
   ],
   "source": [
    "# построим график функцией last_price_scatter()\n",
    "last_price_scatter('publish_month', need_median=True)"
   ]
  },
  {
   "cell_type": "markdown",
   "id": "67a08317",
   "metadata": {},
   "source": [
    "* По графику видно, что в среднем стоимость квартиры никак не зависит от месяца размещения объявления."
   ]
  },
  {
   "cell_type": "markdown",
   "id": "d057ad13",
   "metadata": {},
   "source": [
    "---\n",
    "\n",
    "3) Зависимость `last_price` от `publish_year`."
   ]
  },
  {
   "cell_type": "code",
   "execution_count": 66,
   "id": "9b79e2c6",
   "metadata": {},
   "outputs": [
    {
     "data": {
      "image/png": "[encoded data removed]",
      "text/plain": [
       "<Figure size 576x288 with 1 Axes>"
      ]
     },
     "metadata": {
      "needs_background": "light"
     },
     "output_type": "display_data"
    }
   ],
   "source": [
    "# построим график функцией last_price_scatter()\n",
    "last_price_scatter('publish_year', need_median=True)"
   ]
  },
  {
   "cell_type": "markdown",
   "id": "1ab7adb4",
   "metadata": {},
   "source": [
    "* По графику видно, что с 2014 по 2015 год наблюдалось снижение стоимости квартир."
   ]
  },
  {
   "cell_type": "markdown",
   "id": "921b017d",
   "metadata": {},
   "source": [
    "### 4.5 Исследование стоимости квадратного метра в различных районах\n",
    "\n",
    "Сгруппируем объявления по названию населённого пункта, посчитаем колличество записей в каждой группе, а также медианное значение стоимости квадратного метра. После этого отсортируем результат по убыванию колличества записей и выберем первые 10 групп. Результат запишем в переменную `localities`.\n",
    "\n",
    "Выведем таблицу на экран в порядке убывания стоимости квадратного метра."
   ]
  },
  {
   "cell_type": "code",
   "execution_count": 67,
   "id": "1d491947",
   "metadata": {},
   "outputs": [
    {
     "data": {
      "text/html": [
       "<div>\n",
       "<style scoped>\n",
       "    .dataframe tbody tr th:only-of-type {\n",
       "        vertical-align: middle;\n",
       "    }\n",
       "\n",
       "    .dataframe tbody tr th {\n",
       "        vertical-align: top;\n",
       "    }\n",
       "\n",
       "    .dataframe thead th {\n",
       "        text-align: right;\n",
       "    }\n",
       "</style>\n",
       "<table border=\"1\" class=\"dataframe\">\n",
       "  <thead>\n",
       "    <tr style=\"text-align: right;\">\n",
       "      <th></th>\n",
       "      <th>count</th>\n",
       "      <th>mean</th>\n",
       "    </tr>\n",
       "    <tr>\n",
       "      <th>locality_name</th>\n",
       "      <th></th>\n",
       "      <th></th>\n",
       "    </tr>\n",
       "  </thead>\n",
       "  <tbody>\n",
       "    <tr>\n",
       "      <th>Санкт-Петербург</th>\n",
       "      <td>14051</td>\n",
       "      <td>111613.564401</td>\n",
       "    </tr>\n",
       "    <tr>\n",
       "      <th>Пушкин</th>\n",
       "      <td>333</td>\n",
       "      <td>103616.696096</td>\n",
       "    </tr>\n",
       "    <tr>\n",
       "      <th>Кудрово</th>\n",
       "      <td>432</td>\n",
       "      <td>96039.603935</td>\n",
       "    </tr>\n",
       "    <tr>\n",
       "      <th>Парголово</th>\n",
       "      <td>310</td>\n",
       "      <td>90611.782903</td>\n",
       "    </tr>\n",
       "    <tr>\n",
       "      <th>Мурино</th>\n",
       "      <td>550</td>\n",
       "      <td>86901.198545</td>\n",
       "    </tr>\n",
       "    <tr>\n",
       "      <th>Шушары</th>\n",
       "      <td>416</td>\n",
       "      <td>78915.038462</td>\n",
       "    </tr>\n",
       "    <tr>\n",
       "      <th>Колпино</th>\n",
       "      <td>321</td>\n",
       "      <td>75612.294081</td>\n",
       "    </tr>\n",
       "    <tr>\n",
       "      <th>Гатчина</th>\n",
       "      <td>282</td>\n",
       "      <td>69248.447518</td>\n",
       "    </tr>\n",
       "    <tr>\n",
       "      <th>Всеволожск</th>\n",
       "      <td>365</td>\n",
       "      <td>69040.806849</td>\n",
       "    </tr>\n",
       "    <tr>\n",
       "      <th>Выборг</th>\n",
       "      <td>219</td>\n",
       "      <td>58361.627854</td>\n",
       "    </tr>\n",
       "  </tbody>\n",
       "</table>\n",
       "</div>"
      ],
      "text/plain": [
       "                 count           mean\n",
       "locality_name                        \n",
       "Санкт-Петербург  14051  111613.564401\n",
       "Пушкин             333  103616.696096\n",
       "Кудрово            432   96039.603935\n",
       "Парголово          310   90611.782903\n",
       "Мурино             550   86901.198545\n",
       "Шушары             416   78915.038462\n",
       "Колпино            321   75612.294081\n",
       "Гатчина            282   69248.447518\n",
       "Всеволожск         365   69040.806849\n",
       "Выборг             219   58361.627854"
      ]
     },
     "metadata": {},
     "output_type": "display_data"
    }
   ],
   "source": [
    "localities = (good_realty\n",
    "              .groupby('locality_name')['meter_price']\n",
    "              .agg(['count', 'mean'])\n",
    "              .sort_values(by='count', ascending=False)\n",
    "              .head(10)\n",
    "             )\n",
    "display(localities.sort_values('mean', ascending=False))"
   ]
  },
  {
   "cell_type": "markdown",
   "id": "2565d825",
   "metadata": {},
   "source": [
    "**Вывод:**\n",
    "* Самое дорогое жильё в Санкт-Петербурге;\n",
    "* Самое дешёвое жилье в Выборге."
   ]
  },
  {
   "cell_type": "markdown",
   "id": "090eb4fe",
   "metadata": {},
   "source": [
    "### 4.6 Определение границы центрального района в Санкт-Петербурге\n",
    "\n",
    "Выделим квартиры в Санкт-Петербурге (`'locality_name'`) методом `loc` и сохраним их в переменной `spb_realty`.\n",
    "Создадим столбец `'dist_center'` с расстоянием до центра в километрах, округлим до целых значений.\n",
    "Посчитаем среднюю цену для каждого километра. Построим график зависимости цены от удалённости от центра.\n",
    "Определим границу, где график сильно меняется — это и будет центральная зона."
   ]
  },
  {
   "cell_type": "code",
   "execution_count": 68,
   "id": "9aa9defb",
   "metadata": {},
   "outputs": [],
   "source": [
    "# методом query получим срез данных, результат запишем в таблицу real_estate_peter\n",
    "# сбросим индексы методом reset_index(drop=True)\n",
    "spb_realty = (good_realty\n",
    "                     .query('locality_name == \"Санкт-Петербург\"')\n",
    "                     .reset_index(drop=True)\n",
    "                    )\n",
    "\n",
    "# в dist_center запишем расстояние до центра в километрах, округлим значение методом round()\n",
    "spb_realty['dist_center'] = round(spb_realty['cityCenters_nearest'] / 1000, 0)"
   ]
  },
  {
   "cell_type": "markdown",
   "id": "6e6780dd",
   "metadata": {},
   "source": [
    "Построим график зависимости цены от удалённости от центра."
   ]
  },
  {
   "cell_type": "code",
   "execution_count": 69,
   "id": "28080737",
   "metadata": {},
   "outputs": [
    {
     "data": {
      "text/plain": [
       "<AxesSubplot:xlabel='dist_center', ylabel='last_price'>"
      ]
     },
     "execution_count": 69,
     "metadata": {},
     "output_type": "execute_result"
    },
    {
     "data": {
      "image/png": "[encoded data removed]",
      "text/plain": [
       "<Figure size 576x288 with 1 Axes>"
      ]
     },
     "metadata": {
      "needs_background": "light"
     },
     "output_type": "display_data"
    }
   ],
   "source": [
    "ax = spb_realty.plot(x = 'dist_center',\n",
    "                    y = 'last_price',\n",
    "                    kind = 'scatter',         # тип графика\n",
    "                    style = 'o',              # отображение данных точками\n",
    "                    alpha = 0.3,              # прозрачность (для визуализации плотности данных)\n",
    "                    figsize = (8, 4),         # размер графика\n",
    "                    xlim = (-1,30),\n",
    "                    grid = True\n",
    "                    )\n",
    "\n",
    "# сгруппируем данные по расстоянию до центра, посчитаем медианное значение цены за квадратный метр\n",
    "(spb_realty\n",
    "         .groupby('dist_center')['last_price']\n",
    "         .agg(['median'])\n",
    "         # на тех же осях отобразим кривую изменения медианного значения цены за квадратный метр от расстояния до центра.\n",
    "         .plot(ax=ax,                   # копируем оси с предыдущего графика\n",
    "               y = 'median',            # медианы стоимости квадратного метра по оси y\n",
    "               style = '-or',           # стиль кривой - красная линия с точками в местах расчётов\n",
    "               legend = True,              # отобразить подпись графика\n",
    "               label = 'median spb',    # название кривой               \n",
    "               grid = True              # отобразить сетку на графике\n",
    "              )\n",
    ")"
   ]
  },
  {
   "cell_type": "markdown",
   "id": "3b0a25d9",
   "metadata": {},
   "source": [
    "* Скорость роста цены квартиры начинает увеличиваться при расстоянии до центра <= 8 км. Будем считать границу центрадьного района за 8 км."
   ]
  },
  {
   "cell_type": "markdown",
   "id": "24bce351",
   "metadata": {},
   "source": [
    "### 4.7 Исследование квартир в центральном районе Санкт-Петербурга\n",
    "\n",
    "Сохраним в таблице `spb_realty_center` объявления о квартирах в центре Санкт-петербурга."
   ]
  },
  {
   "cell_type": "code",
   "execution_count": 70,
   "id": "0f465cf0",
   "metadata": {},
   "outputs": [],
   "source": [
    "# Сделаем срез данных из таблицы `spb_realty`, где расстояние до центра до 8 километров.\n",
    "# результат запишем в таблицу `spb_realty_center`\n",
    "spb_realty_center = (spb_realty\n",
    "                      .query('dist_center <= 8')\n",
    "                      .reset_index(drop=True)\n",
    "                     )"
   ]
  },
  {
   "cell_type": "markdown",
   "id": "3024ab0b",
   "metadata": {},
   "source": [
    "Проанализируем эту территорию и изучим следующие параметры: площадь, цена, число комнат, высота потолков.\n",
    "\n",
    "Создадим вспомогательную функцию для построения двух гистограмм (для всех объявлений и квартир в центре Санкт-Петербурга) в одной системе координат для наглядного сравнения различных параметров."
   ]
  },
  {
   "cell_type": "code",
   "execution_count": 71,
   "id": "acadd36d",
   "metadata": {},
   "outputs": [],
   "source": [
    "def show_histograms(column, bins):\n",
    "    \"\"\"\n",
    "    input: column (str) - название столбца для построения гистограммы\n",
    "           bins (int)   - колличество ячеек для гистограмм\n",
    "    output: None\n",
    "    Функция строит две гистограммы из таблиц real_estate и real_estate_center для столбца column\n",
    "    в одной системе координат. Гистограммы отображают плотности распределения значений для наглядности.\n",
    "    \"\"\"\n",
    "    ax = good_realty.plot(kind = 'hist',\n",
    "                          y = column,\n",
    "                          histtype = 'step',       # данный тип удобен для сравнения двух гистограмм\n",
    "                          bins = bins,\n",
    "                          alpha = 0.5,\n",
    "                          linewidth = 2,           # ширина графика\n",
    "                          grid = True,\n",
    "                          density = True,          # отобразить плотность распределения данных\n",
    "                          legend = True,           # отобразить пояснение для графиков\n",
    "                          label = column + ' all'  # строка подписи для графиков\n",
    "                         )\n",
    "    spb_realty_center.plot(kind = 'hist',\n",
    "                            y = column,\n",
    "                            histtype = 'step',\n",
    "                            ax = ax,               # отобразить график в осях предыдущей гистограммы\n",
    "                            bins = bins,\n",
    "                            alpha = 0.5,\n",
    "                            linewidth = 2,\n",
    "                            grid = True,\n",
    "                            density = True,\n",
    "                            legend = True,\n",
    "                            label = column + ' center'\n",
    "                           )\n",
    "    # density=True - необходимо для отображения двух гистограмм в одной системе координат.\n",
    "    plt.show()"
   ]
  },
  {
   "cell_type": "code",
   "execution_count": 72,
   "id": "c4cbe2ff",
   "metadata": {
    "scrolled": false
   },
   "outputs": [
    {
     "data": {
      "text/plain": [
       "count    3288.000000\n",
       "mean       76.580900\n",
       "std        33.051289\n",
       "min        12.000000\n",
       "25%        52.000000\n",
       "50%        71.000000\n",
       "75%        95.000000\n",
       "max       198.000000\n",
       "Name: total_area, dtype: float64"
      ]
     },
     "metadata": {},
     "output_type": "display_data"
    },
    {
     "data": {
      "image/png": "[encoded data removed]",
      "text/plain": [
       "<Figure size 432x288 with 1 Axes>"
      ]
     },
     "metadata": {
      "needs_background": "light"
     },
     "output_type": "display_data"
    }
   ],
   "source": [
    "# методом describe посмотрим на численное распределение площади 'total_area' для квартир в центре Санкт-Петербурга\n",
    "display(spb_realty_center['total_area'].describe())\n",
    "\n",
    "# построим гистаграмму распределения 'total_area' методом hist().\n",
    "# разделим гистограмму на 25 участков\n",
    "show_histograms('total_area', bins=25)"
   ]
  },
  {
   "cell_type": "markdown",
   "id": "b2461126",
   "metadata": {},
   "source": [
    "* Среднее и медианное значения `total_area` для квартир в центре равны соответственно 76.6 и 71.0.\n",
    "* На гистограммах хорошо видно смещение в сторону больших значений для квартир в центре (с обоих сторон от пиков гистограмм)."
   ]
  },
  {
   "cell_type": "code",
   "execution_count": 73,
   "id": "97c51097",
   "metadata": {},
   "outputs": [
    {
     "data": {
      "text/plain": [
       "count      3288.000000\n",
       "mean     131219.204106\n",
       "std       49001.943947\n",
       "min       15384.600000\n",
       "25%      100000.000000\n",
       "50%      121961.100000\n",
       "75%      148753.675000\n",
       "max      848484.800000\n",
       "Name: meter_price, dtype: float64"
      ]
     },
     "metadata": {},
     "output_type": "display_data"
    },
    {
     "data": {
      "image/png": "[encoded data removed]",
      "text/plain": [
       "<Figure size 432x288 with 1 Axes>"
      ]
     },
     "metadata": {
      "needs_background": "light"
     },
     "output_type": "display_data"
    }
   ],
   "source": [
    "# посмотрим на численное распределение цены за квадратный метр 'meter_price' для квартир в центре Санкт-Петербурга\n",
    "display(spb_realty_center['meter_price'].describe())\n",
    "\n",
    "# построим гистаграмму распределения 'meter_price' методом hist().\n",
    "# разделим гистограмму на 25 участков\n",
    "show_histograms('meter_price', bins=25)"
   ]
  },
  {
   "cell_type": "markdown",
   "id": "79f90de4",
   "metadata": {},
   "source": [
    "* Среднее и медианное значения `meter_price` для квартир в центре равны соответственно 131 тыс. и 122 тыс. руб. соответственно.\n",
    "* На гистограммах также видно небольшое смещение в сторону больших значений для квартир в центре (с обоих сторон от пиков гистограмм)."
   ]
  },
  {
   "cell_type": "code",
   "execution_count": 74,
   "id": "73c03373",
   "metadata": {},
   "outputs": [
    {
     "data": {
      "text/plain": [
       "count    3288.000000\n",
       "mean        2.494830\n",
       "std         1.056354\n",
       "min         0.000000\n",
       "25%         2.000000\n",
       "50%         2.000000\n",
       "75%         3.000000\n",
       "max         5.000000\n",
       "Name: rooms, dtype: float64"
      ]
     },
     "metadata": {},
     "output_type": "display_data"
    },
    {
     "data": {
      "image/png": "[encoded data removed]",
      "text/plain": [
       "<Figure size 432x288 with 1 Axes>"
      ]
     },
     "metadata": {
      "needs_background": "light"
     },
     "output_type": "display_data"
    }
   ],
   "source": [
    "# посмотрим на численное распределение колличества комнат 'rooms' для квартир в центре Санкт-Петербурга\n",
    "display(spb_realty_center['rooms'].describe())\n",
    "\n",
    "# построим гистаграмму распределения 'rooms' методом hist().\n",
    "# разделим гистограмму на 10 участков\n",
    "show_histograms('rooms', bins=10)"
   ]
  },
  {
   "cell_type": "markdown",
   "id": "0792d4a3",
   "metadata": {},
   "source": [
    "* Среднее и медианное значения `rooms` для квартир в центре равны 2.5 и 2.\n",
    "* На гистограммах также хорошо видно смещение в сторону больших значений для квартир в центре (с обоих сторон от пиков гистограмм)."
   ]
  },
  {
   "cell_type": "code",
   "execution_count": 75,
   "id": "d7877c96",
   "metadata": {},
   "outputs": [
    {
     "data": {
      "text/plain": [
       "count    2126.000000\n",
       "mean        3.011524\n",
       "std         0.323890\n",
       "min         2.500000\n",
       "25%         2.760000\n",
       "50%         3.000000\n",
       "75%         3.200000\n",
       "max         4.100000\n",
       "Name: ceiling_height, dtype: float64"
      ]
     },
     "metadata": {},
     "output_type": "display_data"
    },
    {
     "data": {
      "image/png": "[encoded data removed]",
      "text/plain": [
       "<Figure size 432x288 with 1 Axes>"
      ]
     },
     "metadata": {
      "needs_background": "light"
     },
     "output_type": "display_data"
    }
   ],
   "source": [
    "# посмотрим на численное распределение высоты потолков 'ceiling_height' для квартир в центре Санкт-Петербурга\n",
    "display(spb_realty_center['ceiling_height'].describe())\n",
    "\n",
    "# построим гистаграмму распределения 'ceiling_height' методом hist().\n",
    "# разделим гистограмму на 9 участков\n",
    "show_histograms('ceiling_height', bins=9)"
   ]
  },
  {
   "cell_type": "markdown",
   "id": "cd46a490",
   "metadata": {},
   "source": [
    "* Среднее и медианное значения `ceiling_height` для квартир в центре равны 3.\n",
    "* На гистограммах также хорошо видно смещение в сторону больших значений для квартир в центре (с обоих сторон от пиков гистограмм)."
   ]
  },
  {
   "cell_type": "markdown",
   "id": "ada55693",
   "metadata": {},
   "source": [
    "---\n",
    "\n",
    "Выделим факторы, влияющие на стоимость квартиры (число комнат, этаж, удалённость от центра, дата размещения объявления).\n",
    "\n",
    "Создадим вспомогательную функцию для построения графиков scatterplot."
   ]
  },
  {
   "cell_type": "code",
   "execution_count": 76,
   "id": "885740db",
   "metadata": {},
   "outputs": [],
   "source": [
    "def center_last_price_scatter(column, need_median=False):\n",
    "    \"\"\"\n",
    "    input: column (str) - название столбца для оси X графика\n",
    "           xrange (tuple) - пределы значений в столбце column для построения графика\n",
    "           need_median (bool) - флаг для построения кривой медиан (для каегориальных данных по оси X)\n",
    "    output: None\n",
    "    Функция строит scatteplot зависимости цены за квартиру 'last_price' от параметра column. \n",
    "    Дополнительно при need_median=True функция считает медианное значение 'last_price' для каждого значения column\n",
    "    и строит кривую median в тех же осях координат.\n",
    "    \"\"\"\n",
    "    ax = spb_realty_center.plot(x = column,\n",
    "                           y = 'last_price',\n",
    "                           kind = 'scatter',         # тип графика\n",
    "                           style = 'o',              # отображение данных точками\n",
    "                           alpha = 0.3,              # прозрачность (для визуализации плотности данных)\n",
    "                           figsize = (8, 4),         # размер графика\n",
    "                           grid = True               # отобразить сетку\n",
    "                          )\n",
    "    if need_median:\n",
    "        # сгруппируем объявления по column и найдём медианные значения стоимости квартир для каждой группы\n",
    "        (spb_realty_center\n",
    "         .groupby(column)['last_price']\n",
    "         .agg(['median'])\n",
    "         # отобразим медианы стоимости квартир для разных групп\n",
    "         .plot(ax = ax,\n",
    "               y = 'median',\n",
    "               style = '-or',\n",
    "               legend = True,          # отобразить подпись графика\n",
    "               label = 'median',    # название кривой\n",
    "               grid = True              # отобразить сетку\n",
    "              )\n",
    "        )      \n",
    "        \n",
    "    plt.show()"
   ]
  },
  {
   "cell_type": "markdown",
   "id": "46fb94ce",
   "metadata": {},
   "source": [
    "#### Зависимость цены от числа комнат"
   ]
  },
  {
   "cell_type": "code",
   "execution_count": 77,
   "id": "59c39c16",
   "metadata": {
    "scrolled": true
   },
   "outputs": [
    {
     "data": {
      "image/png": "[encoded data removed]",
      "text/plain": [
       "<Figure size 576x288 with 1 Axes>"
      ]
     },
     "metadata": {
      "needs_background": "light"
     },
     "output_type": "display_data"
    },
    {
     "name": "stdout",
     "output_type": "stream",
     "text": [
      "Коэффициент корреляции Пирсона между last_price и rooms в центре города: 0.423\n"
     ]
    }
   ],
   "source": [
    "# построим график зависимости функцией center_last_price_scatter()\n",
    "center_last_price_scatter('rooms', need_median=True)\n",
    "\n",
    "# Определим коэффициент корреляции Пирсона методом corr()\n",
    "print('Коэффициент корреляции Пирсона между last_price и rooms в центре города:', \\\n",
    "      round(spb_realty_center['last_price'].corr(spb_realty_center['rooms']), 3))"
   ]
  },
  {
   "cell_type": "markdown",
   "id": "13674e76",
   "metadata": {},
   "source": [
    "* По графику видно, что в среднем стоимость квартиры растёт с увеличением колличества комнат.\n",
    "* Коэффициент корреляции Пирсона 0.423 также подтверждает положительную зависимость. Значение коэффициента низкое, зависимость между параметрами достаточно слабая.\n",
    "* Аналогичная зависимость выявлена ранее для квартир по всему датасету."
   ]
  },
  {
   "cell_type": "markdown",
   "id": "6f53d579",
   "metadata": {},
   "source": [
    "#### Зависимость цены от этажа"
   ]
  },
  {
   "cell_type": "code",
   "execution_count": 78,
   "id": "1e29b17e",
   "metadata": {
    "scrolled": false
   },
   "outputs": [
    {
     "data": {
      "text/plain": [
       "<AxesSubplot:xlabel='floor_category'>"
      ]
     },
     "execution_count": 78,
     "metadata": {},
     "output_type": "execute_result"
    },
    {
     "data": {
      "image/png": "[encoded data removed]",
      "text/plain": [
       "<Figure size 720x432 with 1 Axes>"
      ]
     },
     "metadata": {
      "needs_background": "light"
     },
     "output_type": "display_data"
    }
   ],
   "source": [
    "#Построим график методом plot()\n",
    "(spb_realty_center\n",
    "    .pivot_table(index='floor_category', values='last_price', aggfunc='mean')\n",
    "    .plot(kind='bar', y='last_price', figsize=(10,6))\n",
    ")"
   ]
  },
  {
   "cell_type": "markdown",
   "id": "750c118b",
   "metadata": {},
   "source": [
    "* По графику видно, что квартиры расположенные последних этажах стоят дешевле, чем квартиры расположенные на других этажах, а на первом этаже самые дешевые квартиры, так же как и по всему датасету в целом."
   ]
  },
  {
   "cell_type": "markdown",
   "id": "1ee3f5df",
   "metadata": {},
   "source": [
    "#### Зависимость цены от удалённости от центра"
   ]
  },
  {
   "cell_type": "code",
   "execution_count": 79,
   "id": "b07b7229",
   "metadata": {},
   "outputs": [
    {
     "data": {
      "image/png": "[encoded data removed]",
      "text/plain": [
       "<Figure size 576x288 with 1 Axes>"
      ]
     },
     "metadata": {
      "needs_background": "light"
     },
     "output_type": "display_data"
    },
    {
     "name": "stdout",
     "output_type": "stream",
     "text": [
      "Коэффициент корреляции Пирсона между last_price и cityCenters_nearest: -0.101\n"
     ]
    }
   ],
   "source": [
    "# построим график функцией last_price_scatter()\n",
    "center_last_price_scatter('cityCenters_nearest')\n",
    "\n",
    "# Определим коэффициент корреляции Пирсона методом corr()\n",
    "print('Коэффициент корреляции Пирсона между last_price и cityCenters_nearest:', \\\n",
    "      round(spb_realty_center['last_price'].corr(spb_realty_center['cityCenters_nearest']), 3))"
   ]
  },
  {
   "cell_type": "markdown",
   "id": "35055cd6",
   "metadata": {},
   "source": [
    "* Коэффициент корреляции Пирсона для квартир в центре -0.101, немного меньше по абсолютному значению, чем для квартир по всему датасету (-0.332). Зависимость между удалённостью от центра и ценой за квартиру немного выше у квартир по всему датасету. Но для квартир в центре данных не очень много, информация может быть недостоверной."
   ]
  },
  {
   "cell_type": "markdown",
   "id": "2403da34",
   "metadata": {},
   "source": [
    "#### Зависимость цены от даты размещения\n",
    "\n",
    "Рассмотрим зависимость `last_price` от `publish_year`."
   ]
  },
  {
   "cell_type": "code",
   "execution_count": 80,
   "id": "bd2bb729",
   "metadata": {},
   "outputs": [
    {
     "data": {
      "image/png": "[encoded data removed]",
      "text/plain": [
       "<Figure size 576x288 with 1 Axes>"
      ]
     },
     "metadata": {
      "needs_background": "light"
     },
     "output_type": "display_data"
    }
   ],
   "source": [
    "# построим график функцией last_price_scatter()\n",
    "center_last_price_scatter('publish_year', need_median=True)"
   ]
  },
  {
   "cell_type": "markdown",
   "id": "bc447b3a",
   "metadata": {},
   "source": [
    "* По графику видно, что в среднем стоимость квартиры не зависит от года публикации."
   ]
  },
  {
   "cell_type": "markdown",
   "id": "230dff13",
   "metadata": {},
   "source": [
    "**Выводы**\n",
    "\n",
    "\n",
    "* Изучены параметры квартир: площадь, цена, число комнат, высота потолков. Распределения данных близки к распределению Пуассона.\n",
    "* Аномальные данные выявлены, неправдоподобные выбросы удалены.\n",
    "* Изучено время продажи квартир. Распределение близко к Распределению Пуассона. Аномальных пиков в гистограмме не выявлено. Данные сильно смещены влево (среднее значение в 2 раза больше медианного). Бльшинство квартир продаётся за 45-232 дней. Время продажи меньше 4 дней и больше 500 дней можно считать необычными выбросами.\n",
    "* Проанализированы факторы, влияющие на стоимость квартиры. Наибольшую корреляцию показали: общая площадь `total_area`, колличество комнат `rooms`, удалённость от центра города `cityCenters_nearest`.\n",
    "* Проанализирована стоимость квадратного метра в различных районах. Самым дорогим оказался Санкт-Петербург (111613.56), самая дешёвая стоимость квадратного метра в Выборге (58361.63).\n",
    "* Проанализирована зависимость цены за квадратный метр от расстояния до центра города в Санкт-Петербурге. Граница центрального района около 8 км.\n",
    "* Рассмотрены факторы, влияющие на стоимость квартиры в центре Санкт-Петербурга. Отмечена общая повышенная стоимость квартир в центральном районе. В остальном корреляции не сильно отличаются. Замечена повышеная цена за квартиру в общем по датасету в период с 2015-2016 гг."
   ]
  },
  {
   "cell_type": "markdown",
   "id": "41600215",
   "metadata": {},
   "source": [
    "## 5. Общий вывод\n",
    "**1)** Данные в таблице `'real_estate_data.csv'` о продаже квартир содержат много пропущенной информации. Часть информации могла быть утеряна в результате сбоев системы при загрузке/выгрузке данных. Часть информации могла отсутствовать изначально (объявления не были заполнены на 100%). Информация была восстановлена по существующим данным из других параметров, или оставлениа как есть.\n",
    "\n",
    "**2)** Аномальные/неправдоподобные данные были частично исправлены, исходя из данных таблицы. Небольшие выбросы, не влияющие на общее распределение данных, были удалены. Также типы данных были исправлены, согласно логике хранящейся информации.\n",
    "\n",
    "**3)** Дополнитеьные параметры (цена квадратного метра, год публикации, категории этажа квартиры и тд) были рассчитаны и добавлены в исходную таблицу для дальнейших исследований.\n",
    "\n",
    "**4)** Распределения параметров квартир: площадь, цена, число комнат, высота потолков, близки к Пуассоновскому. Аномальных пиков после преобразования данных не замечено.\n",
    "\n",
    "**5)** Время продажи квартир имеет достаточно большой разброс: 45-232 дней. Выбросами можно считать время меньше 4 дней или больше 500. Это может говорить о нестабильности рынка недвижимости.\n",
    "\n",
    "**6)** На стоимость квартиры больше всего влияют параметры: общая площадь, колличество комнат, удалённость от центра. Также замечен спад цен на недвижимость с 2016 года (особенно для квартир в центральном районе Санкт-Петербурга).\n",
    "\n",
    "**7)** Проанализирована стоимость квадратного метра в различных районах. Самым дорогим оказался Санкт-Петербург (111613.56), самая дешёвая стоимость квадратного метра в Выборге (58361.63).\n",
    "\n",
    "**8)** Судя по изменению стоимости квартир за квадратный метр, граница центрального района Санкт-петербурга около 8 км.\n",
    "\n",
    "**9)** Факторы, влияющие на стоимость квартир в Санкт-Петербурге, выражены сильнее для города в целом, чем для его центрального района (коэффициенты корреляции меньше для центрального района). Но отличия невелики. Это может быть обусловлено общей повышенной стоимостью квартир в центральном районе."
   ]
  },
  {
   "cell_type": "markdown",
   "id": "ea0d26f9",
   "metadata": {},
   "source": [
    "<div class=\"alert alert-info\"> <b>Комментарий студента:</b> Евгений, исправила критичные ошибки, к датасету вернулись 50% данных) Также приняла во внимание твои комментарии. </div>"
   ]
  }
 ],
 "metadata": {
  "ExecuteTimeLog": [
   {
    "duration": 1080,
    "start_time": "2022-04-22T19:02:47.356Z"
   },
   {
    "duration": 53,
    "start_time": "2022-04-22T19:02:48.438Z"
   },
   {
    "duration": 39,
    "start_time": "2022-04-22T19:02:48.493Z"
   },
   {
    "duration": 8,
    "start_time": "2022-04-22T19:02:48.534Z"
   },
   {
    "duration": 4,
    "start_time": "2022-04-22T19:02:48.544Z"
   },
   {
    "duration": 33,
    "start_time": "2022-04-22T19:02:48.582Z"
   },
   {
    "duration": 8,
    "start_time": "2022-04-22T19:02:48.617Z"
   },
   {
    "duration": 5,
    "start_time": "2022-04-22T19:02:48.626Z"
   },
   {
    "duration": 7,
    "start_time": "2022-04-22T19:02:48.632Z"
   },
   {
    "duration": 35,
    "start_time": "2022-04-22T19:02:48.642Z"
   },
   {
    "duration": 13,
    "start_time": "2022-04-22T19:02:48.682Z"
   },
   {
    "duration": 9,
    "start_time": "2022-04-22T19:02:48.696Z"
   },
   {
    "duration": 8,
    "start_time": "2022-04-22T19:02:48.707Z"
   },
   {
    "duration": 8,
    "start_time": "2022-04-22T19:02:48.717Z"
   },
   {
    "duration": 8,
    "start_time": "2022-04-22T19:02:48.727Z"
   },
   {
    "duration": 219,
    "start_time": "2022-04-22T19:02:48.736Z"
   },
   {
    "duration": 251,
    "start_time": "2022-04-22T19:02:48.957Z"
   },
   {
    "duration": 8,
    "start_time": "2022-04-22T19:02:49.210Z"
   },
   {
    "duration": 17,
    "start_time": "2022-04-22T19:02:49.219Z"
   },
   {
    "duration": 21,
    "start_time": "2022-04-22T19:02:49.238Z"
   },
   {
    "duration": 23,
    "start_time": "2022-04-22T19:02:49.261Z"
   },
   {
    "duration": 13,
    "start_time": "2022-04-22T19:02:49.286Z"
   },
   {
    "duration": 8,
    "start_time": "2022-04-22T19:02:49.300Z"
   },
   {
    "duration": 22,
    "start_time": "2022-04-22T19:02:49.310Z"
   },
   {
    "duration": 10,
    "start_time": "2022-04-22T19:02:49.333Z"
   },
   {
    "duration": 37,
    "start_time": "2022-04-22T19:02:49.345Z"
   },
   {
    "duration": 32,
    "start_time": "2022-04-22T19:02:49.385Z"
   },
   {
    "duration": 8,
    "start_time": "2022-04-22T19:02:49.421Z"
   },
   {
    "duration": 30,
    "start_time": "2022-04-22T19:02:49.430Z"
   },
   {
    "duration": 25,
    "start_time": "2022-04-22T19:02:49.462Z"
   },
   {
    "duration": 23,
    "start_time": "2022-04-22T19:02:49.489Z"
   },
   {
    "duration": 8,
    "start_time": "2022-04-22T19:02:49.514Z"
   },
   {
    "duration": 21,
    "start_time": "2022-04-22T19:02:49.524Z"
   },
   {
    "duration": 44,
    "start_time": "2022-04-22T19:02:49.547Z"
   },
   {
    "duration": 8,
    "start_time": "2022-04-22T19:02:49.593Z"
   },
   {
    "duration": 26,
    "start_time": "2022-04-22T19:02:49.603Z"
   },
   {
    "duration": 351,
    "start_time": "2022-04-22T19:02:49.631Z"
   },
   {
    "duration": 8,
    "start_time": "2022-04-22T19:02:49.984Z"
   },
   {
    "duration": 29,
    "start_time": "2022-04-22T19:02:49.993Z"
   },
   {
    "duration": 10,
    "start_time": "2022-04-22T19:02:50.024Z"
   },
   {
    "duration": 172,
    "start_time": "2022-04-22T19:02:50.036Z"
   },
   {
    "duration": 12,
    "start_time": "2022-04-22T19:02:50.210Z"
   },
   {
    "duration": 172,
    "start_time": "2022-04-22T19:02:50.224Z"
   },
   {
    "duration": 11,
    "start_time": "2022-04-22T19:02:50.397Z"
   },
   {
    "duration": 182,
    "start_time": "2022-04-22T19:02:50.410Z"
   },
   {
    "duration": 13,
    "start_time": "2022-04-22T19:02:50.593Z"
   },
   {
    "duration": 169,
    "start_time": "2022-04-22T19:02:50.607Z"
   },
   {
    "duration": 9,
    "start_time": "2022-04-22T19:02:50.778Z"
   },
   {
    "duration": 169,
    "start_time": "2022-04-22T19:02:50.789Z"
   },
   {
    "duration": 24,
    "start_time": "2022-04-22T19:02:50.960Z"
   },
   {
    "duration": 192,
    "start_time": "2022-04-22T19:02:50.986Z"
   },
   {
    "duration": 30,
    "start_time": "2022-04-22T19:02:51.182Z"
   },
   {
    "duration": 144,
    "start_time": "2022-04-22T19:02:51.214Z"
   },
   {
    "duration": 18,
    "start_time": "2022-04-22T19:02:51.359Z"
   },
   {
    "duration": 15,
    "start_time": "2022-04-22T19:02:51.379Z"
   },
   {
    "duration": 7,
    "start_time": "2022-04-22T19:02:51.396Z"
   },
   {
    "duration": 15,
    "start_time": "2022-04-22T19:02:51.404Z"
   },
   {
    "duration": 201,
    "start_time": "2022-04-22T19:02:51.421Z"
   },
   {
    "duration": 260,
    "start_time": "2022-04-22T19:02:51.624Z"
   },
   {
    "duration": 194,
    "start_time": "2022-04-22T19:02:51.886Z"
   },
   {
    "duration": 270,
    "start_time": "2022-04-22T19:02:52.083Z"
   },
   {
    "duration": 272,
    "start_time": "2022-04-22T19:02:52.356Z"
   },
   {
    "duration": 433,
    "start_time": "2022-04-22T19:02:52.630Z"
   },
   {
    "duration": 258,
    "start_time": "2022-04-22T19:02:53.065Z"
   },
   {
    "duration": 14,
    "start_time": "2022-04-22T19:02:53.325Z"
   },
   {
    "duration": 10,
    "start_time": "2022-04-22T19:02:53.341Z"
   },
   {
    "duration": 254,
    "start_time": "2022-04-22T19:02:53.353Z"
   },
   {
    "duration": 8,
    "start_time": "2022-04-22T19:02:53.609Z"
   },
   {
    "duration": 8,
    "start_time": "2022-04-22T19:02:53.619Z"
   },
   {
    "duration": 184,
    "start_time": "2022-04-22T19:02:53.628Z"
   },
   {
    "duration": 166,
    "start_time": "2022-04-22T19:02:53.814Z"
   },
   {
    "duration": 168,
    "start_time": "2022-04-22T19:02:53.983Z"
   },
   {
    "duration": 179,
    "start_time": "2022-04-22T19:02:54.152Z"
   },
   {
    "duration": 4,
    "start_time": "2022-04-22T19:02:54.333Z"
   },
   {
    "duration": 190,
    "start_time": "2022-04-22T19:02:54.339Z"
   },
   {
    "duration": 186,
    "start_time": "2022-04-22T19:02:54.531Z"
   },
   {
    "duration": 231,
    "start_time": "2022-04-22T19:02:54.719Z"
   },
   {
    "duration": 201,
    "start_time": "2022-04-22T19:02:54.952Z"
   },
   {
    "duration": 3,
    "start_time": "2022-04-22T20:00:38.487Z"
   },
   {
    "duration": 78,
    "start_time": "2022-04-23T08:34:05.775Z"
   },
   {
    "duration": 1160,
    "start_time": "2022-04-23T08:34:10.592Z"
   },
   {
    "duration": 223,
    "start_time": "2022-04-23T08:34:12.989Z"
   },
   {
    "duration": 74,
    "start_time": "2022-04-23T08:35:04.370Z"
   },
   {
    "duration": 6,
    "start_time": "2022-04-23T08:35:42.143Z"
   },
   {
    "duration": 7,
    "start_time": "2022-04-23T08:36:26.439Z"
   },
   {
    "duration": 7,
    "start_time": "2022-04-23T08:36:42.092Z"
   },
   {
    "duration": 63,
    "start_time": "2022-04-23T08:36:58.087Z"
   },
   {
    "duration": 7,
    "start_time": "2022-04-23T08:37:03.778Z"
   },
   {
    "duration": 6,
    "start_time": "2022-04-23T08:37:08.132Z"
   },
   {
    "duration": 6,
    "start_time": "2022-04-23T08:37:19.920Z"
   },
   {
    "duration": 6,
    "start_time": "2022-04-23T08:37:24.330Z"
   },
   {
    "duration": 7,
    "start_time": "2022-04-23T08:37:29.887Z"
   },
   {
    "duration": 19,
    "start_time": "2022-04-23T08:47:35.033Z"
   },
   {
    "duration": 10,
    "start_time": "2022-04-23T08:48:23.812Z"
   },
   {
    "duration": 14,
    "start_time": "2022-04-23T08:48:31.460Z"
   },
   {
    "duration": 68814,
    "start_time": "2022-04-23T08:49:13.981Z"
   },
   {
    "duration": 261,
    "start_time": "2022-04-23T08:54:04.891Z"
   },
   {
    "duration": 249,
    "start_time": "2022-04-23T12:18:15.295Z"
   },
   {
    "duration": 257,
    "start_time": "2022-04-23T12:18:24.637Z"
   },
   {
    "duration": 258,
    "start_time": "2022-04-23T12:18:30.401Z"
   },
   {
    "duration": 0,
    "start_time": "2022-04-23T12:21:37.328Z"
   },
   {
    "duration": 12,
    "start_time": "2022-04-23T12:21:54.066Z"
   },
   {
    "duration": 187,
    "start_time": "2022-04-23T12:22:14.395Z"
   },
   {
    "duration": 516,
    "start_time": "2022-04-23T12:22:27.485Z"
   },
   {
    "duration": 9,
    "start_time": "2022-04-23T12:22:42.808Z"
   },
   {
    "duration": 8,
    "start_time": "2022-04-23T12:23:01.636Z"
   },
   {
    "duration": 8,
    "start_time": "2022-04-23T12:23:17.202Z"
   },
   {
    "duration": 0,
    "start_time": "2022-04-23T12:25:40.375Z"
   },
   {
    "duration": 283,
    "start_time": "2022-04-23T12:26:37.941Z"
   },
   {
    "duration": 237,
    "start_time": "2022-04-23T12:26:53.587Z"
   },
   {
    "duration": 274,
    "start_time": "2022-04-23T12:27:13.034Z"
   },
   {
    "duration": 232,
    "start_time": "2022-04-23T12:27:37.135Z"
   },
   {
    "duration": 228,
    "start_time": "2022-04-23T12:28:41.146Z"
   },
   {
    "duration": 222,
    "start_time": "2022-04-23T12:28:44.708Z"
   },
   {
    "duration": 231,
    "start_time": "2022-04-23T12:28:51.224Z"
   },
   {
    "duration": 244,
    "start_time": "2022-04-23T12:28:55.873Z"
   },
   {
    "duration": 8,
    "start_time": "2022-04-23T12:29:01.749Z"
   },
   {
    "duration": 241,
    "start_time": "2022-04-23T12:29:12.412Z"
   },
   {
    "duration": 231,
    "start_time": "2022-04-23T12:29:31.800Z"
   },
   {
    "duration": 290,
    "start_time": "2022-04-23T12:29:39.415Z"
   },
   {
    "duration": 241,
    "start_time": "2022-04-23T12:31:40.290Z"
   },
   {
    "duration": 229,
    "start_time": "2022-04-23T12:31:47.371Z"
   },
   {
    "duration": 12,
    "start_time": "2022-04-23T12:32:19.899Z"
   },
   {
    "duration": 262,
    "start_time": "2022-04-23T12:32:49.182Z"
   },
   {
    "duration": 270,
    "start_time": "2022-04-23T12:35:07.192Z"
   },
   {
    "duration": 268,
    "start_time": "2022-04-23T12:35:18.094Z"
   },
   {
    "duration": 174,
    "start_time": "2022-04-23T12:35:30.612Z"
   },
   {
    "duration": 276,
    "start_time": "2022-04-23T12:36:13.377Z"
   },
   {
    "duration": 171,
    "start_time": "2022-04-23T12:36:38.932Z"
   },
   {
    "duration": 231,
    "start_time": "2022-04-23T12:37:51.929Z"
   },
   {
    "duration": 241,
    "start_time": "2022-04-23T12:38:08.799Z"
   },
   {
    "duration": 260,
    "start_time": "2022-04-23T12:38:26.729Z"
   },
   {
    "duration": 250,
    "start_time": "2022-04-23T12:38:50.492Z"
   },
   {
    "duration": 239,
    "start_time": "2022-04-23T12:38:59.211Z"
   },
   {
    "duration": 283,
    "start_time": "2022-04-23T12:39:06.336Z"
   },
   {
    "duration": 235,
    "start_time": "2022-04-23T12:41:01.281Z"
   },
   {
    "duration": 232,
    "start_time": "2022-04-23T12:41:11.677Z"
   },
   {
    "duration": 238,
    "start_time": "2022-04-23T12:41:46.812Z"
   },
   {
    "duration": 229,
    "start_time": "2022-04-23T12:42:08.843Z"
   },
   {
    "duration": 236,
    "start_time": "2022-04-23T12:42:21.420Z"
   },
   {
    "duration": 13,
    "start_time": "2022-04-23T12:45:28.881Z"
   },
   {
    "duration": 264,
    "start_time": "2022-04-23T12:45:38.929Z"
   },
   {
    "duration": 262,
    "start_time": "2022-04-23T12:45:47.404Z"
   },
   {
    "duration": 273,
    "start_time": "2022-04-23T12:45:52.561Z"
   },
   {
    "duration": 258,
    "start_time": "2022-04-23T12:45:57.425Z"
   },
   {
    "duration": 272,
    "start_time": "2022-04-23T12:46:53.792Z"
   },
   {
    "duration": 273,
    "start_time": "2022-04-23T12:47:06.087Z"
   },
   {
    "duration": 258,
    "start_time": "2022-04-23T12:47:13.371Z"
   },
   {
    "duration": 283,
    "start_time": "2022-04-23T12:47:17.572Z"
   },
   {
    "duration": 8,
    "start_time": "2022-04-23T12:47:49.346Z"
   },
   {
    "duration": 8,
    "start_time": "2022-04-23T12:48:17.719Z"
   },
   {
    "duration": 265,
    "start_time": "2022-04-23T12:48:37.653Z"
   },
   {
    "duration": 266,
    "start_time": "2022-04-23T12:48:55.721Z"
   },
   {
    "duration": 202,
    "start_time": "2022-04-23T12:49:39.907Z"
   },
   {
    "duration": 265,
    "start_time": "2022-04-23T12:49:46.525Z"
   },
   {
    "duration": 437,
    "start_time": "2022-04-23T12:49:54.495Z"
   },
   {
    "duration": 252,
    "start_time": "2022-04-23T12:50:07.173Z"
   },
   {
    "duration": 292,
    "start_time": "2022-04-23T12:50:22.818Z"
   },
   {
    "duration": 253,
    "start_time": "2022-04-23T12:50:46.457Z"
   },
   {
    "duration": 260,
    "start_time": "2022-04-23T12:52:49.646Z"
   },
   {
    "duration": 375,
    "start_time": "2022-04-23T12:53:06.182Z"
   },
   {
    "duration": 293,
    "start_time": "2022-04-23T12:53:27.988Z"
   },
   {
    "duration": 271,
    "start_time": "2022-04-23T12:54:15.435Z"
   },
   {
    "duration": 980,
    "start_time": "2022-04-25T08:25:00.719Z"
   },
   {
    "duration": 174,
    "start_time": "2022-04-25T08:25:01.701Z"
   },
   {
    "duration": 46,
    "start_time": "2022-04-25T08:25:01.876Z"
   },
   {
    "duration": 42,
    "start_time": "2022-04-25T08:25:01.926Z"
   },
   {
    "duration": 29,
    "start_time": "2022-04-25T08:25:01.971Z"
   },
   {
    "duration": 70,
    "start_time": "2022-04-25T08:25:02.002Z"
   },
   {
    "duration": 42,
    "start_time": "2022-04-25T08:25:02.074Z"
   },
   {
    "duration": 11,
    "start_time": "2022-04-25T08:25:02.117Z"
   },
   {
    "duration": 77,
    "start_time": "2022-04-25T08:25:02.130Z"
   },
   {
    "duration": 61,
    "start_time": "2022-04-25T08:25:02.208Z"
   },
   {
    "duration": 116,
    "start_time": "2022-04-25T08:25:02.271Z"
   },
   {
    "duration": 36,
    "start_time": "2022-04-25T08:25:02.388Z"
   },
   {
    "duration": 40,
    "start_time": "2022-04-25T08:25:02.433Z"
   },
   {
    "duration": 27,
    "start_time": "2022-04-25T08:25:02.477Z"
   },
   {
    "duration": 19,
    "start_time": "2022-04-25T08:25:02.506Z"
   },
   {
    "duration": 35,
    "start_time": "2022-04-25T08:25:02.529Z"
   },
   {
    "duration": 212,
    "start_time": "2022-04-25T08:25:02.566Z"
   },
   {
    "duration": 285,
    "start_time": "2022-04-25T08:25:02.779Z"
   },
   {
    "duration": 9,
    "start_time": "2022-04-25T08:25:03.065Z"
   },
   {
    "duration": 20,
    "start_time": "2022-04-25T08:25:03.075Z"
   },
   {
    "duration": 17,
    "start_time": "2022-04-25T08:25:03.097Z"
   },
   {
    "duration": 15,
    "start_time": "2022-04-25T08:25:03.116Z"
   },
   {
    "duration": 30,
    "start_time": "2022-04-25T08:25:03.135Z"
   },
   {
    "duration": 26,
    "start_time": "2022-04-25T08:25:03.166Z"
   },
   {
    "duration": 16,
    "start_time": "2022-04-25T08:25:03.194Z"
   },
   {
    "duration": 49,
    "start_time": "2022-04-25T08:25:03.212Z"
   },
   {
    "duration": 17,
    "start_time": "2022-04-25T08:25:03.262Z"
   },
   {
    "duration": 26,
    "start_time": "2022-04-25T08:25:03.281Z"
   },
   {
    "duration": 7,
    "start_time": "2022-04-25T08:25:03.309Z"
   },
   {
    "duration": 54,
    "start_time": "2022-04-25T08:25:03.317Z"
   },
   {
    "duration": 26,
    "start_time": "2022-04-25T08:25:03.373Z"
   },
   {
    "duration": 38,
    "start_time": "2022-04-25T08:25:03.401Z"
   },
   {
    "duration": 21,
    "start_time": "2022-04-25T08:25:03.441Z"
   },
   {
    "duration": 22,
    "start_time": "2022-04-25T08:25:03.464Z"
   },
   {
    "duration": 27,
    "start_time": "2022-04-25T08:25:03.488Z"
   },
   {
    "duration": 38,
    "start_time": "2022-04-25T08:25:03.517Z"
   },
   {
    "duration": 25,
    "start_time": "2022-04-25T08:25:03.557Z"
   },
   {
    "duration": 343,
    "start_time": "2022-04-25T08:25:03.583Z"
   },
   {
    "duration": 8,
    "start_time": "2022-04-25T08:25:03.933Z"
   },
   {
    "duration": 45,
    "start_time": "2022-04-25T08:25:03.945Z"
   },
   {
    "duration": 18,
    "start_time": "2022-04-25T08:25:03.994Z"
   },
   {
    "duration": 275,
    "start_time": "2022-04-25T08:25:04.013Z"
   },
   {
    "duration": 14,
    "start_time": "2022-04-25T08:25:04.290Z"
   },
   {
    "duration": 181,
    "start_time": "2022-04-25T08:25:04.306Z"
   },
   {
    "duration": 11,
    "start_time": "2022-04-25T08:25:04.488Z"
   },
   {
    "duration": 190,
    "start_time": "2022-04-25T08:25:04.501Z"
   },
   {
    "duration": 15,
    "start_time": "2022-04-25T08:25:04.693Z"
   },
   {
    "duration": 178,
    "start_time": "2022-04-25T08:25:04.710Z"
   },
   {
    "duration": 7,
    "start_time": "2022-04-25T08:25:04.890Z"
   },
   {
    "duration": 176,
    "start_time": "2022-04-25T08:25:04.898Z"
   },
   {
    "duration": 21,
    "start_time": "2022-04-25T08:25:05.077Z"
   },
   {
    "duration": 219,
    "start_time": "2022-04-25T08:25:05.100Z"
   },
   {
    "duration": 45,
    "start_time": "2022-04-25T08:25:05.321Z"
   },
   {
    "duration": 174,
    "start_time": "2022-04-25T08:25:05.368Z"
   },
   {
    "duration": 77,
    "start_time": "2022-04-25T08:31:31.995Z"
   },
   {
    "duration": 12,
    "start_time": "2022-04-25T08:31:45.974Z"
   },
   {
    "duration": 6,
    "start_time": "2022-04-25T08:32:00.014Z"
   },
   {
    "duration": 4,
    "start_time": "2022-04-25T08:32:04.599Z"
   },
   {
    "duration": 693,
    "start_time": "2022-04-25T08:32:34.861Z"
   },
   {
    "duration": 157,
    "start_time": "2022-04-25T08:32:35.556Z"
   },
   {
    "duration": 57,
    "start_time": "2022-04-25T08:32:35.715Z"
   },
   {
    "duration": 49,
    "start_time": "2022-04-25T08:32:35.774Z"
   },
   {
    "duration": 18,
    "start_time": "2022-04-25T08:32:35.833Z"
   },
   {
    "duration": 14,
    "start_time": "2022-04-25T08:32:35.853Z"
   },
   {
    "duration": 48,
    "start_time": "2022-04-25T08:32:35.869Z"
   },
   {
    "duration": 14,
    "start_time": "2022-04-25T08:32:35.924Z"
   },
   {
    "duration": 19,
    "start_time": "2022-04-25T08:32:35.941Z"
   },
   {
    "duration": 11,
    "start_time": "2022-04-25T08:32:35.961Z"
   },
   {
    "duration": 6,
    "start_time": "2022-04-25T08:32:35.974Z"
   },
   {
    "duration": 7,
    "start_time": "2022-04-25T08:32:35.981Z"
   },
   {
    "duration": 8,
    "start_time": "2022-04-25T08:32:35.990Z"
   },
   {
    "duration": 34,
    "start_time": "2022-04-25T08:32:36.001Z"
   },
   {
    "duration": 25,
    "start_time": "2022-04-25T08:32:36.037Z"
   },
   {
    "duration": 8,
    "start_time": "2022-04-25T08:32:36.064Z"
   },
   {
    "duration": 271,
    "start_time": "2022-04-25T08:32:36.074Z"
   },
   {
    "duration": 397,
    "start_time": "2022-04-25T08:32:36.348Z"
   },
   {
    "duration": 9,
    "start_time": "2022-04-25T08:32:36.749Z"
   },
   {
    "duration": 16,
    "start_time": "2022-04-25T08:32:36.760Z"
   },
   {
    "duration": 14,
    "start_time": "2022-04-25T08:32:36.779Z"
   },
   {
    "duration": 9,
    "start_time": "2022-04-25T08:32:36.795Z"
   },
   {
    "duration": 7,
    "start_time": "2022-04-25T08:32:36.836Z"
   },
   {
    "duration": 15,
    "start_time": "2022-04-25T08:32:36.847Z"
   },
   {
    "duration": 5,
    "start_time": "2022-04-25T08:32:36.864Z"
   },
   {
    "duration": 8,
    "start_time": "2022-04-25T08:32:36.871Z"
   },
   {
    "duration": 11,
    "start_time": "2022-04-25T08:32:36.881Z"
   },
   {
    "duration": 50,
    "start_time": "2022-04-25T08:32:36.894Z"
   },
   {
    "duration": 12,
    "start_time": "2022-04-25T08:32:36.946Z"
   },
   {
    "duration": 34,
    "start_time": "2022-04-25T08:32:36.960Z"
   },
   {
    "duration": 9,
    "start_time": "2022-04-25T08:32:36.996Z"
   },
   {
    "duration": 35,
    "start_time": "2022-04-25T08:32:37.007Z"
   },
   {
    "duration": 16,
    "start_time": "2022-04-25T08:32:37.045Z"
   },
   {
    "duration": 9,
    "start_time": "2022-04-25T08:32:37.062Z"
   },
   {
    "duration": 17,
    "start_time": "2022-04-25T08:32:37.072Z"
   },
   {
    "duration": 4,
    "start_time": "2022-04-25T08:32:37.090Z"
   },
   {
    "duration": 15,
    "start_time": "2022-04-25T08:32:37.096Z"
   },
   {
    "duration": 330,
    "start_time": "2022-04-25T08:32:37.124Z"
   },
   {
    "duration": 9,
    "start_time": "2022-04-25T08:32:37.458Z"
   },
   {
    "duration": 58,
    "start_time": "2022-04-25T08:32:37.469Z"
   },
   {
    "duration": 18,
    "start_time": "2022-04-25T08:32:37.531Z"
   },
   {
    "duration": 223,
    "start_time": "2022-04-25T08:32:37.551Z"
   },
   {
    "duration": 16,
    "start_time": "2022-04-25T08:32:37.776Z"
   },
   {
    "duration": 280,
    "start_time": "2022-04-25T08:32:37.794Z"
   },
   {
    "duration": 14,
    "start_time": "2022-04-25T08:32:38.076Z"
   },
   {
    "duration": 266,
    "start_time": "2022-04-25T08:32:38.092Z"
   },
   {
    "duration": 13,
    "start_time": "2022-04-25T08:32:38.360Z"
   },
   {
    "duration": 189,
    "start_time": "2022-04-25T08:32:38.375Z"
   },
   {
    "duration": 8,
    "start_time": "2022-04-25T08:32:38.566Z"
   },
   {
    "duration": 180,
    "start_time": "2022-04-25T08:32:38.576Z"
   },
   {
    "duration": 19,
    "start_time": "2022-04-25T08:32:38.757Z"
   },
   {
    "duration": 196,
    "start_time": "2022-04-25T08:32:38.777Z"
   },
   {
    "duration": 25,
    "start_time": "2022-04-25T08:32:38.975Z"
   },
   {
    "duration": 165,
    "start_time": "2022-04-25T08:32:39.002Z"
   },
   {
    "duration": 10,
    "start_time": "2022-04-25T08:33:02.942Z"
   },
   {
    "duration": 10,
    "start_time": "2022-04-25T08:33:36.414Z"
   },
   {
    "duration": 11,
    "start_time": "2022-04-25T08:34:34.246Z"
   },
   {
    "duration": 40,
    "start_time": "2022-04-25T08:35:28.051Z"
   },
   {
    "duration": 35,
    "start_time": "2022-04-25T08:35:43.178Z"
   },
   {
    "duration": 5,
    "start_time": "2022-04-25T08:36:57.359Z"
   },
   {
    "duration": 3,
    "start_time": "2022-04-25T08:37:11.962Z"
   },
   {
    "duration": 166,
    "start_time": "2022-04-25T08:37:11.967Z"
   },
   {
    "duration": 46,
    "start_time": "2022-04-25T08:37:12.140Z"
   },
   {
    "duration": 40,
    "start_time": "2022-04-25T08:37:12.187Z"
   },
   {
    "duration": 18,
    "start_time": "2022-04-25T08:37:12.229Z"
   },
   {
    "duration": 14,
    "start_time": "2022-04-25T08:37:12.250Z"
   },
   {
    "duration": 32,
    "start_time": "2022-04-25T08:37:12.266Z"
   },
   {
    "duration": 8,
    "start_time": "2022-04-25T08:37:12.300Z"
   },
   {
    "duration": 21,
    "start_time": "2022-04-25T08:37:12.310Z"
   },
   {
    "duration": 30,
    "start_time": "2022-04-25T08:37:12.334Z"
   },
   {
    "duration": 8,
    "start_time": "2022-04-25T08:37:12.366Z"
   },
   {
    "duration": 7,
    "start_time": "2022-04-25T08:37:12.376Z"
   },
   {
    "duration": 7,
    "start_time": "2022-04-25T08:37:12.385Z"
   },
   {
    "duration": 4,
    "start_time": "2022-04-25T08:37:12.395Z"
   },
   {
    "duration": 5,
    "start_time": "2022-04-25T08:37:12.401Z"
   },
   {
    "duration": 20,
    "start_time": "2022-04-25T08:37:12.407Z"
   },
   {
    "duration": 169,
    "start_time": "2022-04-25T08:37:12.430Z"
   },
   {
    "duration": 255,
    "start_time": "2022-04-25T08:37:12.601Z"
   },
   {
    "duration": 10,
    "start_time": "2022-04-25T08:37:12.858Z"
   },
   {
    "duration": 14,
    "start_time": "2022-04-25T08:37:12.870Z"
   },
   {
    "duration": 13,
    "start_time": "2022-04-25T08:37:12.886Z"
   },
   {
    "duration": 33,
    "start_time": "2022-04-25T08:37:12.901Z"
   },
   {
    "duration": 22,
    "start_time": "2022-04-25T08:37:12.937Z"
   },
   {
    "duration": 9,
    "start_time": "2022-04-25T08:37:12.961Z"
   },
   {
    "duration": 6,
    "start_time": "2022-04-25T08:37:12.972Z"
   },
   {
    "duration": 5,
    "start_time": "2022-04-25T08:37:12.980Z"
   },
   {
    "duration": 13,
    "start_time": "2022-04-25T08:37:12.987Z"
   },
   {
    "duration": 929,
    "start_time": "2022-04-25T08:37:31.216Z"
   },
   {
    "duration": 175,
    "start_time": "2022-04-25T08:37:32.147Z"
   },
   {
    "duration": 52,
    "start_time": "2022-04-25T08:37:32.324Z"
   },
   {
    "duration": 57,
    "start_time": "2022-04-25T08:37:32.379Z"
   },
   {
    "duration": 13,
    "start_time": "2022-04-25T08:37:32.439Z"
   },
   {
    "duration": 18,
    "start_time": "2022-04-25T08:37:32.457Z"
   },
   {
    "duration": 31,
    "start_time": "2022-04-25T08:37:32.476Z"
   },
   {
    "duration": 23,
    "start_time": "2022-04-25T08:37:32.509Z"
   },
   {
    "duration": 15,
    "start_time": "2022-04-25T08:37:32.533Z"
   },
   {
    "duration": 17,
    "start_time": "2022-04-25T08:37:32.551Z"
   },
   {
    "duration": 5,
    "start_time": "2022-04-25T08:37:32.569Z"
   },
   {
    "duration": 6,
    "start_time": "2022-04-25T08:37:32.576Z"
   },
   {
    "duration": 7,
    "start_time": "2022-04-25T08:37:32.583Z"
   },
   {
    "duration": 8,
    "start_time": "2022-04-25T08:37:32.592Z"
   },
   {
    "duration": 30,
    "start_time": "2022-04-25T08:37:32.602Z"
   },
   {
    "duration": 13,
    "start_time": "2022-04-25T08:37:32.639Z"
   },
   {
    "duration": 185,
    "start_time": "2022-04-25T08:37:32.656Z"
   },
   {
    "duration": 265,
    "start_time": "2022-04-25T08:37:32.843Z"
   },
   {
    "duration": 15,
    "start_time": "2022-04-25T08:37:33.110Z"
   },
   {
    "duration": 12,
    "start_time": "2022-04-25T08:37:33.127Z"
   },
   {
    "duration": 30,
    "start_time": "2022-04-25T08:37:33.143Z"
   },
   {
    "duration": 52,
    "start_time": "2022-04-25T08:37:33.175Z"
   },
   {
    "duration": 23,
    "start_time": "2022-04-25T08:37:33.236Z"
   },
   {
    "duration": 49,
    "start_time": "2022-04-25T08:37:33.261Z"
   },
   {
    "duration": 12,
    "start_time": "2022-04-25T08:37:33.312Z"
   },
   {
    "duration": 37,
    "start_time": "2022-04-25T08:37:33.325Z"
   },
   {
    "duration": 13,
    "start_time": "2022-04-25T08:37:33.364Z"
   },
   {
    "duration": 22,
    "start_time": "2022-04-25T08:37:33.380Z"
   },
   {
    "duration": 7,
    "start_time": "2022-04-25T08:37:33.404Z"
   },
   {
    "duration": 42,
    "start_time": "2022-04-25T08:37:33.413Z"
   },
   {
    "duration": 8,
    "start_time": "2022-04-25T08:37:33.457Z"
   },
   {
    "duration": 4,
    "start_time": "2022-04-25T08:37:42.050Z"
   },
   {
    "duration": 11,
    "start_time": "2022-04-25T08:37:46.594Z"
   },
   {
    "duration": 9,
    "start_time": "2022-04-25T08:37:50.498Z"
   },
   {
    "duration": 5,
    "start_time": "2022-04-25T08:37:52.730Z"
   },
   {
    "duration": 23,
    "start_time": "2022-04-25T08:37:56.190Z"
   },
   {
    "duration": 8,
    "start_time": "2022-04-25T08:38:24.927Z"
   },
   {
    "duration": 12,
    "start_time": "2022-04-25T08:38:26.273Z"
   },
   {
    "duration": 332,
    "start_time": "2022-04-25T08:38:28.781Z"
   },
   {
    "duration": 9,
    "start_time": "2022-04-25T08:38:35.223Z"
   },
   {
    "duration": 7,
    "start_time": "2022-04-25T08:38:38.457Z"
   },
   {
    "duration": 24,
    "start_time": "2022-04-25T08:38:40.159Z"
   },
   {
    "duration": 4,
    "start_time": "2022-04-25T08:38:48.809Z"
   },
   {
    "duration": 12,
    "start_time": "2022-04-25T08:39:00.404Z"
   },
   {
    "duration": 207,
    "start_time": "2022-04-25T08:39:03.399Z"
   },
   {
    "duration": 11,
    "start_time": "2022-04-25T08:39:11.974Z"
   },
   {
    "duration": 153,
    "start_time": "2022-04-25T08:39:13.901Z"
   },
   {
    "duration": 11,
    "start_time": "2022-04-25T08:39:18.691Z"
   },
   {
    "duration": 166,
    "start_time": "2022-04-25T08:39:21.094Z"
   },
   {
    "duration": 12,
    "start_time": "2022-04-25T08:39:33.152Z"
   },
   {
    "duration": 150,
    "start_time": "2022-04-25T08:39:35.653Z"
   },
   {
    "duration": 8,
    "start_time": "2022-04-25T08:40:31.874Z"
   },
   {
    "duration": 148,
    "start_time": "2022-04-25T08:40:33.566Z"
   },
   {
    "duration": 13,
    "start_time": "2022-04-25T08:40:39.439Z"
   },
   {
    "duration": 18,
    "start_time": "2022-04-25T08:40:45.450Z"
   },
   {
    "duration": 172,
    "start_time": "2022-04-25T08:40:47.595Z"
   },
   {
    "duration": 25,
    "start_time": "2022-04-25T08:40:52.686Z"
   },
   {
    "duration": 143,
    "start_time": "2022-04-25T08:40:56.112Z"
   },
   {
    "duration": 5,
    "start_time": "2022-04-25T08:41:02.398Z"
   },
   {
    "duration": 59,
    "start_time": "2022-04-25T08:41:07.987Z"
   },
   {
    "duration": 51,
    "start_time": "2022-04-25T08:41:16.398Z"
   },
   {
    "duration": 87,
    "start_time": "2022-04-25T08:44:33.315Z"
   },
   {
    "duration": 11,
    "start_time": "2022-04-25T08:44:51.337Z"
   },
   {
    "duration": 6,
    "start_time": "2022-04-25T08:44:54.089Z"
   },
   {
    "duration": 4,
    "start_time": "2022-04-25T08:44:55.168Z"
   },
   {
    "duration": 5,
    "start_time": "2022-04-25T08:44:57.351Z"
   },
   {
    "duration": 10,
    "start_time": "2022-04-25T08:45:33.514Z"
   },
   {
    "duration": 4,
    "start_time": "2022-04-25T08:45:35.467Z"
   },
   {
    "duration": 3,
    "start_time": "2022-04-25T08:45:36.173Z"
   },
   {
    "duration": 4,
    "start_time": "2022-04-25T08:45:37.670Z"
   },
   {
    "duration": 8,
    "start_time": "2022-04-25T08:46:03.082Z"
   },
   {
    "duration": 5,
    "start_time": "2022-04-25T08:46:04.656Z"
   },
   {
    "duration": 3,
    "start_time": "2022-04-25T08:46:05.189Z"
   },
   {
    "duration": 4,
    "start_time": "2022-04-25T08:46:07.244Z"
   },
   {
    "duration": 14,
    "start_time": "2022-04-25T08:46:55.937Z"
   },
   {
    "duration": 5,
    "start_time": "2022-04-25T08:46:56.923Z"
   },
   {
    "duration": 4,
    "start_time": "2022-04-25T08:46:57.337Z"
   },
   {
    "duration": 10,
    "start_time": "2022-04-25T08:47:00.032Z"
   },
   {
    "duration": 161,
    "start_time": "2022-04-25T08:49:32.488Z"
   },
   {
    "duration": 153,
    "start_time": "2022-04-25T08:49:44.701Z"
   },
   {
    "duration": 5,
    "start_time": "2022-04-25T08:49:56.551Z"
   },
   {
    "duration": 5,
    "start_time": "2022-04-25T08:49:59.026Z"
   },
   {
    "duration": 4,
    "start_time": "2022-04-25T08:49:59.960Z"
   },
   {
    "duration": 4,
    "start_time": "2022-04-25T08:50:03.180Z"
   },
   {
    "duration": 6,
    "start_time": "2022-04-25T08:50:23.117Z"
   },
   {
    "duration": 159,
    "start_time": "2022-04-25T08:51:12.217Z"
   },
   {
    "duration": 5,
    "start_time": "2022-04-25T08:51:46.353Z"
   },
   {
    "duration": 3,
    "start_time": "2022-04-25T08:51:52.214Z"
   },
   {
    "duration": 3,
    "start_time": "2022-04-25T08:51:52.887Z"
   },
   {
    "duration": 5,
    "start_time": "2022-04-25T08:51:55.725Z"
   },
   {
    "duration": 151,
    "start_time": "2022-04-25T08:52:28.452Z"
   },
   {
    "duration": 39,
    "start_time": "2022-04-25T08:52:35.885Z"
   },
   {
    "duration": 37,
    "start_time": "2022-04-25T08:52:50.753Z"
   },
   {
    "duration": 17,
    "start_time": "2022-04-25T08:53:04.448Z"
   },
   {
    "duration": 10,
    "start_time": "2022-04-25T08:53:25.431Z"
   },
   {
    "duration": 34,
    "start_time": "2022-04-25T08:53:39.853Z"
   },
   {
    "duration": 35,
    "start_time": "2022-04-25T08:56:22.771Z"
   },
   {
    "duration": 29,
    "start_time": "2022-04-25T08:56:34.046Z"
   },
   {
    "duration": 9,
    "start_time": "2022-04-25T08:59:18.559Z"
   },
   {
    "duration": 59,
    "start_time": "2022-04-25T08:59:19.355Z"
   },
   {
    "duration": 5,
    "start_time": "2022-04-25T08:59:29.150Z"
   },
   {
    "duration": 4,
    "start_time": "2022-04-25T08:59:29.699Z"
   },
   {
    "duration": 4,
    "start_time": "2022-04-25T08:59:30.681Z"
   },
   {
    "duration": 9,
    "start_time": "2022-04-25T08:59:39.715Z"
   },
   {
    "duration": 4,
    "start_time": "2022-04-25T08:59:40.742Z"
   },
   {
    "duration": 4,
    "start_time": "2022-04-25T08:59:41.201Z"
   },
   {
    "duration": 4,
    "start_time": "2022-04-25T08:59:42.003Z"
   },
   {
    "duration": 9,
    "start_time": "2022-04-25T08:59:52.323Z"
   },
   {
    "duration": 5,
    "start_time": "2022-04-25T08:59:53.113Z"
   },
   {
    "duration": 3,
    "start_time": "2022-04-25T08:59:53.542Z"
   },
   {
    "duration": 4,
    "start_time": "2022-04-25T08:59:54.294Z"
   },
   {
    "duration": 13,
    "start_time": "2022-04-25T09:00:05.029Z"
   },
   {
    "duration": 4,
    "start_time": "2022-04-25T09:00:05.877Z"
   },
   {
    "duration": 3,
    "start_time": "2022-04-25T09:00:06.253Z"
   },
   {
    "duration": 4,
    "start_time": "2022-04-25T09:00:06.989Z"
   },
   {
    "duration": 9,
    "start_time": "2022-04-25T09:00:17.669Z"
   },
   {
    "duration": 4,
    "start_time": "2022-04-25T09:00:18.667Z"
   },
   {
    "duration": 3,
    "start_time": "2022-04-25T09:00:18.972Z"
   },
   {
    "duration": 4,
    "start_time": "2022-04-25T09:00:19.572Z"
   },
   {
    "duration": 8,
    "start_time": "2022-04-25T09:01:02.667Z"
   },
   {
    "duration": 7,
    "start_time": "2022-04-25T09:01:04.930Z"
   },
   {
    "duration": 3,
    "start_time": "2022-04-25T09:01:05.387Z"
   },
   {
    "duration": 4,
    "start_time": "2022-04-25T09:01:06.373Z"
   },
   {
    "duration": 11,
    "start_time": "2022-04-25T09:01:16.964Z"
   },
   {
    "duration": 8,
    "start_time": "2022-04-25T09:01:23.834Z"
   },
   {
    "duration": 228,
    "start_time": "2022-04-25T09:01:26.189Z"
   },
   {
    "duration": 312,
    "start_time": "2022-04-25T09:04:02.171Z"
   },
   {
    "duration": 9,
    "start_time": "2022-04-25T09:04:41.876Z"
   },
   {
    "duration": 313,
    "start_time": "2022-04-25T09:04:49.436Z"
   },
   {
    "duration": 9,
    "start_time": "2022-04-25T09:13:01.144Z"
   },
   {
    "duration": 4,
    "start_time": "2022-04-25T09:13:03.211Z"
   },
   {
    "duration": 4,
    "start_time": "2022-04-25T09:13:03.902Z"
   },
   {
    "duration": 5,
    "start_time": "2022-04-25T09:13:05.206Z"
   },
   {
    "duration": 11,
    "start_time": "2022-04-25T09:13:34.746Z"
   },
   {
    "duration": 4,
    "start_time": "2022-04-25T09:13:36.358Z"
   },
   {
    "duration": 4,
    "start_time": "2022-04-25T09:13:36.691Z"
   },
   {
    "duration": 7,
    "start_time": "2022-04-25T09:13:37.542Z"
   },
   {
    "duration": 78,
    "start_time": "2022-04-25T09:15:49.959Z"
   },
   {
    "duration": 12,
    "start_time": "2022-04-25T09:15:58.773Z"
   },
   {
    "duration": 5,
    "start_time": "2022-04-25T09:16:02.570Z"
   },
   {
    "duration": 5,
    "start_time": "2022-04-25T09:16:03.206Z"
   },
   {
    "duration": 5,
    "start_time": "2022-04-25T09:16:05.821Z"
   },
   {
    "duration": 193,
    "start_time": "2022-04-25T09:16:18.551Z"
   },
   {
    "duration": 409,
    "start_time": "2022-04-25T09:16:24.086Z"
   },
   {
    "duration": 5,
    "start_time": "2022-04-25T09:17:13.665Z"
   },
   {
    "duration": 63,
    "start_time": "2022-04-25T09:17:15.726Z"
   },
   {
    "duration": 49,
    "start_time": "2022-04-25T09:17:24.127Z"
   },
   {
    "duration": 19,
    "start_time": "2022-04-25T09:18:14.200Z"
   },
   {
    "duration": 15,
    "start_time": "2022-04-25T09:18:26.356Z"
   },
   {
    "duration": 5,
    "start_time": "2022-04-25T09:18:38.353Z"
   },
   {
    "duration": 7,
    "start_time": "2022-04-25T09:18:45.808Z"
   },
   {
    "duration": 14,
    "start_time": "2022-04-25T09:19:06.183Z"
   },
   {
    "duration": 36,
    "start_time": "2022-04-25T09:21:57.144Z"
   },
   {
    "duration": 9,
    "start_time": "2022-04-25T09:22:59.561Z"
   },
   {
    "duration": 7,
    "start_time": "2022-04-25T09:24:07.057Z"
   },
   {
    "duration": 34,
    "start_time": "2022-04-25T09:24:09.557Z"
   },
   {
    "duration": 48,
    "start_time": "2022-04-25T09:24:50.317Z"
   },
   {
    "duration": 22,
    "start_time": "2022-04-25T09:25:04.347Z"
   },
   {
    "duration": 70,
    "start_time": "2022-04-25T09:25:07.979Z"
   },
   {
    "duration": 13,
    "start_time": "2022-04-25T09:26:51.767Z"
   },
   {
    "duration": 38,
    "start_time": "2022-04-25T09:26:52.560Z"
   },
   {
    "duration": 14,
    "start_time": "2022-04-25T09:27:08.561Z"
   },
   {
    "duration": 38,
    "start_time": "2022-04-25T09:27:09.367Z"
   },
   {
    "duration": 40,
    "start_time": "2022-04-25T09:27:40.322Z"
   },
   {
    "duration": 58,
    "start_time": "2022-04-25T09:27:55.003Z"
   },
   {
    "duration": 19,
    "start_time": "2022-04-25T09:28:29.439Z"
   },
   {
    "duration": 31,
    "start_time": "2022-04-25T09:28:31.452Z"
   },
   {
    "duration": 40,
    "start_time": "2022-04-25T09:28:36.294Z"
   },
   {
    "duration": 18,
    "start_time": "2022-04-25T09:28:55.238Z"
   },
   {
    "duration": 19,
    "start_time": "2022-04-25T09:29:07.374Z"
   },
   {
    "duration": 32,
    "start_time": "2022-04-25T09:29:08.070Z"
   },
   {
    "duration": 33,
    "start_time": "2022-04-25T09:29:39.244Z"
   },
   {
    "duration": 19,
    "start_time": "2022-04-25T09:29:44.684Z"
   },
   {
    "duration": 17,
    "start_time": "2022-04-25T09:29:45.456Z"
   },
   {
    "duration": 28,
    "start_time": "2022-04-25T09:30:22.358Z"
   },
   {
    "duration": 62,
    "start_time": "2022-04-25T09:30:23.048Z"
   },
   {
    "duration": 26,
    "start_time": "2022-04-25T09:30:44.275Z"
   },
   {
    "duration": 17,
    "start_time": "2022-04-25T09:30:45.044Z"
   },
   {
    "duration": 37,
    "start_time": "2022-04-25T09:32:23.132Z"
   },
   {
    "duration": 29,
    "start_time": "2022-04-25T09:32:24.164Z"
   },
   {
    "duration": 40,
    "start_time": "2022-04-25T09:32:33.623Z"
   },
   {
    "duration": 30,
    "start_time": "2022-04-25T09:32:52.917Z"
   },
   {
    "duration": 44,
    "start_time": "2022-04-25T09:32:54.076Z"
   },
   {
    "duration": 34,
    "start_time": "2022-04-25T09:33:03.087Z"
   },
   {
    "duration": 19,
    "start_time": "2022-04-25T09:33:42.995Z"
   },
   {
    "duration": 23,
    "start_time": "2022-04-25T09:33:43.716Z"
   },
   {
    "duration": 24,
    "start_time": "2022-04-25T09:34:28.016Z"
   },
   {
    "duration": 7,
    "start_time": "2022-04-25T09:34:30.766Z"
   },
   {
    "duration": 5,
    "start_time": "2022-04-25T09:34:31.575Z"
   },
   {
    "duration": 4,
    "start_time": "2022-04-25T09:34:32.737Z"
   },
   {
    "duration": 33,
    "start_time": "2022-04-25T09:35:58.152Z"
   },
   {
    "duration": 7,
    "start_time": "2022-04-25T09:35:59.697Z"
   },
   {
    "duration": 5,
    "start_time": "2022-04-25T09:36:00.311Z"
   },
   {
    "duration": 5,
    "start_time": "2022-04-25T09:36:01.182Z"
   },
   {
    "duration": 5,
    "start_time": "2022-04-25T09:36:03.776Z"
   },
   {
    "duration": 197,
    "start_time": "2022-04-25T09:36:05.503Z"
   },
   {
    "duration": 337,
    "start_time": "2022-04-25T09:36:19.008Z"
   },
   {
    "duration": 188,
    "start_time": "2022-04-25T09:36:32.810Z"
   },
   {
    "duration": 166,
    "start_time": "2022-04-25T09:36:49.529Z"
   },
   {
    "duration": 345,
    "start_time": "2022-04-25T09:36:57.113Z"
   },
   {
    "duration": 791,
    "start_time": "2022-04-25T09:37:01.137Z"
   },
   {
    "duration": 534,
    "start_time": "2022-04-25T09:37:07.126Z"
   },
   {
    "duration": 13,
    "start_time": "2022-04-25T09:37:45.099Z"
   },
   {
    "duration": 19,
    "start_time": "2022-04-25T09:38:03.437Z"
   },
   {
    "duration": 281,
    "start_time": "2022-04-25T09:38:05.115Z"
   },
   {
    "duration": 10,
    "start_time": "2022-04-25T09:39:03.754Z"
   },
   {
    "duration": 4,
    "start_time": "2022-04-25T09:39:06.797Z"
   },
   {
    "duration": 163,
    "start_time": "2022-04-25T09:39:09.491Z"
   },
   {
    "duration": 352,
    "start_time": "2022-04-25T09:40:04.127Z"
   },
   {
    "duration": 145,
    "start_time": "2022-04-25T09:40:29.364Z"
   },
   {
    "duration": 157,
    "start_time": "2022-04-25T09:41:55.197Z"
   },
   {
    "duration": 264,
    "start_time": "2022-04-25T09:42:35.661Z"
   },
   {
    "duration": 147,
    "start_time": "2022-04-25T09:42:48.544Z"
   },
   {
    "duration": 46,
    "start_time": "2022-04-25T09:44:42.986Z"
   },
   {
    "duration": 28,
    "start_time": "2022-04-25T09:44:43.889Z"
   },
   {
    "duration": 17,
    "start_time": "2022-04-25T09:44:51.689Z"
   },
   {
    "duration": 4,
    "start_time": "2022-04-25T09:44:53.639Z"
   },
   {
    "duration": 3,
    "start_time": "2022-04-25T09:44:54.221Z"
   },
   {
    "duration": 4,
    "start_time": "2022-04-25T09:44:56.441Z"
   },
   {
    "duration": 6,
    "start_time": "2022-04-25T09:45:03.168Z"
   },
   {
    "duration": 207,
    "start_time": "2022-04-25T09:45:05.059Z"
   },
   {
    "duration": 357,
    "start_time": "2022-04-25T09:45:10.152Z"
   },
   {
    "duration": 186,
    "start_time": "2022-04-25T09:45:14.664Z"
   },
   {
    "duration": 167,
    "start_time": "2022-04-25T09:45:21.934Z"
   },
   {
    "duration": 354,
    "start_time": "2022-04-25T09:45:25.049Z"
   },
   {
    "duration": 757,
    "start_time": "2022-04-25T09:45:27.519Z"
   },
   {
    "duration": 432,
    "start_time": "2022-04-25T09:45:31.645Z"
   },
   {
    "duration": 13,
    "start_time": "2022-04-25T09:45:37.781Z"
   },
   {
    "duration": 11,
    "start_time": "2022-04-25T09:45:43.685Z"
   },
   {
    "duration": 271,
    "start_time": "2022-04-25T09:45:47.731Z"
   },
   {
    "duration": 9,
    "start_time": "2022-04-25T09:45:57.891Z"
   },
   {
    "duration": 5,
    "start_time": "2022-04-25T09:45:59.408Z"
   },
   {
    "duration": 166,
    "start_time": "2022-04-25T09:46:01.384Z"
   },
   {
    "duration": 186,
    "start_time": "2022-04-25T09:46:08.437Z"
   },
   {
    "duration": 241,
    "start_time": "2022-04-25T09:46:17.361Z"
   },
   {
    "duration": 247,
    "start_time": "2022-04-25T09:46:23.570Z"
   },
   {
    "duration": 5,
    "start_time": "2022-04-25T09:47:10.099Z"
   },
   {
    "duration": 207,
    "start_time": "2022-04-25T09:47:22.815Z"
   },
   {
    "duration": 165,
    "start_time": "2022-04-25T09:47:49.134Z"
   },
   {
    "duration": 132,
    "start_time": "2022-04-25T09:49:11.883Z"
   },
   {
    "duration": 134,
    "start_time": "2022-04-25T09:49:14.641Z"
   },
   {
    "duration": 223,
    "start_time": "2022-04-25T09:49:23.418Z"
   },
   {
    "duration": 201,
    "start_time": "2022-04-25T09:49:59.759Z"
   },
   {
    "duration": 139,
    "start_time": "2022-04-25T09:54:54.742Z"
   },
   {
    "duration": 149,
    "start_time": "2022-04-25T09:55:01.100Z"
   },
   {
    "duration": 815,
    "start_time": "2022-04-25T09:56:06.537Z"
   },
   {
    "duration": 158,
    "start_time": "2022-04-25T09:56:07.354Z"
   },
   {
    "duration": 49,
    "start_time": "2022-04-25T09:56:07.514Z"
   },
   {
    "duration": 39,
    "start_time": "2022-04-25T09:56:07.564Z"
   },
   {
    "duration": 23,
    "start_time": "2022-04-25T09:56:07.605Z"
   },
   {
    "duration": 5,
    "start_time": "2022-04-25T09:56:07.632Z"
   },
   {
    "duration": 39,
    "start_time": "2022-04-25T09:56:07.639Z"
   },
   {
    "duration": 8,
    "start_time": "2022-04-25T09:56:07.680Z"
   },
   {
    "duration": 41,
    "start_time": "2022-04-25T09:56:07.690Z"
   },
   {
    "duration": 10,
    "start_time": "2022-04-25T09:56:07.733Z"
   },
   {
    "duration": 7,
    "start_time": "2022-04-25T09:56:07.744Z"
   },
   {
    "duration": 6,
    "start_time": "2022-04-25T09:56:07.753Z"
   },
   {
    "duration": 7,
    "start_time": "2022-04-25T09:56:07.761Z"
   },
   {
    "duration": 6,
    "start_time": "2022-04-25T09:56:07.771Z"
   },
   {
    "duration": 11,
    "start_time": "2022-04-25T09:56:07.778Z"
   },
   {
    "duration": 39,
    "start_time": "2022-04-25T09:56:07.791Z"
   },
   {
    "duration": 235,
    "start_time": "2022-04-25T09:56:07.833Z"
   },
   {
    "duration": 250,
    "start_time": "2022-04-25T09:56:08.069Z"
   },
   {
    "duration": 11,
    "start_time": "2022-04-25T09:56:08.323Z"
   },
   {
    "duration": 17,
    "start_time": "2022-04-25T09:56:08.336Z"
   },
   {
    "duration": 12,
    "start_time": "2022-04-25T09:56:08.355Z"
   },
   {
    "duration": 9,
    "start_time": "2022-04-25T09:56:08.369Z"
   },
   {
    "duration": 8,
    "start_time": "2022-04-25T09:56:08.380Z"
   },
   {
    "duration": 36,
    "start_time": "2022-04-25T09:56:08.390Z"
   },
   {
    "duration": 5,
    "start_time": "2022-04-25T09:56:08.428Z"
   },
   {
    "duration": 16,
    "start_time": "2022-04-25T09:56:08.435Z"
   },
   {
    "duration": 11,
    "start_time": "2022-04-25T09:56:08.453Z"
   },
   {
    "duration": 24,
    "start_time": "2022-04-25T09:56:08.465Z"
   },
   {
    "duration": 7,
    "start_time": "2022-04-25T09:56:08.491Z"
   },
   {
    "duration": 59,
    "start_time": "2022-04-25T09:56:08.499Z"
   },
   {
    "duration": 17,
    "start_time": "2022-04-25T09:56:08.560Z"
   },
   {
    "duration": 12,
    "start_time": "2022-04-25T09:56:08.578Z"
   },
   {
    "duration": 18,
    "start_time": "2022-04-25T09:56:08.592Z"
   },
   {
    "duration": 13,
    "start_time": "2022-04-25T09:56:08.612Z"
   },
   {
    "duration": 33,
    "start_time": "2022-04-25T09:56:08.627Z"
   },
   {
    "duration": 8,
    "start_time": "2022-04-25T09:56:08.662Z"
   },
   {
    "duration": 19,
    "start_time": "2022-04-25T09:56:08.672Z"
   },
   {
    "duration": 298,
    "start_time": "2022-04-25T09:56:08.693Z"
   },
   {
    "duration": 6,
    "start_time": "2022-04-25T09:56:08.992Z"
   },
   {
    "duration": 42,
    "start_time": "2022-04-25T09:56:09.000Z"
   },
   {
    "duration": 12,
    "start_time": "2022-04-25T09:56:09.050Z"
   },
   {
    "duration": 327,
    "start_time": "2022-04-25T09:56:09.064Z"
   },
   {
    "duration": 16,
    "start_time": "2022-04-25T09:56:09.394Z"
   },
   {
    "duration": 269,
    "start_time": "2022-04-25T09:56:09.413Z"
   },
   {
    "duration": 11,
    "start_time": "2022-04-25T09:56:09.684Z"
   },
   {
    "duration": 257,
    "start_time": "2022-04-25T09:56:09.696Z"
   },
   {
    "duration": 12,
    "start_time": "2022-04-25T09:56:09.955Z"
   },
   {
    "duration": 226,
    "start_time": "2022-04-25T09:56:09.969Z"
   },
   {
    "duration": 8,
    "start_time": "2022-04-25T09:56:10.197Z"
   },
   {
    "duration": 165,
    "start_time": "2022-04-25T09:56:10.206Z"
   },
   {
    "duration": 18,
    "start_time": "2022-04-25T09:56:10.373Z"
   },
   {
    "duration": 190,
    "start_time": "2022-04-25T09:56:10.393Z"
   },
   {
    "duration": 24,
    "start_time": "2022-04-25T09:56:10.585Z"
   },
   {
    "duration": 212,
    "start_time": "2022-04-25T09:56:10.611Z"
   },
   {
    "duration": 152,
    "start_time": "2022-04-25T09:56:10.826Z"
   },
   {
    "duration": 7,
    "start_time": "2022-04-25T09:56:10.981Z"
   },
   {
    "duration": 4,
    "start_time": "2022-04-25T09:56:10.991Z"
   },
   {
    "duration": 5,
    "start_time": "2022-04-25T09:56:10.997Z"
   },
   {
    "duration": 26,
    "start_time": "2022-04-25T09:56:11.004Z"
   },
   {
    "duration": 227,
    "start_time": "2022-04-25T09:56:11.035Z"
   },
   {
    "duration": 352,
    "start_time": "2022-04-25T09:56:11.264Z"
   },
   {
    "duration": 202,
    "start_time": "2022-04-25T09:56:11.623Z"
   },
   {
    "duration": 269,
    "start_time": "2022-04-25T09:56:11.828Z"
   },
   {
    "duration": 679,
    "start_time": "2022-04-25T09:56:12.100Z"
   },
   {
    "duration": 752,
    "start_time": "2022-04-25T09:56:12.780Z"
   },
   {
    "duration": 349,
    "start_time": "2022-04-25T09:56:13.536Z"
   },
   {
    "duration": 13,
    "start_time": "2022-04-25T09:56:13.886Z"
   },
   {
    "duration": 29,
    "start_time": "2022-04-25T09:56:13.900Z"
   },
   {
    "duration": 266,
    "start_time": "2022-04-25T09:56:13.935Z"
   },
   {
    "duration": 22,
    "start_time": "2022-04-25T09:56:14.203Z"
   },
   {
    "duration": 8,
    "start_time": "2022-04-25T09:56:14.227Z"
   },
   {
    "duration": 166,
    "start_time": "2022-04-25T09:56:14.237Z"
   },
   {
    "duration": 180,
    "start_time": "2022-04-25T09:56:14.405Z"
   },
   {
    "duration": 174,
    "start_time": "2022-04-25T09:56:14.587Z"
   },
   {
    "duration": 184,
    "start_time": "2022-04-25T09:56:14.762Z"
   },
   {
    "duration": 6,
    "start_time": "2022-04-25T09:56:14.948Z"
   },
   {
    "duration": 290,
    "start_time": "2022-04-25T09:56:14.955Z"
   },
   {
    "duration": 281,
    "start_time": "2022-04-25T09:56:15.247Z"
   },
   {
    "duration": 174,
    "start_time": "2022-04-25T09:56:15.531Z"
   },
   {
    "duration": 298,
    "start_time": "2022-04-25T09:56:15.708Z"
   },
   {
    "duration": 145,
    "start_time": "2022-04-25T10:07:24.321Z"
   },
   {
    "duration": 149,
    "start_time": "2022-04-25T10:07:59.346Z"
   },
   {
    "duration": 140,
    "start_time": "2022-04-25T10:08:03.677Z"
   },
   {
    "duration": 133,
    "start_time": "2022-04-25T10:08:07.849Z"
   },
   {
    "duration": 196,
    "start_time": "2022-04-25T10:08:13.275Z"
   },
   {
    "duration": 225,
    "start_time": "2022-04-25T10:08:21.477Z"
   },
   {
    "duration": 242,
    "start_time": "2022-04-25T10:08:40.390Z"
   },
   {
    "duration": 143,
    "start_time": "2022-04-25T10:08:46.135Z"
   },
   {
    "duration": 144,
    "start_time": "2022-04-25T10:10:00.246Z"
   },
   {
    "duration": 139,
    "start_time": "2022-04-25T10:10:39.349Z"
   },
   {
    "duration": 207,
    "start_time": "2022-04-25T10:10:57.423Z"
   },
   {
    "duration": 154,
    "start_time": "2022-04-25T10:11:06.734Z"
   },
   {
    "duration": 140,
    "start_time": "2022-04-25T10:11:27.503Z"
   },
   {
    "duration": 149,
    "start_time": "2022-04-25T10:12:04.353Z"
   },
   {
    "duration": 142,
    "start_time": "2022-04-25T10:12:52.267Z"
   },
   {
    "duration": 151,
    "start_time": "2022-04-25T10:13:05.408Z"
   },
   {
    "duration": 135,
    "start_time": "2022-04-25T10:13:14.548Z"
   },
   {
    "duration": 139,
    "start_time": "2022-04-25T10:13:32.180Z"
   },
   {
    "duration": 214,
    "start_time": "2022-04-25T10:13:47.212Z"
   },
   {
    "duration": 154,
    "start_time": "2022-04-25T10:13:52.596Z"
   },
   {
    "duration": 148,
    "start_time": "2022-04-25T10:14:07.033Z"
   },
   {
    "duration": 146,
    "start_time": "2022-04-25T10:15:22.247Z"
   },
   {
    "duration": 206,
    "start_time": "2022-04-25T10:15:25.989Z"
   },
   {
    "duration": 715,
    "start_time": "2022-04-25T10:17:58.013Z"
   },
   {
    "duration": 143,
    "start_time": "2022-04-25T10:17:58.735Z"
   },
   {
    "duration": 57,
    "start_time": "2022-04-25T10:17:58.880Z"
   },
   {
    "duration": 37,
    "start_time": "2022-04-25T10:17:58.939Z"
   },
   {
    "duration": 9,
    "start_time": "2022-04-25T10:17:58.979Z"
   },
   {
    "duration": 6,
    "start_time": "2022-04-25T10:17:58.989Z"
   },
   {
    "duration": 61,
    "start_time": "2022-04-25T10:17:58.996Z"
   },
   {
    "duration": 6,
    "start_time": "2022-04-25T10:17:59.059Z"
   },
   {
    "duration": 5,
    "start_time": "2022-04-25T10:17:59.067Z"
   },
   {
    "duration": 12,
    "start_time": "2022-04-25T10:17:59.073Z"
   },
   {
    "duration": 6,
    "start_time": "2022-04-25T10:17:59.087Z"
   },
   {
    "duration": 45,
    "start_time": "2022-04-25T10:17:59.094Z"
   },
   {
    "duration": 14,
    "start_time": "2022-04-25T10:17:59.141Z"
   },
   {
    "duration": 6,
    "start_time": "2022-04-25T10:17:59.158Z"
   },
   {
    "duration": 7,
    "start_time": "2022-04-25T10:17:59.165Z"
   },
   {
    "duration": 9,
    "start_time": "2022-04-25T10:17:59.173Z"
   },
   {
    "duration": 198,
    "start_time": "2022-04-25T10:17:59.184Z"
   },
   {
    "duration": 261,
    "start_time": "2022-04-25T10:17:59.384Z"
   },
   {
    "duration": 9,
    "start_time": "2022-04-25T10:17:59.647Z"
   },
   {
    "duration": 11,
    "start_time": "2022-04-25T10:17:59.658Z"
   },
   {
    "duration": 9,
    "start_time": "2022-04-25T10:17:59.671Z"
   },
   {
    "duration": 7,
    "start_time": "2022-04-25T10:17:59.681Z"
   },
   {
    "duration": 42,
    "start_time": "2022-04-25T10:17:59.690Z"
   },
   {
    "duration": 7,
    "start_time": "2022-04-25T10:17:59.733Z"
   },
   {
    "duration": 8,
    "start_time": "2022-04-25T10:17:59.742Z"
   },
   {
    "duration": 4,
    "start_time": "2022-04-25T10:17:59.751Z"
   },
   {
    "duration": 9,
    "start_time": "2022-04-25T10:17:59.756Z"
   },
   {
    "duration": 22,
    "start_time": "2022-04-25T10:17:59.767Z"
   },
   {
    "duration": 51,
    "start_time": "2022-04-25T10:17:59.791Z"
   },
   {
    "duration": 37,
    "start_time": "2022-04-25T10:17:59.845Z"
   },
   {
    "duration": 8,
    "start_time": "2022-04-25T10:17:59.885Z"
   },
   {
    "duration": 16,
    "start_time": "2022-04-25T10:17:59.896Z"
   },
   {
    "duration": 16,
    "start_time": "2022-04-25T10:17:59.923Z"
   },
   {
    "duration": 6,
    "start_time": "2022-04-25T10:17:59.940Z"
   },
   {
    "duration": 16,
    "start_time": "2022-04-25T10:17:59.948Z"
   },
   {
    "duration": 4,
    "start_time": "2022-04-25T10:17:59.966Z"
   },
   {
    "duration": 12,
    "start_time": "2022-04-25T10:17:59.972Z"
   },
   {
    "duration": 307,
    "start_time": "2022-04-25T10:17:59.986Z"
   },
   {
    "duration": 6,
    "start_time": "2022-04-25T10:18:00.295Z"
   },
   {
    "duration": 31,
    "start_time": "2022-04-25T10:18:00.303Z"
   },
   {
    "duration": 22,
    "start_time": "2022-04-25T10:18:00.340Z"
   },
   {
    "duration": 198,
    "start_time": "2022-04-25T10:18:00.363Z"
   },
   {
    "duration": 12,
    "start_time": "2022-04-25T10:18:00.562Z"
   },
   {
    "duration": 163,
    "start_time": "2022-04-25T10:18:00.575Z"
   },
   {
    "duration": 13,
    "start_time": "2022-04-25T10:18:00.740Z"
   },
   {
    "duration": 175,
    "start_time": "2022-04-25T10:18:00.755Z"
   },
   {
    "duration": 14,
    "start_time": "2022-04-25T10:18:00.931Z"
   },
   {
    "duration": 160,
    "start_time": "2022-04-25T10:18:00.946Z"
   },
   {
    "duration": 20,
    "start_time": "2022-04-25T10:18:01.108Z"
   },
   {
    "duration": 157,
    "start_time": "2022-04-25T10:18:01.130Z"
   },
   {
    "duration": 20,
    "start_time": "2022-04-25T10:18:01.289Z"
   },
   {
    "duration": 181,
    "start_time": "2022-04-25T10:18:01.312Z"
   },
   {
    "duration": 43,
    "start_time": "2022-04-25T10:18:01.495Z"
   },
   {
    "duration": 208,
    "start_time": "2022-04-25T10:18:01.542Z"
   },
   {
    "duration": 161,
    "start_time": "2022-04-25T10:18:01.753Z"
   },
   {
    "duration": 13,
    "start_time": "2022-04-25T10:18:01.916Z"
   },
   {
    "duration": 14,
    "start_time": "2022-04-25T10:18:01.931Z"
   },
   {
    "duration": 9,
    "start_time": "2022-04-25T10:18:01.947Z"
   },
   {
    "duration": 11,
    "start_time": "2022-04-25T10:18:01.958Z"
   },
   {
    "duration": 369,
    "start_time": "2022-04-25T10:18:01.971Z"
   },
   {
    "duration": 346,
    "start_time": "2022-04-25T10:18:02.342Z"
   },
   {
    "duration": 205,
    "start_time": "2022-04-25T10:18:02.689Z"
   },
   {
    "duration": 159,
    "start_time": "2022-04-25T10:18:02.896Z"
   },
   {
    "duration": 521,
    "start_time": "2022-04-25T10:18:03.056Z"
   },
   {
    "duration": 755,
    "start_time": "2022-04-25T10:18:03.579Z"
   },
   {
    "duration": 590,
    "start_time": "2022-04-25T10:18:04.337Z"
   },
   {
    "duration": 17,
    "start_time": "2022-04-25T10:18:04.930Z"
   },
   {
    "duration": 21,
    "start_time": "2022-04-25T10:18:04.949Z"
   },
   {
    "duration": 277,
    "start_time": "2022-04-25T10:18:04.972Z"
   },
   {
    "duration": 8,
    "start_time": "2022-04-25T10:18:05.251Z"
   },
   {
    "duration": 6,
    "start_time": "2022-04-25T10:18:05.261Z"
   },
   {
    "duration": 175,
    "start_time": "2022-04-25T10:18:05.268Z"
   },
   {
    "duration": 166,
    "start_time": "2022-04-25T10:18:05.444Z"
   },
   {
    "duration": 162,
    "start_time": "2022-04-25T10:18:05.611Z"
   },
   {
    "duration": 165,
    "start_time": "2022-04-25T10:18:05.775Z"
   },
   {
    "duration": 6,
    "start_time": "2022-04-25T10:18:05.943Z"
   },
   {
    "duration": 198,
    "start_time": "2022-04-25T10:18:05.951Z"
   },
   {
    "duration": 148,
    "start_time": "2022-04-25T10:18:06.151Z"
   },
   {
    "duration": 164,
    "start_time": "2022-04-25T10:18:06.300Z"
   },
   {
    "duration": 277,
    "start_time": "2022-04-25T10:18:06.466Z"
   },
   {
    "duration": 735,
    "start_time": "2022-04-25T17:47:34.788Z"
   },
   {
    "duration": 119,
    "start_time": "2022-04-25T17:47:35.526Z"
   },
   {
    "duration": 48,
    "start_time": "2022-04-25T17:47:35.647Z"
   },
   {
    "duration": 43,
    "start_time": "2022-04-25T17:47:35.706Z"
   },
   {
    "duration": 10,
    "start_time": "2022-04-25T17:47:35.751Z"
   },
   {
    "duration": 5,
    "start_time": "2022-04-25T17:47:35.763Z"
   },
   {
    "duration": 61,
    "start_time": "2022-04-25T17:47:35.771Z"
   },
   {
    "duration": 7,
    "start_time": "2022-04-25T17:47:35.834Z"
   },
   {
    "duration": 10,
    "start_time": "2022-04-25T17:47:35.843Z"
   },
   {
    "duration": 9,
    "start_time": "2022-04-25T17:47:35.855Z"
   },
   {
    "duration": 6,
    "start_time": "2022-04-25T17:47:35.866Z"
   },
   {
    "duration": 7,
    "start_time": "2022-04-25T17:47:35.907Z"
   },
   {
    "duration": 13,
    "start_time": "2022-04-25T17:47:35.916Z"
   },
   {
    "duration": 8,
    "start_time": "2022-04-25T17:47:35.931Z"
   },
   {
    "duration": 5,
    "start_time": "2022-04-25T17:47:35.941Z"
   },
   {
    "duration": 7,
    "start_time": "2022-04-25T17:47:35.947Z"
   },
   {
    "duration": 237,
    "start_time": "2022-04-25T17:47:35.955Z"
   },
   {
    "duration": 250,
    "start_time": "2022-04-25T17:47:36.194Z"
   },
   {
    "duration": 8,
    "start_time": "2022-04-25T17:47:36.445Z"
   },
   {
    "duration": 11,
    "start_time": "2022-04-25T17:47:36.455Z"
   },
   {
    "duration": 11,
    "start_time": "2022-04-25T17:47:36.468Z"
   },
   {
    "duration": 31,
    "start_time": "2022-04-25T17:47:36.481Z"
   },
   {
    "duration": 9,
    "start_time": "2022-04-25T17:47:36.514Z"
   },
   {
    "duration": 5,
    "start_time": "2022-04-25T17:47:36.525Z"
   },
   {
    "duration": 5,
    "start_time": "2022-04-25T17:47:36.532Z"
   },
   {
    "duration": 4,
    "start_time": "2022-04-25T17:47:36.539Z"
   },
   {
    "duration": 10,
    "start_time": "2022-04-25T17:47:36.545Z"
   },
   {
    "duration": 68,
    "start_time": "2022-04-25T17:47:36.560Z"
   },
   {
    "duration": 6,
    "start_time": "2022-04-25T17:47:36.630Z"
   },
   {
    "duration": 23,
    "start_time": "2022-04-25T17:47:36.638Z"
   },
   {
    "duration": 12,
    "start_time": "2022-04-25T17:47:36.663Z"
   },
   {
    "duration": 32,
    "start_time": "2022-04-25T17:47:36.677Z"
   },
   {
    "duration": 8,
    "start_time": "2022-04-25T17:47:36.711Z"
   },
   {
    "duration": 3,
    "start_time": "2022-04-25T17:47:36.721Z"
   },
   {
    "duration": 19,
    "start_time": "2022-04-25T17:47:36.725Z"
   },
   {
    "duration": 4,
    "start_time": "2022-04-25T17:47:36.746Z"
   },
   {
    "duration": 16,
    "start_time": "2022-04-25T17:47:36.752Z"
   },
   {
    "duration": 367,
    "start_time": "2022-04-25T17:47:36.770Z"
   },
   {
    "duration": 6,
    "start_time": "2022-04-25T17:47:37.139Z"
   },
   {
    "duration": 34,
    "start_time": "2022-04-25T17:47:37.146Z"
   },
   {
    "duration": 25,
    "start_time": "2022-04-25T17:47:37.182Z"
   },
   {
    "duration": 168,
    "start_time": "2022-04-25T17:47:37.209Z"
   },
   {
    "duration": 13,
    "start_time": "2022-04-25T17:47:37.378Z"
   },
   {
    "duration": 177,
    "start_time": "2022-04-25T17:47:37.392Z"
   },
   {
    "duration": 10,
    "start_time": "2022-04-25T17:47:37.571Z"
   },
   {
    "duration": 185,
    "start_time": "2022-04-25T17:47:37.582Z"
   },
   {
    "duration": 14,
    "start_time": "2022-04-25T17:47:37.769Z"
   },
   {
    "duration": 184,
    "start_time": "2022-04-25T17:47:37.785Z"
   },
   {
    "duration": 8,
    "start_time": "2022-04-25T17:47:37.971Z"
   },
   {
    "duration": 182,
    "start_time": "2022-04-25T17:47:37.981Z"
   },
   {
    "duration": 21,
    "start_time": "2022-04-25T17:47:38.165Z"
   },
   {
    "duration": 213,
    "start_time": "2022-04-25T17:47:38.188Z"
   },
   {
    "duration": 25,
    "start_time": "2022-04-25T17:47:38.407Z"
   },
   {
    "duration": 155,
    "start_time": "2022-04-25T17:47:38.434Z"
   },
   {
    "duration": 117,
    "start_time": "2022-04-25T17:47:38.592Z"
   },
   {
    "duration": 7,
    "start_time": "2022-04-25T17:47:38.711Z"
   },
   {
    "duration": 4,
    "start_time": "2022-04-25T17:47:38.720Z"
   },
   {
    "duration": 6,
    "start_time": "2022-04-25T17:47:38.726Z"
   },
   {
    "duration": 7,
    "start_time": "2022-04-25T17:47:38.733Z"
   },
   {
    "duration": 284,
    "start_time": "2022-04-25T17:47:38.741Z"
   },
   {
    "duration": 355,
    "start_time": "2022-04-25T17:47:39.026Z"
   },
   {
    "duration": 216,
    "start_time": "2022-04-25T17:47:39.383Z"
   },
   {
    "duration": 160,
    "start_time": "2022-04-25T17:47:39.608Z"
   },
   {
    "duration": 447,
    "start_time": "2022-04-25T17:47:39.769Z"
   },
   {
    "duration": 767,
    "start_time": "2022-04-25T17:47:40.218Z"
   },
   {
    "duration": 361,
    "start_time": "2022-04-25T17:47:40.987Z"
   },
   {
    "duration": 13,
    "start_time": "2022-04-25T17:47:41.350Z"
   },
   {
    "duration": 12,
    "start_time": "2022-04-25T17:47:41.365Z"
   },
   {
    "duration": 310,
    "start_time": "2022-04-25T17:47:41.379Z"
   },
   {
    "duration": 18,
    "start_time": "2022-04-25T17:47:41.691Z"
   },
   {
    "duration": 4,
    "start_time": "2022-04-25T17:47:41.711Z"
   },
   {
    "duration": 190,
    "start_time": "2022-04-25T17:47:41.717Z"
   },
   {
    "duration": 181,
    "start_time": "2022-04-25T17:47:41.909Z"
   },
   {
    "duration": 174,
    "start_time": "2022-04-25T17:47:42.091Z"
   },
   {
    "duration": 187,
    "start_time": "2022-04-25T17:47:42.267Z"
   },
   {
    "duration": 5,
    "start_time": "2022-04-25T17:47:42.456Z"
   },
   {
    "duration": 219,
    "start_time": "2022-04-25T17:47:42.463Z"
   },
   {
    "duration": 159,
    "start_time": "2022-04-25T17:47:42.684Z"
   },
   {
    "duration": 180,
    "start_time": "2022-04-25T17:47:42.845Z"
   },
   {
    "duration": 295,
    "start_time": "2022-04-25T17:47:43.027Z"
   }
  ],
  "kernelspec": {
   "display_name": "Python 3.10.5 64-bit",
   "language": "python",
   "name": "python3"
  },
  "language_info": {
   "codemirror_mode": {
    "name": "ipython",
    "version": 3
   },
   "file_extension": ".py",
   "mimetype": "text/x-python",
   "name": "python",
   "nbconvert_exporter": "python",
   "pygments_lexer": "ipython3",
   "version": "3.10.5"
  },
  "toc": {
   "base_numbering": 1,
   "nav_menu": {},
   "number_sections": true,
   "sideBar": true,
   "skip_h1_title": true,
   "title_cell": "Table of Contents",
   "title_sidebar": "Contents",
   "toc_cell": false,
   "toc_position": {},
   "toc_section_display": true,
   "toc_window_display": true
  },
  "vscode": {
   "interpreter": {
    "hash": "62108d3bcabba50a5551c94be0c58944c48365daffc285bf9efbbaced917d542"
   }
  }
 },
 "nbformat": 4,
 "nbformat_minor": 5
}
