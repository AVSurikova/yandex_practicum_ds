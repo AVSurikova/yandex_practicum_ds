{
 "cells": [
  {
   "cell_type": "markdown",
   "id": "1618c003",
   "metadata": {},
   "source": [
    "# Отток клиентов банка\n",
    "\n",
    "### Описание проекта\n",
    "\n",
    "**Цели и задачи:**\n",
    "\n",
    "* Проанализировать исторические данные о поведении клиентов банка, расторжении договоров. Спрогнозировать уход клиента из банка.\n",
    "* Построить модель классификации, метрика качества f1 (минимальное значение 0.59)\n",
    "* Измерить AUC-ROC, сравнить её значение с f1-мерой.\n",
    "\n",
    "**Описание данных:**\n",
    "\n",
    "Исторические данные о поведении клиентов и расторжении договоров с банком.\n",
    "\n",
    "Источник данных: https://www.kaggle.com/barelydedicated/bank-customer-churn-modeling\n",
    "\n",
    "**Признаки**\n",
    "\n",
    "* `RowNumber` — индекс строки в данных\n",
    "* `CustomerId` — уникальный идентификатор клиента\n",
    "* `Surname` — фамилия\n",
    "* `CreditScore` — кредитный рейтинг\n",
    "* `Geography` — страна проживания\n",
    "* `Gender` — пол\n",
    "* `Age` — возраст\n",
    "* `Tenure` — количество недвижимости у клиента\n",
    "* `Balance` — баланс на счёте\n",
    "* `NumOfProducts` — количество продуктов банка, используемых клиентом\n",
    "* `HasCrCard` — наличие кредитной карты\n",
    "* `IsActiveMember` — активность клиента\n",
    "* `EstimatedSalary` — предполагаемая зарплата\n",
    "\n",
    "**Целевой признак**\n",
    "\n",
    "* `Exited` — факт ухода клиента\n",
    "\n",
    "### Структура проекта\n",
    "\n",
    "1. Подготовка данных\n",
    "2. Исследование задачи\n",
    "    * 2.1 Логистическая регрессия\n",
    "    * 2.2 Решающее дерево\n",
    "    * 2.3 Случайный лес\n",
    "    * 2.4 Метод ближайших соседей\n",
    "3. Борьба с дисбалансом\n",
    "    * 3.1 Взвешивание классов\n",
    "    * 3.2 Upsampling и downsampling\n",
    "4. Тестирование модели\n",
    "5. Общий вывод"
   ]
  },
  {
   "cell_type": "markdown",
   "id": "51d876ac",
   "metadata": {},
   "source": [
    "## 1. Подготовка данных"
   ]
  },
  {
   "cell_type": "code",
   "execution_count": 2,
   "id": "17146b36",
   "metadata": {},
   "outputs": [],
   "source": [
    "# импортируем необходимые для работы библиотеки\n",
    "import pandas as pd\n",
    "import os\n",
    "\n",
    "from sklearn.preprocessing import StandardScaler\n",
    "from sklearn.model_selection import train_test_split, GridSearchCV\n",
    "from sklearn.linear_model import LogisticRegression\n",
    "from sklearn.tree import DecisionTreeClassifier\n",
    "from sklearn.ensemble import RandomForestClassifier\n",
    "from sklearn.neighbors import KNeighborsClassifier\n",
    "from sklearn.metrics import accuracy_score, f1_score, roc_auc_score, classification_report\n",
    "from imblearn.combine import SMOTETomek"
   ]
  },
  {
   "cell_type": "code",
   "execution_count": 3,
   "id": "e3265500",
   "metadata": {},
   "outputs": [],
   "source": [
    "# открываем файл с данными\n",
    "pth1 = 'Churn.csv'\n",
    "\n",
    "pth2 = '/datasets/Churn.csv'\n",
    "\n",
    "if os.path.exists(pth1):\n",
    "    df = pd.read_csv(pth1)\n",
    "elif os.path.exists(pth2):\n",
    "    df = pd.read_csv(pth2)\n",
    "else:\n",
    "    print('Something is wrong')"
   ]
  },
  {
   "cell_type": "code",
   "execution_count": 4,
   "id": "a6028492",
   "metadata": {
    "scrolled": false
   },
   "outputs": [
    {
     "data": {
      "text/html": [
       "<div>\n",
       "<style scoped>\n",
       "    .dataframe tbody tr th:only-of-type {\n",
       "        vertical-align: middle;\n",
       "    }\n",
       "\n",
       "    .dataframe tbody tr th {\n",
       "        vertical-align: top;\n",
       "    }\n",
       "\n",
       "    .dataframe thead th {\n",
       "        text-align: right;\n",
       "    }\n",
       "</style>\n",
       "<table border=\"1\" class=\"dataframe\">\n",
       "  <thead>\n",
       "    <tr style=\"text-align: right;\">\n",
       "      <th></th>\n",
       "      <th>RowNumber</th>\n",
       "      <th>CustomerId</th>\n",
       "      <th>Surname</th>\n",
       "      <th>CreditScore</th>\n",
       "      <th>Geography</th>\n",
       "      <th>Gender</th>\n",
       "      <th>Age</th>\n",
       "      <th>Tenure</th>\n",
       "      <th>Balance</th>\n",
       "      <th>NumOfProducts</th>\n",
       "      <th>HasCrCard</th>\n",
       "      <th>IsActiveMember</th>\n",
       "      <th>EstimatedSalary</th>\n",
       "      <th>Exited</th>\n",
       "    </tr>\n",
       "  </thead>\n",
       "  <tbody>\n",
       "    <tr>\n",
       "      <th>0</th>\n",
       "      <td>1</td>\n",
       "      <td>15634602</td>\n",
       "      <td>Hargrave</td>\n",
       "      <td>619</td>\n",
       "      <td>France</td>\n",
       "      <td>Female</td>\n",
       "      <td>42</td>\n",
       "      <td>2.0</td>\n",
       "      <td>0.00</td>\n",
       "      <td>1</td>\n",
       "      <td>1</td>\n",
       "      <td>1</td>\n",
       "      <td>101348.88</td>\n",
       "      <td>1</td>\n",
       "    </tr>\n",
       "    <tr>\n",
       "      <th>1</th>\n",
       "      <td>2</td>\n",
       "      <td>15647311</td>\n",
       "      <td>Hill</td>\n",
       "      <td>608</td>\n",
       "      <td>Spain</td>\n",
       "      <td>Female</td>\n",
       "      <td>41</td>\n",
       "      <td>1.0</td>\n",
       "      <td>83807.86</td>\n",
       "      <td>1</td>\n",
       "      <td>0</td>\n",
       "      <td>1</td>\n",
       "      <td>112542.58</td>\n",
       "      <td>0</td>\n",
       "    </tr>\n",
       "    <tr>\n",
       "      <th>2</th>\n",
       "      <td>3</td>\n",
       "      <td>15619304</td>\n",
       "      <td>Onio</td>\n",
       "      <td>502</td>\n",
       "      <td>France</td>\n",
       "      <td>Female</td>\n",
       "      <td>42</td>\n",
       "      <td>8.0</td>\n",
       "      <td>159660.80</td>\n",
       "      <td>3</td>\n",
       "      <td>1</td>\n",
       "      <td>0</td>\n",
       "      <td>113931.57</td>\n",
       "      <td>1</td>\n",
       "    </tr>\n",
       "    <tr>\n",
       "      <th>3</th>\n",
       "      <td>4</td>\n",
       "      <td>15701354</td>\n",
       "      <td>Boni</td>\n",
       "      <td>699</td>\n",
       "      <td>France</td>\n",
       "      <td>Female</td>\n",
       "      <td>39</td>\n",
       "      <td>1.0</td>\n",
       "      <td>0.00</td>\n",
       "      <td>2</td>\n",
       "      <td>0</td>\n",
       "      <td>0</td>\n",
       "      <td>93826.63</td>\n",
       "      <td>0</td>\n",
       "    </tr>\n",
       "    <tr>\n",
       "      <th>4</th>\n",
       "      <td>5</td>\n",
       "      <td>15737888</td>\n",
       "      <td>Mitchell</td>\n",
       "      <td>850</td>\n",
       "      <td>Spain</td>\n",
       "      <td>Female</td>\n",
       "      <td>43</td>\n",
       "      <td>2.0</td>\n",
       "      <td>125510.82</td>\n",
       "      <td>1</td>\n",
       "      <td>1</td>\n",
       "      <td>1</td>\n",
       "      <td>79084.10</td>\n",
       "      <td>0</td>\n",
       "    </tr>\n",
       "    <tr>\n",
       "      <th>5</th>\n",
       "      <td>6</td>\n",
       "      <td>15574012</td>\n",
       "      <td>Chu</td>\n",
       "      <td>645</td>\n",
       "      <td>Spain</td>\n",
       "      <td>Male</td>\n",
       "      <td>44</td>\n",
       "      <td>8.0</td>\n",
       "      <td>113755.78</td>\n",
       "      <td>2</td>\n",
       "      <td>1</td>\n",
       "      <td>0</td>\n",
       "      <td>149756.71</td>\n",
       "      <td>1</td>\n",
       "    </tr>\n",
       "    <tr>\n",
       "      <th>6</th>\n",
       "      <td>7</td>\n",
       "      <td>15592531</td>\n",
       "      <td>Bartlett</td>\n",
       "      <td>822</td>\n",
       "      <td>France</td>\n",
       "      <td>Male</td>\n",
       "      <td>50</td>\n",
       "      <td>7.0</td>\n",
       "      <td>0.00</td>\n",
       "      <td>2</td>\n",
       "      <td>1</td>\n",
       "      <td>1</td>\n",
       "      <td>10062.80</td>\n",
       "      <td>0</td>\n",
       "    </tr>\n",
       "    <tr>\n",
       "      <th>7</th>\n",
       "      <td>8</td>\n",
       "      <td>15656148</td>\n",
       "      <td>Obinna</td>\n",
       "      <td>376</td>\n",
       "      <td>Germany</td>\n",
       "      <td>Female</td>\n",
       "      <td>29</td>\n",
       "      <td>4.0</td>\n",
       "      <td>115046.74</td>\n",
       "      <td>4</td>\n",
       "      <td>1</td>\n",
       "      <td>0</td>\n",
       "      <td>119346.88</td>\n",
       "      <td>1</td>\n",
       "    </tr>\n",
       "    <tr>\n",
       "      <th>8</th>\n",
       "      <td>9</td>\n",
       "      <td>15792365</td>\n",
       "      <td>He</td>\n",
       "      <td>501</td>\n",
       "      <td>France</td>\n",
       "      <td>Male</td>\n",
       "      <td>44</td>\n",
       "      <td>4.0</td>\n",
       "      <td>142051.07</td>\n",
       "      <td>2</td>\n",
       "      <td>0</td>\n",
       "      <td>1</td>\n",
       "      <td>74940.50</td>\n",
       "      <td>0</td>\n",
       "    </tr>\n",
       "    <tr>\n",
       "      <th>9</th>\n",
       "      <td>10</td>\n",
       "      <td>15592389</td>\n",
       "      <td>H?</td>\n",
       "      <td>684</td>\n",
       "      <td>France</td>\n",
       "      <td>Male</td>\n",
       "      <td>27</td>\n",
       "      <td>2.0</td>\n",
       "      <td>134603.88</td>\n",
       "      <td>1</td>\n",
       "      <td>1</td>\n",
       "      <td>1</td>\n",
       "      <td>71725.73</td>\n",
       "      <td>0</td>\n",
       "    </tr>\n",
       "  </tbody>\n",
       "</table>\n",
       "</div>"
      ],
      "text/plain": [
       "   RowNumber  CustomerId   Surname  CreditScore Geography  Gender  Age  \\\n",
       "0          1    15634602  Hargrave          619    France  Female   42   \n",
       "1          2    15647311      Hill          608     Spain  Female   41   \n",
       "2          3    15619304      Onio          502    France  Female   42   \n",
       "3          4    15701354      Boni          699    France  Female   39   \n",
       "4          5    15737888  Mitchell          850     Spain  Female   43   \n",
       "5          6    15574012       Chu          645     Spain    Male   44   \n",
       "6          7    15592531  Bartlett          822    France    Male   50   \n",
       "7          8    15656148    Obinna          376   Germany  Female   29   \n",
       "8          9    15792365        He          501    France    Male   44   \n",
       "9         10    15592389        H?          684    France    Male   27   \n",
       "\n",
       "   Tenure    Balance  NumOfProducts  HasCrCard  IsActiveMember  \\\n",
       "0     2.0       0.00              1          1               1   \n",
       "1     1.0   83807.86              1          0               1   \n",
       "2     8.0  159660.80              3          1               0   \n",
       "3     1.0       0.00              2          0               0   \n",
       "4     2.0  125510.82              1          1               1   \n",
       "5     8.0  113755.78              2          1               0   \n",
       "6     7.0       0.00              2          1               1   \n",
       "7     4.0  115046.74              4          1               0   \n",
       "8     4.0  142051.07              2          0               1   \n",
       "9     2.0  134603.88              1          1               1   \n",
       "\n",
       "   EstimatedSalary  Exited  \n",
       "0        101348.88       1  \n",
       "1        112542.58       0  \n",
       "2        113931.57       1  \n",
       "3         93826.63       0  \n",
       "4         79084.10       0  \n",
       "5        149756.71       1  \n",
       "6         10062.80       0  \n",
       "7        119346.88       1  \n",
       "8         74940.50       0  \n",
       "9         71725.73       0  "
      ]
     },
     "metadata": {},
     "output_type": "display_data"
    },
    {
     "name": "stdout",
     "output_type": "stream",
     "text": [
      "<class 'pandas.core.frame.DataFrame'>\n",
      "RangeIndex: 10000 entries, 0 to 9999\n",
      "Data columns (total 14 columns):\n",
      " #   Column           Non-Null Count  Dtype  \n",
      "---  ------           --------------  -----  \n",
      " 0   RowNumber        10000 non-null  int64  \n",
      " 1   CustomerId       10000 non-null  int64  \n",
      " 2   Surname          10000 non-null  object \n",
      " 3   CreditScore      10000 non-null  int64  \n",
      " 4   Geography        10000 non-null  object \n",
      " 5   Gender           10000 non-null  object \n",
      " 6   Age              10000 non-null  int64  \n",
      " 7   Tenure           9091 non-null   float64\n",
      " 8   Balance          10000 non-null  float64\n",
      " 9   NumOfProducts    10000 non-null  int64  \n",
      " 10  HasCrCard        10000 non-null  int64  \n",
      " 11  IsActiveMember   10000 non-null  int64  \n",
      " 12  EstimatedSalary  10000 non-null  float64\n",
      " 13  Exited           10000 non-null  int64  \n",
      "dtypes: float64(3), int64(8), object(3)\n",
      "memory usage: 1.1+ MB\n"
     ]
    }
   ],
   "source": [
    "# выведем первые 10 строк таблицы с помощью метода head()\n",
    "display(df.head(10))\n",
    "# с помощью метода info() изучим структуры таблицы: типы данных, количество строк, столбцов, пропущенных данных.\n",
    "df.info()"
   ]
  },
  {
   "cell_type": "code",
   "execution_count": 5,
   "id": "b283a290",
   "metadata": {},
   "outputs": [
    {
     "data": {
      "text/plain": [
       "0"
      ]
     },
     "execution_count": 5,
     "metadata": {},
     "output_type": "execute_result"
    }
   ],
   "source": [
    "# проверим наличие явных дубликатов\n",
    "df.duplicated().sum()"
   ]
  },
  {
   "cell_type": "markdown",
   "id": "e660215e",
   "metadata": {},
   "source": [
    "**1)** Признаки `RowNumber`, `CustomerId` и `Surname` не несут в себе информации, необходимой для дальнейшей классификации. Удалим их."
   ]
  },
  {
   "cell_type": "code",
   "execution_count": 6,
   "id": "cc3cd893",
   "metadata": {},
   "outputs": [],
   "source": [
    "df = df.drop(['RowNumber', 'CustomerId', 'Surname'], axis=1)"
   ]
  },
  {
   "cell_type": "markdown",
   "id": "93a8a34c",
   "metadata": {},
   "source": [
    "---\n",
    "\n",
    "**2)** Категориальные признаки `Geography` и `Gender` преобразуем методом One-Hot Encoding."
   ]
  },
  {
   "cell_type": "code",
   "execution_count": 7,
   "id": "c4641154",
   "metadata": {},
   "outputs": [],
   "source": [
    "# для преобразования воспользуемся методом pd.get_dummies\n",
    "# параметр drop_first=True для удаления избыточного столбца данных\n",
    "df = pd.get_dummies(df, drop_first=True)"
   ]
  },
  {
   "cell_type": "markdown",
   "id": "6873f649",
   "metadata": {},
   "source": [
    "---\n",
    "\n",
    "**3)** В столбце `'Tenure'` есть пропущенные данные. Они могли отсутствовать изначально или быть утеряны из-за сбоев в системе при выгрузке базы.\n",
    "* Строки с пропущенными значениями нельзя отнести к одной конкретной категории (разный кредитный рейтинг, разное местоположение и доход и тд).\n",
    "* Попробуем построить модель, предсказывающую данный параметр на основе имеющихся данных."
   ]
  },
  {
   "cell_type": "code",
   "execution_count": 8,
   "id": "b94dd7ef",
   "metadata": {},
   "outputs": [],
   "source": [
    "# сохраним данные с пропущенными значениями 'Tenure' в отдельной переменной\n",
    "no_tenure_df = df.loc[df['Tenure'].isna()]\n",
    "features = df.loc[~df['Tenure'].isna()]"
   ]
  },
  {
   "cell_type": "code",
   "execution_count": 9,
   "id": "5a78fa60",
   "metadata": {},
   "outputs": [],
   "source": [
    "# основной целевой признак 'Exited' не будет участвовать в данной модели\n",
    "features = features.drop('Exited', axis=1)"
   ]
  },
  {
   "cell_type": "code",
   "execution_count": 10,
   "id": "4373c6f4",
   "metadata": {},
   "outputs": [],
   "source": [
    "# в данной модели признак 'Tenure' выступает в качестве целевого\n",
    "y = features['Tenure']\n",
    "X = features.drop('Tenure', axis=1)"
   ]
  },
  {
   "cell_type": "code",
   "execution_count": 11,
   "id": "1eb9af21",
   "metadata": {},
   "outputs": [],
   "source": [
    "# разделим данные на обучающую и валидационную выборки\n",
    "X_train, X_valid, y_train, y_valid = train_test_split(X, y, test_size=0.25, random_state=123)"
   ]
  },
  {
   "cell_type": "markdown",
   "id": "60249726",
   "metadata": {},
   "source": [
    "Прежде чем проводить обучение, к числовым признакам `CreditScore`, `Age`, `Balance`, `EstimatedSalary`, `NumOfProducts` применим масштабирование с помощью `StandardScaler` библиотеки `sklearn`."
   ]
  },
  {
   "cell_type": "code",
   "execution_count": 12,
   "id": "2e6f2931",
   "metadata": {},
   "outputs": [],
   "source": [
    "numerics = ['CreditScore', 'Age', 'Balance', 'EstimatedSalary', 'NumOfProducts']\n",
    "scaler = StandardScaler()\n",
    "scaler.fit(X_train[numerics])\n",
    "X_train[numerics] = scaler.transform(X_train[numerics])\n",
    "X_valid[numerics] = scaler.transform(X_valid[numerics])"
   ]
  },
  {
   "cell_type": "markdown",
   "id": "0cc3b570",
   "metadata": {},
   "source": [
    "Классификацию попробуем провести с помощью модели \"Случайный Лес\", попробуем оценивать качество модели с помощью `accuracy`."
   ]
  },
  {
   "cell_type": "code",
   "execution_count": 13,
   "id": "4944b736",
   "metadata": {},
   "outputs": [],
   "source": [
    "# в параметрах best_params и best_accuracy будем хранить наилучшие параметры для модели и наивысшую долю правильных предсказаний\n",
    "best_params = []\n",
    "best_accuracy = 0\n",
    "# проходим в циклах по всем выбранным гиперпараметрам\n",
    "for n_estimators in (1,10):\n",
    "    for max_depth in range(2,10):\n",
    "        for min_samples_split in range(2,10):\n",
    "            for min_samples_leaf in range(1,8):\n",
    "                for criterion in ['gini', 'entropy']:\n",
    "                    # инициация модели с текущими гиперпараметрами\n",
    "                    model_rf_clf = RandomForestClassifier(random_state=123,\n",
    "                                                          n_estimators=n_estimators,\n",
    "                                                          max_depth=max_depth,\n",
    "                                                          min_samples_split=min_samples_split,\n",
    "                                                          min_samples_leaf=min_samples_leaf,\n",
    "                                                          criterion=criterion)\n",
    "                    # обучение модели на тренировочной выборке\n",
    "                    model_rf_clf.fit(X_train, y_train)\n",
    "                    # поиск предсказаний модели на валидационной выбоке\n",
    "                    predictions = model_rf_clf.predict(X_valid)\n",
    "                    # вычисление точности модели методом accuracy_score\n",
    "                    accuracy = accuracy_score(y_valid, predictions)\n",
    "                    # если текущее значение точности выше предыдущего лучшего значения, \n",
    "                    # сохраняем параметры модели и текущую точность\n",
    "                    if accuracy > best_accuracy:\n",
    "                        best_params = [n_estimators, max_depth, min_samples_split, min_samples_leaf, criterion]\n",
    "                        best_accuracy = accuracy"
   ]
  },
  {
   "cell_type": "code",
   "execution_count": 14,
   "id": "0b4e360b",
   "metadata": {},
   "outputs": [
    {
     "name": "stdout",
     "output_type": "stream",
     "text": [
      "Наилучшая доля правильных ответов: 0.11\n",
      "Парамтеры модели:\n",
      "   n_estimators = 10\n",
      "   max_depth = 5\n",
      "   min_samples_split = 4\n",
      "   min_samples_leaf = 1\n",
      "   criterion = gini \n"
     ]
    }
   ],
   "source": [
    "# вывод наилучшей доли правильных ответов и параметров модели.\n",
    "print('''Наилучшая доля правильных ответов: {}\n",
    "Парамтеры модели:\n",
    "   n_estimators = {}\n",
    "   max_depth = {}\n",
    "   min_samples_split = {}\n",
    "   min_samples_leaf = {}\n",
    "   criterion = {} '''.format(round(best_accuracy, 2),\n",
    "                             best_params[0],\n",
    "                             best_params[1],\n",
    "                             best_params[2],\n",
    "                             best_params[3],\n",
    "                             best_params[4]\n",
    "                            ))"
   ]
  },
  {
   "cell_type": "markdown",
   "id": "fecc2f15",
   "metadata": {},
   "source": [
    "* Accuracy модели 11% слишком мал (случайный выбор между 11 классами даст около 9%). Другие модели классификации не улучшили качество классификации.\n",
    "* Заполним пропуски нетипичным значением **-1**, пропущенные значения будут отдельной категорией."
   ]
  },
  {
   "cell_type": "code",
   "execution_count": 15,
   "id": "632a9082",
   "metadata": {},
   "outputs": [],
   "source": [
    "df.loc[df['Tenure'].isna(), 'Tenure'] = -1\n",
    "df['Tenure'] = df['Tenure'].astype('object')\n",
    "df = pd.get_dummies(df, drop_first=True)"
   ]
  },
  {
   "cell_type": "markdown",
   "id": "0edc5467",
   "metadata": {},
   "source": [
    "Выведем информацию о получившейся таблице."
   ]
  },
  {
   "cell_type": "code",
   "execution_count": 16,
   "id": "bb305d34",
   "metadata": {},
   "outputs": [
    {
     "name": "stdout",
     "output_type": "stream",
     "text": [
      "<class 'pandas.core.frame.DataFrame'>\n",
      "RangeIndex: 10000 entries, 0 to 9999\n",
      "Data columns (total 22 columns):\n",
      " #   Column             Non-Null Count  Dtype  \n",
      "---  ------             --------------  -----  \n",
      " 0   CreditScore        10000 non-null  int64  \n",
      " 1   Age                10000 non-null  int64  \n",
      " 2   Balance            10000 non-null  float64\n",
      " 3   NumOfProducts      10000 non-null  int64  \n",
      " 4   HasCrCard          10000 non-null  int64  \n",
      " 5   IsActiveMember     10000 non-null  int64  \n",
      " 6   EstimatedSalary    10000 non-null  float64\n",
      " 7   Exited             10000 non-null  int64  \n",
      " 8   Geography_Germany  10000 non-null  uint8  \n",
      " 9   Geography_Spain    10000 non-null  uint8  \n",
      " 10  Gender_Male        10000 non-null  uint8  \n",
      " 11  Tenure_0.0         10000 non-null  uint8  \n",
      " 12  Tenure_1.0         10000 non-null  uint8  \n",
      " 13  Tenure_2.0         10000 non-null  uint8  \n",
      " 14  Tenure_3.0         10000 non-null  uint8  \n",
      " 15  Tenure_4.0         10000 non-null  uint8  \n",
      " 16  Tenure_5.0         10000 non-null  uint8  \n",
      " 17  Tenure_6.0         10000 non-null  uint8  \n",
      " 18  Tenure_7.0         10000 non-null  uint8  \n",
      " 19  Tenure_8.0         10000 non-null  uint8  \n",
      " 20  Tenure_9.0         10000 non-null  uint8  \n",
      " 21  Tenure_10.0        10000 non-null  uint8  \n",
      "dtypes: float64(2), int64(6), uint8(14)\n",
      "memory usage: 761.8 KB\n"
     ]
    }
   ],
   "source": [
    "df.info()"
   ]
  },
  {
   "cell_type": "markdown",
   "id": "751eb840",
   "metadata": {},
   "source": [
    "* Данные успешно загружены и проверены на соответствие описанию. Дубликатов нет. Типы данных преобразованы в соответствии с хранимой информацией\n",
    "* Признаки `RowNumber`, `CustomerId` и `Surname` удалены, так как целевой признак от них никак не зависит.\n",
    "* Числовые признаки приведены к стандартному виду.\n",
    "* Категориальные признаки преобразованы методом One-Hot Encoder.\n",
    "* Попытка построить классификационную модель для заполнения пропусков в признаке `Tenure` не принесла существенных результатов (качество модели 12%, при случайном заполнении 9%). Данный признак преобразован прямым кодированием One-Hot Encoder."
   ]
  },
  {
   "cell_type": "markdown",
   "id": "001c8b25",
   "metadata": {},
   "source": [
    "## 2. Исследование задачи"
   ]
  },
  {
   "cell_type": "markdown",
   "id": "f701de7a",
   "metadata": {},
   "source": [
    "Исследуем баланс классов целевого признака."
   ]
  },
  {
   "cell_type": "code",
   "execution_count": 17,
   "id": "a18f52ff",
   "metadata": {
    "scrolled": true
   },
   "outputs": [
    {
     "name": "stdout",
     "output_type": "stream",
     "text": [
      "0    0.7963\n",
      "1    0.2037\n",
      "Name: Exited, dtype: float64\n"
     ]
    },
    {
     "data": {
      "text/plain": [
       "<AxesSubplot:>"
      ]
     },
     "execution_count": 17,
     "metadata": {},
     "output_type": "execute_result"
    },
    {
     "data": {
      "image/png": "[encoded data removed]",
      "text/plain": [
       "<Figure size 432x288 with 1 Axes>"
      ]
     },
     "metadata": {
      "needs_background": "light"
     },
     "output_type": "display_data"
    }
   ],
   "source": [
    "print(df['Exited'].value_counts(normalize=True))\n",
    "df['Exited'].value_counts(normalize=True).plot(kind='bar')"
   ]
  },
  {
   "cell_type": "markdown",
   "id": "8f7801f1",
   "metadata": {},
   "source": [
    "* Классы несбалансированы. Целевой признак `Exited` распределён примерно 4:1.\n",
    "* Попробуем обучить различные классификационные модели без учёта дисбаланса классов.\n",
    "* Для начала разделим данные на признаки и целевой признак."
   ]
  },
  {
   "cell_type": "code",
   "execution_count": 18,
   "id": "65e0b284",
   "metadata": {},
   "outputs": [],
   "source": [
    "features = df.drop('Exited', axis=1)\n",
    "target = df['Exited']"
   ]
  },
  {
   "cell_type": "markdown",
   "id": "a2f7e69e",
   "metadata": {},
   "source": [
    "* Разделим данные на обучающую, валидационную и тестовую выборки в пропорции 3:1:1 соответственно (60% на обучающию и по 20% данных на валидационную и тестовую выборки).\n",
    "* После разделения применим масштабирование к числовым признакам."
   ]
  },
  {
   "cell_type": "code",
   "execution_count": 19,
   "id": "f614d2c3",
   "metadata": {},
   "outputs": [],
   "source": [
    "# разделение проведём с помощью функции train_test_split библиотеки sklearn\n",
    "X, X_test, y, y_test = train_test_split(features, target, test_size=0.2, random_state=123)\n",
    "X_train, X_valid, y_train, y_valid = train_test_split(X, y, test_size=0.25, random_state=123)"
   ]
  },
  {
   "cell_type": "code",
   "execution_count": 20,
   "id": "ab32f235",
   "metadata": {},
   "outputs": [],
   "source": [
    "# проводим масштабирование функцией StandardScaler библиотеки sklearn\n",
    "scaler.fit(X_train[numerics])\n",
    "X_train[numerics] = scaler.transform(X_train[numerics])\n",
    "X_valid[numerics] = scaler.transform(X_valid[numerics])\n",
    "X_test[numerics] = scaler.transform(X_test[numerics])"
   ]
  },
  {
   "cell_type": "code",
   "execution_count": 21,
   "id": "fae4e215",
   "metadata": {},
   "outputs": [
    {
     "name": "stdout",
     "output_type": "stream",
     "text": [
      "Размеры наборов данных:\n",
      "X_train:  (6000, 21)\n",
      "X_valid:  (2000, 21)\n",
      "X_test:   (2000, 21)\n"
     ]
    }
   ],
   "source": [
    "# выведем размеры получившихся выборок\n",
    "print('Размеры наборов данных:')\n",
    "print('X_train: ', X_train.shape)\n",
    "print('X_valid: ', X_valid.shape)\n",
    "print('X_test:  ', X_test.shape)"
   ]
  },
  {
   "cell_type": "markdown",
   "id": "7d17f304",
   "metadata": {},
   "source": [
    "### 2.1 Логистическая регрессия\n",
    "\n",
    "Инициируем модель логистической регрессии `LogisticRegression`\n",
    "\n",
    "Выделим гиперпараметры для настройки модели:\n",
    "* `С` - инверсия силы регуляризации\n",
    "\n",
    "Критерием проверки качества модели будет `f1` и `roc_auc`."
   ]
  },
  {
   "cell_type": "code",
   "execution_count": 22,
   "id": "0f50fda1",
   "metadata": {},
   "outputs": [],
   "source": [
    "# в параметрах best_params_f1 и best_f1 будем хранить наилучшие параметры для модели и наивысшую f1 метрику соответственно\n",
    "best_params_f1 = []\n",
    "best_f1 = 0\n",
    "# аналогично для roc_auc метрики.\n",
    "best_params_roc_auc = []\n",
    "best_roc_auc = 0.5\n",
    "\n",
    "# проходим в циклах по всем выбранным гиперпараметрам\n",
    "for C in range(1, 100):\n",
    "    # инициация модели с текущими гиперпараметрами\n",
    "    model_lr_clf = LogisticRegression(random_state=123,\n",
    "                                      C=C,\n",
    "                                      max_iter=1000)\n",
    "    # обучение модели на тренировочной выборке\n",
    "    model_lr_clf.fit(X_train, y_train)\n",
    "    # поиск предсказаний модели на валидационной выбоке\n",
    "    predictions = model_lr_clf.predict(X_valid)\n",
    "\n",
    "    # вычисление f1 модели методом f1_score\n",
    "    f1 = f1_score(y_valid, predictions)\n",
    "    # если текущее значение метрики f1 выше предыдущего лучшего значения, \n",
    "    # сохраняем параметры модели и текущую метрику f1\n",
    "    if f1 > best_f1:\n",
    "        best_params_f1 = [C]\n",
    "        best_f1 = f1\n",
    "    # аналогично для метрики roc_auc\n",
    "    roc_auc = roc_auc_score(y_valid, predictions)\n",
    "    if roc_auc > best_roc_auc:\n",
    "        best_params_roc_auc = [C]\n",
    "        best_roc_auc = roc_auc"
   ]
  },
  {
   "cell_type": "code",
   "execution_count": 23,
   "id": "cc5bff96",
   "metadata": {},
   "outputs": [
    {
     "name": "stdout",
     "output_type": "stream",
     "text": [
      "Наилучшая метрика f1: 0.279\n",
      "Парамтеры модели:\n",
      "   C = 5 \n",
      "Наилучшая метрика roc_auc: 0.574\n",
      "Парамтеры модели:\n",
      "   C = 5 \n"
     ]
    }
   ],
   "source": [
    "# вывод наилучшей метрики f1 и параметров модели.\n",
    "print('''Наилучшая метрика f1: {}\n",
    "Парамтеры модели:\n",
    "   C = {} '''.format(round(best_f1, 3),\n",
    "                             best_params_f1[0]\n",
    "                            ))\n",
    "\n",
    "# вывод наилучшей метрики roc_auc и параметров модели.\n",
    "print('''Наилучшая метрика roc_auc: {}\n",
    "Парамтеры модели:\n",
    "   C = {} '''.format(round(best_roc_auc, 3),\n",
    "                             best_params_roc_auc[0]\n",
    "                            ))"
   ]
  },
  {
   "cell_type": "markdown",
   "id": "e9914944",
   "metadata": {},
   "source": [
    "* Наилучшая метрика f1 для логистической регрессии 0.28 (не достаточно по техническому заданию).\n",
    "* Наилучший результат по метрикам f1 и roc_auc достигается при одинаковой настройке гиперпараметров.\n",
    "* Попробуем улучшить результат на других моделях."
   ]
  },
  {
   "cell_type": "markdown",
   "id": "d42f8f0c",
   "metadata": {},
   "source": [
    "### 2.2 Решающее дерево\n",
    "\n",
    "Инициируем модель решающего дерева `DecisionTreeClassifier`.\n",
    "\n",
    "Выделим гиперпараметры для настройки модели:\n",
    "* `max_depth` - максимальная глубина древа\n",
    "* `min_samples_split` - минимальное количество объектов в узле\n",
    "* `min_samples_leaf` - минимальное количество объектов в листе\n",
    "* `criterion` (\"gini\" или \"entropy\") - функция измерения качества разделения\n",
    "\n",
    "Критерием проверки качества модели будет `f1` и `roc_auc`."
   ]
  },
  {
   "cell_type": "code",
   "execution_count": 24,
   "id": "64a48d8c",
   "metadata": {},
   "outputs": [],
   "source": [
    "def decision_tree(X_train, X_valid, y_train, y_valid, cw=None):\n",
    "    \"\"\"\n",
    "    input: X_train, X_valid, y_train, y_valid - обучающие и валидационные выборки признаков и целевого признака\n",
    "            cw - параметр class_weight для модели решающего дерева\n",
    "    output: None\n",
    "    description: функция обучает модель решающего дерева DecisionTreeClassifier с различными сочетаниями гиперпараметров;\n",
    "                 метрики качества модели: f1 и roc_auc;\n",
    "                 функция выводит наилучшие значения метрик и значения гиперпараметров наилучшей модели.\n",
    "    \"\"\"\n",
    "    # в параметрах best_params_f1 и best_f1 будем хранить наилучшие параметры для модели и наивысшую f1 метрику соответственно\n",
    "    best_params_f1 = []\n",
    "    best_f1 = 0\n",
    "    # аналогично для roc_auc метрики.\n",
    "    best_params_roc_auc = []\n",
    "    best_roc_auc = 0.5\n",
    "    # проходим в циклах по всем выбранным гиперпараметрам\n",
    "    for max_depth in range(2,10):\n",
    "        for min_samples_split in range(2,6):\n",
    "            for min_samples_leaf in range(1,10):\n",
    "                for criterion in ['gini', 'entropy']:\n",
    "                    # инициация модели с текущими гиперпараметрами\n",
    "                    model_dt_clf = DecisionTreeClassifier(random_state=123,\n",
    "                                                          max_depth=max_depth,\n",
    "                                                          min_samples_split=min_samples_split,\n",
    "                                                          min_samples_leaf=min_samples_leaf,\n",
    "                                                          criterion=criterion,\n",
    "                                                          class_weight=cw)\n",
    "                    # обучение модели на тренировочной выборке\n",
    "                    model_dt_clf.fit(X_train, y_train)\n",
    "                    # поиск предсказаний модели на валидационной выбоке\n",
    "                    predictions = model_dt_clf.predict(X_valid)\n",
    "                    # вычисление f1 модели методом f1_score\n",
    "                    f1 = f1_score(y_valid, predictions)\n",
    "                    # если текущее значение метрики f1 выше предыдущего лучшего значения, \n",
    "                    # сохраняем параметры модели и текущую метрику f1\n",
    "                    if f1 > best_f1:\n",
    "                        best_params_f1 = [max_depth, min_samples_split, min_samples_leaf, criterion]\n",
    "                        best_f1 = f1\n",
    "                    # аналогично для метрики roc_auc\n",
    "                    roc_auc = roc_auc_score(y_valid, predictions)\n",
    "                    if roc_auc > best_roc_auc:\n",
    "                        best_params_roc_auc = [max_depth, min_samples_split, min_samples_leaf, criterion]\n",
    "                        best_roc_auc = roc_auc\n",
    "    \n",
    "    # вывод наилучшей метрики f1 и параметров модели.\n",
    "    print('''Наилучшая метрика f1: {}\n",
    "    Парамтеры модели:\n",
    "       max_depth = {}\n",
    "       min_samples_split = {}\n",
    "       min_samples_leaf = {}\n",
    "       criterion = {} \\n'''.format(round(best_f1, 3),\n",
    "                                 best_params_f1[0],\n",
    "                                 best_params_f1[1],\n",
    "                                 best_params_f1[2],\n",
    "                                 best_params_f1[3]\n",
    "                                ))\n",
    "    \n",
    "    # вывод наилучшей метрики roc_auc и параметров модели.\n",
    "    print('''Наилучшая метрика roc_auc: {}\n",
    "    Парамтеры модели:\n",
    "       max_depth = {}\n",
    "       min_samples_split = {}\n",
    "       min_samples_leaf = {}\n",
    "       criterion = {} '''.format(round(best_roc_auc, 3),\n",
    "                                 best_params_roc_auc[0],\n",
    "                                 best_params_roc_auc[1],\n",
    "                                 best_params_roc_auc[2],\n",
    "                                 best_params_roc_auc[3]\n",
    "                                ))"
   ]
  },
  {
   "cell_type": "code",
   "execution_count": 25,
   "id": "1ba652a0",
   "metadata": {},
   "outputs": [
    {
     "name": "stdout",
     "output_type": "stream",
     "text": [
      "Наилучшая метрика f1: 0.569\n",
      "    Парамтеры модели:\n",
      "       max_depth = 5\n",
      "       min_samples_split = 2\n",
      "       min_samples_leaf = 4\n",
      "       criterion = gini \n",
      "\n",
      "Наилучшая метрика roc_auc: 0.711\n",
      "    Парамтеры модели:\n",
      "       max_depth = 5\n",
      "       min_samples_split = 2\n",
      "       min_samples_leaf = 4\n",
      "       criterion = gini \n"
     ]
    }
   ],
   "source": [
    "decision_tree(X_train, X_valid, y_train, y_valid)"
   ]
  },
  {
   "cell_type": "markdown",
   "id": "1938110a",
   "metadata": {},
   "source": [
    "* Наилучшая метрика f1 для решающего дерева 0.57 (не достаточно по техническому заданию).\n",
    "* Наилучший результат по метрикам f1 и roc_auc достигается при одинаковой настройке гиперпараметров.\n",
    "* Попробуем улучшить результат на других моделях"
   ]
  },
  {
   "cell_type": "markdown",
   "id": "8ef96a1b",
   "metadata": {},
   "source": [
    "### 2.3 Случайный лес\n",
    "\n",
    "Инициируем модель решающего дерева `RandomForestClassifier`.\n",
    "\n",
    "Выделим гиперпараметры для настройки модели:\n",
    "* `n_estimators` - количество деревьев\n",
    "* `max_depth` - максимальная глубина древа\n",
    "* `min_samples_split` - минимальное количество объектов в узле\n",
    "* `min_samples_leaf` - минимальное количество объектов в листе\n",
    "\n",
    "Критерием проверки качества модели будет `f1` и `roc_auc`."
   ]
  },
  {
   "cell_type": "code",
   "execution_count": 26,
   "id": "c2e7b9d4",
   "metadata": {},
   "outputs": [],
   "source": [
    "def random_forest(X_train, X_valid, y_train, y_valid, cw=None):\n",
    "    \"\"\"\n",
    "    input: X_train, X_valid, y_train, y_valid - обучающие и валидационные выборки признаков и целевого признака\n",
    "            cw - параметр class_weight для модели случайного леса\n",
    "    output: None\n",
    "    description: функция обучает модель решающего дерева RandomForestClassifier с различными сочетаниями гиперпараметров;\n",
    "                 метрики качества модели: f1 и roc_auc;\n",
    "                 функция выводит наилучшие значения метрик и значения гиперпараметров наилучшей модели.\n",
    "    \"\"\"\n",
    "    # в параметрах best_params_f1 и best_f1 будем хранить наилучшие параметры для модели и наивысшую f1 метрику соответственно\n",
    "    best_params_f1 = []\n",
    "    best_f1 = 0\n",
    "    # аналогично для roc_auc метрики.\n",
    "    best_params_roc_auc = []\n",
    "    best_roc_auc = 0.5\n",
    "    # проходим в циклах по всем выбранным гиперпараметрам\n",
    "    for n_estimators in range(30,40):\n",
    "        for max_depth in range(12,17,2):\n",
    "            for min_samples_split in range(2,5):\n",
    "                for min_samples_leaf in range(1,4):\n",
    "                    # инициация модели с текущими гиперпараметрами\n",
    "                    model_rf_clf = RandomForestClassifier(random_state=123,\n",
    "                                                          n_estimators=n_estimators,\n",
    "                                                          max_depth=max_depth,\n",
    "                                                          min_samples_split=min_samples_split,\n",
    "                                                          min_samples_leaf=min_samples_leaf, \n",
    "                                                          class_weight=cw)\n",
    "                    # обучение модели на тренировочной выборке\n",
    "                    model_rf_clf.fit(X_train, y_train)\n",
    "                    # поиск предсказаний модели на валидационной выбоке\n",
    "                    predictions = model_rf_clf.predict(X_valid)\n",
    "\n",
    "                    # вычисление f1 модели методом f1_score\n",
    "                    f1 = f1_score(y_valid, predictions)\n",
    "                    # если текущее значение метрики f1 выше предыдущего лучшего значения, \n",
    "                    # сохраняем параметры модели и текущую метрику f1\n",
    "                    if f1 > best_f1:\n",
    "                        best_params_f1 = [n_estimators, max_depth, min_samples_split, min_samples_leaf]\n",
    "                        best_f1 = f1\n",
    "                    # аналогично для метрики roc_auc\n",
    "                    roc_auc = roc_auc_score(y_valid, predictions)\n",
    "                    if roc_auc > best_roc_auc:\n",
    "                        best_params_roc_auc = [n_estimators, max_depth, min_samples_split, min_samples_leaf]\n",
    "                        best_roc_auc = roc_auc\n",
    "\n",
    "    # вывод наилучшей метрики f1 и параметров модели.\n",
    "    print('''Наилучшая метрика f1: {}\n",
    "    Парамтеры модели:\n",
    "       n_estimators = {}\n",
    "       max_depth = {}\n",
    "       min_samples_split = {}\n",
    "       min_samples_leaf = {} \\n'''.format(round(best_f1, 3),\n",
    "                                 best_params_f1[0],\n",
    "                                 best_params_f1[1],\n",
    "                                 best_params_f1[2],\n",
    "                                 best_params_f1[3]\n",
    "                                ))\n",
    "\n",
    "    # вывод наилучшей метрики roc_auc и параметров модели.\n",
    "    print('''Наилучшая метрика roc_auc: {}\n",
    "    Парамтеры модели:\n",
    "       n_estimators = {}\n",
    "       max_depth = {}\n",
    "       min_samples_split = {}\n",
    "       min_samples_leaf = {} '''.format(round(best_roc_auc, 3),\n",
    "                                 best_params_roc_auc[0],\n",
    "                                 best_params_roc_auc[1],\n",
    "                                 best_params_roc_auc[2],\n",
    "                                 best_params_roc_auc[3]\n",
    "                                ))"
   ]
  },
  {
   "cell_type": "code",
   "execution_count": 27,
   "id": "4dbb94c2",
   "metadata": {},
   "outputs": [
    {
     "name": "stdout",
     "output_type": "stream",
     "text": [
      "Наилучшая метрика f1: 0.575\n",
      "    Парамтеры модели:\n",
      "       n_estimators = 30\n",
      "       max_depth = 16\n",
      "       min_samples_split = 2\n",
      "       min_samples_leaf = 3 \n",
      "\n",
      "Наилучшая метрика roc_auc: 0.707\n",
      "    Парамтеры модели:\n",
      "       n_estimators = 30\n",
      "       max_depth = 16\n",
      "       min_samples_split = 2\n",
      "       min_samples_leaf = 3 \n"
     ]
    }
   ],
   "source": [
    "random_forest(X_train, X_valid, y_train, y_valid)"
   ]
  },
  {
   "cell_type": "markdown",
   "id": "8b961601",
   "metadata": {},
   "source": [
    "* Наилучшая метрика f1 для случайного леса 0.58 (не достаточно по техническому заданию).\n",
    "* Наилучший результат по метрикам f1 и roc_auc достигается при одинаковой настройке гиперпараметров.\n",
    "* Попробуем улучшить результат на других моделях."
   ]
  },
  {
   "cell_type": "markdown",
   "id": "096f6d4e",
   "metadata": {},
   "source": [
    "### 2.4 Метод ближайших соседей "
   ]
  },
  {
   "cell_type": "code",
   "execution_count": 28,
   "id": "938c8734",
   "metadata": {},
   "outputs": [],
   "source": [
    "# в параметрах best_params_f1 и best_f1 будем хранить наилучшие параметры для модели и наивысшую f1 метрику соответственно\n",
    "best_params_f1 = []\n",
    "best_f1 = 0\n",
    "# аналогично для roc_auc метрики.\n",
    "best_params_roc_auc = []\n",
    "best_roc_auc = 0.5\n",
    "\n",
    "# проходим в циклах по всем выбранным гиперпараметрам\n",
    "for n_neighbors in range(1, 10):\n",
    "    # инициация модели с текущими гиперпараметрами\n",
    "    model_kn_clf = KNeighborsClassifier(n_neighbors=n_neighbors)\n",
    "    # обучение модели на тренировочной выборке\n",
    "    model_kn_clf.fit(X_train, y_train)\n",
    "    # поиск предсказаний модели на валидационной выбоке\n",
    "    predictions = model_kn_clf.predict(X_valid)\n",
    "\n",
    "    # вычисление f1 модели методом f1_score\n",
    "    f1 = f1_score(y_valid, predictions)\n",
    "    # если текущее значение метрики f1 выше предыдущего лучшего значения, \n",
    "    # сохраняем параметры модели и текущую метрику f1\n",
    "    if f1 > best_f1:\n",
    "        best_params_f1 = [n_neighbors]\n",
    "        best_f1 = f1\n",
    "    # аналогично для метрики roc_auc\n",
    "    roc_auc = roc_auc_score(y_valid, predictions)\n",
    "    if roc_auc > best_roc_auc:\n",
    "        best_params_roc_auc = [n_neighbors]\n",
    "        best_roc_auc = roc_auc"
   ]
  },
  {
   "cell_type": "code",
   "execution_count": 29,
   "id": "2e158481",
   "metadata": {},
   "outputs": [
    {
     "name": "stdout",
     "output_type": "stream",
     "text": [
      "Наилучшая метрика f1: 0.497\n",
      "Парамтеры модели:\n",
      "   n_neighbors = 7 \n",
      "Наилучшая метрика roc_auc: 0.669\n",
      "Парамтеры модели:\n",
      "   n_neighbors = 7 \n"
     ]
    }
   ],
   "source": [
    "# вывод наилучшей метрики f1 и параметров модели.\n",
    "print('''Наилучшая метрика f1: {}\n",
    "Парамтеры модели:\n",
    "   n_neighbors = {} '''.format(round(best_f1, 3),\n",
    "                               best_params_f1[0]\n",
    "                              ))\n",
    "\n",
    "# вывод наилучшей метрики roc_auc и параметров модели.\n",
    "print('''Наилучшая метрика roc_auc: {}\n",
    "Парамтеры модели:\n",
    "   n_neighbors = {} '''.format(round(best_roc_auc, 3),\n",
    "                               best_params_roc_auc[0]\n",
    "                              ))"
   ]
  },
  {
   "cell_type": "markdown",
   "id": "46070674",
   "metadata": {},
   "source": [
    "* Наилучшая метрика f1 для логистической регрессии 0.50 (не достаточно по техническому заданию).\n",
    "* Наилучший результат по метрикам f1 и roc_auc достигается при одинаковой настройке гиперпараметров.\n",
    "* Попробуем улучшить результат, разобравшись с дисбалансом классов."
   ]
  },
  {
   "cell_type": "markdown",
   "id": "bdf07c19",
   "metadata": {},
   "source": [
    "## 3. Борьба с дисбалансом"
   ]
  },
  {
   "cell_type": "markdown",
   "id": "c7e1ea30",
   "metadata": {},
   "source": [
    "* Соотношение значений целевого признака 4:1 (для классов 0 и 1 соответственно)\n",
    "* Для борьбы с дисбалансом классов попробуем:\n",
    "    * взвешивание классов (class_weight='balanced')\n",
    "    * увеличение выборки положительного класса (upsampling)\n",
    "    * уменьшение выборки отрицательного класса (downsampling)\n",
    "* Результаты проверим на моделях решающего дерева и случайного леса (они дали наилучший результат при начальном исследовании)."
   ]
  },
  {
   "cell_type": "markdown",
   "id": "057cdd1f",
   "metadata": {},
   "source": [
    "### 3.1 Взвешивание классов"
   ]
  },
  {
   "cell_type": "markdown",
   "id": "5b057432",
   "metadata": {},
   "source": [
    "**1) Решающее дерево**"
   ]
  },
  {
   "cell_type": "code",
   "execution_count": 30,
   "id": "5154e2fa",
   "metadata": {},
   "outputs": [
    {
     "name": "stdout",
     "output_type": "stream",
     "text": [
      "Наилучшая метрика f1: 0.565\n",
      "    Парамтеры модели:\n",
      "       max_depth = 8\n",
      "       min_samples_split = 2\n",
      "       min_samples_leaf = 9\n",
      "       criterion = gini \n",
      "\n",
      "Наилучшая метрика roc_auc: 0.751\n",
      "    Парамтеры модели:\n",
      "       max_depth = 6\n",
      "       min_samples_split = 2\n",
      "       min_samples_leaf = 8\n",
      "       criterion = gini \n"
     ]
    }
   ],
   "source": [
    "decision_tree(X_train, X_valid, y_train, y_valid, cw='balanced')"
   ]
  },
  {
   "cell_type": "markdown",
   "id": "eaee0220",
   "metadata": {},
   "source": [
    "* Взвешивание классов не дало прироста в метрике f1 на решающем дереве.\n",
    "* Метрика roc_auc увеличилась на **0.04**.\n",
    "* Отметим, что в данном случае наилучшие значения метрик f1 и roc_auc достигаются при различных настройках гиперпараметров."
   ]
  },
  {
   "cell_type": "markdown",
   "id": "da0c649f",
   "metadata": {},
   "source": [
    "---\n",
    "\n",
    "**2) Случайный лес**"
   ]
  },
  {
   "cell_type": "code",
   "execution_count": 31,
   "id": "cdcd12cf",
   "metadata": {
    "scrolled": true
   },
   "outputs": [
    {
     "name": "stdout",
     "output_type": "stream",
     "text": [
      "Наилучшая метрика f1: 0.628\n",
      "    Парамтеры модели:\n",
      "       n_estimators = 38\n",
      "       max_depth = 14\n",
      "       min_samples_split = 2\n",
      "       min_samples_leaf = 2 \n",
      "\n",
      "Наилучшая метрика roc_auc: 0.756\n",
      "    Парамтеры модели:\n",
      "       n_estimators = 38\n",
      "       max_depth = 14\n",
      "       min_samples_split = 2\n",
      "       min_samples_leaf = 2 \n"
     ]
    }
   ],
   "source": [
    "random_forest(X_train, X_valid, y_train, y_valid, cw='balanced')"
   ]
  },
  {
   "cell_type": "markdown",
   "id": "8cf29a35",
   "metadata": {},
   "source": [
    "* Метрика f1 для модели \"Случайный лес\" достигла значения **0.63** на сбалансированной выборке, что удовлетворяет условию технического задания (>0.59).\n",
    "* Метрика roc_auc увеличилась на **0.05**.\n",
    "* Наилучшие значения метрик f1 и roc_auc достигаются при различных настройках гиперпараметров."
   ]
  },
  {
   "cell_type": "markdown",
   "id": "7d39ea26",
   "metadata": {},
   "source": [
    "### 3.2 Upsampling и downsampling"
   ]
  },
  {
   "cell_type": "markdown",
   "id": "d52bd96d",
   "metadata": {},
   "source": [
    "* Для увеличения и уменьшения выборок воспользуемся методом `SMOTETomek` библиотеки `imblearn`. Этот метод увеличивает выборку класса меньшинства и уменьшает выборку класса большинства."
   ]
  },
  {
   "cell_type": "code",
   "execution_count": 32,
   "id": "17bc9cfe",
   "metadata": {},
   "outputs": [],
   "source": [
    "# делаем сэмплинг обучающей выборки методом 'SMOTETomek' библиотеки 'imblearn'\n",
    "smt = SMOTETomek(random_state=123)\n",
    "X_res, y_res = smt.fit_resample(X_train, y_train)"
   ]
  },
  {
   "cell_type": "markdown",
   "id": "beb3905f",
   "metadata": {},
   "source": [
    "**1) Решающее дерево**"
   ]
  },
  {
   "cell_type": "code",
   "execution_count": 33,
   "id": "693a8cc3",
   "metadata": {},
   "outputs": [
    {
     "name": "stdout",
     "output_type": "stream",
     "text": [
      "Наилучшая метрика f1: 0.59\n",
      "    Парамтеры модели:\n",
      "       max_depth = 5\n",
      "       min_samples_split = 2\n",
      "       min_samples_leaf = 1\n",
      "       criterion = gini \n",
      "\n",
      "Наилучшая метрика roc_auc: 0.749\n",
      "    Парамтеры модели:\n",
      "       max_depth = 5\n",
      "       min_samples_split = 2\n",
      "       min_samples_leaf = 1\n",
      "       criterion = gini \n"
     ]
    }
   ],
   "source": [
    "decision_tree(X_res, X_valid, y_res, y_valid)"
   ]
  },
  {
   "cell_type": "markdown",
   "id": "274e2bfa",
   "metadata": {},
   "source": [
    "---\n",
    "\n",
    "**2) Случайный лес**"
   ]
  },
  {
   "cell_type": "code",
   "execution_count": 34,
   "id": "45a94360",
   "metadata": {},
   "outputs": [
    {
     "name": "stdout",
     "output_type": "stream",
     "text": [
      "Наилучшая метрика f1: 0.596\n",
      "    Парамтеры модели:\n",
      "       n_estimators = 36\n",
      "       max_depth = 14\n",
      "       min_samples_split = 2\n",
      "       min_samples_leaf = 1 \n",
      "\n",
      "Наилучшая метрика roc_auc: 0.745\n",
      "    Парамтеры модели:\n",
      "       n_estimators = 36\n",
      "       max_depth = 14\n",
      "       min_samples_split = 2\n",
      "       min_samples_leaf = 1 \n"
     ]
    }
   ],
   "source": [
    "random_forest(X_res, X_valid, y_res, y_valid)"
   ]
  },
  {
   "cell_type": "markdown",
   "id": "d5ab3b19",
   "metadata": {},
   "source": [
    "* Метрика f1 для модели \"Случайный лес\" достигла значения **0.60** на сбалансированной выборке, что удовлетворяет условию технического задания (>0.59).\n",
    "* Для модели \"Решающее дерево\" метрика f1 также достигла минимально допустимого значения 0.59 (за меньшее время обучения).\n",
    "* Наилучшие значения метрик f1 и roc_auc достигаются при различных настройках гиперпараметров.\n",
    "* Стоит отметить, что максимальное значение метрики roc_auc для решающего дерева **0.749** немного выше, чем для случайного леса **0.745**."
   ]
  },
  {
   "cell_type": "markdown",
   "id": "9f410736",
   "metadata": {},
   "source": [
    "**Выводы**\n",
    "\n",
    "* Взвешивание классов с помощью параметра `class_weight` дало максимальное увеличение метрики f1 для модели \"Случайный лес\".\n",
    "* Upsampling положительного класса и downsampling отрицательного класса дали необходимый прирост метрики f1 для модели \"Случайный лес\", однако меньше, чем при взвешивани классов.\n",
    "* Необходимое качество на валидационной выборке получила модель:\n",
    "    * Случайный лес:\n",
    "        * f1 = 0.628\n",
    "        * n_estimators = 38\n",
    "        * max_depth = 14\n",
    "        * min_samples_split = 2\n",
    "        * min_samples_leaf = 2 "
   ]
  },
  {
   "cell_type": "markdown",
   "id": "236dd66d",
   "metadata": {},
   "source": [
    "## 4. Тестирование модели\n",
    "\n",
    "* Проведём обучение полученной модели на всех доступных данных (обучающие + валидационные), сбалансировав классы с помощью взвешивания классов (class_weight='balanced').\n",
    "* Вычислим метрики f1 и roc_auc на тестовой выборке."
   ]
  },
  {
   "cell_type": "code",
   "execution_count": 35,
   "id": "ea4a87cb",
   "metadata": {},
   "outputs": [],
   "source": [
    "# Перед тестом проводим масштабирование обобщенной выборки (обучающие + валидационные)\n",
    "scaler.fit(X[numerics])\n",
    "X[numerics] = scaler.transform(X[numerics])"
   ]
  },
  {
   "cell_type": "code",
   "execution_count": 36,
   "id": "0821dd24",
   "metadata": {},
   "outputs": [
    {
     "name": "stdout",
     "output_type": "stream",
     "text": [
      " f1 = 0.63, \n",
      " roc_auc = 0.76\n"
     ]
    }
   ],
   "source": [
    "model_rfc_final = RandomForestClassifier(random_state=123,\n",
    "                                         n_estimators=38,\n",
    "                                         max_depth=14,\n",
    "                                         min_samples_split=2,\n",
    "                                         min_samples_leaf=2,\n",
    "                                         class_weight='balanced')\n",
    "model_rfc_final.fit(X, y)\n",
    "predictions = model_rfc_final.predict(X_test)\n",
    "f1 = f1_score(y_test, predictions)\n",
    "roc_auc = roc_auc_score(y_test, predictions)\n",
    "print(' f1 = {}, \\n roc_auc = {}'.format(round(f1,2), round(roc_auc,2)))"
   ]
  },
  {
   "cell_type": "markdown",
   "id": "8ea430cd",
   "metadata": {},
   "source": [
    "**Выводы**\n",
    "\n",
    "* Удовлетворяющее техническому заданию значение метрики f1 (на тестовой выборке) удалось получить на модели \"Случайный лес\"\n",
    "    * Метрика f1 = 0.63\n",
    "    * Метрика roc_auc = 0.76"
   ]
  },
  {
   "cell_type": "markdown",
   "id": "f6e9fbe4",
   "metadata": {},
   "source": [
    "## 5. Общий вывод\n",
    "\n",
    "* Произведена предобработка данных.\n",
    "    * Числовые признаки приведены к стандартному виду. Категориальные признаки преобразованы методом One-Hot Encoder.\n",
    "    * Попытка построить классификационную модель для заполнения пропусков В признаке `Tenure` не принесла существенных результатов (качество модели 11%, при случайном заполнении 9%). Данный признак преобразован прямым кодированием One-Hot Encoder.\n",
    "* Проведён анализ моделей без учёта дисбаланса классов.\n",
    "    * Целевой признак распределён в сооотношении **4:1**.\n",
    "    * Исходные данные разделены на обучающую, валидационную и тестовую выборки в соотношении 3:1:1 соответственно.\n",
    "    * Обучены модели \"Решающее Дерево\", \"Случайный лес\", \"Логистическая Регрессия\" и \"Метод ближайших соседей\" без учёта дисбаланса классов. Максимальное значение метрики **f1 = 0.58** получено при обучении модели случайного леса.\n",
    "    * Качество моделей также оценено по метрике roc_auc. Максимальное значение метрики **roc_auc = 0.711** достигнуто при обучении модели решающего дерева.\n",
    "    * Метрики f1 и roc_auc достигли максимальных значений при одинаковых настройках гиперпараметров.\n",
    "* Проведён анализ дисбаланса классов\n",
    "    * Взвешивание классов с помощью параметра `class_weight` дало максимальное увеличение метрики f1 для модели \"Случайный лес\".\n",
    "    * Upsampling положительного класса и downsampling отрицательного класса дали необходимый прирост метрики f1 для модели \"Случайный лес\", однако меньше, чем при взвешивани классов.\n",
    "    * Необходимое качество **на валидационной выборке** получила модель:\n",
    "        * **Случайный лес:**\n",
    "            * **f1 = 0.628**\n",
    "            * **n_estimators = 38**\n",
    "            * **max_depth = 14**\n",
    "            * **min_samples_split = 2**\n",
    "            * **min_samples_leaf = 2**\n",
    "* Проведено тестирование полученных моделей на тестовой выборке:\n",
    "    * Значение метрики **f1 на тестовой выборке**:\n",
    "        * **f1 = 0.63**\n",
    "        * **roc_auc = 0.76**"
   ]
  }
 ],
 "metadata": {
  "ExecuteTimeLog": [
   {
    "duration": 2194,
    "start_time": "2022-05-19T12:41:11.116Z"
   },
   {
    "duration": 149,
    "start_time": "2022-05-19T12:41:13.312Z"
   },
   {
    "duration": 31,
    "start_time": "2022-05-19T12:41:38.366Z"
   },
   {
    "duration": 11,
    "start_time": "2022-05-19T12:41:56.253Z"
   },
   {
    "duration": 5,
    "start_time": "2022-05-19T12:41:57.634Z"
   },
   {
    "duration": 15,
    "start_time": "2022-05-19T12:42:20.143Z"
   },
   {
    "duration": 11,
    "start_time": "2022-05-19T12:43:35.118Z"
   },
   {
    "duration": 7,
    "start_time": "2022-05-19T12:44:15.009Z"
   },
   {
    "duration": 5,
    "start_time": "2022-05-19T12:44:15.568Z"
   },
   {
    "duration": 4,
    "start_time": "2022-05-19T12:44:16.020Z"
   },
   {
    "duration": 17,
    "start_time": "2022-05-19T12:45:55.491Z"
   },
   {
    "duration": 15,
    "start_time": "2022-05-19T12:45:57.219Z"
   },
   {
    "duration": 1087,
    "start_time": "2022-05-19T12:46:28.477Z"
   },
   {
    "duration": 6,
    "start_time": "2022-05-19T12:47:09.941Z"
   },
   {
    "duration": 8,
    "start_time": "2022-05-19T12:47:12.265Z"
   },
   {
    "duration": 5,
    "start_time": "2022-05-19T12:47:12.760Z"
   },
   {
    "duration": 54816,
    "start_time": "2022-05-19T12:47:49.902Z"
   },
   {
    "duration": 95,
    "start_time": "2022-05-19T12:48:44.720Z"
   },
   {
    "duration": 232,
    "start_time": "2022-05-19T12:53:18.926Z"
   },
   {
    "duration": 1483,
    "start_time": "2022-05-19T17:45:18.603Z"
   },
   {
    "duration": 0,
    "start_time": "2022-05-19T17:45:20.088Z"
   },
   {
    "duration": 0,
    "start_time": "2022-05-19T17:45:20.090Z"
   },
   {
    "duration": 0,
    "start_time": "2022-05-19T17:45:20.091Z"
   },
   {
    "duration": 0,
    "start_time": "2022-05-19T17:45:20.093Z"
   },
   {
    "duration": 0,
    "start_time": "2022-05-19T17:45:20.095Z"
   },
   {
    "duration": 0,
    "start_time": "2022-05-19T17:45:20.096Z"
   },
   {
    "duration": 0,
    "start_time": "2022-05-19T17:45:20.098Z"
   },
   {
    "duration": 0,
    "start_time": "2022-05-19T17:45:20.099Z"
   },
   {
    "duration": 0,
    "start_time": "2022-05-19T17:45:20.101Z"
   },
   {
    "duration": 58,
    "start_time": "2022-05-19T17:46:43.678Z"
   },
   {
    "duration": 32,
    "start_time": "2022-05-19T17:46:50.112Z"
   },
   {
    "duration": 29,
    "start_time": "2022-05-19T17:46:57.291Z"
   },
   {
    "duration": 42,
    "start_time": "2022-05-19T17:47:34.057Z"
   },
   {
    "duration": 33,
    "start_time": "2022-05-19T17:47:43.918Z"
   },
   {
    "duration": 65,
    "start_time": "2022-05-19T17:48:07.878Z"
   },
   {
    "duration": 5173,
    "start_time": "2022-05-19T17:48:10.653Z"
   },
   {
    "duration": 6231,
    "start_time": "2022-05-19T17:48:36.997Z"
   },
   {
    "duration": 1142,
    "start_time": "2022-05-19T17:48:49.977Z"
   },
   {
    "duration": 1086,
    "start_time": "2022-05-19T17:49:04.550Z"
   },
   {
    "duration": 69,
    "start_time": "2022-05-19T17:49:08.009Z"
   },
   {
    "duration": 54,
    "start_time": "2022-05-19T17:49:10.439Z"
   },
   {
    "duration": 20,
    "start_time": "2022-05-19T17:49:13.489Z"
   },
   {
    "duration": 6,
    "start_time": "2022-05-19T17:49:14.593Z"
   },
   {
    "duration": 13,
    "start_time": "2022-05-19T17:49:18.211Z"
   },
   {
    "duration": 13,
    "start_time": "2022-05-19T17:49:29.193Z"
   },
   {
    "duration": 6,
    "start_time": "2022-05-19T17:49:30.687Z"
   },
   {
    "duration": 7,
    "start_time": "2022-05-19T17:49:36.751Z"
   },
   {
    "duration": 9,
    "start_time": "2022-05-19T17:49:37.821Z"
   },
   {
    "duration": 12,
    "start_time": "2022-05-19T17:49:51.840Z"
   },
   {
    "duration": 76712,
    "start_time": "2022-05-19T17:49:56.338Z"
   },
   {
    "duration": 6,
    "start_time": "2022-05-19T17:51:13.054Z"
   },
   {
    "duration": 62,
    "start_time": "2022-05-19T17:51:13.062Z"
   },
   {
    "duration": 12,
    "start_time": "2022-05-19T17:51:13.127Z"
   },
   {
    "duration": 985,
    "start_time": "2022-05-19T17:51:13.141Z"
   },
   {
    "duration": 9,
    "start_time": "2022-05-19T17:51:14.129Z"
   },
   {
    "duration": 261,
    "start_time": "2022-05-19T17:52:54.122Z"
   },
   {
    "duration": 12,
    "start_time": "2022-05-19T17:53:01.080Z"
   },
   {
    "duration": 22,
    "start_time": "2022-05-19T17:53:06.628Z"
   },
   {
    "duration": 16,
    "start_time": "2022-05-19T17:53:46.455Z"
   },
   {
    "duration": 6,
    "start_time": "2022-05-19T17:53:53.928Z"
   },
   {
    "duration": 9,
    "start_time": "2022-05-19T18:00:32.088Z"
   },
   {
    "duration": 16,
    "start_time": "2022-05-19T18:00:36.796Z"
   },
   {
    "duration": 4035,
    "start_time": "2022-05-19T18:01:11.608Z"
   },
   {
    "duration": 1411,
    "start_time": "2022-05-19T18:01:15.646Z"
   },
   {
    "duration": 68,
    "start_time": "2022-05-19T18:01:17.061Z"
   },
   {
    "duration": 58,
    "start_time": "2022-05-19T18:01:17.132Z"
   },
   {
    "duration": 33,
    "start_time": "2022-05-19T18:01:17.192Z"
   },
   {
    "duration": 5,
    "start_time": "2022-05-19T18:01:17.227Z"
   },
   {
    "duration": 14,
    "start_time": "2022-05-19T18:01:17.234Z"
   },
   {
    "duration": 9,
    "start_time": "2022-05-19T18:01:17.251Z"
   },
   {
    "duration": 5,
    "start_time": "2022-05-19T18:01:17.263Z"
   },
   {
    "duration": 10,
    "start_time": "2022-05-19T18:01:17.271Z"
   },
   {
    "duration": 43,
    "start_time": "2022-05-19T18:01:17.283Z"
   },
   {
    "duration": 20,
    "start_time": "2022-05-19T18:01:17.328Z"
   },
   {
    "duration": 80100,
    "start_time": "2022-05-19T18:01:17.350Z"
   },
   {
    "duration": 5,
    "start_time": "2022-05-19T18:02:37.452Z"
   },
   {
    "duration": 19,
    "start_time": "2022-05-19T18:02:37.459Z"
   },
   {
    "duration": 16,
    "start_time": "2022-05-19T18:02:37.480Z"
   },
   {
    "duration": 470,
    "start_time": "2022-05-19T18:02:37.499Z"
   },
   {
    "duration": 8,
    "start_time": "2022-05-19T18:02:37.973Z"
   },
   {
    "duration": 18,
    "start_time": "2022-05-19T18:02:37.983Z"
   },
   {
    "duration": 24,
    "start_time": "2022-05-19T18:02:38.003Z"
   },
   {
    "duration": 5,
    "start_time": "2022-05-19T18:02:38.029Z"
   },
   {
    "duration": 9,
    "start_time": "2022-05-19T18:02:38.036Z"
   },
   {
    "duration": 15784,
    "start_time": "2022-05-19T18:02:38.046Z"
   },
   {
    "duration": 93,
    "start_time": "2022-05-19T18:02:53.832Z"
   },
   {
    "duration": 10,
    "start_time": "2022-05-19T18:02:53.927Z"
   },
   {
    "duration": 10440,
    "start_time": "2022-05-19T18:02:53.939Z"
   },
   {
    "duration": 9,
    "start_time": "2022-05-19T18:03:04.380Z"
   },
   {
    "duration": 54963,
    "start_time": "2022-05-19T18:03:04.392Z"
   },
   {
    "duration": 1177,
    "start_time": "2022-05-19T18:03:59.356Z"
   },
   {
    "duration": 5,
    "start_time": "2022-05-19T18:04:00.535Z"
   },
   {
    "duration": 11070,
    "start_time": "2022-05-19T18:04:00.541Z"
   },
   {
    "duration": 54952,
    "start_time": "2022-05-19T18:04:11.613Z"
   },
   {
    "duration": 493,
    "start_time": "2022-05-19T18:05:06.567Z"
   },
   {
    "duration": 19142,
    "start_time": "2022-05-19T18:05:07.063Z"
   },
   {
    "duration": 91499,
    "start_time": "2022-05-19T18:05:26.210Z"
   },
   {
    "duration": 254,
    "start_time": "2022-05-19T18:06:57.710Z"
   },
   {
    "duration": 314,
    "start_time": "2022-05-19T18:14:35.073Z"
   },
   {
    "duration": 6,
    "start_time": "2022-05-19T19:20:55.216Z"
   },
   {
    "duration": 26,
    "start_time": "2022-05-19T19:21:52.950Z"
   },
   {
    "duration": 9,
    "start_time": "2022-05-19T19:22:07.077Z"
   },
   {
    "duration": 32,
    "start_time": "2022-05-19T19:22:12.750Z"
   },
   {
    "duration": 2427,
    "start_time": "2022-05-19T19:26:41.606Z"
   },
   {
    "duration": 1068,
    "start_time": "2022-05-19T19:26:44.036Z"
   },
   {
    "duration": 33,
    "start_time": "2022-05-19T19:26:45.107Z"
   },
   {
    "duration": 49,
    "start_time": "2022-05-19T19:26:45.142Z"
   },
   {
    "duration": 32,
    "start_time": "2022-05-19T19:26:45.193Z"
   },
   {
    "duration": 7,
    "start_time": "2022-05-19T19:26:45.227Z"
   },
   {
    "duration": 14,
    "start_time": "2022-05-19T19:26:45.238Z"
   },
   {
    "duration": 7,
    "start_time": "2022-05-19T19:26:45.255Z"
   },
   {
    "duration": 7,
    "start_time": "2022-05-19T19:26:45.265Z"
   },
   {
    "duration": 7,
    "start_time": "2022-05-19T19:26:45.276Z"
   },
   {
    "duration": 41,
    "start_time": "2022-05-19T19:26:45.286Z"
   },
   {
    "duration": 24,
    "start_time": "2022-05-19T19:26:45.329Z"
   },
   {
    "duration": 85161,
    "start_time": "2022-05-19T19:26:56.323Z"
   },
   {
    "duration": 4,
    "start_time": "2022-05-19T19:28:21.486Z"
   },
   {
    "duration": 16,
    "start_time": "2022-05-19T19:28:21.492Z"
   },
   {
    "duration": 23,
    "start_time": "2022-05-19T19:28:21.510Z"
   },
   {
    "duration": 577,
    "start_time": "2022-05-19T19:28:21.535Z"
   },
   {
    "duration": 6,
    "start_time": "2022-05-19T19:28:22.122Z"
   },
   {
    "duration": 5,
    "start_time": "2022-05-19T19:33:39.283Z"
   },
   {
    "duration": 2664,
    "start_time": "2022-05-19T19:37:58.360Z"
   },
   {
    "duration": 1265,
    "start_time": "2022-05-19T19:38:01.027Z"
   },
   {
    "duration": 50,
    "start_time": "2022-05-19T19:38:02.296Z"
   },
   {
    "duration": 48,
    "start_time": "2022-05-19T19:38:02.348Z"
   },
   {
    "duration": 25,
    "start_time": "2022-05-19T19:38:02.399Z"
   },
   {
    "duration": 8,
    "start_time": "2022-05-19T19:38:02.426Z"
   },
   {
    "duration": 19,
    "start_time": "2022-05-19T19:38:02.436Z"
   },
   {
    "duration": 7,
    "start_time": "2022-05-19T19:38:02.457Z"
   },
   {
    "duration": 8,
    "start_time": "2022-05-19T19:38:02.466Z"
   },
   {
    "duration": 6,
    "start_time": "2022-05-19T19:38:02.476Z"
   },
   {
    "duration": 9,
    "start_time": "2022-05-19T19:38:02.484Z"
   },
   {
    "duration": 33,
    "start_time": "2022-05-19T19:38:02.525Z"
   },
   {
    "duration": 83841,
    "start_time": "2022-05-19T19:38:02.561Z"
   },
   {
    "duration": 5,
    "start_time": "2022-05-19T19:39:26.406Z"
   },
   {
    "duration": 23,
    "start_time": "2022-05-19T19:39:26.413Z"
   },
   {
    "duration": 13,
    "start_time": "2022-05-19T19:39:26.438Z"
   },
   {
    "duration": 759,
    "start_time": "2022-05-19T19:39:26.452Z"
   },
   {
    "duration": 14,
    "start_time": "2022-05-19T19:39:27.215Z"
   },
   {
    "duration": 14,
    "start_time": "2022-05-19T19:39:27.234Z"
   },
   {
    "duration": 63,
    "start_time": "2022-05-19T19:39:27.251Z"
   },
   {
    "duration": 6,
    "start_time": "2022-05-19T19:39:27.326Z"
   },
   {
    "duration": 32589,
    "start_time": "2022-05-19T19:39:27.334Z"
   },
   {
    "duration": 6,
    "start_time": "2022-05-19T19:39:59.926Z"
   },
   {
    "duration": 103,
    "start_time": "2022-05-19T19:39:59.934Z"
   },
   {
    "duration": 13162,
    "start_time": "2022-05-19T19:40:00.040Z"
   },
   {
    "duration": 19,
    "start_time": "2022-05-19T19:40:13.204Z"
   },
   {
    "duration": 55700,
    "start_time": "2022-05-19T19:40:13.225Z"
   },
   {
    "duration": 1255,
    "start_time": "2022-05-19T19:41:08.928Z"
   },
   {
    "duration": 5,
    "start_time": "2022-05-19T19:41:10.185Z"
   },
   {
    "duration": 13245,
    "start_time": "2022-05-19T19:41:10.192Z"
   },
   {
    "duration": 57629,
    "start_time": "2022-05-19T19:41:23.438Z"
   },
   {
    "duration": 420,
    "start_time": "2022-05-19T19:42:21.069Z"
   },
   {
    "duration": 19552,
    "start_time": "2022-05-19T19:42:21.491Z"
   },
   {
    "duration": 88043,
    "start_time": "2022-05-19T19:42:41.045Z"
   },
   {
    "duration": 33,
    "start_time": "2022-05-19T19:44:09.090Z"
   },
   {
    "duration": 350,
    "start_time": "2022-05-19T19:44:09.126Z"
   },
   {
    "duration": 41,
    "start_time": "2022-05-19T19:48:55.019Z"
   },
   {
    "duration": 49,
    "start_time": "2022-05-19T19:49:00.892Z"
   }
  ],
  "kernelspec": {
   "display_name": "Python 3.10.5 64-bit",
   "language": "python",
   "name": "python3"
  },
  "language_info": {
   "codemirror_mode": {
    "name": "ipython",
    "version": 3
   },
   "file_extension": ".py",
   "mimetype": "text/x-python",
   "name": "python",
   "nbconvert_exporter": "python",
   "pygments_lexer": "ipython3",
   "version": "3.10.5"
  },
  "toc": {
   "base_numbering": 1,
   "nav_menu": {},
   "number_sections": true,
   "sideBar": true,
   "skip_h1_title": true,
   "title_cell": "Table of Contents",
   "title_sidebar": "Contents",
   "toc_cell": true,
   "toc_position": {
    "height": "calc(100% - 180px)",
    "left": "10px",
    "top": "150px",
    "width": "305.188px"
   },
   "toc_section_display": true,
   "toc_window_display": true
  },
  "vscode": {
   "interpreter": {
    "hash": "62108d3bcabba50a5551c94be0c58944c48365daffc285bf9efbbaced917d542"
   }
  }
 },
 "nbformat": 4,
 "nbformat_minor": 5
}
