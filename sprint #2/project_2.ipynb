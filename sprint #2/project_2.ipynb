{
 "cells": [
  {
   "cell_type": "markdown",
   "id": "0178458a",
   "metadata": {},
   "source": [
    "# Кредитный скоринг"
   ]
  },
  {
   "cell_type": "markdown",
   "id": "773724d8",
   "metadata": {},
   "source": [
    "Существует предположение:\n",
    "\n",
    "* семейное положение и наличие детей влияет на на факт погашения кредита в срок.\n",
    "\n",
    "По данным кредитного отдела банка проверим действительно ли такая взаимосвязь имеет место. Результаты исследования будут учтены при построении модели кредитного скоринга.\n",
    "\n",
    "**Цель исследования** — ответить на четыре вопроса:\n",
    "1. Есть ли зависимость между количеством детей и возвратом кредита в срок?\n",
    "2. Есть ли зависимость между семейным положением и возвратом кредита в срок?\n",
    "3. Есть ли зависимость между уровнем дохода и возвратом кредита в срок?\n",
    "4. Как разные цели кредита влияют на его возврат в срок?\n",
    "\n",
    "**Описание данных:**\n",
    "\n",
    "Данные о платежеспособности клиентов находятся в файле `data.csv`. О качестве данных ничего не известно. Поэтому перед началом анализа понадобится обзор данных. \n",
    "\n",
    "**Содержание исследования**:\n",
    " 1. Обзор данных.\n",
    " 2. Предобработка данных.\n",
    "    * 2.1 Аномальные значения\n",
    "    * 2.2 Пропуски значений\n",
    "    * 2.3 Изменение типов данных\n",
    "    * 2.4 Дубликаты\n",
    "    * 2.5 Категоризация данных\n",
    " 3. Ответы на вопросы.\n",
    " 4. Итоги исследования"
   ]
  },
  {
   "cell_type": "markdown",
   "id": "5e51c0e9",
   "metadata": {},
   "source": [
    "## 1. Обзор данных"
   ]
  },
  {
   "cell_type": "markdown",
   "id": "84e764a2",
   "metadata": {},
   "source": [
    "Импортируем библиотеку `pandas` для работы с данными и читаем файл `data.csv`."
   ]
  },
  {
   "cell_type": "code",
   "execution_count": 1,
   "id": "659512b9",
   "metadata": {},
   "outputs": [],
   "source": [
    "# импортируем библиотеку pandas и открываем файл с данными\n",
    "import pandas as pd\n",
    "\n",
    "try:\n",
    "    df = pd.read_csv('C:\\\\Users\\\\Anna\\\\Desktop\\\\Python\\\\Yandex Praktikum\\\\Datasets\\\\project_2\\\\data.csv')\n",
    "except:\n",
    "    df = pd.read_csv('/datasets/data.csv')"
   ]
  },
  {
   "cell_type": "markdown",
   "id": "27487b91",
   "metadata": {},
   "source": [
    "Выводим первые 10 строк таблицы, а также общую информацию о ней."
   ]
  },
  {
   "cell_type": "code",
   "execution_count": 2,
   "id": "1d22c253",
   "metadata": {},
   "outputs": [
    {
     "data": {
      "text/html": [
       "<div>\n",
       "<style scoped>\n",
       "    .dataframe tbody tr th:only-of-type {\n",
       "        vertical-align: middle;\n",
       "    }\n",
       "\n",
       "    .dataframe tbody tr th {\n",
       "        vertical-align: top;\n",
       "    }\n",
       "\n",
       "    .dataframe thead th {\n",
       "        text-align: right;\n",
       "    }\n",
       "</style>\n",
       "<table border=\"1\" class=\"dataframe\">\n",
       "  <thead>\n",
       "    <tr style=\"text-align: right;\">\n",
       "      <th></th>\n",
       "      <th>children</th>\n",
       "      <th>days_employed</th>\n",
       "      <th>dob_years</th>\n",
       "      <th>education</th>\n",
       "      <th>education_id</th>\n",
       "      <th>family_status</th>\n",
       "      <th>family_status_id</th>\n",
       "      <th>gender</th>\n",
       "      <th>income_type</th>\n",
       "      <th>debt</th>\n",
       "      <th>total_income</th>\n",
       "      <th>purpose</th>\n",
       "    </tr>\n",
       "  </thead>\n",
       "  <tbody>\n",
       "    <tr>\n",
       "      <th>0</th>\n",
       "      <td>1</td>\n",
       "      <td>-8437.673028</td>\n",
       "      <td>42</td>\n",
       "      <td>высшее</td>\n",
       "      <td>0</td>\n",
       "      <td>женат / замужем</td>\n",
       "      <td>0</td>\n",
       "      <td>F</td>\n",
       "      <td>сотрудник</td>\n",
       "      <td>0</td>\n",
       "      <td>253875.639453</td>\n",
       "      <td>покупка жилья</td>\n",
       "    </tr>\n",
       "    <tr>\n",
       "      <th>1</th>\n",
       "      <td>1</td>\n",
       "      <td>-4024.803754</td>\n",
       "      <td>36</td>\n",
       "      <td>среднее</td>\n",
       "      <td>1</td>\n",
       "      <td>женат / замужем</td>\n",
       "      <td>0</td>\n",
       "      <td>F</td>\n",
       "      <td>сотрудник</td>\n",
       "      <td>0</td>\n",
       "      <td>112080.014102</td>\n",
       "      <td>приобретение автомобиля</td>\n",
       "    </tr>\n",
       "    <tr>\n",
       "      <th>2</th>\n",
       "      <td>0</td>\n",
       "      <td>-5623.422610</td>\n",
       "      <td>33</td>\n",
       "      <td>Среднее</td>\n",
       "      <td>1</td>\n",
       "      <td>женат / замужем</td>\n",
       "      <td>0</td>\n",
       "      <td>M</td>\n",
       "      <td>сотрудник</td>\n",
       "      <td>0</td>\n",
       "      <td>145885.952297</td>\n",
       "      <td>покупка жилья</td>\n",
       "    </tr>\n",
       "    <tr>\n",
       "      <th>3</th>\n",
       "      <td>3</td>\n",
       "      <td>-4124.747207</td>\n",
       "      <td>32</td>\n",
       "      <td>среднее</td>\n",
       "      <td>1</td>\n",
       "      <td>женат / замужем</td>\n",
       "      <td>0</td>\n",
       "      <td>M</td>\n",
       "      <td>сотрудник</td>\n",
       "      <td>0</td>\n",
       "      <td>267628.550329</td>\n",
       "      <td>дополнительное образование</td>\n",
       "    </tr>\n",
       "    <tr>\n",
       "      <th>4</th>\n",
       "      <td>0</td>\n",
       "      <td>340266.072047</td>\n",
       "      <td>53</td>\n",
       "      <td>среднее</td>\n",
       "      <td>1</td>\n",
       "      <td>гражданский брак</td>\n",
       "      <td>1</td>\n",
       "      <td>F</td>\n",
       "      <td>пенсионер</td>\n",
       "      <td>0</td>\n",
       "      <td>158616.077870</td>\n",
       "      <td>сыграть свадьбу</td>\n",
       "    </tr>\n",
       "    <tr>\n",
       "      <th>5</th>\n",
       "      <td>0</td>\n",
       "      <td>-926.185831</td>\n",
       "      <td>27</td>\n",
       "      <td>высшее</td>\n",
       "      <td>0</td>\n",
       "      <td>гражданский брак</td>\n",
       "      <td>1</td>\n",
       "      <td>M</td>\n",
       "      <td>компаньон</td>\n",
       "      <td>0</td>\n",
       "      <td>255763.565419</td>\n",
       "      <td>покупка жилья</td>\n",
       "    </tr>\n",
       "    <tr>\n",
       "      <th>6</th>\n",
       "      <td>0</td>\n",
       "      <td>-2879.202052</td>\n",
       "      <td>43</td>\n",
       "      <td>высшее</td>\n",
       "      <td>0</td>\n",
       "      <td>женат / замужем</td>\n",
       "      <td>0</td>\n",
       "      <td>F</td>\n",
       "      <td>компаньон</td>\n",
       "      <td>0</td>\n",
       "      <td>240525.971920</td>\n",
       "      <td>операции с жильем</td>\n",
       "    </tr>\n",
       "    <tr>\n",
       "      <th>7</th>\n",
       "      <td>0</td>\n",
       "      <td>-152.779569</td>\n",
       "      <td>50</td>\n",
       "      <td>СРЕДНЕЕ</td>\n",
       "      <td>1</td>\n",
       "      <td>женат / замужем</td>\n",
       "      <td>0</td>\n",
       "      <td>M</td>\n",
       "      <td>сотрудник</td>\n",
       "      <td>0</td>\n",
       "      <td>135823.934197</td>\n",
       "      <td>образование</td>\n",
       "    </tr>\n",
       "    <tr>\n",
       "      <th>8</th>\n",
       "      <td>2</td>\n",
       "      <td>-6929.865299</td>\n",
       "      <td>35</td>\n",
       "      <td>ВЫСШЕЕ</td>\n",
       "      <td>0</td>\n",
       "      <td>гражданский брак</td>\n",
       "      <td>1</td>\n",
       "      <td>F</td>\n",
       "      <td>сотрудник</td>\n",
       "      <td>0</td>\n",
       "      <td>95856.832424</td>\n",
       "      <td>на проведение свадьбы</td>\n",
       "    </tr>\n",
       "    <tr>\n",
       "      <th>9</th>\n",
       "      <td>0</td>\n",
       "      <td>-2188.756445</td>\n",
       "      <td>41</td>\n",
       "      <td>среднее</td>\n",
       "      <td>1</td>\n",
       "      <td>женат / замужем</td>\n",
       "      <td>0</td>\n",
       "      <td>M</td>\n",
       "      <td>сотрудник</td>\n",
       "      <td>0</td>\n",
       "      <td>144425.938277</td>\n",
       "      <td>покупка жилья для семьи</td>\n",
       "    </tr>\n",
       "  </tbody>\n",
       "</table>\n",
       "</div>"
      ],
      "text/plain": [
       "   children  days_employed  dob_years education  education_id  \\\n",
       "0         1   -8437.673028         42    высшее             0   \n",
       "1         1   -4024.803754         36   среднее             1   \n",
       "2         0   -5623.422610         33   Среднее             1   \n",
       "3         3   -4124.747207         32   среднее             1   \n",
       "4         0  340266.072047         53   среднее             1   \n",
       "5         0    -926.185831         27    высшее             0   \n",
       "6         0   -2879.202052         43    высшее             0   \n",
       "7         0    -152.779569         50   СРЕДНЕЕ             1   \n",
       "8         2   -6929.865299         35    ВЫСШЕЕ             0   \n",
       "9         0   -2188.756445         41   среднее             1   \n",
       "\n",
       "      family_status  family_status_id gender income_type  debt   total_income  \\\n",
       "0   женат / замужем                 0      F   сотрудник     0  253875.639453   \n",
       "1   женат / замужем                 0      F   сотрудник     0  112080.014102   \n",
       "2   женат / замужем                 0      M   сотрудник     0  145885.952297   \n",
       "3   женат / замужем                 0      M   сотрудник     0  267628.550329   \n",
       "4  гражданский брак                 1      F   пенсионер     0  158616.077870   \n",
       "5  гражданский брак                 1      M   компаньон     0  255763.565419   \n",
       "6   женат / замужем                 0      F   компаньон     0  240525.971920   \n",
       "7   женат / замужем                 0      M   сотрудник     0  135823.934197   \n",
       "8  гражданский брак                 1      F   сотрудник     0   95856.832424   \n",
       "9   женат / замужем                 0      M   сотрудник     0  144425.938277   \n",
       "\n",
       "                      purpose  \n",
       "0               покупка жилья  \n",
       "1     приобретение автомобиля  \n",
       "2               покупка жилья  \n",
       "3  дополнительное образование  \n",
       "4             сыграть свадьбу  \n",
       "5               покупка жилья  \n",
       "6           операции с жильем  \n",
       "7                 образование  \n",
       "8       на проведение свадьбы  \n",
       "9     покупка жилья для семьи  "
      ]
     },
     "metadata": {},
     "output_type": "display_data"
    },
    {
     "name": "stdout",
     "output_type": "stream",
     "text": [
      "<class 'pandas.core.frame.DataFrame'>\n",
      "RangeIndex: 21525 entries, 0 to 21524\n",
      "Data columns (total 12 columns):\n",
      " #   Column            Non-Null Count  Dtype  \n",
      "---  ------            --------------  -----  \n",
      " 0   children          21525 non-null  int64  \n",
      " 1   days_employed     19351 non-null  float64\n",
      " 2   dob_years         21525 non-null  int64  \n",
      " 3   education         21525 non-null  object \n",
      " 4   education_id      21525 non-null  int64  \n",
      " 5   family_status     21525 non-null  object \n",
      " 6   family_status_id  21525 non-null  int64  \n",
      " 7   gender            21525 non-null  object \n",
      " 8   income_type       21525 non-null  object \n",
      " 9   debt              21525 non-null  int64  \n",
      " 10  total_income      19351 non-null  float64\n",
      " 11  purpose           21525 non-null  object \n",
      "dtypes: float64(2), int64(5), object(5)\n",
      "memory usage: 2.0+ MB\n"
     ]
    }
   ],
   "source": [
    "# выводим первые 10 строк таблицы и сводную информацию о ней\n",
    "display(df.head(10))\n",
    "df.info()"
   ]
  },
  {
   "cell_type": "markdown",
   "id": "a3191fb3",
   "metadata": {},
   "source": [
    "В таблице 12 столбцов, тип данных в таблице - `int64`, `float64` и `object`.\n",
    "\n",
    "Согласно документации к данным:\n",
    "* `children` — количество детей в семье;\n",
    "* `days_employed` — общий трудовой стаж в днях;  \n",
    "* `dob_years` — возраст клиента в годах;\n",
    "* `education` — уровень образования клиента;\n",
    "* `education_id` — идентификатор уровня образования;\n",
    "* `family_status` — семейное положение;\n",
    "* `family_status_id` — идентификатор семейного положения;\n",
    "* `gender` — пол клиента;\n",
    "* `income_type` — тип занятости;\n",
    "* `debt` — имел ли задолженность по возврату кредитов;\n",
    "* `total_income` — ежемесячный доход;\n",
    "* `purpose` — цель получения кредита.\n",
    "\n",
    "Количество значений в столбцах различается. Значит, в данных есть пропущенные значения. В колонке с показателем стажа `days_employed` имеются отрицательные значения, а также аномально завышенные значения, что очевидно является ошибкой. В колонке `education` встречаются неявные дубликаты. А по столбцу `total_income` используется тип данных `float`, его следует изменить на `int`."
   ]
  },
  {
   "cell_type": "markdown",
   "id": "77048a26",
   "metadata": {
    "id": "MCB6-dXG_Zct"
   },
   "source": [
    "**Выводы**\n",
    "    \n",
    "В каждой строке таблицы — данные о клиенте. Большая часть колонок характеризует самого клиента: количество детей, возраст, семейное положение, образование, стаж и доход, а также цель получения кредита. Есть колонки, которые присваивают отдельный идентификатор определенным характеристикам клиента. Например, наличие высшего образования обозначается цифрой 0, среднего - 1.\n",
    "\n",
    "Предварительно можно утверждать, что, данных достаточно для проверки гипотез. Но встречаются пропуски в данных, дубликаты, а также аномльные значения.\n",
    "\n",
    "Чтобы двигаться дальше, нужно устранить проблемы в данных.\n",
    "</div>"
   ]
  },
  {
   "cell_type": "markdown",
   "id": "50919302",
   "metadata": {},
   "source": [
    "## 2. Предобработка данных"
   ]
  },
  {
   "cell_type": "markdown",
   "id": "781db0da",
   "metadata": {},
   "source": [
    "### 2.1 Аномальные значения\n",
    "\n",
    "Сначала обработаем аномальные значения, так как при дальнейшей обработке данных (например, заполнении пропусков средними значениями), такие аномалии повлияют на результат."
   ]
  },
  {
   "cell_type": "markdown",
   "id": "99aea6ba",
   "metadata": {},
   "source": [
    "По столбцу с данными о стаже `days_employed` есть отрицательные значения. Предположим, что это техническая ошибка и такие значения должны быть взяты по модулю."
   ]
  },
  {
   "cell_type": "code",
   "execution_count": 3,
   "id": "2f71efe4",
   "metadata": {},
   "outputs": [],
   "source": [
    "# убираем отрицательные значения по столбцу 'days_employed'\n",
    "#df.loc[df['days_employed'] < 0, 'days_employed'] = df.loc[df['days_employed'] < 0, 'days_employed'] *-1\n",
    "df.loc[df['days_employed'] < 0, 'days_employed'] = abs(df.loc[df['days_employed'] < 0, 'days_employed'])"
   ]
  },
  {
   "cell_type": "markdown",
   "id": "ab6bca68",
   "metadata": {},
   "source": [
    "Проверим наличие отрицательных значений по фильтру."
   ]
  },
  {
   "cell_type": "code",
   "execution_count": 4,
   "id": "278c43c7",
   "metadata": {},
   "outputs": [
    {
     "data": {
      "text/plain": [
       "Series([], Name: days_employed, dtype: float64)"
      ]
     },
     "execution_count": 4,
     "metadata": {},
     "output_type": "execute_result"
    }
   ],
   "source": [
    "# выводим столбец 'days_employed' только по отрицательным значениям\n",
    "df.loc[df['days_employed'] < 0, 'days_employed']"
   ]
  },
  {
   "cell_type": "markdown",
   "id": "88a78c6b",
   "metadata": {},
   "source": [
    "Фильтр возвращат пустой объект, значит отрицательных значений по столбцу `days_employed` не осталось.\n",
    "\n",
    "---"
   ]
  },
  {
   "cell_type": "markdown",
   "id": "757c7a7c",
   "metadata": {},
   "source": [
    "В столбце со стажем `days_employed` есть очевидно зывышенные значения. Определим ***максимально возможный стаж*** как ***максимальный возраст заемщика*** - ***минимальный возраст для начала трудовой деятельности (16 лет)***. Проверим, какую долю в датафрейме занимают значения, превышающие максимально возможное."
   ]
  },
  {
   "cell_type": "code",
   "execution_count": 5,
   "id": "81f75f3b",
   "metadata": {},
   "outputs": [
    {
     "name": "stdout",
     "output_type": "stream",
     "text": [
      "Доля аномальных значений в стаже составляет 18%\n"
     ]
    }
   ],
   "source": [
    "# находим максимально возможный стаж в днях\n",
    "max_days_employed = (df['dob_years'].max() - 16) * 365\n",
    "\n",
    "# фильтруем датафрейм и найдем долю аномальных значений в общем числе\n",
    "df_filtred = df[df['days_employed'] > max_days_employed]\n",
    "days_employed_anomal_count = df_filtred['days_employed'].count()\n",
    "days_employed_count = df['days_employed'].count()\n",
    "days_employed_anomal_ratio = days_employed_anomal_count / days_employed_count\n",
    "print('Доля аномальных значений в стаже составляет {:.0%}'.format(days_employed_anomal_ratio))"
   ]
  },
  {
   "cell_type": "markdown",
   "id": "37e6b6dd",
   "metadata": {},
   "source": [
    "Так как у нас нет информации о природе этой аномалии, мы не можем исправить эти значения на корректные. 18% - слишком большая доля для того, чтобы просто отбросить эти значения, поэтому оставим их в датафрейме. \n",
    "\n",
    "Предположим, что аномально большие значения введены в часах, а не в днях. Тогда переведем эти значения в дни.\n",
    "\n",
    "Однако на наше исследование эти данные не повлияют. В иных условиях в таком случае следует обращаться к источнику данных за дополнительной информацией."
   ]
  },
  {
   "cell_type": "code",
   "execution_count": 6,
   "id": "896f1d20",
   "metadata": {},
   "outputs": [],
   "source": [
    "# перевод аномально больших значений из часов в дни\n",
    "df.loc[df['days_employed'] > max_days_employed, 'days_employed'] = df.loc[df['days_employed'] > max_days_employed, 'days_employed'] / 24"
   ]
  },
  {
   "cell_type": "code",
   "execution_count": 7,
   "id": "38ee6fc9",
   "metadata": {
    "scrolled": true
   },
   "outputs": [
    {
     "data": {
      "text/plain": [
       "Series([], Name: days_employed, dtype: float64)"
      ]
     },
     "execution_count": 7,
     "metadata": {},
     "output_type": "execute_result"
    }
   ],
   "source": [
    "# выводим столбец 'days_employed' по аномально большим значениям\n",
    "df.loc[df['days_employed'] > max_days_employed, 'days_employed']"
   ]
  },
  {
   "cell_type": "markdown",
   "id": "13b7aa2f",
   "metadata": {},
   "source": [
    "Фильтр возвращат пустой объект, значит аномальных значений по столбцу `days_employed` не осталось.\n",
    "\n",
    "---"
   ]
  },
  {
   "cell_type": "markdown",
   "id": "d80875eb",
   "metadata": {},
   "source": [
    "Проверим корректность данных о возрасте заемщиков по столбцу `dob_years`. Для этого выведем все встречающиеся значения возраста."
   ]
  },
  {
   "cell_type": "code",
   "execution_count": 8,
   "id": "2c8afae9",
   "metadata": {},
   "outputs": [
    {
     "data": {
      "text/plain": [
       "array([42, 36, 33, 32, 53, 27, 43, 50, 35, 41, 40, 65, 54, 56, 26, 48, 24,\n",
       "       21, 57, 67, 28, 63, 62, 47, 34, 68, 25, 31, 30, 20, 49, 37, 45, 61,\n",
       "       64, 44, 52, 46, 23, 38, 39, 51,  0, 59, 29, 60, 55, 58, 71, 22, 73,\n",
       "       66, 69, 19, 72, 70, 74, 75], dtype=int64)"
      ]
     },
     "execution_count": 8,
     "metadata": {},
     "output_type": "execute_result"
    }
   ],
   "source": [
    "# выводим уникальные значения по столбцу 'dob_years'\n",
    "df['dob_years'].unique()"
   ]
  },
  {
   "cell_type": "markdown",
   "id": "24e7f6ec",
   "metadata": {},
   "source": [
    "Среди значений возраста есть аномальное значение 0. Вероятнее всего это техническая ошибка. Заменим нулевые значения на медианные через функцию замены некорректных значений.\n",
    "\n",
    "Функция `replace_wrong_values()` принимает на вход 3 параметра:\n",
    "* `col` — наименование столбца, в котором будет производиться замена,\n",
    "* `wrong_values` — список некорректных значений,\n",
    "* `correct_value` — строка с правильным значением.\n",
    "\n",
    "Функция должна исправить колонку `col` в таблице `df`: заменить каждое значение из списка `wrong_values` на значение из `correct_value`."
   ]
  },
  {
   "cell_type": "code",
   "execution_count": 9,
   "id": "505b6831",
   "metadata": {},
   "outputs": [],
   "source": [
    "# функция для замены некорректных значений\n",
    "def replace_wrong_values(col, wrong_values, correct_value):\n",
    "    for value in wrong_values:\n",
    "        df[col] = df[col].replace(value, correct_value)"
   ]
  },
  {
   "cell_type": "markdown",
   "id": "a19fa58f",
   "metadata": {},
   "source": [
    "Применим функцию `replace_wrong_values()` и передим ей аргументы для замены значения `0` на медианное значение `dob_years_median` в столбце `dob_years`."
   ]
  },
  {
   "cell_type": "code",
   "execution_count": 10,
   "id": "20fa32a7",
   "metadata": {},
   "outputs": [],
   "source": [
    "# находим медианное значение по столбцу 'days_employed'\n",
    "dob_years_median = df['dob_years'].median()\n",
    "\n",
    "# применяем функцию 'replace_wrong_values'\n",
    "replace_wrong_values('dob_years', [0], dob_years_median)"
   ]
  },
  {
   "cell_type": "markdown",
   "id": "12a4730a",
   "metadata": {},
   "source": [
    "Проверим встречающиеся значения возраста после исправления."
   ]
  },
  {
   "cell_type": "code",
   "execution_count": 11,
   "id": "a6fd5d08",
   "metadata": {},
   "outputs": [
    {
     "data": {
      "text/plain": [
       "array([42, 36, 33, 32, 53, 27, 43, 50, 35, 41, 40, 65, 54, 56, 26, 48, 24,\n",
       "       21, 57, 67, 28, 63, 62, 47, 34, 68, 25, 31, 30, 20, 49, 37, 45, 61,\n",
       "       64, 44, 52, 46, 23, 38, 39, 51, 59, 29, 60, 55, 58, 71, 22, 73, 66,\n",
       "       69, 19, 72, 70, 74, 75], dtype=int64)"
      ]
     },
     "execution_count": 11,
     "metadata": {},
     "output_type": "execute_result"
    }
   ],
   "source": [
    "# выводим уникальные значения по столбцу 'dob_years'\n",
    "df['dob_years'].unique()"
   ]
  },
  {
   "cell_type": "markdown",
   "id": "11ee8c7a",
   "metadata": {},
   "source": [
    "Аномальных значений нет, исправление произведено корректно.\n",
    "\n",
    "---"
   ]
  },
  {
   "cell_type": "markdown",
   "id": "20f9d434",
   "metadata": {},
   "source": [
    "Проверим аномальные значения по столбцу `children`. Для этого выведем все уникальные значения."
   ]
  },
  {
   "cell_type": "code",
   "execution_count": 12,
   "id": "c1da25c1",
   "metadata": {
    "scrolled": false
   },
   "outputs": [
    {
     "data": {
      "text/plain": [
       "array([ 1,  0,  3,  2, -1,  4, 20,  5], dtype=int64)"
      ]
     },
     "execution_count": 12,
     "metadata": {},
     "output_type": "execute_result"
    }
   ],
   "source": [
    "# выводим уникальные значения по столбцу 'children'\n",
    "df['children'].unique()"
   ]
  },
  {
   "cell_type": "markdown",
   "id": "9eba4f12",
   "metadata": {},
   "source": [
    "По столбцу `children` имеется два аномальных значения:\n",
    "1. Аномальное значение 20 - предположим, что при вводе данных была допущена ошибка и добавлен лишний 0. Исправим значения 20 на 2.\n",
    "\n",
    "2. Отрицательное значение -1 - предположим, что это техническая ошибка и следует взять число по модулю.\n",
    "\n",
    "Исправим обе аномалии с помощью функции `replace_wrong_values`."
   ]
  },
  {
   "cell_type": "code",
   "execution_count": 13,
   "id": "a2d65782",
   "metadata": {},
   "outputs": [],
   "source": [
    "# применяем функцию 'replace_wrong_values'      \n",
    "replace_wrong_values('children', [20], 2)\n",
    "replace_wrong_values('children', [-1], 1)"
   ]
  },
  {
   "cell_type": "markdown",
   "id": "9633b445",
   "metadata": {},
   "source": [
    "Проверим уникальные значения возраста после исправления."
   ]
  },
  {
   "cell_type": "code",
   "execution_count": 14,
   "id": "9470954e",
   "metadata": {},
   "outputs": [
    {
     "data": {
      "text/plain": [
       "array([1, 0, 3, 2, 4, 5], dtype=int64)"
      ]
     },
     "execution_count": 14,
     "metadata": {},
     "output_type": "execute_result"
    }
   ],
   "source": [
    "# выводим уникальные значения по столбцу 'children'\n",
    "df['children'].unique()"
   ]
  },
  {
   "cell_type": "markdown",
   "id": "dd72a4b1",
   "metadata": {},
   "source": [
    "Аномальных значений не осталось, можно приступать к пропускам значений."
   ]
  },
  {
   "cell_type": "markdown",
   "id": "782b0a9f",
   "metadata": {},
   "source": [
    "### 2.2 Пропуски значений\n",
    "\n",
    "Теперь перейдем к пропускам. Сначала посчитаем сколько в таблице пропущенных значений."
   ]
  },
  {
   "cell_type": "code",
   "execution_count": 15,
   "id": "cf703fd5",
   "metadata": {
    "scrolled": true
   },
   "outputs": [
    {
     "data": {
      "text/plain": [
       "children               0\n",
       "days_employed       2174\n",
       "dob_years              0\n",
       "education              0\n",
       "education_id           0\n",
       "family_status          0\n",
       "family_status_id       0\n",
       "gender                 0\n",
       "income_type            0\n",
       "debt                   0\n",
       "total_income        2174\n",
       "purpose                0\n",
       "dtype: int64"
      ]
     },
     "execution_count": 15,
     "metadata": {},
     "output_type": "execute_result"
    }
   ],
   "source": [
    "# подсчет пропущенных значений\n",
    "df.isna().sum()"
   ]
  },
  {
   "cell_type": "markdown",
   "id": "414ada8c",
   "metadata": {
    "id": "qubhgnlO_Zct"
   },
   "source": [
    "В данных пропущены значения в столбцах `days_employed` и `total_income`. Проверим, какую долю составляют пропущенные значения в каждом из столбцов с пропусками."
   ]
  },
  {
   "cell_type": "code",
   "execution_count": 16,
   "id": "598bdf55",
   "metadata": {},
   "outputs": [
    {
     "name": "stdout",
     "output_type": "stream",
     "text": [
      "Доля пропусков в столбце days_employed составляет 10%\n"
     ]
    }
   ],
   "source": [
    "# доля пропущенных значений в столбце 'days_employed' от общего числа значений\n",
    "null_ratio = df['days_employed'].isna().sum() / df.shape[0]\n",
    "print('Доля пропусков в столбце days_employed составляет {:.0%}'.format(null_ratio))"
   ]
  },
  {
   "cell_type": "code",
   "execution_count": 17,
   "id": "030ca319",
   "metadata": {
    "scrolled": true
   },
   "outputs": [
    {
     "name": "stdout",
     "output_type": "stream",
     "text": [
      "Доля пропусков в столбце total_income составляет 10%\n"
     ]
    }
   ],
   "source": [
    "# доля пропущенных значений в столбце 'total_income' от общего числа значений\n",
    "null_ratio = df['total_income'].isna().sum() / df.shape[0]\n",
    "print('Доля пропусков в столбце total_income составляет {:.0%}'.format(null_ratio))"
   ]
  },
  {
   "cell_type": "markdown",
   "id": "d85f9c75",
   "metadata": {},
   "source": [
    "Итак, доля пропусков в каждом из столбцов составляет по 10%. Это критичный показатель, такие пропуски в значениях повредят расчётам.\n",
    "\n",
    "Возможные причины пропусков:\n",
    "* Клиенты, оформлявшие кредит, выбрали способ получения кредита без предоставления справки о стаже и доходах. Тогда такие данные в базу не вносились.\n",
    "* Данные могли быть утеряны по техническим причинам, например из-за сбоя при выгрузке файла.\n",
    "\n",
    "Данные в столбцах `days_employed` и `total_income` являются количественными, пропуски в таких переменных заполняются характерными значениями - средним арифметическим либо медианой.\n",
    "\n",
    "Показатели ежемесячного дохода и трудового стажа имеют большой разброс, в таком случае для заполнения пропусков лучше воспользоваться медианным значением."
   ]
  },
  {
   "cell_type": "code",
   "execution_count": 18,
   "id": "519b15c5",
   "metadata": {
    "scrolled": true
   },
   "outputs": [],
   "source": [
    "# находим медианное значение по столбцу 'days_employed' и заполняем им пропуски\n",
    "days_employed_median = df['days_employed'].median()\n",
    "df['days_employed'] = df['days_employed'].fillna(days_employed_median)\n",
    "\n",
    "# находим медианное значение по столбцу 'total_income' и заполняем им пропуски\n",
    "total_income_median = df['total_income'].median()\n",
    "df['total_income'] = df['total_income'].fillna(total_income_median)"
   ]
  },
  {
   "cell_type": "markdown",
   "id": "2cbafda9",
   "metadata": {},
   "source": [
    "Проверяем, что в таблице не осталось пропущенных значений."
   ]
  },
  {
   "cell_type": "code",
   "execution_count": 19,
   "id": "3e2f5a0d",
   "metadata": {},
   "outputs": [
    {
     "data": {
      "text/plain": [
       "children            0\n",
       "days_employed       0\n",
       "dob_years           0\n",
       "education           0\n",
       "education_id        0\n",
       "family_status       0\n",
       "family_status_id    0\n",
       "gender              0\n",
       "income_type         0\n",
       "debt                0\n",
       "total_income        0\n",
       "purpose             0\n",
       "dtype: int64"
      ]
     },
     "execution_count": 19,
     "metadata": {},
     "output_type": "execute_result"
    }
   ],
   "source": [
    "# подсчет пропущенных значений\n",
    "df.isna().sum()"
   ]
  },
  {
   "cell_type": "markdown",
   "id": "e0f98c6c",
   "metadata": {},
   "source": [
    "### 2.3 Изменение типов данных"
   ]
  },
  {
   "cell_type": "markdown",
   "id": "35d1c248",
   "metadata": {},
   "source": [
    "Заменим вещественный тип данных в столбце `total_income` на целочисленный, с помощью метода astype() для более понятного отображения и выведем первые 10 строк."
   ]
  },
  {
   "cell_type": "code",
   "execution_count": 20,
   "id": "291d4569",
   "metadata": {},
   "outputs": [
    {
     "data": {
      "text/html": [
       "<div>\n",
       "<style scoped>\n",
       "    .dataframe tbody tr th:only-of-type {\n",
       "        vertical-align: middle;\n",
       "    }\n",
       "\n",
       "    .dataframe tbody tr th {\n",
       "        vertical-align: top;\n",
       "    }\n",
       "\n",
       "    .dataframe thead th {\n",
       "        text-align: right;\n",
       "    }\n",
       "</style>\n",
       "<table border=\"1\" class=\"dataframe\">\n",
       "  <thead>\n",
       "    <tr style=\"text-align: right;\">\n",
       "      <th></th>\n",
       "      <th>children</th>\n",
       "      <th>days_employed</th>\n",
       "      <th>dob_years</th>\n",
       "      <th>education</th>\n",
       "      <th>education_id</th>\n",
       "      <th>family_status</th>\n",
       "      <th>family_status_id</th>\n",
       "      <th>gender</th>\n",
       "      <th>income_type</th>\n",
       "      <th>debt</th>\n",
       "      <th>total_income</th>\n",
       "      <th>purpose</th>\n",
       "    </tr>\n",
       "  </thead>\n",
       "  <tbody>\n",
       "    <tr>\n",
       "      <th>0</th>\n",
       "      <td>1</td>\n",
       "      <td>8437.673028</td>\n",
       "      <td>42</td>\n",
       "      <td>высшее</td>\n",
       "      <td>0</td>\n",
       "      <td>женат / замужем</td>\n",
       "      <td>0</td>\n",
       "      <td>F</td>\n",
       "      <td>сотрудник</td>\n",
       "      <td>0</td>\n",
       "      <td>253875</td>\n",
       "      <td>покупка жилья</td>\n",
       "    </tr>\n",
       "    <tr>\n",
       "      <th>1</th>\n",
       "      <td>1</td>\n",
       "      <td>4024.803754</td>\n",
       "      <td>36</td>\n",
       "      <td>среднее</td>\n",
       "      <td>1</td>\n",
       "      <td>женат / замужем</td>\n",
       "      <td>0</td>\n",
       "      <td>F</td>\n",
       "      <td>сотрудник</td>\n",
       "      <td>0</td>\n",
       "      <td>112080</td>\n",
       "      <td>приобретение автомобиля</td>\n",
       "    </tr>\n",
       "    <tr>\n",
       "      <th>2</th>\n",
       "      <td>0</td>\n",
       "      <td>5623.422610</td>\n",
       "      <td>33</td>\n",
       "      <td>Среднее</td>\n",
       "      <td>1</td>\n",
       "      <td>женат / замужем</td>\n",
       "      <td>0</td>\n",
       "      <td>M</td>\n",
       "      <td>сотрудник</td>\n",
       "      <td>0</td>\n",
       "      <td>145885</td>\n",
       "      <td>покупка жилья</td>\n",
       "    </tr>\n",
       "    <tr>\n",
       "      <th>3</th>\n",
       "      <td>3</td>\n",
       "      <td>4124.747207</td>\n",
       "      <td>32</td>\n",
       "      <td>среднее</td>\n",
       "      <td>1</td>\n",
       "      <td>женат / замужем</td>\n",
       "      <td>0</td>\n",
       "      <td>M</td>\n",
       "      <td>сотрудник</td>\n",
       "      <td>0</td>\n",
       "      <td>267628</td>\n",
       "      <td>дополнительное образование</td>\n",
       "    </tr>\n",
       "    <tr>\n",
       "      <th>4</th>\n",
       "      <td>0</td>\n",
       "      <td>14177.753002</td>\n",
       "      <td>53</td>\n",
       "      <td>среднее</td>\n",
       "      <td>1</td>\n",
       "      <td>гражданский брак</td>\n",
       "      <td>1</td>\n",
       "      <td>F</td>\n",
       "      <td>пенсионер</td>\n",
       "      <td>0</td>\n",
       "      <td>158616</td>\n",
       "      <td>сыграть свадьбу</td>\n",
       "    </tr>\n",
       "    <tr>\n",
       "      <th>5</th>\n",
       "      <td>0</td>\n",
       "      <td>926.185831</td>\n",
       "      <td>27</td>\n",
       "      <td>высшее</td>\n",
       "      <td>0</td>\n",
       "      <td>гражданский брак</td>\n",
       "      <td>1</td>\n",
       "      <td>M</td>\n",
       "      <td>компаньон</td>\n",
       "      <td>0</td>\n",
       "      <td>255763</td>\n",
       "      <td>покупка жилья</td>\n",
       "    </tr>\n",
       "    <tr>\n",
       "      <th>6</th>\n",
       "      <td>0</td>\n",
       "      <td>2879.202052</td>\n",
       "      <td>43</td>\n",
       "      <td>высшее</td>\n",
       "      <td>0</td>\n",
       "      <td>женат / замужем</td>\n",
       "      <td>0</td>\n",
       "      <td>F</td>\n",
       "      <td>компаньон</td>\n",
       "      <td>0</td>\n",
       "      <td>240525</td>\n",
       "      <td>операции с жильем</td>\n",
       "    </tr>\n",
       "    <tr>\n",
       "      <th>7</th>\n",
       "      <td>0</td>\n",
       "      <td>152.779569</td>\n",
       "      <td>50</td>\n",
       "      <td>СРЕДНЕЕ</td>\n",
       "      <td>1</td>\n",
       "      <td>женат / замужем</td>\n",
       "      <td>0</td>\n",
       "      <td>M</td>\n",
       "      <td>сотрудник</td>\n",
       "      <td>0</td>\n",
       "      <td>135823</td>\n",
       "      <td>образование</td>\n",
       "    </tr>\n",
       "    <tr>\n",
       "      <th>8</th>\n",
       "      <td>2</td>\n",
       "      <td>6929.865299</td>\n",
       "      <td>35</td>\n",
       "      <td>ВЫСШЕЕ</td>\n",
       "      <td>0</td>\n",
       "      <td>гражданский брак</td>\n",
       "      <td>1</td>\n",
       "      <td>F</td>\n",
       "      <td>сотрудник</td>\n",
       "      <td>0</td>\n",
       "      <td>95856</td>\n",
       "      <td>на проведение свадьбы</td>\n",
       "    </tr>\n",
       "    <tr>\n",
       "      <th>9</th>\n",
       "      <td>0</td>\n",
       "      <td>2188.756445</td>\n",
       "      <td>41</td>\n",
       "      <td>среднее</td>\n",
       "      <td>1</td>\n",
       "      <td>женат / замужем</td>\n",
       "      <td>0</td>\n",
       "      <td>M</td>\n",
       "      <td>сотрудник</td>\n",
       "      <td>0</td>\n",
       "      <td>144425</td>\n",
       "      <td>покупка жилья для семьи</td>\n",
       "    </tr>\n",
       "  </tbody>\n",
       "</table>\n",
       "</div>"
      ],
      "text/plain": [
       "   children  days_employed  dob_years education  education_id  \\\n",
       "0         1    8437.673028         42    высшее             0   \n",
       "1         1    4024.803754         36   среднее             1   \n",
       "2         0    5623.422610         33   Среднее             1   \n",
       "3         3    4124.747207         32   среднее             1   \n",
       "4         0   14177.753002         53   среднее             1   \n",
       "5         0     926.185831         27    высшее             0   \n",
       "6         0    2879.202052         43    высшее             0   \n",
       "7         0     152.779569         50   СРЕДНЕЕ             1   \n",
       "8         2    6929.865299         35    ВЫСШЕЕ             0   \n",
       "9         0    2188.756445         41   среднее             1   \n",
       "\n",
       "      family_status  family_status_id gender income_type  debt  total_income  \\\n",
       "0   женат / замужем                 0      F   сотрудник     0        253875   \n",
       "1   женат / замужем                 0      F   сотрудник     0        112080   \n",
       "2   женат / замужем                 0      M   сотрудник     0        145885   \n",
       "3   женат / замужем                 0      M   сотрудник     0        267628   \n",
       "4  гражданский брак                 1      F   пенсионер     0        158616   \n",
       "5  гражданский брак                 1      M   компаньон     0        255763   \n",
       "6   женат / замужем                 0      F   компаньон     0        240525   \n",
       "7   женат / замужем                 0      M   сотрудник     0        135823   \n",
       "8  гражданский брак                 1      F   сотрудник     0         95856   \n",
       "9   женат / замужем                 0      M   сотрудник     0        144425   \n",
       "\n",
       "                      purpose  \n",
       "0               покупка жилья  \n",
       "1     приобретение автомобиля  \n",
       "2               покупка жилья  \n",
       "3  дополнительное образование  \n",
       "4             сыграть свадьбу  \n",
       "5               покупка жилья  \n",
       "6           операции с жильем  \n",
       "7                 образование  \n",
       "8       на проведение свадьбы  \n",
       "9     покупка жилья для семьи  "
      ]
     },
     "metadata": {},
     "output_type": "display_data"
    }
   ],
   "source": [
    "# заменяем тип данных в столбце 'total_income' на int и выводим первые 10 строк таблицы\n",
    "df['total_income'] = df['total_income'].astype('int')\n",
    "display(df.head(10))"
   ]
  },
  {
   "cell_type": "markdown",
   "id": "10781edd",
   "metadata": {},
   "source": [
    "Тип данных в столбце `total_income` изменен."
   ]
  },
  {
   "cell_type": "markdown",
   "id": "b67d5e29",
   "metadata": {},
   "source": [
    "### 2.4 Дубликаты"
   ]
  },
  {
   "cell_type": "markdown",
   "id": "809872a4",
   "metadata": {},
   "source": [
    "Подсчитаем количество явных дубликатов."
   ]
  },
  {
   "cell_type": "code",
   "execution_count": 21,
   "id": "0cf656c4",
   "metadata": {},
   "outputs": [
    {
     "name": "stdout",
     "output_type": "stream",
     "text": [
      "Количество явных дубликатов: 55\n"
     ]
    }
   ],
   "source": [
    "# подсчёт явных дубликатов\n",
    "print('Количество явных дубликатов:', df.duplicated().sum())"
   ]
  },
  {
   "cell_type": "markdown",
   "id": "6cc8de18",
   "metadata": {},
   "source": [
    "Удалим явные дубликаты и снова сделаем подсчёт."
   ]
  },
  {
   "cell_type": "code",
   "execution_count": 22,
   "id": "6f918e1c",
   "metadata": {},
   "outputs": [
    {
     "name": "stdout",
     "output_type": "stream",
     "text": [
      "Количество явных дубликатов: 0\n"
     ]
    }
   ],
   "source": [
    "# удаление явных дубликатов (с удалением старых индексов и формированием новых)\n",
    "df = df.drop_duplicates().reset_index(drop=True)\n",
    "\n",
    "# проверка на отсутствие дубликатов\n",
    "print('Количество явных дубликатов:', df.duplicated().sum())"
   ]
  },
  {
   "cell_type": "markdown",
   "id": "1919047d",
   "metadata": {},
   "source": [
    "Теперь избавимся от неявных дубликатов. Для этого выведем на экран список уникальных значений столбца `education`, отсортированный в алфавитном порядке"
   ]
  },
  {
   "cell_type": "code",
   "execution_count": 23,
   "id": "bbac06e4",
   "metadata": {},
   "outputs": [
    {
     "data": {
      "text/plain": [
       "['ВЫСШЕЕ',\n",
       " 'Высшее',\n",
       " 'НАЧАЛЬНОЕ',\n",
       " 'НЕОКОНЧЕННОЕ ВЫСШЕЕ',\n",
       " 'Начальное',\n",
       " 'Неоконченное высшее',\n",
       " 'СРЕДНЕЕ',\n",
       " 'Среднее',\n",
       " 'УЧЕНАЯ СТЕПЕНЬ',\n",
       " 'Ученая степень',\n",
       " 'высшее',\n",
       " 'начальное',\n",
       " 'неоконченное высшее',\n",
       " 'среднее',\n",
       " 'ученая степень']"
      ]
     },
     "execution_count": 23,
     "metadata": {},
     "output_type": "execute_result"
    }
   ],
   "source": [
    "# просмотр уникальных значений уровня образования\n",
    "sorted(df['education'].unique())"
   ]
  },
  {
   "cell_type": "markdown",
   "id": "a54b1521",
   "metadata": {},
   "source": [
    "Все дубликаты в данном столбце появились по причине использования разного регистра. Приведем все значения к нижнему регистру и проверим остались ли дубликаты."
   ]
  },
  {
   "cell_type": "code",
   "execution_count": 24,
   "id": "982298f1",
   "metadata": {},
   "outputs": [
    {
     "data": {
      "text/plain": [
       "['высшее', 'начальное', 'неоконченное высшее', 'среднее', 'ученая степень']"
      ]
     },
     "execution_count": 24,
     "metadata": {},
     "output_type": "execute_result"
    }
   ],
   "source": [
    "# приводим значения к нижнему регистру\n",
    "df['education'] = df['education'].str.lower()\n",
    "\n",
    "# проверка уникальных значений\n",
    "sorted(df['education'].unique())"
   ]
  },
  {
   "cell_type": "markdown",
   "id": "c1905d64",
   "metadata": {},
   "source": [
    "Дубликаты по колонке `education` устранены.\n",
    "\n",
    "---"
   ]
  },
  {
   "cell_type": "markdown",
   "id": "2fda63de",
   "metadata": {},
   "source": [
    "Проверим дубликаты по колонке `family_status`, для этого также выведем на экран уникальные значения по столбцу."
   ]
  },
  {
   "cell_type": "code",
   "execution_count": 25,
   "id": "7c7d3309",
   "metadata": {},
   "outputs": [
    {
     "data": {
      "text/plain": [
       "['Не женат / не замужем',\n",
       " 'в разводе',\n",
       " 'вдовец / вдова',\n",
       " 'гражданский брак',\n",
       " 'женат / замужем']"
      ]
     },
     "execution_count": 25,
     "metadata": {},
     "output_type": "execute_result"
    }
   ],
   "source": [
    "# просмотр уникальных значений семейного статуса\n",
    "sorted(df['family_status'].unique())"
   ]
  },
  {
   "cell_type": "markdown",
   "id": "7384ba6c",
   "metadata": {},
   "source": [
    "Первое значение начинается с буквы верхнего регистра, приведем список к единообразию - нижнему регистру."
   ]
  },
  {
   "cell_type": "code",
   "execution_count": 26,
   "id": "fe824b1f",
   "metadata": {},
   "outputs": [
    {
     "data": {
      "text/plain": [
       "['в разводе',\n",
       " 'вдовец / вдова',\n",
       " 'гражданский брак',\n",
       " 'женат / замужем',\n",
       " 'не женат / не замужем']"
      ]
     },
     "execution_count": 26,
     "metadata": {},
     "output_type": "execute_result"
    }
   ],
   "source": [
    "# приводим значения к нижнему регистру\n",
    "df['family_status'] = df['family_status'].str.lower()\n",
    "\n",
    "# проверка уникальных значений\n",
    "sorted(df['family_status'].unique())"
   ]
  },
  {
   "cell_type": "markdown",
   "id": "6d10bc4a",
   "metadata": {},
   "source": [
    "Неявных дубликатов по колонке `family_status` не осталось, обработка завершена.\n",
    "\n",
    "---"
   ]
  },
  {
   "cell_type": "markdown",
   "id": "7aea2a3f",
   "metadata": {},
   "source": [
    "Проверим дубликаты по колонке `income_type`."
   ]
  },
  {
   "cell_type": "code",
   "execution_count": 27,
   "id": "5a873d7c",
   "metadata": {},
   "outputs": [
    {
     "data": {
      "text/plain": [
       "['безработный',\n",
       " 'в декрете',\n",
       " 'госслужащий',\n",
       " 'компаньон',\n",
       " 'пенсионер',\n",
       " 'предприниматель',\n",
       " 'сотрудник',\n",
       " 'студент']"
      ]
     },
     "execution_count": 27,
     "metadata": {},
     "output_type": "execute_result"
    }
   ],
   "source": [
    "# просмотр уникальных значений типа занятости\n",
    "sorted(df['income_type'].unique())"
   ]
  },
  {
   "cell_type": "markdown",
   "id": "585481de",
   "metadata": {},
   "source": [
    "Неявных дубликатов по колонке `income_type` нет, обработка не требуется."
   ]
  },
  {
   "cell_type": "markdown",
   "id": "6114f79e",
   "metadata": {},
   "source": [
    "### 2.5 Категоризация данных"
   ]
  },
  {
   "cell_type": "markdown",
   "id": "d59f6c34",
   "metadata": {},
   "source": [
    "Для удобства храрения и обращения с информацией создадим отдельные «словари», где названию категории будет соответствовать номер. И в будущих таблицах будем обращаться уже не к длинной строке, а к её числовому обозначению.\n",
    "\n",
    "Создадим словари для категорий `education` и `family_status` и в исходной таблице оставим только их идентификаторы."
   ]
  },
  {
   "cell_type": "code",
   "execution_count": 28,
   "id": "a9f3b007",
   "metadata": {},
   "outputs": [
    {
     "name": "stdout",
     "output_type": "stream",
     "text": [
      "   education_id            education\n",
      "0             0               высшее\n",
      "1             1              среднее\n",
      "2             2  неоконченное высшее\n",
      "3             3            начальное\n",
      "4             4       ученая степень\n"
     ]
    }
   ],
   "source": [
    "# создаем словарь для категории 'education' и выводим его на экран\n",
    "education_dict = df[['education_id','education']]\n",
    "education_dict = education_dict.drop_duplicates().reset_index(drop=True)\n",
    "print(education_dict.sort_values(by='education_id'))"
   ]
  },
  {
   "cell_type": "code",
   "execution_count": 29,
   "id": "5599ed0a",
   "metadata": {},
   "outputs": [
    {
     "name": "stdout",
     "output_type": "stream",
     "text": [
      "   family_status_id          family_status\n",
      "0                 0        женат / замужем\n",
      "1                 1       гражданский брак\n",
      "2                 2         вдовец / вдова\n",
      "3                 3              в разводе\n",
      "4                 4  не женат / не замужем\n"
     ]
    }
   ],
   "source": [
    "# создаем словарь для категории 'family_status' и выводим его на экран\n",
    "family_status_dict = df[['family_status_id','family_status']]\n",
    "family_status_dict = family_status_dict.drop_duplicates().reset_index(drop=True)\n",
    "print(family_status_dict.sort_values(by='family_status_id'))"
   ]
  },
  {
   "cell_type": "code",
   "execution_count": 30,
   "id": "7f8be337",
   "metadata": {},
   "outputs": [
    {
     "data": {
      "text/html": [
       "<div>\n",
       "<style scoped>\n",
       "    .dataframe tbody tr th:only-of-type {\n",
       "        vertical-align: middle;\n",
       "    }\n",
       "\n",
       "    .dataframe tbody tr th {\n",
       "        vertical-align: top;\n",
       "    }\n",
       "\n",
       "    .dataframe thead th {\n",
       "        text-align: right;\n",
       "    }\n",
       "</style>\n",
       "<table border=\"1\" class=\"dataframe\">\n",
       "  <thead>\n",
       "    <tr style=\"text-align: right;\">\n",
       "      <th></th>\n",
       "      <th>children</th>\n",
       "      <th>days_employed</th>\n",
       "      <th>dob_years</th>\n",
       "      <th>education_id</th>\n",
       "      <th>family_status_id</th>\n",
       "      <th>gender</th>\n",
       "      <th>income_type</th>\n",
       "      <th>debt</th>\n",
       "      <th>total_income</th>\n",
       "      <th>purpose</th>\n",
       "    </tr>\n",
       "  </thead>\n",
       "  <tbody>\n",
       "    <tr>\n",
       "      <th>0</th>\n",
       "      <td>1</td>\n",
       "      <td>8437.673028</td>\n",
       "      <td>42</td>\n",
       "      <td>0</td>\n",
       "      <td>0</td>\n",
       "      <td>F</td>\n",
       "      <td>сотрудник</td>\n",
       "      <td>0</td>\n",
       "      <td>253875</td>\n",
       "      <td>покупка жилья</td>\n",
       "    </tr>\n",
       "    <tr>\n",
       "      <th>1</th>\n",
       "      <td>1</td>\n",
       "      <td>4024.803754</td>\n",
       "      <td>36</td>\n",
       "      <td>1</td>\n",
       "      <td>0</td>\n",
       "      <td>F</td>\n",
       "      <td>сотрудник</td>\n",
       "      <td>0</td>\n",
       "      <td>112080</td>\n",
       "      <td>приобретение автомобиля</td>\n",
       "    </tr>\n",
       "    <tr>\n",
       "      <th>2</th>\n",
       "      <td>0</td>\n",
       "      <td>5623.422610</td>\n",
       "      <td>33</td>\n",
       "      <td>1</td>\n",
       "      <td>0</td>\n",
       "      <td>M</td>\n",
       "      <td>сотрудник</td>\n",
       "      <td>0</td>\n",
       "      <td>145885</td>\n",
       "      <td>покупка жилья</td>\n",
       "    </tr>\n",
       "    <tr>\n",
       "      <th>3</th>\n",
       "      <td>3</td>\n",
       "      <td>4124.747207</td>\n",
       "      <td>32</td>\n",
       "      <td>1</td>\n",
       "      <td>0</td>\n",
       "      <td>M</td>\n",
       "      <td>сотрудник</td>\n",
       "      <td>0</td>\n",
       "      <td>267628</td>\n",
       "      <td>дополнительное образование</td>\n",
       "    </tr>\n",
       "    <tr>\n",
       "      <th>4</th>\n",
       "      <td>0</td>\n",
       "      <td>14177.753002</td>\n",
       "      <td>53</td>\n",
       "      <td>1</td>\n",
       "      <td>1</td>\n",
       "      <td>F</td>\n",
       "      <td>пенсионер</td>\n",
       "      <td>0</td>\n",
       "      <td>158616</td>\n",
       "      <td>сыграть свадьбу</td>\n",
       "    </tr>\n",
       "    <tr>\n",
       "      <th>5</th>\n",
       "      <td>0</td>\n",
       "      <td>926.185831</td>\n",
       "      <td>27</td>\n",
       "      <td>0</td>\n",
       "      <td>1</td>\n",
       "      <td>M</td>\n",
       "      <td>компаньон</td>\n",
       "      <td>0</td>\n",
       "      <td>255763</td>\n",
       "      <td>покупка жилья</td>\n",
       "    </tr>\n",
       "    <tr>\n",
       "      <th>6</th>\n",
       "      <td>0</td>\n",
       "      <td>2879.202052</td>\n",
       "      <td>43</td>\n",
       "      <td>0</td>\n",
       "      <td>0</td>\n",
       "      <td>F</td>\n",
       "      <td>компаньон</td>\n",
       "      <td>0</td>\n",
       "      <td>240525</td>\n",
       "      <td>операции с жильем</td>\n",
       "    </tr>\n",
       "    <tr>\n",
       "      <th>7</th>\n",
       "      <td>0</td>\n",
       "      <td>152.779569</td>\n",
       "      <td>50</td>\n",
       "      <td>1</td>\n",
       "      <td>0</td>\n",
       "      <td>M</td>\n",
       "      <td>сотрудник</td>\n",
       "      <td>0</td>\n",
       "      <td>135823</td>\n",
       "      <td>образование</td>\n",
       "    </tr>\n",
       "    <tr>\n",
       "      <th>8</th>\n",
       "      <td>2</td>\n",
       "      <td>6929.865299</td>\n",
       "      <td>35</td>\n",
       "      <td>0</td>\n",
       "      <td>1</td>\n",
       "      <td>F</td>\n",
       "      <td>сотрудник</td>\n",
       "      <td>0</td>\n",
       "      <td>95856</td>\n",
       "      <td>на проведение свадьбы</td>\n",
       "    </tr>\n",
       "    <tr>\n",
       "      <th>9</th>\n",
       "      <td>0</td>\n",
       "      <td>2188.756445</td>\n",
       "      <td>41</td>\n",
       "      <td>1</td>\n",
       "      <td>0</td>\n",
       "      <td>M</td>\n",
       "      <td>сотрудник</td>\n",
       "      <td>0</td>\n",
       "      <td>144425</td>\n",
       "      <td>покупка жилья для семьи</td>\n",
       "    </tr>\n",
       "  </tbody>\n",
       "</table>\n",
       "</div>"
      ],
      "text/plain": [
       "   children  days_employed  dob_years  education_id  family_status_id gender  \\\n",
       "0         1    8437.673028         42             0                 0      F   \n",
       "1         1    4024.803754         36             1                 0      F   \n",
       "2         0    5623.422610         33             1                 0      M   \n",
       "3         3    4124.747207         32             1                 0      M   \n",
       "4         0   14177.753002         53             1                 1      F   \n",
       "5         0     926.185831         27             0                 1      M   \n",
       "6         0    2879.202052         43             0                 0      F   \n",
       "7         0     152.779569         50             1                 0      M   \n",
       "8         2    6929.865299         35             0                 1      F   \n",
       "9         0    2188.756445         41             1                 0      M   \n",
       "\n",
       "  income_type  debt  total_income                     purpose  \n",
       "0   сотрудник     0        253875               покупка жилья  \n",
       "1   сотрудник     0        112080     приобретение автомобиля  \n",
       "2   сотрудник     0        145885               покупка жилья  \n",
       "3   сотрудник     0        267628  дополнительное образование  \n",
       "4   пенсионер     0        158616             сыграть свадьбу  \n",
       "5   компаньон     0        255763               покупка жилья  \n",
       "6   компаньон     0        240525           операции с жильем  \n",
       "7   сотрудник     0        135823                 образование  \n",
       "8   сотрудник     0         95856       на проведение свадьбы  \n",
       "9   сотрудник     0        144425     покупка жилья для семьи  "
      ]
     },
     "execution_count": 30,
     "metadata": {},
     "output_type": "execute_result"
    }
   ],
   "source": [
    "# удаляем столбцы 'education' и 'family_status' и выводим на экран первые 10 строк таблицы\n",
    "del df['education']\n",
    "del df['family_status']\n",
    "df.head(10)"
   ]
  },
  {
   "cell_type": "markdown",
   "id": "f9e26352",
   "metadata": {},
   "source": [
    "---"
   ]
  },
  {
   "cell_type": "markdown",
   "id": "16647089",
   "metadata": {},
   "source": [
    "Создадим столбец `total_income_category` с категориями на основании следующих диапазонов:\n",
    "* 0–30000 — `'E'`;\n",
    "* 30001–50000 — `'D'`;\n",
    "* 50001–200000 — `'C'`;\n",
    "* 200001–1000000 — `'B'`;\n",
    "* 1000001 и выше — `'A'`.\n",
    "\n",
    "Создадим функцию `total_income_category()`, которая оценит значения столбца `total_income` и присвоит им категории, в соответствии с диапазоном выше. Добавим эти категории в столбец `total_income_category` и выведем на экран первые 10 строк таблицы."
   ]
  },
  {
   "cell_type": "code",
   "execution_count": 31,
   "id": "c56f0f6c",
   "metadata": {},
   "outputs": [
    {
     "data": {
      "text/html": [
       "<div>\n",
       "<style scoped>\n",
       "    .dataframe tbody tr th:only-of-type {\n",
       "        vertical-align: middle;\n",
       "    }\n",
       "\n",
       "    .dataframe tbody tr th {\n",
       "        vertical-align: top;\n",
       "    }\n",
       "\n",
       "    .dataframe thead th {\n",
       "        text-align: right;\n",
       "    }\n",
       "</style>\n",
       "<table border=\"1\" class=\"dataframe\">\n",
       "  <thead>\n",
       "    <tr style=\"text-align: right;\">\n",
       "      <th></th>\n",
       "      <th>children</th>\n",
       "      <th>days_employed</th>\n",
       "      <th>dob_years</th>\n",
       "      <th>education_id</th>\n",
       "      <th>family_status_id</th>\n",
       "      <th>gender</th>\n",
       "      <th>income_type</th>\n",
       "      <th>debt</th>\n",
       "      <th>total_income</th>\n",
       "      <th>total_income_category</th>\n",
       "      <th>purpose</th>\n",
       "    </tr>\n",
       "  </thead>\n",
       "  <tbody>\n",
       "    <tr>\n",
       "      <th>0</th>\n",
       "      <td>1</td>\n",
       "      <td>8437.673028</td>\n",
       "      <td>42</td>\n",
       "      <td>0</td>\n",
       "      <td>0</td>\n",
       "      <td>F</td>\n",
       "      <td>сотрудник</td>\n",
       "      <td>0</td>\n",
       "      <td>253875</td>\n",
       "      <td>B</td>\n",
       "      <td>покупка жилья</td>\n",
       "    </tr>\n",
       "    <tr>\n",
       "      <th>1</th>\n",
       "      <td>1</td>\n",
       "      <td>4024.803754</td>\n",
       "      <td>36</td>\n",
       "      <td>1</td>\n",
       "      <td>0</td>\n",
       "      <td>F</td>\n",
       "      <td>сотрудник</td>\n",
       "      <td>0</td>\n",
       "      <td>112080</td>\n",
       "      <td>C</td>\n",
       "      <td>приобретение автомобиля</td>\n",
       "    </tr>\n",
       "    <tr>\n",
       "      <th>2</th>\n",
       "      <td>0</td>\n",
       "      <td>5623.422610</td>\n",
       "      <td>33</td>\n",
       "      <td>1</td>\n",
       "      <td>0</td>\n",
       "      <td>M</td>\n",
       "      <td>сотрудник</td>\n",
       "      <td>0</td>\n",
       "      <td>145885</td>\n",
       "      <td>C</td>\n",
       "      <td>покупка жилья</td>\n",
       "    </tr>\n",
       "    <tr>\n",
       "      <th>3</th>\n",
       "      <td>3</td>\n",
       "      <td>4124.747207</td>\n",
       "      <td>32</td>\n",
       "      <td>1</td>\n",
       "      <td>0</td>\n",
       "      <td>M</td>\n",
       "      <td>сотрудник</td>\n",
       "      <td>0</td>\n",
       "      <td>267628</td>\n",
       "      <td>B</td>\n",
       "      <td>дополнительное образование</td>\n",
       "    </tr>\n",
       "    <tr>\n",
       "      <th>4</th>\n",
       "      <td>0</td>\n",
       "      <td>14177.753002</td>\n",
       "      <td>53</td>\n",
       "      <td>1</td>\n",
       "      <td>1</td>\n",
       "      <td>F</td>\n",
       "      <td>пенсионер</td>\n",
       "      <td>0</td>\n",
       "      <td>158616</td>\n",
       "      <td>C</td>\n",
       "      <td>сыграть свадьбу</td>\n",
       "    </tr>\n",
       "    <tr>\n",
       "      <th>5</th>\n",
       "      <td>0</td>\n",
       "      <td>926.185831</td>\n",
       "      <td>27</td>\n",
       "      <td>0</td>\n",
       "      <td>1</td>\n",
       "      <td>M</td>\n",
       "      <td>компаньон</td>\n",
       "      <td>0</td>\n",
       "      <td>255763</td>\n",
       "      <td>B</td>\n",
       "      <td>покупка жилья</td>\n",
       "    </tr>\n",
       "    <tr>\n",
       "      <th>6</th>\n",
       "      <td>0</td>\n",
       "      <td>2879.202052</td>\n",
       "      <td>43</td>\n",
       "      <td>0</td>\n",
       "      <td>0</td>\n",
       "      <td>F</td>\n",
       "      <td>компаньон</td>\n",
       "      <td>0</td>\n",
       "      <td>240525</td>\n",
       "      <td>B</td>\n",
       "      <td>операции с жильем</td>\n",
       "    </tr>\n",
       "    <tr>\n",
       "      <th>7</th>\n",
       "      <td>0</td>\n",
       "      <td>152.779569</td>\n",
       "      <td>50</td>\n",
       "      <td>1</td>\n",
       "      <td>0</td>\n",
       "      <td>M</td>\n",
       "      <td>сотрудник</td>\n",
       "      <td>0</td>\n",
       "      <td>135823</td>\n",
       "      <td>C</td>\n",
       "      <td>образование</td>\n",
       "    </tr>\n",
       "    <tr>\n",
       "      <th>8</th>\n",
       "      <td>2</td>\n",
       "      <td>6929.865299</td>\n",
       "      <td>35</td>\n",
       "      <td>0</td>\n",
       "      <td>1</td>\n",
       "      <td>F</td>\n",
       "      <td>сотрудник</td>\n",
       "      <td>0</td>\n",
       "      <td>95856</td>\n",
       "      <td>C</td>\n",
       "      <td>на проведение свадьбы</td>\n",
       "    </tr>\n",
       "    <tr>\n",
       "      <th>9</th>\n",
       "      <td>0</td>\n",
       "      <td>2188.756445</td>\n",
       "      <td>41</td>\n",
       "      <td>1</td>\n",
       "      <td>0</td>\n",
       "      <td>M</td>\n",
       "      <td>сотрудник</td>\n",
       "      <td>0</td>\n",
       "      <td>144425</td>\n",
       "      <td>C</td>\n",
       "      <td>покупка жилья для семьи</td>\n",
       "    </tr>\n",
       "  </tbody>\n",
       "</table>\n",
       "</div>"
      ],
      "text/plain": [
       "   children  days_employed  dob_years  education_id  family_status_id gender  \\\n",
       "0         1    8437.673028         42             0                 0      F   \n",
       "1         1    4024.803754         36             1                 0      F   \n",
       "2         0    5623.422610         33             1                 0      M   \n",
       "3         3    4124.747207         32             1                 0      M   \n",
       "4         0   14177.753002         53             1                 1      F   \n",
       "5         0     926.185831         27             0                 1      M   \n",
       "6         0    2879.202052         43             0                 0      F   \n",
       "7         0     152.779569         50             1                 0      M   \n",
       "8         2    6929.865299         35             0                 1      F   \n",
       "9         0    2188.756445         41             1                 0      M   \n",
       "\n",
       "  income_type  debt  total_income total_income_category  \\\n",
       "0   сотрудник     0        253875                     B   \n",
       "1   сотрудник     0        112080                     C   \n",
       "2   сотрудник     0        145885                     C   \n",
       "3   сотрудник     0        267628                     B   \n",
       "4   пенсионер     0        158616                     C   \n",
       "5   компаньон     0        255763                     B   \n",
       "6   компаньон     0        240525                     B   \n",
       "7   сотрудник     0        135823                     C   \n",
       "8   сотрудник     0         95856                     C   \n",
       "9   сотрудник     0        144425                     C   \n",
       "\n",
       "                      purpose  \n",
       "0               покупка жилья  \n",
       "1     приобретение автомобиля  \n",
       "2               покупка жилья  \n",
       "3  дополнительное образование  \n",
       "4             сыграть свадьбу  \n",
       "5               покупка жилья  \n",
       "6           операции с жильем  \n",
       "7                 образование  \n",
       "8       на проведение свадьбы  \n",
       "9     покупка жилья для семьи  "
      ]
     },
     "execution_count": 31,
     "metadata": {},
     "output_type": "execute_result"
    }
   ],
   "source": [
    "# функция оценки категории дохода\n",
    "def total_income_category(total_income):\n",
    "    if total_income <= 30000:\n",
    "        return 'E'\n",
    "    elif total_income <= 50000:\n",
    "        return 'D'\n",
    "    elif total_income <= 200000:\n",
    "        return 'C'\n",
    "    elif total_income <= 1000000:\n",
    "        return 'B'\n",
    "    return 'A'\n",
    "# добавление нового столбца 'total_income_category' с помощью функции total_income_category()\n",
    "df.insert(9, 'total_income_category', df['total_income'].apply(total_income_category))\n",
    "df.head(10)"
   ]
  },
  {
   "cell_type": "markdown",
   "id": "22445717",
   "metadata": {},
   "source": [
    "---"
   ]
  },
  {
   "cell_type": "markdown",
   "id": "cfefe3e6",
   "metadata": {},
   "source": [
    "Создадим столбец `purpose_category`, в который войдут следующие категории:\n",
    "* `'операции с автомобилем'`,\n",
    "* `'операции с недвижимостью'`,\n",
    "* `'проведение свадьбы'`,\n",
    "* `'получение образования'`.\n",
    "\n",
    "Изучим значения столбца `purpose` с помощью метода `unique()`."
   ]
  },
  {
   "cell_type": "code",
   "execution_count": 32,
   "id": "379e05d2",
   "metadata": {},
   "outputs": [
    {
     "data": {
      "text/plain": [
       "['автомобили',\n",
       " 'автомобиль',\n",
       " 'высшее образование',\n",
       " 'дополнительное образование',\n",
       " 'жилье',\n",
       " 'заняться высшим образованием',\n",
       " 'заняться образованием',\n",
       " 'на покупку автомобиля',\n",
       " 'на покупку подержанного автомобиля',\n",
       " 'на покупку своего автомобиля',\n",
       " 'на проведение свадьбы',\n",
       " 'недвижимость',\n",
       " 'образование',\n",
       " 'операции с жильем',\n",
       " 'операции с коммерческой недвижимостью',\n",
       " 'операции с недвижимостью',\n",
       " 'операции со своей недвижимостью',\n",
       " 'покупка жилой недвижимости',\n",
       " 'покупка жилья',\n",
       " 'покупка жилья для сдачи',\n",
       " 'покупка жилья для семьи',\n",
       " 'покупка коммерческой недвижимости',\n",
       " 'покупка недвижимости',\n",
       " 'покупка своего жилья',\n",
       " 'получение высшего образования',\n",
       " 'получение дополнительного образования',\n",
       " 'получение образования',\n",
       " 'приобретение автомобиля',\n",
       " 'профильное образование',\n",
       " 'ремонт жилью',\n",
       " 'свадьба',\n",
       " 'свой автомобиль',\n",
       " 'сделка с автомобилем',\n",
       " 'сделка с подержанным автомобилем',\n",
       " 'строительство жилой недвижимости',\n",
       " 'строительство недвижимости',\n",
       " 'строительство собственной недвижимости',\n",
       " 'сыграть свадьбу']"
      ]
     },
     "execution_count": 32,
     "metadata": {},
     "output_type": "execute_result"
    }
   ],
   "source": [
    "# просмотр уникальных значений цели получения кредита\n",
    "sorted(df['purpose'].unique())"
   ]
  },
  {
   "cell_type": "markdown",
   "id": "884d77d8",
   "metadata": {},
   "source": [
    "Создадим функцию `purpose_category()`, которая оценит значения столбца `purpose` и присвоит им категории, в соответствии со списком выше. Добавим эти категории в столбец `purpose_category` и выведем на экран первые 10 строк таблицы."
   ]
  },
  {
   "cell_type": "code",
   "execution_count": 33,
   "id": "6f7a344b",
   "metadata": {},
   "outputs": [
    {
     "data": {
      "text/html": [
       "<div>\n",
       "<style scoped>\n",
       "    .dataframe tbody tr th:only-of-type {\n",
       "        vertical-align: middle;\n",
       "    }\n",
       "\n",
       "    .dataframe tbody tr th {\n",
       "        vertical-align: top;\n",
       "    }\n",
       "\n",
       "    .dataframe thead th {\n",
       "        text-align: right;\n",
       "    }\n",
       "</style>\n",
       "<table border=\"1\" class=\"dataframe\">\n",
       "  <thead>\n",
       "    <tr style=\"text-align: right;\">\n",
       "      <th></th>\n",
       "      <th>children</th>\n",
       "      <th>days_employed</th>\n",
       "      <th>dob_years</th>\n",
       "      <th>education_id</th>\n",
       "      <th>family_status_id</th>\n",
       "      <th>gender</th>\n",
       "      <th>income_type</th>\n",
       "      <th>debt</th>\n",
       "      <th>total_income</th>\n",
       "      <th>total_income_category</th>\n",
       "      <th>purpose</th>\n",
       "      <th>purpose_category</th>\n",
       "    </tr>\n",
       "  </thead>\n",
       "  <tbody>\n",
       "    <tr>\n",
       "      <th>0</th>\n",
       "      <td>1</td>\n",
       "      <td>8437.673028</td>\n",
       "      <td>42</td>\n",
       "      <td>0</td>\n",
       "      <td>0</td>\n",
       "      <td>F</td>\n",
       "      <td>сотрудник</td>\n",
       "      <td>0</td>\n",
       "      <td>253875</td>\n",
       "      <td>B</td>\n",
       "      <td>покупка жилья</td>\n",
       "      <td>операции с недвижимостью</td>\n",
       "    </tr>\n",
       "    <tr>\n",
       "      <th>1</th>\n",
       "      <td>1</td>\n",
       "      <td>4024.803754</td>\n",
       "      <td>36</td>\n",
       "      <td>1</td>\n",
       "      <td>0</td>\n",
       "      <td>F</td>\n",
       "      <td>сотрудник</td>\n",
       "      <td>0</td>\n",
       "      <td>112080</td>\n",
       "      <td>C</td>\n",
       "      <td>приобретение автомобиля</td>\n",
       "      <td>операции с автомобилем</td>\n",
       "    </tr>\n",
       "    <tr>\n",
       "      <th>2</th>\n",
       "      <td>0</td>\n",
       "      <td>5623.422610</td>\n",
       "      <td>33</td>\n",
       "      <td>1</td>\n",
       "      <td>0</td>\n",
       "      <td>M</td>\n",
       "      <td>сотрудник</td>\n",
       "      <td>0</td>\n",
       "      <td>145885</td>\n",
       "      <td>C</td>\n",
       "      <td>покупка жилья</td>\n",
       "      <td>операции с недвижимостью</td>\n",
       "    </tr>\n",
       "    <tr>\n",
       "      <th>3</th>\n",
       "      <td>3</td>\n",
       "      <td>4124.747207</td>\n",
       "      <td>32</td>\n",
       "      <td>1</td>\n",
       "      <td>0</td>\n",
       "      <td>M</td>\n",
       "      <td>сотрудник</td>\n",
       "      <td>0</td>\n",
       "      <td>267628</td>\n",
       "      <td>B</td>\n",
       "      <td>дополнительное образование</td>\n",
       "      <td>получение образования</td>\n",
       "    </tr>\n",
       "    <tr>\n",
       "      <th>4</th>\n",
       "      <td>0</td>\n",
       "      <td>14177.753002</td>\n",
       "      <td>53</td>\n",
       "      <td>1</td>\n",
       "      <td>1</td>\n",
       "      <td>F</td>\n",
       "      <td>пенсионер</td>\n",
       "      <td>0</td>\n",
       "      <td>158616</td>\n",
       "      <td>C</td>\n",
       "      <td>сыграть свадьбу</td>\n",
       "      <td>проведение свадьбы</td>\n",
       "    </tr>\n",
       "    <tr>\n",
       "      <th>5</th>\n",
       "      <td>0</td>\n",
       "      <td>926.185831</td>\n",
       "      <td>27</td>\n",
       "      <td>0</td>\n",
       "      <td>1</td>\n",
       "      <td>M</td>\n",
       "      <td>компаньон</td>\n",
       "      <td>0</td>\n",
       "      <td>255763</td>\n",
       "      <td>B</td>\n",
       "      <td>покупка жилья</td>\n",
       "      <td>операции с недвижимостью</td>\n",
       "    </tr>\n",
       "    <tr>\n",
       "      <th>6</th>\n",
       "      <td>0</td>\n",
       "      <td>2879.202052</td>\n",
       "      <td>43</td>\n",
       "      <td>0</td>\n",
       "      <td>0</td>\n",
       "      <td>F</td>\n",
       "      <td>компаньон</td>\n",
       "      <td>0</td>\n",
       "      <td>240525</td>\n",
       "      <td>B</td>\n",
       "      <td>операции с жильем</td>\n",
       "      <td>операции с недвижимостью</td>\n",
       "    </tr>\n",
       "    <tr>\n",
       "      <th>7</th>\n",
       "      <td>0</td>\n",
       "      <td>152.779569</td>\n",
       "      <td>50</td>\n",
       "      <td>1</td>\n",
       "      <td>0</td>\n",
       "      <td>M</td>\n",
       "      <td>сотрудник</td>\n",
       "      <td>0</td>\n",
       "      <td>135823</td>\n",
       "      <td>C</td>\n",
       "      <td>образование</td>\n",
       "      <td>получение образования</td>\n",
       "    </tr>\n",
       "    <tr>\n",
       "      <th>8</th>\n",
       "      <td>2</td>\n",
       "      <td>6929.865299</td>\n",
       "      <td>35</td>\n",
       "      <td>0</td>\n",
       "      <td>1</td>\n",
       "      <td>F</td>\n",
       "      <td>сотрудник</td>\n",
       "      <td>0</td>\n",
       "      <td>95856</td>\n",
       "      <td>C</td>\n",
       "      <td>на проведение свадьбы</td>\n",
       "      <td>проведение свадьбы</td>\n",
       "    </tr>\n",
       "    <tr>\n",
       "      <th>9</th>\n",
       "      <td>0</td>\n",
       "      <td>2188.756445</td>\n",
       "      <td>41</td>\n",
       "      <td>1</td>\n",
       "      <td>0</td>\n",
       "      <td>M</td>\n",
       "      <td>сотрудник</td>\n",
       "      <td>0</td>\n",
       "      <td>144425</td>\n",
       "      <td>C</td>\n",
       "      <td>покупка жилья для семьи</td>\n",
       "      <td>операции с недвижимостью</td>\n",
       "    </tr>\n",
       "  </tbody>\n",
       "</table>\n",
       "</div>"
      ],
      "text/plain": [
       "   children  days_employed  dob_years  education_id  family_status_id gender  \\\n",
       "0         1    8437.673028         42             0                 0      F   \n",
       "1         1    4024.803754         36             1                 0      F   \n",
       "2         0    5623.422610         33             1                 0      M   \n",
       "3         3    4124.747207         32             1                 0      M   \n",
       "4         0   14177.753002         53             1                 1      F   \n",
       "5         0     926.185831         27             0                 1      M   \n",
       "6         0    2879.202052         43             0                 0      F   \n",
       "7         0     152.779569         50             1                 0      M   \n",
       "8         2    6929.865299         35             0                 1      F   \n",
       "9         0    2188.756445         41             1                 0      M   \n",
       "\n",
       "  income_type  debt  total_income total_income_category  \\\n",
       "0   сотрудник     0        253875                     B   \n",
       "1   сотрудник     0        112080                     C   \n",
       "2   сотрудник     0        145885                     C   \n",
       "3   сотрудник     0        267628                     B   \n",
       "4   пенсионер     0        158616                     C   \n",
       "5   компаньон     0        255763                     B   \n",
       "6   компаньон     0        240525                     B   \n",
       "7   сотрудник     0        135823                     C   \n",
       "8   сотрудник     0         95856                     C   \n",
       "9   сотрудник     0        144425                     C   \n",
       "\n",
       "                      purpose          purpose_category  \n",
       "0               покупка жилья  операции с недвижимостью  \n",
       "1     приобретение автомобиля    операции с автомобилем  \n",
       "2               покупка жилья  операции с недвижимостью  \n",
       "3  дополнительное образование     получение образования  \n",
       "4             сыграть свадьбу        проведение свадьбы  \n",
       "5               покупка жилья  операции с недвижимостью  \n",
       "6           операции с жильем  операции с недвижимостью  \n",
       "7                 образование     получение образования  \n",
       "8       на проведение свадьбы        проведение свадьбы  \n",
       "9     покупка жилья для семьи  операции с недвижимостью  "
      ]
     },
     "execution_count": 33,
     "metadata": {},
     "output_type": "execute_result"
    }
   ],
   "source": [
    "# функция определения категории цели кредита\n",
    "def purpose_category(purpose):\n",
    "    if 'авто' in purpose:\n",
    "        return 'операции с автомобилем'\n",
    "    if 'свадьб' in purpose:\n",
    "        return 'проведение свадьбы'\n",
    "    if 'образов' in purpose:\n",
    "        return 'получение образования'\n",
    "    return 'операции с недвижимостью'\n",
    "\n",
    "# добавление нового столбца 'purpose_category' с помощью функции purpose_category()\n",
    "df['purpose_category'] = df['purpose'].apply(purpose_category)\n",
    "df.head(10)"
   ]
  },
  {
   "cell_type": "markdown",
   "id": "cb95b5fc",
   "metadata": {},
   "source": [
    "**Выводы**\n",
    "\n",
    "Предобработка обнаружила четыре проблемы в данных:\n",
    "\n",
    "- аномальные значения,\n",
    "- пропущенные значения,\n",
    "- некорректный тип данных,\n",
    "- дубликаты — явные и неявные.\n",
    "\n",
    "Мы проверили и скорректировали аномальные значения. Пропущенные значения мы заменили на медианные. А также исправили тип данных в колонке `total_income` с вещественного на целочисленный.\n",
    "\n",
    "Без дубликатов исследование станет более точным. Для определения неявных дубликатов использовался метод `unique()`, чтобы наглядно оценить возможные дубликаты. Например, название одного и того же уровня образования может быть записано немного по-разному. Наиболее вероятная причина появления таких дубликатов - человеческий фактор.\n",
    "\n",
    "Также была проведена категоризация данных для упрощения работы с таблицей.\n",
    "\n",
    "Теперь можно перейти к ответам на вопросы. "
   ]
  },
  {
   "cell_type": "markdown",
   "id": "7d0396ee",
   "metadata": {},
   "source": [
    "## 3. Ответы на вопросы"
   ]
  },
  {
   "cell_type": "markdown",
   "id": "5f9e973d",
   "metadata": {},
   "source": [
    "### Есть ли зависимость между количеством детей и возвратом кредита в срок?"
   ]
  },
  {
   "cell_type": "markdown",
   "id": "264a810a",
   "metadata": {},
   "source": [
    "Сгруппируем данные о невозврате кредитов по количеству детей у заемщика и вычислим процентное соотношение невозвратов по категориям."
   ]
  },
  {
   "cell_type": "code",
   "execution_count": 34,
   "id": "eae51bbb",
   "metadata": {},
   "outputs": [
    {
     "data": {
      "text/html": [
       "<div>\n",
       "<style scoped>\n",
       "    .dataframe tbody tr th:only-of-type {\n",
       "        vertical-align: middle;\n",
       "    }\n",
       "\n",
       "    .dataframe tbody tr th {\n",
       "        vertical-align: top;\n",
       "    }\n",
       "\n",
       "    .dataframe thead th {\n",
       "        text-align: right;\n",
       "    }\n",
       "</style>\n",
       "<table border=\"1\" class=\"dataframe\">\n",
       "  <thead>\n",
       "    <tr style=\"text-align: right;\">\n",
       "      <th></th>\n",
       "      <th>debt</th>\n",
       "      <th>count</th>\n",
       "      <th>ratio</th>\n",
       "    </tr>\n",
       "    <tr>\n",
       "      <th>children</th>\n",
       "      <th></th>\n",
       "      <th></th>\n",
       "      <th></th>\n",
       "    </tr>\n",
       "  </thead>\n",
       "  <tbody>\n",
       "    <tr>\n",
       "      <th>0</th>\n",
       "      <td>1063</td>\n",
       "      <td>14106</td>\n",
       "      <td>7.535800</td>\n",
       "    </tr>\n",
       "    <tr>\n",
       "      <th>1</th>\n",
       "      <td>445</td>\n",
       "      <td>4856</td>\n",
       "      <td>9.163921</td>\n",
       "    </tr>\n",
       "    <tr>\n",
       "      <th>2</th>\n",
       "      <td>202</td>\n",
       "      <td>2128</td>\n",
       "      <td>9.492481</td>\n",
       "    </tr>\n",
       "    <tr>\n",
       "      <th>3</th>\n",
       "      <td>27</td>\n",
       "      <td>330</td>\n",
       "      <td>8.181818</td>\n",
       "    </tr>\n",
       "    <tr>\n",
       "      <th>4</th>\n",
       "      <td>4</td>\n",
       "      <td>41</td>\n",
       "      <td>9.756098</td>\n",
       "    </tr>\n",
       "    <tr>\n",
       "      <th>5</th>\n",
       "      <td>0</td>\n",
       "      <td>9</td>\n",
       "      <td>0.000000</td>\n",
       "    </tr>\n",
       "  </tbody>\n",
       "</table>\n",
       "</div>"
      ],
      "text/plain": [
       "          debt  count     ratio\n",
       "children                       \n",
       "0         1063  14106  7.535800\n",
       "1          445   4856  9.163921\n",
       "2          202   2128  9.492481\n",
       "3           27    330  8.181818\n",
       "4            4     41  9.756098\n",
       "5            0      9  0.000000"
      ]
     },
     "metadata": {},
     "output_type": "display_data"
    }
   ],
   "source": [
    "# группируем данные по количеству детей\n",
    "children_correlation = df.pivot_table(index='children', values='debt', aggfunc=['sum', 'count'])\n",
    "children_correlation.columns = ['debt', 'count']\n",
    "\n",
    "# вычисляем процентое соотношение невозвратов по категориям\n",
    "children_correlation['ratio'] = children_correlation['debt'] / children_correlation['count'] * 100\n",
    "display(children_correlation)"
   ]
  },
  {
   "cell_type": "markdown",
   "id": "69d2b683",
   "metadata": {},
   "source": [
    "На первом месте по невозвратам кредитов находятся семьи с 4-мя детьми (9.75% невозвратов), на втором месте семьи с 2-мя детьми (9.49% невозвратов). Семьи с 5 детьми всегда возвращали кредиты в срок.\n",
    "\n",
    "При таких результатах, мы не можем сказать, что существует взаимосвязь между количеством детей и возвратом кредита в срок."
   ]
  },
  {
   "cell_type": "markdown",
   "id": "cab1fc75",
   "metadata": {},
   "source": [
    "### Есть ли зависимость между семейным положением и возвратом кредита в срок?"
   ]
  },
  {
   "cell_type": "markdown",
   "id": "0d70942d",
   "metadata": {},
   "source": [
    "Сгруппируем данные о невозврате кредитов по семейному статусу заемщика и вычислим процентное соотношение невозвратов по категориям."
   ]
  },
  {
   "cell_type": "code",
   "execution_count": 35,
   "id": "e9f05de2",
   "metadata": {},
   "outputs": [
    {
     "data": {
      "text/html": [
       "<div>\n",
       "<style scoped>\n",
       "    .dataframe tbody tr th:only-of-type {\n",
       "        vertical-align: middle;\n",
       "    }\n",
       "\n",
       "    .dataframe tbody tr th {\n",
       "        vertical-align: top;\n",
       "    }\n",
       "\n",
       "    .dataframe thead th {\n",
       "        text-align: right;\n",
       "    }\n",
       "</style>\n",
       "<table border=\"1\" class=\"dataframe\">\n",
       "  <thead>\n",
       "    <tr style=\"text-align: right;\">\n",
       "      <th></th>\n",
       "      <th>debt</th>\n",
       "      <th>count</th>\n",
       "      <th>ratio</th>\n",
       "    </tr>\n",
       "    <tr>\n",
       "      <th>family_status_id</th>\n",
       "      <th></th>\n",
       "      <th></th>\n",
       "      <th></th>\n",
       "    </tr>\n",
       "  </thead>\n",
       "  <tbody>\n",
       "    <tr>\n",
       "      <th>0</th>\n",
       "      <td>931</td>\n",
       "      <td>12344</td>\n",
       "      <td>7.542126</td>\n",
       "    </tr>\n",
       "    <tr>\n",
       "      <th>1</th>\n",
       "      <td>388</td>\n",
       "      <td>4162</td>\n",
       "      <td>9.322441</td>\n",
       "    </tr>\n",
       "    <tr>\n",
       "      <th>2</th>\n",
       "      <td>63</td>\n",
       "      <td>959</td>\n",
       "      <td>6.569343</td>\n",
       "    </tr>\n",
       "    <tr>\n",
       "      <th>3</th>\n",
       "      <td>85</td>\n",
       "      <td>1195</td>\n",
       "      <td>7.112971</td>\n",
       "    </tr>\n",
       "    <tr>\n",
       "      <th>4</th>\n",
       "      <td>274</td>\n",
       "      <td>2810</td>\n",
       "      <td>9.750890</td>\n",
       "    </tr>\n",
       "  </tbody>\n",
       "</table>\n",
       "</div>"
      ],
      "text/plain": [
       "                  debt  count     ratio\n",
       "family_status_id                       \n",
       "0                  931  12344  7.542126\n",
       "1                  388   4162  9.322441\n",
       "2                   63    959  6.569343\n",
       "3                   85   1195  7.112971\n",
       "4                  274   2810  9.750890"
      ]
     },
     "metadata": {},
     "output_type": "display_data"
    },
    {
     "data": {
      "text/html": [
       "<div>\n",
       "<style scoped>\n",
       "    .dataframe tbody tr th:only-of-type {\n",
       "        vertical-align: middle;\n",
       "    }\n",
       "\n",
       "    .dataframe tbody tr th {\n",
       "        vertical-align: top;\n",
       "    }\n",
       "\n",
       "    .dataframe thead th {\n",
       "        text-align: right;\n",
       "    }\n",
       "</style>\n",
       "<table border=\"1\" class=\"dataframe\">\n",
       "  <thead>\n",
       "    <tr style=\"text-align: right;\">\n",
       "      <th></th>\n",
       "      <th>family_status_id</th>\n",
       "      <th>family_status</th>\n",
       "    </tr>\n",
       "  </thead>\n",
       "  <tbody>\n",
       "    <tr>\n",
       "      <th>0</th>\n",
       "      <td>0</td>\n",
       "      <td>женат / замужем</td>\n",
       "    </tr>\n",
       "    <tr>\n",
       "      <th>1</th>\n",
       "      <td>1</td>\n",
       "      <td>гражданский брак</td>\n",
       "    </tr>\n",
       "    <tr>\n",
       "      <th>2</th>\n",
       "      <td>2</td>\n",
       "      <td>вдовец / вдова</td>\n",
       "    </tr>\n",
       "    <tr>\n",
       "      <th>3</th>\n",
       "      <td>3</td>\n",
       "      <td>в разводе</td>\n",
       "    </tr>\n",
       "    <tr>\n",
       "      <th>4</th>\n",
       "      <td>4</td>\n",
       "      <td>не женат / не замужем</td>\n",
       "    </tr>\n",
       "  </tbody>\n",
       "</table>\n",
       "</div>"
      ],
      "text/plain": [
       "   family_status_id          family_status\n",
       "0                 0        женат / замужем\n",
       "1                 1       гражданский брак\n",
       "2                 2         вдовец / вдова\n",
       "3                 3              в разводе\n",
       "4                 4  не женат / не замужем"
      ]
     },
     "metadata": {},
     "output_type": "display_data"
    }
   ],
   "source": [
    "# группируем данные по семейному статусу\n",
    "family_status_correlation = df.pivot_table(index='family_status_id', values='debt', aggfunc=['sum', 'count'])\n",
    "family_status_correlation.columns = ['debt', 'count']\n",
    "\n",
    "# вычисляем процентое соотношение невозвратов по категориям\n",
    "family_status_correlation['ratio'] = family_status_correlation['debt'] / family_status_correlation['count'] * 100\n",
    "display(family_status_correlation)\n",
    "display(family_status_dict)"
   ]
  },
  {
   "cell_type": "markdown",
   "id": "7c20fc71",
   "metadata": {},
   "source": [
    "На первом месте по невозвратам кредитов находятся неженатые / незамужние заемщики - 9.75% невозвратов. На втором месте - заемщики, находящиеся в гражданском браке (9.32%). Далее - женатые (7.54%), в разводе и вдовствующие - 7.11% и 6.57% соответственно.\n",
    "\n",
    "Таким образом, четкую взаимосвязь между семейным статусом и возвратом кредита в срок мы не можем."
   ]
  },
  {
   "cell_type": "markdown",
   "id": "9c2cabd6",
   "metadata": {},
   "source": [
    "### Есть ли зависимость между уровнем дохода и возвратом кредита в срок?"
   ]
  },
  {
   "cell_type": "code",
   "execution_count": 36,
   "id": "66c6d0ba",
   "metadata": {},
   "outputs": [
    {
     "data": {
      "text/html": [
       "<div>\n",
       "<style scoped>\n",
       "    .dataframe tbody tr th:only-of-type {\n",
       "        vertical-align: middle;\n",
       "    }\n",
       "\n",
       "    .dataframe tbody tr th {\n",
       "        vertical-align: top;\n",
       "    }\n",
       "\n",
       "    .dataframe thead th {\n",
       "        text-align: right;\n",
       "    }\n",
       "</style>\n",
       "<table border=\"1\" class=\"dataframe\">\n",
       "  <thead>\n",
       "    <tr style=\"text-align: right;\">\n",
       "      <th></th>\n",
       "      <th>debt</th>\n",
       "      <th>count</th>\n",
       "      <th>ratio</th>\n",
       "    </tr>\n",
       "    <tr>\n",
       "      <th>total_income_category</th>\n",
       "      <th></th>\n",
       "      <th></th>\n",
       "      <th></th>\n",
       "    </tr>\n",
       "  </thead>\n",
       "  <tbody>\n",
       "    <tr>\n",
       "      <th>A</th>\n",
       "      <td>2</td>\n",
       "      <td>25</td>\n",
       "      <td>8.000000</td>\n",
       "    </tr>\n",
       "    <tr>\n",
       "      <th>B</th>\n",
       "      <td>356</td>\n",
       "      <td>5041</td>\n",
       "      <td>7.062091</td>\n",
       "    </tr>\n",
       "    <tr>\n",
       "      <th>C</th>\n",
       "      <td>1360</td>\n",
       "      <td>16032</td>\n",
       "      <td>8.483034</td>\n",
       "    </tr>\n",
       "    <tr>\n",
       "      <th>D</th>\n",
       "      <td>21</td>\n",
       "      <td>350</td>\n",
       "      <td>6.000000</td>\n",
       "    </tr>\n",
       "    <tr>\n",
       "      <th>E</th>\n",
       "      <td>2</td>\n",
       "      <td>22</td>\n",
       "      <td>9.090909</td>\n",
       "    </tr>\n",
       "  </tbody>\n",
       "</table>\n",
       "</div>"
      ],
      "text/plain": [
       "                       debt  count     ratio\n",
       "total_income_category                       \n",
       "A                         2     25  8.000000\n",
       "B                       356   5041  7.062091\n",
       "C                      1360  16032  8.483034\n",
       "D                        21    350  6.000000\n",
       "E                         2     22  9.090909"
      ]
     },
     "execution_count": 36,
     "metadata": {},
     "output_type": "execute_result"
    }
   ],
   "source": [
    "# группируем данные по уровню дохода\n",
    "total_income_correlation = df.pivot_table(index='total_income_category', values='debt', aggfunc=['sum', 'count'])\n",
    "total_income_correlation.columns = ['debt', 'count']\n",
    "\n",
    "# вычисляем процентое соотношение невозвратов по категориям\n",
    "total_income_correlation['ratio'] = total_income_correlation['debt'] / total_income_correlation['count'] * 100\n",
    "total_income_correlation"
   ]
  },
  {
   "cell_type": "markdown",
   "id": "4b8d12e6",
   "metadata": {},
   "source": [
    "Наибольшая доля невозвратов (9.09%) приходится на людей с низким уровнем дохода. 8.48% приходится на людей со средним уровнем дохода. На третьем месте люди с высоким уровнем дохода (8%), далее выше среднего (8.06%) и ниже среднего (6%).\n",
    "\n",
    "При таких результатах, мы не можем сказать, что существует взаимосвязь между уровнем дохода и возвратом кредита в срок."
   ]
  },
  {
   "cell_type": "markdown",
   "id": "6a16ee89",
   "metadata": {},
   "source": [
    "### Как разные цели кредита влияют на его возврат в срок?"
   ]
  },
  {
   "cell_type": "code",
   "execution_count": 37,
   "id": "5a6939ba",
   "metadata": {},
   "outputs": [
    {
     "data": {
      "text/html": [
       "<div>\n",
       "<style scoped>\n",
       "    .dataframe tbody tr th:only-of-type {\n",
       "        vertical-align: middle;\n",
       "    }\n",
       "\n",
       "    .dataframe tbody tr th {\n",
       "        vertical-align: top;\n",
       "    }\n",
       "\n",
       "    .dataframe thead th {\n",
       "        text-align: right;\n",
       "    }\n",
       "</style>\n",
       "<table border=\"1\" class=\"dataframe\">\n",
       "  <thead>\n",
       "    <tr style=\"text-align: right;\">\n",
       "      <th></th>\n",
       "      <th>debt</th>\n",
       "      <th>count</th>\n",
       "      <th>ratio</th>\n",
       "    </tr>\n",
       "    <tr>\n",
       "      <th>purpose_category</th>\n",
       "      <th></th>\n",
       "      <th></th>\n",
       "      <th></th>\n",
       "    </tr>\n",
       "  </thead>\n",
       "  <tbody>\n",
       "    <tr>\n",
       "      <th>операции с автомобилем</th>\n",
       "      <td>403</td>\n",
       "      <td>4308</td>\n",
       "      <td>9.354689</td>\n",
       "    </tr>\n",
       "    <tr>\n",
       "      <th>операции с недвижимостью</th>\n",
       "      <td>782</td>\n",
       "      <td>10814</td>\n",
       "      <td>7.231367</td>\n",
       "    </tr>\n",
       "    <tr>\n",
       "      <th>получение образования</th>\n",
       "      <td>370</td>\n",
       "      <td>4014</td>\n",
       "      <td>9.217738</td>\n",
       "    </tr>\n",
       "    <tr>\n",
       "      <th>проведение свадьбы</th>\n",
       "      <td>186</td>\n",
       "      <td>2334</td>\n",
       "      <td>7.969152</td>\n",
       "    </tr>\n",
       "  </tbody>\n",
       "</table>\n",
       "</div>"
      ],
      "text/plain": [
       "                          debt  count     ratio\n",
       "purpose_category                               \n",
       "операции с автомобилем     403   4308  9.354689\n",
       "операции с недвижимостью   782  10814  7.231367\n",
       "получение образования      370   4014  9.217738\n",
       "проведение свадьбы         186   2334  7.969152"
      ]
     },
     "execution_count": 37,
     "metadata": {},
     "output_type": "execute_result"
    }
   ],
   "source": [
    "# группируем данные по уровню дохода\n",
    "purpose_correlation = df.pivot_table(index='purpose_category', values='debt', aggfunc=['sum', 'count'])\n",
    "purpose_correlation.columns = ['debt', 'count']\n",
    "\n",
    "# вычисляем процентое соотношение невозвратов по категориям\n",
    "purpose_correlation['ratio'] = purpose_correlation['debt'] / purpose_correlation['count'] * 100\n",
    "purpose_correlation"
   ]
  },
  {
   "cell_type": "markdown",
   "id": "98058802",
   "metadata": {},
   "source": [
    "Распределение невозвратов кредита по целям кредитования следующее:\n",
    "1. Операции с автомобилем - 9.35%\n",
    "2. Получение образования - 9.21%\n",
    "3. Проведение свадьбы - 7.97%\n",
    "4. Операции с недвижимостью - 7.23%\n",
    "\n",
    "\n",
    "\n",
    "Наибольшая доля приходится на операции с автомобилем - 9.35%, наименьшая - на операции с недвижимостью (7.23%)."
   ]
  },
  {
   "cell_type": "markdown",
   "id": "c344d167",
   "metadata": {},
   "source": [
    "## 4. Итоги исследования"
   ]
  },
  {
   "cell_type": "markdown",
   "id": "c6acf662",
   "metadata": {},
   "source": [
    "Исследование было проведено для определения влияния разных факторов на возврат заемщиками кредитов в срок. Данные предоставлены кредитным отделом банка. В ходе их обзора выявились проблемы с аномалиями, пропусками и дубликатами.\n",
    "\n",
    "На этапе предобработки были устранены следующие аномалии:\n",
    "* Отрицательные значения стажа и количества детей взяты по модулю;\n",
    "* Неправдоподобно большие значения стажа по предположению внесены в часах, вместо дней. Поэтому такие значения переведены в дни;\n",
    "* Выдающееся значение детей в семье - 20 исправлено на 2;\n",
    "* Возраст заемщиков 0 лет исправлен на медианное значение.\n",
    "\n",
    "Пропуски значений по столбцам `days_employed` и `total_income`  были заполнены медианными значениями, так как являются количественными характеристиками.\n",
    "\n",
    "Были устранены неявные дубликаты по столбцу `education`. Данные в таблице были категоризированы, а также приведены к необходимым типам в соответствии с наименованием столбцов и содержанием.\n",
    "\n",
    "В ходе исследования были даны ответы на четыре вопроса.\n",
    "\n",
    " 1. Есть ли зависимость между количеством детей и возвратом кредита в срок?\n",
    "    \n",
    "    *Однозначной взаимосвязи между количеством детей и невозвратом кредита в срок не обнаружено.*\n",
    "   \n",
    "\n",
    "2. Есть ли зависимость между семейным положением и возвратом кредита в срок?\n",
    "\n",
    "    *Зависимость от семейного положения таже не обнаружена.*\n",
    "\n",
    " \n",
    " 3. Есть ли зависимость между уровнем дохода и возвратом кредита в срок?\n",
    "\n",
    "    *Взаимосвязь между уровнем дохода и возвратом кредита в срок не подтвердилась.*\n",
    "\n",
    " \n",
    " 4. Как разные цели кредита влияют на его возврат в срок?\n",
    "\n",
    "    *Наибольшая доля невозвратов в срок приходится на операции с автомобилями. Меньше всего риск невозвратов в срок при выдаче кредита на операции с недвижимостью.*"
   ]
  }
 ],
 "metadata": {
  "ExecuteTimeLog": [
   {
    "duration": 870,
    "start_time": "2022-04-09T08:20:09.867Z"
   },
   {
    "duration": 30,
    "start_time": "2022-04-09T08:20:10.739Z"
   },
   {
    "duration": 11,
    "start_time": "2022-04-09T08:20:10.770Z"
   },
   {
    "duration": 5,
    "start_time": "2022-04-09T08:20:10.782Z"
   },
   {
    "duration": 6,
    "start_time": "2022-04-09T08:20:10.789Z"
   },
   {
    "duration": 4,
    "start_time": "2022-04-09T08:20:10.796Z"
   },
   {
    "duration": 4,
    "start_time": "2022-04-09T08:20:10.802Z"
   },
   {
    "duration": 12,
    "start_time": "2022-04-09T08:20:10.807Z"
   },
   {
    "duration": 6,
    "start_time": "2022-04-09T08:20:10.820Z"
   },
   {
    "duration": 5,
    "start_time": "2022-04-09T08:20:10.829Z"
   },
   {
    "duration": 11,
    "start_time": "2022-04-09T08:20:10.836Z"
   },
   {
    "duration": 33,
    "start_time": "2022-04-09T08:20:10.849Z"
   },
   {
    "duration": 15,
    "start_time": "2022-04-09T08:20:10.883Z"
   },
   {
    "duration": 9,
    "start_time": "2022-04-09T08:20:10.900Z"
   },
   {
    "duration": 11,
    "start_time": "2022-04-09T08:20:10.910Z"
   },
   {
    "duration": 8,
    "start_time": "2022-04-09T08:20:10.922Z"
   },
   {
    "duration": 16,
    "start_time": "2022-04-09T08:20:10.932Z"
   },
   {
    "duration": 16,
    "start_time": "2022-04-09T08:20:10.950Z"
   },
   {
    "duration": 25,
    "start_time": "2022-04-09T08:20:10.967Z"
   },
   {
    "duration": 31,
    "start_time": "2022-04-09T08:20:10.993Z"
   },
   {
    "duration": 5,
    "start_time": "2022-04-09T08:20:11.025Z"
   },
   {
    "duration": 16,
    "start_time": "2022-04-09T08:20:11.031Z"
   },
   {
    "duration": 5,
    "start_time": "2022-04-09T08:20:11.048Z"
   },
   {
    "duration": 17,
    "start_time": "2022-04-09T08:20:11.081Z"
   },
   {
    "duration": 5,
    "start_time": "2022-04-09T08:20:11.099Z"
   },
   {
    "duration": 11,
    "start_time": "2022-04-09T08:20:11.106Z"
   },
   {
    "duration": 11,
    "start_time": "2022-04-09T08:20:11.118Z"
   },
   {
    "duration": 12,
    "start_time": "2022-04-09T08:20:11.132Z"
   },
   {
    "duration": 52,
    "start_time": "2022-04-09T08:20:11.145Z"
   },
   {
    "duration": 7,
    "start_time": "2022-04-09T08:20:11.199Z"
   },
   {
    "duration": 18,
    "start_time": "2022-04-09T08:20:11.208Z"
   },
   {
    "duration": 14,
    "start_time": "2022-04-09T08:20:11.227Z"
   },
   {
    "duration": 41,
    "start_time": "2022-04-09T08:20:11.243Z"
   },
   {
    "duration": 11,
    "start_time": "2022-04-09T08:20:11.285Z"
   },
   {
    "duration": 11,
    "start_time": "2022-04-09T08:20:11.298Z"
   },
   {
    "duration": 9,
    "start_time": "2022-04-09T09:32:13.976Z"
   },
   {
    "duration": 48,
    "start_time": "2022-04-11T07:16:10.588Z"
   },
   {
    "duration": 526,
    "start_time": "2022-04-11T07:16:17.846Z"
   },
   {
    "duration": 46,
    "start_time": "2022-04-11T07:16:18.375Z"
   },
   {
    "duration": 8,
    "start_time": "2022-04-11T07:16:18.423Z"
   },
   {
    "duration": 7,
    "start_time": "2022-04-11T07:16:25.909Z"
   },
   {
    "duration": 9,
    "start_time": "2022-04-11T07:31:10.945Z"
   },
   {
    "duration": 21,
    "start_time": "2022-04-11T07:34:08.323Z"
   },
   {
    "duration": 6,
    "start_time": "2022-04-11T07:34:35.762Z"
   },
   {
    "duration": 3,
    "start_time": "2022-04-11T07:35:30.498Z"
   },
   {
    "duration": 8,
    "start_time": "2022-04-11T07:35:33.487Z"
   },
   {
    "duration": 27,
    "start_time": "2022-04-11T07:37:09.411Z"
   },
   {
    "duration": 10,
    "start_time": "2022-04-11T07:37:37.875Z"
   },
   {
    "duration": 33,
    "start_time": "2022-04-11T07:37:46.248Z"
   },
   {
    "duration": 7,
    "start_time": "2022-04-11T07:39:57.993Z"
   },
   {
    "duration": 9,
    "start_time": "2022-04-11T07:40:27.193Z"
   },
   {
    "duration": 5,
    "start_time": "2022-04-11T07:40:43.733Z"
   },
   {
    "duration": 5,
    "start_time": "2022-04-11T07:41:02.946Z"
   },
   {
    "duration": 5,
    "start_time": "2022-04-11T07:44:37.788Z"
   },
   {
    "duration": 3,
    "start_time": "2022-04-11T07:44:39.479Z"
   },
   {
    "duration": 10,
    "start_time": "2022-04-11T07:44:44.418Z"
   },
   {
    "duration": 6,
    "start_time": "2022-04-11T07:45:10.458Z"
   },
   {
    "duration": 5,
    "start_time": "2022-04-11T07:45:13.623Z"
   },
   {
    "duration": 5,
    "start_time": "2022-04-11T07:45:30.924Z"
   },
   {
    "duration": 6,
    "start_time": "2022-04-11T07:45:33.048Z"
   },
   {
    "duration": 10,
    "start_time": "2022-04-11T07:45:39.242Z"
   },
   {
    "duration": 4,
    "start_time": "2022-04-11T07:45:47.643Z"
   },
   {
    "duration": 5,
    "start_time": "2022-04-11T07:45:48.311Z"
   },
   {
    "duration": 7,
    "start_time": "2022-04-11T07:46:00.194Z"
   },
   {
    "duration": 18,
    "start_time": "2022-04-11T07:46:02.178Z"
   },
   {
    "duration": 14,
    "start_time": "2022-04-11T07:46:08.816Z"
   },
   {
    "duration": 18,
    "start_time": "2022-04-11T07:46:16.982Z"
   },
   {
    "duration": 35,
    "start_time": "2022-04-11T07:46:19.551Z"
   },
   {
    "duration": 6,
    "start_time": "2022-04-11T07:46:22.608Z"
   },
   {
    "duration": 16,
    "start_time": "2022-04-11T07:46:24.083Z"
   },
   {
    "duration": 6,
    "start_time": "2022-04-11T07:46:25.869Z"
   },
   {
    "duration": 17,
    "start_time": "2022-04-11T07:46:27.294Z"
   },
   {
    "duration": 5,
    "start_time": "2022-04-11T07:46:29.478Z"
   },
   {
    "duration": 10,
    "start_time": "2022-04-11T07:46:42.749Z"
   },
   {
    "duration": 11,
    "start_time": "2022-04-11T07:46:43.368Z"
   },
   {
    "duration": 14,
    "start_time": "2022-04-11T07:46:44.043Z"
   },
   {
    "duration": 25,
    "start_time": "2022-04-11T07:46:59.113Z"
   },
   {
    "duration": 6,
    "start_time": "2022-04-11T07:48:00.798Z"
   },
   {
    "duration": 20,
    "start_time": "2022-04-11T07:48:07.644Z"
   },
   {
    "duration": 5,
    "start_time": "2022-04-11T07:56:24.789Z"
   },
   {
    "duration": 111,
    "start_time": "2022-04-11T08:32:54.431Z"
   },
   {
    "duration": 11,
    "start_time": "2022-04-11T08:32:59.334Z"
   },
   {
    "duration": 12,
    "start_time": "2022-04-11T08:33:04.246Z"
   },
   {
    "duration": 15,
    "start_time": "2022-04-11T08:33:58.016Z"
   },
   {
    "duration": 1751,
    "start_time": "2022-04-11T08:34:38.185Z"
   },
   {
    "duration": 589,
    "start_time": "2022-04-11T09:41:40.931Z"
   },
   {
    "duration": 59,
    "start_time": "2022-04-11T09:41:41.523Z"
   },
   {
    "duration": 8,
    "start_time": "2022-04-11T09:41:41.583Z"
   },
   {
    "duration": 5,
    "start_time": "2022-04-11T09:41:41.593Z"
   },
   {
    "duration": 6,
    "start_time": "2022-04-11T09:41:41.601Z"
   },
   {
    "duration": 7,
    "start_time": "2022-04-11T09:41:41.608Z"
   },
   {
    "duration": 8,
    "start_time": "2022-04-11T09:41:41.616Z"
   },
   {
    "duration": 6,
    "start_time": "2022-04-11T09:41:41.626Z"
   },
   {
    "duration": 6,
    "start_time": "2022-04-11T09:41:41.634Z"
   },
   {
    "duration": 16,
    "start_time": "2022-04-11T09:41:41.678Z"
   },
   {
    "duration": 6,
    "start_time": "2022-04-11T09:41:41.696Z"
   },
   {
    "duration": 8,
    "start_time": "2022-04-11T09:41:41.704Z"
   },
   {
    "duration": 5,
    "start_time": "2022-04-11T09:41:41.714Z"
   },
   {
    "duration": 6,
    "start_time": "2022-04-11T09:41:41.723Z"
   },
   {
    "duration": 49,
    "start_time": "2022-04-11T09:41:41.731Z"
   },
   {
    "duration": 5,
    "start_time": "2022-04-11T09:41:41.782Z"
   },
   {
    "duration": 7,
    "start_time": "2022-04-11T09:41:41.789Z"
   },
   {
    "duration": 10,
    "start_time": "2022-04-11T09:41:41.799Z"
   },
   {
    "duration": 17,
    "start_time": "2022-04-11T09:41:41.811Z"
   },
   {
    "duration": 16,
    "start_time": "2022-04-11T09:41:41.830Z"
   },
   {
    "duration": 18,
    "start_time": "2022-04-11T09:41:41.879Z"
   },
   {
    "duration": 50,
    "start_time": "2022-04-11T09:41:41.899Z"
   },
   {
    "duration": 31,
    "start_time": "2022-04-11T09:41:41.951Z"
   },
   {
    "duration": 19,
    "start_time": "2022-04-11T09:41:41.984Z"
   },
   {
    "duration": 8,
    "start_time": "2022-04-11T09:41:42.005Z"
   },
   {
    "duration": 20,
    "start_time": "2022-04-11T09:41:42.014Z"
   },
   {
    "duration": 8,
    "start_time": "2022-04-11T09:41:42.036Z"
   },
   {
    "duration": 40,
    "start_time": "2022-04-11T09:41:42.045Z"
   },
   {
    "duration": 12,
    "start_time": "2022-04-11T09:41:42.087Z"
   },
   {
    "duration": 14,
    "start_time": "2022-04-11T09:41:42.101Z"
   },
   {
    "duration": 29,
    "start_time": "2022-04-11T09:41:42.117Z"
   },
   {
    "duration": 40,
    "start_time": "2022-04-11T09:41:42.148Z"
   },
   {
    "duration": 19,
    "start_time": "2022-04-11T09:41:42.190Z"
   },
   {
    "duration": 3,
    "start_time": "2022-04-11T09:41:42.211Z"
   },
   {
    "duration": 1787,
    "start_time": "2022-04-11T09:41:44.282Z"
   },
   {
    "duration": 21,
    "start_time": "2022-04-11T09:41:54.730Z"
   },
   {
    "duration": 20,
    "start_time": "2022-04-11T09:44:46.114Z"
   },
   {
    "duration": 24,
    "start_time": "2022-04-11T09:45:09.609Z"
   },
   {
    "duration": 6,
    "start_time": "2022-04-11T09:45:21.767Z"
   },
   {
    "duration": 18,
    "start_time": "2022-04-11T09:45:29.369Z"
   },
   {
    "duration": 25,
    "start_time": "2022-04-11T09:45:47.253Z"
   },
   {
    "duration": 21,
    "start_time": "2022-04-11T09:46:10.024Z"
   },
   {
    "duration": 18,
    "start_time": "2022-04-11T09:47:47.404Z"
   },
   {
    "duration": 21,
    "start_time": "2022-04-11T09:48:14.874Z"
   },
   {
    "duration": 24,
    "start_time": "2022-04-11T09:56:29.983Z"
   },
   {
    "duration": 4,
    "start_time": "2022-04-11T09:57:19.775Z"
   },
   {
    "duration": 5,
    "start_time": "2022-04-11T09:57:30.730Z"
   },
   {
    "duration": 4,
    "start_time": "2022-04-11T09:57:46.868Z"
   },
   {
    "duration": 1770,
    "start_time": "2022-04-11T10:13:30.745Z"
   },
   {
    "duration": 25,
    "start_time": "2022-04-11T10:13:50.525Z"
   },
   {
    "duration": 3,
    "start_time": "2022-04-11T10:14:26.274Z"
   },
   {
    "duration": 22,
    "start_time": "2022-04-11T10:15:14.069Z"
   },
   {
    "duration": 25,
    "start_time": "2022-04-11T10:27:08.770Z"
   },
   {
    "duration": 5,
    "start_time": "2022-04-11T10:30:10.590Z"
   },
   {
    "duration": 598,
    "start_time": "2022-04-11T10:54:15.970Z"
   },
   {
    "duration": 50,
    "start_time": "2022-04-11T10:54:16.573Z"
   },
   {
    "duration": 7,
    "start_time": "2022-04-11T10:54:16.625Z"
   },
   {
    "duration": 8,
    "start_time": "2022-04-11T10:54:16.634Z"
   },
   {
    "duration": 34,
    "start_time": "2022-04-11T10:54:16.645Z"
   },
   {
    "duration": 7,
    "start_time": "2022-04-11T10:54:16.680Z"
   },
   {
    "duration": 9,
    "start_time": "2022-04-11T10:54:16.690Z"
   },
   {
    "duration": 8,
    "start_time": "2022-04-11T10:54:16.701Z"
   },
   {
    "duration": 8,
    "start_time": "2022-04-11T10:54:16.711Z"
   },
   {
    "duration": 15,
    "start_time": "2022-04-11T10:54:16.722Z"
   },
   {
    "duration": 40,
    "start_time": "2022-04-11T10:54:16.739Z"
   },
   {
    "duration": 16,
    "start_time": "2022-04-11T10:54:16.781Z"
   },
   {
    "duration": 7,
    "start_time": "2022-04-11T10:54:16.799Z"
   },
   {
    "duration": 6,
    "start_time": "2022-04-11T10:54:16.810Z"
   },
   {
    "duration": 21,
    "start_time": "2022-04-11T10:54:16.818Z"
   },
   {
    "duration": 8,
    "start_time": "2022-04-11T10:54:16.841Z"
   },
   {
    "duration": 5,
    "start_time": "2022-04-11T10:54:16.879Z"
   },
   {
    "duration": 10,
    "start_time": "2022-04-11T10:54:16.886Z"
   },
   {
    "duration": 12,
    "start_time": "2022-04-11T10:54:16.899Z"
   },
   {
    "duration": 16,
    "start_time": "2022-04-11T10:54:16.913Z"
   },
   {
    "duration": 55,
    "start_time": "2022-04-11T10:54:16.931Z"
   },
   {
    "duration": 35,
    "start_time": "2022-04-11T10:54:16.988Z"
   },
   {
    "duration": 6,
    "start_time": "2022-04-11T10:54:17.024Z"
   },
   {
    "duration": 48,
    "start_time": "2022-04-11T10:54:17.032Z"
   },
   {
    "duration": 9,
    "start_time": "2022-04-11T10:54:17.082Z"
   },
   {
    "duration": 24,
    "start_time": "2022-04-11T10:54:17.093Z"
   },
   {
    "duration": 8,
    "start_time": "2022-04-11T10:54:17.119Z"
   },
   {
    "duration": 15,
    "start_time": "2022-04-11T10:54:17.129Z"
   },
   {
    "duration": 14,
    "start_time": "2022-04-11T10:54:17.178Z"
   },
   {
    "duration": 19,
    "start_time": "2022-04-11T10:54:17.194Z"
   },
   {
    "duration": 32,
    "start_time": "2022-04-11T10:54:17.215Z"
   },
   {
    "duration": 33,
    "start_time": "2022-04-11T10:54:17.249Z"
   },
   {
    "duration": 24,
    "start_time": "2022-04-11T10:54:17.284Z"
   },
   {
    "duration": 30,
    "start_time": "2022-04-11T10:54:17.310Z"
   },
   {
    "duration": 51,
    "start_time": "2022-04-11T10:54:17.343Z"
   },
   {
    "duration": 33,
    "start_time": "2022-04-11T10:54:17.396Z"
   },
   {
    "duration": 65,
    "start_time": "2022-04-11T10:54:17.431Z"
   },
   {
    "duration": 484,
    "start_time": "2022-04-11T14:58:49.222Z"
   },
   {
    "duration": 32,
    "start_time": "2022-04-11T14:58:49.709Z"
   },
   {
    "duration": 8,
    "start_time": "2022-04-11T14:59:08.289Z"
   },
   {
    "duration": 7,
    "start_time": "2022-04-11T14:59:13.957Z"
   },
   {
    "duration": 7,
    "start_time": "2022-04-11T15:00:44.857Z"
   },
   {
    "duration": 6,
    "start_time": "2022-04-11T15:00:48.552Z"
   },
   {
    "duration": 5,
    "start_time": "2022-04-11T15:00:49.699Z"
   },
   {
    "duration": 471,
    "start_time": "2022-04-11T15:01:09.855Z"
   },
   {
    "duration": 36,
    "start_time": "2022-04-11T15:01:10.328Z"
   },
   {
    "duration": 7,
    "start_time": "2022-04-11T15:01:10.366Z"
   },
   {
    "duration": 5,
    "start_time": "2022-04-11T15:01:10.375Z"
   },
   {
    "duration": 27,
    "start_time": "2022-04-11T15:01:10.382Z"
   },
   {
    "duration": 5,
    "start_time": "2022-04-11T15:01:42.920Z"
   },
   {
    "duration": 5,
    "start_time": "2022-04-11T15:01:56.480Z"
   },
   {
    "duration": 5,
    "start_time": "2022-04-11T15:01:57.209Z"
   },
   {
    "duration": 6,
    "start_time": "2022-04-11T15:02:04.928Z"
   },
   {
    "duration": 3,
    "start_time": "2022-04-11T15:02:08.132Z"
   },
   {
    "duration": 11,
    "start_time": "2022-04-11T15:02:10.398Z"
   },
   {
    "duration": 5,
    "start_time": "2022-04-11T15:02:13.294Z"
   },
   {
    "duration": 4,
    "start_time": "2022-04-11T15:02:14.833Z"
   },
   {
    "duration": 5,
    "start_time": "2022-04-11T15:02:16.136Z"
   },
   {
    "duration": 4,
    "start_time": "2022-04-11T15:02:17.123Z"
   },
   {
    "duration": 11,
    "start_time": "2022-04-11T15:02:19.788Z"
   },
   {
    "duration": 5,
    "start_time": "2022-04-11T15:02:21.471Z"
   },
   {
    "duration": 4,
    "start_time": "2022-04-11T15:02:22.749Z"
   },
   {
    "duration": 5,
    "start_time": "2022-04-11T15:02:51.697Z"
   },
   {
    "duration": 530,
    "start_time": "2022-04-11T15:03:36.218Z"
   },
   {
    "duration": 33,
    "start_time": "2022-04-11T15:03:36.750Z"
   },
   {
    "duration": 6,
    "start_time": "2022-04-11T15:03:36.785Z"
   },
   {
    "duration": 18,
    "start_time": "2022-04-11T15:03:36.793Z"
   },
   {
    "duration": 7,
    "start_time": "2022-04-11T15:03:36.813Z"
   },
   {
    "duration": 6,
    "start_time": "2022-04-11T15:03:36.822Z"
   },
   {
    "duration": 8,
    "start_time": "2022-04-11T15:03:36.830Z"
   },
   {
    "duration": 7,
    "start_time": "2022-04-11T15:03:36.840Z"
   },
   {
    "duration": 13,
    "start_time": "2022-04-11T15:03:36.848Z"
   },
   {
    "duration": 533,
    "start_time": "2022-04-11T15:16:07.385Z"
   },
   {
    "duration": 35,
    "start_time": "2022-04-11T15:16:07.920Z"
   },
   {
    "duration": 7,
    "start_time": "2022-04-11T15:16:07.956Z"
   },
   {
    "duration": 6,
    "start_time": "2022-04-11T15:16:07.965Z"
   },
   {
    "duration": 19,
    "start_time": "2022-04-11T15:16:07.974Z"
   },
   {
    "duration": 6,
    "start_time": "2022-04-11T15:16:08.010Z"
   },
   {
    "duration": 6,
    "start_time": "2022-04-11T15:16:08.018Z"
   },
   {
    "duration": 10,
    "start_time": "2022-04-11T15:16:08.025Z"
   },
   {
    "duration": 10,
    "start_time": "2022-04-11T15:16:08.037Z"
   },
   {
    "duration": 6,
    "start_time": "2022-04-11T15:16:08.049Z"
   },
   {
    "duration": 5,
    "start_time": "2022-04-11T15:16:08.057Z"
   },
   {
    "duration": 51,
    "start_time": "2022-04-11T15:16:08.064Z"
   },
   {
    "duration": 5,
    "start_time": "2022-04-11T15:16:08.117Z"
   },
   {
    "duration": 4,
    "start_time": "2022-04-11T15:16:08.126Z"
   },
   {
    "duration": 5,
    "start_time": "2022-04-11T15:16:08.132Z"
   },
   {
    "duration": 5,
    "start_time": "2022-04-11T15:16:08.139Z"
   },
   {
    "duration": 14,
    "start_time": "2022-04-11T15:16:08.145Z"
   },
   {
    "duration": 5,
    "start_time": "2022-04-11T15:16:08.161Z"
   },
   {
    "duration": 6,
    "start_time": "2022-04-11T15:16:08.210Z"
   },
   {
    "duration": 16,
    "start_time": "2022-04-11T15:16:08.218Z"
   },
   {
    "duration": 16,
    "start_time": "2022-04-11T15:16:08.236Z"
   },
   {
    "duration": 19,
    "start_time": "2022-04-11T15:16:08.255Z"
   },
   {
    "duration": 44,
    "start_time": "2022-04-11T15:16:08.276Z"
   },
   {
    "duration": 36,
    "start_time": "2022-04-11T15:16:08.321Z"
   },
   {
    "duration": 5,
    "start_time": "2022-04-11T15:16:08.359Z"
   },
   {
    "duration": 50,
    "start_time": "2022-04-11T15:16:08.366Z"
   },
   {
    "duration": 15,
    "start_time": "2022-04-11T15:16:08.418Z"
   },
   {
    "duration": 32,
    "start_time": "2022-04-11T15:16:08.435Z"
   },
   {
    "duration": 7,
    "start_time": "2022-04-11T15:16:08.469Z"
   },
   {
    "duration": 36,
    "start_time": "2022-04-11T15:16:08.478Z"
   },
   {
    "duration": 15,
    "start_time": "2022-04-11T15:16:08.516Z"
   },
   {
    "duration": 20,
    "start_time": "2022-04-11T15:16:08.533Z"
   },
   {
    "duration": 20,
    "start_time": "2022-04-11T15:16:08.555Z"
   },
   {
    "duration": 38,
    "start_time": "2022-04-11T15:16:08.577Z"
   },
   {
    "duration": 20,
    "start_time": "2022-04-11T15:16:08.617Z"
   },
   {
    "duration": 27,
    "start_time": "2022-04-11T15:16:08.638Z"
   },
   {
    "duration": 53,
    "start_time": "2022-04-11T15:16:08.667Z"
   },
   {
    "duration": 23,
    "start_time": "2022-04-11T15:16:08.722Z"
   },
   {
    "duration": 25,
    "start_time": "2022-04-11T15:16:08.747Z"
   }
  ],
  "kernelspec": {
   "display_name": "Python 3.10.5 64-bit",
   "language": "python",
   "name": "python3"
  },
  "language_info": {
   "codemirror_mode": {
    "name": "ipython",
    "version": 3
   },
   "file_extension": ".py",
   "mimetype": "text/x-python",
   "name": "python",
   "nbconvert_exporter": "python",
   "pygments_lexer": "ipython3",
   "version": "3.10.5"
  },
  "toc": {
   "base_numbering": 1,
   "nav_menu": {},
   "number_sections": true,
   "sideBar": true,
   "skip_h1_title": true,
   "title_cell": "Table of Contents",
   "title_sidebar": "Contents",
   "toc_cell": false,
   "toc_position": {},
   "toc_section_display": true,
   "toc_window_display": false
  },
  "vscode": {
   "interpreter": {
    "hash": "62108d3bcabba50a5551c94be0c58944c48365daffc285bf9efbbaced917d542"
   }
  }
 },
 "nbformat": 4,
 "nbformat_minor": 5
}
