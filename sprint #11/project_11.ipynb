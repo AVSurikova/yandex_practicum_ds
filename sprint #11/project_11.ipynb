{
 "cells": [
  {
   "cell_type": "markdown",
   "metadata": {},
   "source": [
    "# Определение стоимости автомобилей"
   ]
  },
  {
   "cell_type": "markdown",
   "metadata": {},
   "source": [
    "### Описние проекта\n",
    "\n",
    "**Цель проекта:**\n",
    "Построить модель определения рыночной стоимости автомобилей для сервиса по продаже автомобилей с пробегом.\n",
    "\n",
    "Заказчику важны:\n",
    "- качество предсказания;\n",
    "- скорость предсказания;\n",
    "- время обучения;\n",
    "- значение метрики RMSE должно быть меньше 2500.\n",
    "\n",
    "\n",
    "**Исходные данные:**\n",
    "Исторические данные сервиса по продаже автомобилей с пробегом: технические характеристики, комплектации и цены автомобилей.\n",
    "\n",
    "**Описание данных:**\n",
    "\n",
    "*Признаки*\n",
    "* `DateCrawled` — дата скачивания анкеты из базы\n",
    "* `VehicleType` — тип автомобильного кузова\n",
    "* `RegistrationYear` — год регистрации автомобиля\n",
    "* `Gearbox` — тип коробки передач\n",
    "* `Power` — мощность (л. с.)\n",
    "* `Model` — модель автомобиля\n",
    "* `Kilometer` — пробег (км)\n",
    "* `RegistrationMonth` — месяц регистрации автомобиля\n",
    "* `FuelType` — тип топлива\n",
    "* `Brand` — марка автомобиля\n",
    "* `NotRepaired` — была машина в ремонте или нет\n",
    "* `DateCreated` — дата создания анкеты\n",
    "* `NumberOfPictures` — количество фотографий автомобиля\n",
    "* `PostalCode` — почтовый индекс владельца анкеты (пользователя)\n",
    "* `LastSeen` — дата последней активности пользователя\n",
    "\n",
    "*Целевой признак*\n",
    "* `Price` — цена (евро)\n",
    "\n",
    "### Структура проекта\n",
    "\n",
    "1. Подготовка данных\n",
    "2. Обучение моделей\n",
    "3. Итоговый вывод"
   ]
  },
  {
   "cell_type": "markdown",
   "metadata": {},
   "source": [
    "## 1. Подготовка данных"
   ]
  },
  {
   "cell_type": "code",
   "execution_count": 1,
   "metadata": {},
   "outputs": [],
   "source": [
    "# импортируем необходимые библиотеки\n",
    "import os\n",
    "import pandas as pd\n",
    "import category_encoders as ce\n",
    "\n",
    "from sklearn.preprocessing import MinMaxScaler\n",
    "from sklearn.model_selection import GridSearchCV, train_test_split\n",
    "from sklearn.linear_model import LinearRegression\n",
    "from sklearn.metrics import mean_squared_error\n",
    "from sklearn.dummy import DummyRegressor\n",
    "\n",
    "from catboost import CatBoostRegressor\n",
    "from lightgbm import LGBMRegressor"
   ]
  },
  {
   "cell_type": "code",
   "execution_count": 2,
   "metadata": {},
   "outputs": [],
   "source": [
    "# загружаем датасет\n",
    "if os.path.exists(f'C:\\\\Users\\\\Anna\\\\Desktop\\\\Python\\\\Yandex Praktikum\\\\Datasets\\\\project_11\\\\autos.csv'):\n",
    "    df = pd.read_csv(f'C:\\\\Users\\\\Anna\\\\Desktop\\\\Python\\\\Yandex Praktikum\\\\Datasets\\\\project_11\\\\autos.csv')\n",
    "elif os.path.exists(f'/datasets/autos.csv'):\n",
    "    df = pd.read_csv(f'/datasets/autos.csv')\n",
    "else:\n",
    "    print(f'Something is wrong')"
   ]
  },
  {
   "cell_type": "code",
   "execution_count": 3,
   "metadata": {},
   "outputs": [
    {
     "data": {
      "text/html": [
       "<div>\n",
       "<style scoped>\n",
       "    .dataframe tbody tr th:only-of-type {\n",
       "        vertical-align: middle;\n",
       "    }\n",
       "\n",
       "    .dataframe tbody tr th {\n",
       "        vertical-align: top;\n",
       "    }\n",
       "\n",
       "    .dataframe thead th {\n",
       "        text-align: right;\n",
       "    }\n",
       "</style>\n",
       "<table border=\"1\" class=\"dataframe\">\n",
       "  <thead>\n",
       "    <tr style=\"text-align: right;\">\n",
       "      <th></th>\n",
       "      <th>DateCrawled</th>\n",
       "      <th>Price</th>\n",
       "      <th>VehicleType</th>\n",
       "      <th>RegistrationYear</th>\n",
       "      <th>Gearbox</th>\n",
       "      <th>Power</th>\n",
       "      <th>Model</th>\n",
       "      <th>Kilometer</th>\n",
       "      <th>RegistrationMonth</th>\n",
       "      <th>FuelType</th>\n",
       "      <th>Brand</th>\n",
       "      <th>NotRepaired</th>\n",
       "      <th>DateCreated</th>\n",
       "      <th>NumberOfPictures</th>\n",
       "      <th>PostalCode</th>\n",
       "      <th>LastSeen</th>\n",
       "    </tr>\n",
       "  </thead>\n",
       "  <tbody>\n",
       "    <tr>\n",
       "      <th>0</th>\n",
       "      <td>2016-03-24 11:52:17</td>\n",
       "      <td>480</td>\n",
       "      <td>NaN</td>\n",
       "      <td>1993</td>\n",
       "      <td>manual</td>\n",
       "      <td>0</td>\n",
       "      <td>golf</td>\n",
       "      <td>150000</td>\n",
       "      <td>0</td>\n",
       "      <td>petrol</td>\n",
       "      <td>volkswagen</td>\n",
       "      <td>NaN</td>\n",
       "      <td>2016-03-24 00:00:00</td>\n",
       "      <td>0</td>\n",
       "      <td>70435</td>\n",
       "      <td>2016-04-07 03:16:57</td>\n",
       "    </tr>\n",
       "    <tr>\n",
       "      <th>1</th>\n",
       "      <td>2016-03-24 10:58:45</td>\n",
       "      <td>18300</td>\n",
       "      <td>coupe</td>\n",
       "      <td>2011</td>\n",
       "      <td>manual</td>\n",
       "      <td>190</td>\n",
       "      <td>NaN</td>\n",
       "      <td>125000</td>\n",
       "      <td>5</td>\n",
       "      <td>gasoline</td>\n",
       "      <td>audi</td>\n",
       "      <td>yes</td>\n",
       "      <td>2016-03-24 00:00:00</td>\n",
       "      <td>0</td>\n",
       "      <td>66954</td>\n",
       "      <td>2016-04-07 01:46:50</td>\n",
       "    </tr>\n",
       "    <tr>\n",
       "      <th>2</th>\n",
       "      <td>2016-03-14 12:52:21</td>\n",
       "      <td>9800</td>\n",
       "      <td>suv</td>\n",
       "      <td>2004</td>\n",
       "      <td>auto</td>\n",
       "      <td>163</td>\n",
       "      <td>grand</td>\n",
       "      <td>125000</td>\n",
       "      <td>8</td>\n",
       "      <td>gasoline</td>\n",
       "      <td>jeep</td>\n",
       "      <td>NaN</td>\n",
       "      <td>2016-03-14 00:00:00</td>\n",
       "      <td>0</td>\n",
       "      <td>90480</td>\n",
       "      <td>2016-04-05 12:47:46</td>\n",
       "    </tr>\n",
       "    <tr>\n",
       "      <th>3</th>\n",
       "      <td>2016-03-17 16:54:04</td>\n",
       "      <td>1500</td>\n",
       "      <td>small</td>\n",
       "      <td>2001</td>\n",
       "      <td>manual</td>\n",
       "      <td>75</td>\n",
       "      <td>golf</td>\n",
       "      <td>150000</td>\n",
       "      <td>6</td>\n",
       "      <td>petrol</td>\n",
       "      <td>volkswagen</td>\n",
       "      <td>no</td>\n",
       "      <td>2016-03-17 00:00:00</td>\n",
       "      <td>0</td>\n",
       "      <td>91074</td>\n",
       "      <td>2016-03-17 17:40:17</td>\n",
       "    </tr>\n",
       "    <tr>\n",
       "      <th>4</th>\n",
       "      <td>2016-03-31 17:25:20</td>\n",
       "      <td>3600</td>\n",
       "      <td>small</td>\n",
       "      <td>2008</td>\n",
       "      <td>manual</td>\n",
       "      <td>69</td>\n",
       "      <td>fabia</td>\n",
       "      <td>90000</td>\n",
       "      <td>7</td>\n",
       "      <td>gasoline</td>\n",
       "      <td>skoda</td>\n",
       "      <td>no</td>\n",
       "      <td>2016-03-31 00:00:00</td>\n",
       "      <td>0</td>\n",
       "      <td>60437</td>\n",
       "      <td>2016-04-06 10:17:21</td>\n",
       "    </tr>\n",
       "    <tr>\n",
       "      <th>...</th>\n",
       "      <td>...</td>\n",
       "      <td>...</td>\n",
       "      <td>...</td>\n",
       "      <td>...</td>\n",
       "      <td>...</td>\n",
       "      <td>...</td>\n",
       "      <td>...</td>\n",
       "      <td>...</td>\n",
       "      <td>...</td>\n",
       "      <td>...</td>\n",
       "      <td>...</td>\n",
       "      <td>...</td>\n",
       "      <td>...</td>\n",
       "      <td>...</td>\n",
       "      <td>...</td>\n",
       "      <td>...</td>\n",
       "    </tr>\n",
       "    <tr>\n",
       "      <th>354364</th>\n",
       "      <td>2016-03-21 09:50:58</td>\n",
       "      <td>0</td>\n",
       "      <td>NaN</td>\n",
       "      <td>2005</td>\n",
       "      <td>manual</td>\n",
       "      <td>0</td>\n",
       "      <td>colt</td>\n",
       "      <td>150000</td>\n",
       "      <td>7</td>\n",
       "      <td>petrol</td>\n",
       "      <td>mitsubishi</td>\n",
       "      <td>yes</td>\n",
       "      <td>2016-03-21 00:00:00</td>\n",
       "      <td>0</td>\n",
       "      <td>2694</td>\n",
       "      <td>2016-03-21 10:42:49</td>\n",
       "    </tr>\n",
       "    <tr>\n",
       "      <th>354365</th>\n",
       "      <td>2016-03-14 17:48:27</td>\n",
       "      <td>2200</td>\n",
       "      <td>NaN</td>\n",
       "      <td>2005</td>\n",
       "      <td>NaN</td>\n",
       "      <td>0</td>\n",
       "      <td>NaN</td>\n",
       "      <td>20000</td>\n",
       "      <td>1</td>\n",
       "      <td>NaN</td>\n",
       "      <td>sonstige_autos</td>\n",
       "      <td>NaN</td>\n",
       "      <td>2016-03-14 00:00:00</td>\n",
       "      <td>0</td>\n",
       "      <td>39576</td>\n",
       "      <td>2016-04-06 00:46:52</td>\n",
       "    </tr>\n",
       "    <tr>\n",
       "      <th>354366</th>\n",
       "      <td>2016-03-05 19:56:21</td>\n",
       "      <td>1199</td>\n",
       "      <td>convertible</td>\n",
       "      <td>2000</td>\n",
       "      <td>auto</td>\n",
       "      <td>101</td>\n",
       "      <td>fortwo</td>\n",
       "      <td>125000</td>\n",
       "      <td>3</td>\n",
       "      <td>petrol</td>\n",
       "      <td>smart</td>\n",
       "      <td>no</td>\n",
       "      <td>2016-03-05 00:00:00</td>\n",
       "      <td>0</td>\n",
       "      <td>26135</td>\n",
       "      <td>2016-03-11 18:17:12</td>\n",
       "    </tr>\n",
       "    <tr>\n",
       "      <th>354367</th>\n",
       "      <td>2016-03-19 18:57:12</td>\n",
       "      <td>9200</td>\n",
       "      <td>bus</td>\n",
       "      <td>1996</td>\n",
       "      <td>manual</td>\n",
       "      <td>102</td>\n",
       "      <td>transporter</td>\n",
       "      <td>150000</td>\n",
       "      <td>3</td>\n",
       "      <td>gasoline</td>\n",
       "      <td>volkswagen</td>\n",
       "      <td>no</td>\n",
       "      <td>2016-03-19 00:00:00</td>\n",
       "      <td>0</td>\n",
       "      <td>87439</td>\n",
       "      <td>2016-04-07 07:15:26</td>\n",
       "    </tr>\n",
       "    <tr>\n",
       "      <th>354368</th>\n",
       "      <td>2016-03-20 19:41:08</td>\n",
       "      <td>3400</td>\n",
       "      <td>wagon</td>\n",
       "      <td>2002</td>\n",
       "      <td>manual</td>\n",
       "      <td>100</td>\n",
       "      <td>golf</td>\n",
       "      <td>150000</td>\n",
       "      <td>6</td>\n",
       "      <td>gasoline</td>\n",
       "      <td>volkswagen</td>\n",
       "      <td>NaN</td>\n",
       "      <td>2016-03-20 00:00:00</td>\n",
       "      <td>0</td>\n",
       "      <td>40764</td>\n",
       "      <td>2016-03-24 12:45:21</td>\n",
       "    </tr>\n",
       "  </tbody>\n",
       "</table>\n",
       "<p>354369 rows × 16 columns</p>\n",
       "</div>"
      ],
      "text/plain": [
       "                DateCrawled  Price  VehicleType  RegistrationYear Gearbox  \\\n",
       "0       2016-03-24 11:52:17    480          NaN              1993  manual   \n",
       "1       2016-03-24 10:58:45  18300        coupe              2011  manual   \n",
       "2       2016-03-14 12:52:21   9800          suv              2004    auto   \n",
       "3       2016-03-17 16:54:04   1500        small              2001  manual   \n",
       "4       2016-03-31 17:25:20   3600        small              2008  manual   \n",
       "...                     ...    ...          ...               ...     ...   \n",
       "354364  2016-03-21 09:50:58      0          NaN              2005  manual   \n",
       "354365  2016-03-14 17:48:27   2200          NaN              2005     NaN   \n",
       "354366  2016-03-05 19:56:21   1199  convertible              2000    auto   \n",
       "354367  2016-03-19 18:57:12   9200          bus              1996  manual   \n",
       "354368  2016-03-20 19:41:08   3400        wagon              2002  manual   \n",
       "\n",
       "        Power        Model  Kilometer  RegistrationMonth  FuelType  \\\n",
       "0           0         golf     150000                  0    petrol   \n",
       "1         190          NaN     125000                  5  gasoline   \n",
       "2         163        grand     125000                  8  gasoline   \n",
       "3          75         golf     150000                  6    petrol   \n",
       "4          69        fabia      90000                  7  gasoline   \n",
       "...       ...          ...        ...                ...       ...   \n",
       "354364      0         colt     150000                  7    petrol   \n",
       "354365      0          NaN      20000                  1       NaN   \n",
       "354366    101       fortwo     125000                  3    petrol   \n",
       "354367    102  transporter     150000                  3  gasoline   \n",
       "354368    100         golf     150000                  6  gasoline   \n",
       "\n",
       "                 Brand NotRepaired          DateCreated  NumberOfPictures  \\\n",
       "0           volkswagen         NaN  2016-03-24 00:00:00                 0   \n",
       "1                 audi         yes  2016-03-24 00:00:00                 0   \n",
       "2                 jeep         NaN  2016-03-14 00:00:00                 0   \n",
       "3           volkswagen          no  2016-03-17 00:00:00                 0   \n",
       "4                skoda          no  2016-03-31 00:00:00                 0   \n",
       "...                ...         ...                  ...               ...   \n",
       "354364      mitsubishi         yes  2016-03-21 00:00:00                 0   \n",
       "354365  sonstige_autos         NaN  2016-03-14 00:00:00                 0   \n",
       "354366           smart          no  2016-03-05 00:00:00                 0   \n",
       "354367      volkswagen          no  2016-03-19 00:00:00                 0   \n",
       "354368      volkswagen         NaN  2016-03-20 00:00:00                 0   \n",
       "\n",
       "        PostalCode             LastSeen  \n",
       "0            70435  2016-04-07 03:16:57  \n",
       "1            66954  2016-04-07 01:46:50  \n",
       "2            90480  2016-04-05 12:47:46  \n",
       "3            91074  2016-03-17 17:40:17  \n",
       "4            60437  2016-04-06 10:17:21  \n",
       "...            ...                  ...  \n",
       "354364        2694  2016-03-21 10:42:49  \n",
       "354365       39576  2016-04-06 00:46:52  \n",
       "354366       26135  2016-03-11 18:17:12  \n",
       "354367       87439  2016-04-07 07:15:26  \n",
       "354368       40764  2016-03-24 12:45:21  \n",
       "\n",
       "[354369 rows x 16 columns]"
      ]
     },
     "metadata": {},
     "output_type": "display_data"
    },
    {
     "name": "stdout",
     "output_type": "stream",
     "text": [
      "<class 'pandas.core.frame.DataFrame'>\n",
      "RangeIndex: 354369 entries, 0 to 354368\n",
      "Data columns (total 16 columns):\n",
      " #   Column             Non-Null Count   Dtype \n",
      "---  ------             --------------   ----- \n",
      " 0   DateCrawled        354369 non-null  object\n",
      " 1   Price              354369 non-null  int64 \n",
      " 2   VehicleType        316879 non-null  object\n",
      " 3   RegistrationYear   354369 non-null  int64 \n",
      " 4   Gearbox            334536 non-null  object\n",
      " 5   Power              354369 non-null  int64 \n",
      " 6   Model              334664 non-null  object\n",
      " 7   Kilometer          354369 non-null  int64 \n",
      " 8   RegistrationMonth  354369 non-null  int64 \n",
      " 9   FuelType           321474 non-null  object\n",
      " 10  Brand              354369 non-null  object\n",
      " 11  NotRepaired        283215 non-null  object\n",
      " 12  DateCreated        354369 non-null  object\n",
      " 13  NumberOfPictures   354369 non-null  int64 \n",
      " 14  PostalCode         354369 non-null  int64 \n",
      " 15  LastSeen           354369 non-null  object\n",
      "dtypes: int64(7), object(9)\n",
      "memory usage: 43.3+ MB\n",
      "\n",
      "Количество явных дубликатов:4\n"
     ]
    }
   ],
   "source": [
    "# выводим таблицу, инфо о ней, а также количество явных дубликатов\n",
    "display(df)\n",
    "df.info()\n",
    "print()\n",
    "print(f'Количество явных дубликатов:{df.duplicated().sum()}')"
   ]
  },
  {
   "cell_type": "code",
   "execution_count": 4,
   "metadata": {},
   "outputs": [],
   "source": [
    "# сохраним изначальное количество строк датасета\n",
    "start_size = df.shape[0]\n",
    "\n",
    "# удаляем явные дубликаты\n",
    "df = df.drop_duplicates()"
   ]
  },
  {
   "cell_type": "code",
   "execution_count": 5,
   "metadata": {},
   "outputs": [
    {
     "data": {
      "text/plain": [
       "array([0], dtype=int64)"
      ]
     },
     "execution_count": 5,
     "metadata": {},
     "output_type": "execute_result"
    }
   ],
   "source": [
    "# проверим уникальные значения столбца 'NumberOfPictures', вероятно он состоит из нулей\n",
    "df['NumberOfPictures'].unique()"
   ]
  },
  {
   "cell_type": "code",
   "execution_count": 6,
   "metadata": {},
   "outputs": [
    {
     "name": "stdout",
     "output_type": "stream",
     "text": [
      "<class 'pandas.core.frame.DataFrame'>\n",
      "Int64Index: 354365 entries, 0 to 354368\n",
      "Data columns (total 11 columns):\n",
      " #   Column             Non-Null Count   Dtype \n",
      "---  ------             --------------   ----- \n",
      " 0   Price              354365 non-null  int64 \n",
      " 1   VehicleType        316875 non-null  object\n",
      " 2   RegistrationYear   354365 non-null  int64 \n",
      " 3   Gearbox            334532 non-null  object\n",
      " 4   Power              354365 non-null  int64 \n",
      " 5   Model              334660 non-null  object\n",
      " 6   Kilometer          354365 non-null  int64 \n",
      " 7   RegistrationMonth  354365 non-null  int64 \n",
      " 8   FuelType           321470 non-null  object\n",
      " 9   Brand              354365 non-null  object\n",
      " 10  NotRepaired        283211 non-null  object\n",
      "dtypes: int64(5), object(6)\n",
      "memory usage: 32.4+ MB\n"
     ]
    }
   ],
   "source": [
    "# удаляем столбцы, которые не дадут нам полезной информации для предсказания цены\n",
    "df.drop(['DateCrawled', 'LastSeen', 'DateCreated', 'PostalCode', 'NumberOfPictures'], axis=1, inplace=True)\n",
    "df.info()"
   ]
  },
  {
   "cell_type": "code",
   "execution_count": 7,
   "metadata": {},
   "outputs": [],
   "source": [
    "# оставим объекты с правдоподобной стоимостью автомобиля от 100 евро (по анализу различных сайтов европы)\n",
    "df = df.query('Price >= 100')"
   ]
  },
  {
   "cell_type": "code",
   "execution_count": 8,
   "metadata": {},
   "outputs": [
    {
     "data": {
      "text/plain": [
       "count    341051.000000\n",
       "mean       2003.955335\n",
       "std          69.812151\n",
       "min        1000.000000\n",
       "25%        1999.000000\n",
       "50%        2003.000000\n",
       "75%        2008.000000\n",
       "max        9999.000000\n",
       "Name: RegistrationYear, dtype: float64"
      ]
     },
     "execution_count": 8,
     "metadata": {},
     "output_type": "execute_result"
    }
   ],
   "source": [
    "# посмотрим на описание значений столбца 'RegistrationYear'\n",
    "df['RegistrationYear'].describe()"
   ]
  },
  {
   "cell_type": "code",
   "execution_count": 9,
   "metadata": {},
   "outputs": [],
   "source": [
    "# оставим объекты с максимально правдоподобным годом выпуска от 1950 до 2016 (так как объявления датированы не позднее 2016 года)\n",
    "df = df.query('RegistrationYear >= 1980 and RegistrationYear <= 2016')"
   ]
  },
  {
   "cell_type": "code",
   "execution_count": 10,
   "metadata": {},
   "outputs": [
    {
     "data": {
      "text/plain": [
       "count    324299.000000\n",
       "mean        112.644566\n",
       "std         183.800041\n",
       "min           0.000000\n",
       "25%          73.000000\n",
       "50%         105.000000\n",
       "75%         143.000000\n",
       "max       20000.000000\n",
       "Name: Power, dtype: float64"
      ]
     },
     "execution_count": 10,
     "metadata": {},
     "output_type": "execute_result"
    }
   ],
   "source": [
    "# посмотрим на описание значений столбца 'Power'\n",
    "df['Power'].describe()"
   ]
  },
  {
   "cell_type": "code",
   "execution_count": 11,
   "metadata": {},
   "outputs": [],
   "source": [
    "# оставим объекты с максимально правдоподобным количеством лошадиных сил\n",
    "df = df.query('Power >= 50 and Power <= 400')"
   ]
  },
  {
   "cell_type": "code",
   "execution_count": 12,
   "metadata": {},
   "outputs": [
    {
     "data": {
      "text/plain": [
       "array([nan, 'grand', 'golf', 'fabia', '3er', '2_reihe', 'c_max',\n",
       "       '3_reihe', 'passat', 'navara', 'polo', 'twingo', 'a_klasse',\n",
       "       'scirocco', '5er', 'arosa', 'other', 'civic', 'transporter',\n",
       "       'punto', 'e_klasse', 'clio', 'kadett', 'one', 'fortwo', '1er',\n",
       "       'b_klasse', 'a8', 'jetta', 'fiesta', 'c_klasse', 'micra', 'vito',\n",
       "       'sprinter', 'astra', '156', 'escort', 'forester', 'xc_reihe',\n",
       "       'scenic', 'ka', 'a1', 'focus', 'a4', 'tt', 'a6', 'jazz', 'omega',\n",
       "       'slk', '7er', 'combo', 'corsa', '80', '147', 'z_reihe', 'sorento',\n",
       "       'ibiza', 'mustang', 'eos', 'touran', 'getz', 'insignia', 'almera',\n",
       "       'megane', 'a3', 'r19', 'caddy', 'mondeo', 'cordoba', 'colt',\n",
       "       'impreza', 'vectra', 'lupo', 'berlingo', 'tiguan', '6_reihe', 'c4',\n",
       "       'panda', 'up', 'i_reihe', 'ceed', 'kangoo', '5_reihe', 'yeti',\n",
       "       'octavia', 'zafira', 'mii', 'rx_reihe', '6er', 'modus', 'fox',\n",
       "       'matiz', 'beetle', 'rio', 'touareg', 'logan', 'spider', 'cuore',\n",
       "       's_max', 'a2', 'galaxy', 'c3', 'viano', 's_klasse', '1_reihe',\n",
       "       'sharan', 'avensis', 'roomster', 'sl', 'santa', 'leon', 'cooper',\n",
       "       '4_reihe', 'a5', 'sportage', 'laguna', 'ptcruiser', 'clk',\n",
       "       'primera', 'espace', 'exeo', '159', 'transit', 'juke', 'x_reihe',\n",
       "       'v40', 'carisma', 'accord', 'corolla', 'lanos', 'phaeton', 'verso',\n",
       "       'swift', 'rav', 'qashqai', 'picanto', 'boxster', 'superb', 'stilo',\n",
       "       'alhambra', 'roadster', 'ypsilon', 'galant', 'justy', '90',\n",
       "       'sirion', 'signum', 'crossfire', 'agila', 'duster', 'v50',\n",
       "       'mx_reihe', 'meriva', 'c_reihe', 'v_klasse', 'm_klasse', 'yaris',\n",
       "       'c5', 'aygo', 'seicento', 'cc', 'carnival', 'fusion', '911',\n",
       "       'bora', 'forfour', 'cl', 'tigra', '300c', '500', '100', 'cr_reihe',\n",
       "       'spark', 'kuga', 'x_type', 'ducato', 's_type', 'x_trail', 'toledo',\n",
       "       'altea', 'voyager', 'calibra', 'v70', 'bravo', 'tucson', 'c1',\n",
       "       'citigo', 'jimny', 'cayenne', 'wrangler', 'lybra', 'lancer',\n",
       "       'captiva', 'discovery', 'freelander', 'sandero', 'q7', 'note',\n",
       "       'antara', '900', 'cherokee', 'clubman', 'defender', 'cx_reihe',\n",
       "       'legacy', 'pajero', 'auris', 'c2', 'niva', 's60', 'm_reihe',\n",
       "       'nubira', 'vivaro', 'g_klasse', 'lodgy', 'range_rover', '850',\n",
       "       'q3', 'serie_2', 'glk', 'charade', 'croma', 'outlander', 'kaefer',\n",
       "       'doblo', 'musa', '9000', 'kalos', 'v60', '200', '145', 'b_max',\n",
       "       'range_rover_sport', 'aveo', 'rangerover', 'q5', 'move',\n",
       "       'range_rover_evoque', 'materia', 'delta', 'terios', 'gl', 'kalina',\n",
       "       'elefantino', 'i3', 'samara', 'amarok', '601', 'kappa'],\n",
       "      dtype=object)"
      ]
     },
     "execution_count": 12,
     "metadata": {},
     "output_type": "execute_result"
    }
   ],
   "source": [
    "# проверим дубликаты по колонке 'Model'\n",
    "df['Model'].unique()"
   ]
  },
  {
   "cell_type": "code",
   "execution_count": 13,
   "metadata": {},
   "outputs": [],
   "source": [
    "# заменим неявные дубликаты 'rangerover' на 'range_rover'\n",
    "df.loc[df['Model'] == 'rangerover', 'Model'] = 'range_rover'"
   ]
  },
  {
   "cell_type": "code",
   "execution_count": 14,
   "metadata": {},
   "outputs": [],
   "source": [
    "# пропуски по колонке 'Model' заменим на заглушку 'unknown'\n",
    "df.loc[df['Model'].isna(), 'Model'] = 'unknown'"
   ]
  },
  {
   "cell_type": "code",
   "execution_count": 15,
   "metadata": {},
   "outputs": [],
   "source": [
    "# пропуски по колонке 'NotRepaired' заменим на заглушку 'unknown'\n",
    "df.loc[df['NotRepaired'].isna(), 'NotRepaired'] = 'unknown'"
   ]
  },
  {
   "cell_type": "code",
   "execution_count": 16,
   "metadata": {},
   "outputs": [
    {
     "data": {
      "text/plain": [
       "array(['coupe', 'suv', 'small', 'sedan', 'convertible', 'bus', 'wagon',\n",
       "       nan, 'other'], dtype=object)"
      ]
     },
     "execution_count": 16,
     "metadata": {},
     "output_type": "execute_result"
    }
   ],
   "source": [
    "# проверим дубликаты по колонке 'VehicleType'\n",
    "df['VehicleType'].unique()"
   ]
  },
  {
   "cell_type": "code",
   "execution_count": 17,
   "metadata": {},
   "outputs": [
    {
     "data": {
      "text/plain": [
       "array(['manual', 'auto', nan], dtype=object)"
      ]
     },
     "execution_count": 17,
     "metadata": {},
     "output_type": "execute_result"
    }
   ],
   "source": [
    "# проверим дубликаты по колонке 'Gearbox'\n",
    "df['Gearbox'].unique()"
   ]
  },
  {
   "cell_type": "code",
   "execution_count": 18,
   "metadata": {},
   "outputs": [
    {
     "data": {
      "text/plain": [
       "array(['gasoline', 'petrol', nan, 'lpg', 'other', 'hybrid', 'cng',\n",
       "       'electric'], dtype=object)"
      ]
     },
     "execution_count": 18,
     "metadata": {},
     "output_type": "execute_result"
    }
   ],
   "source": [
    "# проверим дубликаты по колонке 'FuelType'\n",
    "df['FuelType'].unique()"
   ]
  },
  {
   "cell_type": "code",
   "execution_count": 19,
   "metadata": {},
   "outputs": [],
   "source": [
    "# заменим неявные дубликаты 'petrol' на 'gasoline'\n",
    "df.loc[df['FuelType'] == 'petrol', 'FuelType'] = 'gasoline'"
   ]
  },
  {
   "cell_type": "code",
   "execution_count": 20,
   "metadata": {},
   "outputs": [],
   "source": [
    "def fill_na_by_model(col):\n",
    "    df['Name'] = df['Brand'] + ' ' + df['Model']\n",
    "    names = [name for name in list(df[df[col].isna()]['Name'].unique()) if isinstance(name, str) == True]\n",
    "    for name in names:\n",
    "        df.loc[(df['Name']==name)&(df[col].isna()), col] = df[df['Name']==name][col].value_counts().index[0]\n",
    "        \n",
    "for col in ['VehicleType', 'Gearbox', 'FuelType']:\n",
    "    fill_na_by_model(col)"
   ]
  },
  {
   "cell_type": "code",
   "execution_count": 21,
   "metadata": {},
   "outputs": [
    {
     "name": "stdout",
     "output_type": "stream",
     "text": [
      "<class 'pandas.core.frame.DataFrame'>\n",
      "RangeIndex: 287976 entries, 0 to 287975\n",
      "Data columns (total 12 columns):\n",
      " #   Column             Non-Null Count   Dtype \n",
      "---  ------             --------------   ----- \n",
      " 0   Price              287976 non-null  int64 \n",
      " 1   VehicleType        287976 non-null  object\n",
      " 2   RegistrationYear   287976 non-null  int64 \n",
      " 3   Gearbox            287976 non-null  object\n",
      " 4   Power              287976 non-null  int64 \n",
      " 5   Model              287976 non-null  object\n",
      " 6   Kilometer          287976 non-null  int64 \n",
      " 7   RegistrationMonth  287976 non-null  int64 \n",
      " 8   FuelType           287976 non-null  object\n",
      " 9   Brand              287976 non-null  object\n",
      " 10  NotRepaired        287976 non-null  object\n",
      " 11  Name               287976 non-null  object\n",
      "dtypes: int64(5), object(7)\n",
      "memory usage: 26.4+ MB\n",
      "\n",
      "В ходе предобработки потеря данных составила: 18.74%\n"
     ]
    }
   ],
   "source": [
    "df.reset_index(drop=True, inplace=True)\n",
    "df.info()\n",
    "print()\n",
    "print(f'В ходе предобработки потеря данных составила: {1 - df.shape[0] / start_size:.2%}')"
   ]
  },
  {
   "cell_type": "markdown",
   "metadata": {},
   "source": [
    "**Выводы**\n",
    "* Данные успешно загружены:\n",
    "    * в таблице 354369 строк, 16 столбцов;\n",
    "    * колонка `'Price'` - целевой признак;\n",
    "    * обнаружены явные дублиакаты;\n",
    "    * колонки имеют пропуски.\n",
    "* Произведена предобработка данных:\n",
    "    * удалены явные дубликаты;\n",
    "    * заменены неявные дубликаты по колонке;\n",
    "    * пропуски в категориальных признаки заменены заглушкой `'unknown'`\n",
    "    * удалены колонки не несущие в себе полезной информации: \n",
    "        * `'DateCrawled'`, \n",
    "        * `'LastSeen'`, \n",
    "        * `'DateCreated'`, \n",
    "        * `'PostalCode'`, \n",
    "        * `'NumberOfPictures'`.\n",
    "    * Потеря данных после предобработки составила 4.17%, что является приемлемым показателем."
   ]
  },
  {
   "cell_type": "markdown",
   "metadata": {},
   "source": [
    "## 2. Обучение моделей"
   ]
  },
  {
   "cell_type": "code",
   "execution_count": 22,
   "metadata": {},
   "outputs": [],
   "source": [
    "# выделяем фичи и таргет\n",
    "y = df['Price']\n",
    "X = df.drop('Price', axis=1)"
   ]
  },
  {
   "cell_type": "code",
   "execution_count": 23,
   "metadata": {},
   "outputs": [],
   "source": [
    "# делим выборку на обущающую и тест\n",
    "X_train, X_test, y_train, y_test = train_test_split(X, y, test_size=0.25, random_state=42)"
   ]
  },
  {
   "cell_type": "markdown",
   "metadata": {},
   "source": [
    "* Модель **CatBoostRegressor**"
   ]
  },
  {
   "cell_type": "code",
   "execution_count": 24,
   "metadata": {
    "scrolled": true
   },
   "outputs": [
    {
     "name": "stdout",
     "output_type": "stream",
     "text": [
      "Параметры лучшей модели: {'depth': 4, 'iterations': 100, 'learning_rate': 0.1, 'random_state': 42}\n",
      "RMSE лучшей модели: -1818.0586177657428\n",
      "CPU times: total: 6min 33s\n",
      "Wall time: 2min 12s\n"
     ]
    }
   ],
   "source": [
    "%%time\n",
    "\n",
    "# определяем категориальные признаки\n",
    "cat_features = list(df.select_dtypes(include='object').columns)\n",
    "\n",
    "# инициируем модель\n",
    "cat = CatBoostRegressor(cat_features=cat_features, verbose=False)\n",
    "\n",
    "# выделяем параметры для поиска наилуших с помощью 'GridSearchCV'\n",
    "params = {'random_state': [42],\n",
    "          'learning_rate': [0.1],\n",
    "          'iterations': [100],\n",
    "          'depth': range(2, 5)}\n",
    "\n",
    "# делаем поиск параметров по метрике RMSE\n",
    "grid_search = GridSearchCV(estimator = cat, \n",
    "                           param_grid = params, \n",
    "                           cv = 5, \n",
    "#                            n_jobs = -1, \n",
    "                           scoring = 'neg_root_mean_squared_error')\n",
    "grid_search.fit(X_train, y_train)\n",
    "\n",
    "print(f'Параметры лучшей модели: {grid_search.best_params_}')\n",
    "print(f'RMSE лучшей модели: {grid_search.best_score_}')"
   ]
  },
  {
   "cell_type": "code",
   "execution_count": 25,
   "metadata": {
    "scrolled": true
   },
   "outputs": [
    {
     "name": "stdout",
     "output_type": "stream",
     "text": [
      "RMSE на тестовой выборке: 1800.2528220199245\n",
      "CPU times: total: 36.4 s\n",
      "Wall time: 11.2 s\n"
     ]
    }
   ],
   "source": [
    "%%time\n",
    "\n",
    "# обучаем модель с лучшими параметрами и проверяем ее на тестовой выборке\n",
    "cat.set_params(**grid_search.best_params_)\n",
    "cat.fit(X_train, y_train)\n",
    "pred = cat.predict(X_test)\n",
    "print(f'RMSE на тестовой выборке: {mean_squared_error(y_test, pred, squared=False)}')"
   ]
  },
  {
   "cell_type": "markdown",
   "metadata": {},
   "source": [
    "* RMSE на тестовой выборке **1800.25**, что уже удовлетворяет условию задачи\n",
    "* Время на поиск лучшей модели **6 мин. 33 сек**.\n",
    "* Время на обучение и предсказание модели  **11 сек**."
   ]
  },
  {
   "cell_type": "markdown",
   "metadata": {},
   "source": [
    "---\n",
    "* Модель **LGBMRegressor**"
   ]
  },
  {
   "cell_type": "code",
   "execution_count": 26,
   "metadata": {},
   "outputs": [],
   "source": [
    "cat_features = list(df.select_dtypes(include='object').columns)"
   ]
  },
  {
   "cell_type": "code",
   "execution_count": 27,
   "metadata": {},
   "outputs": [],
   "source": [
    "# кодируем категориальные признаки с помощью LeaveOneOutEncoder\n",
    "loo_enc = ce.LeaveOneOutEncoder(cols=cat_features)\n",
    "loo_enc.fit(X_train, y_train)\n",
    "X_train = loo_enc.transform(X_train)\n",
    "X_test = loo_enc.transform(X_test)"
   ]
  },
  {
   "cell_type": "code",
   "execution_count": 28,
   "metadata": {},
   "outputs": [],
   "source": [
    "# масштабируем признаки\n",
    "scaler = MinMaxScaler()\n",
    "scaler.fit(X_train)\n",
    "X_train = scaler.transform(X_train)\n",
    "X_test = scaler.transform(X_test)"
   ]
  },
  {
   "cell_type": "code",
   "execution_count": 29,
   "metadata": {
    "scrolled": true
   },
   "outputs": [
    {
     "name": "stdout",
     "output_type": "stream",
     "text": [
      "Параметры лучшей модели: {'learning_rate': 0.1, 'max_depth': 32, 'num_leaves': 1000, 'random_state': 42}\n",
      "RMSE лучшей модели: -1479.0458888484927\n",
      "CPU times: total: 27min 30s\n",
      "Wall time: 7min 8s\n"
     ]
    }
   ],
   "source": [
    "%%time\n",
    "\n",
    "# инициируем модель\n",
    "lgbm = LGBMRegressor(objective=\"regression\")\n",
    "\n",
    "# выделяем параметры для поиска наилуших с помощью 'GridSearchCV'\n",
    "params = {'max_depth': range(32, 36),\n",
    "         'num_leaves': [1000, 1200],\n",
    "         'learning_rate': [0.1], \n",
    "         'random_state': [42]}\n",
    "\n",
    "# делаем поиск параметров по метрике RMSE\n",
    "grid_search = GridSearchCV(estimator = lgbm, \n",
    "                           param_grid = params, \n",
    "                           cv = 5, \n",
    "#                            n_jobs = -1, \n",
    "                           scoring = 'neg_root_mean_squared_error')\n",
    "grid_search.fit(X_train, y_train)\n",
    "\n",
    "print(f'Параметры лучшей модели: {grid_search.best_params_}')\n",
    "print(f'RMSE лучшей модели: {grid_search.best_score_}')"
   ]
  },
  {
   "cell_type": "code",
   "execution_count": 30,
   "metadata": {},
   "outputs": [
    {
     "name": "stdout",
     "output_type": "stream",
     "text": [
      "RMSE на тестовой выборке: 1448.1076350510339\n",
      "CPU times: total: 41.7 s\n",
      "Wall time: 10.8 s\n"
     ]
    }
   ],
   "source": [
    "%%time\n",
    "\n",
    "# обучаем модель с лучшими параметрами и проверяем ее на тестовой выборке\n",
    "lgbm.set_params(**grid_search.best_params_)\n",
    "lgbm.fit(X_train, y_train)\n",
    "pred = lgbm.predict(X_test)\n",
    "print(f'RMSE на тестовой выборке: {mean_squared_error(y_test, pred, squared=False)}')"
   ]
  },
  {
   "cell_type": "markdown",
   "metadata": {},
   "source": [
    "* RMSE на тестовой выборке **1448.11**, что удовлетворяет условию задачи, а также лучше модели `CatBoostRegressor`\n",
    "* Время на поиск лучшей модели **7 мин. 8 сек**.\n",
    "* Время на обучение и предсказание модели **10.8 сек**."
   ]
  },
  {
   "cell_type": "markdown",
   "metadata": {},
   "source": [
    "---\n",
    "* Модель **Линейная регрессия**"
   ]
  },
  {
   "cell_type": "code",
   "execution_count": 31,
   "metadata": {},
   "outputs": [
    {
     "name": "stdout",
     "output_type": "stream",
     "text": [
      "RMSE на тестовой выборке: 2630.5490556330037\n",
      "CPU times: total: 266 ms\n",
      "Wall time: 216 ms\n"
     ]
    }
   ],
   "source": [
    "%%time\n",
    "\n",
    "# инициируем модель, обучаем и проверяем ее на тестовой выборке\n",
    "lr = LinearRegression()\n",
    "lr.fit(X_train, y_train)\n",
    "pred = lr.predict(X_test)\n",
    "print(f'RMSE на тестовой выборке: {mean_squared_error(y_test, pred, squared=False)}')"
   ]
  },
  {
   "cell_type": "markdown",
   "metadata": {},
   "source": [
    "* RMSE на тестовой выборке **2630.55**, что не удовлетворяет условию задачи.\n",
    "* Время на обучение и предсказание модели **216 мсек**."
   ]
  },
  {
   "cell_type": "markdown",
   "metadata": {},
   "source": [
    "---\n",
    "Проверим модели на адекватность с помощью регрессора **DummyRegressor**"
   ]
  },
  {
   "cell_type": "code",
   "execution_count": 32,
   "metadata": {},
   "outputs": [
    {
     "name": "stdout",
     "output_type": "stream",
     "text": [
      "RMSE на тестовой выборке: 4595.941163537954\n"
     ]
    }
   ],
   "source": [
    "dummy_regr = DummyRegressor(strategy='mean')\n",
    "dummy_regr.fit(X_train, y_train)\n",
    "pred = dummy_regr.predict(X_test)\n",
    "print(f'RMSE на тестовой выборке: {mean_squared_error(y_test, pred, squared=False)}')"
   ]
  },
  {
   "cell_type": "markdown",
   "metadata": {},
   "source": [
    "**Вывод**\n",
    "* Все модели прошли проверку на адекватность (RMSE DummyRegressor = **4595.94**).\n",
    "* Наиболее точной моделью по метрике RMSE оказалась `LGBMRegressor` (**1448.11**)\n",
    "* Наиболее быстрой в плане обучения также оказалась модель `LGBMRegressor` (**10.8 сек.**)\n",
    "* Заказчику будет предложена модель `LGBMRegressor` со следующими параметрами:\n",
    "    * `learning_rate`: 0.1, \n",
    "    * `max_depth`: 32, \n",
    "    * `num_leaves`: 1000"
   ]
  },
  {
   "cell_type": "markdown",
   "metadata": {},
   "source": [
    "## 3. Итоговый вывод\n",
    "1. Данные были успешно загружены. Была произведена предобработка данных:\n",
    "    * удалены явные дубликаты;\n",
    "    * заменены неявные дубликаты по колонке;\n",
    "    * пропуски в категориальных признаки заменены заглушкой `'unknown'`\n",
    "    * удалены колонки не несущие в себе полезной информации: \n",
    "        * `'DateCrawled'`, \n",
    "        * `'LastSeen'`, \n",
    "        * `'DateCreated'`, \n",
    "        * `'PostalCode'`, \n",
    "        * `'NumberOfPictures'`.\n",
    "    * Потеря данных после предобработки составила 4.17%, что является приемлемым показателем.\n",
    "2. Были обучены три модели - CatBoostRegressor, LGBMRegressor и Линейная регрессия.\n",
    "    * Наиболее точной моделью по метрике RMSE оказалась `LGBMRegressor` (**1448.11**)\n",
    "    * Наиболее быстрой в плане обучения также оказалась модель `LGBMRegressor` (**10.8 сек.**)\n",
    "    * Заказчику будет предложена модель `LGBMRegressor` со следующими параметрами:\n",
    "        * `learning_rate`: 0.1, \n",
    "        * `max_depth`: 32, \n",
    "        * `num_leaves`: 1000"
   ]
  }
 ],
 "metadata": {
  "ExecuteTimeLog": [
   {
    "duration": 1418,
    "start_time": "2022-07-20T09:49:17.437Z"
   },
   {
    "duration": 0,
    "start_time": "2022-07-20T09:49:18.858Z"
   },
   {
    "duration": 0,
    "start_time": "2022-07-20T09:49:18.859Z"
   },
   {
    "duration": 0,
    "start_time": "2022-07-20T09:49:18.860Z"
   },
   {
    "duration": 0,
    "start_time": "2022-07-20T09:49:18.863Z"
   },
   {
    "duration": 0,
    "start_time": "2022-07-20T09:49:18.865Z"
   },
   {
    "duration": 0,
    "start_time": "2022-07-20T09:49:18.866Z"
   },
   {
    "duration": 0,
    "start_time": "2022-07-20T09:49:18.867Z"
   },
   {
    "duration": 0,
    "start_time": "2022-07-20T09:49:18.867Z"
   },
   {
    "duration": 0,
    "start_time": "2022-07-20T09:49:18.868Z"
   },
   {
    "duration": 0,
    "start_time": "2022-07-20T09:49:18.869Z"
   },
   {
    "duration": 0,
    "start_time": "2022-07-20T09:49:18.871Z"
   },
   {
    "duration": 2908,
    "start_time": "2022-07-20T09:50:02.476Z"
   },
   {
    "duration": 312,
    "start_time": "2022-07-20T09:50:08.493Z"
   },
   {
    "duration": 44,
    "start_time": "2022-07-20T09:51:52.394Z"
   },
   {
    "duration": 1051,
    "start_time": "2022-07-20T09:51:56.076Z"
   },
   {
    "duration": 633,
    "start_time": "2022-07-20T09:51:59.489Z"
   },
   {
    "duration": 499,
    "start_time": "2022-07-20T09:52:02.733Z"
   },
   {
    "duration": 10,
    "start_time": "2022-07-20T09:52:08.718Z"
   },
   {
    "duration": 123,
    "start_time": "2022-07-20T09:52:09.603Z"
   },
   {
    "duration": 21,
    "start_time": "2022-07-20T09:52:18.781Z"
   },
   {
    "duration": 21,
    "start_time": "2022-07-20T09:52:19.747Z"
   },
   {
    "duration": 18,
    "start_time": "2022-07-20T09:52:31.035Z"
   },
   {
    "duration": 34,
    "start_time": "2022-07-20T09:52:37.721Z"
   },
   {
    "duration": 27,
    "start_time": "2022-07-20T09:52:40.033Z"
   },
   {
    "duration": 20,
    "start_time": "2022-07-20T09:52:41.740Z"
   },
   {
    "duration": 17,
    "start_time": "2022-07-20T09:53:42.426Z"
   },
   {
    "duration": 10,
    "start_time": "2022-07-20T09:54:35.884Z"
   },
   {
    "duration": 86,
    "start_time": "2022-07-20T09:56:10.367Z"
   },
   {
    "duration": 24,
    "start_time": "2022-07-20T09:56:19.547Z"
   },
   {
    "duration": 8,
    "start_time": "2022-07-20T09:56:48.091Z"
   },
   {
    "duration": 9,
    "start_time": "2022-07-20T09:56:54.504Z"
   },
   {
    "duration": 9,
    "start_time": "2022-07-20T09:57:03.628Z"
   },
   {
    "duration": 11,
    "start_time": "2022-07-20T09:57:10.359Z"
   },
   {
    "duration": 9,
    "start_time": "2022-07-20T09:57:45.124Z"
   },
   {
    "duration": 29,
    "start_time": "2022-07-20T09:58:22.501Z"
   },
   {
    "duration": 34,
    "start_time": "2022-07-20T10:05:03.106Z"
   },
   {
    "duration": 10,
    "start_time": "2022-07-20T10:05:59.669Z"
   },
   {
    "duration": 9,
    "start_time": "2022-07-20T10:06:07.007Z"
   },
   {
    "duration": 9,
    "start_time": "2022-07-20T10:06:17.009Z"
   },
   {
    "duration": 9,
    "start_time": "2022-07-20T10:06:23.721Z"
   },
   {
    "duration": 17,
    "start_time": "2022-07-20T10:07:26.920Z"
   },
   {
    "duration": 22,
    "start_time": "2022-07-20T10:08:05.174Z"
   },
   {
    "duration": 8,
    "start_time": "2022-07-20T10:08:11.672Z"
   },
   {
    "duration": 14,
    "start_time": "2022-07-20T10:08:17.223Z"
   },
   {
    "duration": 8,
    "start_time": "2022-07-20T10:08:20.620Z"
   },
   {
    "duration": 25,
    "start_time": "2022-07-20T10:09:09.398Z"
   },
   {
    "duration": 9,
    "start_time": "2022-07-20T10:09:28.501Z"
   },
   {
    "duration": 30,
    "start_time": "2022-07-20T10:10:20.188Z"
   },
   {
    "duration": 33,
    "start_time": "2022-07-20T10:10:30.831Z"
   },
   {
    "duration": 19,
    "start_time": "2022-07-20T10:15:17.596Z"
   },
   {
    "duration": 18,
    "start_time": "2022-07-20T10:15:54.461Z"
   },
   {
    "duration": 24,
    "start_time": "2022-07-20T10:16:17.409Z"
   },
   {
    "duration": 20,
    "start_time": "2022-07-20T10:16:27.908Z"
   },
   {
    "duration": 19,
    "start_time": "2022-07-20T10:16:35.891Z"
   },
   {
    "duration": 18,
    "start_time": "2022-07-20T10:16:47.139Z"
   },
   {
    "duration": 21,
    "start_time": "2022-07-20T10:17:03.069Z"
   },
   {
    "duration": 22,
    "start_time": "2022-07-20T10:19:09.187Z"
   },
   {
    "duration": 23,
    "start_time": "2022-07-20T10:19:40.402Z"
   },
   {
    "duration": 34,
    "start_time": "2022-07-20T10:20:15.991Z"
   },
   {
    "duration": 24,
    "start_time": "2022-07-20T10:20:19.696Z"
   },
   {
    "duration": 20,
    "start_time": "2022-07-20T10:20:29.066Z"
   },
   {
    "duration": 19,
    "start_time": "2022-07-20T10:22:34.593Z"
   },
   {
    "duration": 19,
    "start_time": "2022-07-20T10:22:48.540Z"
   },
   {
    "duration": 24,
    "start_time": "2022-07-20T10:23:06.260Z"
   },
   {
    "duration": 39,
    "start_time": "2022-07-20T10:23:07.768Z"
   },
   {
    "duration": 18,
    "start_time": "2022-07-20T10:23:09.666Z"
   },
   {
    "duration": 1327,
    "start_time": "2022-07-20T10:23:38.972Z"
   },
   {
    "duration": 840,
    "start_time": "2022-07-20T10:23:41.678Z"
   },
   {
    "duration": 649,
    "start_time": "2022-07-20T10:23:42.520Z"
   },
   {
    "duration": 485,
    "start_time": "2022-07-20T10:23:44.171Z"
   },
   {
    "duration": 6,
    "start_time": "2022-07-20T10:23:46.990Z"
   },
   {
    "duration": 128,
    "start_time": "2022-07-20T10:23:47.788Z"
   },
   {
    "duration": 124,
    "start_time": "2022-07-20T10:24:07.307Z"
   },
   {
    "duration": 6,
    "start_time": "2022-07-20T10:24:10.717Z"
   },
   {
    "duration": 92,
    "start_time": "2022-07-20T10:24:22.890Z"
   },
   {
    "duration": 6,
    "start_time": "2022-07-20T10:24:26.000Z"
   },
   {
    "duration": 3,
    "start_time": "2022-07-20T10:25:04.321Z"
   },
   {
    "duration": 25,
    "start_time": "2022-07-20T10:25:09.076Z"
   },
   {
    "duration": 32,
    "start_time": "2022-07-20T10:25:18.770Z"
   },
   {
    "duration": 107,
    "start_time": "2022-07-20T10:26:45.203Z"
   },
   {
    "duration": 133,
    "start_time": "2022-07-20T10:26:51.785Z"
   },
   {
    "duration": 12,
    "start_time": "2022-07-20T10:26:52.563Z"
   },
   {
    "duration": 6,
    "start_time": "2022-07-20T10:27:27.274Z"
   },
   {
    "duration": 31,
    "start_time": "2022-07-20T10:27:39.826Z"
   },
   {
    "duration": 33,
    "start_time": "2022-07-20T10:27:49.324Z"
   },
   {
    "duration": 4,
    "start_time": "2022-07-20T10:30:39.559Z"
   },
   {
    "duration": 763,
    "start_time": "2022-07-20T10:30:41.409Z"
   },
   {
    "duration": 612,
    "start_time": "2022-07-20T10:30:42.174Z"
   },
   {
    "duration": 444,
    "start_time": "2022-07-20T10:30:43.781Z"
   },
   {
    "duration": 6,
    "start_time": "2022-07-20T10:30:47.186Z"
   },
   {
    "duration": 127,
    "start_time": "2022-07-20T10:30:48.110Z"
   },
   {
    "duration": 17,
    "start_time": "2022-07-20T10:30:51.596Z"
   },
   {
    "duration": 27,
    "start_time": "2022-07-20T10:30:53.089Z"
   },
   {
    "duration": 17,
    "start_time": "2022-07-20T10:30:54.629Z"
   },
   {
    "duration": 25,
    "start_time": "2022-07-20T10:30:56.730Z"
   },
   {
    "duration": 19,
    "start_time": "2022-07-20T10:31:02.200Z"
   },
   {
    "duration": 19,
    "start_time": "2022-07-20T10:31:05.449Z"
   },
   {
    "duration": 17,
    "start_time": "2022-07-20T10:31:16.011Z"
   },
   {
    "duration": 18,
    "start_time": "2022-07-20T10:31:17.709Z"
   },
   {
    "duration": 16,
    "start_time": "2022-07-20T10:32:05.313Z"
   },
   {
    "duration": 18,
    "start_time": "2022-07-20T10:32:08.438Z"
   },
   {
    "duration": 20,
    "start_time": "2022-07-20T10:32:09.525Z"
   },
   {
    "duration": 36,
    "start_time": "2022-07-20T10:32:11.058Z"
   },
   {
    "duration": 103,
    "start_time": "2022-07-20T10:32:51.579Z"
   },
   {
    "duration": 95,
    "start_time": "2022-07-20T10:32:55.008Z"
   },
   {
    "duration": 96,
    "start_time": "2022-07-20T10:33:54.648Z"
   },
   {
    "duration": 104,
    "start_time": "2022-07-20T10:34:29.032Z"
   },
   {
    "duration": 94,
    "start_time": "2022-07-20T10:34:37.100Z"
   },
   {
    "duration": 7,
    "start_time": "2022-07-20T10:34:41.414Z"
   },
   {
    "duration": 4,
    "start_time": "2022-07-20T10:34:52.585Z"
   },
   {
    "duration": 4,
    "start_time": "2022-07-20T10:34:57.917Z"
   },
   {
    "duration": 6,
    "start_time": "2022-07-20T10:35:32.151Z"
   },
   {
    "duration": 26,
    "start_time": "2022-07-20T10:35:36.929Z"
   },
   {
    "duration": 27,
    "start_time": "2022-07-20T10:35:44.252Z"
   },
   {
    "duration": 28,
    "start_time": "2022-07-20T10:35:48.065Z"
   },
   {
    "duration": 28,
    "start_time": "2022-07-20T10:35:50.665Z"
   },
   {
    "duration": 4,
    "start_time": "2022-07-20T10:36:29.079Z"
   },
   {
    "duration": 102,
    "start_time": "2022-07-20T10:36:55.568Z"
   },
   {
    "duration": 3,
    "start_time": "2022-07-20T10:36:58.357Z"
   },
   {
    "duration": 97,
    "start_time": "2022-07-20T10:37:13.275Z"
   },
   {
    "duration": 14,
    "start_time": "2022-07-20T10:37:14.915Z"
   },
   {
    "duration": 17,
    "start_time": "2022-07-20T10:37:19.742Z"
   },
   {
    "duration": 2052,
    "start_time": "2022-07-20T10:37:39.282Z"
   },
   {
    "duration": 1441,
    "start_time": "2022-07-20T10:37:41.337Z"
   },
   {
    "duration": 828,
    "start_time": "2022-07-20T10:37:42.780Z"
   },
   {
    "duration": 593,
    "start_time": "2022-07-20T10:37:43.609Z"
   },
   {
    "duration": 475,
    "start_time": "2022-07-20T10:37:44.205Z"
   },
   {
    "duration": 7,
    "start_time": "2022-07-20T10:37:44.682Z"
   },
   {
    "duration": 144,
    "start_time": "2022-07-20T10:37:44.691Z"
   },
   {
    "duration": 16,
    "start_time": "2022-07-20T10:37:44.837Z"
   },
   {
    "duration": 43,
    "start_time": "2022-07-20T10:37:44.854Z"
   },
   {
    "duration": 16,
    "start_time": "2022-07-20T10:37:44.899Z"
   },
   {
    "duration": 24,
    "start_time": "2022-07-20T10:37:44.916Z"
   },
   {
    "duration": 39,
    "start_time": "2022-07-20T10:37:44.942Z"
   },
   {
    "duration": 22,
    "start_time": "2022-07-20T10:37:44.983Z"
   },
   {
    "duration": 17,
    "start_time": "2022-07-20T10:37:45.007Z"
   },
   {
    "duration": 37,
    "start_time": "2022-07-20T10:37:45.026Z"
   },
   {
    "duration": 32,
    "start_time": "2022-07-20T10:37:45.065Z"
   },
   {
    "duration": 26,
    "start_time": "2022-07-20T10:37:45.099Z"
   },
   {
    "duration": 21,
    "start_time": "2022-07-20T10:37:45.127Z"
   },
   {
    "duration": 28,
    "start_time": "2022-07-20T10:37:45.149Z"
   },
   {
    "duration": 145,
    "start_time": "2022-07-20T10:37:49.262Z"
   },
   {
    "duration": 137,
    "start_time": "2022-07-20T10:38:05.020Z"
   },
   {
    "duration": 4,
    "start_time": "2022-07-20T10:38:07.238Z"
   },
   {
    "duration": 7,
    "start_time": "2022-07-20T10:38:13.464Z"
   },
   {
    "duration": 5,
    "start_time": "2022-07-20T10:38:19.742Z"
   },
   {
    "duration": 4,
    "start_time": "2022-07-20T10:38:24.504Z"
   },
   {
    "duration": 7,
    "start_time": "2022-07-20T10:38:28.270Z"
   },
   {
    "duration": 38653,
    "start_time": "2022-07-20T10:40:20.217Z"
   },
   {
    "duration": 85,
    "start_time": "2022-07-20T10:41:00.846Z"
   },
   {
    "duration": 6,
    "start_time": "2022-07-20T10:41:36.871Z"
   },
   {
    "duration": 46,
    "start_time": "2022-07-20T10:42:08.243Z"
   },
   {
    "duration": 2212,
    "start_time": "2022-07-20T10:42:40.389Z"
   },
   {
    "duration": 1336,
    "start_time": "2022-07-20T10:42:42.604Z"
   },
   {
    "duration": 857,
    "start_time": "2022-07-20T10:42:43.941Z"
   },
   {
    "duration": 647,
    "start_time": "2022-07-20T10:42:44.801Z"
   },
   {
    "duration": 525,
    "start_time": "2022-07-20T10:42:45.451Z"
   },
   {
    "duration": 6,
    "start_time": "2022-07-20T10:42:45.978Z"
   },
   {
    "duration": 140,
    "start_time": "2022-07-20T10:42:45.986Z"
   },
   {
    "duration": 17,
    "start_time": "2022-07-20T10:42:46.128Z"
   },
   {
    "duration": 48,
    "start_time": "2022-07-20T10:42:46.147Z"
   },
   {
    "duration": 17,
    "start_time": "2022-07-20T10:42:46.198Z"
   },
   {
    "duration": 24,
    "start_time": "2022-07-20T10:42:46.216Z"
   },
   {
    "duration": 38,
    "start_time": "2022-07-20T10:42:46.242Z"
   },
   {
    "duration": 27,
    "start_time": "2022-07-20T10:42:46.282Z"
   },
   {
    "duration": 19,
    "start_time": "2022-07-20T10:42:46.311Z"
   },
   {
    "duration": 34,
    "start_time": "2022-07-20T10:42:46.331Z"
   },
   {
    "duration": 20,
    "start_time": "2022-07-20T10:42:46.367Z"
   },
   {
    "duration": 19,
    "start_time": "2022-07-20T10:42:46.388Z"
   },
   {
    "duration": 24,
    "start_time": "2022-07-20T10:42:46.409Z"
   },
   {
    "duration": 49,
    "start_time": "2022-07-20T10:42:46.435Z"
   },
   {
    "duration": 68,
    "start_time": "2022-07-20T10:42:56.171Z"
   },
   {
    "duration": 32,
    "start_time": "2022-07-20T10:42:57.913Z"
   },
   {
    "duration": 47,
    "start_time": "2022-07-20T10:43:41.535Z"
   },
   {
    "duration": 23,
    "start_time": "2022-07-20T10:43:45.681Z"
   },
   {
    "duration": 39030,
    "start_time": "2022-07-20T10:44:01.074Z"
   },
   {
    "duration": 30,
    "start_time": "2022-07-20T10:44:40.106Z"
   },
   {
    "duration": 2123,
    "start_time": "2022-07-20T10:45:53.061Z"
   },
   {
    "duration": 1299,
    "start_time": "2022-07-20T10:45:55.187Z"
   },
   {
    "duration": 856,
    "start_time": "2022-07-20T10:45:56.488Z"
   },
   {
    "duration": 627,
    "start_time": "2022-07-20T10:45:57.347Z"
   },
   {
    "duration": 506,
    "start_time": "2022-07-20T10:45:57.976Z"
   },
   {
    "duration": 5,
    "start_time": "2022-07-20T10:45:58.484Z"
   },
   {
    "duration": 145,
    "start_time": "2022-07-20T10:45:58.490Z"
   },
   {
    "duration": 16,
    "start_time": "2022-07-20T10:45:58.637Z"
   },
   {
    "duration": 37,
    "start_time": "2022-07-20T10:45:58.664Z"
   },
   {
    "duration": 16,
    "start_time": "2022-07-20T10:45:58.704Z"
   },
   {
    "duration": 45,
    "start_time": "2022-07-20T10:45:58.722Z"
   },
   {
    "duration": 19,
    "start_time": "2022-07-20T10:45:58.769Z"
   },
   {
    "duration": 22,
    "start_time": "2022-07-20T10:45:58.789Z"
   },
   {
    "duration": 22,
    "start_time": "2022-07-20T10:45:58.813Z"
   },
   {
    "duration": 37,
    "start_time": "2022-07-20T10:45:58.837Z"
   },
   {
    "duration": 18,
    "start_time": "2022-07-20T10:45:58.876Z"
   },
   {
    "duration": 20,
    "start_time": "2022-07-20T10:45:58.895Z"
   },
   {
    "duration": 21,
    "start_time": "2022-07-20T10:45:58.916Z"
   },
   {
    "duration": 48,
    "start_time": "2022-07-20T10:45:58.939Z"
   },
   {
    "duration": 39306,
    "start_time": "2022-07-20T10:45:58.989Z"
   },
   {
    "duration": 89,
    "start_time": "2022-07-20T10:46:38.296Z"
   },
   {
    "duration": 83,
    "start_time": "2022-07-20T10:46:49.689Z"
   },
   {
    "duration": 2158,
    "start_time": "2022-07-20T10:47:26.148Z"
   },
   {
    "duration": 1319,
    "start_time": "2022-07-20T10:47:28.308Z"
   },
   {
    "duration": 927,
    "start_time": "2022-07-20T10:47:29.628Z"
   },
   {
    "duration": 709,
    "start_time": "2022-07-20T10:47:30.558Z"
   },
   {
    "duration": 572,
    "start_time": "2022-07-20T10:47:31.269Z"
   },
   {
    "duration": 7,
    "start_time": "2022-07-20T10:47:31.843Z"
   },
   {
    "duration": 146,
    "start_time": "2022-07-20T10:47:31.863Z"
   },
   {
    "duration": 17,
    "start_time": "2022-07-20T10:47:32.010Z"
   },
   {
    "duration": 73,
    "start_time": "2022-07-20T10:47:32.029Z"
   },
   {
    "duration": 17,
    "start_time": "2022-07-20T10:47:32.105Z"
   },
   {
    "duration": 26,
    "start_time": "2022-07-20T10:47:32.123Z"
   },
   {
    "duration": 20,
    "start_time": "2022-07-20T10:47:32.163Z"
   },
   {
    "duration": 27,
    "start_time": "2022-07-20T10:47:32.185Z"
   },
   {
    "duration": 18,
    "start_time": "2022-07-20T10:47:32.214Z"
   },
   {
    "duration": 35,
    "start_time": "2022-07-20T10:47:32.234Z"
   },
   {
    "duration": 17,
    "start_time": "2022-07-20T10:47:32.271Z"
   },
   {
    "duration": 35,
    "start_time": "2022-07-20T10:47:32.290Z"
   },
   {
    "duration": 50,
    "start_time": "2022-07-20T10:47:32.328Z"
   },
   {
    "duration": 46,
    "start_time": "2022-07-20T10:47:32.380Z"
   },
   {
    "duration": 39931,
    "start_time": "2022-07-20T10:47:32.428Z"
   },
   {
    "duration": 85,
    "start_time": "2022-07-20T10:48:12.361Z"
   },
   {
    "duration": 2169,
    "start_time": "2022-07-20T10:50:21.442Z"
   },
   {
    "duration": 1289,
    "start_time": "2022-07-20T10:50:23.614Z"
   },
   {
    "duration": 937,
    "start_time": "2022-07-20T10:50:24.906Z"
   },
   {
    "duration": 657,
    "start_time": "2022-07-20T10:50:25.845Z"
   },
   {
    "duration": 533,
    "start_time": "2022-07-20T10:50:26.504Z"
   },
   {
    "duration": 6,
    "start_time": "2022-07-20T10:50:27.038Z"
   },
   {
    "duration": 146,
    "start_time": "2022-07-20T10:50:27.046Z"
   },
   {
    "duration": 21,
    "start_time": "2022-07-20T10:50:27.194Z"
   },
   {
    "duration": 54,
    "start_time": "2022-07-20T10:50:27.217Z"
   },
   {
    "duration": 17,
    "start_time": "2022-07-20T10:50:27.273Z"
   },
   {
    "duration": 25,
    "start_time": "2022-07-20T10:50:27.292Z"
   },
   {
    "duration": 20,
    "start_time": "2022-07-20T10:50:27.319Z"
   },
   {
    "duration": 20,
    "start_time": "2022-07-20T10:50:27.364Z"
   },
   {
    "duration": 28,
    "start_time": "2022-07-20T10:50:27.388Z"
   },
   {
    "duration": 21,
    "start_time": "2022-07-20T10:50:27.418Z"
   },
   {
    "duration": 36,
    "start_time": "2022-07-20T10:50:27.441Z"
   },
   {
    "duration": 19,
    "start_time": "2022-07-20T10:50:27.479Z"
   },
   {
    "duration": 20,
    "start_time": "2022-07-20T10:50:27.500Z"
   },
   {
    "duration": 43,
    "start_time": "2022-07-20T10:50:27.521Z"
   },
   {
    "duration": 3,
    "start_time": "2022-07-20T10:50:27.566Z"
   },
   {
    "duration": 1064,
    "start_time": "2022-07-20T10:50:27.571Z"
   },
   {
    "duration": 1,
    "start_time": "2022-07-20T10:50:28.636Z"
   },
   {
    "duration": 38141,
    "start_time": "2022-07-20T10:51:09.118Z"
   },
   {
    "duration": 84,
    "start_time": "2022-07-20T10:51:56.158Z"
   },
   {
    "duration": 6,
    "start_time": "2022-07-20T10:55:17.607Z"
   },
   {
    "duration": 29,
    "start_time": "2022-07-20T10:55:27.153Z"
   },
   {
    "duration": 10,
    "start_time": "2022-07-20T10:55:40.330Z"
   },
   {
    "duration": 9,
    "start_time": "2022-07-20T10:55:50.904Z"
   },
   {
    "duration": 9,
    "start_time": "2022-07-20T10:55:56.701Z"
   },
   {
    "duration": 28,
    "start_time": "2022-07-20T10:56:46.352Z"
   },
   {
    "duration": 39,
    "start_time": "2022-07-20T10:57:49.355Z"
   },
   {
    "duration": 21,
    "start_time": "2022-07-20T10:58:02.531Z"
   },
   {
    "duration": 53,
    "start_time": "2022-07-20T10:58:08.639Z"
   },
   {
    "duration": 52,
    "start_time": "2022-07-20T10:58:22.567Z"
   },
   {
    "duration": 39,
    "start_time": "2022-07-20T10:58:25.657Z"
   },
   {
    "duration": 39,
    "start_time": "2022-07-20T10:59:00.596Z"
   },
   {
    "duration": 11,
    "start_time": "2022-07-20T11:04:39.700Z"
   },
   {
    "duration": 10,
    "start_time": "2022-07-20T11:04:48.575Z"
   },
   {
    "duration": 9,
    "start_time": "2022-07-20T11:04:58.673Z"
   },
   {
    "duration": 20,
    "start_time": "2022-07-20T11:05:24.550Z"
   },
   {
    "duration": 15,
    "start_time": "2022-07-20T11:07:03.462Z"
   },
   {
    "duration": 2125,
    "start_time": "2022-07-20T11:07:33.195Z"
   },
   {
    "duration": 1282,
    "start_time": "2022-07-20T11:07:35.322Z"
   },
   {
    "duration": 854,
    "start_time": "2022-07-20T11:07:36.606Z"
   },
   {
    "duration": 618,
    "start_time": "2022-07-20T11:07:37.462Z"
   },
   {
    "duration": 544,
    "start_time": "2022-07-20T11:07:38.082Z"
   },
   {
    "duration": 7,
    "start_time": "2022-07-20T11:07:38.627Z"
   },
   {
    "duration": 151,
    "start_time": "2022-07-20T11:07:38.636Z"
   },
   {
    "duration": 19,
    "start_time": "2022-07-20T11:07:38.790Z"
   },
   {
    "duration": 54,
    "start_time": "2022-07-20T11:07:38.811Z"
   },
   {
    "duration": 18,
    "start_time": "2022-07-20T11:07:38.866Z"
   },
   {
    "duration": 26,
    "start_time": "2022-07-20T11:07:38.885Z"
   },
   {
    "duration": 20,
    "start_time": "2022-07-20T11:07:38.913Z"
   },
   {
    "duration": 46,
    "start_time": "2022-07-20T11:07:38.935Z"
   },
   {
    "duration": 15,
    "start_time": "2022-07-20T11:07:38.985Z"
   },
   {
    "duration": 17,
    "start_time": "2022-07-20T11:07:39.002Z"
   },
   {
    "duration": 44,
    "start_time": "2022-07-20T11:07:39.020Z"
   },
   {
    "duration": 17,
    "start_time": "2022-07-20T11:07:39.065Z"
   },
   {
    "duration": 20,
    "start_time": "2022-07-20T11:07:39.084Z"
   },
   {
    "duration": 30,
    "start_time": "2022-07-20T11:07:39.106Z"
   },
   {
    "duration": 38270,
    "start_time": "2022-07-20T11:07:39.138Z"
   },
   {
    "duration": 120,
    "start_time": "2022-07-20T11:08:17.410Z"
   },
   {
    "duration": 34,
    "start_time": "2022-07-20T11:08:17.532Z"
   },
   {
    "duration": 83,
    "start_time": "2022-07-20T11:08:17.568Z"
   },
   {
    "duration": 2051,
    "start_time": "2022-07-20T11:08:34.751Z"
   },
   {
    "duration": 1291,
    "start_time": "2022-07-20T11:08:36.804Z"
   },
   {
    "duration": 854,
    "start_time": "2022-07-20T11:08:38.096Z"
   },
   {
    "duration": 622,
    "start_time": "2022-07-20T11:08:38.953Z"
   },
   {
    "duration": 530,
    "start_time": "2022-07-20T11:08:39.576Z"
   },
   {
    "duration": 6,
    "start_time": "2022-07-20T11:08:40.107Z"
   },
   {
    "duration": 135,
    "start_time": "2022-07-20T11:08:40.115Z"
   },
   {
    "duration": 91,
    "start_time": "2022-07-20T11:08:40.251Z"
   },
   {
    "duration": 17,
    "start_time": "2022-07-20T11:08:40.344Z"
   },
   {
    "duration": 27,
    "start_time": "2022-07-20T11:08:40.364Z"
   },
   {
    "duration": 19,
    "start_time": "2022-07-20T11:08:40.393Z"
   },
   {
    "duration": 25,
    "start_time": "2022-07-20T11:08:40.414Z"
   },
   {
    "duration": 19,
    "start_time": "2022-07-20T11:08:40.463Z"
   },
   {
    "duration": 21,
    "start_time": "2022-07-20T11:08:40.483Z"
   },
   {
    "duration": 17,
    "start_time": "2022-07-20T11:08:40.506Z"
   },
   {
    "duration": 18,
    "start_time": "2022-07-20T11:08:40.524Z"
   },
   {
    "duration": 17,
    "start_time": "2022-07-20T11:08:40.564Z"
   },
   {
    "duration": 19,
    "start_time": "2022-07-20T11:08:40.582Z"
   },
   {
    "duration": 22,
    "start_time": "2022-07-20T11:08:40.603Z"
   },
   {
    "duration": 45,
    "start_time": "2022-07-20T11:08:40.627Z"
   },
   {
    "duration": 37046,
    "start_time": "2022-07-20T11:08:40.674Z"
   },
   {
    "duration": 109,
    "start_time": "2022-07-20T11:09:17.722Z"
   },
   {
    "duration": 86,
    "start_time": "2022-07-20T11:09:17.833Z"
   },
   {
    "duration": 19,
    "start_time": "2022-07-20T11:13:08.878Z"
   },
   {
    "duration": 88,
    "start_time": "2022-07-20T11:13:09.469Z"
   },
   {
    "duration": 325028,
    "start_time": "2022-07-20T11:13:15.491Z"
   },
   {
    "duration": 173,
    "start_time": "2022-07-20T11:20:10.065Z"
   },
   {
    "duration": 2227267,
    "start_time": "2022-07-20T11:20:33.219Z"
   },
   {
    "duration": 71552,
    "start_time": "2022-07-20T11:59:14.360Z"
   },
   {
    "duration": 1617649,
    "start_time": "2022-07-20T12:00:49.829Z"
   },
   {
    "duration": 901986,
    "start_time": "2022-07-20T12:28:07.468Z"
   },
   {
    "duration": 2410,
    "start_time": "2022-07-20T12:48:07.759Z"
   },
   {
    "duration": 6,
    "start_time": "2022-07-20T12:48:10.172Z"
   },
   {
    "duration": 913,
    "start_time": "2022-07-20T12:48:10.179Z"
   },
   {
    "duration": 624,
    "start_time": "2022-07-20T12:48:11.094Z"
   },
   {
    "duration": 496,
    "start_time": "2022-07-20T12:48:11.721Z"
   },
   {
    "duration": 7,
    "start_time": "2022-07-20T12:48:12.219Z"
   },
   {
    "duration": 153,
    "start_time": "2022-07-20T12:48:12.228Z"
   },
   {
    "duration": 26,
    "start_time": "2022-07-20T12:48:12.383Z"
   },
   {
    "duration": 18,
    "start_time": "2022-07-20T12:48:12.411Z"
   },
   {
    "duration": 47,
    "start_time": "2022-07-20T12:48:12.431Z"
   },
   {
    "duration": 19,
    "start_time": "2022-07-20T12:48:12.480Z"
   },
   {
    "duration": 26,
    "start_time": "2022-07-20T12:48:12.501Z"
   },
   {
    "duration": 59,
    "start_time": "2022-07-20T12:48:12.530Z"
   },
   {
    "duration": 78,
    "start_time": "2022-07-20T12:48:12.592Z"
   },
   {
    "duration": 67,
    "start_time": "2022-07-20T12:48:12.673Z"
   },
   {
    "duration": 30,
    "start_time": "2022-07-20T12:48:12.742Z"
   },
   {
    "duration": 41,
    "start_time": "2022-07-20T12:48:12.775Z"
   },
   {
    "duration": 28,
    "start_time": "2022-07-20T12:48:12.821Z"
   },
   {
    "duration": 32,
    "start_time": "2022-07-20T12:48:12.852Z"
   },
   {
    "duration": 28,
    "start_time": "2022-07-20T12:48:12.887Z"
   },
   {
    "duration": 39242,
    "start_time": "2022-07-20T12:48:12.918Z"
   },
   {
    "duration": 111,
    "start_time": "2022-07-20T12:48:52.162Z"
   },
   {
    "duration": 80,
    "start_time": "2022-07-20T12:48:52.275Z"
   },
   {
    "duration": 21,
    "start_time": "2022-07-20T12:48:52.364Z"
   },
   {
    "duration": 112,
    "start_time": "2022-07-20T12:48:52.387Z"
   }
  ],
  "kernelspec": {
   "display_name": "Python 3.9.12 ('base')",
   "language": "python",
   "name": "python3"
  },
  "language_info": {
   "codemirror_mode": {
    "name": "ipython",
    "version": 3
   },
   "file_extension": ".py",
   "mimetype": "text/x-python",
   "name": "python",
   "nbconvert_exporter": "python",
   "pygments_lexer": "ipython3",
   "version": "3.9.12"
  },
  "toc": {
   "base_numbering": 1,
   "nav_menu": {
    "height": "107px",
    "width": "262px"
   },
   "number_sections": true,
   "sideBar": true,
   "skip_h1_title": true,
   "title_cell": "Table of Contents",
   "title_sidebar": "Contents",
   "toc_cell": true,
   "toc_position": {},
   "toc_section_display": true,
   "toc_window_display": false
  },
  "vscode": {
   "interpreter": {
    "hash": "ad2bdc8ecc057115af97d19610ffacc2b4e99fae6737bb82f5d7fb13d2f2c186"
   }
  }
 },
 "nbformat": 4,
 "nbformat_minor": 2
}
