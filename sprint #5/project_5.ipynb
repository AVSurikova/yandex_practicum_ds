{
 "cells": [
  {
   "cell_type": "markdown",
   "id": "4ad9cbcd",
   "metadata": {},
   "source": [
    "# Сборный проект. Анализ рынка компьютерных игр\n",
    "\n",
    "### Описание проекта\n",
    "\n",
    "**Исходные данные:**\n",
    "\n",
    "Исторические данные из открытых источников о продажах игр, оценках пользователей и экспертов, жанрах и платформах.\n",
    "\n",
    "**Цель проекта:**\n",
    "\n",
    "Выявить определяющие успешность игры закономерности. Это позволит сделать ставку на потенциально популярный продукт и спланировать рекламные кампании.\n",
    "\n",
    "**Описание данных:**\n",
    "\n",
    "Данные собраны в файле `games.csv`.\n",
    "* `Name` — название игры\n",
    "* `Platform` — платформа\n",
    "* `Year_of_Release` — год выпуска\n",
    "* `Genre` — жанр игры\n",
    "* `NA_sales` — продажи в Северной Америке (миллионы проданных копий)\n",
    "* `EU_sales` — продажи в Европе (миллионы проданных копий)\n",
    "* `JP_sales` — продажи в Японии (миллионы проданных копий)\n",
    "* `Other_sales` — продажи в других странах (миллионы проданных копий)\n",
    "* `Critic_Score` — оценка критиков (максимум 100)\n",
    "* `User_Score` — оценка пользователей (максимум 10)\n",
    "* `Rating` — рейтинг от организации ESRB (англ. Entertainment Software Rating Board). Эта ассоциация определяет рейтинг компьютерных игр и присваивает им подходящую возрастную категорию.\n",
    "\n",
    "### Структура проекта\n",
    "1. Загрузка и изучение общей информации датасета\n",
    "2. Предобработка данных\n",
    "    * 2.1 Замена названий столбцов\n",
    "    * 2.2 Заполнение пропусков и изменение типов данных\n",
    "    * 2.3 Расчёт дополнительных параметров\n",
    "3. Исследовательский анализ данных\n",
    "    * 3.1 Выбор актуальных игровых платформ и периода релиза игр\n",
    "    * 3.2 Исследование продаж по актуальным платформам\n",
    "    * 3.3 Влияние отзывов пользователей и критиков на продажи по платформе `'PS4'`\n",
    "    * 3.4 Влияние жанра игры на продажи\n",
    "4. Портрет пользователя каждого региона\n",
    "5. Проверка гипотез\n",
    "    * 5.1 Средние пользовательские рейтинги платформ Xbox One и PC одинаковые\n",
    "    * 5.2 Средние пользовательские рейтинги жанров Action и Sports разные\n",
    "6. Общий вывод"
   ]
  },
  {
   "cell_type": "markdown",
   "id": "75137826",
   "metadata": {},
   "source": [
    "## 1. Загрузка и изучение общей информации датасета"
   ]
  },
  {
   "cell_type": "code",
   "execution_count": 1,
   "id": "f403c28d",
   "metadata": {},
   "outputs": [],
   "source": [
    "# импортируем необходимые библиотеки\n",
    "import pandas as pd\n",
    "import numpy as np\n",
    "import matplotlib.pyplot as plt\n",
    "import seaborn as sns\n",
    "from scipy import stats as st\n",
    "import os"
   ]
  },
  {
   "cell_type": "code",
   "execution_count": 2,
   "id": "b485ee35",
   "metadata": {},
   "outputs": [],
   "source": [
    "# открываем файл с данными\n",
    "pth1 = 'games.csv'\n",
    "\n",
    "pth2 = '/datasets/games.csv'\n",
    "\n",
    "if os.path.exists(pth1):\n",
    "    games = pd.read_csv(pth1)\n",
    "elif os.path.exists(pth2):\n",
    "    games = pd.read_csv(pth2)\n",
    "else:\n",
    "    print('Something is wrong')"
   ]
  },
  {
   "cell_type": "code",
   "execution_count": 3,
   "id": "5956364f",
   "metadata": {
    "scrolled": false
   },
   "outputs": [
    {
     "data": {
      "text/html": [
       "<div>\n",
       "<style scoped>\n",
       "    .dataframe tbody tr th:only-of-type {\n",
       "        vertical-align: middle;\n",
       "    }\n",
       "\n",
       "    .dataframe tbody tr th {\n",
       "        vertical-align: top;\n",
       "    }\n",
       "\n",
       "    .dataframe thead th {\n",
       "        text-align: right;\n",
       "    }\n",
       "</style>\n",
       "<table border=\"1\" class=\"dataframe\">\n",
       "  <thead>\n",
       "    <tr style=\"text-align: right;\">\n",
       "      <th></th>\n",
       "      <th>Name</th>\n",
       "      <th>Platform</th>\n",
       "      <th>Year_of_Release</th>\n",
       "      <th>Genre</th>\n",
       "      <th>NA_sales</th>\n",
       "      <th>EU_sales</th>\n",
       "      <th>JP_sales</th>\n",
       "      <th>Other_sales</th>\n",
       "      <th>Critic_Score</th>\n",
       "      <th>User_Score</th>\n",
       "      <th>Rating</th>\n",
       "    </tr>\n",
       "  </thead>\n",
       "  <tbody>\n",
       "    <tr>\n",
       "      <th>0</th>\n",
       "      <td>Wii Sports</td>\n",
       "      <td>Wii</td>\n",
       "      <td>2006.0</td>\n",
       "      <td>Sports</td>\n",
       "      <td>41.36</td>\n",
       "      <td>28.96</td>\n",
       "      <td>3.77</td>\n",
       "      <td>8.45</td>\n",
       "      <td>76.0</td>\n",
       "      <td>8</td>\n",
       "      <td>E</td>\n",
       "    </tr>\n",
       "    <tr>\n",
       "      <th>1</th>\n",
       "      <td>Super Mario Bros.</td>\n",
       "      <td>NES</td>\n",
       "      <td>1985.0</td>\n",
       "      <td>Platform</td>\n",
       "      <td>29.08</td>\n",
       "      <td>3.58</td>\n",
       "      <td>6.81</td>\n",
       "      <td>0.77</td>\n",
       "      <td>NaN</td>\n",
       "      <td>NaN</td>\n",
       "      <td>NaN</td>\n",
       "    </tr>\n",
       "    <tr>\n",
       "      <th>2</th>\n",
       "      <td>Mario Kart Wii</td>\n",
       "      <td>Wii</td>\n",
       "      <td>2008.0</td>\n",
       "      <td>Racing</td>\n",
       "      <td>15.68</td>\n",
       "      <td>12.76</td>\n",
       "      <td>3.79</td>\n",
       "      <td>3.29</td>\n",
       "      <td>82.0</td>\n",
       "      <td>8.3</td>\n",
       "      <td>E</td>\n",
       "    </tr>\n",
       "    <tr>\n",
       "      <th>3</th>\n",
       "      <td>Wii Sports Resort</td>\n",
       "      <td>Wii</td>\n",
       "      <td>2009.0</td>\n",
       "      <td>Sports</td>\n",
       "      <td>15.61</td>\n",
       "      <td>10.93</td>\n",
       "      <td>3.28</td>\n",
       "      <td>2.95</td>\n",
       "      <td>80.0</td>\n",
       "      <td>8</td>\n",
       "      <td>E</td>\n",
       "    </tr>\n",
       "    <tr>\n",
       "      <th>4</th>\n",
       "      <td>Pokemon Red/Pokemon Blue</td>\n",
       "      <td>GB</td>\n",
       "      <td>1996.0</td>\n",
       "      <td>Role-Playing</td>\n",
       "      <td>11.27</td>\n",
       "      <td>8.89</td>\n",
       "      <td>10.22</td>\n",
       "      <td>1.00</td>\n",
       "      <td>NaN</td>\n",
       "      <td>NaN</td>\n",
       "      <td>NaN</td>\n",
       "    </tr>\n",
       "    <tr>\n",
       "      <th>5</th>\n",
       "      <td>Tetris</td>\n",
       "      <td>GB</td>\n",
       "      <td>1989.0</td>\n",
       "      <td>Puzzle</td>\n",
       "      <td>23.20</td>\n",
       "      <td>2.26</td>\n",
       "      <td>4.22</td>\n",
       "      <td>0.58</td>\n",
       "      <td>NaN</td>\n",
       "      <td>NaN</td>\n",
       "      <td>NaN</td>\n",
       "    </tr>\n",
       "    <tr>\n",
       "      <th>6</th>\n",
       "      <td>New Super Mario Bros.</td>\n",
       "      <td>DS</td>\n",
       "      <td>2006.0</td>\n",
       "      <td>Platform</td>\n",
       "      <td>11.28</td>\n",
       "      <td>9.14</td>\n",
       "      <td>6.50</td>\n",
       "      <td>2.88</td>\n",
       "      <td>89.0</td>\n",
       "      <td>8.5</td>\n",
       "      <td>E</td>\n",
       "    </tr>\n",
       "    <tr>\n",
       "      <th>7</th>\n",
       "      <td>Wii Play</td>\n",
       "      <td>Wii</td>\n",
       "      <td>2006.0</td>\n",
       "      <td>Misc</td>\n",
       "      <td>13.96</td>\n",
       "      <td>9.18</td>\n",
       "      <td>2.93</td>\n",
       "      <td>2.84</td>\n",
       "      <td>58.0</td>\n",
       "      <td>6.6</td>\n",
       "      <td>E</td>\n",
       "    </tr>\n",
       "    <tr>\n",
       "      <th>8</th>\n",
       "      <td>New Super Mario Bros. Wii</td>\n",
       "      <td>Wii</td>\n",
       "      <td>2009.0</td>\n",
       "      <td>Platform</td>\n",
       "      <td>14.44</td>\n",
       "      <td>6.94</td>\n",
       "      <td>4.70</td>\n",
       "      <td>2.24</td>\n",
       "      <td>87.0</td>\n",
       "      <td>8.4</td>\n",
       "      <td>E</td>\n",
       "    </tr>\n",
       "    <tr>\n",
       "      <th>9</th>\n",
       "      <td>Duck Hunt</td>\n",
       "      <td>NES</td>\n",
       "      <td>1984.0</td>\n",
       "      <td>Shooter</td>\n",
       "      <td>26.93</td>\n",
       "      <td>0.63</td>\n",
       "      <td>0.28</td>\n",
       "      <td>0.47</td>\n",
       "      <td>NaN</td>\n",
       "      <td>NaN</td>\n",
       "      <td>NaN</td>\n",
       "    </tr>\n",
       "  </tbody>\n",
       "</table>\n",
       "</div>"
      ],
      "text/plain": [
       "                        Name Platform  Year_of_Release         Genre  \\\n",
       "0                 Wii Sports      Wii           2006.0        Sports   \n",
       "1          Super Mario Bros.      NES           1985.0      Platform   \n",
       "2             Mario Kart Wii      Wii           2008.0        Racing   \n",
       "3          Wii Sports Resort      Wii           2009.0        Sports   \n",
       "4   Pokemon Red/Pokemon Blue       GB           1996.0  Role-Playing   \n",
       "5                     Tetris       GB           1989.0        Puzzle   \n",
       "6      New Super Mario Bros.       DS           2006.0      Platform   \n",
       "7                   Wii Play      Wii           2006.0          Misc   \n",
       "8  New Super Mario Bros. Wii      Wii           2009.0      Platform   \n",
       "9                  Duck Hunt      NES           1984.0       Shooter   \n",
       "\n",
       "   NA_sales  EU_sales  JP_sales  Other_sales  Critic_Score User_Score Rating  \n",
       "0     41.36     28.96      3.77         8.45          76.0          8      E  \n",
       "1     29.08      3.58      6.81         0.77           NaN        NaN    NaN  \n",
       "2     15.68     12.76      3.79         3.29          82.0        8.3      E  \n",
       "3     15.61     10.93      3.28         2.95          80.0          8      E  \n",
       "4     11.27      8.89     10.22         1.00           NaN        NaN    NaN  \n",
       "5     23.20      2.26      4.22         0.58           NaN        NaN    NaN  \n",
       "6     11.28      9.14      6.50         2.88          89.0        8.5      E  \n",
       "7     13.96      9.18      2.93         2.84          58.0        6.6      E  \n",
       "8     14.44      6.94      4.70         2.24          87.0        8.4      E  \n",
       "9     26.93      0.63      0.28         0.47           NaN        NaN    NaN  "
      ]
     },
     "metadata": {},
     "output_type": "display_data"
    },
    {
     "name": "stdout",
     "output_type": "stream",
     "text": [
      "<class 'pandas.core.frame.DataFrame'>\n",
      "RangeIndex: 16715 entries, 0 to 16714\n",
      "Data columns (total 11 columns):\n",
      " #   Column           Non-Null Count  Dtype  \n",
      "---  ------           --------------  -----  \n",
      " 0   Name             16713 non-null  object \n",
      " 1   Platform         16715 non-null  object \n",
      " 2   Year_of_Release  16446 non-null  float64\n",
      " 3   Genre            16713 non-null  object \n",
      " 4   NA_sales         16715 non-null  float64\n",
      " 5   EU_sales         16715 non-null  float64\n",
      " 6   JP_sales         16715 non-null  float64\n",
      " 7   Other_sales      16715 non-null  float64\n",
      " 8   Critic_Score     8137 non-null   float64\n",
      " 9   User_Score       10014 non-null  object \n",
      " 10  Rating           9949 non-null   object \n",
      "dtypes: float64(6), object(5)\n",
      "memory usage: 1.4+ MB\n"
     ]
    }
   ],
   "source": [
    "# выводим первые 10 строк таблицы и сводную информацию о ней\n",
    "display(games.head(10))\n",
    "games.info()"
   ]
  },
  {
   "cell_type": "code",
   "execution_count": 4,
   "id": "de99e42e",
   "metadata": {},
   "outputs": [
    {
     "name": "stdout",
     "output_type": "stream",
     "text": [
      "Количество дублированных строк: 0\n"
     ]
    }
   ],
   "source": [
    "print('Количество дублированных строк:', sum(games.duplicated()))"
   ]
  },
  {
   "cell_type": "markdown",
   "id": "aee8fff3",
   "metadata": {},
   "source": [
    "**Выводы**\n",
    "\n",
    "* Данные успешно загружены из файла. В таблице games 16715 записей. Дубликатов не обнаружено. Данные соответствуют описанию.\n",
    "* Изучена общая информация таблицы:\n",
    "    * Названия столбцов следует привести к нижнему регистру.\n",
    "    * Тип данных в столбце `'Year_of_Release'` следует заменить на `int`.\n",
    "    * Тип данных в столбце `'User_Score'` следует заменить на `float`.\n",
    "* В некоторых столбцах до 50% пропущенных данных. Пропуски будут исследованы и обработаны далее.\n",
    "* Необходимо дальнейшее исследование данных для поиска скрытых ошибок и выбросов."
   ]
  },
  {
   "cell_type": "markdown",
   "id": "47960b36",
   "metadata": {},
   "source": [
    "## 2. Предобработка данных\n",
    "\n",
    "### 2.1 Замена названий столбцов\n",
    "\n",
    "Приведем все наименования столбцов к нижнему регистру методом *`.lower()`*."
   ]
  },
  {
   "cell_type": "code",
   "execution_count": 5,
   "id": "3f3cc348",
   "metadata": {},
   "outputs": [
    {
     "data": {
      "text/html": [
       "<div>\n",
       "<style scoped>\n",
       "    .dataframe tbody tr th:only-of-type {\n",
       "        vertical-align: middle;\n",
       "    }\n",
       "\n",
       "    .dataframe tbody tr th {\n",
       "        vertical-align: top;\n",
       "    }\n",
       "\n",
       "    .dataframe thead th {\n",
       "        text-align: right;\n",
       "    }\n",
       "</style>\n",
       "<table border=\"1\" class=\"dataframe\">\n",
       "  <thead>\n",
       "    <tr style=\"text-align: right;\">\n",
       "      <th></th>\n",
       "      <th>name</th>\n",
       "      <th>platform</th>\n",
       "      <th>year_of_release</th>\n",
       "      <th>genre</th>\n",
       "      <th>na_sales</th>\n",
       "      <th>eu_sales</th>\n",
       "      <th>jp_sales</th>\n",
       "      <th>other_sales</th>\n",
       "      <th>critic_score</th>\n",
       "      <th>user_score</th>\n",
       "      <th>rating</th>\n",
       "    </tr>\n",
       "  </thead>\n",
       "  <tbody>\n",
       "    <tr>\n",
       "      <th>0</th>\n",
       "      <td>Wii Sports</td>\n",
       "      <td>Wii</td>\n",
       "      <td>2006.0</td>\n",
       "      <td>Sports</td>\n",
       "      <td>41.36</td>\n",
       "      <td>28.96</td>\n",
       "      <td>3.77</td>\n",
       "      <td>8.45</td>\n",
       "      <td>76.0</td>\n",
       "      <td>8</td>\n",
       "      <td>E</td>\n",
       "    </tr>\n",
       "    <tr>\n",
       "      <th>1</th>\n",
       "      <td>Super Mario Bros.</td>\n",
       "      <td>NES</td>\n",
       "      <td>1985.0</td>\n",
       "      <td>Platform</td>\n",
       "      <td>29.08</td>\n",
       "      <td>3.58</td>\n",
       "      <td>6.81</td>\n",
       "      <td>0.77</td>\n",
       "      <td>NaN</td>\n",
       "      <td>NaN</td>\n",
       "      <td>NaN</td>\n",
       "    </tr>\n",
       "    <tr>\n",
       "      <th>2</th>\n",
       "      <td>Mario Kart Wii</td>\n",
       "      <td>Wii</td>\n",
       "      <td>2008.0</td>\n",
       "      <td>Racing</td>\n",
       "      <td>15.68</td>\n",
       "      <td>12.76</td>\n",
       "      <td>3.79</td>\n",
       "      <td>3.29</td>\n",
       "      <td>82.0</td>\n",
       "      <td>8.3</td>\n",
       "      <td>E</td>\n",
       "    </tr>\n",
       "    <tr>\n",
       "      <th>3</th>\n",
       "      <td>Wii Sports Resort</td>\n",
       "      <td>Wii</td>\n",
       "      <td>2009.0</td>\n",
       "      <td>Sports</td>\n",
       "      <td>15.61</td>\n",
       "      <td>10.93</td>\n",
       "      <td>3.28</td>\n",
       "      <td>2.95</td>\n",
       "      <td>80.0</td>\n",
       "      <td>8</td>\n",
       "      <td>E</td>\n",
       "    </tr>\n",
       "    <tr>\n",
       "      <th>4</th>\n",
       "      <td>Pokemon Red/Pokemon Blue</td>\n",
       "      <td>GB</td>\n",
       "      <td>1996.0</td>\n",
       "      <td>Role-Playing</td>\n",
       "      <td>11.27</td>\n",
       "      <td>8.89</td>\n",
       "      <td>10.22</td>\n",
       "      <td>1.00</td>\n",
       "      <td>NaN</td>\n",
       "      <td>NaN</td>\n",
       "      <td>NaN</td>\n",
       "    </tr>\n",
       "  </tbody>\n",
       "</table>\n",
       "</div>"
      ],
      "text/plain": [
       "                       name platform  year_of_release         genre  na_sales  \\\n",
       "0                Wii Sports      Wii           2006.0        Sports     41.36   \n",
       "1         Super Mario Bros.      NES           1985.0      Platform     29.08   \n",
       "2            Mario Kart Wii      Wii           2008.0        Racing     15.68   \n",
       "3         Wii Sports Resort      Wii           2009.0        Sports     15.61   \n",
       "4  Pokemon Red/Pokemon Blue       GB           1996.0  Role-Playing     11.27   \n",
       "\n",
       "   eu_sales  jp_sales  other_sales  critic_score user_score rating  \n",
       "0     28.96      3.77         8.45          76.0          8      E  \n",
       "1      3.58      6.81         0.77           NaN        NaN    NaN  \n",
       "2     12.76      3.79         3.29          82.0        8.3      E  \n",
       "3     10.93      3.28         2.95          80.0          8      E  \n",
       "4      8.89     10.22         1.00           NaN        NaN    NaN  "
      ]
     },
     "metadata": {},
     "output_type": "display_data"
    }
   ],
   "source": [
    "games.columns = games.columns.str.lower()\n",
    "display(games.head())"
   ]
  },
  {
   "cell_type": "markdown",
   "id": "080d21ee",
   "metadata": {},
   "source": [
    "### 2.2 Заполнение пропусков и изменение типов данных\n",
    "\n",
    "**1) Рассмотрим наименования игр, столбец `'name'`.**\n",
    "\n",
    "Тип данных в столбце `'name'` соотетствует хранящейся информации (`object` для названия игр). Найдём пропущенные данные."
   ]
  },
  {
   "cell_type": "code",
   "execution_count": 6,
   "id": "6aa35d3b",
   "metadata": {},
   "outputs": [
    {
     "data": {
      "text/html": [
       "<div>\n",
       "<style scoped>\n",
       "    .dataframe tbody tr th:only-of-type {\n",
       "        vertical-align: middle;\n",
       "    }\n",
       "\n",
       "    .dataframe tbody tr th {\n",
       "        vertical-align: top;\n",
       "    }\n",
       "\n",
       "    .dataframe thead th {\n",
       "        text-align: right;\n",
       "    }\n",
       "</style>\n",
       "<table border=\"1\" class=\"dataframe\">\n",
       "  <thead>\n",
       "    <tr style=\"text-align: right;\">\n",
       "      <th></th>\n",
       "      <th>name</th>\n",
       "      <th>platform</th>\n",
       "      <th>year_of_release</th>\n",
       "      <th>genre</th>\n",
       "      <th>na_sales</th>\n",
       "      <th>eu_sales</th>\n",
       "      <th>jp_sales</th>\n",
       "      <th>other_sales</th>\n",
       "      <th>critic_score</th>\n",
       "      <th>user_score</th>\n",
       "      <th>rating</th>\n",
       "    </tr>\n",
       "  </thead>\n",
       "  <tbody>\n",
       "    <tr>\n",
       "      <th>659</th>\n",
       "      <td>NaN</td>\n",
       "      <td>GEN</td>\n",
       "      <td>1993.0</td>\n",
       "      <td>NaN</td>\n",
       "      <td>1.78</td>\n",
       "      <td>0.53</td>\n",
       "      <td>0.00</td>\n",
       "      <td>0.08</td>\n",
       "      <td>NaN</td>\n",
       "      <td>NaN</td>\n",
       "      <td>NaN</td>\n",
       "    </tr>\n",
       "    <tr>\n",
       "      <th>14244</th>\n",
       "      <td>NaN</td>\n",
       "      <td>GEN</td>\n",
       "      <td>1993.0</td>\n",
       "      <td>NaN</td>\n",
       "      <td>0.00</td>\n",
       "      <td>0.00</td>\n",
       "      <td>0.03</td>\n",
       "      <td>0.00</td>\n",
       "      <td>NaN</td>\n",
       "      <td>NaN</td>\n",
       "      <td>NaN</td>\n",
       "    </tr>\n",
       "  </tbody>\n",
       "</table>\n",
       "</div>"
      ],
      "text/plain": [
       "      name platform  year_of_release genre  na_sales  eu_sales  jp_sales  \\\n",
       "659    NaN      GEN           1993.0   NaN      1.78      0.53      0.00   \n",
       "14244  NaN      GEN           1993.0   NaN      0.00      0.00      0.03   \n",
       "\n",
       "       other_sales  critic_score user_score rating  \n",
       "659           0.08           NaN        NaN    NaN  \n",
       "14244         0.00           NaN        NaN    NaN  "
      ]
     },
     "metadata": {},
     "output_type": "display_data"
    },
    {
     "name": "stdout",
     "output_type": "stream",
     "text": [
      "Количество пропущенных значений: 2\n",
      "Доля пропущенных значений: 0.00011965300628178283\n"
     ]
    }
   ],
   "source": [
    "display(games[games['name'].isna()])\n",
    "print(f\"Количество пропущенных значений: {games['name'].isna().sum()}\")\n",
    "print(f\"Доля пропущенных значений: {games['name'].isna().sum() / games.shape[0]}\")"
   ]
  },
  {
   "cell_type": "markdown",
   "id": "81ec4077",
   "metadata": {},
   "source": [
    "Данные пропущены всего в 2 записях. Без названия игры эти записи нам не интересны. Две записи можно удалить без ущерба распределениям по другим параметрам. Заодно удалятся строки с пропущенным жанром, таких строк тоже было 2."
   ]
  },
  {
   "cell_type": "code",
   "execution_count": 7,
   "id": "be6969ea",
   "metadata": {},
   "outputs": [],
   "source": [
    "games = games.loc[~games['name'].isna()]"
   ]
  },
  {
   "cell_type": "markdown",
   "id": "64d72177",
   "metadata": {},
   "source": [
    "---\n",
    "\n",
    "**2) Рассмотрим названия игровых платформ в столбце `'platform'`.**\n",
    "\n",
    "Тип данных в столбце `'platform'` соотетствует хранящейся информации (`object` для названия игровой платформы). Пропущенных данных нет."
   ]
  },
  {
   "cell_type": "markdown",
   "id": "a6356cbe",
   "metadata": {},
   "source": [
    "---\n",
    "\n",
    "**3) Рассмотрим год выпуска игры, столбец `'year_of_release'`.**\n",
    "\n",
    "Тип данных в столбце `'year_of_release'` следует изменить на `int`, так как год выпуска может быть только целочисленным значением. Для начала найдём пропущенные данные."
   ]
  },
  {
   "cell_type": "code",
   "execution_count": 8,
   "id": "d9645007",
   "metadata": {},
   "outputs": [
    {
     "data": {
      "text/html": [
       "<div>\n",
       "<style scoped>\n",
       "    .dataframe tbody tr th:only-of-type {\n",
       "        vertical-align: middle;\n",
       "    }\n",
       "\n",
       "    .dataframe tbody tr th {\n",
       "        vertical-align: top;\n",
       "    }\n",
       "\n",
       "    .dataframe thead th {\n",
       "        text-align: right;\n",
       "    }\n",
       "</style>\n",
       "<table border=\"1\" class=\"dataframe\">\n",
       "  <thead>\n",
       "    <tr style=\"text-align: right;\">\n",
       "      <th></th>\n",
       "      <th>name</th>\n",
       "      <th>platform</th>\n",
       "      <th>year_of_release</th>\n",
       "      <th>genre</th>\n",
       "      <th>na_sales</th>\n",
       "      <th>eu_sales</th>\n",
       "      <th>jp_sales</th>\n",
       "      <th>other_sales</th>\n",
       "      <th>critic_score</th>\n",
       "      <th>user_score</th>\n",
       "      <th>rating</th>\n",
       "    </tr>\n",
       "  </thead>\n",
       "  <tbody>\n",
       "    <tr>\n",
       "      <th>183</th>\n",
       "      <td>Madden NFL 2004</td>\n",
       "      <td>PS2</td>\n",
       "      <td>NaN</td>\n",
       "      <td>Sports</td>\n",
       "      <td>4.26</td>\n",
       "      <td>0.26</td>\n",
       "      <td>0.01</td>\n",
       "      <td>0.71</td>\n",
       "      <td>94.0</td>\n",
       "      <td>8.5</td>\n",
       "      <td>E</td>\n",
       "    </tr>\n",
       "    <tr>\n",
       "      <th>377</th>\n",
       "      <td>FIFA Soccer 2004</td>\n",
       "      <td>PS2</td>\n",
       "      <td>NaN</td>\n",
       "      <td>Sports</td>\n",
       "      <td>0.59</td>\n",
       "      <td>2.36</td>\n",
       "      <td>0.04</td>\n",
       "      <td>0.51</td>\n",
       "      <td>84.0</td>\n",
       "      <td>6.4</td>\n",
       "      <td>E</td>\n",
       "    </tr>\n",
       "    <tr>\n",
       "      <th>456</th>\n",
       "      <td>LEGO Batman: The Videogame</td>\n",
       "      <td>Wii</td>\n",
       "      <td>NaN</td>\n",
       "      <td>Action</td>\n",
       "      <td>1.80</td>\n",
       "      <td>0.97</td>\n",
       "      <td>0.00</td>\n",
       "      <td>0.29</td>\n",
       "      <td>74.0</td>\n",
       "      <td>7.9</td>\n",
       "      <td>E10+</td>\n",
       "    </tr>\n",
       "    <tr>\n",
       "      <th>475</th>\n",
       "      <td>wwe Smackdown vs. Raw 2006</td>\n",
       "      <td>PS2</td>\n",
       "      <td>NaN</td>\n",
       "      <td>Fighting</td>\n",
       "      <td>1.57</td>\n",
       "      <td>1.02</td>\n",
       "      <td>0.00</td>\n",
       "      <td>0.41</td>\n",
       "      <td>NaN</td>\n",
       "      <td>NaN</td>\n",
       "      <td>NaN</td>\n",
       "    </tr>\n",
       "    <tr>\n",
       "      <th>609</th>\n",
       "      <td>Space Invaders</td>\n",
       "      <td>2600</td>\n",
       "      <td>NaN</td>\n",
       "      <td>Shooter</td>\n",
       "      <td>2.36</td>\n",
       "      <td>0.14</td>\n",
       "      <td>0.00</td>\n",
       "      <td>0.03</td>\n",
       "      <td>NaN</td>\n",
       "      <td>NaN</td>\n",
       "      <td>NaN</td>\n",
       "    </tr>\n",
       "    <tr>\n",
       "      <th>...</th>\n",
       "      <td>...</td>\n",
       "      <td>...</td>\n",
       "      <td>...</td>\n",
       "      <td>...</td>\n",
       "      <td>...</td>\n",
       "      <td>...</td>\n",
       "      <td>...</td>\n",
       "      <td>...</td>\n",
       "      <td>...</td>\n",
       "      <td>...</td>\n",
       "      <td>...</td>\n",
       "    </tr>\n",
       "    <tr>\n",
       "      <th>16373</th>\n",
       "      <td>PDC World Championship Darts 2008</td>\n",
       "      <td>PSP</td>\n",
       "      <td>NaN</td>\n",
       "      <td>Sports</td>\n",
       "      <td>0.01</td>\n",
       "      <td>0.00</td>\n",
       "      <td>0.00</td>\n",
       "      <td>0.00</td>\n",
       "      <td>43.0</td>\n",
       "      <td>tbd</td>\n",
       "      <td>E10+</td>\n",
       "    </tr>\n",
       "    <tr>\n",
       "      <th>16405</th>\n",
       "      <td>Freaky Flyers</td>\n",
       "      <td>GC</td>\n",
       "      <td>NaN</td>\n",
       "      <td>Racing</td>\n",
       "      <td>0.01</td>\n",
       "      <td>0.00</td>\n",
       "      <td>0.00</td>\n",
       "      <td>0.00</td>\n",
       "      <td>69.0</td>\n",
       "      <td>6.5</td>\n",
       "      <td>T</td>\n",
       "    </tr>\n",
       "    <tr>\n",
       "      <th>16448</th>\n",
       "      <td>Inversion</td>\n",
       "      <td>PC</td>\n",
       "      <td>NaN</td>\n",
       "      <td>Shooter</td>\n",
       "      <td>0.01</td>\n",
       "      <td>0.00</td>\n",
       "      <td>0.00</td>\n",
       "      <td>0.00</td>\n",
       "      <td>59.0</td>\n",
       "      <td>6.7</td>\n",
       "      <td>M</td>\n",
       "    </tr>\n",
       "    <tr>\n",
       "      <th>16458</th>\n",
       "      <td>Hakuouki: Shinsengumi Kitan</td>\n",
       "      <td>PS3</td>\n",
       "      <td>NaN</td>\n",
       "      <td>Adventure</td>\n",
       "      <td>0.01</td>\n",
       "      <td>0.00</td>\n",
       "      <td>0.00</td>\n",
       "      <td>0.00</td>\n",
       "      <td>NaN</td>\n",
       "      <td>NaN</td>\n",
       "      <td>NaN</td>\n",
       "    </tr>\n",
       "    <tr>\n",
       "      <th>16522</th>\n",
       "      <td>Virtua Quest</td>\n",
       "      <td>GC</td>\n",
       "      <td>NaN</td>\n",
       "      <td>Role-Playing</td>\n",
       "      <td>0.01</td>\n",
       "      <td>0.00</td>\n",
       "      <td>0.00</td>\n",
       "      <td>0.00</td>\n",
       "      <td>55.0</td>\n",
       "      <td>5.5</td>\n",
       "      <td>T</td>\n",
       "    </tr>\n",
       "  </tbody>\n",
       "</table>\n",
       "<p>269 rows × 11 columns</p>\n",
       "</div>"
      ],
      "text/plain": [
       "                                    name platform  year_of_release  \\\n",
       "183                      Madden NFL 2004      PS2              NaN   \n",
       "377                     FIFA Soccer 2004      PS2              NaN   \n",
       "456           LEGO Batman: The Videogame      Wii              NaN   \n",
       "475           wwe Smackdown vs. Raw 2006      PS2              NaN   \n",
       "609                       Space Invaders     2600              NaN   \n",
       "...                                  ...      ...              ...   \n",
       "16373  PDC World Championship Darts 2008      PSP              NaN   \n",
       "16405                      Freaky Flyers       GC              NaN   \n",
       "16448                          Inversion       PC              NaN   \n",
       "16458        Hakuouki: Shinsengumi Kitan      PS3              NaN   \n",
       "16522                       Virtua Quest       GC              NaN   \n",
       "\n",
       "              genre  na_sales  eu_sales  jp_sales  other_sales  critic_score  \\\n",
       "183          Sports      4.26      0.26      0.01         0.71          94.0   \n",
       "377          Sports      0.59      2.36      0.04         0.51          84.0   \n",
       "456          Action      1.80      0.97      0.00         0.29          74.0   \n",
       "475        Fighting      1.57      1.02      0.00         0.41           NaN   \n",
       "609         Shooter      2.36      0.14      0.00         0.03           NaN   \n",
       "...             ...       ...       ...       ...          ...           ...   \n",
       "16373        Sports      0.01      0.00      0.00         0.00          43.0   \n",
       "16405        Racing      0.01      0.00      0.00         0.00          69.0   \n",
       "16448       Shooter      0.01      0.00      0.00         0.00          59.0   \n",
       "16458     Adventure      0.01      0.00      0.00         0.00           NaN   \n",
       "16522  Role-Playing      0.01      0.00      0.00         0.00          55.0   \n",
       "\n",
       "      user_score rating  \n",
       "183          8.5      E  \n",
       "377          6.4      E  \n",
       "456          7.9   E10+  \n",
       "475          NaN    NaN  \n",
       "609          NaN    NaN  \n",
       "...          ...    ...  \n",
       "16373        tbd   E10+  \n",
       "16405        6.5      T  \n",
       "16448        6.7      M  \n",
       "16458        NaN    NaN  \n",
       "16522        5.5      T  \n",
       "\n",
       "[269 rows x 11 columns]"
      ]
     },
     "metadata": {},
     "output_type": "display_data"
    },
    {
     "name": "stdout",
     "output_type": "stream",
     "text": [
      "Количество пропущенных значений: 269\n",
      "Доля пропущенных значений: 1.61%\n"
     ]
    }
   ],
   "source": [
    "display(games[games['year_of_release'].isna()])\n",
    "print(f\"Количество пропущенных значений: {games['year_of_release'].isna().sum()}\")\n",
    "print(f\"Доля пропущенных значений: {games['year_of_release'].isna().sum() / games.shape[0]:.2%}\")"
   ]
  },
  {
   "cell_type": "markdown",
   "id": "dc3750cd",
   "metadata": {},
   "source": [
    "Данные пропущены по различным играм, игровым платформам и жанрам. Возможно, данные были утрачены при выгрузке из базы данных или на этапе сбора (неправильная выгрузка информации с сайтов).\n",
    "\n",
    "В некоторых играх год выхода можно взять из названия, однако существует большая вероятность допущения ошибки, и таким образом мы исказим исследование.\n",
    "\n",
    "Избавимся от пропущенных значений, а затем изменим тип данных."
   ]
  },
  {
   "cell_type": "code",
   "execution_count": 9,
   "id": "0322f27f",
   "metadata": {},
   "outputs": [],
   "source": [
    "# удаляем пропущенные значения и приводим тип данных в столбце 'year_of_release' к целочисленному\n",
    "games = games.loc[~games['year_of_release'].isna()]\n",
    "games['year_of_release'] = games['year_of_release'].astype('int')"
   ]
  },
  {
   "cell_type": "markdown",
   "id": "790aee19",
   "metadata": {},
   "source": [
    "---\n",
    "\n",
    "**4) Рассмотрим столбец `'genre'`.**\n",
    "\n",
    "Тип данных в столбце `'genre'` соотетствует хранящейся информации (`object` для названия жанров). Пропущенные данные удалены на этапе рассмотрения столбца `'name'`."
   ]
  },
  {
   "cell_type": "markdown",
   "id": "02c5833e",
   "metadata": {},
   "source": [
    "---\n",
    "\n",
    "**5) Рассмотрим продажи в столбцах `'na_sales'`, `'eu_sales'`, `'jp_sales'`, `'other_sales'`.**\n",
    "\n",
    "Тип данных в столбцах соответствует хранящейся информации (`float` для миллионов проданных копий). Пропущенных данных нет."
   ]
  },
  {
   "cell_type": "markdown",
   "id": "a080ee47",
   "metadata": {},
   "source": [
    "---\n",
    "\n",
    "**6) Рассмотрим оценки критиков в столбце `'critic_score'`.**\n",
    "\n",
    "Тип данных в столбце соответствует хранящейся информации (`float` для оценок критиков). Найдём пропущенные данные."
   ]
  },
  {
   "cell_type": "code",
   "execution_count": 10,
   "id": "c211ebc0",
   "metadata": {},
   "outputs": [
    {
     "data": {
      "text/html": [
       "<div>\n",
       "<style scoped>\n",
       "    .dataframe tbody tr th:only-of-type {\n",
       "        vertical-align: middle;\n",
       "    }\n",
       "\n",
       "    .dataframe tbody tr th {\n",
       "        vertical-align: top;\n",
       "    }\n",
       "\n",
       "    .dataframe thead th {\n",
       "        text-align: right;\n",
       "    }\n",
       "</style>\n",
       "<table border=\"1\" class=\"dataframe\">\n",
       "  <thead>\n",
       "    <tr style=\"text-align: right;\">\n",
       "      <th></th>\n",
       "      <th>name</th>\n",
       "      <th>platform</th>\n",
       "      <th>year_of_release</th>\n",
       "      <th>genre</th>\n",
       "      <th>na_sales</th>\n",
       "      <th>eu_sales</th>\n",
       "      <th>jp_sales</th>\n",
       "      <th>other_sales</th>\n",
       "      <th>critic_score</th>\n",
       "      <th>user_score</th>\n",
       "      <th>rating</th>\n",
       "    </tr>\n",
       "  </thead>\n",
       "  <tbody>\n",
       "    <tr>\n",
       "      <th>1</th>\n",
       "      <td>Super Mario Bros.</td>\n",
       "      <td>NES</td>\n",
       "      <td>1985</td>\n",
       "      <td>Platform</td>\n",
       "      <td>29.08</td>\n",
       "      <td>3.58</td>\n",
       "      <td>6.81</td>\n",
       "      <td>0.77</td>\n",
       "      <td>NaN</td>\n",
       "      <td>NaN</td>\n",
       "      <td>NaN</td>\n",
       "    </tr>\n",
       "    <tr>\n",
       "      <th>4</th>\n",
       "      <td>Pokemon Red/Pokemon Blue</td>\n",
       "      <td>GB</td>\n",
       "      <td>1996</td>\n",
       "      <td>Role-Playing</td>\n",
       "      <td>11.27</td>\n",
       "      <td>8.89</td>\n",
       "      <td>10.22</td>\n",
       "      <td>1.00</td>\n",
       "      <td>NaN</td>\n",
       "      <td>NaN</td>\n",
       "      <td>NaN</td>\n",
       "    </tr>\n",
       "    <tr>\n",
       "      <th>5</th>\n",
       "      <td>Tetris</td>\n",
       "      <td>GB</td>\n",
       "      <td>1989</td>\n",
       "      <td>Puzzle</td>\n",
       "      <td>23.20</td>\n",
       "      <td>2.26</td>\n",
       "      <td>4.22</td>\n",
       "      <td>0.58</td>\n",
       "      <td>NaN</td>\n",
       "      <td>NaN</td>\n",
       "      <td>NaN</td>\n",
       "    </tr>\n",
       "    <tr>\n",
       "      <th>9</th>\n",
       "      <td>Duck Hunt</td>\n",
       "      <td>NES</td>\n",
       "      <td>1984</td>\n",
       "      <td>Shooter</td>\n",
       "      <td>26.93</td>\n",
       "      <td>0.63</td>\n",
       "      <td>0.28</td>\n",
       "      <td>0.47</td>\n",
       "      <td>NaN</td>\n",
       "      <td>NaN</td>\n",
       "      <td>NaN</td>\n",
       "    </tr>\n",
       "    <tr>\n",
       "      <th>10</th>\n",
       "      <td>Nintendogs</td>\n",
       "      <td>DS</td>\n",
       "      <td>2005</td>\n",
       "      <td>Simulation</td>\n",
       "      <td>9.05</td>\n",
       "      <td>10.95</td>\n",
       "      <td>1.93</td>\n",
       "      <td>2.74</td>\n",
       "      <td>NaN</td>\n",
       "      <td>NaN</td>\n",
       "      <td>NaN</td>\n",
       "    </tr>\n",
       "    <tr>\n",
       "      <th>...</th>\n",
       "      <td>...</td>\n",
       "      <td>...</td>\n",
       "      <td>...</td>\n",
       "      <td>...</td>\n",
       "      <td>...</td>\n",
       "      <td>...</td>\n",
       "      <td>...</td>\n",
       "      <td>...</td>\n",
       "      <td>...</td>\n",
       "      <td>...</td>\n",
       "      <td>...</td>\n",
       "    </tr>\n",
       "    <tr>\n",
       "      <th>16710</th>\n",
       "      <td>Samurai Warriors: Sanada Maru</td>\n",
       "      <td>PS3</td>\n",
       "      <td>2016</td>\n",
       "      <td>Action</td>\n",
       "      <td>0.00</td>\n",
       "      <td>0.00</td>\n",
       "      <td>0.01</td>\n",
       "      <td>0.00</td>\n",
       "      <td>NaN</td>\n",
       "      <td>NaN</td>\n",
       "      <td>NaN</td>\n",
       "    </tr>\n",
       "    <tr>\n",
       "      <th>16711</th>\n",
       "      <td>LMA Manager 2007</td>\n",
       "      <td>X360</td>\n",
       "      <td>2006</td>\n",
       "      <td>Sports</td>\n",
       "      <td>0.00</td>\n",
       "      <td>0.01</td>\n",
       "      <td>0.00</td>\n",
       "      <td>0.00</td>\n",
       "      <td>NaN</td>\n",
       "      <td>NaN</td>\n",
       "      <td>NaN</td>\n",
       "    </tr>\n",
       "    <tr>\n",
       "      <th>16712</th>\n",
       "      <td>Haitaka no Psychedelica</td>\n",
       "      <td>PSV</td>\n",
       "      <td>2016</td>\n",
       "      <td>Adventure</td>\n",
       "      <td>0.00</td>\n",
       "      <td>0.00</td>\n",
       "      <td>0.01</td>\n",
       "      <td>0.00</td>\n",
       "      <td>NaN</td>\n",
       "      <td>NaN</td>\n",
       "      <td>NaN</td>\n",
       "    </tr>\n",
       "    <tr>\n",
       "      <th>16713</th>\n",
       "      <td>Spirits &amp; Spells</td>\n",
       "      <td>GBA</td>\n",
       "      <td>2003</td>\n",
       "      <td>Platform</td>\n",
       "      <td>0.01</td>\n",
       "      <td>0.00</td>\n",
       "      <td>0.00</td>\n",
       "      <td>0.00</td>\n",
       "      <td>NaN</td>\n",
       "      <td>NaN</td>\n",
       "      <td>NaN</td>\n",
       "    </tr>\n",
       "    <tr>\n",
       "      <th>16714</th>\n",
       "      <td>Winning Post 8 2016</td>\n",
       "      <td>PSV</td>\n",
       "      <td>2016</td>\n",
       "      <td>Simulation</td>\n",
       "      <td>0.00</td>\n",
       "      <td>0.00</td>\n",
       "      <td>0.01</td>\n",
       "      <td>0.00</td>\n",
       "      <td>NaN</td>\n",
       "      <td>NaN</td>\n",
       "      <td>NaN</td>\n",
       "    </tr>\n",
       "  </tbody>\n",
       "</table>\n",
       "<p>8461 rows × 11 columns</p>\n",
       "</div>"
      ],
      "text/plain": [
       "                                name platform  year_of_release         genre  \\\n",
       "1                  Super Mario Bros.      NES             1985      Platform   \n",
       "4           Pokemon Red/Pokemon Blue       GB             1996  Role-Playing   \n",
       "5                             Tetris       GB             1989        Puzzle   \n",
       "9                          Duck Hunt      NES             1984       Shooter   \n",
       "10                        Nintendogs       DS             2005    Simulation   \n",
       "...                              ...      ...              ...           ...   \n",
       "16710  Samurai Warriors: Sanada Maru      PS3             2016        Action   \n",
       "16711               LMA Manager 2007     X360             2006        Sports   \n",
       "16712        Haitaka no Psychedelica      PSV             2016     Adventure   \n",
       "16713               Spirits & Spells      GBA             2003      Platform   \n",
       "16714            Winning Post 8 2016      PSV             2016    Simulation   \n",
       "\n",
       "       na_sales  eu_sales  jp_sales  other_sales  critic_score user_score  \\\n",
       "1         29.08      3.58      6.81         0.77           NaN        NaN   \n",
       "4         11.27      8.89     10.22         1.00           NaN        NaN   \n",
       "5         23.20      2.26      4.22         0.58           NaN        NaN   \n",
       "9         26.93      0.63      0.28         0.47           NaN        NaN   \n",
       "10         9.05     10.95      1.93         2.74           NaN        NaN   \n",
       "...         ...       ...       ...          ...           ...        ...   \n",
       "16710      0.00      0.00      0.01         0.00           NaN        NaN   \n",
       "16711      0.00      0.01      0.00         0.00           NaN        NaN   \n",
       "16712      0.00      0.00      0.01         0.00           NaN        NaN   \n",
       "16713      0.01      0.00      0.00         0.00           NaN        NaN   \n",
       "16714      0.00      0.00      0.01         0.00           NaN        NaN   \n",
       "\n",
       "      rating  \n",
       "1        NaN  \n",
       "4        NaN  \n",
       "5        NaN  \n",
       "9        NaN  \n",
       "10       NaN  \n",
       "...      ...  \n",
       "16710    NaN  \n",
       "16711    NaN  \n",
       "16712    NaN  \n",
       "16713    NaN  \n",
       "16714    NaN  \n",
       "\n",
       "[8461 rows x 11 columns]"
      ]
     },
     "metadata": {},
     "output_type": "display_data"
    },
    {
     "name": "stdout",
     "output_type": "stream",
     "text": [
      "Количество пропущенных значений: 8461\n",
      "Доля пропущенных значений: 51.45%\n"
     ]
    }
   ],
   "source": [
    "display(games[games['critic_score'].isna()])\n",
    "print(f\"Количество пропущенных значений: {games['critic_score'].isna().sum()}\")\n",
    "print(f\"Доля пропущенных значений: {games['critic_score'].isna().sum() / games.shape[0]:.2%}\")"
   ]
  },
  {
   "cell_type": "markdown",
   "id": "ee9a904a",
   "metadata": {},
   "source": [
    "Данные пропущены для разных платформ, годов релиза и жанров игр. Возможно эти оценки отсутствовали при сборе информации, или данные были утеряны в результате сбоя при загрузке/выгрузке таблицы из базы.\n",
    "\n",
    "Оценки нельзя заполнять на основе имеющихся данных, так как игры одинаковых жанров, годов релиза и т.д. могут сильно оличаться друг от друга. Оценки одной игры на разных платформах также могут сильно отличаться.\n",
    "\n",
    "Заполним пропуски нетипичным значением **-1**, а затем будем учитывать это в дальнейшей работе. Это поможет нам сохранить данные и не повлиять на результаты исследования."
   ]
  },
  {
   "cell_type": "code",
   "execution_count": 11,
   "id": "b32f56a2",
   "metadata": {},
   "outputs": [],
   "source": [
    "# заполняем пропуски значением -1\n",
    "games['critic_score'] = games['critic_score'].fillna(-1)"
   ]
  },
  {
   "cell_type": "markdown",
   "id": "a40d4eee",
   "metadata": {},
   "source": [
    "---\n",
    "\n",
    "**7) Рассмотрим оценки критиков в столбце `'user_score'`.**\n",
    "\n",
    "Тип данных в столбце не соответствует хранящейся информации, заменим его на `float` для оценок пользователей.\n",
    "\n",
    "Для начала разберёмся с обозначением *tbd*. Это аббревиатура от англ. \"to be determined\" (для определения). Означает, что оценки игры не было на момент сбора информации.\n",
    "\n",
    "Найдем пропущенные значения."
   ]
  },
  {
   "cell_type": "code",
   "execution_count": 12,
   "id": "d398364c",
   "metadata": {
    "scrolled": false
   },
   "outputs": [
    {
     "data": {
      "text/html": [
       "<div>\n",
       "<style scoped>\n",
       "    .dataframe tbody tr th:only-of-type {\n",
       "        vertical-align: middle;\n",
       "    }\n",
       "\n",
       "    .dataframe tbody tr th {\n",
       "        vertical-align: top;\n",
       "    }\n",
       "\n",
       "    .dataframe thead th {\n",
       "        text-align: right;\n",
       "    }\n",
       "</style>\n",
       "<table border=\"1\" class=\"dataframe\">\n",
       "  <thead>\n",
       "    <tr style=\"text-align: right;\">\n",
       "      <th></th>\n",
       "      <th>name</th>\n",
       "      <th>platform</th>\n",
       "      <th>year_of_release</th>\n",
       "      <th>genre</th>\n",
       "      <th>na_sales</th>\n",
       "      <th>eu_sales</th>\n",
       "      <th>jp_sales</th>\n",
       "      <th>other_sales</th>\n",
       "      <th>critic_score</th>\n",
       "      <th>user_score</th>\n",
       "      <th>rating</th>\n",
       "    </tr>\n",
       "  </thead>\n",
       "  <tbody>\n",
       "    <tr>\n",
       "      <th>1</th>\n",
       "      <td>Super Mario Bros.</td>\n",
       "      <td>NES</td>\n",
       "      <td>1985</td>\n",
       "      <td>Platform</td>\n",
       "      <td>29.08</td>\n",
       "      <td>3.58</td>\n",
       "      <td>6.81</td>\n",
       "      <td>0.77</td>\n",
       "      <td>-1.0</td>\n",
       "      <td>NaN</td>\n",
       "      <td>NaN</td>\n",
       "    </tr>\n",
       "    <tr>\n",
       "      <th>4</th>\n",
       "      <td>Pokemon Red/Pokemon Blue</td>\n",
       "      <td>GB</td>\n",
       "      <td>1996</td>\n",
       "      <td>Role-Playing</td>\n",
       "      <td>11.27</td>\n",
       "      <td>8.89</td>\n",
       "      <td>10.22</td>\n",
       "      <td>1.00</td>\n",
       "      <td>-1.0</td>\n",
       "      <td>NaN</td>\n",
       "      <td>NaN</td>\n",
       "    </tr>\n",
       "    <tr>\n",
       "      <th>5</th>\n",
       "      <td>Tetris</td>\n",
       "      <td>GB</td>\n",
       "      <td>1989</td>\n",
       "      <td>Puzzle</td>\n",
       "      <td>23.20</td>\n",
       "      <td>2.26</td>\n",
       "      <td>4.22</td>\n",
       "      <td>0.58</td>\n",
       "      <td>-1.0</td>\n",
       "      <td>NaN</td>\n",
       "      <td>NaN</td>\n",
       "    </tr>\n",
       "    <tr>\n",
       "      <th>9</th>\n",
       "      <td>Duck Hunt</td>\n",
       "      <td>NES</td>\n",
       "      <td>1984</td>\n",
       "      <td>Shooter</td>\n",
       "      <td>26.93</td>\n",
       "      <td>0.63</td>\n",
       "      <td>0.28</td>\n",
       "      <td>0.47</td>\n",
       "      <td>-1.0</td>\n",
       "      <td>NaN</td>\n",
       "      <td>NaN</td>\n",
       "    </tr>\n",
       "    <tr>\n",
       "      <th>10</th>\n",
       "      <td>Nintendogs</td>\n",
       "      <td>DS</td>\n",
       "      <td>2005</td>\n",
       "      <td>Simulation</td>\n",
       "      <td>9.05</td>\n",
       "      <td>10.95</td>\n",
       "      <td>1.93</td>\n",
       "      <td>2.74</td>\n",
       "      <td>-1.0</td>\n",
       "      <td>NaN</td>\n",
       "      <td>NaN</td>\n",
       "    </tr>\n",
       "    <tr>\n",
       "      <th>...</th>\n",
       "      <td>...</td>\n",
       "      <td>...</td>\n",
       "      <td>...</td>\n",
       "      <td>...</td>\n",
       "      <td>...</td>\n",
       "      <td>...</td>\n",
       "      <td>...</td>\n",
       "      <td>...</td>\n",
       "      <td>...</td>\n",
       "      <td>...</td>\n",
       "      <td>...</td>\n",
       "    </tr>\n",
       "    <tr>\n",
       "      <th>16710</th>\n",
       "      <td>Samurai Warriors: Sanada Maru</td>\n",
       "      <td>PS3</td>\n",
       "      <td>2016</td>\n",
       "      <td>Action</td>\n",
       "      <td>0.00</td>\n",
       "      <td>0.00</td>\n",
       "      <td>0.01</td>\n",
       "      <td>0.00</td>\n",
       "      <td>-1.0</td>\n",
       "      <td>NaN</td>\n",
       "      <td>NaN</td>\n",
       "    </tr>\n",
       "    <tr>\n",
       "      <th>16711</th>\n",
       "      <td>LMA Manager 2007</td>\n",
       "      <td>X360</td>\n",
       "      <td>2006</td>\n",
       "      <td>Sports</td>\n",
       "      <td>0.00</td>\n",
       "      <td>0.01</td>\n",
       "      <td>0.00</td>\n",
       "      <td>0.00</td>\n",
       "      <td>-1.0</td>\n",
       "      <td>NaN</td>\n",
       "      <td>NaN</td>\n",
       "    </tr>\n",
       "    <tr>\n",
       "      <th>16712</th>\n",
       "      <td>Haitaka no Psychedelica</td>\n",
       "      <td>PSV</td>\n",
       "      <td>2016</td>\n",
       "      <td>Adventure</td>\n",
       "      <td>0.00</td>\n",
       "      <td>0.00</td>\n",
       "      <td>0.01</td>\n",
       "      <td>0.00</td>\n",
       "      <td>-1.0</td>\n",
       "      <td>NaN</td>\n",
       "      <td>NaN</td>\n",
       "    </tr>\n",
       "    <tr>\n",
       "      <th>16713</th>\n",
       "      <td>Spirits &amp; Spells</td>\n",
       "      <td>GBA</td>\n",
       "      <td>2003</td>\n",
       "      <td>Platform</td>\n",
       "      <td>0.01</td>\n",
       "      <td>0.00</td>\n",
       "      <td>0.00</td>\n",
       "      <td>0.00</td>\n",
       "      <td>-1.0</td>\n",
       "      <td>NaN</td>\n",
       "      <td>NaN</td>\n",
       "    </tr>\n",
       "    <tr>\n",
       "      <th>16714</th>\n",
       "      <td>Winning Post 8 2016</td>\n",
       "      <td>PSV</td>\n",
       "      <td>2016</td>\n",
       "      <td>Simulation</td>\n",
       "      <td>0.00</td>\n",
       "      <td>0.00</td>\n",
       "      <td>0.01</td>\n",
       "      <td>0.00</td>\n",
       "      <td>-1.0</td>\n",
       "      <td>NaN</td>\n",
       "      <td>NaN</td>\n",
       "    </tr>\n",
       "  </tbody>\n",
       "</table>\n",
       "<p>6605 rows × 11 columns</p>\n",
       "</div>"
      ],
      "text/plain": [
       "                                name platform  year_of_release         genre  \\\n",
       "1                  Super Mario Bros.      NES             1985      Platform   \n",
       "4           Pokemon Red/Pokemon Blue       GB             1996  Role-Playing   \n",
       "5                             Tetris       GB             1989        Puzzle   \n",
       "9                          Duck Hunt      NES             1984       Shooter   \n",
       "10                        Nintendogs       DS             2005    Simulation   \n",
       "...                              ...      ...              ...           ...   \n",
       "16710  Samurai Warriors: Sanada Maru      PS3             2016        Action   \n",
       "16711               LMA Manager 2007     X360             2006        Sports   \n",
       "16712        Haitaka no Psychedelica      PSV             2016     Adventure   \n",
       "16713               Spirits & Spells      GBA             2003      Platform   \n",
       "16714            Winning Post 8 2016      PSV             2016    Simulation   \n",
       "\n",
       "       na_sales  eu_sales  jp_sales  other_sales  critic_score user_score  \\\n",
       "1         29.08      3.58      6.81         0.77          -1.0        NaN   \n",
       "4         11.27      8.89     10.22         1.00          -1.0        NaN   \n",
       "5         23.20      2.26      4.22         0.58          -1.0        NaN   \n",
       "9         26.93      0.63      0.28         0.47          -1.0        NaN   \n",
       "10         9.05     10.95      1.93         2.74          -1.0        NaN   \n",
       "...         ...       ...       ...          ...           ...        ...   \n",
       "16710      0.00      0.00      0.01         0.00          -1.0        NaN   \n",
       "16711      0.00      0.01      0.00         0.00          -1.0        NaN   \n",
       "16712      0.00      0.00      0.01         0.00          -1.0        NaN   \n",
       "16713      0.01      0.00      0.00         0.00          -1.0        NaN   \n",
       "16714      0.00      0.00      0.01         0.00          -1.0        NaN   \n",
       "\n",
       "      rating  \n",
       "1        NaN  \n",
       "4        NaN  \n",
       "5        NaN  \n",
       "9        NaN  \n",
       "10       NaN  \n",
       "...      ...  \n",
       "16710    NaN  \n",
       "16711    NaN  \n",
       "16712    NaN  \n",
       "16713    NaN  \n",
       "16714    NaN  \n",
       "\n",
       "[6605 rows x 11 columns]"
      ]
     },
     "metadata": {},
     "output_type": "display_data"
    },
    {
     "name": "stdout",
     "output_type": "stream",
     "text": [
      "Количество пропущенных значений: 6605\n",
      "Доля пропущенных значений: 40.17%\n"
     ]
    }
   ],
   "source": [
    "display(games[games['user_score'].isna()])\n",
    "print(f\"Количество пропущенных значений: {games['user_score'].isna().sum()}\")\n",
    "print(f\"Доля пропущенных значений: {games['user_score'].isna().sum() / games.shape[0]:.2%}\")"
   ]
  },
  {
   "cell_type": "markdown",
   "id": "85976547",
   "metadata": {},
   "source": [
    "Данные пропущены для разных платформ, годов релиза и жанров игр. Возможно эти оценки отсутствовали при сборе информации, или данные были утеряны в результате сбоя при загрузке/выгрузке таблицы из базы.\n",
    "\n",
    "Оценки нельзя заполнять на основе имеющихся данных, так как игры одинаковых жанров, годов релиза и т.д. могут сильно оличаться друг от друга. Оценки одной игры на разных платформах также могут сильно отличаться.\n",
    "\n",
    "Заменим значение *tbd*, а также пустые значения на **-1**. После этого приведе данные к типу `float`."
   ]
  },
  {
   "cell_type": "code",
   "execution_count": 13,
   "id": "e5a8d0de",
   "metadata": {},
   "outputs": [],
   "source": [
    "# заполняем пропуски, а также tbd заменяем значением -1\n",
    "# и приводим тип данных к 'float'\n",
    "games['user_score'] = games['user_score'].fillna(-1)\n",
    "games['user_score'] = games['user_score'].replace('tbd', -1)\n",
    "games['user_score'] = games['user_score'].astype('float')"
   ]
  },
  {
   "cell_type": "markdown",
   "id": "56175899",
   "metadata": {},
   "source": [
    "---\n",
    "\n",
    "**8) Рассмотрим рейтинг ESRB в столбце `'rating'`.**\n",
    "\n",
    "Тип данных в столбце `'rating'` соответствует хранящейся информации (`object` аббревиатуры рейтинга). Посмотрим на возможные рейтинги."
   ]
  },
  {
   "cell_type": "code",
   "execution_count": 14,
   "id": "26862895",
   "metadata": {},
   "outputs": [
    {
     "data": {
      "text/plain": [
       "array(['E', nan, 'M', 'T', 'E10+', 'K-A', 'AO', 'EC', 'RP'], dtype=object)"
      ]
     },
     "execution_count": 14,
     "metadata": {},
     "output_type": "execute_result"
    }
   ],
   "source": [
    "games['rating'].unique()"
   ]
  },
  {
   "cell_type": "markdown",
   "id": "227d7908",
   "metadata": {},
   "source": [
    "По информации на сайте ESRB (https://www.esrb.org/ratings-guide/):\n",
    "\n",
    "* `E` - everyone (контент для всех)\n",
    "* `M` - mature (от 17 лет и выше)\n",
    "* `T` - teen (от 13 лет и выше)\n",
    "* `E10+` - everyone 10+ (от 10 лет и выше)\n",
    "* `K-A` - kids to adults (старое обозначение рейтинга \"E\")\n",
    "* `AO` - adults only (от 18 лет и выше)\n",
    "* `EC` - early childhood (заменён рейтингом \"E\" ввиду малого использования)\n",
    "* `RP` - rating pending (рейтинг пока не определён)\n",
    "\n",
    "Заменим значения `EC`, `K-A` на `E`. Значений `RP` всего 3, заменим их на **'unknown'** (неопределённый рейтинг). Пропуски также заменим на **'unknown'**."
   ]
  },
  {
   "cell_type": "code",
   "execution_count": 15,
   "id": "e69bceeb",
   "metadata": {},
   "outputs": [
    {
     "data": {
      "text/plain": [
       "array(['E', 'unknown', 'M', 'T', 'E10+', 'AO'], dtype=object)"
      ]
     },
     "execution_count": 15,
     "metadata": {},
     "output_type": "execute_result"
    }
   ],
   "source": [
    "# меняем  значения EC, K-A на E, RP на 'unknown'\n",
    "# пропуски заполняем значением 'unknown'\n",
    "games.loc[(games['rating'] == 'EC') | (games['rating'] == 'K-A'), 'rating'] = 'E'\n",
    "games.loc[games['rating'] == 'RP', 'rating'] = 'unknown'\n",
    "games['rating'] = games['rating'].fillna('unknown')\n",
    "games['rating'].unique()"
   ]
  },
  {
   "cell_type": "markdown",
   "id": "01b52674",
   "metadata": {},
   "source": [
    "### 2.3 Расчёт дополнительных параметров\n",
    "\n",
    "Посчитаем суммарные продажи во всех регионах и запишем их в столбец `'total_sales'`."
   ]
  },
  {
   "cell_type": "code",
   "execution_count": 16,
   "id": "7d26f93a",
   "metadata": {},
   "outputs": [
    {
     "data": {
      "text/html": [
       "<div>\n",
       "<style scoped>\n",
       "    .dataframe tbody tr th:only-of-type {\n",
       "        vertical-align: middle;\n",
       "    }\n",
       "\n",
       "    .dataframe tbody tr th {\n",
       "        vertical-align: top;\n",
       "    }\n",
       "\n",
       "    .dataframe thead th {\n",
       "        text-align: right;\n",
       "    }\n",
       "</style>\n",
       "<table border=\"1\" class=\"dataframe\">\n",
       "  <thead>\n",
       "    <tr style=\"text-align: right;\">\n",
       "      <th></th>\n",
       "      <th>name</th>\n",
       "      <th>platform</th>\n",
       "      <th>year_of_release</th>\n",
       "      <th>genre</th>\n",
       "      <th>na_sales</th>\n",
       "      <th>eu_sales</th>\n",
       "      <th>jp_sales</th>\n",
       "      <th>other_sales</th>\n",
       "      <th>critic_score</th>\n",
       "      <th>user_score</th>\n",
       "      <th>rating</th>\n",
       "      <th>total_sales</th>\n",
       "    </tr>\n",
       "  </thead>\n",
       "  <tbody>\n",
       "    <tr>\n",
       "      <th>0</th>\n",
       "      <td>Wii Sports</td>\n",
       "      <td>Wii</td>\n",
       "      <td>2006</td>\n",
       "      <td>Sports</td>\n",
       "      <td>41.36</td>\n",
       "      <td>28.96</td>\n",
       "      <td>3.77</td>\n",
       "      <td>8.45</td>\n",
       "      <td>76.0</td>\n",
       "      <td>8.0</td>\n",
       "      <td>E</td>\n",
       "      <td>82.54</td>\n",
       "    </tr>\n",
       "    <tr>\n",
       "      <th>1</th>\n",
       "      <td>Super Mario Bros.</td>\n",
       "      <td>NES</td>\n",
       "      <td>1985</td>\n",
       "      <td>Platform</td>\n",
       "      <td>29.08</td>\n",
       "      <td>3.58</td>\n",
       "      <td>6.81</td>\n",
       "      <td>0.77</td>\n",
       "      <td>-1.0</td>\n",
       "      <td>-1.0</td>\n",
       "      <td>unknown</td>\n",
       "      <td>40.24</td>\n",
       "    </tr>\n",
       "    <tr>\n",
       "      <th>2</th>\n",
       "      <td>Mario Kart Wii</td>\n",
       "      <td>Wii</td>\n",
       "      <td>2008</td>\n",
       "      <td>Racing</td>\n",
       "      <td>15.68</td>\n",
       "      <td>12.76</td>\n",
       "      <td>3.79</td>\n",
       "      <td>3.29</td>\n",
       "      <td>82.0</td>\n",
       "      <td>8.3</td>\n",
       "      <td>E</td>\n",
       "      <td>35.52</td>\n",
       "    </tr>\n",
       "    <tr>\n",
       "      <th>3</th>\n",
       "      <td>Wii Sports Resort</td>\n",
       "      <td>Wii</td>\n",
       "      <td>2009</td>\n",
       "      <td>Sports</td>\n",
       "      <td>15.61</td>\n",
       "      <td>10.93</td>\n",
       "      <td>3.28</td>\n",
       "      <td>2.95</td>\n",
       "      <td>80.0</td>\n",
       "      <td>8.0</td>\n",
       "      <td>E</td>\n",
       "      <td>32.77</td>\n",
       "    </tr>\n",
       "    <tr>\n",
       "      <th>4</th>\n",
       "      <td>Pokemon Red/Pokemon Blue</td>\n",
       "      <td>GB</td>\n",
       "      <td>1996</td>\n",
       "      <td>Role-Playing</td>\n",
       "      <td>11.27</td>\n",
       "      <td>8.89</td>\n",
       "      <td>10.22</td>\n",
       "      <td>1.00</td>\n",
       "      <td>-1.0</td>\n",
       "      <td>-1.0</td>\n",
       "      <td>unknown</td>\n",
       "      <td>31.38</td>\n",
       "    </tr>\n",
       "    <tr>\n",
       "      <th>...</th>\n",
       "      <td>...</td>\n",
       "      <td>...</td>\n",
       "      <td>...</td>\n",
       "      <td>...</td>\n",
       "      <td>...</td>\n",
       "      <td>...</td>\n",
       "      <td>...</td>\n",
       "      <td>...</td>\n",
       "      <td>...</td>\n",
       "      <td>...</td>\n",
       "      <td>...</td>\n",
       "      <td>...</td>\n",
       "    </tr>\n",
       "    <tr>\n",
       "      <th>16710</th>\n",
       "      <td>Samurai Warriors: Sanada Maru</td>\n",
       "      <td>PS3</td>\n",
       "      <td>2016</td>\n",
       "      <td>Action</td>\n",
       "      <td>0.00</td>\n",
       "      <td>0.00</td>\n",
       "      <td>0.01</td>\n",
       "      <td>0.00</td>\n",
       "      <td>-1.0</td>\n",
       "      <td>-1.0</td>\n",
       "      <td>unknown</td>\n",
       "      <td>0.01</td>\n",
       "    </tr>\n",
       "    <tr>\n",
       "      <th>16711</th>\n",
       "      <td>LMA Manager 2007</td>\n",
       "      <td>X360</td>\n",
       "      <td>2006</td>\n",
       "      <td>Sports</td>\n",
       "      <td>0.00</td>\n",
       "      <td>0.01</td>\n",
       "      <td>0.00</td>\n",
       "      <td>0.00</td>\n",
       "      <td>-1.0</td>\n",
       "      <td>-1.0</td>\n",
       "      <td>unknown</td>\n",
       "      <td>0.01</td>\n",
       "    </tr>\n",
       "    <tr>\n",
       "      <th>16712</th>\n",
       "      <td>Haitaka no Psychedelica</td>\n",
       "      <td>PSV</td>\n",
       "      <td>2016</td>\n",
       "      <td>Adventure</td>\n",
       "      <td>0.00</td>\n",
       "      <td>0.00</td>\n",
       "      <td>0.01</td>\n",
       "      <td>0.00</td>\n",
       "      <td>-1.0</td>\n",
       "      <td>-1.0</td>\n",
       "      <td>unknown</td>\n",
       "      <td>0.01</td>\n",
       "    </tr>\n",
       "    <tr>\n",
       "      <th>16713</th>\n",
       "      <td>Spirits &amp; Spells</td>\n",
       "      <td>GBA</td>\n",
       "      <td>2003</td>\n",
       "      <td>Platform</td>\n",
       "      <td>0.01</td>\n",
       "      <td>0.00</td>\n",
       "      <td>0.00</td>\n",
       "      <td>0.00</td>\n",
       "      <td>-1.0</td>\n",
       "      <td>-1.0</td>\n",
       "      <td>unknown</td>\n",
       "      <td>0.01</td>\n",
       "    </tr>\n",
       "    <tr>\n",
       "      <th>16714</th>\n",
       "      <td>Winning Post 8 2016</td>\n",
       "      <td>PSV</td>\n",
       "      <td>2016</td>\n",
       "      <td>Simulation</td>\n",
       "      <td>0.00</td>\n",
       "      <td>0.00</td>\n",
       "      <td>0.01</td>\n",
       "      <td>0.00</td>\n",
       "      <td>-1.0</td>\n",
       "      <td>-1.0</td>\n",
       "      <td>unknown</td>\n",
       "      <td>0.01</td>\n",
       "    </tr>\n",
       "  </tbody>\n",
       "</table>\n",
       "<p>16444 rows × 12 columns</p>\n",
       "</div>"
      ],
      "text/plain": [
       "                                name platform  year_of_release         genre  \\\n",
       "0                         Wii Sports      Wii             2006        Sports   \n",
       "1                  Super Mario Bros.      NES             1985      Platform   \n",
       "2                     Mario Kart Wii      Wii             2008        Racing   \n",
       "3                  Wii Sports Resort      Wii             2009        Sports   \n",
       "4           Pokemon Red/Pokemon Blue       GB             1996  Role-Playing   \n",
       "...                              ...      ...              ...           ...   \n",
       "16710  Samurai Warriors: Sanada Maru      PS3             2016        Action   \n",
       "16711               LMA Manager 2007     X360             2006        Sports   \n",
       "16712        Haitaka no Psychedelica      PSV             2016     Adventure   \n",
       "16713               Spirits & Spells      GBA             2003      Platform   \n",
       "16714            Winning Post 8 2016      PSV             2016    Simulation   \n",
       "\n",
       "       na_sales  eu_sales  jp_sales  other_sales  critic_score  user_score  \\\n",
       "0         41.36     28.96      3.77         8.45          76.0         8.0   \n",
       "1         29.08      3.58      6.81         0.77          -1.0        -1.0   \n",
       "2         15.68     12.76      3.79         3.29          82.0         8.3   \n",
       "3         15.61     10.93      3.28         2.95          80.0         8.0   \n",
       "4         11.27      8.89     10.22         1.00          -1.0        -1.0   \n",
       "...         ...       ...       ...          ...           ...         ...   \n",
       "16710      0.00      0.00      0.01         0.00          -1.0        -1.0   \n",
       "16711      0.00      0.01      0.00         0.00          -1.0        -1.0   \n",
       "16712      0.00      0.00      0.01         0.00          -1.0        -1.0   \n",
       "16713      0.01      0.00      0.00         0.00          -1.0        -1.0   \n",
       "16714      0.00      0.00      0.01         0.00          -1.0        -1.0   \n",
       "\n",
       "        rating  total_sales  \n",
       "0            E        82.54  \n",
       "1      unknown        40.24  \n",
       "2            E        35.52  \n",
       "3            E        32.77  \n",
       "4      unknown        31.38  \n",
       "...        ...          ...  \n",
       "16710  unknown         0.01  \n",
       "16711  unknown         0.01  \n",
       "16712  unknown         0.01  \n",
       "16713  unknown         0.01  \n",
       "16714  unknown         0.01  \n",
       "\n",
       "[16444 rows x 12 columns]"
      ]
     },
     "execution_count": 16,
     "metadata": {},
     "output_type": "execute_result"
    }
   ],
   "source": [
    "# добавляем новый столбец 'total_sales' суммированием значений столбцов 'na_sales', 'eu_sales', 'jp_sales', 'other_sales'\n",
    "games['total_sales'] = games[['na_sales', 'eu_sales', 'jp_sales', 'other_sales']].sum(axis=1)\n",
    "games"
   ]
  },
  {
   "cell_type": "markdown",
   "id": "d0b46079",
   "metadata": {},
   "source": [
    "Посмотрим на общую информацию о таблице после всех преобразований, а также посчитаем долю удаленных строк."
   ]
  },
  {
   "cell_type": "code",
   "execution_count": 17,
   "id": "6c8747e5",
   "metadata": {},
   "outputs": [
    {
     "name": "stdout",
     "output_type": "stream",
     "text": [
      "<class 'pandas.core.frame.DataFrame'>\n",
      "Int64Index: 16444 entries, 0 to 16714\n",
      "Data columns (total 12 columns):\n",
      " #   Column           Non-Null Count  Dtype  \n",
      "---  ------           --------------  -----  \n",
      " 0   name             16444 non-null  object \n",
      " 1   platform         16444 non-null  object \n",
      " 2   year_of_release  16444 non-null  int64  \n",
      " 3   genre            16444 non-null  object \n",
      " 4   na_sales         16444 non-null  float64\n",
      " 5   eu_sales         16444 non-null  float64\n",
      " 6   jp_sales         16444 non-null  float64\n",
      " 7   other_sales      16444 non-null  float64\n",
      " 8   critic_score     16444 non-null  float64\n",
      " 9   user_score       16444 non-null  float64\n",
      " 10  rating           16444 non-null  object \n",
      " 11  total_sales      16444 non-null  float64\n",
      "dtypes: float64(7), int64(1), object(4)\n",
      "memory usage: 1.6+ MB\n"
     ]
    }
   ],
   "source": [
    "games.info()"
   ]
  },
  {
   "cell_type": "code",
   "execution_count": 18,
   "id": "a3a5e0c1",
   "metadata": {},
   "outputs": [
    {
     "name": "stdout",
     "output_type": "stream",
     "text": [
      "В таблице осталось 16444 строк\n",
      "Доля удаленных строк 1.62%\n"
     ]
    }
   ],
   "source": [
    "print(f'В таблице осталось {games.shape[0]} строк')\n",
    "print(f'Доля удаленных строк {1 - games.shape[0] / 16715:.2%}')"
   ]
  },
  {
   "cell_type": "markdown",
   "id": "52065eee",
   "metadata": {},
   "source": [
    "**Выводы**\n",
    "\n",
    "* Названия столбцов были приведены к нижнему регистру.\n",
    "* Типы данных были преобразованы в соответствии с хранимой информацией:\n",
    "    * Год релиза игры `'year_of_release'` заменён на `int32`\n",
    "    * Оценка пользователей `'user_score'` заменена на `float64`\n",
    "* Пропуски были исследованы и обработаны:\n",
    "    * В столбцах `'name'`, `'year_of_release'` и `'genre'` пропуски были удалены.\n",
    "    * В столбце `'user_score'` значения `tbd` заменены на -1, так как в данном случае оценки отсутствуют\n",
    "    * В столбце `'rating'` значения `RP` заменены на -1, так как рейтинг в данном случае отсутствует\n",
    "    * В остальных столбцах пропуски заменены на -1, так как нет возможности обработать их по имеющейся информации. Доля пропусков в столбцах достигает 55%.\n",
    "    * Возможные причины пропусков: отсутствие информации при сборе данных, или сбой в системе при загрузке/выгрузке таблицы из базы данных\n",
    "* Добавлен параметр суммарных продаж в столбец `'total_sales'`.\n",
    "* В параметре `'rating'` старые значения заменены актуальными (по информации из сайта ESRB)."
   ]
  },
  {
   "cell_type": "markdown",
   "id": "d9c05122",
   "metadata": {},
   "source": [
    "## 3. Исследовательский анализ данных\n",
    "\n",
    "### 3.1 Выбор актуальных игровых платформ и периода релиза игр\n",
    "\n",
    "Рассмотрим распределение релиза игр по годам. Построим гистограмму."
   ]
  },
  {
   "cell_type": "code",
   "execution_count": 20,
   "id": "f5885fda",
   "metadata": {},
   "outputs": [
    {
     "data": {
      "image/png": "[encoded data removed]",
      "text/plain": [
       "<Figure size 864x432 with 1 Axes>"
      ]
     },
     "metadata": {},
     "output_type": "display_data"
    }
   ],
   "source": [
    "sns.set_theme(style='whitegrid')\n",
    "fig, axes = plt.subplots(figsize=(12, 6))\n",
    "sns.barplot(x=games['year_of_release'].value_counts().index, \n",
    "            y=games['year_of_release'].value_counts().values, \n",
    "            ax=axes)\n",
    "\n",
    "plt.xticks(rotation=45)\n",
    "plt.title('Выпуск игр по годам', fontsize=20)\n",
    "plt.xlabel('год выпуска', fontsize=14)\n",
    "plt.ylabel('количество игр, шт', fontsize=14)\n",
    "plt.show()"
   ]
  },
  {
   "cell_type": "markdown",
   "id": "dfb4e246",
   "metadata": {},
   "source": [
    "До **1990** года выпускалось мало игр. Также актуальность таких игр устарела. Нет необходимости учитывать их в исследованиях.\n",
    "\n",
    "Однако помимо года релиза необходимо учитывать и актуальность игровых платформ. Посмотрим, как менялись продажи по платформам:\n",
    "* построим распределение суммарных продаж по годам\n",
    "* найдём платформы, на которые выпускаются игры в 2016 году\n",
    "* выберем из них платформы с наибольшими суммарными продажами"
   ]
  },
  {
   "cell_type": "code",
   "execution_count": 21,
   "id": "f9e993b8",
   "metadata": {},
   "outputs": [],
   "source": [
    "# формируем сводную таблицу по продажам игра на всех платформах\n",
    "total_sales = (games\n",
    "               .query('year_of_release > 1990') # не берем в расчет игры до 1990 года\n",
    "               .pivot_table(values='total_sales', \n",
    "                            index='platform', \n",
    "                            columns='year_of_release', \n",
    "                            aggfunc='sum')\n",
    "            )"
   ]
  },
  {
   "cell_type": "code",
   "execution_count": 22,
   "id": "bc0cd88d",
   "metadata": {
    "scrolled": false
   },
   "outputs": [
    {
     "data": {
      "image/png": "[encoded data removed]",
      "text/plain": [
       "<Figure size 864x720 with 2 Axes>"
      ]
     },
     "metadata": {},
     "output_type": "display_data"
    }
   ],
   "source": [
    "# строим график heatmap\n",
    "sns.set_theme()\n",
    "fig, ax = plt.subplots(figsize=(12, 10))\n",
    "sns.heatmap(total_sales, linewidth=.5)\n",
    "ax.set_ylabel('игровые платформы', fontsize=14)\n",
    "ax.set_xlabel('год выпуска игры', fontsize=14)\n",
    "ax.set_xticklabels(total_sales.columns, rotation = 45, ha='center')\n",
    "ax.set_title('Продажи игровых платформ по годам', fontsize=20)\n",
    "plt.show()"
   ]
  },
  {
   "cell_type": "markdown",
   "id": "c2c77980",
   "metadata": {},
   "source": [
    "По графику можно наблюдать, что с появлением платформы резко возрастает количество продаж игр для неё, но и, чаще всего, так же резко падают продажи через **~5 лет**. Платформа \"живёт\" около **10 лет**."
   ]
  },
  {
   "cell_type": "code",
   "execution_count": 23,
   "id": "a770dabf",
   "metadata": {},
   "outputs": [
    {
     "name": "stdout",
     "output_type": "stream",
     "text": [
      "Актуальные платформы на 2016 год: PS4 3DS XOne WiiU PS3 PC X360 PSV Wii\n"
     ]
    }
   ],
   "source": [
    "# найдём платформы, на которые выпускались игры в 2016 году\n",
    "actual_platforms = (games\n",
    "                    .loc[games['year_of_release'] == 2016, 'platform']\n",
    "                    .unique()\n",
    "                )\n",
    "print('Актуальные платформы на 2016 год:', *actual_platforms)"
   ]
  },
  {
   "cell_type": "code",
   "execution_count": 24,
   "id": "8743a6ab",
   "metadata": {
    "scrolled": false
   },
   "outputs": [
    {
     "name": "stdout",
     "output_type": "stream",
     "text": [
      "Платформы с наибольшими суммарными продажами: PS2 X360 PS3 Wii DS PS PS4 GBA PSP 3DS PC GB XB NES N64 SNES GC XOne 2600 WiiU\n"
     ]
    }
   ],
   "source": [
    "# находим топ 20 платформ\n",
    "top_platforms = (games\n",
    "                 .groupby('platform')['total_sales']\n",
    "                 .sum()\n",
    "                 .sort_values(ascending=False)\n",
    "                 .head(20)\n",
    "                 .index\n",
    "                )\n",
    "print('Платформы с наибольшими суммарными продажами:', *top_platforms)"
   ]
  },
  {
   "cell_type": "markdown",
   "id": "ae319a7f",
   "metadata": {},
   "source": [
    "Построим распределение суммарных продаж по годам для популярных и актуальных на 2016 год платформ."
   ]
  },
  {
   "cell_type": "code",
   "execution_count": 25,
   "id": "847fc2c0",
   "metadata": {},
   "outputs": [],
   "source": [
    "# срез из изначальной таблицы по актуальным платформаам и платформам с максимальными продажами\n",
    "games_actual = games.query('platform in @top_platforms and platform in @actual_platforms')\n",
    "\n",
    "# формируем сводную таблицу по продажам игра на актуальных и популярных платформах\n",
    "actual_sales = (games_actual\n",
    "                .query('year_of_release > 1990')\n",
    "                .pivot_table(values='total_sales', \n",
    "                             index='platform', \n",
    "                             columns='year_of_release', \n",
    "                             aggfunc='sum')\n",
    "            )"
   ]
  },
  {
   "cell_type": "code",
   "execution_count": 26,
   "id": "80eb0113",
   "metadata": {},
   "outputs": [
    {
     "data": {
      "image/png": "[encoded data removed]",
      "text/plain": [
       "<Figure size 864x288 with 2 Axes>"
      ]
     },
     "metadata": {},
     "output_type": "display_data"
    }
   ],
   "source": [
    "# строим heatmap\n",
    "sns.set_theme()\n",
    "fig, ax = plt.subplots(figsize=(12, 4))\n",
    "sns.heatmap(actual_sales, linewidth=.5)\n",
    "ax.set_ylabel('игровые платформы', fontsize=14)\n",
    "ax.set_xlabel('год выпуска игры', fontsize=14)\n",
    "ax.set_xticklabels(actual_sales.columns, rotation = 45, ha='center')\n",
    "ax.set_title('Продажи актуальных игровых платформ по годам', fontsize=20)\n",
    "plt.show()"
   ]
  },
  {
   "cell_type": "markdown",
   "id": "a796133c",
   "metadata": {},
   "source": [
    "* По графику видно, что большинство актуальных на 2016 год игровых платформ появились после 2010 года. Однако, с 2013 года появились новые поколения наиболее популярных ировых платформ. Будем считать соответствующий **Актуальный период с 2013 по 2016 год**.\n",
    "* Также отметим, что актуальные на 2010 год `PS3`, `Wii` и `X360` к 2016 практически полностью утратили продажи, так как были заменены в 2012-2013 годах новыми поколениями игровых платформ `PS4`, `WiiU` и `XOne`. В данном случае нет смысла продвигать старые платформы, не будем их учитывать при анализе.\n",
    "* Игровые платформы для исследования: **3DS, PC, PS4, WiiU, XOne**.\n",
    "* Построим распределение суммарных продаж по годам для актуальных игровых платформ за актуальный период."
   ]
  },
  {
   "cell_type": "code",
   "execution_count": 27,
   "id": "213ac9ab",
   "metadata": {},
   "outputs": [],
   "source": [
    "# выделим срез данных по актуальным платформам и периоду релиза игр\n",
    "actual_platforms = ['3DS', 'PC', 'PS4', 'WiiU', 'XOne']\n",
    "games_actual = games_actual.query('platform in @actual_platforms and year_of_release >= 2013')"
   ]
  },
  {
   "cell_type": "markdown",
   "id": "2e61cb25",
   "metadata": {},
   "source": [
    "<font color='DarkBlue'><b>Комментарий ревьюера</b></font><br>\n",
    "<font color='DarkMagenta'>👉 А насколько правильно отфильтровывать кроме периода еще и часть платформ? Ладно если для текущего анализа, но у нас еще будет анализ по жанрам и регионам.</font>"
   ]
  },
  {
   "cell_type": "markdown",
   "id": "bfcb6d3e",
   "metadata": {},
   "source": [
    "<div class=\"alert alert-info\"> <b>Комментарий студента:</b> \n",
    "\n",
    "А мне кажется логично, ведь мы делаем исследование для того, чтобы показать на конкретную платформу и конкретный жанр игр (ну или пару) для рекламной компании. \n",
    "    \n",
    "Мы провели исследование по платформам и поняли, что актуальные допустим PS и Xbox. А затем мы делаем исследование по жанрам по всем платформам и видим, что выигрывает допустим какой-нибудь пазл. А все потому, что мы взяли в исследование портативную приставку, на которой в шутер играть не удобно, а вот в пазлы супер. И мы скажем бизнесу выпускайте игры на Xbox в жанре пазл. Кто из пользователей Xbox играет в пазлы?)\n",
    "\n",
    "</div>"
   ]
  },
  {
   "cell_type": "markdown",
   "id": "cba564b5",
   "metadata": {},
   "source": [
    "<font color='DarkBlue'><b>Комментарий ревьюера 2</b></font><br>\n",
    "<font color='DarkMagenta'>👉 Если бы у всех платформ были бы равномерно (пропорционально глобальным продажам) распределены жанры, то я бы еще согласился. Но это не так. И при анализе жанров мы такой фильтрацией сразу уменьшим датасет и можем получить не валидный результат. А у аналитика слово \"логично\" должно быть подтверждено цифрами. 😲</font>"
   ]
  },
  {
   "cell_type": "code",
   "execution_count": 28,
   "id": "8d817fdf",
   "metadata": {},
   "outputs": [
    {
     "data": {
      "image/png": "[encoded data removed]",
      "text/plain": [
       "<Figure size 864x432 with 1 Axes>"
      ]
     },
     "metadata": {},
     "output_type": "display_data"
    }
   ],
   "source": [
    "# строим распределение с помощью lineplot\n",
    "sns.set_theme(style='whitegrid')\n",
    "plt.figure(figsize=(12,6))\n",
    "sns.lineplot(x='year_of_release',\n",
    "             y='total_sales',\n",
    "             hue='platform',\n",
    "             markers=True,\n",
    "             data=(games_actual\n",
    "                   .groupby(['platform','year_of_release'])['total_sales']   # группируем по платформам и годам\n",
    "                   .agg('sum')                                             # считаем суммы продаж по платформам и годам\n",
    "                   .reset_index()\n",
    "                     )\n",
    "            )\n",
    "plt.xlabel('год выпуска игры', fontsize=14)\n",
    "plt.ylabel('продажи, млн. копий', fontsize=14)\n",
    "plt.show()"
   ]
  },
  {
   "cell_type": "markdown",
   "id": "8879f177",
   "metadata": {},
   "source": [
    "* Спад уровня продаж для `PS4` и `XOne` в 2016 году скорее всего объясняется тем, что информация не полная (год не закончен на момент сбора данных).\n",
    "* Проанализируем изменения суммарных продаж выбранных платформ по времени:\n",
    "    * `PS4` и `XOne` демонстрируют рост уровня суммарных продаж с 2013 по 2015 год.\n",
    "    * `PS4` лидер по продажам на момент конца 2015 года и на момент сбора данных в 2016 году.\n",
    "    * Суммарные продажи `3DS` медленно падают с 2013 года.\n",
    "    * Суммарные продажи `WiiU` практически не меняются, оставаясь на уровне 20 млн копий с 2013 по 2015 год.\n",
    "    * Суммарные продажи игр на `PC` невысокие и медленно падают.\n",
    "    * Однако игры на `PC` продаются с 1980-х годов, с плавными подъёмами и спадами. В этом смысле `PC` самая стабильная из всех рассматриваемых игровых платформ."
   ]
  },
  {
   "cell_type": "markdown",
   "id": "a0d81f86",
   "metadata": {},
   "source": [
    "### 3.2 Исследование продаж по актуальным платформам\n",
    "\n",
    "Построим график «ящик с усами» по глобальным продажам игр в разбивке по платформам."
   ]
  },
  {
   "cell_type": "code",
   "execution_count": 29,
   "id": "44365b46",
   "metadata": {
    "scrolled": false
   },
   "outputs": [
    {
     "data": {
      "image/png": "[encoded data removed]",
      "text/plain": [
       "<Figure size 1008x576 with 1 Axes>"
      ]
     },
     "metadata": {},
     "output_type": "display_data"
    }
   ],
   "source": [
    "# построим распределение глобальных продаж с помощью метода boxplot() библиотеки seaborn\n",
    "plt.figure(figsize=(14,8))\n",
    "sns.set(style='whitegrid')\n",
    "ax = sns.boxplot(data=games_actual, y='total_sales', x='platform')\n",
    "ax.set_title('Распределение глобальных продаж по плаформам (полная)', fontsize=20)\n",
    "ax.set_xlabel('Игровая платформа', fontsize=15)\n",
    "ax.set_ylabel('Глобальные продажи', fontsize=15)\n",
    "plt.show()"
   ]
  },
  {
   "cell_type": "markdown",
   "id": "7e086b02",
   "metadata": {},
   "source": [
    "Так как выбросов довольно много, они искажают график. Построим приближенный график для более подробного изучения «ящика»."
   ]
  },
  {
   "cell_type": "code",
   "execution_count": 30,
   "id": "254b635a",
   "metadata": {},
   "outputs": [
    {
     "data": {
      "image/png": "[encoded data removed]",
      "text/plain": [
       "<Figure size 1008x576 with 1 Axes>"
      ]
     },
     "metadata": {},
     "output_type": "display_data"
    }
   ],
   "source": [
    "# построим распределение глобальных продаж с помощью метода boxplot() библиотеки seaborn.\n",
    "# установим границы оси y (в данных много выбросов, которые искажают boxplot)\n",
    "plt.figure(figsize=(14,8))\n",
    "sns.set(style='whitegrid')\n",
    "ax = sns.boxplot(data=games_actual, y='total_sales', x='platform')\n",
    "ax.set_title('Распределение глобальных продаж по плаформам (приближенная)', fontsize=20)\n",
    "ax.set_xlabel('Игровая платформа', fontsize=15)\n",
    "ax.set_ylabel('Глобальные продажи', fontsize=15)\n",
    "ax.set_ylim([0, 2])\n",
    "plt.show()"
   ]
  },
  {
   "cell_type": "code",
   "execution_count": 31,
   "id": "d3faea2e",
   "metadata": {},
   "outputs": [
    {
     "data": {
      "text/plain": [
       "count    1246.000000\n",
       "mean        0.578467\n",
       "std         1.282996\n",
       "min         0.010000\n",
       "25%         0.040000\n",
       "50%         0.140000\n",
       "75%         0.490000\n",
       "max        14.630000\n",
       "Name: total_sales, dtype: float64"
      ]
     },
     "execution_count": 31,
     "metadata": {},
     "output_type": "execute_result"
    }
   ],
   "source": [
    "games_actual['total_sales'].describe()"
   ]
  },
  {
   "cell_type": "code",
   "execution_count": 32,
   "id": "0a4c6298",
   "metadata": {},
   "outputs": [
    {
     "name": "stdout",
     "output_type": "stream",
     "text": [
      "Доля выбросов от общего количества данных: 14.45 %\n"
     ]
    }
   ],
   "source": [
    "print('Доля выбросов от общего количества данных:', \n",
    "      round(len(games_actual.loc[games_actual['total_sales'] >= (0.43-0.04)*1.5+0.43]) / len(games_actual) * 100, 2), '%')"
   ]
  },
  {
   "cell_type": "markdown",
   "id": "382b8d41",
   "metadata": {},
   "source": [
    "* В данных много выбросов (**14.45%** от общего количества данных). Это свойство данного датасета, оставим их как есть.\n",
    "* Значения глобальных продаж по всем платформам сильно скошены вправо. Есть достаточно большое количество игр с очень высокими показателями продаж по сравнению со средними значениями.\n",
    "* Медианные значения уровня глобальных продаж у `PS4`, `XOne` и `WiiU` примерно одинаковы **(0.2 млн копий)**. У `WiiU` дисперсия немного меньше, чем у `PS4` и `XOne`. Однако ранее было замечено, что суммарные продажи по годам для платформ `PS4` и `XOne` заметно выше, чем у `WiiU`. Большое количество выбросов (игр с очень высоким уровнем продаж) у `PS4` и `XOne` сильно увеличивают суммарные продажи.\n",
    "* Наименьшее медианное значение глобальных продаж у платформы `PC`."
   ]
  },
  {
   "cell_type": "markdown",
   "id": "3df37192",
   "metadata": {},
   "source": [
    "### 3.3 Влияние отзывов пользователей и критиков на продажи по платформе 'PS4'\n",
    "\n",
    "Посмотрим, как влияют на продажи внутри одной платформы отзывы пользователей и критиков. Возьмем самую популярную - **`PS4`**.\n",
    "* Построим диаграмму рассеяния с помощью функции `regplot()` библиотеки seaborn\n",
    "* Посчитаем корреляцию между отзывами и продажами."
   ]
  },
  {
   "cell_type": "code",
   "execution_count": 33,
   "id": "430f322f",
   "metadata": {},
   "outputs": [
    {
     "data": {
      "image/png": "[encoded data removed]",
      "text/plain": [
       "<Figure size 1152x432 with 2 Axes>"
      ]
     },
     "metadata": {},
     "output_type": "display_data"
    }
   ],
   "source": [
    "# возьмём срез данных по платформе PS4, сохраним его в переменной games_ps4. \n",
    "games_ps4 = games_actual.loc[games_actual['platform'] == 'PS4']\n",
    "                              \n",
    "sns.set()\n",
    "fig = plt.figure(figsize=(16,6))\n",
    "fig.suptitle('Зависимость глобальных продаж игр на PS4 от отзывов', fontsize=20, y=1.02)\n",
    "\n",
    "ax1 = plt.subplot(121)\n",
    "sns.regplot(x=games_ps4.loc[games_ps4['critic_score'] >= 0, 'critic_score'], # убираем пропуски (заглушка -1)\n",
    "            y=games_ps4.loc[games_ps4['critic_score'] >= 0, 'total_sales'],  # убираем пропуски (заглушка -1)\n",
    "            line_kws={\"color\":\"orange\",\"alpha\":0.3,\"lw\":3})\n",
    "\n",
    "ax2 = plt.subplot(122)\n",
    "sns.regplot(x=games_ps4.loc[games_ps4['user_score'] >= 0, 'user_score'], \n",
    "            y=games_ps4.loc[games_ps4['user_score'] >= 0, 'total_sales'],\n",
    "            line_kws={\"color\":\"orange\",\"alpha\":0.3,\"lw\":3})\n",
    "plt.show()"
   ]
  },
  {
   "cell_type": "code",
   "execution_count": 34,
   "id": "c2458829",
   "metadata": {
    "scrolled": false
   },
   "outputs": [
    {
     "data": {
      "text/html": [
       "<div>\n",
       "<style scoped>\n",
       "    .dataframe tbody tr th:only-of-type {\n",
       "        vertical-align: middle;\n",
       "    }\n",
       "\n",
       "    .dataframe tbody tr th {\n",
       "        vertical-align: top;\n",
       "    }\n",
       "\n",
       "    .dataframe thead th {\n",
       "        text-align: right;\n",
       "    }\n",
       "</style>\n",
       "<table border=\"1\" class=\"dataframe\">\n",
       "  <thead>\n",
       "    <tr style=\"text-align: right;\">\n",
       "      <th></th>\n",
       "      <th>critic_score</th>\n",
       "      <th>total_sales</th>\n",
       "    </tr>\n",
       "  </thead>\n",
       "  <tbody>\n",
       "    <tr>\n",
       "      <th>critic_score</th>\n",
       "      <td>1.000000</td>\n",
       "      <td>0.406568</td>\n",
       "    </tr>\n",
       "    <tr>\n",
       "      <th>total_sales</th>\n",
       "      <td>0.406568</td>\n",
       "      <td>1.000000</td>\n",
       "    </tr>\n",
       "  </tbody>\n",
       "</table>\n",
       "</div>"
      ],
      "text/plain": [
       "              critic_score  total_sales\n",
       "critic_score      1.000000     0.406568\n",
       "total_sales       0.406568     1.000000"
      ]
     },
     "metadata": {},
     "output_type": "display_data"
    },
    {
     "data": {
      "text/html": [
       "<div>\n",
       "<style scoped>\n",
       "    .dataframe tbody tr th:only-of-type {\n",
       "        vertical-align: middle;\n",
       "    }\n",
       "\n",
       "    .dataframe tbody tr th {\n",
       "        vertical-align: top;\n",
       "    }\n",
       "\n",
       "    .dataframe thead th {\n",
       "        text-align: right;\n",
       "    }\n",
       "</style>\n",
       "<table border=\"1\" class=\"dataframe\">\n",
       "  <thead>\n",
       "    <tr style=\"text-align: right;\">\n",
       "      <th></th>\n",
       "      <th>user_score</th>\n",
       "      <th>total_sales</th>\n",
       "    </tr>\n",
       "  </thead>\n",
       "  <tbody>\n",
       "    <tr>\n",
       "      <th>user_score</th>\n",
       "      <td>1.000000</td>\n",
       "      <td>-0.031957</td>\n",
       "    </tr>\n",
       "    <tr>\n",
       "      <th>total_sales</th>\n",
       "      <td>-0.031957</td>\n",
       "      <td>1.000000</td>\n",
       "    </tr>\n",
       "  </tbody>\n",
       "</table>\n",
       "</div>"
      ],
      "text/plain": [
       "             user_score  total_sales\n",
       "user_score     1.000000    -0.031957\n",
       "total_sales   -0.031957     1.000000"
      ]
     },
     "metadata": {},
     "output_type": "display_data"
    }
   ],
   "source": [
    "# посчитаем коэффициенты корреляции между глобальными продажами игр на PS4 и отзывами на игры\n",
    "display(games_ps4.loc[games_ps4['critic_score'] >= 0, ['critic_score', 'total_sales']].corr())\n",
    "display(games_ps4.loc[games_ps4['user_score'] >= 0, ['user_score', 'total_sales']].corr())"
   ]
  },
  {
   "cell_type": "markdown",
   "id": "4b30162e",
   "metadata": {},
   "source": [
    "* На графиках видно, что между глобальными продажами игр на `PS4` и отзывами критиков есть слабая корреляция. Это также подтверждается коэффициентом корреляции **0.41**.\n",
    "* Между глобальными продажами игр на `PS4` и отзывами пользователей корреляции не наблюдается. Это также подтверждается коэффициентом корреляции **-0.032**.\n",
    "\n",
    "Построим диаграммы рассеяния и найдём коэффициенты корреляции по остальным платформам и сравним результаты."
   ]
  },
  {
   "cell_type": "code",
   "execution_count": 35,
   "id": "26a0c4ba",
   "metadata": {
    "scrolled": false
   },
   "outputs": [
    {
     "data": {
      "image/png": "[encoded data removed]",
      "text/plain": [
       "<Figure size 1152x432 with 2 Axes>"
      ]
     },
     "metadata": {},
     "output_type": "display_data"
    },
    {
     "name": "stdout",
     "output_type": "stream",
     "text": [
      "Коэффициенты корреляции\n"
     ]
    },
    {
     "data": {
      "text/html": [
       "<div>\n",
       "<style scoped>\n",
       "    .dataframe tbody tr th:only-of-type {\n",
       "        vertical-align: middle;\n",
       "    }\n",
       "\n",
       "    .dataframe tbody tr th {\n",
       "        vertical-align: top;\n",
       "    }\n",
       "\n",
       "    .dataframe thead th {\n",
       "        text-align: right;\n",
       "    }\n",
       "</style>\n",
       "<table border=\"1\" class=\"dataframe\">\n",
       "  <thead>\n",
       "    <tr style=\"text-align: right;\">\n",
       "      <th></th>\n",
       "      <th>platform</th>\n",
       "      <th>level_1</th>\n",
       "      <th>critic_score</th>\n",
       "      <th>user_score</th>\n",
       "    </tr>\n",
       "  </thead>\n",
       "  <tbody>\n",
       "    <tr>\n",
       "      <th>0</th>\n",
       "      <td>3DS</td>\n",
       "      <td>total_sales</td>\n",
       "      <td>0.357057</td>\n",
       "      <td>0.241504</td>\n",
       "    </tr>\n",
       "  </tbody>\n",
       "</table>\n",
       "</div>"
      ],
      "text/plain": [
       "  platform      level_1  critic_score  user_score\n",
       "0      3DS  total_sales      0.357057    0.241504"
      ]
     },
     "metadata": {},
     "output_type": "display_data"
    },
    {
     "data": {
      "image/png": "[encoded data removed]",
      "text/plain": [
       "<Figure size 1152x432 with 2 Axes>"
      ]
     },
     "metadata": {},
     "output_type": "display_data"
    },
    {
     "name": "stdout",
     "output_type": "stream",
     "text": [
      "Коэффициенты корреляции\n"
     ]
    },
    {
     "data": {
      "text/html": [
       "<div>\n",
       "<style scoped>\n",
       "    .dataframe tbody tr th:only-of-type {\n",
       "        vertical-align: middle;\n",
       "    }\n",
       "\n",
       "    .dataframe tbody tr th {\n",
       "        vertical-align: top;\n",
       "    }\n",
       "\n",
       "    .dataframe thead th {\n",
       "        text-align: right;\n",
       "    }\n",
       "</style>\n",
       "<table border=\"1\" class=\"dataframe\">\n",
       "  <thead>\n",
       "    <tr style=\"text-align: right;\">\n",
       "      <th></th>\n",
       "      <th>platform</th>\n",
       "      <th>level_1</th>\n",
       "      <th>critic_score</th>\n",
       "      <th>user_score</th>\n",
       "    </tr>\n",
       "  </thead>\n",
       "  <tbody>\n",
       "    <tr>\n",
       "      <th>1</th>\n",
       "      <td>PC</td>\n",
       "      <td>total_sales</td>\n",
       "      <td>0.19603</td>\n",
       "      <td>-0.093842</td>\n",
       "    </tr>\n",
       "  </tbody>\n",
       "</table>\n",
       "</div>"
      ],
      "text/plain": [
       "  platform      level_1  critic_score  user_score\n",
       "1       PC  total_sales       0.19603   -0.093842"
      ]
     },
     "metadata": {},
     "output_type": "display_data"
    },
    {
     "data": {
      "image/png": "[encoded data removed]",
      "text/plain": [
       "<Figure size 1152x432 with 2 Axes>"
      ]
     },
     "metadata": {},
     "output_type": "display_data"
    },
    {
     "name": "stdout",
     "output_type": "stream",
     "text": [
      "Коэффициенты корреляции\n"
     ]
    },
    {
     "data": {
      "text/html": [
       "<div>\n",
       "<style scoped>\n",
       "    .dataframe tbody tr th:only-of-type {\n",
       "        vertical-align: middle;\n",
       "    }\n",
       "\n",
       "    .dataframe tbody tr th {\n",
       "        vertical-align: top;\n",
       "    }\n",
       "\n",
       "    .dataframe thead th {\n",
       "        text-align: right;\n",
       "    }\n",
       "</style>\n",
       "<table border=\"1\" class=\"dataframe\">\n",
       "  <thead>\n",
       "    <tr style=\"text-align: right;\">\n",
       "      <th></th>\n",
       "      <th>platform</th>\n",
       "      <th>level_1</th>\n",
       "      <th>critic_score</th>\n",
       "      <th>user_score</th>\n",
       "    </tr>\n",
       "  </thead>\n",
       "  <tbody>\n",
       "    <tr>\n",
       "      <th>3</th>\n",
       "      <td>WiiU</td>\n",
       "      <td>total_sales</td>\n",
       "      <td>0.376415</td>\n",
       "      <td>0.41933</td>\n",
       "    </tr>\n",
       "  </tbody>\n",
       "</table>\n",
       "</div>"
      ],
      "text/plain": [
       "  platform      level_1  critic_score  user_score\n",
       "3     WiiU  total_sales      0.376415     0.41933"
      ]
     },
     "metadata": {},
     "output_type": "display_data"
    },
    {
     "data": {
      "image/png": "[encoded data removed]",
      "text/plain": [
       "<Figure size 1152x432 with 2 Axes>"
      ]
     },
     "metadata": {},
     "output_type": "display_data"
    },
    {
     "name": "stdout",
     "output_type": "stream",
     "text": [
      "Коэффициенты корреляции\n"
     ]
    },
    {
     "data": {
      "text/html": [
       "<div>\n",
       "<style scoped>\n",
       "    .dataframe tbody tr th:only-of-type {\n",
       "        vertical-align: middle;\n",
       "    }\n",
       "\n",
       "    .dataframe tbody tr th {\n",
       "        vertical-align: top;\n",
       "    }\n",
       "\n",
       "    .dataframe thead th {\n",
       "        text-align: right;\n",
       "    }\n",
       "</style>\n",
       "<table border=\"1\" class=\"dataframe\">\n",
       "  <thead>\n",
       "    <tr style=\"text-align: right;\">\n",
       "      <th></th>\n",
       "      <th>platform</th>\n",
       "      <th>level_1</th>\n",
       "      <th>critic_score</th>\n",
       "      <th>user_score</th>\n",
       "    </tr>\n",
       "  </thead>\n",
       "  <tbody>\n",
       "    <tr>\n",
       "      <th>4</th>\n",
       "      <td>XOne</td>\n",
       "      <td>total_sales</td>\n",
       "      <td>0.416998</td>\n",
       "      <td>-0.068925</td>\n",
       "    </tr>\n",
       "  </tbody>\n",
       "</table>\n",
       "</div>"
      ],
      "text/plain": [
       "  platform      level_1  critic_score  user_score\n",
       "4     XOne  total_sales      0.416998   -0.068925"
      ]
     },
     "metadata": {},
     "output_type": "display_data"
    }
   ],
   "source": [
    "# находим коэффициенты корреляции для всех платформ\n",
    "rating_corr = pd.merge(\n",
    "    (games_actual\n",
    "    .query('critic_score >= 0')                            # убираем пропуски (заглушка -1)\n",
    "    .groupby(['platform'])[['total_sales','critic_score']]\n",
    "    .agg('corr')\n",
    "    .reset_index()\n",
    "    .query('level_1 == \"total_sales\"')\n",
    "    .iloc[:,[0,1,3]]),\n",
    "    \n",
    "    (games_actual\n",
    "    .query('user_score >= 0')                             # убираем пропуски (заглушка -1)\n",
    "    .groupby(['platform'])[['total_sales','user_score']]\n",
    "    .agg('corr')\n",
    "    .reset_index()\n",
    "    .query('level_1 == \"total_sales\"')\n",
    "    .iloc[:,[0,1,3]]),\n",
    "    how='left'\n",
    ")\n",
    "# в цикле строим диаграммы рассеяния для каждой платформы\n",
    "for pltatform in actual_platforms:  # берем данные по всем актуальным платформам,\n",
    "    if pltatform != 'PS4':          # кроме PS4\n",
    "\n",
    "        games_pltatform = games_actual.loc[games_actual['platform'] == pltatform]                          \n",
    "\n",
    "        sns.set()\n",
    "        fig = plt.figure(figsize=(16,6))\n",
    "        fig.suptitle(f'Зависимость глобальных продаж игр на {pltatform} от отзывов', fontsize=20, y=1.02)\n",
    "\n",
    "        ax1 = plt.subplot(121)\n",
    "        sns.regplot(x=games_pltatform.loc[games_pltatform['critic_score'] >= 0, 'critic_score'],\n",
    "                y=games_pltatform.loc[games_pltatform['critic_score'] >= 0, 'total_sales'],\n",
    "                line_kws={\"color\":\"orange\",\"alpha\":0.3,\"lw\":3})\n",
    "\n",
    "        ax2 = plt.subplot(122)\n",
    "        sns.regplot(x=games_pltatform.loc[games_pltatform['user_score'] >= 0, 'user_score'], \n",
    "                y=games_pltatform.loc[games_pltatform['user_score'] >= 0, 'total_sales'],\n",
    "                line_kws={\"color\":\"orange\",\"alpha\":0.3,\"lw\":3})\n",
    "        plt.show()\n",
    "        print('Коэффициенты корреляции')             # для каждой платформы выводим коэффициенты корреляии с отзывами\n",
    "        display(rating_corr[rating_corr['platform'] == pltatform])"
   ]
  },
  {
   "cell_type": "markdown",
   "id": "48f34df3",
   "metadata": {},
   "source": [
    "* Между глобальными продажами и оценками критиков наблюдается слабая корреляция **(0.36 - 0.42)** по всем игровым платформам, кроме `PC` **(0.2)**.\n",
    "* Между глобальными продажами и оценками пользователей корреляция не наблюдается по платформам `PS4`, `XOne` и `PC`. Однако для платформы `3DS` наблюдается очень слабая корреляция **0.24** между этими параметрами. Для платформы `WiiU` корреляция ещё выше **(0.42)** (показатель выше, чем корреляция с оценками критиков).\n",
    "* Можно сделать вывод, что пользователи игровой платформы `WiiU` перед покупкой очередной игры интересуются мнением других игроков (помимо оценок критиков).\n",
    "* В целом оценки критиков важнее для продвижения игровой платформы (хотя об игроках тоже не стоит забывать, ведь игры делаются для них)."
   ]
  },
  {
   "cell_type": "markdown",
   "id": "b86263a4",
   "metadata": {},
   "source": [
    "### 3.4 Влияние жанра игры на продажи\n",
    "\n",
    "Посмотрим на общее распределение игр по жанрам."
   ]
  },
  {
   "cell_type": "code",
   "execution_count": 36,
   "id": "f57b3c69",
   "metadata": {
    "scrolled": false
   },
   "outputs": [
    {
     "data": {
      "image/png": "[encoded data removed]",
      "text/plain": [
       "<Figure size 1008x576 with 1 Axes>"
      ]
     },
     "metadata": {},
     "output_type": "display_data"
    }
   ],
   "source": [
    "# отсортируем список жанров игр по убыванию медианы глобальных продаж\n",
    "genres_sorted = (games_actual\n",
    "                 .groupby('genre')['total_sales']\n",
    "                 .agg('median')\n",
    "                 .sort_values(ascending=False)\n",
    "                 .index\n",
    "                )\n",
    "# построим распределение глобальных продаж с помощью метода barplot() библиотеки seaborn.\n",
    "plt.figure(figsize=(14,8))\n",
    "sns.set(style='whitegrid')\n",
    "ax = sns.barplot(data=games_actual, y='total_sales', x='genre', order = genres_sorted, ci=False, estimator=np.median)\n",
    "ax.set_title('Распределение глобальных продаж по жанрам', fontsize=20)\n",
    "ax.set_xlabel('Жанр игры', fontsize=15)\n",
    "ax.set_ylabel('Глобальные продажи', fontsize=15)\n",
    "plt.show()"
   ]
  },
  {
   "cell_type": "code",
   "execution_count": 37,
   "id": "9ffb3b04",
   "metadata": {
    "scrolled": false
   },
   "outputs": [
    {
     "data": {
      "image/png": "[encoded data removed]",
      "text/plain": [
       "<Figure size 1008x576 with 1 Axes>"
      ]
     },
     "metadata": {},
     "output_type": "display_data"
    }
   ],
   "source": [
    "# построим распределение глобальных продаж с помощью метода boxplot() библиотеки seaborn.\n",
    "plt.figure(figsize=(14,8))\n",
    "sns.set(style=\"ticks\")\n",
    "ax = sns.boxplot(data=games_actual, y=\"total_sales\", x='genre', order = genres_sorted)\n",
    "# order = genres_sorted - для расстановки ящиков в порядке убывания глобальных продаж\n",
    "ax.set_title('Диаграмма размаха глобальных продаж по жанрам', fontsize=20)\n",
    "ax.set_xlabel('Жанр игры', fontsize=15)\n",
    "ax.set_ylabel('Глобальные продажи', fontsize=15)\n",
    "#ax.set_ylim([0, 4.5])\n",
    "plt.show()"
   ]
  },
  {
   "cell_type": "markdown",
   "id": "42f678ed",
   "metadata": {},
   "source": [
    "* Самым популярным и продаваемым жанром является `Shooter` (медианное значение **~0.5** млн копий по всем платформам).\n",
    "* Также популярными являются жанры `Sports`, `Platform` и `Role-Playing` (медианное значение **~0.2 - 0.25** млн копий по всем платформам). Именно на эти жанры стоит обратить внимание при продвижении игровых платформ.\n",
    "* Наименее продаваемыми являются жанры `Pazzle`, `Strategy`, `Adventure` (медианное значение менее **0.1** млн копий по всем платформам)"
   ]
  },
  {
   "cell_type": "markdown",
   "id": "eca0cb14",
   "metadata": {},
   "source": [
    "**Выводы**\n",
    "\n",
    "* Проанализированы уровни глобальных продаж по различным игровым платформам. Выделены основные популярные платформы на 2016 год **PS4, 3DS, XOne, WiiU, PC**.\n",
    "* Выделен актуальный период для исследования игр **с 2013 по 2016 гг**.\n",
    "* Рассмотрены изменения продаж выбранных игровых платформ за актуальный период.\n",
    "    * Лидером по суммарным продажам является `PS4`. Однако медианные значения для `XOne`, `WiiU` и `PS4` примерно равны. Это обусловлено большим количеством выбросов (популярные игры с высокими продажами). Доля выбросов около **14%**.\n",
    "    * Наименьшее медианное значение глобальных продаж у платформы `PC`. Однако игры на `PC` продаются с 1980-х годов, с плавными подъёмами и спадами. В этом смысле PC самая стабильная из всех рассматриваемых игровых платформ.\n",
    "* Рассмотрено влияние отзывов пользователей и критиков на продажи по платформе `PS4`. Рассчитаны коэффициенты корреляции между продажами и оценками для всех платформ.\n",
    "    * Между глобальными продажами и оценками критиков наблюдается небольшая корреляция **(0.34 - 0.41)** по всем игровым платформам.\n",
    "    * Между глобальными продажами и оценками пользователей корреляция не наблюдается по платформам `PS4`, `XOne` и `PC`.\n",
    "    * Для платформы `3DS` наблюдается небольшая корреляция **0.27** между этими параметрами.\n",
    "    * Для платформы `WiiU` корреляция ещё выше **(0.41)**. Пользователи игровой платформы `WiiU` перед покупкой очередной игры интересуются мнением других игроков (помимо оценок критиков).\n",
    "    * В целом оценки критиков важнее для продвижения игровой платформы.\n",
    "* Рассмотрено влияние жанра игры на продажи.\n",
    "    * Самым популярным и продаваемым жанром является `Shooter` (медианное значение **~0.5** млн копий по всем платформам).\n",
    "    * Наименее продаваемыми являются жанры `Pazzle`, `Adventure`, `Strategy `(медианное значение менее **0.1** млн копий)"
   ]
  },
  {
   "cell_type": "markdown",
   "id": "c852ca79",
   "metadata": {},
   "source": [
    "## 4. Портрет пользователя каждого региона\n",
    "\n",
    "Определим для пользователей каждого региона (NA, EU, JP):\n",
    "* Самые популярные платформы (топ-5). Опишем различия в долях продаж.\n",
    "* Самые популярные жанры (топ-5).\n",
    "* Влияние рейтинга ESRB на продажи в отдельном регионе.\n",
    "\n",
    "---\n",
    "\n",
    "**1)** Представим в сводной таблице доли продаж по различным платформам для каждого региона в %:"
   ]
  },
  {
   "cell_type": "code",
   "execution_count": 38,
   "id": "f0fdfb6e",
   "metadata": {
    "scrolled": false
   },
   "outputs": [
    {
     "data": {
      "text/html": [
       "<div>\n",
       "<style scoped>\n",
       "    .dataframe tbody tr th:only-of-type {\n",
       "        vertical-align: middle;\n",
       "    }\n",
       "\n",
       "    .dataframe tbody tr th {\n",
       "        vertical-align: top;\n",
       "    }\n",
       "\n",
       "    .dataframe thead th {\n",
       "        text-align: right;\n",
       "    }\n",
       "</style>\n",
       "<table border=\"1\" class=\"dataframe\">\n",
       "  <thead>\n",
       "    <tr style=\"text-align: right;\">\n",
       "      <th></th>\n",
       "      <th>na_sales</th>\n",
       "      <th>eu_sales</th>\n",
       "      <th>jp_sales</th>\n",
       "    </tr>\n",
       "    <tr>\n",
       "      <th>platform</th>\n",
       "      <th></th>\n",
       "      <th></th>\n",
       "      <th></th>\n",
       "    </tr>\n",
       "  </thead>\n",
       "  <tbody>\n",
       "    <tr>\n",
       "      <th>3DS</th>\n",
       "      <td>8.73</td>\n",
       "      <td>7.89</td>\n",
       "      <td>48.17</td>\n",
       "    </tr>\n",
       "    <tr>\n",
       "      <th>DS</th>\n",
       "      <td>0.13</td>\n",
       "      <td>0.22</td>\n",
       "      <td>0.00</td>\n",
       "    </tr>\n",
       "    <tr>\n",
       "      <th>PC</th>\n",
       "      <td>2.54</td>\n",
       "      <td>6.47</td>\n",
       "      <td>0.00</td>\n",
       "    </tr>\n",
       "    <tr>\n",
       "      <th>PS3</th>\n",
       "      <td>14.51</td>\n",
       "      <td>17.29</td>\n",
       "      <td>16.59</td>\n",
       "    </tr>\n",
       "    <tr>\n",
       "      <th>PS4</th>\n",
       "      <td>24.84</td>\n",
       "      <td>35.97</td>\n",
       "      <td>11.34</td>\n",
       "    </tr>\n",
       "    <tr>\n",
       "      <th>PSP</th>\n",
       "      <td>0.00</td>\n",
       "      <td>0.04</td>\n",
       "      <td>2.34</td>\n",
       "    </tr>\n",
       "    <tr>\n",
       "      <th>PSV</th>\n",
       "      <td>1.15</td>\n",
       "      <td>1.56</td>\n",
       "      <td>13.21</td>\n",
       "    </tr>\n",
       "    <tr>\n",
       "      <th>Wii</th>\n",
       "      <td>1.50</td>\n",
       "      <td>1.51</td>\n",
       "      <td>0.04</td>\n",
       "    </tr>\n",
       "    <tr>\n",
       "      <th>WiiU</th>\n",
       "      <td>6.67</td>\n",
       "      <td>5.06</td>\n",
       "      <td>7.73</td>\n",
       "    </tr>\n",
       "    <tr>\n",
       "      <th>X360</th>\n",
       "      <td>18.66</td>\n",
       "      <td>10.84</td>\n",
       "      <td>0.36</td>\n",
       "    </tr>\n",
       "    <tr>\n",
       "      <th>XOne</th>\n",
       "      <td>21.27</td>\n",
       "      <td>13.15</td>\n",
       "      <td>0.24</td>\n",
       "    </tr>\n",
       "  </tbody>\n",
       "</table>\n",
       "</div>"
      ],
      "text/plain": [
       "          na_sales  eu_sales  jp_sales\n",
       "platform                              \n",
       "3DS           8.73      7.89     48.17\n",
       "DS            0.13      0.22      0.00\n",
       "PC            2.54      6.47      0.00\n",
       "PS3          14.51     17.29     16.59\n",
       "PS4          24.84     35.97     11.34\n",
       "PSP           0.00      0.04      2.34\n",
       "PSV           1.15      1.56     13.21\n",
       "Wii           1.50      1.51      0.04\n",
       "WiiU          6.67      5.06      7.73\n",
       "X360         18.66     10.84      0.36\n",
       "XOne         21.27     13.15      0.24"
      ]
     },
     "execution_count": 38,
     "metadata": {},
     "output_type": "execute_result"
    }
   ],
   "source": [
    "platform_share = (games\n",
    "                  .query('year_of_release >= 2013')                          # срез данных по актупльному периоду;\n",
    "                  .groupby('platform')[['na_sales', 'eu_sales', 'jp_sales']] # группируем по платформам;\n",
    "                  .agg('sum')                                                # сумма по продажам в регионах для разных платформ;\n",
    "                  .apply(lambda x: round(x / x.sum() * 100, 2))              # считаем % продаж для игровой платформы \n",
    "                 )                                                           # от общих продаж в регионе за актуальный период;\n",
    "platform_share"
   ]
  },
  {
   "cell_type": "code",
   "execution_count": 39,
   "id": "e7176046",
   "metadata": {},
   "outputs": [
    {
     "name": "stdout",
     "output_type": "stream",
     "text": [
      "Топ 5 платформ для Северной Америки:\n"
     ]
    },
    {
     "data": {
      "text/plain": [
       "platform\n",
       "PS4     24.84\n",
       "XOne    21.27\n",
       "X360    18.66\n",
       "PS3     14.51\n",
       "3DS      8.73\n",
       "Name: na_sales, dtype: float64"
      ]
     },
     "metadata": {},
     "output_type": "display_data"
    }
   ],
   "source": [
    "print('Топ 5 платформ для Северной Америки:')\n",
    "display(platform_share.sort_values(by='na_sales', ascending=False).head(5)['na_sales'])"
   ]
  },
  {
   "cell_type": "code",
   "execution_count": 40,
   "id": "c79d15b6",
   "metadata": {
    "scrolled": true
   },
   "outputs": [
    {
     "name": "stdout",
     "output_type": "stream",
     "text": [
      "Топ 5 платформ для Европы:\n"
     ]
    },
    {
     "data": {
      "text/plain": [
       "platform\n",
       "PS4     35.97\n",
       "PS3     17.29\n",
       "XOne    13.15\n",
       "X360    10.84\n",
       "3DS      7.89\n",
       "Name: eu_sales, dtype: float64"
      ]
     },
     "metadata": {},
     "output_type": "display_data"
    }
   ],
   "source": [
    "print('Топ 5 платформ для Европы:')\n",
    "display(platform_share.sort_values(by='eu_sales', ascending=False).head(5)['eu_sales'])"
   ]
  },
  {
   "cell_type": "code",
   "execution_count": 41,
   "id": "08c70d97",
   "metadata": {
    "scrolled": true
   },
   "outputs": [
    {
     "name": "stdout",
     "output_type": "stream",
     "text": [
      "Топ 5 платформ для Японии:\n"
     ]
    },
    {
     "data": {
      "text/plain": [
       "platform\n",
       "3DS     48.17\n",
       "PS3     16.59\n",
       "PSV     13.21\n",
       "PS4     11.34\n",
       "WiiU     7.73\n",
       "Name: jp_sales, dtype: float64"
      ]
     },
     "metadata": {},
     "output_type": "display_data"
    }
   ],
   "source": [
    "print('Топ 5 платформ для Японии:')\n",
    "display(platform_share.sort_values(by='jp_sales',ascending=False).head(5)['jp_sales'])"
   ]
  },
  {
   "cell_type": "markdown",
   "id": "9321906d",
   "metadata": {},
   "source": [
    "Визуализируем портреты пользователей по платформам с помощью круговой диаграммы."
   ]
  },
  {
   "cell_type": "code",
   "execution_count": 42,
   "id": "0d875e56",
   "metadata": {},
   "outputs": [
    {
     "data": {
      "image/png": "[encoded data removed]",
      "text/plain": [
       "<Figure size 1296x360 with 3 Axes>"
      ]
     },
     "metadata": {},
     "output_type": "display_data"
    }
   ],
   "source": [
    "# напишем функцию для построения графика методом pie() библиотеки matplotlib\n",
    "def show_pie(df, col):\n",
    "    df['group'] = (df.index.where(df.index.isin(df.sort_values(by=col, ascending=False).head(5).index),'Other'))\n",
    "    plt.pie(df.groupby('group').sum()[col], labels=df.groupby('group').sum()[col].index)\n",
    "\n",
    "fig = plt.figure(figsize=(18,5))\n",
    "fig.suptitle('ТОП-5 платформ в регионах', fontsize=20, y=1.02)\n",
    "\n",
    "ax1 = plt.subplot(131)\n",
    "show_pie(platform_share, 'na_sales')\n",
    "ax1.set_title('Северная Америка', fontsize=15)\n",
    "\n",
    "\n",
    "ax2 = plt.subplot(132)\n",
    "show_pie(platform_share, 'eu_sales')\n",
    "ax2.set_title('Европа', fontsize=15)\n",
    "\n",
    "ax3 = plt.subplot(133)\n",
    "show_pie(platform_share, 'jp_sales')\n",
    "ax3.set_title('Япония', fontsize=15)\n",
    "plt.show()"
   ]
  },
  {
   "cell_type": "markdown",
   "id": "7151ce5a",
   "metadata": {},
   "source": [
    "* Предпочтения к игровым платформам в Северной Америке и Европе схожи. В ТОП попали разные поколения `PS` и `Xbox`. \n",
    "* Отметим бОльшую популярность игровых платформ от Microsoft в Северной Америке. \n",
    "* В Японии в ТОП-5 попали только платформы произведённые в Японии, и на первом месте портативная игровая платформа `3DS`. Это может быть обусловлено различиями на рынке компьютерных игр в Японии и мире. Многие игры создаются в Японии для своих платформ и своей аудитории (не выходя на международный рынок).\n",
    "\n",
    "---\n",
    "\n",
    "**2)** Представим в сводной таблице доли продаж по различным жанрам для каждого региона в %:"
   ]
  },
  {
   "cell_type": "code",
   "execution_count": 43,
   "id": "37d0dbc2",
   "metadata": {
    "scrolled": false
   },
   "outputs": [
    {
     "data": {
      "text/html": [
       "<div>\n",
       "<style scoped>\n",
       "    .dataframe tbody tr th:only-of-type {\n",
       "        vertical-align: middle;\n",
       "    }\n",
       "\n",
       "    .dataframe tbody tr th {\n",
       "        vertical-align: top;\n",
       "    }\n",
       "\n",
       "    .dataframe thead th {\n",
       "        text-align: right;\n",
       "    }\n",
       "</style>\n",
       "<table border=\"1\" class=\"dataframe\">\n",
       "  <thead>\n",
       "    <tr style=\"text-align: right;\">\n",
       "      <th></th>\n",
       "      <th>na_sales</th>\n",
       "      <th>eu_sales</th>\n",
       "      <th>jp_sales</th>\n",
       "    </tr>\n",
       "    <tr>\n",
       "      <th>genre</th>\n",
       "      <th></th>\n",
       "      <th></th>\n",
       "      <th></th>\n",
       "    </tr>\n",
       "  </thead>\n",
       "  <tbody>\n",
       "    <tr>\n",
       "      <th>Action</th>\n",
       "      <td>28.80</td>\n",
       "      <td>30.12</td>\n",
       "      <td>28.76</td>\n",
       "    </tr>\n",
       "    <tr>\n",
       "      <th>Adventure</th>\n",
       "      <td>1.63</td>\n",
       "      <td>2.10</td>\n",
       "      <td>4.13</td>\n",
       "    </tr>\n",
       "    <tr>\n",
       "      <th>Fighting</th>\n",
       "      <td>3.55</td>\n",
       "      <td>2.18</td>\n",
       "      <td>5.43</td>\n",
       "    </tr>\n",
       "    <tr>\n",
       "      <th>Misc</th>\n",
       "      <td>6.28</td>\n",
       "      <td>5.11</td>\n",
       "      <td>6.54</td>\n",
       "    </tr>\n",
       "    <tr>\n",
       "      <th>Platform</th>\n",
       "      <td>4.14</td>\n",
       "      <td>3.97</td>\n",
       "      <td>3.40</td>\n",
       "    </tr>\n",
       "    <tr>\n",
       "      <th>Puzzle</th>\n",
       "      <td>0.19</td>\n",
       "      <td>0.25</td>\n",
       "      <td>0.84</td>\n",
       "    </tr>\n",
       "    <tr>\n",
       "      <th>Racing</th>\n",
       "      <td>2.96</td>\n",
       "      <td>5.15</td>\n",
       "      <td>1.63</td>\n",
       "    </tr>\n",
       "    <tr>\n",
       "      <th>Role-Playing</th>\n",
       "      <td>10.60</td>\n",
       "      <td>9.43</td>\n",
       "      <td>36.26</td>\n",
       "    </tr>\n",
       "    <tr>\n",
       "      <th>Shooter</th>\n",
       "      <td>25.07</td>\n",
       "      <td>22.40</td>\n",
       "      <td>4.70</td>\n",
       "    </tr>\n",
       "    <tr>\n",
       "      <th>Simulation</th>\n",
       "      <td>1.11</td>\n",
       "      <td>2.78</td>\n",
       "      <td>3.21</td>\n",
       "    </tr>\n",
       "    <tr>\n",
       "      <th>Sports</th>\n",
       "      <td>14.91</td>\n",
       "      <td>15.43</td>\n",
       "      <td>3.84</td>\n",
       "    </tr>\n",
       "    <tr>\n",
       "      <th>Strategy</th>\n",
       "      <td>0.75</td>\n",
       "      <td>1.08</td>\n",
       "      <td>1.26</td>\n",
       "    </tr>\n",
       "  </tbody>\n",
       "</table>\n",
       "</div>"
      ],
      "text/plain": [
       "              na_sales  eu_sales  jp_sales\n",
       "genre                                     \n",
       "Action           28.80     30.12     28.76\n",
       "Adventure         1.63      2.10      4.13\n",
       "Fighting          3.55      2.18      5.43\n",
       "Misc              6.28      5.11      6.54\n",
       "Platform          4.14      3.97      3.40\n",
       "Puzzle            0.19      0.25      0.84\n",
       "Racing            2.96      5.15      1.63\n",
       "Role-Playing     10.60      9.43     36.26\n",
       "Shooter          25.07     22.40      4.70\n",
       "Simulation        1.11      2.78      3.21\n",
       "Sports           14.91     15.43      3.84\n",
       "Strategy          0.75      1.08      1.26"
      ]
     },
     "execution_count": 43,
     "metadata": {},
     "output_type": "execute_result"
    }
   ],
   "source": [
    "genres_share = (games\n",
    "                  .query('year_of_release >= 2013')                          # срез данных по актупльному периоду;\n",
    "                  .groupby('genre')[['na_sales', 'eu_sales', 'jp_sales']]    # группируем по жанрам;\n",
    "                  .agg('sum')                                                # сумма по продажам в регионах для разных платформ;\n",
    "                  .apply(lambda x: round(x / x.sum() * 100, 2))              # считаем % продаж для игровой платформы \n",
    "                 )                                                           # от общих продаж в регионе за актуальный период;\n",
    "genres_share"
   ]
  },
  {
   "cell_type": "code",
   "execution_count": 44,
   "id": "7027ef0a",
   "metadata": {},
   "outputs": [
    {
     "name": "stdout",
     "output_type": "stream",
     "text": [
      "Топ 5 жанров для Северной Америки:\n"
     ]
    },
    {
     "data": {
      "text/plain": [
       "genre\n",
       "Action          28.80\n",
       "Shooter         25.07\n",
       "Sports          14.91\n",
       "Role-Playing    10.60\n",
       "Misc             6.28\n",
       "Name: na_sales, dtype: float64"
      ]
     },
     "metadata": {},
     "output_type": "display_data"
    }
   ],
   "source": [
    "print('Топ 5 жанров для Северной Америки:')\n",
    "display(genres_share.sort_values(by='na_sales', ascending=False).head(5)['na_sales'])"
   ]
  },
  {
   "cell_type": "code",
   "execution_count": 45,
   "id": "63cf7646",
   "metadata": {},
   "outputs": [
    {
     "name": "stdout",
     "output_type": "stream",
     "text": [
      "Топ 5 жанров для Европы:\n"
     ]
    },
    {
     "data": {
      "text/plain": [
       "genre\n",
       "Action          30.12\n",
       "Shooter         22.40\n",
       "Sports          15.43\n",
       "Role-Playing     9.43\n",
       "Racing           5.15\n",
       "Name: eu_sales, dtype: float64"
      ]
     },
     "metadata": {},
     "output_type": "display_data"
    }
   ],
   "source": [
    "print('Топ 5 жанров для Европы:')\n",
    "display(genres_share.sort_values(by='eu_sales', ascending=False).head(5)['eu_sales'])"
   ]
  },
  {
   "cell_type": "code",
   "execution_count": 46,
   "id": "5ae3df45",
   "metadata": {
    "scrolled": true
   },
   "outputs": [
    {
     "name": "stdout",
     "output_type": "stream",
     "text": [
      "Топ 5 жанров для Японии:\n"
     ]
    },
    {
     "data": {
      "text/plain": [
       "genre\n",
       "Role-Playing    36.26\n",
       "Action          28.76\n",
       "Misc             6.54\n",
       "Fighting         5.43\n",
       "Shooter          4.70\n",
       "Name: jp_sales, dtype: float64"
      ]
     },
     "metadata": {},
     "output_type": "display_data"
    }
   ],
   "source": [
    "print('Топ 5 жанров для Японии:')\n",
    "display(genres_share.sort_values(by='jp_sales', ascending=False).head(5)['jp_sales'])"
   ]
  },
  {
   "cell_type": "markdown",
   "id": "c39ff471",
   "metadata": {},
   "source": [
    "Визуализируем портреты пользователей по жанрам с помощью круговой диаграммы."
   ]
  },
  {
   "cell_type": "code",
   "execution_count": 47,
   "id": "2cfabd6e",
   "metadata": {
    "scrolled": false
   },
   "outputs": [
    {
     "data": {
      "image/png": "[encoded data removed]",
      "text/plain": [
       "<Figure size 1296x360 with 3 Axes>"
      ]
     },
     "metadata": {},
     "output_type": "display_data"
    }
   ],
   "source": [
    "fig = plt.figure(figsize=(18,5))\n",
    "fig.suptitle('ТОП-5 жанров в регионах', fontsize=20, y=1.02)\n",
    "\n",
    "ax1 = plt.subplot(131)\n",
    "show_pie(genres_share, 'na_sales')\n",
    "ax1.set_title('Северная Америка', fontsize=15)\n",
    "\n",
    "\n",
    "ax2 = plt.subplot(132)\n",
    "show_pie(genres_share, 'eu_sales')\n",
    "ax2.set_title('Европа', fontsize=15)\n",
    "\n",
    "ax3 = plt.subplot(133)\n",
    "show_pie(genres_share, 'jp_sales')\n",
    "ax3.set_title('Япония', fontsize=15)\n",
    "plt.show()"
   ]
  },
  {
   "cell_type": "markdown",
   "id": "92f8d78a",
   "metadata": {},
   "source": [
    "* ТОП5 жанров для Европы и Северной Америки практически не отличаются `Action`, `Shooter`, `Sports`, `Role-Playing`. Это также свидетельствует о том, что данные регионы представляют часть глобального рынка игровой индустрии. В данных регионах играют в одни и те же игры.\n",
    "* Японский рынок отличается. Помимо `Role-Playing`и `Action` там любят `Misc` и `Fighting`. А `Shooter` покупают гораздо меньше, чем в других регионах. Это может быть обусловлено менталитетом игроков и обособленностью рынка.\n",
    "\n",
    "---\n",
    "\n",
    "**3)** Представим в сводной таблице доли продаж игр по рейтингу ESRB для каждого региона  в %:"
   ]
  },
  {
   "cell_type": "code",
   "execution_count": 48,
   "id": "1cd9721b",
   "metadata": {
    "scrolled": true
   },
   "outputs": [
    {
     "data": {
      "text/html": [
       "<div>\n",
       "<style scoped>\n",
       "    .dataframe tbody tr th:only-of-type {\n",
       "        vertical-align: middle;\n",
       "    }\n",
       "\n",
       "    .dataframe tbody tr th {\n",
       "        vertical-align: top;\n",
       "    }\n",
       "\n",
       "    .dataframe thead th {\n",
       "        text-align: right;\n",
       "    }\n",
       "</style>\n",
       "<table border=\"1\" class=\"dataframe\">\n",
       "  <thead>\n",
       "    <tr style=\"text-align: right;\">\n",
       "      <th></th>\n",
       "      <th>na_sales</th>\n",
       "      <th>eu_sales</th>\n",
       "      <th>jp_sales</th>\n",
       "    </tr>\n",
       "    <tr>\n",
       "      <th>rating</th>\n",
       "      <th></th>\n",
       "      <th></th>\n",
       "      <th></th>\n",
       "    </tr>\n",
       "  </thead>\n",
       "  <tbody>\n",
       "    <tr>\n",
       "      <th>E</th>\n",
       "      <td>18.06</td>\n",
       "      <td>21.25</td>\n",
       "      <td>10.75</td>\n",
       "    </tr>\n",
       "    <tr>\n",
       "      <th>E10+</th>\n",
       "      <td>12.39</td>\n",
       "      <td>10.88</td>\n",
       "      <td>4.18</td>\n",
       "    </tr>\n",
       "    <tr>\n",
       "      <th>M</th>\n",
       "      <td>37.74</td>\n",
       "      <td>37.05</td>\n",
       "      <td>10.02</td>\n",
       "    </tr>\n",
       "    <tr>\n",
       "      <th>T</th>\n",
       "      <td>11.38</td>\n",
       "      <td>10.70</td>\n",
       "      <td>14.63</td>\n",
       "    </tr>\n",
       "    <tr>\n",
       "      <th>unknown</th>\n",
       "      <td>20.43</td>\n",
       "      <td>20.12</td>\n",
       "      <td>60.41</td>\n",
       "    </tr>\n",
       "  </tbody>\n",
       "</table>\n",
       "</div>"
      ],
      "text/plain": [
       "         na_sales  eu_sales  jp_sales\n",
       "rating                               \n",
       "E           18.06     21.25     10.75\n",
       "E10+        12.39     10.88      4.18\n",
       "M           37.74     37.05     10.02\n",
       "T           11.38     10.70     14.63\n",
       "unknown     20.43     20.12     60.41"
      ]
     },
     "execution_count": 48,
     "metadata": {},
     "output_type": "execute_result"
    }
   ],
   "source": [
    "rating_share = (games\n",
    "                  .query('year_of_release >= 2013')       # срез данных по актупльному периоду;\n",
    "                  .groupby('rating')[['na_sales', 'eu_sales', 'jp_sales']]   # группируем по рейтингу;\n",
    "                  .agg('sum')                                                # сумма по продажам в регионах для разных платформ;\n",
    "                  .apply(lambda x: round(x / x.sum() * 100, 2))              # считаем % продаж для игровой платформы \n",
    "                 )                                                           # от общих продаж в регионе за актуальный период;\n",
    "rating_share"
   ]
  },
  {
   "cell_type": "code",
   "execution_count": 49,
   "id": "d41c5ca6",
   "metadata": {},
   "outputs": [
    {
     "data": {
      "image/png": "[encoded data removed]",
      "text/plain": [
       "<Figure size 1296x360 with 3 Axes>"
      ]
     },
     "metadata": {},
     "output_type": "display_data"
    }
   ],
   "source": [
    "# визуализируем портреты пользователей по рейтингу ESRB с помощью barplot.\n",
    "fig = plt.figure(figsize=(18,5))\n",
    "fig.suptitle('Рейтинг ESRB', fontsize=20, y=1.02)\n",
    "\n",
    "ax1 = plt.subplot(131)\n",
    "sns.barplot(data=rating_share, y='na_sales', x=rating_share.index, ci=False)\n",
    "ax1.set_title('Северная Америка', fontsize=15)\n",
    "\n",
    "ax2 = plt.subplot(132)\n",
    "sns.barplot(data=rating_share, y='eu_sales', x=rating_share.index, ci=False)\n",
    "ax2.set_title('Европа', fontsize=15)\n",
    "\n",
    "ax3 = plt.subplot(133)\n",
    "sns.barplot(data=rating_share, y='jp_sales', x=rating_share.index, ci=False)\n",
    "ax3.set_title('Япония', fontsize=15)\n",
    "plt.show()"
   ]
  },
  {
   "cell_type": "markdown",
   "id": "f842a75f",
   "metadata": {},
   "source": [
    "* По рейтингу ESRB регионы Северная Америка и Европа также очень похожи. \n",
    "    * Большинство игр покупают с рейтингом `M` (17+) и `Е` (без ограничений). Реже для `E10+` и `T`. Это может быть обусловлено запросом игроков на взрослый контент в играх (рейтинг `М`) и желанием компаний охватывать максимальное количество возрастных групп (игры категории `E`).\n",
    "    * В обоих регионах высока доля игр, которые не имеют оценки ESRB.\n",
    "* Рынок Японии отличается. \n",
    "    * Большинство игр имеют статус `unknown`, это связано с тем, что рейтинг ESRB предназначен для маркировки игр для США и Канады. На японском рынке больше продаются игры из внутреннего рынка, которые не имеют рейтинга по ESRB.\n",
    "    * Если проанализировать те игры, которые имеют такую оценку, то мы увидим, что в большей мере покупают игры для детей и подростков (категории `T` и `E`)."
   ]
  },
  {
   "cell_type": "markdown",
   "id": "b2b581fd",
   "metadata": {},
   "source": [
    "**Выводы**\n",
    "\n",
    "* Найдены ТОП-5 платформ с максимальными долями продаж для Северной Америки, Европы и Японии.\n",
    "    * Для Европы и Северной Америки предпочтения в игровых платформах схожи. В ТОПе разные поколения `PS` и `Xbox`.\n",
    "    * В Японии же кроме `PS` популярны платформы серии `DS`.\n",
    "* Найдены ТОП-5 жанров с максимальными долями продаж для Северной Америки, Европы и Японии.\n",
    "    * Для Европы и Северной Америки данные практически не отличаются `Action`, `Shooter`, `Sports`, `Role-Playing`.\n",
    "    * В Японии помимо `Role-Playing` и `Action` любят `Misc` и `Fighting`. А `Shooter` покупают гораздо меньше.\n",
    "* Проанализированы зависимости уровня продаж игр от рейтинга ESRB в каждом регионе.\n",
    "    * Для Европы и Северной Америки большинство игр покупают с рейтингом `M` (17+) и `Е` (без ограничений). Это может быть обусловлено запросом игроков на взрослый контент в играх (рейтинг `М`) и желанием компаний охватывать максимальное количество возрастных групп (игры категории `E`).\n",
    "    * В Японии большая часть имеет неопределенный рейтинг ESRB. Среди тех игр, котрые имеют такую оценку в большей мере покупают игры для детей и подростков (категории T и E).\n",
    "* Различия в продажах между Японией и остальными регионами обуславливается большей ориентированностью японских игроков на внутренний рынок. Многие игры создаются в японии для внутреннего рынка и для собственных платформ."
   ]
  },
  {
   "cell_type": "markdown",
   "id": "1faacb92",
   "metadata": {},
   "source": [
    "## 5. Проверка гипотез\n",
    "\n",
    "### 5.1 Средние пользовательские рейтинги платформ Xbox One и PC одинаковые\n",
    "\n",
    "Сформулируем нулевую и альтернативную гипотезы. Нулевую гипотезу будем формулировать так, чтобы использовать знак равенства. Альтернативную гипотезу сформулируем оттакливаясь от нулевой гипотезы.\n",
    "\n",
    "* H₀ - cредняя пользовательская оценка игр на платформе Xbox One равна средней пользовательской оценке игр на платформе PC\n",
    "* H₁ - cредняя пользовательская оценка игр на платформе Xbox One не равна средней пользовательской оценке игр на платформе PC\n",
    "\n",
    "Определим уровень значимости `alpha = 0.05`.\n",
    "\n",
    "Выборки оценок по платформам `XOne` и `PC` не связаны друг с другом. Для расчёта статистики разности и `p-value` будем использовать функцию `st.ttest_ind`."
   ]
  },
  {
   "cell_type": "code",
   "execution_count": 50,
   "id": "cefad75d",
   "metadata": {},
   "outputs": [
    {
     "name": "stdout",
     "output_type": "stream",
     "text": [
      "Средний пользовательский рейтинг Xbox One: 6.521428571428572\n",
      "Средний пользовательский рейтинг PC: 6.2696774193548395\n",
      "p-значение: 0.14759594013430463\n",
      "Не получилось отвергнуть нулевую гипотезу\n"
     ]
    }
   ],
   "source": [
    "alpha = .05 # критический уровень статистической значимости\n",
    "\n",
    "results = st.ttest_ind(\n",
    "    games_actual.query('platform == \"XOne\" and user_score >= 0')['user_score'], \n",
    "    games_actual.query('platform == \"PC\" and user_score >= 0')['user_score'],\n",
    "    equal_var = False)\n",
    "\n",
    "print('Средний пользовательский рейтинг Xbox One:', \n",
    "      games_actual.query('platform == \"XOne\" and user_score >= 0')['user_score'].mean())\n",
    "print('Средний пользовательский рейтинг PC:', \n",
    "      games_actual.query('platform == \"PC\" and user_score >= 0')['user_score'].mean())\n",
    "\n",
    "print('p-значение:', results.pvalue)\n",
    "\n",
    "if (results.pvalue < alpha):\n",
    "    print(\"Отвергаем нулевую гипотезу\")\n",
    "else:\n",
    "    print(\"Не получилось отвергнуть нулевую гипотезу\")"
   ]
  },
  {
   "cell_type": "markdown",
   "id": "974d0771",
   "metadata": {},
   "source": [
    "* `p-value` равен 0.15 > alpha. Исходя из этого, у нас нет оснований отвергать нулевую гипотезу. \n",
    "* Эмпирически полученные данные не противоречат гипотезе H₀: \"Средняя пользовательская оценка игр на платформе Xbox One равна средней пользовательской оценке игр на платформе PC\". Средние пользовательские рейтинги платформ Xbox One и PC близки."
   ]
  },
  {
   "cell_type": "markdown",
   "id": "a402b8c5",
   "metadata": {},
   "source": [
    "### 5.2 Средние пользовательские рейтинги жанров Action и Sports разные\n",
    "\n",
    "Сформулируем нулевую и альтернативную гипотезы. Нулевую гипотезу будем формулировать так, чтобы использовать знак равенства. Альтернативную гипотезу сформулируем оттакливаясь от нулевой гипотезы.\n",
    "\n",
    "* H₀ - средняя пользовательская оценка игр жанра Action равна средней пользовательской оценке игр жанра Sports\n",
    "* H₁ - средняя пользовательская оценка игр жанра Action не равна средней пользовательской оценке игр жанра Sports\n",
    "\n",
    "Определим уровень значимости `alpha = 0.05`.\n",
    "\n",
    "Выборки оценок по жанрам `Action` и `Sports` не связаны друг с другом. Для расчёта статистики разности и `p-value` будем использовать функцию `st.ttest_ind`."
   ]
  },
  {
   "cell_type": "code",
   "execution_count": 51,
   "id": "c53c8b49",
   "metadata": {},
   "outputs": [
    {
     "name": "stdout",
     "output_type": "stream",
     "text": [
      "Средний пользовательский рейтинг жанра Action: 6.822047244094488\n",
      "Средний пользовательский рейтинг жанра Sports: 5.561458333333334\n",
      "p-значение: 6.954390687344237e-11\n",
      "Отвергаем нулевую гипотезу\n"
     ]
    }
   ],
   "source": [
    "results = st.ttest_ind(\n",
    "    games_actual.query('genre == \"Action\" and user_score >= 0')['user_score'], \n",
    "    games_actual.query('genre == \"Sports\" and user_score >= 0')['user_score'],\n",
    "    equal_var = False)\n",
    "\n",
    "print('Средний пользовательский рейтинг жанра Action:', \n",
    "      games_actual.query('genre == \"Action\" and user_score >= 0')['user_score'].mean())\n",
    "print('Средний пользовательский рейтинг жанра Sports:', \n",
    "      games_actual.query('genre == \"Sports\" and user_score >= 0')['user_score'].mean())\n",
    "\n",
    "print('p-значение:', results.pvalue)\n",
    "\n",
    "if (results.pvalue < alpha):\n",
    "    print(\"Отвергаем нулевую гипотезу\")\n",
    "else:\n",
    "    print(\"Не получилось отвергнуть нулевую гипотезу\")"
   ]
  },
  {
   "cell_type": "markdown",
   "id": "ad25c47a",
   "metadata": {},
   "source": [
    "* `p-value` практически равен 0 (гораздо меньше alpha). Исходя из этого, признаём нулевую гипотезу H₀ мало вероятной. \n",
    "* Эмпирически полученные данные позволяют отвергнуть нулевую гипотезу в пользу альтернативной H₁: \"Средняя пользовательская оценка игр жанра Action не равна средней пользовательской оценке игр жанра Sports\""
   ]
  },
  {
   "cell_type": "markdown",
   "id": "56d668ca",
   "metadata": {},
   "source": [
    "**Выводы**\n",
    "\n",
    "По первой гипотезе:\n",
    "\n",
    "Эмпирически полученные данные не противоречат гипотезе H₀:\n",
    "* \"Средняя пользовательская оценка игр на платформе Xbox One равна средней пользовательской оценке игр на платформе PC\"\n",
    "* Изначальная гипотеза оказалась верна.\n",
    "\n",
    "По второй гипотезе:\n",
    "\n",
    "Эмпирически полученные данные позволяют отвергнуть нулевую гипотезу в пользу альтернативной H₁:\n",
    "* \"Средняя пользовательская оценка игр жанра Action не равна средней пользовательской оценке игр жанра Sports\"\n",
    "* Изначальная гипотеза оказалась верна."
   ]
  },
  {
   "cell_type": "markdown",
   "id": "2d159aa7",
   "metadata": {},
   "source": [
    "## Общий вывод\n",
    "\n",
    "**1)** Данные успешно загружены из файла. В таблице `games` 16715 записей. Дубликатов не обнаружено. Данные соответствуют описанию.\n",
    "\n",
    "**2)** Типы данных были преобразованы в соответствии с хранимой информацией.\n",
    "\n",
    "* Пропуски были исследованы и обработаны.\n",
    "    * Доля пропусков в столбцах достигает **52%**.\n",
    "    * Возможные причины пропусков: отсутствие информации при сборе данных, или сбой в системе при выгрузке таблицы из базы данных\n",
    "\n",
    "**3)** Проанализированы уровни глобальных продаж по различным игровым платформам. \n",
    "* Выделены основные популярные платформы на 2016 год `PS4`, `3DS`, `XOne`, `WiiU`, `PC`.\n",
    "* Выделен актуальный период для исследования игр **с 2013 по 2016 гг**.\n",
    "* Лидером по суммарным продажам является `PS4`. Однако медианные значения для `XOne`, `WiiU` и `PS4` примерно равны. Это обусловлено большим количеством выбросов (популярные игры с высокими продажами). Доля выбросов около **14%**.\n",
    "* Между глобальными продажами и оценками критиков наблюдается слабая корреляция **(0.34 - 0.41)** по всем игровым платформам, кроме `PC` **(0.19)**. Для платформы 3DS наблюдается очень слабая корреляция **0.27** между этими параметрами. Для платформы WiiU корреляция ещё выше **(0.41)**. Пользователи игровой платформы `WiiU` перед покупкой очередной игры интересуются мнением других игроков (помимо оценок критиков).\n",
    "* Рассмотрено влияние жанра игры на продажи.\n",
    "    * Самым популярным и продаваемым жанром является `Shooter` (медианное значение **~0.5** млн копий по всем платформам).\n",
    "    * Наименее продаваемыми являются жанры `Pazzle`, `Adventure`, `Strategy` (медианное значение менее **0.1** млн копий).\n",
    "\n",
    "**4)** Составлен портрет пользователя каждого региона.\n",
    "\n",
    "* Найдены ТОП-5 платформ с максимальными долями продаж для Северной Америки, Европы и Японии.\n",
    "    * Для Европы и Северной Америки предпочтения в игровых платформах схожи. В ТОПе разные поколения `PS` и `Xbox`.\n",
    "    * В Японии же кроме `PS` популярны платформы серии `DS`.\n",
    "* Найдены ТОП-5 жанров с максимальными долями продаж для Северной Америки, Европы и Японии.\n",
    "    * Для Европы и Северной Америки данные практически не отличаются `Action`, `Shooter`, `Sports`, `Role-Playing`.\n",
    "    * В Японии помимо `Role-Playing` и `Action` любят `Misc` и `Fighting`. А `Shooter` покупают гораздо меньше.\n",
    "* Проанализированы зависимости уровня продаж игр от рейтинга ESRB в каждом регионе.\n",
    "    * Для Европы и Северной Америки большинство игр покупают с рейтингом `M` (17+) и `Е` (без ограничений). Это может быть обусловлено запросом игроков на взрослый контент в играх (рейтинг `М`) и желанием компаний охватывать максимальное количество возрастных групп (игры категории `E`).\n",
    "    * В Японии большая часть имеет неопределенный рейтинг ESRB. Среди тех игр, котрые имеют такую оценку в большей мере покупают игры для детей и подростков (категории T и E).\n",
    "* Различия в продажах между Японией и остальными регионами обуславливается большей ориентированностью японских игроков на внутренний рынок. Многие игры создаются в японии для внутреннего рынка и для собственных платформ.\n",
    "\n",
    "**5)**  Проверены 2 гипотезы и сделаны следующие выводы:\n",
    "\n",
    "Эмпирически полученные данные не противоречат гипотезе H₀:\n",
    "* \"Средняя пользовательская оценка игр на платформе Xbox One равна средней пользовательской оценке игр на платформе PC\"\n",
    "* Изначальная гипотеза оказалась верна.\n",
    "\n",
    "Эмпирически полученные данные позволяют отвергнуть нулевую гипотезу в пользу альтернативной H₁:\n",
    "* \"Средняя пользовательская оценка игр жанра Action не равна средней пользовательской оценке игр жанра Sports\"\n",
    "* Изначальная гипотеза оказалась верна.\n",
    "\n",
    "**6)** Рекомендации для рекламной компании:\n",
    "* Из трех регионов прослеживается схожесть пользователей Северной Америки и Европы. Рынок Японии является обособленным, большая часть игроков ориентирована на внутренний рынок. Для охвата большего сегмента (2/3) следует провести рекламную кампанию для **Северной Америки и Европы**.\n",
    "* На первых местах по продажам игр в NA и EU выступают последние модели игровых платформ от Sony и Microsoft - PS и Xbox. Так как срок жизни игровых платформ составляет ~10 лет, а для `PS3` и `X360` пик популярности уже прошел, следует обратить внимание на более перспективные **`PS4`** и **`XOne`**.\n",
    "* В жанрах аудитория данных регионов единогласно отдает предпочтение категории **`Shooter`**.\n",
    "* По рейтингу ESRB наибольшее количество продаж приходится на категорию **`М`** - взрослый контнент (17+)."
   ]
  }
 ],
 "metadata": {
  "ExecuteTimeLog": [
   {
    "duration": 1247,
    "start_time": "2022-05-07T21:59:25.677Z"
   },
   {
    "duration": 81,
    "start_time": "2022-05-07T21:59:26.926Z"
   },
   {
    "duration": 27,
    "start_time": "2022-05-07T21:59:27.009Z"
   },
   {
    "duration": 20,
    "start_time": "2022-05-07T21:59:27.038Z"
   },
   {
    "duration": 15,
    "start_time": "2022-05-07T21:59:27.059Z"
   },
   {
    "duration": 16,
    "start_time": "2022-05-07T21:59:27.075Z"
   },
   {
    "duration": 5,
    "start_time": "2022-05-07T21:59:27.092Z"
   },
   {
    "duration": 20,
    "start_time": "2022-05-07T21:59:27.098Z"
   },
   {
    "duration": 11,
    "start_time": "2022-05-07T21:59:27.147Z"
   },
   {
    "duration": 23,
    "start_time": "2022-05-07T21:59:27.163Z"
   },
   {
    "duration": 3,
    "start_time": "2022-05-07T21:59:27.188Z"
   },
   {
    "duration": 21,
    "start_time": "2022-05-07T21:59:27.193Z"
   },
   {
    "duration": 34,
    "start_time": "2022-05-07T21:59:27.216Z"
   },
   {
    "duration": 7,
    "start_time": "2022-05-07T21:59:27.252Z"
   },
   {
    "duration": 19,
    "start_time": "2022-05-07T21:59:27.261Z"
   },
   {
    "duration": 28,
    "start_time": "2022-05-07T21:59:27.282Z"
   },
   {
    "duration": 13,
    "start_time": "2022-05-07T21:59:27.312Z"
   },
   {
    "duration": 21,
    "start_time": "2022-05-07T21:59:27.327Z"
   },
   {
    "duration": 405,
    "start_time": "2022-05-07T21:59:27.351Z"
   },
   {
    "duration": 19,
    "start_time": "2022-05-07T21:59:27.758Z"
   },
   {
    "duration": 1015,
    "start_time": "2022-05-07T21:59:27.779Z"
   },
   {
    "duration": 6,
    "start_time": "2022-05-07T21:59:28.796Z"
   },
   {
    "duration": 9,
    "start_time": "2022-05-07T21:59:28.803Z"
   },
   {
    "duration": 39,
    "start_time": "2022-05-07T21:59:28.814Z"
   },
   {
    "duration": 459,
    "start_time": "2022-05-07T21:59:28.855Z"
   },
   {
    "duration": 6,
    "start_time": "2022-05-07T21:59:29.316Z"
   },
   {
    "duration": 364,
    "start_time": "2022-05-07T21:59:29.324Z"
   },
   {
    "duration": 207,
    "start_time": "2022-05-07T21:59:29.693Z"
   },
   {
    "duration": 9,
    "start_time": "2022-05-07T21:59:29.901Z"
   },
   {
    "duration": 9,
    "start_time": "2022-05-07T21:59:29.912Z"
   },
   {
    "duration": 806,
    "start_time": "2022-05-07T21:59:29.923Z"
   },
   {
    "duration": 24,
    "start_time": "2022-05-07T21:59:30.730Z"
   },
   {
    "duration": 278,
    "start_time": "2022-05-07T21:59:30.756Z"
   },
   {
    "duration": 29,
    "start_time": "2022-05-07T21:59:31.035Z"
   },
   {
    "duration": 673,
    "start_time": "2022-05-07T21:59:31.066Z"
   },
   {
    "duration": 23,
    "start_time": "2022-05-07T21:59:31.741Z"
   },
   {
    "duration": 17,
    "start_time": "2022-05-07T21:59:31.766Z"
   },
   {
    "duration": 11,
    "start_time": "2022-05-07T21:59:31.784Z"
   },
   {
    "duration": 7,
    "start_time": "2022-05-07T21:59:31.797Z"
   },
   {
    "duration": 48,
    "start_time": "2022-05-07T21:59:31.805Z"
   },
   {
    "duration": 13,
    "start_time": "2022-05-07T21:59:31.855Z"
   },
   {
    "duration": 8,
    "start_time": "2022-05-07T21:59:31.870Z"
   },
   {
    "duration": 12,
    "start_time": "2022-05-07T21:59:31.880Z"
   },
   {
    "duration": 25,
    "start_time": "2022-05-07T21:59:31.893Z"
   },
   {
    "duration": 483,
    "start_time": "2022-05-07T21:59:31.920Z"
   },
   {
    "duration": 22,
    "start_time": "2022-05-07T21:59:32.404Z"
   },
   {
    "duration": 36,
    "start_time": "2022-05-07T21:59:32.428Z"
   },
   {
    "duration": 108,
    "start_time": "2022-05-07T22:06:37.879Z"
   },
   {
    "duration": 1124,
    "start_time": "2022-05-07T22:06:47.279Z"
   },
   {
    "duration": 101,
    "start_time": "2022-05-07T22:06:48.405Z"
   },
   {
    "duration": 28,
    "start_time": "2022-05-07T22:06:48.508Z"
   },
   {
    "duration": 21,
    "start_time": "2022-05-07T22:06:48.538Z"
   },
   {
    "duration": 25,
    "start_time": "2022-05-07T22:06:48.561Z"
   },
   {
    "duration": 22,
    "start_time": "2022-05-07T22:06:48.588Z"
   },
   {
    "duration": 7,
    "start_time": "2022-05-07T22:06:48.612Z"
   },
   {
    "duration": 46,
    "start_time": "2022-05-07T22:06:48.621Z"
   },
   {
    "duration": 7,
    "start_time": "2022-05-07T22:06:48.668Z"
   },
   {
    "duration": 19,
    "start_time": "2022-05-07T22:06:48.678Z"
   },
   {
    "duration": 3,
    "start_time": "2022-05-07T22:06:48.699Z"
   },
   {
    "duration": 48,
    "start_time": "2022-05-07T22:06:48.704Z"
   },
   {
    "duration": 11,
    "start_time": "2022-05-07T22:06:48.754Z"
   },
   {
    "duration": 9,
    "start_time": "2022-05-07T22:06:48.767Z"
   },
   {
    "duration": 16,
    "start_time": "2022-05-07T22:06:48.778Z"
   },
   {
    "duration": 28,
    "start_time": "2022-05-07T22:06:48.796Z"
   },
   {
    "duration": 22,
    "start_time": "2022-05-07T22:06:48.848Z"
   },
   {
    "duration": 4,
    "start_time": "2022-05-07T22:06:48.872Z"
   },
   {
    "duration": 98,
    "start_time": "2022-05-07T22:06:48.877Z"
   },
   {
    "duration": 412,
    "start_time": "2022-05-07T22:06:48.976Z"
   },
   {
    "duration": 18,
    "start_time": "2022-05-07T22:06:49.390Z"
   },
   {
    "duration": 796,
    "start_time": "2022-05-07T22:06:49.410Z"
   },
   {
    "duration": 6,
    "start_time": "2022-05-07T22:06:50.207Z"
   },
   {
    "duration": 11,
    "start_time": "2022-05-07T22:06:50.215Z"
   },
   {
    "duration": 38,
    "start_time": "2022-05-07T22:06:50.228Z"
   },
   {
    "duration": 549,
    "start_time": "2022-05-07T22:06:50.269Z"
   },
   {
    "duration": 8,
    "start_time": "2022-05-07T22:06:50.820Z"
   },
   {
    "duration": 370,
    "start_time": "2022-05-07T22:06:50.832Z"
   },
   {
    "duration": 299,
    "start_time": "2022-05-07T22:06:51.204Z"
   },
   {
    "duration": 10,
    "start_time": "2022-05-07T22:06:51.504Z"
   },
   {
    "duration": 9,
    "start_time": "2022-05-07T22:06:51.515Z"
   },
   {
    "duration": 789,
    "start_time": "2022-05-07T22:06:51.525Z"
   },
   {
    "duration": 9,
    "start_time": "2022-05-07T22:06:52.316Z"
   },
   {
    "duration": 349,
    "start_time": "2022-05-07T22:06:52.327Z"
   },
   {
    "duration": 27,
    "start_time": "2022-05-07T22:06:52.678Z"
   },
   {
    "duration": 991,
    "start_time": "2022-05-07T22:06:52.707Z"
   },
   {
    "duration": 25,
    "start_time": "2022-05-07T22:06:53.700Z"
   },
   {
    "duration": 24,
    "start_time": "2022-05-07T22:06:53.727Z"
   },
   {
    "duration": 15,
    "start_time": "2022-05-07T22:06:53.753Z"
   },
   {
    "duration": 8,
    "start_time": "2022-05-07T22:06:53.769Z"
   },
   {
    "duration": 19,
    "start_time": "2022-05-07T22:06:53.778Z"
   },
   {
    "duration": 7,
    "start_time": "2022-05-07T22:06:53.799Z"
   },
   {
    "duration": 8,
    "start_time": "2022-05-07T22:06:53.807Z"
   },
   {
    "duration": 13,
    "start_time": "2022-05-07T22:06:53.849Z"
   },
   {
    "duration": 23,
    "start_time": "2022-05-07T22:06:53.864Z"
   },
   {
    "duration": 316,
    "start_time": "2022-05-07T22:06:53.889Z"
   },
   {
    "duration": 16,
    "start_time": "2022-05-07T22:06:54.207Z"
   },
   {
    "duration": 35,
    "start_time": "2022-05-07T22:06:54.225Z"
   },
   {
    "duration": 1816,
    "start_time": "2022-05-08T07:32:54.356Z"
   },
   {
    "duration": 160,
    "start_time": "2022-05-08T07:32:56.175Z"
   },
   {
    "duration": 56,
    "start_time": "2022-05-08T07:32:56.337Z"
   },
   {
    "duration": 23,
    "start_time": "2022-05-08T07:32:56.395Z"
   },
   {
    "duration": 20,
    "start_time": "2022-05-08T07:32:56.422Z"
   },
   {
    "duration": 52,
    "start_time": "2022-05-08T07:32:56.444Z"
   },
   {
    "duration": 8,
    "start_time": "2022-05-08T07:32:56.499Z"
   },
   {
    "duration": 32,
    "start_time": "2022-05-08T07:32:56.510Z"
   },
   {
    "duration": 10,
    "start_time": "2022-05-08T07:32:56.544Z"
   },
   {
    "duration": 34,
    "start_time": "2022-05-08T07:32:56.594Z"
   },
   {
    "duration": 5,
    "start_time": "2022-05-08T07:32:56.630Z"
   },
   {
    "duration": 72,
    "start_time": "2022-05-08T07:32:56.637Z"
   },
   {
    "duration": 12,
    "start_time": "2022-05-08T07:32:56.711Z"
   },
   {
    "duration": 14,
    "start_time": "2022-05-08T07:32:56.728Z"
   },
   {
    "duration": 21,
    "start_time": "2022-05-08T07:32:56.744Z"
   },
   {
    "duration": 58,
    "start_time": "2022-05-08T07:32:56.767Z"
   },
   {
    "duration": 20,
    "start_time": "2022-05-08T07:32:56.827Z"
   },
   {
    "duration": 5,
    "start_time": "2022-05-08T07:32:56.849Z"
   },
   {
    "duration": 137,
    "start_time": "2022-05-08T07:32:56.856Z"
   },
   {
    "duration": 692,
    "start_time": "2022-05-08T07:32:56.995Z"
   },
   {
    "duration": 33,
    "start_time": "2022-05-08T07:32:57.694Z"
   },
   {
    "duration": 1234,
    "start_time": "2022-05-08T07:32:57.729Z"
   },
   {
    "duration": 8,
    "start_time": "2022-05-08T07:32:58.965Z"
   },
   {
    "duration": 29,
    "start_time": "2022-05-08T07:32:58.975Z"
   },
   {
    "duration": 28,
    "start_time": "2022-05-08T07:32:59.006Z"
   },
   {
    "duration": 729,
    "start_time": "2022-05-08T07:32:59.036Z"
   },
   {
    "duration": 9,
    "start_time": "2022-05-08T07:32:59.767Z"
   },
   {
    "duration": 418,
    "start_time": "2022-05-08T07:32:59.778Z"
   },
   {
    "duration": 358,
    "start_time": "2022-05-08T07:33:00.199Z"
   },
   {
    "duration": 10,
    "start_time": "2022-05-08T07:33:00.559Z"
   },
   {
    "duration": 21,
    "start_time": "2022-05-08T07:33:00.572Z"
   },
   {
    "duration": 13,
    "start_time": "2022-05-08T07:33:00.596Z"
   },
   {
    "duration": 1159,
    "start_time": "2022-05-08T07:33:20.267Z"
   },
   {
    "duration": 754,
    "start_time": "2022-05-08T07:33:23.472Z"
   },
   {
    "duration": 648,
    "start_time": "2022-05-08T07:33:31.927Z"
   },
   {
    "duration": 756,
    "start_time": "2022-05-08T07:33:41.514Z"
   },
   {
    "duration": 703,
    "start_time": "2022-05-08T07:33:52.917Z"
   },
   {
    "duration": 732,
    "start_time": "2022-05-08T07:34:02.903Z"
   },
   {
    "duration": 746,
    "start_time": "2022-05-08T07:34:09.709Z"
   },
   {
    "duration": 707,
    "start_time": "2022-05-08T07:34:21.412Z"
   },
   {
    "duration": 658,
    "start_time": "2022-05-08T07:34:28.754Z"
   },
   {
    "duration": 731,
    "start_time": "2022-05-08T07:34:35.568Z"
   },
   {
    "duration": 1134,
    "start_time": "2022-05-08T07:46:45.120Z"
   },
   {
    "duration": 1033,
    "start_time": "2022-05-08T07:46:57.318Z"
   },
   {
    "duration": 1058,
    "start_time": "2022-05-08T07:47:07.168Z"
   },
   {
    "duration": 1211,
    "start_time": "2022-05-08T07:47:21.368Z"
   },
   {
    "duration": 392,
    "start_time": "2022-05-08T07:50:29.417Z"
   },
   {
    "duration": 535,
    "start_time": "2022-05-08T07:50:54.315Z"
   },
   {
    "duration": 590,
    "start_time": "2022-05-08T07:51:12.271Z"
   },
   {
    "duration": 400,
    "start_time": "2022-05-08T07:52:30.942Z"
   },
   {
    "duration": 400,
    "start_time": "2022-05-08T07:52:36.266Z"
   },
   {
    "duration": 393,
    "start_time": "2022-05-08T07:52:48.467Z"
   },
   {
    "duration": 397,
    "start_time": "2022-05-08T07:52:58.154Z"
   },
   {
    "duration": 725,
    "start_time": "2022-05-08T08:06:39.542Z"
   },
   {
    "duration": 575,
    "start_time": "2022-05-08T08:06:46.990Z"
   },
   {
    "duration": 647,
    "start_time": "2022-05-08T08:06:50.788Z"
   },
   {
    "duration": 916,
    "start_time": "2022-05-08T08:07:00.072Z"
   },
   {
    "duration": 672,
    "start_time": "2022-05-08T08:14:25.441Z"
   },
   {
    "duration": 428,
    "start_time": "2022-05-08T08:14:55.681Z"
   },
   {
    "duration": 9,
    "start_time": "2022-05-08T08:16:21.451Z"
   },
   {
    "duration": 4170,
    "start_time": "2022-05-08T08:16:50.115Z"
   },
   {
    "duration": 17,
    "start_time": "2022-05-08T08:17:02.031Z"
   },
   {
    "duration": 18,
    "start_time": "2022-05-08T08:20:08.841Z"
   },
   {
    "duration": 1710,
    "start_time": "2022-05-08T08:20:49.041Z"
   },
   {
    "duration": 205,
    "start_time": "2022-05-08T08:20:50.754Z"
   },
   {
    "duration": 69,
    "start_time": "2022-05-08T08:20:50.961Z"
   },
   {
    "duration": 34,
    "start_time": "2022-05-08T08:20:51.032Z"
   },
   {
    "duration": 47,
    "start_time": "2022-05-08T08:20:51.070Z"
   },
   {
    "duration": 32,
    "start_time": "2022-05-08T08:20:51.120Z"
   },
   {
    "duration": 8,
    "start_time": "2022-05-08T08:20:51.154Z"
   },
   {
    "duration": 71,
    "start_time": "2022-05-08T08:20:51.164Z"
   },
   {
    "duration": 13,
    "start_time": "2022-05-08T08:20:51.237Z"
   },
   {
    "duration": 76,
    "start_time": "2022-05-08T08:20:51.253Z"
   },
   {
    "duration": 4,
    "start_time": "2022-05-08T08:20:51.331Z"
   },
   {
    "duration": 36,
    "start_time": "2022-05-08T08:20:51.338Z"
   },
   {
    "duration": 42,
    "start_time": "2022-05-08T08:20:51.376Z"
   },
   {
    "duration": 8,
    "start_time": "2022-05-08T08:20:51.426Z"
   },
   {
    "duration": 20,
    "start_time": "2022-05-08T08:20:51.437Z"
   },
   {
    "duration": 78,
    "start_time": "2022-05-08T08:20:51.459Z"
   },
   {
    "duration": 19,
    "start_time": "2022-05-08T08:20:51.539Z"
   },
   {
    "duration": 4,
    "start_time": "2022-05-08T08:20:51.560Z"
   },
   {
    "duration": 141,
    "start_time": "2022-05-08T08:20:51.566Z"
   },
   {
    "duration": 772,
    "start_time": "2022-05-08T08:20:51.710Z"
   },
   {
    "duration": 50,
    "start_time": "2022-05-08T08:20:52.484Z"
   },
   {
    "duration": 1370,
    "start_time": "2022-05-08T08:20:52.537Z"
   },
   {
    "duration": 8,
    "start_time": "2022-05-08T08:20:53.910Z"
   },
   {
    "duration": 17,
    "start_time": "2022-05-08T08:20:53.921Z"
   },
   {
    "duration": 73,
    "start_time": "2022-05-08T08:20:53.941Z"
   },
   {
    "duration": 736,
    "start_time": "2022-05-08T08:20:54.017Z"
   },
   {
    "duration": 9,
    "start_time": "2022-05-08T08:20:54.755Z"
   },
   {
    "duration": 478,
    "start_time": "2022-05-08T08:20:54.767Z"
   },
   {
    "duration": 407,
    "start_time": "2022-05-08T08:20:55.247Z"
   },
   {
    "duration": 474,
    "start_time": "2022-05-08T08:20:55.656Z"
   },
   {
    "duration": 11,
    "start_time": "2022-05-08T08:20:56.133Z"
   },
   {
    "duration": 8,
    "start_time": "2022-05-08T08:20:56.146Z"
   },
   {
    "duration": 23594,
    "start_time": "2022-05-08T08:20:58.745Z"
   },
   {
    "duration": 978,
    "start_time": "2022-05-08T08:22:08.842Z"
   },
   {
    "duration": 907,
    "start_time": "2022-05-08T08:22:24.443Z"
   },
   {
    "duration": 923,
    "start_time": "2022-05-08T08:22:50.472Z"
   },
   {
    "duration": 1690,
    "start_time": "2022-05-08T08:23:26.883Z"
   },
   {
    "duration": 1027,
    "start_time": "2022-05-08T08:23:41.014Z"
   },
   {
    "duration": 1093,
    "start_time": "2022-05-08T08:23:48.464Z"
   },
   {
    "duration": 1091,
    "start_time": "2022-05-08T08:24:17.689Z"
   },
   {
    "duration": 1110,
    "start_time": "2022-05-08T08:24:25.342Z"
   },
   {
    "duration": 1133,
    "start_time": "2022-05-08T08:24:29.669Z"
   },
   {
    "duration": 1152,
    "start_time": "2022-05-08T08:24:35.362Z"
   },
   {
    "duration": 1147,
    "start_time": "2022-05-08T08:24:54.027Z"
   },
   {
    "duration": 1193,
    "start_time": "2022-05-08T08:25:02.822Z"
   },
   {
    "duration": 1183,
    "start_time": "2022-05-08T08:25:35.462Z"
   },
   {
    "duration": 1189,
    "start_time": "2022-05-08T08:25:45.227Z"
   },
   {
    "duration": 689,
    "start_time": "2022-05-08T08:25:49.244Z"
   },
   {
    "duration": 1215,
    "start_time": "2022-05-08T08:28:17.724Z"
   },
   {
    "duration": 1183,
    "start_time": "2022-05-08T08:28:55.023Z"
   },
   {
    "duration": 1176,
    "start_time": "2022-05-08T08:29:17.076Z"
   },
   {
    "duration": 1200,
    "start_time": "2022-05-08T08:29:31.548Z"
   },
   {
    "duration": 1184,
    "start_time": "2022-05-08T08:29:41.221Z"
   },
   {
    "duration": 1669,
    "start_time": "2022-05-08T08:30:49.420Z"
   },
   {
    "duration": 180,
    "start_time": "2022-05-08T08:30:51.092Z"
   },
   {
    "duration": 56,
    "start_time": "2022-05-08T08:30:51.274Z"
   },
   {
    "duration": 23,
    "start_time": "2022-05-08T08:30:51.332Z"
   },
   {
    "duration": 38,
    "start_time": "2022-05-08T08:30:51.359Z"
   },
   {
    "duration": 47,
    "start_time": "2022-05-08T08:30:51.400Z"
   },
   {
    "duration": 8,
    "start_time": "2022-05-08T08:30:51.449Z"
   },
   {
    "duration": 64,
    "start_time": "2022-05-08T08:30:51.459Z"
   },
   {
    "duration": 9,
    "start_time": "2022-05-08T08:30:51.525Z"
   },
   {
    "duration": 32,
    "start_time": "2022-05-08T08:30:51.536Z"
   },
   {
    "duration": 5,
    "start_time": "2022-05-08T08:30:51.601Z"
   },
   {
    "duration": 51,
    "start_time": "2022-05-08T08:30:51.609Z"
   },
   {
    "duration": 11,
    "start_time": "2022-05-08T08:30:51.662Z"
   },
   {
    "duration": 21,
    "start_time": "2022-05-08T08:30:51.677Z"
   },
   {
    "duration": 33,
    "start_time": "2022-05-08T08:30:51.702Z"
   },
   {
    "duration": 32,
    "start_time": "2022-05-08T08:30:51.737Z"
   },
   {
    "duration": 41,
    "start_time": "2022-05-08T08:30:51.771Z"
   },
   {
    "duration": 13,
    "start_time": "2022-05-08T08:30:51.815Z"
   },
   {
    "duration": 133,
    "start_time": "2022-05-08T08:30:51.831Z"
   },
   {
    "duration": 771,
    "start_time": "2022-05-08T08:30:51.966Z"
   },
   {
    "duration": 28,
    "start_time": "2022-05-08T08:30:52.739Z"
   },
   {
    "duration": 1279,
    "start_time": "2022-05-08T08:30:52.769Z"
   },
   {
    "duration": 8,
    "start_time": "2022-05-08T08:30:54.050Z"
   },
   {
    "duration": 20,
    "start_time": "2022-05-08T08:30:54.060Z"
   },
   {
    "duration": 35,
    "start_time": "2022-05-08T08:30:54.097Z"
   },
   {
    "duration": 869,
    "start_time": "2022-05-08T08:30:54.134Z"
   },
   {
    "duration": 14,
    "start_time": "2022-05-08T08:30:55.006Z"
   },
   {
    "duration": 501,
    "start_time": "2022-05-08T08:30:55.023Z"
   },
   {
    "duration": 403,
    "start_time": "2022-05-08T08:30:55.526Z"
   },
   {
    "duration": 473,
    "start_time": "2022-05-08T08:30:55.931Z"
   },
   {
    "duration": 16,
    "start_time": "2022-05-08T08:30:56.412Z"
   },
   {
    "duration": 9,
    "start_time": "2022-05-08T08:30:56.430Z"
   },
   {
    "duration": 5,
    "start_time": "2022-05-08T08:30:56.442Z"
   },
   {
    "duration": 160,
    "start_time": "2022-05-08T08:32:03.818Z"
   },
   {
    "duration": 233,
    "start_time": "2022-05-08T08:32:12.419Z"
   },
   {
    "duration": 246,
    "start_time": "2022-05-08T08:32:29.059Z"
   },
   {
    "duration": 265,
    "start_time": "2022-05-08T08:32:38.470Z"
   },
   {
    "duration": 246,
    "start_time": "2022-05-08T08:32:42.721Z"
   },
   {
    "duration": 918,
    "start_time": "2022-05-08T08:33:07.385Z"
   },
   {
    "duration": 14,
    "start_time": "2022-05-08T08:33:22.315Z"
   },
   {
    "duration": 35,
    "start_time": "2022-05-08T08:33:27.118Z"
   },
   {
    "duration": 304,
    "start_time": "2022-05-08T08:34:19.114Z"
   },
   {
    "duration": 9,
    "start_time": "2022-05-08T08:34:36.542Z"
   },
   {
    "duration": 1872,
    "start_time": "2022-05-08T08:34:41.913Z"
   },
   {
    "duration": 8,
    "start_time": "2022-05-08T08:35:48.118Z"
   },
   {
    "duration": 1245,
    "start_time": "2022-05-08T08:36:40.247Z"
   },
   {
    "duration": 13,
    "start_time": "2022-05-08T08:38:36.846Z"
   },
   {
    "duration": 18,
    "start_time": "2022-05-08T08:39:02.992Z"
   },
   {
    "duration": 7,
    "start_time": "2022-05-08T08:40:00.131Z"
   },
   {
    "duration": 7,
    "start_time": "2022-05-08T08:40:01.751Z"
   },
   {
    "duration": 25,
    "start_time": "2022-05-08T08:40:02.917Z"
   },
   {
    "duration": 19,
    "start_time": "2022-05-08T08:40:29.566Z"
   },
   {
    "duration": 18,
    "start_time": "2022-05-08T08:40:32.142Z"
   },
   {
    "duration": 14,
    "start_time": "2022-05-08T08:41:00.077Z"
   },
   {
    "duration": 19,
    "start_time": "2022-05-08T08:41:00.986Z"
   },
   {
    "duration": 420,
    "start_time": "2022-05-08T08:41:50.287Z"
   },
   {
    "duration": 27,
    "start_time": "2022-05-08T08:42:53.690Z"
   },
   {
    "duration": 899,
    "start_time": "2022-05-08T08:47:50.429Z"
   },
   {
    "duration": 908,
    "start_time": "2022-05-08T08:47:59.805Z"
   },
   {
    "duration": 934,
    "start_time": "2022-05-08T08:48:03.028Z"
   },
   {
    "duration": 949,
    "start_time": "2022-05-08T08:48:29.609Z"
   },
   {
    "duration": 1014,
    "start_time": "2022-05-08T08:48:35.167Z"
   },
   {
    "duration": 899,
    "start_time": "2022-05-08T08:48:45.477Z"
   },
   {
    "duration": 929,
    "start_time": "2022-05-08T08:49:01.447Z"
   },
   {
    "duration": 866,
    "start_time": "2022-05-08T08:49:10.515Z"
   },
   {
    "duration": 33,
    "start_time": "2022-05-08T08:52:04.705Z"
   },
   {
    "duration": 201,
    "start_time": "2022-05-08T08:52:33.483Z"
   },
   {
    "duration": 30,
    "start_time": "2022-05-08T08:52:44.566Z"
   },
   {
    "duration": 32,
    "start_time": "2022-05-08T08:53:05.212Z"
   },
   {
    "duration": 40,
    "start_time": "2022-05-08T08:53:37.188Z"
   },
   {
    "duration": 30,
    "start_time": "2022-05-08T08:53:51.056Z"
   },
   {
    "duration": 32,
    "start_time": "2022-05-08T08:54:34.416Z"
   },
   {
    "duration": 34,
    "start_time": "2022-05-08T08:54:45.081Z"
   },
   {
    "duration": 38,
    "start_time": "2022-05-08T08:54:59.562Z"
   },
   {
    "duration": 30,
    "start_time": "2022-05-08T08:55:13.766Z"
   },
   {
    "duration": 28,
    "start_time": "2022-05-08T08:55:58.211Z"
   },
   {
    "duration": 29,
    "start_time": "2022-05-08T08:56:48.842Z"
   },
   {
    "duration": 28,
    "start_time": "2022-05-08T08:56:49.932Z"
   },
   {
    "duration": 17,
    "start_time": "2022-05-08T09:05:10.644Z"
   },
   {
    "duration": 45,
    "start_time": "2022-05-08T09:07:57.830Z"
   },
   {
    "duration": 8,
    "start_time": "2022-05-08T09:16:53.423Z"
   },
   {
    "duration": 7,
    "start_time": "2022-05-08T09:17:02.026Z"
   },
   {
    "duration": 4254,
    "start_time": "2022-05-08T09:19:37.306Z"
   },
   {
    "duration": 5,
    "start_time": "2022-05-08T09:21:20.346Z"
   },
   {
    "duration": 12,
    "start_time": "2022-05-08T09:21:31.005Z"
   },
   {
    "duration": 5,
    "start_time": "2022-05-08T09:21:44.812Z"
   },
   {
    "duration": 5,
    "start_time": "2022-05-08T09:22:34.826Z"
   },
   {
    "duration": 4,
    "start_time": "2022-05-08T09:23:47.720Z"
   },
   {
    "duration": 5,
    "start_time": "2022-05-08T09:23:53.782Z"
   },
   {
    "duration": 377,
    "start_time": "2022-05-08T09:25:37.011Z"
   },
   {
    "duration": 3682,
    "start_time": "2022-05-08T09:25:43.178Z"
   },
   {
    "duration": 12,
    "start_time": "2022-05-08T09:32:51.947Z"
   },
   {
    "duration": 43,
    "start_time": "2022-05-08T09:32:55.135Z"
   },
   {
    "duration": 13,
    "start_time": "2022-05-08T09:32:59.549Z"
   },
   {
    "duration": 3656,
    "start_time": "2022-05-08T09:33:29.284Z"
   },
   {
    "duration": 3425,
    "start_time": "2022-05-08T09:33:43.770Z"
   },
   {
    "duration": 3480,
    "start_time": "2022-05-08T09:34:24.671Z"
   },
   {
    "duration": 56,
    "start_time": "2022-05-08T09:34:54.011Z"
   },
   {
    "duration": 3632,
    "start_time": "2022-05-08T09:42:04.438Z"
   },
   {
    "duration": 1378,
    "start_time": "2022-05-08T09:47:43.882Z"
   },
   {
    "duration": 1417,
    "start_time": "2022-05-08T10:12:43.886Z"
   },
   {
    "duration": 27,
    "start_time": "2022-05-08T10:14:55.723Z"
   },
   {
    "duration": 496,
    "start_time": "2022-05-08T10:15:03.374Z"
   },
   {
    "duration": 16,
    "start_time": "2022-05-08T10:16:19.475Z"
   },
   {
    "duration": 11,
    "start_time": "2022-05-08T10:16:59.392Z"
   },
   {
    "duration": 13,
    "start_time": "2022-05-08T10:17:06.147Z"
   },
   {
    "duration": 8,
    "start_time": "2022-05-08T10:17:09.195Z"
   },
   {
    "duration": 221,
    "start_time": "2022-05-08T10:17:34.309Z"
   },
   {
    "duration": 367,
    "start_time": "2022-05-08T10:17:42.737Z"
   },
   {
    "duration": 12,
    "start_time": "2022-05-08T10:17:52.062Z"
   },
   {
    "duration": 12,
    "start_time": "2022-05-08T10:17:55.653Z"
   },
   {
    "duration": 526,
    "start_time": "2022-05-08T10:18:30.988Z"
   },
   {
    "duration": 491,
    "start_time": "2022-05-08T10:20:32.198Z"
   },
   {
    "duration": 936,
    "start_time": "2022-05-08T10:24:23.177Z"
   },
   {
    "duration": 505,
    "start_time": "2022-05-08T10:25:35.209Z"
   },
   {
    "duration": 502,
    "start_time": "2022-05-08T10:25:52.176Z"
   },
   {
    "duration": 209,
    "start_time": "2022-05-08T10:28:53.892Z"
   },
   {
    "duration": 31,
    "start_time": "2022-05-08T10:29:02.699Z"
   },
   {
    "duration": 243,
    "start_time": "2022-05-08T10:29:06.928Z"
   },
   {
    "duration": 243,
    "start_time": "2022-05-08T10:32:27.239Z"
   },
   {
    "duration": 228,
    "start_time": "2022-05-08T10:32:34.116Z"
   },
   {
    "duration": 971,
    "start_time": "2022-05-08T10:40:48.523Z"
   },
   {
    "duration": 7,
    "start_time": "2022-05-08T10:41:07.779Z"
   },
   {
    "duration": 12,
    "start_time": "2022-05-08T10:42:23.952Z"
   },
   {
    "duration": 24,
    "start_time": "2022-05-08T10:42:41.817Z"
   },
   {
    "duration": 8,
    "start_time": "2022-05-08T10:43:45.008Z"
   },
   {
    "duration": 6,
    "start_time": "2022-05-08T10:43:50.172Z"
   },
   {
    "duration": 13,
    "start_time": "2022-05-08T10:44:05.548Z"
   },
   {
    "duration": 7,
    "start_time": "2022-05-08T10:44:10.012Z"
   },
   {
    "duration": 8,
    "start_time": "2022-05-08T11:05:53.536Z"
   },
   {
    "duration": 17,
    "start_time": "2022-05-08T11:10:35.056Z"
   },
   {
    "duration": 15,
    "start_time": "2022-05-08T11:10:40.975Z"
   },
   {
    "duration": 242,
    "start_time": "2022-05-08T11:11:05.397Z"
   },
   {
    "duration": 16,
    "start_time": "2022-05-08T11:11:39.765Z"
   },
   {
    "duration": 15,
    "start_time": "2022-05-08T11:11:55.155Z"
   },
   {
    "duration": 3215,
    "start_time": "2022-05-08T11:19:37.370Z"
   },
   {
    "duration": 18,
    "start_time": "2022-05-08T11:20:36.165Z"
   },
   {
    "duration": 17,
    "start_time": "2022-05-08T11:21:47.070Z"
   },
   {
    "duration": 216,
    "start_time": "2022-05-08T11:23:34.310Z"
   },
   {
    "duration": 9,
    "start_time": "2022-05-08T11:23:55.240Z"
   },
   {
    "duration": 19,
    "start_time": "2022-05-08T11:24:01.032Z"
   },
   {
    "duration": 14,
    "start_time": "2022-05-08T11:24:30.671Z"
   },
   {
    "duration": 13,
    "start_time": "2022-05-08T11:25:15.720Z"
   },
   {
    "duration": 191,
    "start_time": "2022-05-08T11:25:30.316Z"
   },
   {
    "duration": 137,
    "start_time": "2022-05-08T11:25:40.635Z"
   },
   {
    "duration": 153,
    "start_time": "2022-05-08T11:26:57.636Z"
   },
   {
    "duration": 214,
    "start_time": "2022-05-08T11:27:46.055Z"
   },
   {
    "duration": 173,
    "start_time": "2022-05-08T11:28:29.310Z"
   },
   {
    "duration": 346,
    "start_time": "2022-05-08T11:29:09.280Z"
   },
   {
    "duration": 356,
    "start_time": "2022-05-08T11:29:18.510Z"
   },
   {
    "duration": 194,
    "start_time": "2022-05-08T11:29:30.585Z"
   },
   {
    "duration": 205,
    "start_time": "2022-05-08T11:29:35.930Z"
   },
   {
    "duration": 133,
    "start_time": "2022-05-08T11:29:47.930Z"
   },
   {
    "duration": 314,
    "start_time": "2022-05-08T11:30:42.910Z"
   },
   {
    "duration": 1457,
    "start_time": "2022-05-08T11:31:16.522Z"
   },
   {
    "duration": 164,
    "start_time": "2022-05-08T11:31:17.981Z"
   },
   {
    "duration": 41,
    "start_time": "2022-05-08T11:31:18.147Z"
   },
   {
    "duration": 22,
    "start_time": "2022-05-08T11:31:18.190Z"
   },
   {
    "duration": 20,
    "start_time": "2022-05-08T11:31:18.214Z"
   },
   {
    "duration": 26,
    "start_time": "2022-05-08T11:31:18.236Z"
   },
   {
    "duration": 33,
    "start_time": "2022-05-08T11:31:18.265Z"
   },
   {
    "duration": 35,
    "start_time": "2022-05-08T11:31:18.300Z"
   },
   {
    "duration": 11,
    "start_time": "2022-05-08T11:31:18.338Z"
   },
   {
    "duration": 70,
    "start_time": "2022-05-08T11:31:18.351Z"
   },
   {
    "duration": 4,
    "start_time": "2022-05-08T11:31:18.424Z"
   },
   {
    "duration": 63,
    "start_time": "2022-05-08T11:31:18.430Z"
   },
   {
    "duration": 11,
    "start_time": "2022-05-08T11:31:18.496Z"
   },
   {
    "duration": 9,
    "start_time": "2022-05-08T11:31:18.515Z"
   },
   {
    "duration": 21,
    "start_time": "2022-05-08T11:31:18.526Z"
   },
   {
    "duration": 77,
    "start_time": "2022-05-08T11:31:18.550Z"
   },
   {
    "duration": 20,
    "start_time": "2022-05-08T11:31:18.630Z"
   },
   {
    "duration": 9,
    "start_time": "2022-05-08T11:31:18.653Z"
   },
   {
    "duration": 115,
    "start_time": "2022-05-08T11:31:18.693Z"
   },
   {
    "duration": 691,
    "start_time": "2022-05-08T11:31:18.810Z"
   },
   {
    "duration": 35,
    "start_time": "2022-05-08T11:31:19.503Z"
   },
   {
    "duration": 1355,
    "start_time": "2022-05-08T11:31:19.541Z"
   },
   {
    "duration": 10,
    "start_time": "2022-05-08T11:31:20.899Z"
   },
   {
    "duration": 14,
    "start_time": "2022-05-08T11:31:20.912Z"
   },
   {
    "duration": 66,
    "start_time": "2022-05-08T11:31:20.928Z"
   },
   {
    "duration": 783,
    "start_time": "2022-05-08T11:31:20.997Z"
   },
   {
    "duration": 9,
    "start_time": "2022-05-08T11:31:21.792Z"
   },
   {
    "duration": 434,
    "start_time": "2022-05-08T11:31:21.803Z"
   },
   {
    "duration": 357,
    "start_time": "2022-05-08T11:31:22.239Z"
   },
   {
    "duration": 426,
    "start_time": "2022-05-08T11:31:22.598Z"
   },
   {
    "duration": 10,
    "start_time": "2022-05-08T11:31:23.027Z"
   },
   {
    "duration": 11,
    "start_time": "2022-05-08T11:31:23.040Z"
   },
   {
    "duration": 849,
    "start_time": "2022-05-08T11:31:23.053Z"
   },
   {
    "duration": 26,
    "start_time": "2022-05-08T11:31:23.905Z"
   },
   {
    "duration": 3138,
    "start_time": "2022-05-08T11:31:23.934Z"
   },
   {
    "duration": 1425,
    "start_time": "2022-05-08T11:31:27.075Z"
   },
   {
    "duration": 577,
    "start_time": "2022-05-08T11:31:28.502Z"
   },
   {
    "duration": 38,
    "start_time": "2022-05-08T11:31:29.082Z"
   },
   {
    "duration": 9,
    "start_time": "2022-05-08T11:31:29.122Z"
   },
   {
    "duration": 10,
    "start_time": "2022-05-08T11:31:29.133Z"
   },
   {
    "duration": 47,
    "start_time": "2022-05-08T11:31:29.149Z"
   },
   {
    "duration": 27,
    "start_time": "2022-05-08T11:31:29.199Z"
   },
   {
    "duration": 10,
    "start_time": "2022-05-08T11:31:29.228Z"
   },
   {
    "duration": 55,
    "start_time": "2022-05-08T11:31:29.240Z"
   },
   {
    "duration": 11,
    "start_time": "2022-05-08T11:31:29.298Z"
   },
   {
    "duration": 331,
    "start_time": "2022-05-08T11:31:43.467Z"
   },
   {
    "duration": 203,
    "start_time": "2022-05-08T11:33:51.627Z"
   },
   {
    "duration": 205,
    "start_time": "2022-05-08T11:34:46.272Z"
   },
   {
    "duration": 274,
    "start_time": "2022-05-08T11:35:02.010Z"
   },
   {
    "duration": 156,
    "start_time": "2022-05-08T11:37:13.703Z"
   },
   {
    "duration": 176,
    "start_time": "2022-05-08T11:38:29.982Z"
   },
   {
    "duration": 292,
    "start_time": "2022-05-08T11:39:15.613Z"
   },
   {
    "duration": 265,
    "start_time": "2022-05-08T11:39:24.503Z"
   },
   {
    "duration": 397,
    "start_time": "2022-05-08T11:40:00.823Z"
   },
   {
    "duration": 27,
    "start_time": "2022-05-08T11:41:21.867Z"
   },
   {
    "duration": 9,
    "start_time": "2022-05-08T11:41:23.947Z"
   },
   {
    "duration": 10,
    "start_time": "2022-05-08T11:41:24.632Z"
   },
   {
    "duration": 10,
    "start_time": "2022-05-08T11:41:25.163Z"
   },
   {
    "duration": 389,
    "start_time": "2022-05-08T11:41:25.958Z"
   },
   {
    "duration": 14,
    "start_time": "2022-05-08T11:42:34.968Z"
   },
   {
    "duration": 15,
    "start_time": "2022-05-08T11:42:48.449Z"
   },
   {
    "duration": 14,
    "start_time": "2022-05-08T11:43:17.247Z"
   },
   {
    "duration": 281,
    "start_time": "2022-05-08T11:43:33.018Z"
   },
   {
    "duration": 7,
    "start_time": "2022-05-08T11:43:47.727Z"
   },
   {
    "duration": 17,
    "start_time": "2022-05-08T11:44:03.228Z"
   },
   {
    "duration": 10,
    "start_time": "2022-05-08T11:44:35.467Z"
   },
   {
    "duration": 11,
    "start_time": "2022-05-08T11:45:44.512Z"
   },
   {
    "duration": 378,
    "start_time": "2022-05-08T11:45:58.238Z"
   },
   {
    "duration": 11,
    "start_time": "2022-05-08T11:46:08.007Z"
   },
   {
    "duration": 503,
    "start_time": "2022-05-08T11:46:26.667Z"
   },
   {
    "duration": 411,
    "start_time": "2022-05-08T11:47:27.976Z"
   },
   {
    "duration": 4,
    "start_time": "2022-05-08T11:54:08.218Z"
   },
   {
    "duration": 5,
    "start_time": "2022-05-08T11:54:14.260Z"
   },
   {
    "duration": 3480,
    "start_time": "2022-05-08T11:54:51.748Z"
   },
   {
    "duration": 3415,
    "start_time": "2022-05-08T11:55:12.409Z"
   },
   {
    "duration": 6,
    "start_time": "2022-05-08T11:55:23.057Z"
   },
   {
    "duration": 3711,
    "start_time": "2022-05-08T11:55:25.369Z"
   },
   {
    "duration": 9,
    "start_time": "2022-05-08T11:55:49.387Z"
   },
   {
    "duration": 3549,
    "start_time": "2022-05-08T11:57:09.710Z"
   },
   {
    "duration": 3552,
    "start_time": "2022-05-08T11:57:35.228Z"
   },
   {
    "duration": 3451,
    "start_time": "2022-05-08T11:58:28.284Z"
   },
   {
    "duration": 7,
    "start_time": "2022-05-08T11:58:49.279Z"
   },
   {
    "duration": 171,
    "start_time": "2022-05-08T11:58:52.493Z"
   },
   {
    "duration": 194,
    "start_time": "2022-05-08T11:58:59.992Z"
   },
   {
    "duration": 171,
    "start_time": "2022-05-08T11:59:08.057Z"
   },
   {
    "duration": 467,
    "start_time": "2022-05-08T11:59:42.048Z"
   },
   {
    "duration": 7,
    "start_time": "2022-05-08T11:59:51.620Z"
   },
   {
    "duration": 459,
    "start_time": "2022-05-08T11:59:53.761Z"
   },
   {
    "duration": 200,
    "start_time": "2022-05-08T12:01:13.559Z"
   },
   {
    "duration": 34,
    "start_time": "2022-05-08T12:01:19.337Z"
   },
   {
    "duration": 401,
    "start_time": "2022-05-08T12:01:21.819Z"
   },
   {
    "duration": 25,
    "start_time": "2022-05-08T12:01:50.387Z"
   },
   {
    "duration": 555,
    "start_time": "2022-05-08T12:01:53.491Z"
   },
   {
    "duration": 4,
    "start_time": "2022-05-08T12:03:38.488Z"
   },
   {
    "duration": 185,
    "start_time": "2022-05-08T12:03:39.817Z"
   },
   {
    "duration": 5,
    "start_time": "2022-05-08T12:03:46.674Z"
   },
   {
    "duration": 383,
    "start_time": "2022-05-08T12:03:48.658Z"
   },
   {
    "duration": 515,
    "start_time": "2022-05-08T12:04:16.992Z"
   },
   {
    "duration": 422,
    "start_time": "2022-05-08T12:04:29.712Z"
   },
   {
    "duration": 400,
    "start_time": "2022-05-08T12:04:34.412Z"
   },
   {
    "duration": 412,
    "start_time": "2022-05-08T12:04:40.013Z"
   },
   {
    "duration": 409,
    "start_time": "2022-05-08T12:04:53.193Z"
   },
   {
    "duration": 594,
    "start_time": "2022-05-08T12:05:00.664Z"
   },
   {
    "duration": 409,
    "start_time": "2022-05-08T12:05:06.108Z"
   },
   {
    "duration": 505,
    "start_time": "2022-05-08T12:05:12.142Z"
   },
   {
    "duration": 491,
    "start_time": "2022-05-08T12:05:19.422Z"
   },
   {
    "duration": 601,
    "start_time": "2022-05-08T12:05:24.080Z"
   },
   {
    "duration": 395,
    "start_time": "2022-05-08T12:05:45.164Z"
   },
   {
    "duration": 403,
    "start_time": "2022-05-08T12:05:57.173Z"
   },
   {
    "duration": 403,
    "start_time": "2022-05-08T12:07:14.700Z"
   },
   {
    "duration": 17,
    "start_time": "2022-05-08T12:09:13.703Z"
   },
   {
    "duration": 16,
    "start_time": "2022-05-08T12:09:19.758Z"
   },
   {
    "duration": 1558,
    "start_time": "2022-05-08T12:09:33.675Z"
   },
   {
    "duration": 153,
    "start_time": "2022-05-08T12:09:35.236Z"
   },
   {
    "duration": 43,
    "start_time": "2022-05-08T12:09:35.391Z"
   },
   {
    "duration": 23,
    "start_time": "2022-05-08T12:09:35.437Z"
   },
   {
    "duration": 39,
    "start_time": "2022-05-08T12:09:35.462Z"
   },
   {
    "duration": 34,
    "start_time": "2022-05-08T12:09:35.503Z"
   },
   {
    "duration": 9,
    "start_time": "2022-05-08T12:09:35.539Z"
   },
   {
    "duration": 62,
    "start_time": "2022-05-08T12:09:35.550Z"
   },
   {
    "duration": 21,
    "start_time": "2022-05-08T12:09:35.615Z"
   },
   {
    "duration": 32,
    "start_time": "2022-05-08T12:09:35.641Z"
   },
   {
    "duration": 5,
    "start_time": "2022-05-08T12:09:35.692Z"
   },
   {
    "duration": 44,
    "start_time": "2022-05-08T12:09:35.700Z"
   },
   {
    "duration": 11,
    "start_time": "2022-05-08T12:09:35.746Z"
   },
   {
    "duration": 40,
    "start_time": "2022-05-08T12:09:35.759Z"
   },
   {
    "duration": 18,
    "start_time": "2022-05-08T12:09:44.050Z"
   },
   {
    "duration": 42,
    "start_time": "2022-05-08T12:09:51.292Z"
   },
   {
    "duration": 19,
    "start_time": "2022-05-08T12:09:52.366Z"
   },
   {
    "duration": 5,
    "start_time": "2022-05-08T12:09:52.750Z"
   },
   {
    "duration": 130,
    "start_time": "2022-05-08T12:09:53.410Z"
   },
   {
    "duration": 805,
    "start_time": "2022-05-08T12:09:54.640Z"
   },
   {
    "duration": 30,
    "start_time": "2022-05-08T12:09:55.945Z"
   },
   {
    "duration": 1267,
    "start_time": "2022-05-08T12:09:56.435Z"
   },
   {
    "duration": 10,
    "start_time": "2022-05-08T12:09:57.705Z"
   },
   {
    "duration": 32,
    "start_time": "2022-05-08T12:09:57.718Z"
   },
   {
    "duration": 30,
    "start_time": "2022-05-08T12:09:58.712Z"
   },
   {
    "duration": 714,
    "start_time": "2022-05-08T12:09:59.191Z"
   },
   {
    "duration": 10,
    "start_time": "2022-05-08T12:10:00.610Z"
   },
   {
    "duration": 485,
    "start_time": "2022-05-08T12:10:01.885Z"
   },
   {
    "duration": 385,
    "start_time": "2022-05-08T12:10:03.160Z"
   },
   {
    "duration": 473,
    "start_time": "2022-05-08T12:10:04.011Z"
   },
   {
    "duration": 14,
    "start_time": "2022-05-08T12:10:05.706Z"
   },
   {
    "duration": 7,
    "start_time": "2022-05-08T12:10:06.250Z"
   },
   {
    "duration": 833,
    "start_time": "2022-05-08T12:10:10.320Z"
   },
   {
    "duration": 22,
    "start_time": "2022-05-08T12:10:13.490Z"
   },
   {
    "duration": 3133,
    "start_time": "2022-05-08T12:10:16.525Z"
   },
   {
    "duration": 1392,
    "start_time": "2022-05-08T12:10:32.095Z"
   },
   {
    "duration": 542,
    "start_time": "2022-05-08T12:10:34.560Z"
   },
   {
    "duration": 28,
    "start_time": "2022-05-08T12:10:43.495Z"
   },
   {
    "duration": 10,
    "start_time": "2022-05-08T12:10:45.475Z"
   },
   {
    "duration": 10,
    "start_time": "2022-05-08T12:10:46.507Z"
   },
   {
    "duration": 10,
    "start_time": "2022-05-08T12:10:47.492Z"
   },
   {
    "duration": 28,
    "start_time": "2022-05-08T12:10:49.810Z"
   },
   {
    "duration": 10,
    "start_time": "2022-05-08T12:10:51.115Z"
   },
   {
    "duration": 10,
    "start_time": "2022-05-08T12:10:51.787Z"
   },
   {
    "duration": 10,
    "start_time": "2022-05-08T12:10:52.362Z"
   },
   {
    "duration": 437,
    "start_time": "2022-05-08T12:10:58.441Z"
   },
   {
    "duration": 25,
    "start_time": "2022-05-08T12:12:03.975Z"
   },
   {
    "duration": 543,
    "start_time": "2022-05-08T12:12:44.236Z"
   },
   {
    "duration": 124,
    "start_time": "2022-05-08T12:14:15.276Z"
   },
   {
    "duration": 11,
    "start_time": "2022-05-08T12:14:27.151Z"
   },
   {
    "duration": 436,
    "start_time": "2022-05-08T12:15:27.826Z"
   },
   {
    "duration": 494,
    "start_time": "2022-05-08T12:15:49.981Z"
   },
   {
    "duration": 507,
    "start_time": "2022-05-08T12:15:57.181Z"
   },
   {
    "duration": 438,
    "start_time": "2022-05-08T12:17:08.751Z"
   },
   {
    "duration": 607,
    "start_time": "2022-05-08T12:17:23.810Z"
   },
   {
    "duration": 542,
    "start_time": "2022-05-08T12:17:40.575Z"
   },
   {
    "duration": 548,
    "start_time": "2022-05-08T12:17:47.792Z"
   },
   {
    "duration": 659,
    "start_time": "2022-05-08T12:17:59.050Z"
   },
   {
    "duration": 574,
    "start_time": "2022-05-08T12:18:11.868Z"
   },
   {
    "duration": 411,
    "start_time": "2022-05-08T12:18:20.042Z"
   },
   {
    "duration": 1526,
    "start_time": "2022-05-08T12:18:43.266Z"
   },
   {
    "duration": 154,
    "start_time": "2022-05-08T12:18:44.796Z"
   },
   {
    "duration": 44,
    "start_time": "2022-05-08T12:18:44.952Z"
   },
   {
    "duration": 30,
    "start_time": "2022-05-08T12:18:44.998Z"
   },
   {
    "duration": 21,
    "start_time": "2022-05-08T12:18:45.031Z"
   },
   {
    "duration": 59,
    "start_time": "2022-05-08T12:18:45.054Z"
   },
   {
    "duration": 7,
    "start_time": "2022-05-08T12:18:45.116Z"
   },
   {
    "duration": 35,
    "start_time": "2022-05-08T12:18:45.126Z"
   },
   {
    "duration": 35,
    "start_time": "2022-05-08T12:18:45.164Z"
   },
   {
    "duration": 33,
    "start_time": "2022-05-08T12:18:45.202Z"
   },
   {
    "duration": 4,
    "start_time": "2022-05-08T12:18:45.238Z"
   },
   {
    "duration": 74,
    "start_time": "2022-05-08T12:18:45.245Z"
   },
   {
    "duration": 11,
    "start_time": "2022-05-08T12:18:45.322Z"
   },
   {
    "duration": 7,
    "start_time": "2022-05-08T12:18:45.338Z"
   },
   {
    "duration": 46,
    "start_time": "2022-05-08T12:18:45.347Z"
   },
   {
    "duration": 35,
    "start_time": "2022-05-08T12:18:45.396Z"
   },
   {
    "duration": 18,
    "start_time": "2022-05-08T12:18:45.434Z"
   },
   {
    "duration": 4,
    "start_time": "2022-05-08T12:18:45.455Z"
   },
   {
    "duration": 118,
    "start_time": "2022-05-08T12:18:45.493Z"
   },
   {
    "duration": 705,
    "start_time": "2022-05-08T12:18:45.614Z"
   },
   {
    "duration": 30,
    "start_time": "2022-05-08T12:18:46.321Z"
   },
   {
    "duration": 1197,
    "start_time": "2022-05-08T12:18:46.353Z"
   },
   {
    "duration": 9,
    "start_time": "2022-05-08T12:18:47.552Z"
   },
   {
    "duration": 35,
    "start_time": "2022-05-08T12:18:47.564Z"
   },
   {
    "duration": 27,
    "start_time": "2022-05-08T12:18:47.602Z"
   },
   {
    "duration": 722,
    "start_time": "2022-05-08T12:18:47.631Z"
   },
   {
    "duration": 9,
    "start_time": "2022-05-08T12:18:48.356Z"
   },
   {
    "duration": 437,
    "start_time": "2022-05-08T12:18:48.366Z"
   },
   {
    "duration": 370,
    "start_time": "2022-05-08T12:18:48.806Z"
   },
   {
    "duration": 553,
    "start_time": "2022-05-08T12:18:49.179Z"
   },
   {
    "duration": 14,
    "start_time": "2022-05-08T12:18:49.735Z"
   },
   {
    "duration": 7,
    "start_time": "2022-05-08T12:18:49.751Z"
   },
   {
    "duration": 1009,
    "start_time": "2022-05-08T12:18:49.761Z"
   },
   {
    "duration": 34,
    "start_time": "2022-05-08T12:18:50.772Z"
   },
   {
    "duration": 3179,
    "start_time": "2022-05-08T12:18:50.808Z"
   },
   {
    "duration": 1222,
    "start_time": "2022-05-08T12:18:53.992Z"
   },
   {
    "duration": 483,
    "start_time": "2022-05-08T12:18:55.217Z"
   },
   {
    "duration": 29,
    "start_time": "2022-05-08T12:18:55.703Z"
   },
   {
    "duration": 11,
    "start_time": "2022-05-08T12:18:55.736Z"
   },
   {
    "duration": 43,
    "start_time": "2022-05-08T12:18:55.750Z"
   },
   {
    "duration": 9,
    "start_time": "2022-05-08T12:18:55.799Z"
   },
   {
    "duration": 36,
    "start_time": "2022-05-08T12:18:55.811Z"
   },
   {
    "duration": 9,
    "start_time": "2022-05-08T12:18:55.849Z"
   },
   {
    "duration": 40,
    "start_time": "2022-05-08T12:18:55.860Z"
   },
   {
    "duration": 17,
    "start_time": "2022-05-08T12:18:55.903Z"
   },
   {
    "duration": 458,
    "start_time": "2022-05-08T12:18:55.923Z"
   },
   {
    "duration": 28,
    "start_time": "2022-05-08T12:18:56.383Z"
   },
   {
    "duration": 13,
    "start_time": "2022-05-08T12:18:56.413Z"
   },
   {
    "duration": 617,
    "start_time": "2022-05-08T12:19:01.454Z"
   },
   {
    "duration": 468,
    "start_time": "2022-05-08T12:34:48.034Z"
   },
   {
    "duration": 474,
    "start_time": "2022-05-08T12:35:38.924Z"
   },
   {
    "duration": 1781,
    "start_time": "2022-05-08T12:54:19.594Z"
   },
   {
    "duration": 178,
    "start_time": "2022-05-08T12:54:21.379Z"
   },
   {
    "duration": 49,
    "start_time": "2022-05-08T12:54:21.559Z"
   },
   {
    "duration": 24,
    "start_time": "2022-05-08T12:54:21.612Z"
   },
   {
    "duration": 21,
    "start_time": "2022-05-08T12:54:21.639Z"
   },
   {
    "duration": 53,
    "start_time": "2022-05-08T12:54:21.662Z"
   },
   {
    "duration": 17,
    "start_time": "2022-05-08T12:54:21.717Z"
   },
   {
    "duration": 34,
    "start_time": "2022-05-08T12:54:21.740Z"
   },
   {
    "duration": 9,
    "start_time": "2022-05-08T12:54:21.794Z"
   },
   {
    "duration": 48,
    "start_time": "2022-05-08T12:54:21.806Z"
   },
   {
    "duration": 5,
    "start_time": "2022-05-08T12:54:21.856Z"
   },
   {
    "duration": 58,
    "start_time": "2022-05-08T12:54:21.863Z"
   },
   {
    "duration": 12,
    "start_time": "2022-05-08T12:54:21.928Z"
   },
   {
    "duration": 13,
    "start_time": "2022-05-08T12:54:21.942Z"
   },
   {
    "duration": 49,
    "start_time": "2022-05-08T12:54:21.957Z"
   },
   {
    "duration": 41,
    "start_time": "2022-05-08T12:54:22.009Z"
   },
   {
    "duration": 45,
    "start_time": "2022-05-08T12:54:22.052Z"
   },
   {
    "duration": 5,
    "start_time": "2022-05-08T12:54:22.099Z"
   },
   {
    "duration": 167,
    "start_time": "2022-05-08T12:54:22.106Z"
   },
   {
    "duration": 719,
    "start_time": "2022-05-08T12:54:22.275Z"
   },
   {
    "duration": 39,
    "start_time": "2022-05-08T12:54:22.997Z"
   },
   {
    "duration": 1251,
    "start_time": "2022-05-08T12:54:23.038Z"
   },
   {
    "duration": 10,
    "start_time": "2022-05-08T12:54:24.293Z"
   },
   {
    "duration": 31,
    "start_time": "2022-05-08T12:54:24.305Z"
   },
   {
    "duration": 57,
    "start_time": "2022-05-08T12:54:24.339Z"
   },
   {
    "duration": 1056,
    "start_time": "2022-05-08T12:54:24.399Z"
   },
   {
    "duration": 12,
    "start_time": "2022-05-08T12:54:25.458Z"
   },
   {
    "duration": 440,
    "start_time": "2022-05-08T12:54:25.472Z"
   },
   {
    "duration": 378,
    "start_time": "2022-05-08T12:54:25.915Z"
   },
   {
    "duration": 434,
    "start_time": "2022-05-08T12:54:26.295Z"
   },
   {
    "duration": 11,
    "start_time": "2022-05-08T12:54:26.731Z"
   },
   {
    "duration": 15,
    "start_time": "2022-05-08T12:54:26.744Z"
   },
   {
    "duration": 850,
    "start_time": "2022-05-08T12:54:26.761Z"
   },
   {
    "duration": 24,
    "start_time": "2022-05-08T12:54:27.613Z"
   },
   {
    "duration": 3992,
    "start_time": "2022-05-08T12:54:27.639Z"
   },
   {
    "duration": 1559,
    "start_time": "2022-05-08T12:54:31.634Z"
   },
   {
    "duration": 572,
    "start_time": "2022-05-08T12:54:33.196Z"
   },
   {
    "duration": 45,
    "start_time": "2022-05-08T12:54:33.770Z"
   },
   {
    "duration": 11,
    "start_time": "2022-05-08T12:54:33.819Z"
   },
   {
    "duration": 10,
    "start_time": "2022-05-08T12:54:33.836Z"
   },
   {
    "duration": 50,
    "start_time": "2022-05-08T12:54:33.849Z"
   },
   {
    "duration": 509,
    "start_time": "2022-05-08T12:54:33.901Z"
   },
   {
    "duration": 38,
    "start_time": "2022-05-08T12:54:34.414Z"
   },
   {
    "duration": 13,
    "start_time": "2022-05-08T12:54:34.457Z"
   },
   {
    "duration": 37,
    "start_time": "2022-05-08T12:54:34.473Z"
   },
   {
    "duration": 25,
    "start_time": "2022-05-08T12:54:34.513Z"
   },
   {
    "duration": 668,
    "start_time": "2022-05-08T12:54:34.542Z"
   },
   {
    "duration": 29,
    "start_time": "2022-05-08T12:54:35.216Z"
   },
   {
    "duration": 653,
    "start_time": "2022-05-08T12:54:35.249Z"
   },
   {
    "duration": 28,
    "start_time": "2022-05-08T12:54:35.908Z"
   },
   {
    "duration": 56,
    "start_time": "2022-05-08T12:54:35.938Z"
   }
  ],
  "kernelspec": {
   "display_name": "Python 3.10.5 64-bit",
   "language": "python",
   "name": "python3"
  },
  "language_info": {
   "codemirror_mode": {
    "name": "ipython",
    "version": 3
   },
   "file_extension": ".py",
   "mimetype": "text/x-python",
   "name": "python",
   "nbconvert_exporter": "python",
   "pygments_lexer": "ipython3",
   "version": "3.10.5"
  },
  "toc": {
   "base_numbering": 1,
   "nav_menu": {},
   "number_sections": true,
   "sideBar": true,
   "skip_h1_title": true,
   "title_cell": "Table of Contents",
   "title_sidebar": "Contents",
   "toc_cell": true,
   "toc_position": {
    "height": "calc(100% - 180px)",
    "left": "10px",
    "top": "150px",
    "width": "225.182px"
   },
   "toc_section_display": true,
   "toc_window_display": true
  },
  "vscode": {
   "interpreter": {
    "hash": "62108d3bcabba50a5551c94be0c58944c48365daffc285bf9efbbaced917d542"
   }
  }
 },
 "nbformat": 4,
 "nbformat_minor": 5
}
