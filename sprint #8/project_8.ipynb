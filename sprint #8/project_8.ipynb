{
 "cells": [
  {
   "cell_type": "markdown",
   "id": "e513803c",
   "metadata": {},
   "source": [
    "# Определение региона для бурения новой скважины по прогнозируемой прибыли\n",
    "\n",
    "### Описание проекта\n",
    "\n",
    "Нефтедобывающей компании необходимо определить место бурения новой скважины.\n",
    "\n",
    "**Цели и задачи**\n",
    "* В трёх нефтедобывающих регионах (по 10000 скважин в каждом) взяты пробы нефти, измерено качество сырья объём её запасов.\n",
    "* Необходимо построить модель машинного обучения, которая поможет определить регион, где добыча принесёт наибольшую прибыль.\n",
    "* Проанализировать возможную прибыль и риски техникой Bootstrap.\n",
    "\n",
    "**Описание данных**\n",
    "\n",
    "Данные геологоразведки трёх регионов находятся в файлах: `geo_data_0.csv`, `geo_data_1.csv`, `geo_data_2.csv`.\n",
    "\n",
    "* `id` — уникальный идентификатор скважины;\n",
    "* `f0`, `f1`, `f2` — три признака точек (неважно, что они означают, но сами признаки значимы);\n",
    "* `product` — объём запасов в скважине (тыс. баррелей).\n",
    "\n",
    "**Условия задачи:**\n",
    "* Использовать модель линейной регрессии (остальные — недостаточно предсказуемые).\n",
    "* Исследовать 500 точек при геологоразведке, выбрать 200 с наибольшими запасами для расчёта прибыли.\n",
    "* Бюджет на разработку скважин в регионе — 10 млрд рублей.\n",
    "* Стоимость одного барреля нефти 450 рублей. Объём указан в 1000 баррелей.\n",
    "* Выбрать регионы, в которых вероятность убытков меньше 2.5%. Среди регионов, прошедших оценку рисков, выбрать один с наибольшей средней прибылью.\n",
    "\n",
    "### Структура проекта\n",
    "\n",
    "1. Загрузка и подготовка данных\n",
    "2. Обучение и проверка модели\n",
    "3. Подготовка к расчёту прибыли\n",
    "4. Расчёт прибыли и рисков\n",
    "    * 4.1 Расчет прибыли\n",
    "    * 4.2 Расчёт рисков\n",
    "5. Общий вывод"
   ]
  },
  {
   "cell_type": "markdown",
   "id": "62701f4f",
   "metadata": {},
   "source": [
    "## 1. Загрузка и подготовка данных"
   ]
  },
  {
   "cell_type": "code",
   "execution_count": 1,
   "id": "dc9b4a46",
   "metadata": {},
   "outputs": [],
   "source": [
    "# импортируем необходимые библиотеки\n",
    "import pandas as pd\n",
    "import os\n",
    "\n",
    "from numpy.random import RandomState\n",
    "from scipy import stats as st\n",
    "from sklearn.preprocessing import StandardScaler\n",
    "from sklearn.model_selection import train_test_split\n",
    "from sklearn.linear_model import LinearRegression\n",
    "from sklearn.metrics import mean_squared_error"
   ]
  },
  {
   "cell_type": "code",
   "execution_count": 2,
   "id": "c4ac9022",
   "metadata": {},
   "outputs": [],
   "source": [
    "# открываем файлы\n",
    "dataset_names = ['geo_data_0.csv', 'geo_data_1.csv', 'geo_data_2.csv']\n",
    "data = []\n",
    "\n",
    "for df in dataset_names:\n",
    "    if os.path.exists(f'C:\\\\Users\\\\Anna\\\\Desktop\\\\Python\\\\Yandex Praktikum\\\\Datasets\\\\project_8\\\\{df}'):\n",
    "        data.append(pd.read_csv(f'C:\\\\Users\\\\Anna\\\\Desktop\\\\Python\\\\Yandex Praktikum\\\\Datasets\\\\project_8\\\\{df}'))\n",
    "    elif os.path.exists(f'/datasets/{df}'):\n",
    "        data.append(pd.read_csv(f'/datasets/{df}'))\n",
    "    else:\n",
    "        print(f'Something is wrong with {df}')"
   ]
  },
  {
   "cell_type": "markdown",
   "id": "0781f133",
   "metadata": {},
   "source": [
    "Выведем первые 5 строк датасетов и посмотрим на общую информацию."
   ]
  },
  {
   "cell_type": "code",
   "execution_count": 3,
   "id": "df57de10",
   "metadata": {},
   "outputs": [],
   "source": [
    "# функция для выведения первых 5 строк датасета и обшей информации\n",
    "def data_info(data):\n",
    "    display(data.head())\n",
    "    data.info()\n",
    "    print()\n",
    "    print(f'Количество явных дубликатов:{data.duplicated().sum()}')"
   ]
  },
  {
   "cell_type": "code",
   "execution_count": 4,
   "id": "af1ba2d1",
   "metadata": {},
   "outputs": [
    {
     "data": {
      "text/html": [
       "<div>\n",
       "<style scoped>\n",
       "    .dataframe tbody tr th:only-of-type {\n",
       "        vertical-align: middle;\n",
       "    }\n",
       "\n",
       "    .dataframe tbody tr th {\n",
       "        vertical-align: top;\n",
       "    }\n",
       "\n",
       "    .dataframe thead th {\n",
       "        text-align: right;\n",
       "    }\n",
       "</style>\n",
       "<table border=\"1\" class=\"dataframe\">\n",
       "  <thead>\n",
       "    <tr style=\"text-align: right;\">\n",
       "      <th></th>\n",
       "      <th>id</th>\n",
       "      <th>f0</th>\n",
       "      <th>f1</th>\n",
       "      <th>f2</th>\n",
       "      <th>product</th>\n",
       "    </tr>\n",
       "  </thead>\n",
       "  <tbody>\n",
       "    <tr>\n",
       "      <th>0</th>\n",
       "      <td>txEyH</td>\n",
       "      <td>0.705745</td>\n",
       "      <td>-0.497823</td>\n",
       "      <td>1.221170</td>\n",
       "      <td>105.280062</td>\n",
       "    </tr>\n",
       "    <tr>\n",
       "      <th>1</th>\n",
       "      <td>2acmU</td>\n",
       "      <td>1.334711</td>\n",
       "      <td>-0.340164</td>\n",
       "      <td>4.365080</td>\n",
       "      <td>73.037750</td>\n",
       "    </tr>\n",
       "    <tr>\n",
       "      <th>2</th>\n",
       "      <td>409Wp</td>\n",
       "      <td>1.022732</td>\n",
       "      <td>0.151990</td>\n",
       "      <td>1.419926</td>\n",
       "      <td>85.265647</td>\n",
       "    </tr>\n",
       "    <tr>\n",
       "      <th>3</th>\n",
       "      <td>iJLyR</td>\n",
       "      <td>-0.032172</td>\n",
       "      <td>0.139033</td>\n",
       "      <td>2.978566</td>\n",
       "      <td>168.620776</td>\n",
       "    </tr>\n",
       "    <tr>\n",
       "      <th>4</th>\n",
       "      <td>Xdl7t</td>\n",
       "      <td>1.988431</td>\n",
       "      <td>0.155413</td>\n",
       "      <td>4.751769</td>\n",
       "      <td>154.036647</td>\n",
       "    </tr>\n",
       "  </tbody>\n",
       "</table>\n",
       "</div>"
      ],
      "text/plain": [
       "      id        f0        f1        f2     product\n",
       "0  txEyH  0.705745 -0.497823  1.221170  105.280062\n",
       "1  2acmU  1.334711 -0.340164  4.365080   73.037750\n",
       "2  409Wp  1.022732  0.151990  1.419926   85.265647\n",
       "3  iJLyR -0.032172  0.139033  2.978566  168.620776\n",
       "4  Xdl7t  1.988431  0.155413  4.751769  154.036647"
      ]
     },
     "metadata": {},
     "output_type": "display_data"
    },
    {
     "name": "stdout",
     "output_type": "stream",
     "text": [
      "<class 'pandas.core.frame.DataFrame'>\n",
      "RangeIndex: 100000 entries, 0 to 99999\n",
      "Data columns (total 5 columns):\n",
      " #   Column   Non-Null Count   Dtype  \n",
      "---  ------   --------------   -----  \n",
      " 0   id       100000 non-null  object \n",
      " 1   f0       100000 non-null  float64\n",
      " 2   f1       100000 non-null  float64\n",
      " 3   f2       100000 non-null  float64\n",
      " 4   product  100000 non-null  float64\n",
      "dtypes: float64(4), object(1)\n",
      "memory usage: 3.8+ MB\n",
      "\n",
      "Количество явных дубликатов:0\n"
     ]
    }
   ],
   "source": [
    "data_info(data[0])"
   ]
  },
  {
   "cell_type": "code",
   "execution_count": 5,
   "id": "396a66f3",
   "metadata": {},
   "outputs": [
    {
     "data": {
      "text/html": [
       "<div>\n",
       "<style scoped>\n",
       "    .dataframe tbody tr th:only-of-type {\n",
       "        vertical-align: middle;\n",
       "    }\n",
       "\n",
       "    .dataframe tbody tr th {\n",
       "        vertical-align: top;\n",
       "    }\n",
       "\n",
       "    .dataframe thead th {\n",
       "        text-align: right;\n",
       "    }\n",
       "</style>\n",
       "<table border=\"1\" class=\"dataframe\">\n",
       "  <thead>\n",
       "    <tr style=\"text-align: right;\">\n",
       "      <th></th>\n",
       "      <th>id</th>\n",
       "      <th>f0</th>\n",
       "      <th>f1</th>\n",
       "      <th>f2</th>\n",
       "      <th>product</th>\n",
       "    </tr>\n",
       "  </thead>\n",
       "  <tbody>\n",
       "    <tr>\n",
       "      <th>0</th>\n",
       "      <td>kBEdx</td>\n",
       "      <td>-15.001348</td>\n",
       "      <td>-8.276000</td>\n",
       "      <td>-0.005876</td>\n",
       "      <td>3.179103</td>\n",
       "    </tr>\n",
       "    <tr>\n",
       "      <th>1</th>\n",
       "      <td>62mP7</td>\n",
       "      <td>14.272088</td>\n",
       "      <td>-3.475083</td>\n",
       "      <td>0.999183</td>\n",
       "      <td>26.953261</td>\n",
       "    </tr>\n",
       "    <tr>\n",
       "      <th>2</th>\n",
       "      <td>vyE1P</td>\n",
       "      <td>6.263187</td>\n",
       "      <td>-5.948386</td>\n",
       "      <td>5.001160</td>\n",
       "      <td>134.766305</td>\n",
       "    </tr>\n",
       "    <tr>\n",
       "      <th>3</th>\n",
       "      <td>KcrkZ</td>\n",
       "      <td>-13.081196</td>\n",
       "      <td>-11.506057</td>\n",
       "      <td>4.999415</td>\n",
       "      <td>137.945408</td>\n",
       "    </tr>\n",
       "    <tr>\n",
       "      <th>4</th>\n",
       "      <td>AHL4O</td>\n",
       "      <td>12.702195</td>\n",
       "      <td>-8.147433</td>\n",
       "      <td>5.004363</td>\n",
       "      <td>134.766305</td>\n",
       "    </tr>\n",
       "  </tbody>\n",
       "</table>\n",
       "</div>"
      ],
      "text/plain": [
       "      id         f0         f1        f2     product\n",
       "0  kBEdx -15.001348  -8.276000 -0.005876    3.179103\n",
       "1  62mP7  14.272088  -3.475083  0.999183   26.953261\n",
       "2  vyE1P   6.263187  -5.948386  5.001160  134.766305\n",
       "3  KcrkZ -13.081196 -11.506057  4.999415  137.945408\n",
       "4  AHL4O  12.702195  -8.147433  5.004363  134.766305"
      ]
     },
     "metadata": {},
     "output_type": "display_data"
    },
    {
     "name": "stdout",
     "output_type": "stream",
     "text": [
      "<class 'pandas.core.frame.DataFrame'>\n",
      "RangeIndex: 100000 entries, 0 to 99999\n",
      "Data columns (total 5 columns):\n",
      " #   Column   Non-Null Count   Dtype  \n",
      "---  ------   --------------   -----  \n",
      " 0   id       100000 non-null  object \n",
      " 1   f0       100000 non-null  float64\n",
      " 2   f1       100000 non-null  float64\n",
      " 3   f2       100000 non-null  float64\n",
      " 4   product  100000 non-null  float64\n",
      "dtypes: float64(4), object(1)\n",
      "memory usage: 3.8+ MB\n",
      "\n",
      "Количество явных дубликатов:0\n"
     ]
    }
   ],
   "source": [
    "data_info(data[1])"
   ]
  },
  {
   "cell_type": "code",
   "execution_count": 6,
   "id": "4bf9324f",
   "metadata": {
    "scrolled": false
   },
   "outputs": [
    {
     "data": {
      "text/html": [
       "<div>\n",
       "<style scoped>\n",
       "    .dataframe tbody tr th:only-of-type {\n",
       "        vertical-align: middle;\n",
       "    }\n",
       "\n",
       "    .dataframe tbody tr th {\n",
       "        vertical-align: top;\n",
       "    }\n",
       "\n",
       "    .dataframe thead th {\n",
       "        text-align: right;\n",
       "    }\n",
       "</style>\n",
       "<table border=\"1\" class=\"dataframe\">\n",
       "  <thead>\n",
       "    <tr style=\"text-align: right;\">\n",
       "      <th></th>\n",
       "      <th>id</th>\n",
       "      <th>f0</th>\n",
       "      <th>f1</th>\n",
       "      <th>f2</th>\n",
       "      <th>product</th>\n",
       "    </tr>\n",
       "  </thead>\n",
       "  <tbody>\n",
       "    <tr>\n",
       "      <th>0</th>\n",
       "      <td>fwXo0</td>\n",
       "      <td>-1.146987</td>\n",
       "      <td>0.963328</td>\n",
       "      <td>-0.828965</td>\n",
       "      <td>27.758673</td>\n",
       "    </tr>\n",
       "    <tr>\n",
       "      <th>1</th>\n",
       "      <td>WJtFt</td>\n",
       "      <td>0.262778</td>\n",
       "      <td>0.269839</td>\n",
       "      <td>-2.530187</td>\n",
       "      <td>56.069697</td>\n",
       "    </tr>\n",
       "    <tr>\n",
       "      <th>2</th>\n",
       "      <td>ovLUW</td>\n",
       "      <td>0.194587</td>\n",
       "      <td>0.289035</td>\n",
       "      <td>-5.586433</td>\n",
       "      <td>62.871910</td>\n",
       "    </tr>\n",
       "    <tr>\n",
       "      <th>3</th>\n",
       "      <td>q6cA6</td>\n",
       "      <td>2.236060</td>\n",
       "      <td>-0.553760</td>\n",
       "      <td>0.930038</td>\n",
       "      <td>114.572842</td>\n",
       "    </tr>\n",
       "    <tr>\n",
       "      <th>4</th>\n",
       "      <td>WPMUX</td>\n",
       "      <td>-0.515993</td>\n",
       "      <td>1.716266</td>\n",
       "      <td>5.899011</td>\n",
       "      <td>149.600746</td>\n",
       "    </tr>\n",
       "  </tbody>\n",
       "</table>\n",
       "</div>"
      ],
      "text/plain": [
       "      id        f0        f1        f2     product\n",
       "0  fwXo0 -1.146987  0.963328 -0.828965   27.758673\n",
       "1  WJtFt  0.262778  0.269839 -2.530187   56.069697\n",
       "2  ovLUW  0.194587  0.289035 -5.586433   62.871910\n",
       "3  q6cA6  2.236060 -0.553760  0.930038  114.572842\n",
       "4  WPMUX -0.515993  1.716266  5.899011  149.600746"
      ]
     },
     "metadata": {},
     "output_type": "display_data"
    },
    {
     "name": "stdout",
     "output_type": "stream",
     "text": [
      "<class 'pandas.core.frame.DataFrame'>\n",
      "RangeIndex: 100000 entries, 0 to 99999\n",
      "Data columns (total 5 columns):\n",
      " #   Column   Non-Null Count   Dtype  \n",
      "---  ------   --------------   -----  \n",
      " 0   id       100000 non-null  object \n",
      " 1   f0       100000 non-null  float64\n",
      " 2   f1       100000 non-null  float64\n",
      " 3   f2       100000 non-null  float64\n",
      " 4   product  100000 non-null  float64\n",
      "dtypes: float64(4), object(1)\n",
      "memory usage: 3.8+ MB\n",
      "\n",
      "Количество явных дубликатов:0\n"
     ]
    }
   ],
   "source": [
    "data_info(data[2])"
   ]
  },
  {
   "cell_type": "markdown",
   "id": "6fd3ae32",
   "metadata": {},
   "source": [
    "* Данные соответствуют описанию. Пропусков и явных дубликатов нет.\n",
    "* Типы данных соответствуют описанию.\n",
    "\n",
    "Проверим наличие дублирующих id скважин."
   ]
  },
  {
   "cell_type": "code",
   "execution_count": 7,
   "id": "c525487e",
   "metadata": {},
   "outputs": [
    {
     "data": {
      "text/plain": [
       "fiKDv    2\n",
       "QcMuo    2\n",
       "bsk9y    2\n",
       "A5aEY    2\n",
       "bxg6G    2\n",
       "        ..\n",
       "xbq8v    1\n",
       "jnyou    1\n",
       "jnDQt    1\n",
       "1KqaN    1\n",
       "Gp52F    1\n",
       "Name: id, Length: 99990, dtype: int64"
      ]
     },
     "execution_count": 7,
     "metadata": {},
     "output_type": "execute_result"
    }
   ],
   "source": [
    "data[0]['id'].value_counts()"
   ]
  },
  {
   "cell_type": "code",
   "execution_count": 8,
   "id": "aae9f714",
   "metadata": {
    "scrolled": true
   },
   "outputs": [
    {
     "data": {
      "text/html": [
       "<div>\n",
       "<style scoped>\n",
       "    .dataframe tbody tr th:only-of-type {\n",
       "        vertical-align: middle;\n",
       "    }\n",
       "\n",
       "    .dataframe tbody tr th {\n",
       "        vertical-align: top;\n",
       "    }\n",
       "\n",
       "    .dataframe thead th {\n",
       "        text-align: right;\n",
       "    }\n",
       "</style>\n",
       "<table border=\"1\" class=\"dataframe\">\n",
       "  <thead>\n",
       "    <tr style=\"text-align: right;\">\n",
       "      <th></th>\n",
       "      <th>id</th>\n",
       "      <th>f0</th>\n",
       "      <th>f1</th>\n",
       "      <th>f2</th>\n",
       "      <th>product</th>\n",
       "    </tr>\n",
       "  </thead>\n",
       "  <tbody>\n",
       "    <tr>\n",
       "      <th>16633</th>\n",
       "      <td>fiKDv</td>\n",
       "      <td>0.157341</td>\n",
       "      <td>1.028359</td>\n",
       "      <td>5.585586</td>\n",
       "      <td>95.817889</td>\n",
       "    </tr>\n",
       "    <tr>\n",
       "      <th>90815</th>\n",
       "      <td>fiKDv</td>\n",
       "      <td>0.049883</td>\n",
       "      <td>0.841313</td>\n",
       "      <td>6.394613</td>\n",
       "      <td>137.346586</td>\n",
       "    </tr>\n",
       "  </tbody>\n",
       "</table>\n",
       "</div>"
      ],
      "text/plain": [
       "          id        f0        f1        f2     product\n",
       "16633  fiKDv  0.157341  1.028359  5.585586   95.817889\n",
       "90815  fiKDv  0.049883  0.841313  6.394613  137.346586"
      ]
     },
     "execution_count": 8,
     "metadata": {},
     "output_type": "execute_result"
    }
   ],
   "source": [
    "data[0].loc[data[0]['id'] == 'fiKDv']"
   ]
  },
  {
   "cell_type": "markdown",
   "id": "2c12fc07",
   "metadata": {},
   "source": [
    "К сожалению, мы не знаем причин появления нескольких строк данных по одним и тем же скважинам и не знаем, можем ли мы объединить признаки эти скважин, поэтому избавимся от данных по этим скважинам."
   ]
  },
  {
   "cell_type": "code",
   "execution_count": 9,
   "id": "7da66cdc",
   "metadata": {},
   "outputs": [],
   "source": [
    "#функцтя для удаления наблюдений с дублирующимися id\n",
    "def remove_double (data):\n",
    "    remove_list = data['id'].value_counts()[data['id'].value_counts() > 1].index\n",
    "    data.query('id not in @remove_list', inplace=True)\n",
    "    data.reset_index(inplace=True, drop=True)\n",
    "    print(f'Осталось строк после удаления: {data.shape[0]}')"
   ]
  },
  {
   "cell_type": "code",
   "execution_count": 10,
   "id": "43334b9a",
   "metadata": {
    "scrolled": true
   },
   "outputs": [
    {
     "name": "stdout",
     "output_type": "stream",
     "text": [
      "Осталось строк после удаления: 99980\n",
      "Осталось строк после удаления: 99992\n",
      "Осталось строк после удаления: 99992\n"
     ]
    }
   ],
   "source": [
    "for df in data:\n",
    "    remove_double(df)"
   ]
  },
  {
   "cell_type": "markdown",
   "id": "565351a3",
   "metadata": {},
   "source": [
    "**Вывод**\n",
    "* Данные успешно загружены и проанализированы. Данные соответствуют описанию. Пропусков и явных дубликатов нет. Типы данных соответствуют описанию.\n",
    "* Обнаружены дублирующие id скважин, так как нет дополнительной информации, эти данные были удалены без значительного ущерба (20, 8 и 8 строк)."
   ]
  },
  {
   "cell_type": "markdown",
   "id": "479fd093",
   "metadata": {},
   "source": [
    "## 2. Обучение и проверка модели\n",
    "Для каждого региона:\n",
    "\n",
    "* Разделим данные на обучающую и валидационную выборкив соотношении 75:25.\n",
    "* Обучим модель линейной регрессии по техническому заданию.\n",
    "* Выведем средний запас предсказанного сырья и RMSE модели."
   ]
  },
  {
   "cell_type": "code",
   "execution_count": 11,
   "id": "ccaf2e99",
   "metadata": {},
   "outputs": [],
   "source": [
    "features_train = []\n",
    "features_valid = []\n",
    "target_train = []\n",
    "target_valid = []\n",
    "\n",
    "for df in data:\n",
    "    features = df[['f0', 'f1', 'f2']]\n",
    "    target = df['product']\n",
    "\n",
    "    X_train, X_valid, y_train, y_valid = train_test_split(features, target, test_size=0.25, random_state=1505)\n",
    "    features_train.append(X_train)\n",
    "    features_valid.append(X_valid)\n",
    "    target_train.append(y_train)\n",
    "    target_valid.append(y_valid)"
   ]
  },
  {
   "cell_type": "code",
   "execution_count": 12,
   "id": "25e479d3",
   "metadata": {
    "scrolled": true
   },
   "outputs": [
    {
     "name": "stdout",
     "output_type": "stream",
     "text": [
      "=== Регион 0 ===\n",
      "\tСредний запас предсказанного сырья: 92.35\n",
      "\tRMSE: 37.980\n",
      "\n",
      "=== Регион 1 ===\n",
      "\tСредний запас предсказанного сырья: 68.68\n",
      "\tRMSE: 0.896\n",
      "\n",
      "=== Регион 2 ===\n",
      "\tСредний запас предсказанного сырья: 94.90\n",
      "\tRMSE: 40.163\n",
      "\n"
     ]
    }
   ],
   "source": [
    "models = []\n",
    "predictions = []\n",
    "rmse = []\n",
    "\n",
    "for i in range(len(data)):\n",
    "    models.append(LinearRegression(n_jobs=-1))\n",
    "    models[i].fit(features_train[i], target_train[i])\n",
    "    predicted_values = models[i].predict(features_valid[i])\n",
    "    predictions.append(pd.Series(data=predicted_values, index=target_valid[i].index))\n",
    "    rmse.append(mean_squared_error(target_valid[i], predictions[i], squared=False))\n",
    "    print(f'=== Регион {i} ===\\n\\tСредний запас предсказанного сырья: {predictions[i].mean():.2f}\\n\\tRMSE: {rmse[i]:.3f}\\n')"
   ]
  },
  {
   "cell_type": "markdown",
   "id": "710da392",
   "metadata": {},
   "source": [
    "**Выводы**\n",
    "* В регионах 0 и 2 достаточно высокий средний показатель запаса предсказанного сырья (92.4 и 94.9 соответственно). Однако RMSE для данных регионов также высок (37.9 и 40.1 соответственно). Это свидетельствует о неоднозначности показателя, неточности модели регрессии.\n",
    "* В регионе 1 средний показатель запаса предсказанного сырья составляет 68.7 (ниже остальных регионов). Однако RMSE в данном регионе также мал (0.9). Это говорит о точности предсказаний и качестве построенной модели."
   ]
  },
  {
   "cell_type": "markdown",
   "id": "439f4cce",
   "metadata": {},
   "source": [
    "## 3. Подготовка к расчёту прибыли\n",
    "\n",
    "* Рассчитаем достаточный объём сырья для безубыточной разработки новой скважины.\n",
    "* Сравним полученный объём сырья со средним запасом в каждом регионе.\n",
    "\n",
    "\n",
    "* **min_product = budget / (top_wells * unit_income)**\n",
    "    * budget - Бюджет на разработку скважин в регионе — 10 млрд рублей\n",
    "    * top_wells, samp_wells - При расчёте выбирают 200 лучших скважин из 500 в выборке\n",
    "    * unit_income - Доход с каждой единицы продукта составляет 450 тыс. рублей"
   ]
  },
  {
   "cell_type": "code",
   "execution_count": 13,
   "id": "dec55cf0",
   "metadata": {},
   "outputs": [],
   "source": [
    "BUDGET = 10000000000\n",
    "TOP_WELLS = 200\n",
    "SAMP_WELLS = 500\n",
    "UNIT_INCOME = 450000"
   ]
  },
  {
   "cell_type": "code",
   "execution_count": 14,
   "id": "ed4dc69d",
   "metadata": {},
   "outputs": [
    {
     "name": "stdout",
     "output_type": "stream",
     "text": [
      "Минимальный объём продукта с одной скважины для безубыточной разработки: 111.11\n"
     ]
    }
   ],
   "source": [
    "min_product = BUDGET / (TOP_WELLS * UNIT_INCOME)\n",
    "print('Минимальный объём продукта с одной скважины для безубыточной разработки: {:.2f}'.format(min_product))"
   ]
  },
  {
   "cell_type": "markdown",
   "id": "ba6812d3",
   "metadata": {},
   "source": [
    "**Выводы**\n",
    "\n",
    "* Минимальный объём продукта для безубыточной разработки составляет **111.11**. Данный показатель рассчитан при условии выбора 200 лучших скважин из 500 в выборке.\n",
    "* Данное значение превышает средние значения запасов скважин по всем регионам."
   ]
  },
  {
   "cell_type": "markdown",
   "id": "60436e8c",
   "metadata": {},
   "source": [
    "## 4. Расчёт прибыли и рисков\n",
    "### 4.1 Расчёт прибыли\n",
    "\n",
    "Напишем функцию для расчёта прибыли по выбранным скважинам и предсказаниям модели:\n",
    "\n",
    "* Выберем скважины с максимальными значениями предсказаний и отберём 200 с максимальным показателем объёма сырья.\n",
    "* Просуммируем целевое значение объёма сырья, соответствующее этим предсказаниям.\n",
    "* Рассчитаем прибыль для полученного объёма сырья."
   ]
  },
  {
   "cell_type": "code",
   "execution_count": 15,
   "id": "2fe80734",
   "metadata": {},
   "outputs": [],
   "source": [
    "def profit(target, predictions, show_res=False):\n",
    "    pred_sorted = predictions.sort_values(ascending=False)\n",
    "    selected = target[pred_sorted.index][:TOP_WELLS]\n",
    "    \n",
    "    if show_res:\n",
    "        print(f'\\tСредний запас сырья среди скважин с максимальным показателем: {selected.mean():.2f}')\n",
    "        print(f'\\tСуммарный целевой объём сырья: {selected.sum():.2f}')\n",
    "        print(f'\\tПрибыль для полученного объёма сырья: {selected.sum() * UNIT_INCOME - BUDGET:,.2f}')\n",
    "        \n",
    "    return selected.sum() * UNIT_INCOME - BUDGET"
   ]
  },
  {
   "cell_type": "code",
   "execution_count": 16,
   "id": "a8d43bcd",
   "metadata": {
    "scrolled": true
   },
   "outputs": [
    {
     "name": "stdout",
     "output_type": "stream",
     "text": [
      "=== Регион 0 ===\n",
      "\tСредний запас сырья среди скважин с максимальным показателем: 145.83\n",
      "\tСуммарный целевой объём сырья: 29166.69\n",
      "\tПрибыль для полученного объёма сырья: 3,125,010,478.94\n",
      "\n",
      "=== Регион 1 ===\n",
      "\tСредний запас сырья среди скважин с максимальным показателем: 137.95\n",
      "\tСуммарный целевой объём сырья: 27589.08\n",
      "\tПрибыль для полученного объёма сырья: 2,415,086,696.68\n",
      "\n",
      "=== Регион 2 ===\n",
      "\tСредний запас сырья среди скважин с максимальным показателем: 137.37\n",
      "\tСуммарный целевой объём сырья: 27474.62\n",
      "\tПрибыль для полученного объёма сырья: 2,363,580,135.90\n",
      "\n"
     ]
    }
   ],
   "source": [
    "for i in range(len(data)):\n",
    "    print(f'=== Регион {i} ===')\n",
    "    profit(target_valid[i], predictions[i], show_res=True)\n",
    "    print()"
   ]
  },
  {
   "cell_type": "markdown",
   "id": "e4f18de8",
   "metadata": {},
   "source": [
    "### 4.2 Расчёт рисков\n",
    "\n",
    "\n",
    "* Применим технику `Bootstrap` с 1000 выборок, чтобы найти распределение прибыли. Количество скважин зависит от бюджета компании и стоимости разработки одной скважины. В нашем случае выберем случайно 500 точек и отберём 200 с максимальным показателем объёма сырья.\n",
    "* Найдём среднюю прибыль, 95%-й доверительный интервал и риск убытков. Убыток — это отрицательная прибыль."
   ]
  },
  {
   "cell_type": "code",
   "execution_count": 17,
   "id": "d075b943",
   "metadata": {},
   "outputs": [],
   "source": [
    "state = RandomState(1505) \n",
    "earnings = []\n",
    "confidence_intervals =[]\n",
    "risk = []\n",
    "\n",
    "for i in range(len(data)):\n",
    "    values = []\n",
    "    confidence_interval = {}\n",
    "    \n",
    "    for j in range(1000):\n",
    "        target_subsample = target_valid[i].sample(n=SAMP_WELLS, replace=True, random_state=state)\n",
    "        preds_subsample = predictions[i][target_subsample.index]\n",
    "        \n",
    "        values.append(profit(target_subsample, preds_subsample))\n",
    "        \n",
    "    values = pd.Series(values)\n",
    "    earnings.append(values)\n",
    "    \n",
    "    confidence_interval['lower'] = values.quantile(0.025)\n",
    "    confidence_interval['upper'] = values.quantile(0.975)\n",
    "#     confidence_interval = st.t.interval(alpha=0.95, df=len(values)-1, loc=values.mean(), scale=values.sem())\n",
    "    confidence_intervals.append(confidence_interval)\n",
    "    \n",
    "    risk.append((earnings[i] < 0).mean())"
   ]
  },
  {
   "cell_type": "code",
   "execution_count": 18,
   "id": "be9f97c6",
   "metadata": {},
   "outputs": [
    {
     "name": "stdout",
     "output_type": "stream",
     "text": [
      "=== Регион 0 ===\n",
      "\tСредняя прибыль: 472,462,346.48₽\n",
      "\tДоверительный интервал: от -45,817,238.22₽ до 1,003,195,711.77₽\n",
      "\tВероятность убытков: 3.70%\n",
      "\n",
      "=== Регион 1 ===\n",
      "\tСредняя прибыль: 511,539,237.12₽\n",
      "\tДоверительный интервал: от 113,008,671.98₽ до 938,622,822.28₽\n",
      "\tВероятность убытков: 0.80%\n",
      "\n",
      "=== Регион 2 ===\n",
      "\tСредняя прибыль: 375,966,071.42₽\n",
      "\tДоверительный интервал: от -164,657,624.97₽ до 912,258,774.31₽\n",
      "\tВероятность убытков: 8.60%\n",
      "\n"
     ]
    }
   ],
   "source": [
    "for i in range(len(data)):\n",
    "    print(f'=== Регион {i} ===')\n",
    "    print(f'\\tСредняя прибыль: {earnings[i].mean():,.2f}₽')\n",
    "    print(f'\\tДоверительный интервал: от {confidence_intervals[i][\"lower\"]:,.2f}₽ до {confidence_intervals[i][\"upper\"]:,.2f}₽')\n",
    "#     print(f'\\tДоверительный интервал: от {confidence_intervals[i][0]:,.2f}₽ до {confidence_intervals[i][1]:,.2f}₽')\n",
    "    print(f'\\tВероятность убытков: {risk[i]:.2%}')\n",
    "    print()"
   ]
  },
  {
   "cell_type": "markdown",
   "id": "c2c6cf91",
   "metadata": {},
   "source": [
    "**Выводы**\n",
    "\n",
    "* При расчёте показателей для 200 наилучших скважин из 500 в выборке:\n",
    "    * Средний запас сырья с одной скважины среди всех регионов (145.83, 137.95, 137.37 соответственно) превосходит минимально необходимый объём 111.11.\n",
    "\n",
    "* При применении техники `Bootstrap`:\n",
    "    * Оценка средней прибыли максимальна для региона 1 (511.54 млн.).\n",
    "    * Только Регион 1 по уровню убытков (0.80%) не превосходит заданную границу по техническому заданию (2.5%).\n",
    "    * Рекомендуем регион 1 для разработки."
   ]
  },
  {
   "cell_type": "markdown",
   "id": "c4478a17",
   "metadata": {},
   "source": [
    "## 5. Общий Вывод\n",
    "\n",
    "* При начальном построении модели и предсказаний:\n",
    "    * В регионах 0 и 2 достаточно высокий средний показатель запаса предсказанного сырья (92.4 и 94.9 соответственно). Однако RMSE для данных регионов также высок (**37.9** и **40.1** соответственно). Это свидетельствует о неоднозначности показателя, неточности модели регрессии.\n",
    "    * В регионе 1 средний показатель запаса предсказанного сырья составляет **68.7** (ниже остальных регионов). Однако RMSE в данном регионе также мал (**0.9**). Это говорит о точности предсказаний и качестве построенной модели.\n",
    "    * Средние показатели предсказанного сырья для одной скважины ниже теоретически необходимых (**111.11**)\n",
    "* При расчёте показателей для 200 наилучших скважин из выборочных 500:\n",
    "    * Средний запас сырья с одной скважины среди всех регионов превосходит минимально необходимый объём.\n",
    "* При применении техники `Bootstrap`:\n",
    "    * Оценка средней прибыли максимальна для региона 1 (**511.54 млн**.).\n",
    "    * Только Регион 1 по уровню убытков (**0.80%**) не превосходит заданную границу по техническому заданию (2.5%).\n",
    "    * Рекомендуем регион 1 для разработки."
   ]
  }
 ],
 "metadata": {
  "ExecuteTimeLog": [
   {
    "duration": 1145,
    "start_time": "2022-05-29T07:25:21.154Z"
   },
   {
    "duration": 955,
    "start_time": "2022-05-29T07:25:22.300Z"
   },
   {
    "duration": 3,
    "start_time": "2022-05-29T07:25:23.257Z"
   },
   {
    "duration": 131,
    "start_time": "2022-05-29T07:25:23.262Z"
   },
   {
    "duration": 82,
    "start_time": "2022-05-29T07:25:23.395Z"
   },
   {
    "duration": 73,
    "start_time": "2022-05-29T07:25:23.479Z"
   },
   {
    "duration": 98,
    "start_time": "2022-05-29T07:25:23.553Z"
   },
   {
    "duration": 16,
    "start_time": "2022-05-29T07:25:23.655Z"
   },
   {
    "duration": 4,
    "start_time": "2022-05-29T07:25:23.672Z"
   },
   {
    "duration": 421,
    "start_time": "2022-05-29T07:25:23.678Z"
   },
   {
    "duration": 52,
    "start_time": "2022-05-29T07:25:24.101Z"
   },
   {
    "duration": 173,
    "start_time": "2022-05-29T07:25:24.157Z"
   },
   {
    "duration": 3,
    "start_time": "2022-05-29T07:25:24.331Z"
   },
   {
    "duration": 127,
    "start_time": "2022-05-29T07:25:24.337Z"
   },
   {
    "duration": 5,
    "start_time": "2022-05-29T07:25:24.466Z"
   },
   {
    "duration": 25,
    "start_time": "2022-05-29T07:25:24.472Z"
   },
   {
    "duration": 4280,
    "start_time": "2022-05-29T07:25:24.498Z"
   },
   {
    "duration": 4,
    "start_time": "2022-05-29T07:25:28.780Z"
   },
   {
    "duration": 4,
    "start_time": "2022-05-29T07:25:53.773Z"
   },
   {
    "duration": 4,
    "start_time": "2022-05-29T07:25:59.863Z"
   },
   {
    "duration": 4,
    "start_time": "2022-05-29T07:26:13.057Z"
   },
   {
    "duration": 4,
    "start_time": "2022-05-29T07:26:41.956Z"
   },
   {
    "duration": 5,
    "start_time": "2022-05-29T07:26:47.103Z"
   },
   {
    "duration": 51,
    "start_time": "2022-05-29T07:26:48.257Z"
   },
   {
    "duration": 26,
    "start_time": "2022-05-29T07:27:57.757Z"
   },
   {
    "duration": 36,
    "start_time": "2022-05-29T07:28:26.723Z"
   },
   {
    "duration": 6,
    "start_time": "2022-05-29T07:28:37.553Z"
   },
   {
    "duration": 41,
    "start_time": "2022-05-29T07:28:49.527Z"
   },
   {
    "duration": 56,
    "start_time": "2022-05-29T07:29:00.938Z"
   },
   {
    "duration": 70,
    "start_time": "2022-05-29T07:29:05.091Z"
   },
   {
    "duration": 3,
    "start_time": "2022-05-29T07:29:10.356Z"
   },
   {
    "duration": 4,
    "start_time": "2022-05-29T07:29:15.123Z"
   },
   {
    "duration": 23,
    "start_time": "2022-05-29T07:29:21.080Z"
   },
   {
    "duration": 4,
    "start_time": "2022-05-29T07:29:39.957Z"
   },
   {
    "duration": 6,
    "start_time": "2022-05-29T07:29:59.168Z"
   },
   {
    "duration": 853,
    "start_time": "2022-05-29T07:46:35.125Z"
   },
   {
    "duration": 409,
    "start_time": "2022-05-29T07:46:35.980Z"
   },
   {
    "duration": 4,
    "start_time": "2022-05-29T07:46:36.395Z"
   },
   {
    "duration": 146,
    "start_time": "2022-05-29T07:46:36.401Z"
   },
   {
    "duration": 53,
    "start_time": "2022-05-29T07:46:36.549Z"
   },
   {
    "duration": 83,
    "start_time": "2022-05-29T07:46:36.603Z"
   },
   {
    "duration": 65,
    "start_time": "2022-05-29T07:46:36.688Z"
   },
   {
    "duration": 15,
    "start_time": "2022-05-29T07:46:36.755Z"
   },
   {
    "duration": 6,
    "start_time": "2022-05-29T07:46:36.772Z"
   },
   {
    "duration": 366,
    "start_time": "2022-05-29T07:46:36.780Z"
   },
   {
    "duration": 36,
    "start_time": "2022-05-29T07:46:37.148Z"
   },
   {
    "duration": 255,
    "start_time": "2022-05-29T07:46:37.186Z"
   },
   {
    "duration": 3,
    "start_time": "2022-05-29T07:46:37.528Z"
   },
   {
    "duration": 102,
    "start_time": "2022-05-29T07:46:37.533Z"
   },
   {
    "duration": 7,
    "start_time": "2022-05-29T07:46:37.637Z"
   },
   {
    "duration": 28,
    "start_time": "2022-05-29T07:46:37.646Z"
   },
   {
    "duration": 3865,
    "start_time": "2022-05-29T07:46:37.676Z"
   },
   {
    "duration": 5,
    "start_time": "2022-05-29T07:46:41.543Z"
   }
  ],
  "kernelspec": {
   "display_name": "Python 3.10.5 64-bit",
   "language": "python",
   "name": "python3"
  },
  "language_info": {
   "codemirror_mode": {
    "name": "ipython",
    "version": 3
   },
   "file_extension": ".py",
   "mimetype": "text/x-python",
   "name": "python",
   "nbconvert_exporter": "python",
   "pygments_lexer": "ipython3",
   "version": "3.10.5"
  },
  "toc": {
   "base_numbering": 1,
   "nav_menu": {},
   "number_sections": true,
   "sideBar": true,
   "skip_h1_title": true,
   "title_cell": "Table of Contents",
   "title_sidebar": "Contents",
   "toc_cell": true,
   "toc_position": {},
   "toc_section_display": true,
   "toc_window_display": false
  },
  "vscode": {
   "interpreter": {
    "hash": "62108d3bcabba50a5551c94be0c58944c48365daffc285bf9efbbaced917d542"
   }
  }
 },
 "nbformat": 4,
 "nbformat_minor": 5
}
