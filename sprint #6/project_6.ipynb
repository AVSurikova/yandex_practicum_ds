{
 "cells": [
  {
   "cell_type": "markdown",
   "id": "28b4ef6b",
   "metadata": {},
   "source": [
    "# Построение модели для предложения подходящего тарифа сотовой связи\n",
    "\n",
    "### Описание проекта\n",
    "\n",
    "**Цели и задачи:**\n",
    "\n",
    "* Построить модель для задачи классификации, которая выберет подходящий для пользователей новый тариф сотовой связи.\n",
    "* Оптимизировать модель по метрике accuracy (минимально допустимое значение 0.75).\n",
    "* Проверить accuracy на тестовой выборке.\n",
    "\n",
    "**Описание данных:**\n",
    "\n",
    "Каждый объект в наборе данных users_behavior.csv — это информация о поведении одного пользователя за месяц.\n",
    "\n",
    "* `сalls` — количество звонков,\n",
    "* `minutes` — суммарная длительность звонков в минутах,\n",
    "* `messages` — количество sms-сообщений,\n",
    "* `mb_used` — израсходованный интернет-трафик в Мб,\n",
    "* `is_ultra` — каким тарифом пользовался в течение месяца («Ультра» — 1, «Смарт» — 0).\n",
    "\n",
    "### Структура проекта\n",
    "\n",
    "1. Изучение общей информации о данных\n",
    "2. Построение моделей классификации\n",
    "    * 2.1 Решающее дерево\n",
    "    * 2.2 Случайный лес\n",
    "    * 2.3 Логистическая регрессия\n",
    "    * 2.4 Проверка модели на тестовой выборке\n",
    "3. Проверка вменяемости модели\n",
    "4. Общий вывод"
   ]
  },
  {
   "cell_type": "markdown",
   "id": "165c650b",
   "metadata": {},
   "source": [
    "## 1. Изучение общей информации о данных"
   ]
  },
  {
   "cell_type": "code",
   "execution_count": 1,
   "id": "48278a8b",
   "metadata": {},
   "outputs": [],
   "source": [
    "# импортируем необходимые для работы библиотеки\n",
    "import pandas as pd\n",
    "import os\n",
    "from sklearn.model_selection import train_test_split\n",
    "from sklearn.tree import DecisionTreeClassifier\n",
    "from sklearn.linear_model import LogisticRegression\n",
    "from sklearn.ensemble import RandomForestClassifier\n",
    "from sklearn.metrics import accuracy_score"
   ]
  },
  {
   "cell_type": "code",
   "execution_count": 2,
   "id": "bbe779a3",
   "metadata": {},
   "outputs": [],
   "source": [
    "# открываем файл с данными\n",
    "pth1 = 'C:\\\\Users\\\\Anna\\\\Desktop\\\\Python\\\\Yandex Praktikum\\\\Datasets\\\\project_6\\\\users_behavior.csv'\n",
    "\n",
    "pth2 = '/datasets/users_behavior.csv'\n",
    "\n",
    "if os.path.exists(pth1):\n",
    "    users = pd.read_csv(pth1)\n",
    "elif os.path.exists(pth2):\n",
    "    users = pd.read_csv(pth2)\n",
    "else:\n",
    "    print('Something is wrong')"
   ]
  },
  {
   "cell_type": "code",
   "execution_count": 3,
   "id": "d42088d8",
   "metadata": {},
   "outputs": [
    {
     "data": {
      "text/html": [
       "<div>\n",
       "<style scoped>\n",
       "    .dataframe tbody tr th:only-of-type {\n",
       "        vertical-align: middle;\n",
       "    }\n",
       "\n",
       "    .dataframe tbody tr th {\n",
       "        vertical-align: top;\n",
       "    }\n",
       "\n",
       "    .dataframe thead th {\n",
       "        text-align: right;\n",
       "    }\n",
       "</style>\n",
       "<table border=\"1\" class=\"dataframe\">\n",
       "  <thead>\n",
       "    <tr style=\"text-align: right;\">\n",
       "      <th></th>\n",
       "      <th>calls</th>\n",
       "      <th>minutes</th>\n",
       "      <th>messages</th>\n",
       "      <th>mb_used</th>\n",
       "      <th>is_ultra</th>\n",
       "    </tr>\n",
       "  </thead>\n",
       "  <tbody>\n",
       "    <tr>\n",
       "      <th>0</th>\n",
       "      <td>40.0</td>\n",
       "      <td>311.90</td>\n",
       "      <td>83.0</td>\n",
       "      <td>19915.42</td>\n",
       "      <td>0</td>\n",
       "    </tr>\n",
       "    <tr>\n",
       "      <th>1</th>\n",
       "      <td>85.0</td>\n",
       "      <td>516.75</td>\n",
       "      <td>56.0</td>\n",
       "      <td>22696.96</td>\n",
       "      <td>0</td>\n",
       "    </tr>\n",
       "    <tr>\n",
       "      <th>2</th>\n",
       "      <td>77.0</td>\n",
       "      <td>467.66</td>\n",
       "      <td>86.0</td>\n",
       "      <td>21060.45</td>\n",
       "      <td>0</td>\n",
       "    </tr>\n",
       "    <tr>\n",
       "      <th>3</th>\n",
       "      <td>106.0</td>\n",
       "      <td>745.53</td>\n",
       "      <td>81.0</td>\n",
       "      <td>8437.39</td>\n",
       "      <td>1</td>\n",
       "    </tr>\n",
       "    <tr>\n",
       "      <th>4</th>\n",
       "      <td>66.0</td>\n",
       "      <td>418.74</td>\n",
       "      <td>1.0</td>\n",
       "      <td>14502.75</td>\n",
       "      <td>0</td>\n",
       "    </tr>\n",
       "    <tr>\n",
       "      <th>5</th>\n",
       "      <td>58.0</td>\n",
       "      <td>344.56</td>\n",
       "      <td>21.0</td>\n",
       "      <td>15823.37</td>\n",
       "      <td>0</td>\n",
       "    </tr>\n",
       "    <tr>\n",
       "      <th>6</th>\n",
       "      <td>57.0</td>\n",
       "      <td>431.64</td>\n",
       "      <td>20.0</td>\n",
       "      <td>3738.90</td>\n",
       "      <td>1</td>\n",
       "    </tr>\n",
       "    <tr>\n",
       "      <th>7</th>\n",
       "      <td>15.0</td>\n",
       "      <td>132.40</td>\n",
       "      <td>6.0</td>\n",
       "      <td>21911.60</td>\n",
       "      <td>0</td>\n",
       "    </tr>\n",
       "    <tr>\n",
       "      <th>8</th>\n",
       "      <td>7.0</td>\n",
       "      <td>43.39</td>\n",
       "      <td>3.0</td>\n",
       "      <td>2538.67</td>\n",
       "      <td>1</td>\n",
       "    </tr>\n",
       "    <tr>\n",
       "      <th>9</th>\n",
       "      <td>90.0</td>\n",
       "      <td>665.41</td>\n",
       "      <td>38.0</td>\n",
       "      <td>17358.61</td>\n",
       "      <td>0</td>\n",
       "    </tr>\n",
       "  </tbody>\n",
       "</table>\n",
       "</div>"
      ],
      "text/plain": [
       "   calls  minutes  messages   mb_used  is_ultra\n",
       "0   40.0   311.90      83.0  19915.42         0\n",
       "1   85.0   516.75      56.0  22696.96         0\n",
       "2   77.0   467.66      86.0  21060.45         0\n",
       "3  106.0   745.53      81.0   8437.39         1\n",
       "4   66.0   418.74       1.0  14502.75         0\n",
       "5   58.0   344.56      21.0  15823.37         0\n",
       "6   57.0   431.64      20.0   3738.90         1\n",
       "7   15.0   132.40       6.0  21911.60         0\n",
       "8    7.0    43.39       3.0   2538.67         1\n",
       "9   90.0   665.41      38.0  17358.61         0"
      ]
     },
     "metadata": {},
     "output_type": "display_data"
    },
    {
     "name": "stdout",
     "output_type": "stream",
     "text": [
      "<class 'pandas.core.frame.DataFrame'>\n",
      "RangeIndex: 3214 entries, 0 to 3213\n",
      "Data columns (total 5 columns):\n",
      " #   Column    Non-Null Count  Dtype  \n",
      "---  ------    --------------  -----  \n",
      " 0   calls     3214 non-null   float64\n",
      " 1   minutes   3214 non-null   float64\n",
      " 2   messages  3214 non-null   float64\n",
      " 3   mb_used   3214 non-null   float64\n",
      " 4   is_ultra  3214 non-null   int64  \n",
      "dtypes: float64(4), int64(1)\n",
      "memory usage: 125.7 KB\n"
     ]
    }
   ],
   "source": [
    "# выведем первые 10 строк таблицы с помощью метода head()\n",
    "display(users.head(10))\n",
    "# с помощью метода info() изучим структуры таблицы: типы данных, количество строк, столбцов, пропущенных данных.\n",
    "users.info()"
   ]
  },
  {
   "cell_type": "markdown",
   "id": "7ca9e71a",
   "metadata": {},
   "source": [
    "* В таблице данных **3214** объектов. Пропусков нет.\n",
    "* В столбцах `'calls'` и `'messages'` содержится целочисленная информация. Заменим тип данных в них на `int` для уменьшения занимаемого места."
   ]
  },
  {
   "cell_type": "code",
   "execution_count": 4,
   "id": "516281be",
   "metadata": {},
   "outputs": [],
   "source": [
    "users['calls'] = users['calls'].astype('int')\n",
    "users['messages'] = users['messages'].astype('int')"
   ]
  },
  {
   "cell_type": "markdown",
   "id": "f637b0d2",
   "metadata": {},
   "source": [
    "## 2. Построение моделей классификации"
   ]
  },
  {
   "cell_type": "markdown",
   "id": "e3c461b3",
   "metadata": {},
   "source": [
    "Для начала выделим в исходных данных:\n",
    "* признаки: `calls`, `minutes`, `messages`, `mb_used`\n",
    "* целевой признак: `is_ultra`"
   ]
  },
  {
   "cell_type": "code",
   "execution_count": 5,
   "id": "0ea3f873",
   "metadata": {},
   "outputs": [],
   "source": [
    "features = users.drop('is_ultra', axis=1)\n",
    "target = users['is_ultra']"
   ]
  },
  {
   "cell_type": "markdown",
   "id": "a83fcbab",
   "metadata": {},
   "source": [
    "Разделим данные на обучающую, валидационную и тестовую выборки в пропорции 3:1:1 соответственно (60% на обучающию и по 20% данных на валидационную и тестовую выборки)."
   ]
  },
  {
   "cell_type": "code",
   "execution_count": 6,
   "id": "e791fb60",
   "metadata": {},
   "outputs": [],
   "source": [
    "# разделение проведём с помощью функции train_test_split библиотеки sklearn\n",
    "features_train, features_valid, target_train, target_valid = train_test_split(\n",
    "    features, target, test_size=0.4, random_state=1505)\n",
    "\n",
    "features_valid, features_test, target_valid, target_test = train_test_split(\n",
    "    features_valid, target_valid, test_size=0.5, random_state=1505)"
   ]
  },
  {
   "cell_type": "markdown",
   "id": "be868006",
   "metadata": {},
   "source": [
    "### 2.1 Решающее дерево"
   ]
  },
  {
   "cell_type": "markdown",
   "id": "3e65e10c",
   "metadata": {},
   "source": [
    "Инициируем модель решающего дерева `DecisionTreeClassifier`.\n",
    "\n",
    "Выделим гиперпараметры для настройки модели:\n",
    "* `max_depth` - максимальная глубина древа\n",
    "* `min_samples_split` - минимальное количество объектов в узле\n",
    "* `min_samples_leaf` - минимальное количество объектов в листе\n",
    "\n",
    "Критерием проверки качества модели будет точность `accuracy`."
   ]
  },
  {
   "cell_type": "code",
   "execution_count": 8,
   "id": "66e6f3d6",
   "metadata": {},
   "outputs": [],
   "source": [
    "# в параметрах best_params и best_accuracy будем хранить наилучшие параметры для модели и наивысшую точность соответственно\n",
    "best_params = []\n",
    "best_accuracy = 0\n",
    "# проходим в циклах по всем выбранным гиперпараметрам\n",
    "for max_depth in range(2,10):\n",
    "    for min_samples_split in range(2,6):\n",
    "        for min_samples_leaf in range(1,10):\n",
    "            # инициация модели с текущими гиперпараметрами\n",
    "            model_dtc = DecisionTreeClassifier(random_state=1505,\n",
    "                                               max_depth=max_depth,\n",
    "                                               min_samples_split=min_samples_split,\n",
    "                                               min_samples_leaf=min_samples_leaf)\n",
    "            # обучение модели на тренировочной выборке\n",
    "            model_dtc.fit(features_train, target_train)\n",
    "            # поиск предсказаний модели на валидационной выбоке\n",
    "            predictions = model_dtc.predict(features_valid)\n",
    "            # вычисление точности модели методом accuracy_score\n",
    "            accuracy = accuracy_score(target_valid, predictions)\n",
    "            # если текущее значение точности выше предыдущего лучшего значения, \n",
    "            # сохраняем параметры модели и текущую точность\n",
    "            if accuracy > best_accuracy:\n",
    "                best_params = [max_depth, min_samples_split, min_samples_leaf]\n",
    "                best_accuracy = accuracy"
   ]
  },
  {
   "cell_type": "code",
   "execution_count": 9,
   "id": "a55fd1fc",
   "metadata": {},
   "outputs": [
    {
     "name": "stdout",
     "output_type": "stream",
     "text": [
      "Наилучшая точность: 0.8\n",
      "Парамтеры модели:\n",
      "   max_depth = 9\n",
      "   min_samples_split = 2\n",
      "   min_samples_leaf = 3\n"
     ]
    }
   ],
   "source": [
    "# вывод наилучшей точности и параметров модели.\n",
    "print('''Наилучшая точность: {}\n",
    "Парамтеры модели:\n",
    "   max_depth = {}\n",
    "   min_samples_split = {}\n",
    "   min_samples_leaf = {}'''.format(round(best_accuracy, 2),\n",
    "                             best_params[0],\n",
    "                             best_params[1],\n",
    "                             best_params[2],\n",
    "                            ))"
   ]
  },
  {
   "cell_type": "markdown",
   "id": "b8563e12",
   "metadata": {},
   "source": [
    "Данная модель уже удовлетворяет условиям технического задания. Попробуем улучшить результат с другими моделями."
   ]
  },
  {
   "cell_type": "markdown",
   "id": "78c19a77",
   "metadata": {},
   "source": [
    "### 2.2 Случайный лес"
   ]
  },
  {
   "cell_type": "markdown",
   "id": "9163911e",
   "metadata": {},
   "source": [
    "Инициируем модель случайного леса `RandomForestClassifier`.\n",
    "\n",
    "Выделим гиперпараметры для настройки модели:\n",
    "* `n_estimators` - количество деревьев\n",
    "* `max_depth` - максимальная глубина древа\n",
    "* `min_samples_split` - минимальное количество объектов в узле\n",
    "* `min_samples_leaf` - минимальное количество объектов в листе\n",
    "\n",
    "Критерием проверки качества модели будет точность `accuracy`."
   ]
  },
  {
   "cell_type": "code",
   "execution_count": 10,
   "id": "ddc9ab2c",
   "metadata": {},
   "outputs": [],
   "source": [
    "# в параметрах best_params и best_accuracy будем хранить наилучшие параметры для модели и наивысшую точность соответственно\n",
    "best_params = []\n",
    "best_accuracy = 0\n",
    "# проходим в циклах по всем выбранным гиперпараметрам\n",
    "for n_estimators in (1,10):\n",
    "    for max_depth in range(2,10):\n",
    "        for min_samples_split in range(2,10):\n",
    "            for min_samples_leaf in range(1,8):\n",
    "                # инициация модели с текущими гиперпараметрами\n",
    "                model_rfc = RandomForestClassifier(random_state=1505,\n",
    "                                                      n_estimators=n_estimators,\n",
    "                                                      max_depth=max_depth,\n",
    "                                                      min_samples_split=min_samples_split,\n",
    "                                                      min_samples_leaf=min_samples_leaf)\n",
    "                # обучение модели на тренировочной выборке\n",
    "                model_rfc.fit(features_train, target_train)\n",
    "                # поиск предсказаний модели на валидационной выбоке\n",
    "                predictions = model_rfc.predict(features_valid)\n",
    "                # вычисление точности модели методом accuracy_score\n",
    "                accuracy = accuracy_score(target_valid, predictions)\n",
    "                # если текущее значение точности выше предыдущего лучшего значения, \n",
    "                # сохраняем параметры модели и текущую точность\n",
    "                if accuracy > best_accuracy:\n",
    "                    best_params = [n_estimators, max_depth, min_samples_split, min_samples_leaf]\n",
    "                    best_accuracy = accuracy"
   ]
  },
  {
   "cell_type": "code",
   "execution_count": 11,
   "id": "97a232dd",
   "metadata": {},
   "outputs": [
    {
     "name": "stdout",
     "output_type": "stream",
     "text": [
      "Наилучшая точность: 0.82\n",
      "Парамтеры модели:\n",
      "   n_estimators = 10\n",
      "   max_depth = 9\n",
      "   min_samples_split = 7\n",
      "   min_samples_leaf = 1\n"
     ]
    }
   ],
   "source": [
    "# вывод наилучшей точности и параметров модели.\n",
    "print('''Наилучшая точность: {}\n",
    "Парамтеры модели:\n",
    "   n_estimators = {}\n",
    "   max_depth = {}\n",
    "   min_samples_split = {}\n",
    "   min_samples_leaf = {}'''.format(round(best_accuracy, 2),\n",
    "                             best_params[0],\n",
    "                             best_params[1],\n",
    "                             best_params[2],\n",
    "                             best_params[3],\n",
    "                            ))"
   ]
  },
  {
   "cell_type": "markdown",
   "id": "7c597557",
   "metadata": {},
   "source": [
    "Точность в модели случайного леса удалось увеличить на 2% по сравнению с решающим деревом."
   ]
  },
  {
   "cell_type": "markdown",
   "id": "61139360",
   "metadata": {},
   "source": [
    "### 2.3 Логистическая регрессия"
   ]
  },
  {
   "cell_type": "markdown",
   "id": "96126e90",
   "metadata": {},
   "source": [
    "Инициируем модель логистической регрессии `LogisticRegression`.\n",
    "\n",
    "Выделим гиперпараметры для настройки модели:\n",
    "* `solver` - алгоритм построения модели\n",
    "\n",
    "Критерием проверки качества модели будет точность `accuracy`."
   ]
  },
  {
   "cell_type": "code",
   "execution_count": 12,
   "id": "2ee1e5a6",
   "metadata": {},
   "outputs": [],
   "source": [
    "model_lrc = LogisticRegression(random_state=1505, solver='lbfgs')\n",
    "# обучение модели на тренировочной выборке\n",
    "model_lrc.fit(features_train, target_train)\n",
    "# поиск предсказаний модели на валидационной выбоке\n",
    "predictions = model_lrc.predict(features_valid)\n",
    "# вычисление точности модели методом accuracy_score\n",
    "accuracy = accuracy_score(target_valid, predictions)"
   ]
  },
  {
   "cell_type": "code",
   "execution_count": 13,
   "id": "4f809e71",
   "metadata": {},
   "outputs": [
    {
     "name": "stdout",
     "output_type": "stream",
     "text": [
      "Наилучшая точность: 0.74\n",
      "Парамтеры модели:\n",
      "   solver = 'lbfgs'\n"
     ]
    }
   ],
   "source": [
    "# вывод наилучшей точности и параметров модели.\n",
    "print(\"\"\"Наилучшая точность: {}\n",
    "Парамтеры модели:\n",
    "   solver = 'lbfgs'\"\"\".format(round(accuracy, 2)))"
   ]
  },
  {
   "cell_type": "markdown",
   "id": "14202271",
   "metadata": {},
   "source": [
    "Логистическая регрессия даёт более низкую точность, чем решающее дерево и случайный лес."
   ]
  },
  {
   "cell_type": "markdown",
   "id": "81734583",
   "metadata": {},
   "source": [
    "### 2.4 Проверка модели на тестовой выборке"
   ]
  },
  {
   "cell_type": "markdown",
   "id": "48baccbd",
   "metadata": {},
   "source": [
    "По критерию `accuracy` наилучшей точности удалось достичь с моделью Случайного леса\n",
    "\n",
    "Наилучшая точность: **0.82**\n",
    "\n",
    "Парамтеры модели: \n",
    "* n_estimators = 10\n",
    "* max_depth = 9\n",
    "* min_samples_split = 7\n",
    "* min_samples_leaf = 1\n",
    "\n",
    "Проведём обучение данной модели на всех доступных данных (обучающие + валидационные) и вычислим точность на тестовой выборке."
   ]
  },
  {
   "cell_type": "code",
   "execution_count": 14,
   "id": "77a2716f",
   "metadata": {},
   "outputs": [],
   "source": [
    "features_merged = features_train.append(features_valid)\n",
    "target_merged = target_train.append(target_valid)"
   ]
  },
  {
   "cell_type": "code",
   "execution_count": 15,
   "id": "ed334393",
   "metadata": {},
   "outputs": [
    {
     "name": "stdout",
     "output_type": "stream",
     "text": [
      "Точность модели на тестовой выборке: 0.8\n"
     ]
    }
   ],
   "source": [
    "model_rfc = RandomForestClassifier(random_state=1505,\n",
    "                                   n_estimators=10,\n",
    "                                   max_depth=9,\n",
    "                                   min_samples_split=7,\n",
    "                                   min_samples_leaf=1)\n",
    "model_rfc.fit(features_merged, target_merged)\n",
    "predictions = model_rfc.predict(features_test)\n",
    "accuracy = accuracy_score(target_test, predictions)\n",
    "print('Точность модели на тестовой выборке: {}'.format(round(accuracy, 2)))"
   ]
  },
  {
   "cell_type": "markdown",
   "id": "7eebb47e",
   "metadata": {},
   "source": [
    "**Выводы**\n",
    "\n",
    "* Были проанализированы различные классификационные модели: Решающее дерево, Случайный лес, Логистическая регрессия.\n",
    "* Каждая модель была обучена для различных сочетаний гиперпараметров, выведены наилучшие варианты для каждой модели.\n",
    "* Наилучшая доля правильных ответов (accuracy) была достигнута для модели Случайного леса:\n",
    "    * `Accuracy` на валидационной выборке: **0.82**\n",
    "    * `Accuracy` на тестовой выборке: **0.80**\n",
    "    * На тестовой выборке значение `Accuracy` упало на **0.02**"
   ]
  },
  {
   "cell_type": "markdown",
   "id": "2f78e286",
   "metadata": {},
   "source": [
    "## 5. Проверка вменяемости модели"
   ]
  },
  {
   "cell_type": "markdown",
   "id": "f85818fc",
   "metadata": {},
   "source": [
    "Проверим модель на адекватность двумя способами.\n",
    "\n",
    "**1)** Для проверки адекватности модели сравним точность её предсказания с точностью константы:"
   ]
  },
  {
   "cell_type": "code",
   "execution_count": 16,
   "id": "9b777661",
   "metadata": {},
   "outputs": [
    {
     "name": "stdout",
     "output_type": "stream",
     "text": [
      "Модель адекватна\n"
     ]
    }
   ],
   "source": [
    "const = (users['is_ultra'].value_counts() / users.shape[0]).loc[0]\n",
    "if const < 0.79:\n",
    "    print('Модель адекватна')\n",
    "else:\n",
    "    print('Модель неадекватна')"
   ]
  },
  {
   "cell_type": "markdown",
   "id": "36f8bfa5",
   "metadata": {},
   "source": [
    "**2)** По другой версии, чтобы оценить адекватность модели в задачах классификации, нужно сравнить её со случайной.\n",
    "\n",
    "У нас есть два значения целевого признака `is_ultra` - 1 и 0. Если бы модель предсказывала одно из двух чисел случайным образом, значение ее точности было бы **0.5**. С моделью `RandomForestClassifier` мы добились точности **0.8**, что гораздо выше.\n",
    "\n",
    "Следовательно, модель прошла проверку на адекватность."
   ]
  },
  {
   "cell_type": "markdown",
   "id": "68834d71",
   "metadata": {},
   "source": [
    "## 6. Общий вывод"
   ]
  },
  {
   "cell_type": "markdown",
   "id": "40d82829",
   "metadata": {},
   "source": [
    "**1)** Данные успешно загружены и проанализированы.\n",
    "Пропусков не обнаружено, типы данных преобразованы в соответствии с хранимой информацией.\n",
    "\n",
    "**2)** Были проанализированы различные классификационные модели: Решающее дерево, Случайный лес, Логистическая регрессия. Модели обучены на различных сочетаниях гиперпараметров.\n",
    "\n",
    "* Наилучшая точность (accuracy) была достигнута для модели Случайного леса:\n",
    "    * `Accuracy` на тестовой выборке: **0.8**\n",
    "\n",
    "**3)** Точность Модели 'Случайный лес' была проанализирована двумя способами:\n",
    "* сравнение с константой;\n",
    "* сравнение со случайной моделью.\n",
    "\n",
    "В обоих случаях модель прошла проверку на адекватность."
   ]
  }
 ],
 "metadata": {
  "kernelspec": {
   "display_name": "Python 3.10.5 64-bit",
   "language": "python",
   "name": "python3"
  },
  "language_info": {
   "codemirror_mode": {
    "name": "ipython",
    "version": 3
   },
   "file_extension": ".py",
   "mimetype": "text/x-python",
   "name": "python",
   "nbconvert_exporter": "python",
   "pygments_lexer": "ipython3",
   "version": "3.10.5"
  },
  "toc": {
   "base_numbering": 1,
   "nav_menu": {},
   "number_sections": true,
   "sideBar": true,
   "skip_h1_title": true,
   "title_cell": "Table of Contents",
   "title_sidebar": "Contents",
   "toc_cell": true,
   "toc_position": {},
   "toc_section_display": true,
   "toc_window_display": true
  },
  "vscode": {
   "interpreter": {
    "hash": "62108d3bcabba50a5551c94be0c58944c48365daffc285bf9efbbaced917d542"
   }
  }
 },
 "nbformat": 4,
 "nbformat_minor": 5
}
